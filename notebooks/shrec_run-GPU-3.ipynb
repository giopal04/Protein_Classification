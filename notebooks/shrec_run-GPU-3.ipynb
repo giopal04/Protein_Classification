{
 "cells": [
  {
   "cell_type": "markdown",
   "metadata": {},
   "source": [
    "## PointNet to Classify Proteins"
   ]
  },
  {
   "cell_type": "markdown",
   "metadata": {},
   "source": [
    "### Dataset study"
   ]
  },
  {
   "cell_type": "code",
   "execution_count": 2,
   "metadata": {},
   "outputs": [
    {
     "name": "stdout",
     "output_type": "stream",
     "text": [
      "['8ugd_8:R:3U_model1.vtk', '8h0v_18:R:c_model1.vtk', '3j3q_1:DX:4F_model1.vtk', '4u4u_23:XC:d1_model1.vtk', '6rny_4:H:H_model1.vtk']\n",
      "\n",
      "<class 'pandas.core.frame.DataFrame'>\n",
      "Index: 9244 entries, 0 to 9243\n",
      "Data columns (total 3 columns):\n",
      " #   Column            Non-Null Count  Dtype \n",
      "---  ------            --------------  ----- \n",
      " 0   protein_id        9244 non-null   object\n",
      " 1   class_id          9244 non-null   int64 \n",
      " 2   number_of_points  9244 non-null   int64 \n",
      "dtypes: int64(2), object(1)\n",
      "memory usage: 288.9+ KB\n",
      "None\n"
     ]
    },
    {
     "data": {
      "text/html": [
       "<div>\n",
       "<style scoped>\n",
       "    .dataframe tbody tr th:only-of-type {\n",
       "        vertical-align: middle;\n",
       "    }\n",
       "\n",
       "    .dataframe tbody tr th {\n",
       "        vertical-align: top;\n",
       "    }\n",
       "\n",
       "    .dataframe thead th {\n",
       "        text-align: right;\n",
       "    }\n",
       "</style>\n",
       "<table border=\"1\" class=\"dataframe\">\n",
       "  <thead>\n",
       "    <tr style=\"text-align: right;\">\n",
       "      <th></th>\n",
       "      <th>protein_id</th>\n",
       "      <th>class_id</th>\n",
       "      <th>number_of_points</th>\n",
       "    </tr>\n",
       "  </thead>\n",
       "  <tbody>\n",
       "    <tr>\n",
       "      <th>0</th>\n",
       "      <td>8ugd_8:R:3U_model1</td>\n",
       "      <td>96</td>\n",
       "      <td>5916</td>\n",
       "    </tr>\n",
       "    <tr>\n",
       "      <th>1</th>\n",
       "      <td>8h0v_18:R:c_model1</td>\n",
       "      <td>86</td>\n",
       "      <td>10078</td>\n",
       "    </tr>\n",
       "    <tr>\n",
       "      <th>2</th>\n",
       "      <td>3j3q_1:DX:4F_model1</td>\n",
       "      <td>8</td>\n",
       "      <td>18432</td>\n",
       "    </tr>\n",
       "    <tr>\n",
       "      <th>3</th>\n",
       "      <td>4u4u_23:XC:d1_model1</td>\n",
       "      <td>83</td>\n",
       "      <td>8242</td>\n",
       "    </tr>\n",
       "    <tr>\n",
       "      <th>4</th>\n",
       "      <td>6rny_4:H:H_model1</td>\n",
       "      <td>34</td>\n",
       "      <td>9204</td>\n",
       "    </tr>\n",
       "    <tr>\n",
       "      <th>...</th>\n",
       "      <td>...</td>\n",
       "      <td>...</td>\n",
       "      <td>...</td>\n",
       "    </tr>\n",
       "    <tr>\n",
       "      <th>9239</th>\n",
       "      <td>3j3y_1:HL:6R_model1</td>\n",
       "      <td>8</td>\n",
       "      <td>18342</td>\n",
       "    </tr>\n",
       "    <tr>\n",
       "      <th>9240</th>\n",
       "      <td>4u4y_15:O:C3_model1</td>\n",
       "      <td>91</td>\n",
       "      <td>12976</td>\n",
       "    </tr>\n",
       "    <tr>\n",
       "      <th>9241</th>\n",
       "      <td>7w31_26:AA:c_model1</td>\n",
       "      <td>18</td>\n",
       "      <td>16454</td>\n",
       "    </tr>\n",
       "    <tr>\n",
       "      <th>9242</th>\n",
       "      <td>3j4k_1:E:E_model1</td>\n",
       "      <td>90</td>\n",
       "      <td>23188</td>\n",
       "    </tr>\n",
       "    <tr>\n",
       "      <th>9243</th>\n",
       "      <td>3j3y_1:UIA:fE_model1</td>\n",
       "      <td>8</td>\n",
       "      <td>17888</td>\n",
       "    </tr>\n",
       "  </tbody>\n",
       "</table>\n",
       "<p>9244 rows × 3 columns</p>\n",
       "</div>"
      ],
      "text/plain": [
       "                protein_id  class_id  number_of_points\n",
       "0       8ugd_8:R:3U_model1        96              5916\n",
       "1       8h0v_18:R:c_model1        86             10078\n",
       "2      3j3q_1:DX:4F_model1         8             18432\n",
       "3     4u4u_23:XC:d1_model1        83              8242\n",
       "4        6rny_4:H:H_model1        34              9204\n",
       "...                    ...       ...               ...\n",
       "9239   3j3y_1:HL:6R_model1         8             18342\n",
       "9240   4u4y_15:O:C3_model1        91             12976\n",
       "9241   7w31_26:AA:c_model1        18             16454\n",
       "9242     3j4k_1:E:E_model1        90             23188\n",
       "9243  3j3y_1:UIA:fE_model1         8             17888\n",
       "\n",
       "[9244 rows x 3 columns]"
      ]
     },
     "execution_count": 2,
     "metadata": {},
     "output_type": "execute_result"
    }
   ],
   "source": [
    "# Getting the data\n",
    "import os\n",
    "\n",
    "#os.environ[\"CUDA_VISIBLE_DEVICES\"] = \"1\"\n",
    "\n",
    "import sys\n",
    "\n",
    "home_path = '/home/giorgio/venvs/SHREC'\n",
    "if home_path not in sys.path:\n",
    "    sys.path.append(home_path)\n",
    "\n",
    "from pandas import DataFrame\n",
    "import pandas as pd\n",
    "\n",
    "from pathlib import Path\n",
    "\n",
    "from datasetStudy import *\n",
    "\n",
    "debug_pointnet = False\n",
    "\n",
    "# Multiple function here depends on thi variable\n",
    "#root = '/mnt/dataset/shrec-2025-protein-classification/v2-20250331' \n",
    "base_path = Path('/mnt/')\n",
    "#base_path = Path('/mnt/raid1')\n",
    "root = base_path / 'dataset/shrec-2025-protein-classification/v2-20250331'\n",
    "\n",
    "#train_data = os.listdir(os.path.join(root, 'train'))\n",
    "#train_data_cls = pd.read_csv('datasets/train_set-all.csv', sep=',', index_col=0)\n",
    "\n",
    "train_data = os.listdir(root / 'train')\n",
    "train_data_cls = pd.read_csv('../datasets/train_set-all.csv', sep=',', index_col=0)\n",
    "\n",
    "print(train_data[:5])\n",
    "print()\n",
    "print(train_data_cls.info())\n",
    "train_data_cls"
   ]
  },
  {
   "cell_type": "code",
   "execution_count": 3,
   "metadata": {},
   "outputs": [],
   "source": [
    "src = root / 'train-xz'\n",
    "mountpoint = '/tmp/ramdrive'\n",
    "size_in_gb = 3\n",
    "\n",
    "def create_ramdrive(src, mountpoint, size_in_gb):\n",
    "    if Path(mountpoint).exists() or Path(mountpoint).is_dir():\n",
    "        print(f'Ramdrive already created, exiting...')\n",
    "        return\n",
    "    \n",
    "    !sudo mkdir -p \"{mountpoint}\"\n",
    "    !sudo mount -o size=\"{size_in_gb}\"G -t tmpfs none \"{mountpoint}\"\n",
    "    !rsync -a --progress \"{src}\" \"{mountpoint}\"\n",
    "    \n",
    "def unmount_ramdrive(mountpoint):\n",
    "    !sudo umount \"{mountpoint}\"\n",
    "    !sudo rmdir \"{mountpoint}\""
   ]
  },
  {
   "cell_type": "code",
   "execution_count": 4,
   "metadata": {},
   "outputs": [
    {
     "name": "stdout",
     "output_type": "stream",
     "text": [
      "Ramdrive already created, exiting...\n"
     ]
    }
   ],
   "source": [
    "create_ramdrive(src, mountpoint, size_in_gb)\n",
    "#unmount_ramdrive(mountpoint)"
   ]
  },
  {
   "cell_type": "code",
   "execution_count": 5,
   "metadata": {},
   "outputs": [
    {
     "data": {
      "text/html": [
       "<div>\n",
       "<style scoped>\n",
       "    .dataframe tbody tr th:only-of-type {\n",
       "        vertical-align: middle;\n",
       "    }\n",
       "\n",
       "    .dataframe tbody tr th {\n",
       "        vertical-align: top;\n",
       "    }\n",
       "\n",
       "    .dataframe thead th {\n",
       "        text-align: right;\n",
       "    }\n",
       "</style>\n",
       "<table border=\"1\" class=\"dataframe\">\n",
       "  <thead>\n",
       "    <tr style=\"text-align: right;\">\n",
       "      <th></th>\n",
       "      <th>protein_id</th>\n",
       "      <th>class_id</th>\n",
       "      <th>number_of_points</th>\n",
       "    </tr>\n",
       "  </thead>\n",
       "  <tbody>\n",
       "  </tbody>\n",
       "</table>\n",
       "</div>"
      ],
      "text/plain": [
       "Empty DataFrame\n",
       "Columns: [protein_id, class_id, number_of_points]\n",
       "Index: []"
      ]
     },
     "execution_count": 5,
     "metadata": {},
     "output_type": "execute_result"
    }
   ],
   "source": [
    "possible_disconnected_mesh(train_data_cls, 96, False)\n",
    "\n",
    "disconnected_dict = {}\n",
    "for idx in range(97):\n",
    "    disconnected_dict[idx] = possible_disconnected_mesh(train_data_cls, idx)\n",
    "\n",
    "#print(disconnected_dict)\n",
    "\n",
    "_, damaged = possible_disconnected_mesh(train_data_cls, 8, True); damaged"
   ]
  },
  {
   "cell_type": "code",
   "execution_count": 6,
   "metadata": {},
   "outputs": [
    {
     "name": "stdout",
     "output_type": "stream",
     "text": [
      "Classes which have between 0 and 5 element: 16/97\n"
     ]
    }
   ],
   "source": [
    "dist = cls_distribution(train_data_cls)\n",
    "inspect_distribution(dist, l_lim=0, u_lim=5)"
   ]
  },
  {
   "cell_type": "code",
   "execution_count": 7,
   "metadata": {},
   "outputs": [
    {
     "name": "stdout",
     "output_type": "stream",
     "text": [
      "cls 0: 101\t101\t101\t0\t0\t101\t101\t\n",
      "cls 1: 3\t3\t0\t0\t0\t0\t3\t\n",
      "cls 2: 17\t17\t17\t17\t17\t0\t17\t\n",
      "cls 3: 21\t21\t21\t21\t21\t0\t21\t\n",
      "cls 4: 15\t15\t15\t15\t15\t0\t15\t\n",
      "cls 5: 127\t127\t127\t0\t0\t127\t127\t\n",
      "cls 6: 25\t25\t25\t25\t25\t0\t25\t\n",
      "cls 7: 75\t75\t75\t75\t0\t0\t75\t\n",
      "cls 8: 2054\t2054\t2054\t0\t0\t2054\t0\t\n",
      "cls 9: 66\t66\t66\t66\t0\t0\t66\t\n",
      "cls 10: 14\t14\t14\t14\t14\t0\t14\t\n",
      "cls 11: 43\t43\t43\t43\t43\t0\t43\t\n",
      "cls 12: 10\t10\t10\t10\t10\t0\t10\t\n",
      "cls 13: 22\t22\t22\t22\t22\t0\t22\t\n",
      "cls 14: 489\t489\t489\t0\t0\t489\t0\t\n",
      "cls 15: 89\t89\t89\t89\t0\t0\t89\t\n",
      "cls 16: 154\t154\t154\t0\t0\t154\t154\t\n",
      "cls 17: 116\t116\t116\t0\t0\t116\t116\t\n",
      "cls 18: 76\t76\t76\t76\t0\t0\t76\t\n",
      "cls 19: 42\t42\t42\t42\t42\t0\t42\t\n",
      "cls 20: 7\t7\t0\t0\t0\t0\t7\t\n",
      "cls 21: 74\t74\t74\t74\t0\t0\t74\t\n",
      "cls 22: 58\t58\t58\t58\t0\t0\t58\t\n",
      "cls 23: 10\t10\t10\t10\t10\t0\t10\t\n",
      "cls 24: 10\t10\t10\t10\t10\t0\t10\t\n",
      "cls 25: 143\t143\t143\t0\t0\t143\t143\t\n",
      "cls 26: 2\t2\t0\t0\t0\t0\t2\t\n",
      "cls 27: 3\t3\t0\t0\t0\t0\t3\t\n",
      "cls 28: 18\t18\t18\t18\t18\t0\t18\t\n",
      "cls 29: 14\t14\t14\t14\t14\t0\t14\t\n",
      "cls 30: 3\t3\t0\t0\t0\t0\t3\t\n",
      "cls 31: 33\t33\t33\t33\t33\t0\t33\t\n",
      "cls 32: 93\t93\t93\t93\t0\t0\t93\t\n",
      "cls 33: 126\t126\t126\t0\t0\t126\t126\t\n",
      "cls 34: 73\t73\t73\t73\t0\t0\t73\t\n",
      "cls 35: 23\t23\t23\t23\t23\t0\t23\t\n",
      "cls 36: 8\t8\t0\t0\t0\t0\t8\t\n",
      "cls 37: 119\t119\t119\t0\t0\t119\t119\t\n",
      "cls 38: 34\t34\t34\t34\t34\t0\t34\t\n",
      "cls 39: 19\t19\t19\t19\t19\t0\t19\t\n",
      "cls 40: 95\t95\t95\t95\t0\t0\t95\t\n",
      "cls 41: 95\t95\t95\t95\t0\t0\t95\t\n",
      "cls 42: 2\t2\t0\t0\t0\t0\t2\t\n",
      "cls 43: 70\t70\t70\t70\t0\t0\t70\t\n",
      "cls 44: 2\t2\t0\t0\t0\t0\t2\t\n",
      "cls 45: 109\t109\t109\t0\t0\t109\t109\t\n",
      "cls 46: 44\t44\t44\t44\t44\t0\t44\t\n",
      "cls 47: 37\t37\t37\t37\t37\t0\t37\t\n",
      "cls 48: 27\t27\t27\t27\t27\t0\t27\t\n",
      "cls 49: 49\t49\t49\t49\t49\t0\t49\t\n",
      "cls 50: 2\t2\t0\t0\t0\t0\t2\t\n",
      "cls 51: 71\t71\t71\t71\t0\t0\t71\t\n",
      "cls 52: 76\t76\t76\t76\t0\t0\t76\t\n",
      "cls 53: 53\t53\t53\t53\t0\t0\t53\t\n",
      "cls 54: 128\t128\t128\t0\t0\t128\t128\t\n",
      "cls 55: 26\t26\t26\t26\t26\t0\t26\t\n",
      "cls 56: 654\t654\t654\t0\t0\t654\t0\t\n",
      "cls 57: 9\t9\t0\t0\t0\t0\t9\t\n",
      "cls 58: 2\t2\t0\t0\t0\t0\t2\t\n",
      "cls 59: 54\t54\t54\t54\t0\t0\t54\t\n",
      "cls 60: 73\t73\t73\t73\t0\t0\t73\t\n",
      "cls 61: 240\t240\t240\t0\t0\t240\t240\t\n",
      "cls 62: 135\t135\t135\t0\t0\t135\t135\t\n",
      "cls 63: 2\t2\t0\t0\t0\t0\t2\t\n",
      "cls 64: 57\t57\t57\t57\t0\t0\t57\t\n",
      "cls 65: 10\t10\t10\t10\t10\t0\t10\t\n",
      "cls 66: 54\t54\t54\t54\t0\t0\t54\t\n",
      "cls 67: 17\t17\t17\t17\t17\t0\t17\t\n",
      "cls 68: 5\t5\t0\t0\t0\t0\t5\t\n",
      "cls 69: 80\t80\t80\t80\t0\t0\t80\t\n",
      "cls 70: 223\t223\t223\t0\t0\t223\t223\t\n",
      "cls 71: 102\t102\t102\t0\t0\t102\t102\t\n",
      "cls 72: 2\t2\t0\t0\t0\t0\t2\t\n",
      "cls 73: 6\t6\t0\t0\t0\t0\t6\t\n",
      "cls 74: 150\t150\t150\t0\t0\t150\t150\t\n",
      "cls 75: 69\t69\t69\t69\t0\t0\t69\t\n",
      "cls 76: 10\t10\t10\t10\t10\t0\t10\t\n",
      "cls 77: 2\t2\t0\t0\t0\t0\t2\t\n",
      "cls 78: 5\t5\t0\t0\t0\t0\t5\t\n",
      "cls 79: 78\t78\t78\t78\t0\t0\t78\t\n",
      "cls 80: 57\t57\t57\t57\t0\t0\t57\t\n",
      "cls 81: 58\t58\t58\t58\t0\t0\t58\t\n",
      "cls 82: 2\t2\t0\t0\t0\t0\t2\t\n",
      "cls 83: 115\t115\t115\t0\t0\t115\t115\t\n",
      "cls 84: 18\t18\t18\t18\t18\t0\t18\t\n",
      "cls 85: 49\t49\t49\t49\t49\t0\t49\t\n",
      "cls 86: 203\t203\t203\t0\t0\t203\t203\t\n",
      "cls 87: 103\t103\t103\t0\t0\t103\t103\t\n",
      "cls 88: 97\t97\t97\t97\t0\t0\t97\t\n",
      "cls 89: 3\t3\t0\t0\t0\t0\t3\t\n",
      "cls 90: 788\t788\t788\t0\t0\t788\t0\t\n",
      "cls 91: 118\t118\t118\t0\t0\t118\t118\t\n",
      "cls 92: 129\t129\t129\t0\t0\t129\t129\t\n",
      "cls 93: 61\t61\t61\t61\t0\t0\t61\t\n",
      "cls 94: 52\t52\t52\t52\t0\t0\t52\t\n",
      "cls 95: 2\t2\t0\t0\t0\t0\t2\t\n",
      "cls 96: 35\t35\t35\t35\t35\t0\t35\t\n",
      "len(train_data_cls) = 9244\n",
      "len(raw_train_dataframe_f1) = 9244\n",
      "len(raw_train_dataframe_f2) = 9172\n",
      "len(raw_train_dataframe_f3) = 2546\n",
      "len(raw_train_dataframe_f4) = 692\n",
      "len(raw_train_dataframe_f5) = 6626\n"
     ]
    }
   ],
   "source": [
    "dist_all = cls_distribution(train_data_cls)\n",
    "\n",
    "# Filter the number of points\n",
    "raw_train_dataframe_f1 = number_of_point_filter(train_data_cls, 1000)\n",
    "dist_f1 = cls_distribution(raw_train_dataframe_f1)\n",
    "\n",
    "\n",
    "# Filter according to the number of samples in classes\n",
    "raw_train_dataframe_f2 = number_of_class_filter(raw_train_dataframe_f1, l_cut_off=10)\n",
    "dist_f2 = cls_distribution(raw_train_dataframe_f2)\n",
    "\n",
    "raw_train_dataframe_f3 = number_of_class_filter(raw_train_dataframe_f1, l_cut_off=10, u_cut_off=100)\n",
    "dist_f3 = cls_distribution(raw_train_dataframe_f3)\n",
    "\n",
    "raw_train_dataframe_f4 = number_of_class_filter(raw_train_dataframe_f1, l_cut_off=10, u_cut_off=50)\n",
    "dist_f4 = cls_distribution(raw_train_dataframe_f4)\n",
    "\n",
    "raw_train_dataframe_f5 = number_of_class_filter(raw_train_dataframe_f1, l_cut_off=100)\n",
    "dist_f5 = cls_distribution(raw_train_dataframe_f5)\n",
    "\n",
    "raw_train_dataframe_f6 = number_of_class_filter(raw_train_dataframe_f1, l_cut_off=0, u_cut_off=450)\n",
    "dist_f6 = cls_distribution(raw_train_dataframe_f6)\n",
    "\n",
    "distributions = [dist_all, dist_f1, dist_f2, dist_f3, dist_f4, dist_f5, dist_f6]\n",
    "for idx in range(len(dist_all)):\n",
    "    output = f'cls {idx}: '\n",
    "    for dist in distributions:\n",
    "        output += f'{print_dist(dist, idx)}\\t'\n",
    "    print(output)\n",
    "\n",
    "print(f'{len(train_data_cls) = }')\n",
    "print(f'{len(raw_train_dataframe_f1) = }')\n",
    "print(f'{len(raw_train_dataframe_f2) = }')\n",
    "print(f'{len(raw_train_dataframe_f3) = }')\n",
    "print(f'{len(raw_train_dataframe_f4) = }')\n",
    "print(f'{len(raw_train_dataframe_f5) = }')"
   ]
  },
  {
   "cell_type": "code",
   "execution_count": 8,
   "metadata": {},
   "outputs": [
    {
     "name": "stdout",
     "output_type": "stream",
     "text": [
      "93 [0, 1, 2, 3, 4, 5, 6, 7, 9, 10, 11, 12, 13, 15, 16, 17, 18, 19, 20, 21, 22, 23, 24, 25, 26, 27, 28, 29, 30, 31, 32, 33, 34, 35, 36, 37, 38, 39, 40, 41, 42, 43, 44, 45, 46, 47, 48, 49, 50, 51, 52, 53, 54, 55, 57, 58, 59, 60, 61, 62, 63, 64, 65, 66, 67, 68, 69, 70, 71, 72, 73, 74, 75, 76, 77, 78, 79, 80, 81, 82, 83, 84, 85, 86, 87, 88, 89, 91, 92, 93, 94, 95, 96]\n"
     ]
    }
   ],
   "source": [
    "dist_f6_available_classes = []\n",
    "for key,value in dist_f6.items():\n",
    "    if value:\n",
    "        dist_f6_available_classes.append(key)\n",
    "print(len(dist_f6_available_classes), dist_f6_available_classes)"
   ]
  },
  {
   "cell_type": "code",
   "execution_count": 9,
   "metadata": {},
   "outputs": [],
   "source": [
    "symmetria_flist = list((root / 'train-symmetria-xz').glob('*.xz'))\n",
    "symmetria_flist = [(fpath.name[3:-3], fpath.name[0:2], None) for fpath in symmetria_flist]"
   ]
  },
  {
   "cell_type": "code",
   "execution_count": 10,
   "metadata": {},
   "outputs": [],
   "source": [
    "symmetria_df = pd.DataFrame(symmetria_flist, columns=['protein_id', 'class_id', 'number_of_points'])"
   ]
  },
  {
   "cell_type": "code",
   "execution_count": 11,
   "metadata": {},
   "outputs": [
    {
     "data": {
      "text/html": [
       "<div>\n",
       "<style scoped>\n",
       "    .dataframe tbody tr th:only-of-type {\n",
       "        vertical-align: middle;\n",
       "    }\n",
       "\n",
       "    .dataframe tbody tr th {\n",
       "        vertical-align: top;\n",
       "    }\n",
       "\n",
       "    .dataframe thead th {\n",
       "        text-align: right;\n",
       "    }\n",
       "</style>\n",
       "<table border=\"1\" class=\"dataframe\">\n",
       "  <thead>\n",
       "    <tr style=\"text-align: right;\">\n",
       "      <th></th>\n",
       "      <th>protein_id</th>\n",
       "      <th>class_id</th>\n",
       "      <th>number_of_points</th>\n",
       "    </tr>\n",
       "  </thead>\n",
       "  <tbody>\n",
       "    <tr>\n",
       "      <th>0</th>\n",
       "      <td>000002-astroid-clean</td>\n",
       "      <td>00</td>\n",
       "      <td>None</td>\n",
       "    </tr>\n",
       "    <tr>\n",
       "      <th>1</th>\n",
       "      <td>000011-astroid-gaussian</td>\n",
       "      <td>00</td>\n",
       "      <td>None</td>\n",
       "    </tr>\n",
       "    <tr>\n",
       "      <th>2</th>\n",
       "      <td>000012-astroid-gaussian</td>\n",
       "      <td>00</td>\n",
       "      <td>None</td>\n",
       "    </tr>\n",
       "    <tr>\n",
       "      <th>3</th>\n",
       "      <td>000021-astroid-undersampling+gaussian</td>\n",
       "      <td>00</td>\n",
       "      <td>None</td>\n",
       "    </tr>\n",
       "    <tr>\n",
       "      <th>4</th>\n",
       "      <td>000032-astroid-gaussian</td>\n",
       "      <td>00</td>\n",
       "      <td>None</td>\n",
       "    </tr>\n",
       "    <tr>\n",
       "      <th>...</th>\n",
       "      <td>...</td>\n",
       "      <td>...</td>\n",
       "      <td>...</td>\n",
       "    </tr>\n",
       "    <tr>\n",
       "      <th>20100</th>\n",
       "      <td>099907-citrus-undersampling+gaussian</td>\n",
       "      <td>01</td>\n",
       "      <td>None</td>\n",
       "    </tr>\n",
       "    <tr>\n",
       "      <th>20101</th>\n",
       "      <td>099922-citrus-gaussian</td>\n",
       "      <td>01</td>\n",
       "      <td>None</td>\n",
       "    </tr>\n",
       "    <tr>\n",
       "      <th>20102</th>\n",
       "      <td>099957-citrus-undersampling</td>\n",
       "      <td>01</td>\n",
       "      <td>None</td>\n",
       "    </tr>\n",
       "    <tr>\n",
       "      <th>20103</th>\n",
       "      <td>099976-citrus-gaussian</td>\n",
       "      <td>01</td>\n",
       "      <td>None</td>\n",
       "    </tr>\n",
       "    <tr>\n",
       "      <th>20104</th>\n",
       "      <td>099991-citrus-undersampling</td>\n",
       "      <td>01</td>\n",
       "      <td>None</td>\n",
       "    </tr>\n",
       "  </tbody>\n",
       "</table>\n",
       "<p>20105 rows × 3 columns</p>\n",
       "</div>"
      ],
      "text/plain": [
       "                                  protein_id class_id number_of_points\n",
       "0                       000002-astroid-clean       00             None\n",
       "1                    000011-astroid-gaussian       00             None\n",
       "2                    000012-astroid-gaussian       00             None\n",
       "3      000021-astroid-undersampling+gaussian       00             None\n",
       "4                    000032-astroid-gaussian       00             None\n",
       "...                                      ...      ...              ...\n",
       "20100   099907-citrus-undersampling+gaussian       01             None\n",
       "20101                 099922-citrus-gaussian       01             None\n",
       "20102            099957-citrus-undersampling       01             None\n",
       "20103                 099976-citrus-gaussian       01             None\n",
       "20104            099991-citrus-undersampling       01             None\n",
       "\n",
       "[20105 rows x 3 columns]"
      ]
     },
     "execution_count": 11,
     "metadata": {},
     "output_type": "execute_result"
    }
   ],
   "source": [
    "symmetria_df"
   ]
  },
  {
   "cell_type": "code",
   "execution_count": 12,
   "metadata": {},
   "outputs": [
    {
     "name": "stdout",
     "output_type": "stream",
     "text": [
      "Warning: Class 0 has only 101 proteins, but 100000 were requested. Using all available proteins.\n",
      "Warning: Class 1 has only 3 proteins, but 100000 were requested. Using all available proteins.\n",
      "Warning: Class 2 has only 17 proteins, but 100000 were requested. Using all available proteins.\n",
      "Warning: Class 3 has only 21 proteins, but 100000 were requested. Using all available proteins.\n",
      "Warning: Class 4 has only 15 proteins, but 100000 were requested. Using all available proteins.\n",
      "Warning: Class 5 has only 127 proteins, but 100000 were requested. Using all available proteins.\n",
      "Warning: Class 6 has only 25 proteins, but 100000 were requested. Using all available proteins.\n",
      "Warning: Class 7 has only 75 proteins, but 100000 were requested. Using all available proteins.\n",
      "Warning: Class 9 has only 66 proteins, but 100000 were requested. Using all available proteins.\n",
      "Warning: Class 10 has only 14 proteins, but 100000 were requested. Using all available proteins.\n",
      "Warning: Class 11 has only 43 proteins, but 100000 were requested. Using all available proteins.\n",
      "Warning: Class 12 has only 10 proteins, but 100000 were requested. Using all available proteins.\n",
      "Warning: Class 13 has only 22 proteins, but 100000 were requested. Using all available proteins.\n",
      "Warning: Class 15 has only 89 proteins, but 100000 were requested. Using all available proteins.\n",
      "Warning: Class 16 has only 154 proteins, but 100000 were requested. Using all available proteins.\n",
      "Warning: Class 17 has only 116 proteins, but 100000 were requested. Using all available proteins.\n",
      "Warning: Class 18 has only 76 proteins, but 100000 were requested. Using all available proteins.\n",
      "Warning: Class 19 has only 42 proteins, but 100000 were requested. Using all available proteins.\n",
      "Warning: Class 20 has only 7 proteins, but 100000 were requested. Using all available proteins.\n",
      "Warning: Class 21 has only 74 proteins, but 100000 were requested. Using all available proteins.\n",
      "Warning: Class 22 has only 58 proteins, but 100000 were requested. Using all available proteins.\n",
      "Warning: Class 23 has only 10 proteins, but 100000 were requested. Using all available proteins.\n",
      "Warning: Class 24 has only 10 proteins, but 100000 were requested. Using all available proteins.\n",
      "Warning: Class 25 has only 143 proteins, but 100000 were requested. Using all available proteins.\n",
      "Warning: Class 26 has only 2 proteins, but 100000 were requested. Using all available proteins.\n",
      "Warning: Class 27 has only 3 proteins, but 100000 were requested. Using all available proteins.\n",
      "Warning: Class 28 has only 18 proteins, but 100000 were requested. Using all available proteins.\n",
      "Warning: Class 29 has only 14 proteins, but 100000 were requested. Using all available proteins.\n",
      "Warning: Class 30 has only 3 proteins, but 100000 were requested. Using all available proteins.\n",
      "Warning: Class 31 has only 33 proteins, but 100000 were requested. Using all available proteins.\n",
      "Warning: Class 32 has only 93 proteins, but 100000 were requested. Using all available proteins.\n",
      "Warning: Class 33 has only 126 proteins, but 100000 were requested. Using all available proteins.\n",
      "Warning: Class 34 has only 73 proteins, but 100000 were requested. Using all available proteins.\n",
      "Warning: Class 35 has only 23 proteins, but 100000 were requested. Using all available proteins.\n",
      "Warning: Class 36 has only 8 proteins, but 100000 were requested. Using all available proteins.\n",
      "Warning: Class 37 has only 119 proteins, but 100000 were requested. Using all available proteins.\n",
      "Warning: Class 38 has only 34 proteins, but 100000 were requested. Using all available proteins.\n",
      "Warning: Class 39 has only 19 proteins, but 100000 were requested. Using all available proteins.\n",
      "Warning: Class 40 has only 95 proteins, but 100000 were requested. Using all available proteins.\n",
      "Warning: Class 41 has only 95 proteins, but 100000 were requested. Using all available proteins.\n",
      "Warning: Class 42 has only 2 proteins, but 100000 were requested. Using all available proteins.\n",
      "Warning: Class 43 has only 70 proteins, but 100000 were requested. Using all available proteins.\n",
      "Warning: Class 44 has only 2 proteins, but 100000 were requested. Using all available proteins.\n",
      "Warning: Class 45 has only 109 proteins, but 100000 were requested. Using all available proteins.\n",
      "Warning: Class 46 has only 44 proteins, but 100000 were requested. Using all available proteins.\n",
      "Warning: Class 47 has only 37 proteins, but 100000 were requested. Using all available proteins.\n",
      "Warning: Class 48 has only 27 proteins, but 100000 were requested. Using all available proteins.\n",
      "Warning: Class 49 has only 49 proteins, but 100000 were requested. Using all available proteins.\n",
      "Warning: Class 50 has only 2 proteins, but 100000 were requested. Using all available proteins.\n",
      "Warning: Class 51 has only 71 proteins, but 100000 were requested. Using all available proteins.\n",
      "Warning: Class 52 has only 76 proteins, but 100000 were requested. Using all available proteins.\n",
      "Warning: Class 53 has only 53 proteins, but 100000 were requested. Using all available proteins.\n",
      "Warning: Class 54 has only 128 proteins, but 100000 were requested. Using all available proteins.\n",
      "Warning: Class 55 has only 26 proteins, but 100000 were requested. Using all available proteins.\n",
      "Warning: Class 57 has only 9 proteins, but 100000 were requested. Using all available proteins.\n",
      "Warning: Class 58 has only 2 proteins, but 100000 were requested. Using all available proteins.\n",
      "Warning: Class 59 has only 54 proteins, but 100000 were requested. Using all available proteins.\n",
      "Warning: Class 60 has only 73 proteins, but 100000 were requested. Using all available proteins.\n",
      "Warning: Class 61 has only 240 proteins, but 100000 were requested. Using all available proteins.\n",
      "Warning: Class 62 has only 135 proteins, but 100000 were requested. Using all available proteins.\n",
      "Warning: Class 63 has only 2 proteins, but 100000 were requested. Using all available proteins.\n",
      "Warning: Class 64 has only 57 proteins, but 100000 were requested. Using all available proteins.\n",
      "Warning: Class 65 has only 10 proteins, but 100000 were requested. Using all available proteins.\n",
      "Warning: Class 66 has only 54 proteins, but 100000 were requested. Using all available proteins.\n",
      "Warning: Class 67 has only 17 proteins, but 100000 were requested. Using all available proteins.\n",
      "Warning: Class 68 has only 5 proteins, but 100000 were requested. Using all available proteins.\n",
      "Warning: Class 69 has only 80 proteins, but 100000 were requested. Using all available proteins.\n",
      "Warning: Class 70 has only 223 proteins, but 100000 were requested. Using all available proteins.\n",
      "Warning: Class 71 has only 102 proteins, but 100000 were requested. Using all available proteins.\n",
      "Warning: Class 72 has only 2 proteins, but 100000 were requested. Using all available proteins.\n",
      "Warning: Class 73 has only 6 proteins, but 100000 were requested. Using all available proteins.\n",
      "Warning: Class 74 has only 150 proteins, but 100000 were requested. Using all available proteins.\n",
      "Warning: Class 75 has only 69 proteins, but 100000 were requested. Using all available proteins.\n",
      "Warning: Class 76 has only 10 proteins, but 100000 were requested. Using all available proteins.\n",
      "Warning: Class 77 has only 2 proteins, but 100000 were requested. Using all available proteins.\n",
      "Warning: Class 78 has only 5 proteins, but 100000 were requested. Using all available proteins.\n",
      "Warning: Class 79 has only 78 proteins, but 100000 were requested. Using all available proteins.\n",
      "Warning: Class 80 has only 57 proteins, but 100000 were requested. Using all available proteins.\n",
      "Warning: Class 81 has only 58 proteins, but 100000 were requested. Using all available proteins.\n",
      "Warning: Class 82 has only 2 proteins, but 100000 were requested. Using all available proteins.\n",
      "Warning: Class 83 has only 115 proteins, but 100000 were requested. Using all available proteins.\n",
      "Warning: Class 84 has only 18 proteins, but 100000 were requested. Using all available proteins.\n",
      "Warning: Class 85 has only 49 proteins, but 100000 were requested. Using all available proteins.\n",
      "Warning: Class 86 has only 203 proteins, but 100000 were requested. Using all available proteins.\n",
      "Warning: Class 87 has only 103 proteins, but 100000 were requested. Using all available proteins.\n",
      "Warning: Class 88 has only 97 proteins, but 100000 were requested. Using all available proteins.\n",
      "Warning: Class 89 has only 3 proteins, but 100000 were requested. Using all available proteins.\n",
      "Warning: Class 91 has only 118 proteins, but 100000 were requested. Using all available proteins.\n",
      "Warning: Class 92 has only 129 proteins, but 100000 were requested. Using all available proteins.\n",
      "Warning: Class 93 has only 61 proteins, but 100000 were requested. Using all available proteins.\n",
      "Warning: Class 94 has only 52 proteins, but 100000 were requested. Using all available proteins.\n",
      "Warning: Class 95 has only 2 proteins, but 100000 were requested. Using all available proteins.\n",
      "Warning: Class 96 has only 35 proteins, but 100000 were requested. Using all available proteins.\n",
      "Warning: Class 40 has only 95 proteins, but 10000 were requested. Using all available proteins.\n",
      "Warning: Class 88 has only 97 proteins, but 10000 were requested. Using all available proteins.\n"
     ]
    },
    {
     "data": {
      "text/plain": [
       "\"\\ndf_3.to_csv('datasets/train_set-2_cls-1000_images.csv')\\ndf_4.to_csv('datasets/train_set-10_cls-1000_images.csv')\\ndf_5.to_csv('datasets/train_set-20_cls-1000_images.csv')\\ndf_6.to_csv('datasets/train_set-20_cls-2000_images.csv')\\ndf_7.to_csv('datasets/train_set-all-cls_except-cls-larger-than-450.csv')\\nsymmetria_df.to_csv('datasets/train_set-symmetria-100k-easy-astroid-citrus-10k-samples.csv')\\ndf_8.to_csv('datasets/train_set-2_cls_40_88-192_proteins.csv')\\n\""
      ]
     },
     "execution_count": 12,
     "metadata": {},
     "output_type": "execute_result"
    }
   ],
   "source": [
    "cls_selected = [8, 90, 56, 14, 61, 70, 86, 5, 16, 25, 54, 62, 74, 83, 91, 92, 17, 45, 87, 71]\n",
    "\n",
    "df_3 = create_dataframe(raw_train_dataframe_f1, class_ids=cls_selected[:2],  number_of_proteins=500)\n",
    "df_4 = create_dataframe(raw_train_dataframe_f1, class_ids=cls_selected[:10], number_of_proteins=100)\n",
    "df_5 = create_dataframe(raw_train_dataframe_f1, class_ids=cls_selected[:20], number_of_proteins=50)\n",
    "df_6 = create_dataframe(raw_train_dataframe_f1, class_ids=cls_selected[:20], number_of_proteins=100)\n",
    "df_7 = create_dataframe(raw_train_dataframe_f6, class_ids=dist_f6_available_classes, number_of_proteins=100000)\n",
    "df_8 = create_dataframe(raw_train_dataframe_f1, class_ids=[40, 88], number_of_proteins=10000)\n",
    "\n",
    "'''\n",
    "df_3.to_csv('datasets/train_set-2_cls-1000_images.csv')\n",
    "df_4.to_csv('datasets/train_set-10_cls-1000_images.csv')\n",
    "df_5.to_csv('datasets/train_set-20_cls-1000_images.csv')\n",
    "df_6.to_csv('datasets/train_set-20_cls-2000_images.csv')\n",
    "df_7.to_csv('datasets/train_set-all-cls_except-cls-larger-than-450.csv')\n",
    "symmetria_df.to_csv('datasets/train_set-symmetria-100k-easy-astroid-citrus-10k-samples.csv')\n",
    "df_8.to_csv('datasets/train_set-2_cls_40_88-192_proteins.csv')\n",
    "'''\n",
    "\n"
   ]
  },
  {
   "cell_type": "code",
   "execution_count": 13,
   "metadata": {},
   "outputs": [
    {
     "data": {
      "text/plain": [
       "192"
      ]
     },
     "execution_count": 13,
     "metadata": {},
     "output_type": "execute_result"
    }
   ],
   "source": [
    "tmp_df = pd.read_csv('/home/giorgio/venvs/SHREC/datasets/train_set-2_cls-194_images.csv', index_col=0)\n",
    "len(df_8)"
   ]
  },
  {
   "cell_type": "code",
   "execution_count": 14,
   "metadata": {},
   "outputs": [
    {
     "name": "stdout",
     "output_type": "stream",
     "text": [
      "14\n",
      "PolyData (0x7e8bb152dae0)\n",
      "  N Cells:    115068\n",
      "  N Points:   57516\n",
      "  N Strips:   0\n",
      "  X Bounds:   -5.945e+01, 5.574e+01\n",
      "  Y Bounds:   -4.762e+01, 5.398e+01\n",
      "  Z Bounds:   -3.284e+01, 3.595e+01\n",
      "  N Arrays:   3\n"
     ]
    },
    {
     "data": {
      "application/vnd.jupyter.widget-view+json": {
       "model_id": "792e19f6bede4a81bbf4c012e1fdf82e",
       "version_major": 2,
       "version_minor": 0
      },
      "text/plain": [
       "Widget(value='<iframe src=\"http://localhost:37117/index.html?ui=P_0x7e8bb1b138f0_0&reconnect=auto\" class=\"pyvi…"
      ]
     },
     "metadata": {},
     "output_type": "display_data"
    }
   ],
   "source": [
    "df = raw_train_dataframe_f1[raw_train_dataframe_f1['class_id'] == 10]\n",
    "print(len(df))\n",
    "visualize_mesh(raw_train_dataframe_f1, cls=10, idx=3)"
   ]
  },
  {
   "cell_type": "markdown",
   "metadata": {},
   "source": [
    "### Augmentations"
   ]
  },
  {
   "cell_type": "code",
   "execution_count": 15,
   "metadata": {},
   "outputs": [],
   "source": [
    "from format import Text\n",
    "import torch\n",
    "from symmetria.transformations import *\n",
    "from symmetria.shapes import BenchmarkShape"
   ]
  },
  {
   "cell_type": "code",
   "execution_count": 16,
   "metadata": {},
   "outputs": [],
   "source": [
    "points_rectangle = np.array([[0, 2, 0, 0, 2, 2, 0, 2],\n",
    "                             [0, 0, 1, 0, 1, 0, 1, 1],\n",
    "                             [0, 0, 0, 1, 0, 1, 1, 1]]).astype(np.float32)\n",
    "\n",
    "points_rectangle_t = torch.from_numpy(points_rectangle)\n",
    "\n",
    "rot = random_rotation_matrix(rotate_x=False, rotate_z=False)\n",
    "\n",
    "shapebench = BenchmarkShape(points_rectangle_t)\n",
    "#shapebench.apply_rotation(torch.from_numpy(rot))\n",
    "#shapebench.apply_traslation(1,1,0)\n",
    "#shapebench.apply_uniform_noise(100, 1)\n",
    "#shapebench.apply_gaussian_noise(100, 1)\n",
    "\n",
    "rect = pv.PolyData(shapebench.points.numpy().T)\n",
    "#rect.plot()"
   ]
  },
  {
   "cell_type": "code",
   "execution_count": 17,
   "metadata": {},
   "outputs": [],
   "source": [
    "from random import random\n",
    "\n",
    "class RotateAroundZero():\n",
    "    def __init__(self, p=0.5, rot=None):\n",
    "        self.p = p\n",
    "        self.rot = rot\n",
    "\n",
    "    def __call__(self, points):\n",
    "        if random() < self.p:\n",
    "            if self.rot == None:\n",
    "                rot = torch.from_numpy(random_rotation_matrix())\n",
    "            else:\n",
    "                rot = self.rot\n",
    "        \n",
    "            rot = rot.to(torch.device(points.device))\n",
    "\n",
    "            ones = torch.ones((1,points.shape[0]), device=points.device)\n",
    "            coords = torch.concatenate((torch.transpose(points, 0, 1), ones))\n",
    "            \n",
    "            coords = rot@coords\n",
    "            \n",
    "            points = torch.transpose(coords[:3,:], 0, 1)\n",
    "\n",
    "        return points\n",
    "    \n",
    "    def __repr__(self):\n",
    "        return f'RotateAroundZero(p={repr(self.p)}, rot={repr(self.rot)})'\n",
    "    \n",
    "class Translate():\n",
    "    def __init__(self, p=0.5, shift=None, scale=1):\n",
    "        self.p = p\n",
    "        self.shift = shift\n",
    "        self.scale = scale\n",
    "\n",
    "    def __call__(self, points):        \n",
    "        if random() < self.p:\n",
    "            if self.shift == None:\n",
    "                shift = (torch.rand(1, device=points.device) * self.scale,\n",
    "                         torch.rand(1, device=points.device) * self.scale,\n",
    "                         torch.rand(1, device=points.device) * self.scale)\n",
    "            else:\n",
    "                shift = self.shift\n",
    "            \n",
    "            for i in range(len(shift)):\n",
    "                points[:,i] += shift[i]\n",
    "                   \n",
    "        return points\n",
    "    \n",
    "    def __repr__(self):\n",
    "        return f'Translate(p={repr(self.p)}, shift={repr(self.shift)}, scale={repr(self.scale)})'\n",
    "    \n",
    "class UniformNoise():\n",
    "    def __init__(self, n, T, p=0.5):\n",
    "        self.p = p\n",
    "        self.n, self.T = n, T\n",
    "    \n",
    "    def __call__(self, points):\n",
    "        if random() < self.p:\n",
    "            num_points = points.shape[0]\n",
    "\n",
    "            indices = torch.randperm(num_points, device=points.device)[:self.T]\n",
    "\n",
    "            points[indices,:] = points[indices,:] + (2*torch.rand(self.T, 3, device=points.device)-1)/self.n\n",
    "        \n",
    "        return points\n",
    "    \n",
    "    def __repr__(self):\n",
    "        return f'UniformNoise(n={repr(self.n)}, T={repr(self.T)}, p={repr(self.p)})'\n",
    "    \n",
    "class GaussianNoise():\n",
    "    def __init__(self, n, T, p=0.5):\n",
    "        self.p = p\n",
    "        self.n, self.T = n, T\n",
    "    \n",
    "    def __call__(self, points):\n",
    "        if random() < self.p:\n",
    "            num_points = points.shape[0]\n",
    "\n",
    "            indices = torch.randperm(num_points, device=points.device)[:self.T]\n",
    "    \n",
    "            points[indices,:] = points[indices,:] + torch.rand(self.T, 3, device=points.device)/self.n\n",
    "\n",
    "        return points\n",
    "    \n",
    "    def __repr__(self):\n",
    "        return f'GaussianNoise(n={repr(self.n)}, T={repr(self.T)}, p={repr(self.p)})'"
   ]
  },
  {
   "cell_type": "code",
   "execution_count": 18,
   "metadata": {},
   "outputs": [
    {
     "name": "stdout",
     "output_type": "stream",
     "text": [
      "Translate(p=1, shift=None, scale=1)\n",
      "Translate(p=1, shift=None, scale=1)\n"
     ]
    }
   ],
   "source": [
    "points_rectangle = np.array([[0, 2, 0, 0, 2, 2, 0, 2],\n",
    "                             [0, 0, 1, 0, 1, 0, 1, 1],\n",
    "                             [0, 0, 0, 1, 0, 1, 1, 1]]).astype(np.float32).T\n",
    "\n",
    "points_rectangle_t = torch.from_numpy(points_rectangle).to(torch.device('cuda:0'))\n",
    "\n",
    "translate = Translate(p=1)\n",
    "print(translate)\n",
    "points_rectangle_t = translate(points_rectangle_t)\n",
    "print(translate)\n",
    "rect = pv.PolyData(points_rectangle)\n",
    "#rect.plot()\n",
    "\n",
    "rect_tfm = pv.PolyData(points_rectangle_t.cpu().numpy())\n",
    "#rect_tfm.plot()"
   ]
  },
  {
   "cell_type": "markdown",
   "metadata": {},
   "source": [
    "### DataSet and DataLoader"
   ]
  },
  {
   "cell_type": "markdown",
   "metadata": {},
   "source": [
    "#### Dataset"
   ]
  },
  {
   "cell_type": "code",
   "execution_count": 19,
   "metadata": {},
   "outputs": [
    {
     "data": {
      "text/plain": [
       "'\\ndef generate_train_valid_set_boring(df, val_pct, seed=42):\\n    train_size = int(len(df) * val_pct)    \\n    df_train = df.sample(train_size, random_state=seed)\\n    df_valid = df.drop(df_train.index)\\n\\n    return df_train, df_valid\\n'"
      ]
     },
     "execution_count": 19,
     "metadata": {},
     "output_type": "execute_result"
    }
   ],
   "source": [
    "import numpy as np\n",
    "import lzma\n",
    "from torch.utils.data import Dataset, DataLoader\n",
    "from symmetria.transforms.RandomSampler import RandomSampler\n",
    "from symmetria.transforms.UnitSphereNormalization import UnitSphereNormalization\n",
    "from tqdm import tqdm\n",
    "\n",
    "class ProteinDataset(Dataset):\n",
    "    def __init__(self, data_df, tfms, root=root, extention='xz', train=True):\n",
    "        super().__init__()\n",
    "        self.df = data_df\n",
    "        self.tfms = tfms\n",
    "        self.extention = extention\n",
    "        \n",
    "        self.train = train\n",
    "        if self.train:\n",
    "            if self.extention == 'vtk':\n",
    "                self.root = os.path.join(root, 'train')\n",
    "\n",
    "            elif self.extention == 'xz':\n",
    "                self.root = os.path.join(root, 'train-xz') # TODO roll back\n",
    "                #self.root = os.path.join(root, 'train-xz')\n",
    "            else:\n",
    "                raise UserWarning('Extention not supported')\n",
    "            \n",
    "        else:\n",
    "            raise UserWarning('Not yet implemented for the test dataset')\n",
    "        \n",
    "        self.encode_label()\n",
    "        self.loader()\n",
    "    \n",
    "    def loader(self):\n",
    "        self.data = []\n",
    "        \n",
    "        for index in tqdm(self.df.index):\n",
    "            protein, cls, nop = self.df['protein_id'].loc[index], self.df['class_id'].loc[index], self.df['number_of_points'].loc[index]\n",
    "\n",
    "            cls_t = torch.tensor(self.encoded_cls[cls]).to(torch.device('cuda:0'))\n",
    "\n",
    "            if self.extention == 'vtk':\n",
    "                point_cloud = self.get_vtk_points(protein)\n",
    "\n",
    "            elif self.extention == 'xz':\n",
    "                point_cloud = self.get_xz_points(protein, cls, nop)\n",
    "\n",
    "            point_cloud_t = torch.from_numpy(point_cloud).to(torch.device('cuda:0'))     \n",
    "\n",
    "            point_cloud_t, cls_t = point_cloud_t.type(torch.float32), cls_t.type(torch.float32)\n",
    "            self.data.append((point_cloud_t, cls_t))\n",
    "\n",
    "    def get_vtk_points(self, name):\n",
    "        prot_file = name + '.' + self.extention\n",
    "        prot_file = os.path.join(self.root, prot_file)\n",
    "        \n",
    "        prot_mesh = pv.read(prot_file)\n",
    "\n",
    "        return prot_mesh.points\n",
    "\n",
    "    def get_xz_points(self, name, cls, nop=None, debug=False):\n",
    "        cls = str(cls)\n",
    "        nop = str(nop) if nop and nop != 'nan' else None\n",
    "\n",
    "        while len(cls) < 2:\n",
    "            cls = '0' + cls\n",
    "        \n",
    "        if nop and nop != 'nan':\n",
    "            while len(nop) < 6:\n",
    "                nop = '0' + nop\n",
    "\n",
    "        if nop and nop != 'nan':\n",
    "            prot_file = cls + '-' + nop +  '-' + name.replace(':', '+') + '.' + self.extention\n",
    "        else:\n",
    "            prot_file = cls + '-' + name.replace(':', '+') + '.' + self.extention\n",
    "        if debug:\n",
    "            print(f'ProteinDataset is loading files from {self.root}')\n",
    "        prot_file = os.path.join(self.root, prot_file)        \n",
    "        \n",
    "        with lzma.open(prot_file, 'rt') as f:\n",
    "            point_cloud = np.loadtxt(f)\n",
    "\n",
    "        return point_cloud\n",
    "\n",
    "    def __len__(self):\n",
    "        return len(self.data)\n",
    "    \n",
    "    def __getitem__(self, index, do_transform=True):\n",
    "        prot, cls = self.data[index]\n",
    "        \n",
    "        if do_transform:\n",
    "            for tfm in self.tfms:\n",
    "                prot = tfm(prot)\n",
    "\n",
    "        # NOTE: here we transpose the points (from Nx3 to 3xN) to then pass them to the PoinNet encoder\n",
    "        prot = torch.transpose(prot, 0, 1)\n",
    "        return (prot, cls)\n",
    "    \n",
    "    def encode_label(self):\n",
    "        self.encoded_cls = {}\n",
    "        \n",
    "        prot_clss = np.sort(self.df['class_id'].unique())\n",
    "        \n",
    "        #One hot encoding\n",
    "        '''\n",
    "        for idx, cls in enumerate(prot_clss):\n",
    "            self.encoded_cls[cls] = np.eye(len(prot_clss))[idx]\n",
    "        '''\n",
    "\n",
    "        for idx, cls in enumerate(prot_clss):\n",
    "            self.encoded_cls[cls] = int(idx)\n",
    "\n",
    "    def render_pointcloud(self, index):\n",
    "        prot, _ = self.data[index]\n",
    "        prot = torch.transpose(prot, 0, 1).numpy()\n",
    "        cloud = pv.PolyData(prot)\n",
    "        print(cloud)\n",
    "        cloud.plot()\n",
    "    \n",
    "\n",
    "transforms = [UnitSphereNormalization(),\n",
    "              Translate(p=0.8, scale=1),\n",
    "              RotateAroundZero(p=0.8),\n",
    "              GaussianNoise(n=100, T=2500, p=0.8),\n",
    "              RandomSampler(sample_size=5000)]\n",
    "\n",
    "\n",
    "def generate_train_valid_set(df, tfms, val_pct, root=root, seed=42, **kwargs):\n",
    "    '''\n",
    "    Can also take some other arguments to be passed to the dataset initializer\n",
    "\n",
    "            -> path (str): path to the parent directory containing the train files \n",
    "    '''\n",
    "\n",
    "    train_size = int(len(df) * (1 - val_pct))    \n",
    "    df_train = df.sample(train_size, random_state=seed)\n",
    "    df_valid = df.drop(df_train.index)\n",
    "\n",
    "    return ProteinDataset(df_train, tfms, root=root, **kwargs), ProteinDataset(df_valid, tfms, root=root, **kwargs)\n",
    "\n",
    "'''\n",
    "def generate_train_valid_set_boring(df, val_pct, seed=42):\n",
    "    train_size = int(len(df) * val_pct)    \n",
    "    df_train = df.sample(train_size, random_state=seed)\n",
    "    df_valid = df.drop(df_train.index)\n",
    "\n",
    "    return df_train, df_valid\n",
    "'''"
   ]
  },
  {
   "cell_type": "code",
   "execution_count": 20,
   "metadata": {},
   "outputs": [
    {
     "name": "stdout",
     "output_type": "stream",
     "text": [
      "Warning: Class 2 has only 17 proteins, but 100000 were requested. Using all available proteins.\n",
      "Warning: Class 30 has only 3 proteins, but 100000 were requested. Using all available proteins.\n",
      "Warning: Class 10 has only 14 proteins, but 100000 were requested. Using all available proteins.\n"
     ]
    },
    {
     "name": "stderr",
     "output_type": "stream",
     "text": [
      "100%|██████████| 27/27 [00:00<00:00, 45.74it/s]\n",
      "100%|██████████| 7/7 [00:00<00:00, 41.21it/s]\n"
     ]
    }
   ],
   "source": [
    "example_dataframe = create_dataframe(raw_train_dataframe_f1, class_ids=[2, 30, 10], number_of_proteins=100000)\n",
    "example_set_train, example_set_valid = generate_train_valid_set(example_dataframe, transforms, 0.2)"
   ]
  },
  {
   "cell_type": "code",
   "execution_count": 21,
   "metadata": {},
   "outputs": [
    {
     "data": {
      "text/plain": [
       "(tensor([[ -4.5280,  -3.1820,  -5.1800,  ...,  20.2730,  21.0320,  21.1260],\n",
       "         [-17.7190, -17.9350, -17.7560,  ...,  12.7410,  11.6600,  12.5410],\n",
       "         [-33.1180, -33.2280, -32.0270,  ...,  24.7770,  24.6910,  24.9660]],\n",
       "        device='cuda:0'),\n",
       " tensor(1., device='cuda:0'))"
      ]
     },
     "execution_count": 21,
     "metadata": {},
     "output_type": "execute_result"
    }
   ],
   "source": [
    "example_set_train.__getitem__(0, do_transform=False)"
   ]
  },
  {
   "cell_type": "code",
   "execution_count": 22,
   "metadata": {},
   "outputs": [],
   "source": [
    "prot = example_set_train.__getitem__(0, do_transform=False)"
   ]
  },
  {
   "cell_type": "code",
   "execution_count": 23,
   "metadata": {},
   "outputs": [
    {
     "name": "stdout",
     "output_type": "stream",
     "text": [
      "prot type = <class 'tuple'>\n",
      "prot len = 2\n",
      "prot = (tensor([[ -4.5280,  -3.1820,  -5.1800,  ...,  20.2730,  21.0320,  21.1260],\n",
      "        [-17.7190, -17.9350, -17.7560,  ...,  12.7410,  11.6600,  12.5410],\n",
      "        [-33.1180, -33.2280, -32.0270,  ...,  24.7770,  24.6910,  24.9660]],\n",
      "       device='cuda:0'), tensor(1., device='cuda:0'))\n",
      "\n"
     ]
    }
   ],
   "source": [
    "print(f'{Text(prot, 'prot'):content}')"
   ]
  },
  {
   "cell_type": "code",
   "execution_count": 24,
   "metadata": {},
   "outputs": [
    {
     "name": "stdout",
     "output_type": "stream",
     "text": [
      "prot[0] type = <class 'torch.Tensor'>\n",
      "prot[0] device = cuda:0\n",
      "prot[0] dtype = torch.float32\n",
      "prot[0] shape = torch.Size([3, 30628])\n",
      "prot[0] = tensor([[ -4.5280,  -3.1820,  -5.1800,  ...,  20.2730,  21.0320,  21.1260],\n",
      "        [-17.7190, -17.9350, -17.7560,  ...,  12.7410,  11.6600,  12.5410],\n",
      "        [-33.1180, -33.2280, -32.0270,  ...,  24.7770,  24.6910,  24.9660]],\n",
      "       device='cuda:0')\n",
      "\n"
     ]
    }
   ],
   "source": [
    "print(f'{Text(prot[0], 'prot[0]'):content}')"
   ]
  },
  {
   "cell_type": "code",
   "execution_count": 25,
   "metadata": {},
   "outputs": [
    {
     "name": "stdout",
     "output_type": "stream",
     "text": [
      "prot[0].min() = tensor(-36.7890, device='cuda:0') - prot[0].max() = tensor(46.3300, device='cuda:0')\n"
     ]
    }
   ],
   "source": [
    "print(f'{prot[0].min() = } - {prot[0].max() = }')"
   ]
  },
  {
   "cell_type": "code",
   "execution_count": 26,
   "metadata": {},
   "outputs": [],
   "source": [
    "unit_normalizer = UnitSphereNormalization()\n",
    "prot, _ = example_set_train.__getitem__(0, do_transform=False)\n",
    "prot = torch.transpose(prot, 0, 1)\n",
    "norm_prot = unit_normalizer(prot)"
   ]
  },
  {
   "cell_type": "code",
   "execution_count": 27,
   "metadata": {},
   "outputs": [
    {
     "name": "stdout",
     "output_type": "stream",
     "text": [
      "norm_prot type = <class 'torch.Tensor'>\n",
      "norm_prot device = cuda:0\n",
      "norm_prot dtype = torch.float32\n",
      "norm_prot shape = torch.Size([30628, 3])\n",
      "norm_prot = tensor([[-0.0925, -0.3261, -0.5890],\n",
      "        [-0.0691, -0.3298, -0.5909],\n",
      "        [-0.1039, -0.3267, -0.5700],\n",
      "        ...,\n",
      "        [ 0.3397,  0.2049,  0.4201],\n",
      "        [ 0.3530,  0.1860,  0.4186],\n",
      "        [ 0.3546,  0.2014,  0.4234]], device='cuda:0')\n",
      "\n"
     ]
    }
   ],
   "source": [
    "print(f'{Text(norm_prot, 'norm_prot'):content}')"
   ]
  },
  {
   "cell_type": "code",
   "execution_count": 28,
   "metadata": {},
   "outputs": [
    {
     "name": "stdout",
     "output_type": "stream",
     "text": [
      "norm_prot.min() = tensor(-0.6585, device='cuda:0') - norm_prot.max() = tensor(0.7903, device='cuda:0')\n"
     ]
    }
   ],
   "source": [
    "print(f'{norm_prot.min() = } - {norm_prot.max() = }')"
   ]
  },
  {
   "cell_type": "code",
   "execution_count": 29,
   "metadata": {},
   "outputs": [
    {
     "name": "stdout",
     "output_type": "stream",
     "text": [
      "unit_normalizer.centroid.min() = tensor(0.6749, device='cuda:0') - unit_normalizer.centroid.max() = tensor(0.9884, device='cuda:0')\n"
     ]
    }
   ],
   "source": [
    "print(f'{unit_normalizer.centroid.min() = } - {unit_normalizer.centroid.max() = }')"
   ]
  },
  {
   "cell_type": "code",
   "execution_count": 30,
   "metadata": {},
   "outputs": [
    {
     "data": {
      "text/plain": [
       "torch.Size([3])"
      ]
     },
     "execution_count": 30,
     "metadata": {},
     "output_type": "execute_result"
    }
   ],
   "source": [
    "unit_normalizer.centroid.shape"
   ]
  },
  {
   "cell_type": "code",
   "execution_count": 31,
   "metadata": {},
   "outputs": [],
   "source": [
    "points = prot[0]"
   ]
  },
  {
   "cell_type": "code",
   "execution_count": 32,
   "metadata": {},
   "outputs": [
    {
     "data": {
      "text/plain": [
       "tensor([ -4.5280, -17.7190, -33.1180], device='cuda:0')"
      ]
     },
     "execution_count": 32,
     "metadata": {},
     "output_type": "execute_result"
    }
   ],
   "source": [
    "points"
   ]
  },
  {
   "cell_type": "markdown",
   "metadata": {},
   "source": [
    "### PointNet class"
   ]
  },
  {
   "cell_type": "code",
   "execution_count": 60,
   "metadata": {},
   "outputs": [
    {
     "ename": "AttributeError",
     "evalue": "module 'symmetria' has no attribute 'decoders'",
     "output_type": "error",
     "traceback": [
      "\u001b[31m---------------------------------------------------------------------------\u001b[39m",
      "\u001b[31mAttributeError\u001b[39m                            Traceback (most recent call last)",
      "\u001b[36mCell\u001b[39m\u001b[36m \u001b[39m\u001b[32mIn[60]\u001b[39m\u001b[32m, line 4\u001b[39m\n\u001b[32m      2\u001b[39m \u001b[38;5;28;01mimport\u001b[39;00m\u001b[38;5;250m \u001b[39m\u001b[34;01msymmetria\u001b[39;00m\n\u001b[32m      3\u001b[39m importlib.reload(symmetria)\n\u001b[32m----> \u001b[39m\u001b[32m4\u001b[39m importlib.reload(\u001b[43msymmetria\u001b[49m\u001b[43m.\u001b[49m\u001b[43mdecoders\u001b[49m)\n\u001b[32m      5\u001b[39m importlib.reload(symmetria.decoders.prediction_head)\n",
      "\u001b[31mAttributeError\u001b[39m: module 'symmetria' has no attribute 'decoders'"
     ]
    }
   ],
   "source": [
    "import importlib\n",
    "import symmetria\n",
    "importlib.reload(symmetria)\n",
    "importlib.reload(symmetria.decoders)\n",
    "importlib.reload(symmetria.decoders.prediction_head)"
   ]
  },
  {
   "cell_type": "markdown",
   "metadata": {},
   "source": [
    "#### PointNet"
   ]
  },
  {
   "cell_type": "code",
   "execution_count": 33,
   "metadata": {},
   "outputs": [],
   "source": [
    "import torch.nn as nn\n",
    "import torch.nn.functional as F\n",
    "from symmetria.encoders.pointnet_encoder import PointNetEncoder\n",
    "\n",
    "from symmetria.encoders.pointnext.pointnext_encoder_parameters import *\n",
    "from symmetria.encoders.pointnext.pointnext_encoder import PointNeXt\n",
    "\n",
    "from symmetria.decoders.prediction_head import PredictionHead\n",
    "\n",
    "if debug_pointnet:\n",
    "    bs, sz = 1, 2048\n",
    "    encoder = PointNetEncoder(use_bn=False)\n",
    "    mock_x = torch.randn(bs, 3, sz)\n",
    "    output = encoder.forward(mock_x)\n",
    "    print(f'{Text(output, 'output'):inspect}')\n",
    "\n",
    "    decoder = PredictionHead(1024, 96)\n",
    "    output_decoder = decoder.forward(output)\n",
    "    print(f'{Text(output_decoder, 'output_decoder'):inspect}')\n",
    "\n",
    "class PointNet(nn.Module):\n",
    "    def __init__(self, output_size, max_points, use_bn=False, encoder='pointnet'): # make it prettier like in segmenter\n",
    "        super().__init__()\n",
    "        \n",
    "        if encoder in POINTNEXT_MODEL_CONFIG:\n",
    "            model_cfg = POINTNEXT_MODEL_CONFIG[encoder]     # 'PointNeXt_B' (21.5 M), 'PointNeXt_L2' (32.0 M), 'PointNeXt_XXL' (73.8 M)\n",
    "            self.encoder = PointNeXt(model_cfg)\n",
    "            self.encoder_output_size = output_size          # because of the adapter head (e.g. 2048 -> 1024) within the encoder\n",
    "            print(f\"Using PointNeXt {model_cfg} - encoder: {self.encoder}\")\n",
    "        else:\n",
    "            self.encoder = PointNetEncoder(use_bn)\n",
    "            print(f\"Using PointNet as encoder - encoder: {self.encoder}\")\n",
    "        \n",
    "        self.max_points = max_points\n",
    "\n",
    "        self.input_size = self.get_input_size()        \n",
    "        self.output_size = output_size\n",
    "\n",
    "        print(f'Creating a PredictionHead with {self.input_size} as input and {self.output_size} as output')\n",
    "        self.decoder = PredictionHead(self.input_size, self.output_size, use_bn, use_relu=True)\n",
    "        \n",
    "        #self.softmax = nn.Softmax(dim=1)\n",
    "\n",
    "    def get_input_size(self):\n",
    "        mock_x = torch.randn(1, 3, self.max_points)\n",
    "        return self.encoder(mock_x).shape[-1]\n",
    "\n",
    "    def forward(self, x):\n",
    "        x = self.encoder(x)\n",
    "        x = self.decoder(x)\n",
    "        #x = self.softmax(x)\n",
    "\n",
    "        return x #SoftMax already inside the CrossEntropyLoss"
   ]
  },
  {
   "cell_type": "markdown",
   "metadata": {},
   "source": [
    "### Config Definition"
   ]
  },
  {
   "cell_type": "code",
   "execution_count": 34,
   "metadata": {},
   "outputs": [
    {
     "name": "stdout",
     "output_type": "stream",
     "text": [
      "Creating a test dataset from ../datasets/train_set-2_cls-1000_images.csv\n",
      "Test dataset has 1000 rows\n"
     ]
    }
   ],
   "source": [
    "from datetime import datetime\n",
    "from torch import optim\n",
    "\n",
    "time_now = datetime.now()\n",
    "time_now = time_now.strftime('%d%m%Y_%H%M%S')\n",
    "_folder = !pwd\n",
    "\n",
    "env = {}\n",
    "\n",
    "### Debug\n",
    "env['debug_loss'] = True\n",
    "\n",
    "env['project_folder'] = _folder[0]\n",
    "env['project'] = 'shrec-2025'\n",
    "env['run'] = env['project'] + '_' + time_now\n",
    "#env['output_dir'] = os.path.join(env['project_folder'], 'wandb', 'run_' + env['run'])\n",
    "if 'output' not in os.listdir(env['project_folder']):\n",
    "    os.mkdir('output')\n",
    "env['output_dir'] = Path(env['project_folder']) / 'output'\n",
    "\n",
    "env['max_points'] = 10000\n",
    "\n",
    "#env['dataset'] = 'train_set-2_cls-1000_images.csv' \n",
    "#env['dataset'] = 'train_set-all.csv'\n",
    "#env['dataset'] = 'train_set-all-cls_except-cls-larger-than-450.csv'\n",
    "#env['dataset'] = 'train_set-symmetria-100k-easy-astroid-citrus-10k-samples.csv'\n",
    "env['dataset'] = 'train_set-2_cls-1000_images.csv'\n",
    "#env['dataset_path'] = '/mnt/dataset/shrec-2025-protein-classification/v2-20250331'\n",
    "env['dataset_path'] = root\n",
    "\n",
    "ds_path = Path('../datasets') / env['dataset']\n",
    "print(f'Creating a test dataset from {ds_path}')\n",
    "\n",
    "test = pd.read_csv(ds_path, index_col=0)\n",
    "print(f'Test dataset has {len(test)} rows')"
   ]
  },
  {
   "cell_type": "markdown",
   "metadata": {},
   "source": [
    "### Model Definition"
   ]
  },
  {
   "cell_type": "code",
   "execution_count": 35,
   "metadata": {
    "scrolled": false
   },
   "outputs": [
    {
     "name": "stdout",
     "output_type": "stream",
     "text": [
      "Using PointNet as encoder - encoder: PointNetEncoder(\n",
      "  (input_transform): TNet(\n",
      "    (shared_mlps): Sequential(\n",
      "      (0): Conv1d(3, 64, kernel_size=(1,), stride=(1,))\n",
      "      (1): ReLU()\n",
      "      (2): Conv1d(64, 128, kernel_size=(1,), stride=(1,))\n",
      "      (3): ReLU()\n",
      "      (4): Conv1d(128, 1024, kernel_size=(1,), stride=(1,))\n",
      "      (5): ReLU()\n",
      "    )\n",
      "    (linear): Sequential(\n",
      "      (0): Linear(in_features=1024, out_features=512, bias=True)\n",
      "      (1): ReLU()\n",
      "      (2): Linear(in_features=512, out_features=256, bias=True)\n",
      "      (3): ReLU()\n",
      "      (4): Linear(in_features=256, out_features=9, bias=True)\n",
      "    )\n",
      "  )\n",
      "  (feature_transform): TNet(\n",
      "    (shared_mlps): Sequential(\n",
      "      (0): Conv1d(64, 64, kernel_size=(1,), stride=(1,))\n",
      "      (1): ReLU()\n",
      "      (2): Conv1d(64, 128, kernel_size=(1,), stride=(1,))\n",
      "      (3): ReLU()\n",
      "      (4): Conv1d(128, 1024, kernel_size=(1,), stride=(1,))\n",
      "      (5): ReLU()\n",
      "    )\n",
      "    (linear): Sequential(\n",
      "      (0): Linear(in_features=1024, out_features=512, bias=True)\n",
      "      (1): ReLU()\n",
      "      (2): Linear(in_features=512, out_features=256, bias=True)\n",
      "      (3): ReLU()\n",
      "      (4): Linear(in_features=256, out_features=4096, bias=True)\n",
      "    )\n",
      "  )\n",
      "  (shared_mlps): Sequential(\n",
      "    (0): Conv1d(3, 64, kernel_size=(1,), stride=(1,))\n",
      "    (1): LeakyReLU(negative_slope=0.01)\n",
      "  )\n",
      "  (shared_mlps_2): Sequential(\n",
      "    (0): Conv1d(64, 128, kernel_size=(1,), stride=(1,))\n",
      "    (1): LeakyReLU(negative_slope=0.01)\n",
      "    (2): Conv1d(128, 256, kernel_size=(1,), stride=(1,))\n",
      "    (3): LeakyReLU(negative_slope=0.01)\n",
      "    (4): Conv1d(256, 1024, kernel_size=(1,), stride=(1,))\n",
      "  )\n",
      ")\n",
      "Creating a PredictionHead with 1024 as input and 2 as output\n"
     ]
    }
   ],
   "source": [
    "env['device'] = 'cuda:0'\n",
    "env['val_pct'] = 0.2\n",
    "env['augmentations_on'] = True\n",
    "'''\n",
    "env['aug'] = [Translate(p=0.8),\n",
    "              UnitSphereNormalization(),\n",
    "              RotateAroundZero(p=0.8),\n",
    "              GaussianNoise(n=10, T=(env['max_points']//2),  p=0.8),\n",
    "              RandomSampler(sample_size=env['max_points'])]\n",
    "'''\n",
    "\n",
    "env['aug'] = [Translate(p=0.5),\n",
    "              UnitSphereNormalization(),\n",
    "              RandomSampler(sample_size=env['max_points']),\n",
    "              GaussianNoise(n=10, T=(env['max_points']//2),  p=0.5),\n",
    "              ]\n",
    "\n",
    "#env['aug'] = [UnitSphereNormalization()]\n",
    "#env['aug'] = []\n",
    "\n",
    "env['bs'] = 1\n",
    "env['epochs'] = 100\n",
    "env['lr'] = 1e-4\n",
    "env['wd'] = 0.05 # because \"PointNeXt is trained with a weight decay of 0.05 for 250 epochs\" - nope, too large, doesn't learn!\n",
    "env['wd'] = 1e-4 # because of this: https://github.com/yanx27/Pointnet_Pointnet2_pytorch/blob/master/train_classification.py\n",
    "\n",
    "env['encoder']   = 'pointnet'\n",
    "#env['encoder']  = 'PointNeXt_XXL'\n",
    "env['model']     = PointNet(output_size=len(test['class_id'].unique()), max_points=env['max_points'], encoder=env['encoder']).to(torch.device(env['device']))\n",
    "\n",
    "env['model_pth'] = '/tmp/pointnet.pth'\n",
    "env['pretrain']  = False\n",
    "\n",
    "if env['pretrain']:\n",
    "    if not Path(env['model_pth']).exists():\n",
    "        !wget 'https://github.com/meder411/PointNet-PyTorch/raw/refs/heads/master/classifier_model_state.pth' --output-document \"{env['model_pth']}\"\n",
    "    else:\n",
    "        print(f'{env['model_pth']} already exists, skipping download...')\n",
    "    torch.load(env['model_pth'], map_location=torch.device(env['device']))\n",
    "\n",
    "env['loss_func'] = nn.CrossEntropyLoss()\n",
    "env['optimizer'] = optim.Adam(env['model'].parameters(), lr=env['lr'], weight_decay=env['wd'])"
   ]
  },
  {
   "cell_type": "code",
   "execution_count": 36,
   "metadata": {
    "scrolled": false
   },
   "outputs": [
    {
     "data": {
      "text/plain": [
       "{'debug_loss': True,\n",
       " 'project_folder': '/home/giorgio/venvs/SHREC/notebooks',\n",
       " 'project': 'shrec-2025',\n",
       " 'run': 'shrec-2025_03042025_153656',\n",
       " 'output_dir': PosixPath('/home/giorgio/venvs/SHREC/notebooks/output'),\n",
       " 'max_points': 10000,\n",
       " 'dataset': 'train_set-2_cls-1000_images.csv',\n",
       " 'dataset_path': PosixPath('/mnt/dataset/shrec-2025-protein-classification/v2-20250331'),\n",
       " 'device': 'cuda:0',\n",
       " 'val_pct': 0.2,\n",
       " 'augmentations_on': True,\n",
       " 'aug': [Translate(p=0.5, shift=None, scale=1),\n",
       "  <symmetria.transforms.UnitSphereNormalization.UnitSphereNormalization at 0x7e8b88412000>,\n",
       "  <symmetria.transforms.RandomSampler.RandomSampler at 0x7e8b88413a40>,\n",
       "  GaussianNoise(n=10, T=5000, p=0.5)],\n",
       " 'bs': 1,\n",
       " 'epochs': 100,\n",
       " 'lr': 0.0001,\n",
       " 'wd': 0.0001,\n",
       " 'encoder': 'pointnet',\n",
       " 'model': PointNet(\n",
       "   (encoder): PointNetEncoder(\n",
       "     (input_transform): TNet(\n",
       "       (shared_mlps): Sequential(\n",
       "         (0): Conv1d(3, 64, kernel_size=(1,), stride=(1,))\n",
       "         (1): ReLU()\n",
       "         (2): Conv1d(64, 128, kernel_size=(1,), stride=(1,))\n",
       "         (3): ReLU()\n",
       "         (4): Conv1d(128, 1024, kernel_size=(1,), stride=(1,))\n",
       "         (5): ReLU()\n",
       "       )\n",
       "       (linear): Sequential(\n",
       "         (0): Linear(in_features=1024, out_features=512, bias=True)\n",
       "         (1): ReLU()\n",
       "         (2): Linear(in_features=512, out_features=256, bias=True)\n",
       "         (3): ReLU()\n",
       "         (4): Linear(in_features=256, out_features=9, bias=True)\n",
       "       )\n",
       "     )\n",
       "     (feature_transform): TNet(\n",
       "       (shared_mlps): Sequential(\n",
       "         (0): Conv1d(64, 64, kernel_size=(1,), stride=(1,))\n",
       "         (1): ReLU()\n",
       "         (2): Conv1d(64, 128, kernel_size=(1,), stride=(1,))\n",
       "         (3): ReLU()\n",
       "         (4): Conv1d(128, 1024, kernel_size=(1,), stride=(1,))\n",
       "         (5): ReLU()\n",
       "       )\n",
       "       (linear): Sequential(\n",
       "         (0): Linear(in_features=1024, out_features=512, bias=True)\n",
       "         (1): ReLU()\n",
       "         (2): Linear(in_features=512, out_features=256, bias=True)\n",
       "         (3): ReLU()\n",
       "         (4): Linear(in_features=256, out_features=4096, bias=True)\n",
       "       )\n",
       "     )\n",
       "     (shared_mlps): Sequential(\n",
       "       (0): Conv1d(3, 64, kernel_size=(1,), stride=(1,))\n",
       "       (1): LeakyReLU(negative_slope=0.01)\n",
       "     )\n",
       "     (shared_mlps_2): Sequential(\n",
       "       (0): Conv1d(64, 128, kernel_size=(1,), stride=(1,))\n",
       "       (1): LeakyReLU(negative_slope=0.01)\n",
       "       (2): Conv1d(128, 256, kernel_size=(1,), stride=(1,))\n",
       "       (3): LeakyReLU(negative_slope=0.01)\n",
       "       (4): Conv1d(256, 1024, kernel_size=(1,), stride=(1,))\n",
       "     )\n",
       "   )\n",
       "   (decoder): PredictionHead(\n",
       "     (decoder_head): Sequential(\n",
       "       (0): Linear(in_features=1024, out_features=512, bias=True)\n",
       "       (1): ReLU()\n",
       "       (2): Linear(in_features=512, out_features=256, bias=True)\n",
       "       (3): ReLU()\n",
       "       (4): Linear(in_features=256, out_features=2, bias=True)\n",
       "     )\n",
       "   )\n",
       " ),\n",
       " 'model_pth': '/tmp/pointnet.pth',\n",
       " 'pretrain': False,\n",
       " 'loss_func': CrossEntropyLoss(),\n",
       " 'optimizer': Adam (\n",
       " Parameter Group 0\n",
       "     amsgrad: False\n",
       "     betas: (0.9, 0.999)\n",
       "     capturable: False\n",
       "     differentiable: False\n",
       "     eps: 1e-08\n",
       "     foreach: None\n",
       "     fused: None\n",
       "     lr: 0.0001\n",
       "     maximize: False\n",
       "     weight_decay: 0.0001\n",
       " )}"
      ]
     },
     "execution_count": 36,
     "metadata": {},
     "output_type": "execute_result"
    }
   ],
   "source": [
    "env"
   ]
  },
  {
   "cell_type": "markdown",
   "metadata": {},
   "source": [
    "### Training Loop"
   ]
  },
  {
   "cell_type": "code",
   "execution_count": 39,
   "metadata": {},
   "outputs": [],
   "source": [
    "import wandb\n",
    "\n",
    "def calculate_loss(logits, target, loss_func):\n",
    "    output    = torch.argmax(logits, dim=1)\n",
    "    target    = target.to(torch.int64)\n",
    "    #softmaxed = torch.softmax(logits, dim=1)\n",
    "    loss      = loss_func(logits, target)\n",
    "    return loss, output, target\n",
    "\n",
    "def train(train_dl, valid_dl, env):\n",
    "    net = env['model']\n",
    "    loss_func = env['loss_func']\n",
    "    optimizer = env['optimizer']\n",
    "\n",
    "    wandb.init(project=env['project'], name=env['run'], dir=env['output_dir'], config=env)\n",
    "\n",
    "    for epoch in range(env['epochs']):\n",
    "        print('/' * 20 + f' Epoch: {epoch + 1} ' + '/' * 20)\n",
    "        for step, batch in enumerate(tqdm(train_dl)):\n",
    "            input_p, target = batch\n",
    "\n",
    "            net.zero_grad()\n",
    "\n",
    "            logits = net(input_p)\n",
    "            #print(f'{Text(output, 'output'):content}')\n",
    "            #print(f'{Text(target, 'target'):content}')\n",
    "            \n",
    "            '''\n",
    "            output = torch.argmax(logits, dim=1)\n",
    "            target = target.to(torch.int64)\n",
    "            loss = loss_func(output, target)\n",
    "            '''\n",
    "            loss, output, target = calculate_loss(logits, target, loss_func)\n",
    "            if env['debug_loss'] and step % 1000 == 0:\n",
    "                print(f'pred: {int(output)} - target: {int(target)} - loss: {loss:.3f} - raw pred: {logits}')\n",
    "            wandb.log({'epoch': epoch,\n",
    "                    'loss': loss})\n",
    "            #print(f'Training loss: {loss}')\n",
    "            loss.backward()\n",
    "            optimizer.step()\n",
    "\n",
    "        print('/' * 20 + ' Validation ' + '/' * 20)\n",
    "        with torch.no_grad():\n",
    "            val_loss = []\n",
    "            acc = []\n",
    "            for step, batch in enumerate(tqdm(valid_dl)):\n",
    "                input_p, target = batch\n",
    "                \n",
    "                logits = net(input_p)\n",
    "\n",
    "                '''\n",
    "                output = torch.argmax(logits, dim=1)\n",
    "                target = target.to(torch.int64)\n",
    "                loss = loss_func(output, target).cpu()\n",
    "                '''\n",
    "                loss, output, target = calculate_loss(logits, target, loss_func)\n",
    "                if env['debug_loss'] and step % 1000 == 0:\n",
    "                    print(f'pred: {int(output)} - target: {int(target)} - loss: {loss:.3f} - raw pred: {logits}')\n",
    "                \n",
    "                val_loss.append(loss.cpu())\n",
    "\n",
    "                #matching = [torch.argmax(i) == torch.argmax(j) for i, j in zip(output, target)]\n",
    "                matching = [int(i) == int(j) for i, j in zip(output, target)]\n",
    "                accuracy = matching.count(True)/len(matching)\n",
    "                \n",
    "                if env['debug_loss'] and step % 10 == 0:\n",
    "                    print(f'{matching = } - {accuracy = }')\n",
    "                acc.append(accuracy)\n",
    "            wandb.log({'epoch': epoch,\n",
    "                    'step': step,\n",
    "                    'val_loss': np.mean(val_loss),\n",
    "                    'accuracy': np.mean(acc)})\n",
    "\n",
    "    wandb.finish()"
   ]
  },
  {
   "cell_type": "code",
   "execution_count": 37,
   "metadata": {
    "scrolled": true
   },
   "outputs": [
    {
     "name": "stderr",
     "output_type": "stream",
     "text": [
      "100%|██████████| 800/800 [00:08<00:00, 94.61it/s]\n",
      "100%|██████████| 200/200 [00:02<00:00, 95.06it/s]\n"
     ]
    }
   ],
   "source": [
    "test_train_ds, test_valid_ds = generate_train_valid_set(df=test, tfms=env['aug'], val_pct=env['val_pct'], root=mountpoint)\n",
    "test_train_dl, test_valid_dl = DataLoader(test_train_ds, batch_size=env['bs'], shuffle=True), DataLoader(test_valid_ds, batch_size=env['bs'], shuffle=True)"
   ]
  },
  {
   "cell_type": "code",
   "execution_count": 40,
   "metadata": {
    "scrolled": false
   },
   "outputs": [
    {
     "name": "stderr",
     "output_type": "stream",
     "text": [
      "\u001b[34m\u001b[1mwandb\u001b[0m: Using wandb-core as the SDK backend.  Please refer to https://wandb.me/wandb-core for more information.\n",
      "\u001b[34m\u001b[1mwandb\u001b[0m: Currently logged in as: \u001b[33mg-palmieri4998\u001b[0m (\u001b[33mg-palmieri4998-cnr-imati\u001b[0m) to \u001b[32mhttps://api.wandb.ai\u001b[0m. Use \u001b[1m`wandb login --relogin`\u001b[0m to force relogin\n"
     ]
    },
    {
     "data": {
      "text/html": [
       "Tracking run with wandb version 0.19.8"
      ],
      "text/plain": [
       "<IPython.core.display.HTML object>"
      ]
     },
     "metadata": {},
     "output_type": "display_data"
    },
    {
     "data": {
      "text/html": [
       "Run data is saved locally in <code>/home/giorgio/venvs/SHREC/notebooks/output/wandb/run-20250403_153729-xncwejos</code>"
      ],
      "text/plain": [
       "<IPython.core.display.HTML object>"
      ]
     },
     "metadata": {},
     "output_type": "display_data"
    },
    {
     "data": {
      "text/html": [
       "Syncing run <strong><a href='https://wandb.ai/g-palmieri4998-cnr-imati/shrec-2025/runs/xncwejos' target=\"_blank\">shrec-2025_03042025_153656</a></strong> to <a href='https://wandb.ai/g-palmieri4998-cnr-imati/shrec-2025' target=\"_blank\">Weights & Biases</a> (<a href='https://wandb.me/developer-guide' target=\"_blank\">docs</a>)<br>"
      ],
      "text/plain": [
       "<IPython.core.display.HTML object>"
      ]
     },
     "metadata": {},
     "output_type": "display_data"
    },
    {
     "data": {
      "text/html": [
       " View project at <a href='https://wandb.ai/g-palmieri4998-cnr-imati/shrec-2025' target=\"_blank\">https://wandb.ai/g-palmieri4998-cnr-imati/shrec-2025</a>"
      ],
      "text/plain": [
       "<IPython.core.display.HTML object>"
      ]
     },
     "metadata": {},
     "output_type": "display_data"
    },
    {
     "data": {
      "text/html": [
       " View run at <a href='https://wandb.ai/g-palmieri4998-cnr-imati/shrec-2025/runs/xncwejos' target=\"_blank\">https://wandb.ai/g-palmieri4998-cnr-imati/shrec-2025/runs/xncwejos</a>"
      ],
      "text/plain": [
       "<IPython.core.display.HTML object>"
      ]
     },
     "metadata": {},
     "output_type": "display_data"
    },
    {
     "name": "stdout",
     "output_type": "stream",
     "text": [
      "//////////////////// Epoch: 1 ////////////////////\n"
     ]
    },
    {
     "name": "stderr",
     "output_type": "stream",
     "text": [
      "  0%|          | 1/800 [00:00<05:01,  2.65it/s]"
     ]
    },
    {
     "name": "stdout",
     "output_type": "stream",
     "text": [
      "pred: 1 - target: 1 - loss: 0.675 - raw pred: tensor([[-0.0248,  0.0115]], device='cuda:0', grad_fn=<AddmmBackward0>)\n"
     ]
    },
    {
     "name": "stderr",
     "output_type": "stream",
     "text": [
      "100%|██████████| 800/800 [00:05<00:00, 155.92it/s]\n"
     ]
    },
    {
     "name": "stdout",
     "output_type": "stream",
     "text": [
      "//////////////////// Validation ////////////////////\n"
     ]
    },
    {
     "name": "stderr",
     "output_type": "stream",
     "text": [
      " 22%|██▏       | 43/200 [00:00<00:00, 422.86it/s]"
     ]
    },
    {
     "name": "stdout",
     "output_type": "stream",
     "text": [
      "pred: 0 - target: 0 - loss: 0.022 - raw pred: tensor([[ 2.1264, -1.6890]], device='cuda:0')\n",
      "matching = [True] - accuracy = 1.0\n",
      "matching = [True] - accuracy = 1.0\n",
      "matching = [True] - accuracy = 1.0\n",
      "matching = [False] - accuracy = 0.0\n",
      "matching = [True] - accuracy = 1.0\n",
      "matching = [True] - accuracy = 1.0\n",
      "matching = [True] - accuracy = 1.0\n",
      "matching = [True] - accuracy = 1.0\n",
      "matching = [True] - accuracy = 1.0\n"
     ]
    },
    {
     "name": "stderr",
     "output_type": "stream",
     "text": [
      " 86%|████████▌ | 172/200 [00:00<00:00, 425.48it/s]"
     ]
    },
    {
     "name": "stdout",
     "output_type": "stream",
     "text": [
      "matching = [False] - accuracy = 0.0\n",
      "matching = [True] - accuracy = 1.0\n",
      "matching = [True] - accuracy = 1.0\n",
      "matching = [True] - accuracy = 1.0\n",
      "matching = [True] - accuracy = 1.0\n",
      "matching = [True] - accuracy = 1.0\n",
      "matching = [True] - accuracy = 1.0\n",
      "matching = [True] - accuracy = 1.0\n",
      "matching = [True] - accuracy = 1.0\n"
     ]
    },
    {
     "name": "stderr",
     "output_type": "stream",
     "text": [
      "100%|██████████| 200/200 [00:00<00:00, 423.47it/s]\n"
     ]
    },
    {
     "name": "stdout",
     "output_type": "stream",
     "text": [
      "matching = [False] - accuracy = 0.0\n",
      "matching = [False] - accuracy = 0.0\n",
      "//////////////////// Epoch: 2 ////////////////////\n"
     ]
    },
    {
     "name": "stderr",
     "output_type": "stream",
     "text": [
      "  2%|▏         | 17/800 [00:00<00:04, 165.50it/s]"
     ]
    },
    {
     "name": "stdout",
     "output_type": "stream",
     "text": [
      "pred: 0 - target: 1 - loss: 0.700 - raw pred: tensor([[ 0.0130, -0.0003]], device='cuda:0', grad_fn=<AddmmBackward0>)\n"
     ]
    },
    {
     "name": "stderr",
     "output_type": "stream",
     "text": [
      "100%|██████████| 800/800 [00:04<00:00, 167.69it/s]\n"
     ]
    },
    {
     "name": "stdout",
     "output_type": "stream",
     "text": [
      "//////////////////// Validation ////////////////////\n"
     ]
    },
    {
     "name": "stderr",
     "output_type": "stream",
     "text": [
      " 21%|██        | 42/200 [00:00<00:00, 412.22it/s]"
     ]
    },
    {
     "name": "stdout",
     "output_type": "stream",
     "text": [
      "pred: 1 - target: 1 - loss: 0.577 - raw pred: tensor([[-0.1001,  0.1472]], device='cuda:0')\n",
      "matching = [True] - accuracy = 1.0\n",
      "matching = [True] - accuracy = 1.0\n",
      "matching = [True] - accuracy = 1.0\n",
      "matching = [True] - accuracy = 1.0\n",
      "matching = [True] - accuracy = 1.0\n",
      "matching = [True] - accuracy = 1.0\n",
      "matching = [True] - accuracy = 1.0\n",
      "matching = [True] - accuracy = 1.0\n",
      "matching = [True] - accuracy = 1.0\n"
     ]
    },
    {
     "name": "stderr",
     "output_type": "stream",
     "text": [
      " 86%|████████▌ | 171/200 [00:00<00:00, 421.11it/s]"
     ]
    },
    {
     "name": "stdout",
     "output_type": "stream",
     "text": [
      "matching = [True] - accuracy = 1.0\n",
      "matching = [True] - accuracy = 1.0\n",
      "matching = [True] - accuracy = 1.0\n",
      "matching = [True] - accuracy = 1.0\n",
      "matching = [True] - accuracy = 1.0\n",
      "matching = [True] - accuracy = 1.0\n",
      "matching = [True] - accuracy = 1.0\n",
      "matching = [True] - accuracy = 1.0\n",
      "matching = [True] - accuracy = 1.0\n"
     ]
    },
    {
     "name": "stderr",
     "output_type": "stream",
     "text": [
      "100%|██████████| 200/200 [00:00<00:00, 419.63it/s]\n"
     ]
    },
    {
     "name": "stdout",
     "output_type": "stream",
     "text": [
      "matching = [True] - accuracy = 1.0\n",
      "matching = [True] - accuracy = 1.0\n",
      "//////////////////// Epoch: 3 ////////////////////\n"
     ]
    },
    {
     "name": "stderr",
     "output_type": "stream",
     "text": [
      "  2%|▏         | 17/800 [00:00<00:04, 167.50it/s]"
     ]
    },
    {
     "name": "stdout",
     "output_type": "stream",
     "text": [
      "pred: 0 - target: 0 - loss: 0.092 - raw pred: tensor([[ 1.2989, -1.0429]], device='cuda:0', grad_fn=<AddmmBackward0>)\n"
     ]
    },
    {
     "name": "stderr",
     "output_type": "stream",
     "text": [
      "100%|██████████| 800/800 [00:04<00:00, 165.97it/s]\n"
     ]
    },
    {
     "name": "stdout",
     "output_type": "stream",
     "text": [
      "//////////////////// Validation ////////////////////\n"
     ]
    },
    {
     "name": "stderr",
     "output_type": "stream",
     "text": [
      " 22%|██▏       | 43/200 [00:00<00:00, 426.38it/s]"
     ]
    },
    {
     "name": "stdout",
     "output_type": "stream",
     "text": [
      "pred: 1 - target: 0 - loss: 1.762 - raw pred: tensor([[-0.8048,  0.7691]], device='cuda:0')\n",
      "matching = [False] - accuracy = 0.0\n",
      "matching = [True] - accuracy = 1.0\n",
      "matching = [True] - accuracy = 1.0\n",
      "matching = [True] - accuracy = 1.0\n",
      "matching = [True] - accuracy = 1.0\n",
      "matching = [True] - accuracy = 1.0\n",
      "matching = [True] - accuracy = 1.0\n",
      "matching = [True] - accuracy = 1.0\n",
      "matching = [True] - accuracy = 1.0\n"
     ]
    },
    {
     "name": "stderr",
     "output_type": "stream",
     "text": [
      " 86%|████████▌ | 172/200 [00:00<00:00, 426.01it/s]"
     ]
    },
    {
     "name": "stdout",
     "output_type": "stream",
     "text": [
      "matching = [True] - accuracy = 1.0\n",
      "matching = [True] - accuracy = 1.0\n",
      "matching = [False] - accuracy = 0.0\n",
      "matching = [True] - accuracy = 1.0\n",
      "matching = [True] - accuracy = 1.0\n",
      "matching = [True] - accuracy = 1.0\n",
      "matching = [True] - accuracy = 1.0\n",
      "matching = [True] - accuracy = 1.0\n",
      "matching = [True] - accuracy = 1.0\n"
     ]
    },
    {
     "name": "stderr",
     "output_type": "stream",
     "text": [
      "100%|██████████| 200/200 [00:00<00:00, 425.34it/s]\n"
     ]
    },
    {
     "name": "stdout",
     "output_type": "stream",
     "text": [
      "matching = [False] - accuracy = 0.0\n",
      "matching = [True] - accuracy = 1.0\n",
      "//////////////////// Epoch: 4 ////////////////////\n"
     ]
    },
    {
     "name": "stderr",
     "output_type": "stream",
     "text": [
      "  2%|▏         | 17/800 [00:00<00:04, 168.51it/s]"
     ]
    },
    {
     "name": "stdout",
     "output_type": "stream",
     "text": [
      "pred: 1 - target: 1 - loss: 0.221 - raw pred: tensor([[-0.7160,  0.6799]], device='cuda:0', grad_fn=<AddmmBackward0>)\n"
     ]
    },
    {
     "name": "stderr",
     "output_type": "stream",
     "text": [
      "100%|██████████| 800/800 [00:04<00:00, 166.54it/s]\n"
     ]
    },
    {
     "name": "stdout",
     "output_type": "stream",
     "text": [
      "//////////////////// Validation ////////////////////\n"
     ]
    },
    {
     "name": "stderr",
     "output_type": "stream",
     "text": [
      " 22%|██▏       | 43/200 [00:00<00:00, 426.25it/s]"
     ]
    },
    {
     "name": "stdout",
     "output_type": "stream",
     "text": [
      "pred: 1 - target: 1 - loss: 0.127 - raw pred: tensor([[-1.0171,  0.9823]], device='cuda:0')\n",
      "matching = [True] - accuracy = 1.0\n",
      "matching = [True] - accuracy = 1.0\n",
      "matching = [True] - accuracy = 1.0\n",
      "matching = [True] - accuracy = 1.0\n",
      "matching = [True] - accuracy = 1.0\n",
      "matching = [True] - accuracy = 1.0\n",
      "matching = [True] - accuracy = 1.0\n",
      "matching = [True] - accuracy = 1.0\n",
      "matching = [False] - accuracy = 0.0\n"
     ]
    },
    {
     "name": "stderr",
     "output_type": "stream",
     "text": [
      " 87%|████████▋ | 174/200 [00:00<00:00, 427.95it/s]"
     ]
    },
    {
     "name": "stdout",
     "output_type": "stream",
     "text": [
      "matching = [True] - accuracy = 1.0\n",
      "matching = [True] - accuracy = 1.0\n",
      "matching = [True] - accuracy = 1.0\n",
      "matching = [False] - accuracy = 0.0\n",
      "matching = [True] - accuracy = 1.0\n",
      "matching = [True] - accuracy = 1.0\n",
      "matching = [True] - accuracy = 1.0\n",
      "matching = [True] - accuracy = 1.0\n",
      "matching = [True] - accuracy = 1.0\n"
     ]
    },
    {
     "name": "stderr",
     "output_type": "stream",
     "text": [
      "100%|██████████| 200/200 [00:00<00:00, 426.11it/s]\n"
     ]
    },
    {
     "name": "stdout",
     "output_type": "stream",
     "text": [
      "matching = [True] - accuracy = 1.0\n",
      "matching = [True] - accuracy = 1.0\n",
      "//////////////////// Epoch: 5 ////////////////////\n"
     ]
    },
    {
     "name": "stderr",
     "output_type": "stream",
     "text": [
      "  2%|▏         | 18/800 [00:00<00:04, 176.07it/s]"
     ]
    },
    {
     "name": "stdout",
     "output_type": "stream",
     "text": [
      "pred: 0 - target: 0 - loss: 0.018 - raw pred: tensor([[ 2.2289, -1.8036]], device='cuda:0', grad_fn=<AddmmBackward0>)\n"
     ]
    },
    {
     "name": "stderr",
     "output_type": "stream",
     "text": [
      "100%|██████████| 800/800 [00:04<00:00, 167.00it/s]\n"
     ]
    },
    {
     "name": "stdout",
     "output_type": "stream",
     "text": [
      "//////////////////// Validation ////////////////////\n"
     ]
    },
    {
     "name": "stderr",
     "output_type": "stream",
     "text": [
      " 21%|██        | 42/200 [00:00<00:00, 419.58it/s]"
     ]
    },
    {
     "name": "stdout",
     "output_type": "stream",
     "text": [
      "pred: 0 - target: 0 - loss: 0.004 - raw pred: tensor([[ 3.0058, -2.4638]], device='cuda:0')\n",
      "matching = [True] - accuracy = 1.0\n",
      "matching = [True] - accuracy = 1.0\n",
      "matching = [True] - accuracy = 1.0\n",
      "matching = [True] - accuracy = 1.0\n",
      "matching = [True] - accuracy = 1.0\n",
      "matching = [True] - accuracy = 1.0\n",
      "matching = [True] - accuracy = 1.0\n",
      "matching = [True] - accuracy = 1.0\n",
      "matching = [True] - accuracy = 1.0\n"
     ]
    },
    {
     "name": "stderr",
     "output_type": "stream",
     "text": [
      " 85%|████████▌ | 170/200 [00:00<00:00, 420.73it/s]"
     ]
    },
    {
     "name": "stdout",
     "output_type": "stream",
     "text": [
      "matching = [True] - accuracy = 1.0\n",
      "matching = [True] - accuracy = 1.0\n",
      "matching = [True] - accuracy = 1.0\n",
      "matching = [True] - accuracy = 1.0\n",
      "matching = [True] - accuracy = 1.0\n",
      "matching = [True] - accuracy = 1.0\n",
      "matching = [True] - accuracy = 1.0\n",
      "matching = [True] - accuracy = 1.0\n",
      "matching = [True] - accuracy = 1.0\n"
     ]
    },
    {
     "name": "stderr",
     "output_type": "stream",
     "text": [
      "100%|██████████| 200/200 [00:00<00:00, 419.72it/s]\n"
     ]
    },
    {
     "name": "stdout",
     "output_type": "stream",
     "text": [
      "matching = [True] - accuracy = 1.0\n",
      "matching = [True] - accuracy = 1.0\n",
      "//////////////////// Epoch: 6 ////////////////////\n"
     ]
    },
    {
     "name": "stderr",
     "output_type": "stream",
     "text": [
      "  2%|▏         | 17/800 [00:00<00:04, 164.63it/s]"
     ]
    },
    {
     "name": "stdout",
     "output_type": "stream",
     "text": [
      "pred: 0 - target: 0 - loss: 0.064 - raw pred: tensor([[ 1.4887, -1.2249]], device='cuda:0', grad_fn=<AddmmBackward0>)\n"
     ]
    },
    {
     "name": "stderr",
     "output_type": "stream",
     "text": [
      "100%|██████████| 800/800 [00:04<00:00, 168.49it/s]\n"
     ]
    },
    {
     "name": "stdout",
     "output_type": "stream",
     "text": [
      "//////////////////// Validation ////////////////////\n"
     ]
    },
    {
     "name": "stderr",
     "output_type": "stream",
     "text": [
      " 21%|██        | 42/200 [00:00<00:00, 414.96it/s]"
     ]
    },
    {
     "name": "stdout",
     "output_type": "stream",
     "text": [
      "pred: 0 - target: 0 - loss: 0.005 - raw pred: tensor([[ 2.9356, -2.4070]], device='cuda:0')\n",
      "matching = [True] - accuracy = 1.0\n",
      "matching = [True] - accuracy = 1.0\n",
      "matching = [True] - accuracy = 1.0\n",
      "matching = [True] - accuracy = 1.0\n",
      "matching = [True] - accuracy = 1.0\n",
      "matching = [True] - accuracy = 1.0\n",
      "matching = [True] - accuracy = 1.0\n",
      "matching = [True] - accuracy = 1.0\n",
      "matching = [True] - accuracy = 1.0\n"
     ]
    },
    {
     "name": "stderr",
     "output_type": "stream",
     "text": [
      " 84%|████████▍ | 168/200 [00:00<00:00, 416.55it/s]"
     ]
    },
    {
     "name": "stdout",
     "output_type": "stream",
     "text": [
      "matching = [True] - accuracy = 1.0\n",
      "matching = [True] - accuracy = 1.0\n",
      "matching = [True] - accuracy = 1.0\n",
      "matching = [True] - accuracy = 1.0\n",
      "matching = [True] - accuracy = 1.0\n",
      "matching = [True] - accuracy = 1.0\n",
      "matching = [True] - accuracy = 1.0\n",
      "matching = [True] - accuracy = 1.0\n",
      "matching = [True] - accuracy = 1.0\n"
     ]
    },
    {
     "name": "stderr",
     "output_type": "stream",
     "text": [
      "100%|██████████| 200/200 [00:00<00:00, 414.88it/s]\n"
     ]
    },
    {
     "name": "stdout",
     "output_type": "stream",
     "text": [
      "matching = [True] - accuracy = 1.0\n",
      "matching = [True] - accuracy = 1.0\n",
      "//////////////////// Epoch: 7 ////////////////////\n"
     ]
    },
    {
     "name": "stderr",
     "output_type": "stream",
     "text": [
      "  2%|▏         | 17/800 [00:00<00:04, 163.63it/s]"
     ]
    },
    {
     "name": "stdout",
     "output_type": "stream",
     "text": [
      "pred: 0 - target: 0 - loss: 0.282 - raw pred: tensor([[ 0.6136, -0.5079]], device='cuda:0', grad_fn=<AddmmBackward0>)\n"
     ]
    },
    {
     "name": "stderr",
     "output_type": "stream",
     "text": [
      "100%|██████████| 800/800 [00:04<00:00, 167.19it/s]\n"
     ]
    },
    {
     "name": "stdout",
     "output_type": "stream",
     "text": [
      "//////////////////// Validation ////////////////////\n"
     ]
    },
    {
     "name": "stderr",
     "output_type": "stream",
     "text": [
      " 21%|██        | 42/200 [00:00<00:00, 410.78it/s]"
     ]
    },
    {
     "name": "stdout",
     "output_type": "stream",
     "text": [
      "pred: 1 - target: 1 - loss: 0.019 - raw pred: tensor([[-1.9796,  1.9526]], device='cuda:0')\n",
      "matching = [True] - accuracy = 1.0\n",
      "matching = [True] - accuracy = 1.0\n",
      "matching = [True] - accuracy = 1.0\n",
      "matching = [True] - accuracy = 1.0\n",
      "matching = [True] - accuracy = 1.0\n",
      "matching = [True] - accuracy = 1.0\n",
      "matching = [True] - accuracy = 1.0\n",
      "matching = [True] - accuracy = 1.0\n",
      "matching = [True] - accuracy = 1.0\n"
     ]
    },
    {
     "name": "stderr",
     "output_type": "stream",
     "text": [
      " 85%|████████▌ | 170/200 [00:00<00:00, 419.77it/s]"
     ]
    },
    {
     "name": "stdout",
     "output_type": "stream",
     "text": [
      "matching = [True] - accuracy = 1.0\n",
      "matching = [True] - accuracy = 1.0\n",
      "matching = [True] - accuracy = 1.0\n",
      "matching = [True] - accuracy = 1.0\n",
      "matching = [True] - accuracy = 1.0\n",
      "matching = [True] - accuracy = 1.0\n",
      "matching = [True] - accuracy = 1.0\n",
      "matching = [True] - accuracy = 1.0\n",
      "matching = [True] - accuracy = 1.0\n"
     ]
    },
    {
     "name": "stderr",
     "output_type": "stream",
     "text": [
      "100%|██████████| 200/200 [00:00<00:00, 417.76it/s]\n"
     ]
    },
    {
     "name": "stdout",
     "output_type": "stream",
     "text": [
      "matching = [True] - accuracy = 1.0\n",
      "matching = [True] - accuracy = 1.0\n",
      "//////////////////// Epoch: 8 ////////////////////\n"
     ]
    },
    {
     "name": "stderr",
     "output_type": "stream",
     "text": [
      "  2%|▏         | 17/800 [00:00<00:04, 166.14it/s]"
     ]
    },
    {
     "name": "stdout",
     "output_type": "stream",
     "text": [
      "pred: 0 - target: 0 - loss: 0.001 - raw pred: tensor([[ 3.8577, -3.2003]], device='cuda:0', grad_fn=<AddmmBackward0>)\n"
     ]
    },
    {
     "name": "stderr",
     "output_type": "stream",
     "text": [
      "100%|██████████| 800/800 [00:04<00:00, 166.33it/s]\n"
     ]
    },
    {
     "name": "stdout",
     "output_type": "stream",
     "text": [
      "//////////////////// Validation ////////////////////\n"
     ]
    },
    {
     "name": "stderr",
     "output_type": "stream",
     "text": [
      " 22%|██▏       | 43/200 [00:00<00:00, 422.83it/s]"
     ]
    },
    {
     "name": "stdout",
     "output_type": "stream",
     "text": [
      "pred: 0 - target: 0 - loss: 0.009 - raw pred: tensor([[ 2.5472, -2.1162]], device='cuda:0')\n",
      "matching = [True] - accuracy = 1.0\n",
      "matching = [True] - accuracy = 1.0\n",
      "matching = [True] - accuracy = 1.0\n",
      "matching = [True] - accuracy = 1.0\n",
      "matching = [True] - accuracy = 1.0\n",
      "matching = [True] - accuracy = 1.0\n",
      "matching = [True] - accuracy = 1.0\n",
      "matching = [True] - accuracy = 1.0\n",
      "matching = [True] - accuracy = 1.0\n"
     ]
    },
    {
     "name": "stderr",
     "output_type": "stream",
     "text": [
      " 86%|████████▌ | 172/200 [00:00<00:00, 421.06it/s]"
     ]
    },
    {
     "name": "stdout",
     "output_type": "stream",
     "text": [
      "matching = [False] - accuracy = 0.0\n",
      "matching = [False] - accuracy = 0.0\n",
      "matching = [True] - accuracy = 1.0\n",
      "matching = [True] - accuracy = 1.0\n",
      "matching = [True] - accuracy = 1.0\n",
      "matching = [True] - accuracy = 1.0\n",
      "matching = [True] - accuracy = 1.0\n",
      "matching = [True] - accuracy = 1.0\n",
      "matching = [True] - accuracy = 1.0\n"
     ]
    },
    {
     "name": "stderr",
     "output_type": "stream",
     "text": [
      "100%|██████████| 200/200 [00:00<00:00, 419.82it/s]\n"
     ]
    },
    {
     "name": "stdout",
     "output_type": "stream",
     "text": [
      "matching = [True] - accuracy = 1.0\n",
      "matching = [True] - accuracy = 1.0\n",
      "//////////////////// Epoch: 9 ////////////////////\n"
     ]
    },
    {
     "name": "stderr",
     "output_type": "stream",
     "text": [
      "  2%|▏         | 18/800 [00:00<00:04, 175.84it/s]"
     ]
    },
    {
     "name": "stdout",
     "output_type": "stream",
     "text": [
      "pred: 1 - target: 1 - loss: 0.004 - raw pred: tensor([[-2.8349,  2.8023]], device='cuda:0', grad_fn=<AddmmBackward0>)\n"
     ]
    },
    {
     "name": "stderr",
     "output_type": "stream",
     "text": [
      "100%|██████████| 800/800 [00:04<00:00, 169.69it/s]\n"
     ]
    },
    {
     "name": "stdout",
     "output_type": "stream",
     "text": [
      "//////////////////// Validation ////////////////////\n"
     ]
    },
    {
     "name": "stderr",
     "output_type": "stream",
     "text": [
      " 22%|██▏       | 43/200 [00:00<00:00, 421.94it/s]"
     ]
    },
    {
     "name": "stdout",
     "output_type": "stream",
     "text": [
      "pred: 0 - target: 0 - loss: 0.000 - raw pred: tensor([[ 5.7908, -4.8324]], device='cuda:0')\n",
      "matching = [True] - accuracy = 1.0\n",
      "matching = [True] - accuracy = 1.0\n",
      "matching = [True] - accuracy = 1.0\n",
      "matching = [True] - accuracy = 1.0\n",
      "matching = [True] - accuracy = 1.0\n",
      "matching = [True] - accuracy = 1.0\n",
      "matching = [True] - accuracy = 1.0\n",
      "matching = [True] - accuracy = 1.0\n",
      "matching = [True] - accuracy = 1.0\n"
     ]
    },
    {
     "name": "stderr",
     "output_type": "stream",
     "text": [
      " 86%|████████▌ | 172/200 [00:00<00:00, 422.14it/s]"
     ]
    },
    {
     "name": "stdout",
     "output_type": "stream",
     "text": [
      "matching = [True] - accuracy = 1.0\n",
      "matching = [True] - accuracy = 1.0\n",
      "matching = [True] - accuracy = 1.0\n",
      "matching = [True] - accuracy = 1.0\n",
      "matching = [True] - accuracy = 1.0\n",
      "matching = [True] - accuracy = 1.0\n",
      "matching = [True] - accuracy = 1.0\n",
      "matching = [True] - accuracy = 1.0\n",
      "matching = [True] - accuracy = 1.0\n"
     ]
    },
    {
     "name": "stderr",
     "output_type": "stream",
     "text": [
      "100%|██████████| 200/200 [00:00<00:00, 421.70it/s]\n"
     ]
    },
    {
     "name": "stdout",
     "output_type": "stream",
     "text": [
      "matching = [True] - accuracy = 1.0\n",
      "matching = [True] - accuracy = 1.0\n",
      "//////////////////// Epoch: 10 ////////////////////\n"
     ]
    },
    {
     "name": "stderr",
     "output_type": "stream",
     "text": [
      "  2%|▏         | 17/800 [00:00<00:04, 161.05it/s]"
     ]
    },
    {
     "name": "stdout",
     "output_type": "stream",
     "text": [
      "pred: 1 - target: 1 - loss: 0.013 - raw pred: tensor([[-2.1983,  2.1711]], device='cuda:0', grad_fn=<AddmmBackward0>)\n"
     ]
    },
    {
     "name": "stderr",
     "output_type": "stream",
     "text": [
      "100%|██████████| 800/800 [00:04<00:00, 167.21it/s]\n"
     ]
    },
    {
     "name": "stdout",
     "output_type": "stream",
     "text": [
      "//////////////////// Validation ////////////////////\n"
     ]
    },
    {
     "name": "stderr",
     "output_type": "stream",
     "text": [
      " 20%|██        | 41/200 [00:00<00:00, 402.11it/s]"
     ]
    },
    {
     "name": "stdout",
     "output_type": "stream",
     "text": [
      "pred: 0 - target: 0 - loss: 0.000 - raw pred: tensor([[ 8.0575, -6.7587]], device='cuda:0')\n",
      "matching = [True] - accuracy = 1.0\n",
      "matching = [True] - accuracy = 1.0\n",
      "matching = [True] - accuracy = 1.0\n",
      "matching = [True] - accuracy = 1.0\n",
      "matching = [True] - accuracy = 1.0\n",
      "matching = [False] - accuracy = 0.0\n",
      "matching = [True] - accuracy = 1.0\n",
      "matching = [True] - accuracy = 1.0\n",
      "matching = [True] - accuracy = 1.0\n"
     ]
    },
    {
     "name": "stderr",
     "output_type": "stream",
     "text": [
      " 83%|████████▎ | 166/200 [00:00<00:00, 412.34it/s]"
     ]
    },
    {
     "name": "stdout",
     "output_type": "stream",
     "text": [
      "matching = [True] - accuracy = 1.0\n",
      "matching = [True] - accuracy = 1.0\n",
      "matching = [True] - accuracy = 1.0\n",
      "matching = [False] - accuracy = 0.0\n",
      "matching = [True] - accuracy = 1.0\n",
      "matching = [True] - accuracy = 1.0\n",
      "matching = [True] - accuracy = 1.0\n",
      "matching = [True] - accuracy = 1.0\n",
      "matching = [True] - accuracy = 1.0\n"
     ]
    },
    {
     "name": "stderr",
     "output_type": "stream",
     "text": [
      "100%|██████████| 200/200 [00:00<00:00, 408.69it/s]\n"
     ]
    },
    {
     "name": "stdout",
     "output_type": "stream",
     "text": [
      "matching = [True] - accuracy = 1.0\n",
      "matching = [True] - accuracy = 1.0\n",
      "//////////////////// Epoch: 11 ////////////////////\n"
     ]
    },
    {
     "name": "stderr",
     "output_type": "stream",
     "text": [
      "  2%|▏         | 17/800 [00:00<00:04, 163.91it/s]"
     ]
    },
    {
     "name": "stdout",
     "output_type": "stream",
     "text": [
      "pred: 0 - target: 0 - loss: 0.000 - raw pred: tensor([[ 7.7966, -6.5397]], device='cuda:0', grad_fn=<AddmmBackward0>)\n"
     ]
    },
    {
     "name": "stderr",
     "output_type": "stream",
     "text": [
      "100%|██████████| 800/800 [00:04<00:00, 166.56it/s]\n"
     ]
    },
    {
     "name": "stdout",
     "output_type": "stream",
     "text": [
      "//////////////////// Validation ////////////////////\n"
     ]
    },
    {
     "name": "stderr",
     "output_type": "stream",
     "text": [
      " 20%|██        | 41/200 [00:00<00:00, 409.75it/s]"
     ]
    },
    {
     "name": "stdout",
     "output_type": "stream",
     "text": [
      "pred: 1 - target: 1 - loss: 0.002 - raw pred: tensor([[-3.0982,  3.1055]], device='cuda:0')\n",
      "matching = [True] - accuracy = 1.0\n",
      "matching = [True] - accuracy = 1.0\n",
      "matching = [True] - accuracy = 1.0\n",
      "matching = [True] - accuracy = 1.0\n",
      "matching = [True] - accuracy = 1.0\n",
      "matching = [True] - accuracy = 1.0\n",
      "matching = [True] - accuracy = 1.0\n",
      "matching = [False] - accuracy = 0.0\n",
      "matching = [True] - accuracy = 1.0\n"
     ]
    },
    {
     "name": "stderr",
     "output_type": "stream",
     "text": [
      " 84%|████████▎ | 167/200 [00:00<00:00, 414.97it/s]"
     ]
    },
    {
     "name": "stdout",
     "output_type": "stream",
     "text": [
      "matching = [True] - accuracy = 1.0\n",
      "matching = [True] - accuracy = 1.0\n",
      "matching = [True] - accuracy = 1.0\n",
      "matching = [True] - accuracy = 1.0\n",
      "matching = [True] - accuracy = 1.0\n",
      "matching = [True] - accuracy = 1.0\n",
      "matching = [True] - accuracy = 1.0\n",
      "matching = [True] - accuracy = 1.0\n",
      "matching = [True] - accuracy = 1.0\n"
     ]
    },
    {
     "name": "stderr",
     "output_type": "stream",
     "text": [
      "100%|██████████| 200/200 [00:00<00:00, 411.55it/s]\n"
     ]
    },
    {
     "name": "stdout",
     "output_type": "stream",
     "text": [
      "matching = [True] - accuracy = 1.0\n",
      "matching = [True] - accuracy = 1.0\n",
      "//////////////////// Epoch: 12 ////////////////////\n"
     ]
    },
    {
     "name": "stderr",
     "output_type": "stream",
     "text": [
      "  2%|▏         | 16/800 [00:00<00:04, 159.18it/s]"
     ]
    },
    {
     "name": "stdout",
     "output_type": "stream",
     "text": [
      "pred: 1 - target: 1 - loss: 0.001 - raw pred: tensor([[-3.4190,  3.4262]], device='cuda:0', grad_fn=<AddmmBackward0>)\n"
     ]
    },
    {
     "name": "stderr",
     "output_type": "stream",
     "text": [
      "100%|██████████| 800/800 [00:04<00:00, 169.04it/s]\n"
     ]
    },
    {
     "name": "stdout",
     "output_type": "stream",
     "text": [
      "//////////////////// Validation ////////////////////\n"
     ]
    },
    {
     "name": "stderr",
     "output_type": "stream",
     "text": [
      " 20%|██        | 41/200 [00:00<00:00, 409.41it/s]"
     ]
    },
    {
     "name": "stdout",
     "output_type": "stream",
     "text": [
      "pred: 0 - target: 0 - loss: 0.453 - raw pred: tensor([[ 0.3568, -0.1991]], device='cuda:0')\n",
      "matching = [True] - accuracy = 1.0\n",
      "matching = [True] - accuracy = 1.0\n",
      "matching = [True] - accuracy = 1.0\n",
      "matching = [False] - accuracy = 0.0\n",
      "matching = [True] - accuracy = 1.0\n",
      "matching = [True] - accuracy = 1.0\n",
      "matching = [True] - accuracy = 1.0\n",
      "matching = [True] - accuracy = 1.0\n",
      "matching = [True] - accuracy = 1.0\n"
     ]
    },
    {
     "name": "stderr",
     "output_type": "stream",
     "text": [
      " 85%|████████▌ | 170/200 [00:00<00:00, 420.42it/s]"
     ]
    },
    {
     "name": "stdout",
     "output_type": "stream",
     "text": [
      "matching = [True] - accuracy = 1.0\n",
      "matching = [True] - accuracy = 1.0\n",
      "matching = [True] - accuracy = 1.0\n",
      "matching = [True] - accuracy = 1.0\n",
      "matching = [True] - accuracy = 1.0\n",
      "matching = [True] - accuracy = 1.0\n",
      "matching = [True] - accuracy = 1.0\n",
      "matching = [True] - accuracy = 1.0\n",
      "matching = [True] - accuracy = 1.0\n"
     ]
    },
    {
     "name": "stderr",
     "output_type": "stream",
     "text": [
      "100%|██████████| 200/200 [00:00<00:00, 417.76it/s]\n"
     ]
    },
    {
     "name": "stdout",
     "output_type": "stream",
     "text": [
      "matching = [True] - accuracy = 1.0\n",
      "matching = [False] - accuracy = 0.0\n",
      "//////////////////// Epoch: 13 ////////////////////\n"
     ]
    },
    {
     "name": "stderr",
     "output_type": "stream",
     "text": [
      "  2%|▏         | 18/800 [00:00<00:04, 172.83it/s]"
     ]
    },
    {
     "name": "stdout",
     "output_type": "stream",
     "text": [
      "pred: 1 - target: 1 - loss: 0.001 - raw pred: tensor([[-3.5749,  3.6023]], device='cuda:0', grad_fn=<AddmmBackward0>)\n"
     ]
    },
    {
     "name": "stderr",
     "output_type": "stream",
     "text": [
      "100%|██████████| 800/800 [00:04<00:00, 166.03it/s]\n"
     ]
    },
    {
     "name": "stdout",
     "output_type": "stream",
     "text": [
      "//////////////////// Validation ////////////////////\n"
     ]
    },
    {
     "name": "stderr",
     "output_type": "stream",
     "text": [
      " 21%|██        | 42/200 [00:00<00:00, 418.65it/s]"
     ]
    },
    {
     "name": "stdout",
     "output_type": "stream",
     "text": [
      "pred: 0 - target: 0 - loss: 0.004 - raw pred: tensor([[ 2.9792, -2.4856]], device='cuda:0')\n",
      "matching = [True] - accuracy = 1.0\n",
      "matching = [True] - accuracy = 1.0\n",
      "matching = [True] - accuracy = 1.0\n",
      "matching = [True] - accuracy = 1.0\n",
      "matching = [True] - accuracy = 1.0\n",
      "matching = [True] - accuracy = 1.0\n",
      "matching = [True] - accuracy = 1.0\n",
      "matching = [True] - accuracy = 1.0\n",
      "matching = [True] - accuracy = 1.0\n"
     ]
    },
    {
     "name": "stderr",
     "output_type": "stream",
     "text": [
      " 84%|████████▍ | 169/200 [00:00<00:00, 419.10it/s]"
     ]
    },
    {
     "name": "stdout",
     "output_type": "stream",
     "text": [
      "matching = [True] - accuracy = 1.0\n",
      "matching = [True] - accuracy = 1.0\n",
      "matching = [True] - accuracy = 1.0\n",
      "matching = [True] - accuracy = 1.0\n",
      "matching = [True] - accuracy = 1.0\n",
      "matching = [True] - accuracy = 1.0\n",
      "matching = [True] - accuracy = 1.0\n",
      "matching = [True] - accuracy = 1.0\n",
      "matching = [True] - accuracy = 1.0\n"
     ]
    },
    {
     "name": "stderr",
     "output_type": "stream",
     "text": [
      "100%|██████████| 200/200 [00:00<00:00, 417.33it/s]\n"
     ]
    },
    {
     "name": "stdout",
     "output_type": "stream",
     "text": [
      "matching = [True] - accuracy = 1.0\n",
      "matching = [True] - accuracy = 1.0\n",
      "//////////////////// Epoch: 14 ////////////////////\n"
     ]
    },
    {
     "name": "stderr",
     "output_type": "stream",
     "text": [
      "  2%|▏         | 17/800 [00:00<00:04, 160.25it/s]"
     ]
    },
    {
     "name": "stdout",
     "output_type": "stream",
     "text": [
      "pred: 1 - target: 1 - loss: 0.000 - raw pred: tensor([[-5.4981,  5.5335]], device='cuda:0', grad_fn=<AddmmBackward0>)\n"
     ]
    },
    {
     "name": "stderr",
     "output_type": "stream",
     "text": [
      "100%|██████████| 800/800 [00:04<00:00, 168.39it/s]\n"
     ]
    },
    {
     "name": "stdout",
     "output_type": "stream",
     "text": [
      "//////////////////// Validation ////////////////////\n"
     ]
    },
    {
     "name": "stderr",
     "output_type": "stream",
     "text": [
      " 21%|██        | 42/200 [00:00<00:00, 417.17it/s]"
     ]
    },
    {
     "name": "stdout",
     "output_type": "stream",
     "text": [
      "pred: 0 - target: 0 - loss: 0.362 - raw pred: tensor([[ 0.4993, -0.3315]], device='cuda:0')\n",
      "matching = [True] - accuracy = 1.0\n",
      "matching = [True] - accuracy = 1.0\n",
      "matching = [True] - accuracy = 1.0\n",
      "matching = [True] - accuracy = 1.0\n",
      "matching = [True] - accuracy = 1.0\n",
      "matching = [True] - accuracy = 1.0\n",
      "matching = [True] - accuracy = 1.0\n",
      "matching = [True] - accuracy = 1.0\n",
      "matching = [True] - accuracy = 1.0\n"
     ]
    },
    {
     "name": "stderr",
     "output_type": "stream",
     "text": [
      " 84%|████████▍ | 169/200 [00:00<00:00, 418.41it/s]"
     ]
    },
    {
     "name": "stdout",
     "output_type": "stream",
     "text": [
      "matching = [True] - accuracy = 1.0\n",
      "matching = [True] - accuracy = 1.0\n",
      "matching = [True] - accuracy = 1.0\n",
      "matching = [True] - accuracy = 1.0\n",
      "matching = [True] - accuracy = 1.0\n",
      "matching = [True] - accuracy = 1.0\n",
      "matching = [True] - accuracy = 1.0\n",
      "matching = [True] - accuracy = 1.0\n",
      "matching = [True] - accuracy = 1.0\n"
     ]
    },
    {
     "name": "stderr",
     "output_type": "stream",
     "text": [
      "100%|██████████| 200/200 [00:00<00:00, 415.19it/s]\n"
     ]
    },
    {
     "name": "stdout",
     "output_type": "stream",
     "text": [
      "matching = [True] - accuracy = 1.0\n",
      "matching = [True] - accuracy = 1.0\n",
      "//////////////////// Epoch: 15 ////////////////////\n"
     ]
    },
    {
     "name": "stderr",
     "output_type": "stream",
     "text": [
      "  2%|▏         | 17/800 [00:00<00:04, 160.50it/s]"
     ]
    },
    {
     "name": "stdout",
     "output_type": "stream",
     "text": [
      "pred: 0 - target: 0 - loss: 0.000 - raw pred: tensor([[ 5.3316, -4.4980]], device='cuda:0', grad_fn=<AddmmBackward0>)\n"
     ]
    },
    {
     "name": "stderr",
     "output_type": "stream",
     "text": [
      "100%|██████████| 800/800 [00:04<00:00, 165.86it/s]\n"
     ]
    },
    {
     "name": "stdout",
     "output_type": "stream",
     "text": [
      "//////////////////// Validation ////////////////////\n"
     ]
    },
    {
     "name": "stderr",
     "output_type": "stream",
     "text": [
      " 22%|██▏       | 43/200 [00:00<00:00, 424.92it/s]"
     ]
    },
    {
     "name": "stdout",
     "output_type": "stream",
     "text": [
      "pred: 0 - target: 0 - loss: 0.000 - raw pred: tensor([[ 5.7512, -4.8627]], device='cuda:0')\n",
      "matching = [True] - accuracy = 1.0\n",
      "matching = [True] - accuracy = 1.0\n",
      "matching = [True] - accuracy = 1.0\n",
      "matching = [True] - accuracy = 1.0\n",
      "matching = [True] - accuracy = 1.0\n",
      "matching = [True] - accuracy = 1.0\n",
      "matching = [True] - accuracy = 1.0\n",
      "matching = [True] - accuracy = 1.0\n",
      "matching = [True] - accuracy = 1.0\n"
     ]
    },
    {
     "name": "stderr",
     "output_type": "stream",
     "text": [
      " 86%|████████▌ | 172/200 [00:00<00:00, 422.93it/s]"
     ]
    },
    {
     "name": "stdout",
     "output_type": "stream",
     "text": [
      "matching = [True] - accuracy = 1.0\n",
      "matching = [True] - accuracy = 1.0\n",
      "matching = [True] - accuracy = 1.0\n",
      "matching = [True] - accuracy = 1.0\n",
      "matching = [True] - accuracy = 1.0\n",
      "matching = [True] - accuracy = 1.0\n",
      "matching = [True] - accuracy = 1.0\n",
      "matching = [True] - accuracy = 1.0\n",
      "matching = [True] - accuracy = 1.0\n"
     ]
    },
    {
     "name": "stderr",
     "output_type": "stream",
     "text": [
      "100%|██████████| 200/200 [00:00<00:00, 421.48it/s]\n"
     ]
    },
    {
     "name": "stdout",
     "output_type": "stream",
     "text": [
      "matching = [True] - accuracy = 1.0\n",
      "matching = [True] - accuracy = 1.0\n",
      "//////////////////// Epoch: 16 ////////////////////\n"
     ]
    },
    {
     "name": "stderr",
     "output_type": "stream",
     "text": [
      "  2%|▏         | 18/800 [00:00<00:04, 174.20it/s]"
     ]
    },
    {
     "name": "stdout",
     "output_type": "stream",
     "text": [
      "pred: 1 - target: 1 - loss: 0.001 - raw pred: tensor([[-3.7539,  3.7501]], device='cuda:0', grad_fn=<AddmmBackward0>)\n"
     ]
    },
    {
     "name": "stderr",
     "output_type": "stream",
     "text": [
      "100%|██████████| 800/800 [00:04<00:00, 168.83it/s]\n"
     ]
    },
    {
     "name": "stdout",
     "output_type": "stream",
     "text": [
      "//////////////////// Validation ////////////////////\n"
     ]
    },
    {
     "name": "stderr",
     "output_type": "stream",
     "text": [
      " 21%|██        | 42/200 [00:00<00:00, 416.98it/s]"
     ]
    },
    {
     "name": "stdout",
     "output_type": "stream",
     "text": [
      "pred: 1 - target: 1 - loss: 0.001 - raw pred: tensor([[-3.5827,  3.5745]], device='cuda:0')\n",
      "matching = [True] - accuracy = 1.0\n",
      "matching = [True] - accuracy = 1.0\n",
      "matching = [True] - accuracy = 1.0\n",
      "matching = [True] - accuracy = 1.0\n",
      "matching = [True] - accuracy = 1.0\n",
      "matching = [True] - accuracy = 1.0\n",
      "matching = [True] - accuracy = 1.0\n",
      "matching = [True] - accuracy = 1.0\n",
      "matching = [True] - accuracy = 1.0\n"
     ]
    },
    {
     "name": "stderr",
     "output_type": "stream",
     "text": [
      " 85%|████████▌ | 170/200 [00:00<00:00, 420.23it/s]"
     ]
    },
    {
     "name": "stdout",
     "output_type": "stream",
     "text": [
      "matching = [True] - accuracy = 1.0\n",
      "matching = [True] - accuracy = 1.0\n",
      "matching = [True] - accuracy = 1.0\n",
      "matching = [True] - accuracy = 1.0\n",
      "matching = [True] - accuracy = 1.0\n",
      "matching = [True] - accuracy = 1.0\n",
      "matching = [True] - accuracy = 1.0\n",
      "matching = [True] - accuracy = 1.0\n",
      "matching = [True] - accuracy = 1.0\n"
     ]
    },
    {
     "name": "stderr",
     "output_type": "stream",
     "text": [
      "100%|██████████| 200/200 [00:00<00:00, 418.68it/s]\n"
     ]
    },
    {
     "name": "stdout",
     "output_type": "stream",
     "text": [
      "matching = [True] - accuracy = 1.0\n",
      "matching = [True] - accuracy = 1.0\n",
      "//////////////////// Epoch: 17 ////////////////////\n"
     ]
    },
    {
     "name": "stderr",
     "output_type": "stream",
     "text": [
      "  2%|▏         | 17/800 [00:00<00:04, 164.29it/s]"
     ]
    },
    {
     "name": "stdout",
     "output_type": "stream",
     "text": [
      "pred: 0 - target: 0 - loss: 0.000 - raw pred: tensor([[ 5.3302, -4.4620]], device='cuda:0', grad_fn=<AddmmBackward0>)\n"
     ]
    },
    {
     "name": "stderr",
     "output_type": "stream",
     "text": [
      "100%|██████████| 800/800 [00:04<00:00, 164.76it/s]\n"
     ]
    },
    {
     "name": "stdout",
     "output_type": "stream",
     "text": [
      "//////////////////// Validation ////////////////////\n"
     ]
    },
    {
     "name": "stderr",
     "output_type": "stream",
     "text": [
      " 22%|██▏       | 43/200 [00:00<00:00, 421.94it/s]"
     ]
    },
    {
     "name": "stdout",
     "output_type": "stream",
     "text": [
      "pred: 0 - target: 0 - loss: 0.000 - raw pred: tensor([[ 4.2691, -3.6108]], device='cuda:0')\n",
      "matching = [True] - accuracy = 1.0\n",
      "matching = [True] - accuracy = 1.0\n",
      "matching = [True] - accuracy = 1.0\n",
      "matching = [True] - accuracy = 1.0\n",
      "matching = [True] - accuracy = 1.0\n",
      "matching = [True] - accuracy = 1.0\n",
      "matching = [True] - accuracy = 1.0\n",
      "matching = [True] - accuracy = 1.0\n",
      "matching = [True] - accuracy = 1.0\n"
     ]
    },
    {
     "name": "stderr",
     "output_type": "stream",
     "text": [
      " 86%|████████▌ | 172/200 [00:00<00:00, 422.14it/s]"
     ]
    },
    {
     "name": "stdout",
     "output_type": "stream",
     "text": [
      "matching = [True] - accuracy = 1.0\n",
      "matching = [True] - accuracy = 1.0\n",
      "matching = [True] - accuracy = 1.0\n",
      "matching = [True] - accuracy = 1.0\n",
      "matching = [True] - accuracy = 1.0\n",
      "matching = [True] - accuracy = 1.0\n",
      "matching = [True] - accuracy = 1.0\n",
      "matching = [True] - accuracy = 1.0\n",
      "matching = [True] - accuracy = 1.0\n"
     ]
    },
    {
     "name": "stderr",
     "output_type": "stream",
     "text": [
      "100%|██████████| 200/200 [00:00<00:00, 421.40it/s]\n"
     ]
    },
    {
     "name": "stdout",
     "output_type": "stream",
     "text": [
      "matching = [True] - accuracy = 1.0\n",
      "matching = [True] - accuracy = 1.0\n",
      "//////////////////// Epoch: 18 ////////////////////\n"
     ]
    },
    {
     "name": "stderr",
     "output_type": "stream",
     "text": [
      "  2%|▏         | 17/800 [00:00<00:04, 165.94it/s]"
     ]
    },
    {
     "name": "stdout",
     "output_type": "stream",
     "text": [
      "pred: 1 - target: 1 - loss: 0.002 - raw pred: tensor([[-3.1399,  3.1342]], device='cuda:0', grad_fn=<AddmmBackward0>)\n"
     ]
    },
    {
     "name": "stderr",
     "output_type": "stream",
     "text": [
      "100%|██████████| 800/800 [00:04<00:00, 166.28it/s]\n"
     ]
    },
    {
     "name": "stdout",
     "output_type": "stream",
     "text": [
      "//////////////////// Validation ////////////////////\n"
     ]
    },
    {
     "name": "stderr",
     "output_type": "stream",
     "text": [
      " 22%|██▏       | 43/200 [00:00<00:00, 421.39it/s]"
     ]
    },
    {
     "name": "stdout",
     "output_type": "stream",
     "text": [
      "pred: 1 - target: 1 - loss: 0.000 - raw pred: tensor([[-4.2171,  4.2112]], device='cuda:0')\n",
      "matching = [True] - accuracy = 1.0\n",
      "matching = [True] - accuracy = 1.0\n",
      "matching = [True] - accuracy = 1.0\n",
      "matching = [True] - accuracy = 1.0\n",
      "matching = [True] - accuracy = 1.0\n",
      "matching = [True] - accuracy = 1.0\n",
      "matching = [True] - accuracy = 1.0\n",
      "matching = [True] - accuracy = 1.0\n",
      "matching = [True] - accuracy = 1.0\n"
     ]
    },
    {
     "name": "stderr",
     "output_type": "stream",
     "text": [
      " 86%|████████▌ | 172/200 [00:00<00:00, 420.24it/s]"
     ]
    },
    {
     "name": "stdout",
     "output_type": "stream",
     "text": [
      "matching = [True] - accuracy = 1.0\n",
      "matching = [True] - accuracy = 1.0\n",
      "matching = [True] - accuracy = 1.0\n",
      "matching = [True] - accuracy = 1.0\n",
      "matching = [True] - accuracy = 1.0\n",
      "matching = [True] - accuracy = 1.0\n",
      "matching = [True] - accuracy = 1.0\n",
      "matching = [True] - accuracy = 1.0\n",
      "matching = [True] - accuracy = 1.0\n"
     ]
    },
    {
     "name": "stderr",
     "output_type": "stream",
     "text": [
      "100%|██████████| 200/200 [00:00<00:00, 419.16it/s]\n"
     ]
    },
    {
     "name": "stdout",
     "output_type": "stream",
     "text": [
      "matching = [True] - accuracy = 1.0\n",
      "matching = [True] - accuracy = 1.0\n",
      "//////////////////// Epoch: 19 ////////////////////\n"
     ]
    },
    {
     "name": "stderr",
     "output_type": "stream",
     "text": [
      "  2%|▏         | 17/800 [00:00<00:04, 169.47it/s]"
     ]
    },
    {
     "name": "stdout",
     "output_type": "stream",
     "text": [
      "pred: 1 - target: 1 - loss: 0.002 - raw pred: tensor([[-3.2384,  3.2299]], device='cuda:0', grad_fn=<AddmmBackward0>)\n"
     ]
    },
    {
     "name": "stderr",
     "output_type": "stream",
     "text": [
      "100%|██████████| 800/800 [00:04<00:00, 165.02it/s]\n"
     ]
    },
    {
     "name": "stdout",
     "output_type": "stream",
     "text": [
      "//////////////////// Validation ////////////////////\n"
     ]
    },
    {
     "name": "stderr",
     "output_type": "stream",
     "text": [
      " 20%|██        | 40/200 [00:00<00:00, 394.82it/s]"
     ]
    },
    {
     "name": "stdout",
     "output_type": "stream",
     "text": [
      "pred: 0 - target: 0 - loss: 0.002 - raw pred: tensor([[ 3.3507, -2.8588]], device='cuda:0')\n",
      "matching = [True] - accuracy = 1.0\n",
      "matching = [True] - accuracy = 1.0\n",
      "matching = [True] - accuracy = 1.0\n",
      "matching = [True] - accuracy = 1.0\n",
      "matching = [True] - accuracy = 1.0\n",
      "matching = [True] - accuracy = 1.0\n",
      "matching = [True] - accuracy = 1.0\n",
      "matching = [True] - accuracy = 1.0\n"
     ]
    },
    {
     "name": "stderr",
     "output_type": "stream",
     "text": [
      " 41%|████      | 82/200 [00:00<00:00, 406.89it/s]"
     ]
    },
    {
     "name": "stdout",
     "output_type": "stream",
     "text": [
      "matching = [True] - accuracy = 1.0\n"
     ]
    },
    {
     "name": "stderr",
     "output_type": "stream",
     "text": [
      " 62%|██████▏   | 124/200 [00:00<00:00, 408.42it/s]"
     ]
    },
    {
     "name": "stdout",
     "output_type": "stream",
     "text": [
      "matching = [True] - accuracy = 1.0\n",
      "matching = [True] - accuracy = 1.0\n",
      "matching = [True] - accuracy = 1.0\n",
      "matching = [True] - accuracy = 1.0\n",
      "matching = [True] - accuracy = 1.0\n",
      "matching = [True] - accuracy = 1.0\n",
      "matching = [True] - accuracy = 1.0\n",
      "matching = [True] - accuracy = 1.0\n"
     ]
    },
    {
     "name": "stderr",
     "output_type": "stream",
     "text": [
      " 83%|████████▎ | 166/200 [00:00<00:00, 411.19it/s]"
     ]
    },
    {
     "name": "stdout",
     "output_type": "stream",
     "text": [
      "matching = [True] - accuracy = 1.0\n"
     ]
    },
    {
     "name": "stderr",
     "output_type": "stream",
     "text": [
      "100%|██████████| 200/200 [00:00<00:00, 407.23it/s]\n"
     ]
    },
    {
     "name": "stdout",
     "output_type": "stream",
     "text": [
      "matching = [True] - accuracy = 1.0\n",
      "matching = [True] - accuracy = 1.0\n",
      "//////////////////// Epoch: 20 ////////////////////\n"
     ]
    },
    {
     "name": "stderr",
     "output_type": "stream",
     "text": [
      "  2%|▏         | 16/800 [00:00<00:04, 158.93it/s]"
     ]
    },
    {
     "name": "stdout",
     "output_type": "stream",
     "text": [
      "pred: 0 - target: 0 - loss: 0.001 - raw pred: tensor([[ 3.9217, -3.3410]], device='cuda:0', grad_fn=<AddmmBackward0>)\n"
     ]
    },
    {
     "name": "stderr",
     "output_type": "stream",
     "text": [
      "100%|██████████| 800/800 [00:04<00:00, 165.05it/s]\n"
     ]
    },
    {
     "name": "stdout",
     "output_type": "stream",
     "text": [
      "//////////////////// Validation ////////////////////\n"
     ]
    },
    {
     "name": "stderr",
     "output_type": "stream",
     "text": [
      " 21%|██        | 42/200 [00:00<00:00, 413.63it/s]"
     ]
    },
    {
     "name": "stdout",
     "output_type": "stream",
     "text": [
      "pred: 0 - target: 0 - loss: 0.000 - raw pred: tensor([[ 6.3893, -5.4552]], device='cuda:0')\n",
      "matching = [True] - accuracy = 1.0\n",
      "matching = [True] - accuracy = 1.0\n",
      "matching = [True] - accuracy = 1.0\n",
      "matching = [True] - accuracy = 1.0\n",
      "matching = [True] - accuracy = 1.0\n",
      "matching = [True] - accuracy = 1.0\n",
      "matching = [True] - accuracy = 1.0\n",
      "matching = [True] - accuracy = 1.0\n",
      "matching = [True] - accuracy = 1.0\n"
     ]
    },
    {
     "name": "stderr",
     "output_type": "stream",
     "text": [
      " 84%|████████▍ | 168/200 [00:00<00:00, 416.65it/s]"
     ]
    },
    {
     "name": "stdout",
     "output_type": "stream",
     "text": [
      "matching = [True] - accuracy = 1.0\n",
      "matching = [True] - accuracy = 1.0\n",
      "matching = [True] - accuracy = 1.0\n",
      "matching = [True] - accuracy = 1.0\n",
      "matching = [True] - accuracy = 1.0\n",
      "matching = [True] - accuracy = 1.0\n",
      "matching = [True] - accuracy = 1.0\n",
      "matching = [True] - accuracy = 1.0\n",
      "matching = [True] - accuracy = 1.0\n"
     ]
    },
    {
     "name": "stderr",
     "output_type": "stream",
     "text": [
      "100%|██████████| 200/200 [00:00<00:00, 416.29it/s]\n"
     ]
    },
    {
     "name": "stdout",
     "output_type": "stream",
     "text": [
      "matching = [True] - accuracy = 1.0\n",
      "matching = [True] - accuracy = 1.0\n",
      "//////////////////// Epoch: 21 ////////////////////\n"
     ]
    },
    {
     "name": "stderr",
     "output_type": "stream",
     "text": [
      "  2%|▏         | 17/800 [00:00<00:04, 162.40it/s]"
     ]
    },
    {
     "name": "stdout",
     "output_type": "stream",
     "text": [
      "pred: 1 - target: 1 - loss: 0.000 - raw pred: tensor([[-4.0846,  4.0711]], device='cuda:0', grad_fn=<AddmmBackward0>)\n"
     ]
    },
    {
     "name": "stderr",
     "output_type": "stream",
     "text": [
      "100%|██████████| 800/800 [00:04<00:00, 166.72it/s]\n"
     ]
    },
    {
     "name": "stdout",
     "output_type": "stream",
     "text": [
      "//////////////////// Validation ////////////////////\n"
     ]
    },
    {
     "name": "stderr",
     "output_type": "stream",
     "text": [
      " 21%|██        | 42/200 [00:00<00:00, 417.63it/s]"
     ]
    },
    {
     "name": "stdout",
     "output_type": "stream",
     "text": [
      "pred: 0 - target: 0 - loss: 0.000 - raw pred: tensor([[ 5.6238, -4.8443]], device='cuda:0')\n",
      "matching = [True] - accuracy = 1.0\n",
      "matching = [True] - accuracy = 1.0\n",
      "matching = [True] - accuracy = 1.0\n",
      "matching = [True] - accuracy = 1.0\n",
      "matching = [True] - accuracy = 1.0\n",
      "matching = [True] - accuracy = 1.0\n",
      "matching = [True] - accuracy = 1.0\n",
      "matching = [True] - accuracy = 1.0\n",
      "matching = [True] - accuracy = 1.0\n"
     ]
    },
    {
     "name": "stderr",
     "output_type": "stream",
     "text": [
      " 86%|████████▌ | 171/200 [00:00<00:00, 423.10it/s]"
     ]
    },
    {
     "name": "stdout",
     "output_type": "stream",
     "text": [
      "matching = [True] - accuracy = 1.0\n",
      "matching = [True] - accuracy = 1.0\n",
      "matching = [True] - accuracy = 1.0\n",
      "matching = [True] - accuracy = 1.0\n",
      "matching = [True] - accuracy = 1.0\n",
      "matching = [True] - accuracy = 1.0\n",
      "matching = [True] - accuracy = 1.0\n",
      "matching = [True] - accuracy = 1.0\n",
      "matching = [True] - accuracy = 1.0\n"
     ]
    },
    {
     "name": "stderr",
     "output_type": "stream",
     "text": [
      "100%|██████████| 200/200 [00:00<00:00, 421.04it/s]\n"
     ]
    },
    {
     "name": "stdout",
     "output_type": "stream",
     "text": [
      "matching = [True] - accuracy = 1.0\n",
      "matching = [True] - accuracy = 1.0\n",
      "//////////////////// Epoch: 22 ////////////////////\n"
     ]
    },
    {
     "name": "stderr",
     "output_type": "stream",
     "text": [
      "  2%|▏         | 17/800 [00:00<00:04, 164.86it/s]"
     ]
    },
    {
     "name": "stdout",
     "output_type": "stream",
     "text": [
      "pred: 1 - target: 0 - loss: 3.344 - raw pred: tensor([[-1.6622,  1.6459]], device='cuda:0', grad_fn=<AddmmBackward0>)\n"
     ]
    },
    {
     "name": "stderr",
     "output_type": "stream",
     "text": [
      "100%|██████████| 800/800 [00:04<00:00, 165.49it/s]\n"
     ]
    },
    {
     "name": "stdout",
     "output_type": "stream",
     "text": [
      "//////////////////// Validation ////////////////////\n"
     ]
    },
    {
     "name": "stderr",
     "output_type": "stream",
     "text": [
      " 21%|██        | 42/200 [00:00<00:00, 416.19it/s]"
     ]
    },
    {
     "name": "stdout",
     "output_type": "stream",
     "text": [
      "pred: 0 - target: 0 - loss: 0.020 - raw pred: tensor([[ 2.0930, -1.7993]], device='cuda:0')\n",
      "matching = [True] - accuracy = 1.0\n",
      "matching = [True] - accuracy = 1.0\n",
      "matching = [True] - accuracy = 1.0\n",
      "matching = [True] - accuracy = 1.0\n",
      "matching = [True] - accuracy = 1.0\n",
      "matching = [True] - accuracy = 1.0\n",
      "matching = [True] - accuracy = 1.0\n",
      "matching = [True] - accuracy = 1.0\n",
      "matching = [True] - accuracy = 1.0\n"
     ]
    },
    {
     "name": "stderr",
     "output_type": "stream",
     "text": [
      " 84%|████████▍ | 169/200 [00:00<00:00, 419.44it/s]"
     ]
    },
    {
     "name": "stdout",
     "output_type": "stream",
     "text": [
      "matching = [True] - accuracy = 1.0\n",
      "matching = [True] - accuracy = 1.0\n",
      "matching = [True] - accuracy = 1.0\n",
      "matching = [True] - accuracy = 1.0\n",
      "matching = [True] - accuracy = 1.0\n",
      "matching = [True] - accuracy = 1.0\n",
      "matching = [True] - accuracy = 1.0\n",
      "matching = [True] - accuracy = 1.0\n",
      "matching = [True] - accuracy = 1.0\n"
     ]
    },
    {
     "name": "stderr",
     "output_type": "stream",
     "text": [
      "100%|██████████| 200/200 [00:00<00:00, 417.94it/s]\n"
     ]
    },
    {
     "name": "stdout",
     "output_type": "stream",
     "text": [
      "matching = [True] - accuracy = 1.0\n",
      "matching = [True] - accuracy = 1.0\n",
      "//////////////////// Epoch: 23 ////////////////////\n"
     ]
    },
    {
     "name": "stderr",
     "output_type": "stream",
     "text": [
      "  2%|▏         | 17/800 [00:00<00:04, 166.89it/s]"
     ]
    },
    {
     "name": "stdout",
     "output_type": "stream",
     "text": [
      "pred: 0 - target: 0 - loss: 0.003 - raw pred: tensor([[ 3.1451, -2.7025]], device='cuda:0', grad_fn=<AddmmBackward0>)\n"
     ]
    },
    {
     "name": "stderr",
     "output_type": "stream",
     "text": [
      "100%|██████████| 800/800 [00:04<00:00, 168.12it/s]\n"
     ]
    },
    {
     "name": "stdout",
     "output_type": "stream",
     "text": [
      "//////////////////// Validation ////////////////////\n"
     ]
    },
    {
     "name": "stderr",
     "output_type": "stream",
     "text": [
      " 21%|██        | 42/200 [00:00<00:00, 414.60it/s]"
     ]
    },
    {
     "name": "stdout",
     "output_type": "stream",
     "text": [
      "pred: 1 - target: 1 - loss: 0.001 - raw pred: tensor([[-3.5134,  3.4950]], device='cuda:0')\n",
      "matching = [True] - accuracy = 1.0\n",
      "matching = [True] - accuracy = 1.0\n",
      "matching = [True] - accuracy = 1.0\n",
      "matching = [True] - accuracy = 1.0\n",
      "matching = [True] - accuracy = 1.0\n",
      "matching = [True] - accuracy = 1.0\n",
      "matching = [True] - accuracy = 1.0\n",
      "matching = [True] - accuracy = 1.0\n",
      "matching = [True] - accuracy = 1.0\n"
     ]
    },
    {
     "name": "stderr",
     "output_type": "stream",
     "text": [
      " 84%|████████▍ | 169/200 [00:00<00:00, 419.65it/s]"
     ]
    },
    {
     "name": "stdout",
     "output_type": "stream",
     "text": [
      "matching = [True] - accuracy = 1.0\n",
      "matching = [True] - accuracy = 1.0\n",
      "matching = [True] - accuracy = 1.0\n",
      "matching = [True] - accuracy = 1.0\n",
      "matching = [True] - accuracy = 1.0\n",
      "matching = [True] - accuracy = 1.0\n",
      "matching = [True] - accuracy = 1.0\n",
      "matching = [True] - accuracy = 1.0\n",
      "matching = [True] - accuracy = 1.0\n"
     ]
    },
    {
     "name": "stderr",
     "output_type": "stream",
     "text": [
      "100%|██████████| 200/200 [00:00<00:00, 417.50it/s]\n"
     ]
    },
    {
     "name": "stdout",
     "output_type": "stream",
     "text": [
      "matching = [True] - accuracy = 1.0\n",
      "matching = [True] - accuracy = 1.0\n",
      "//////////////////// Epoch: 24 ////////////////////\n"
     ]
    },
    {
     "name": "stderr",
     "output_type": "stream",
     "text": [
      "  2%|▏         | 17/800 [00:00<00:04, 168.47it/s]"
     ]
    },
    {
     "name": "stdout",
     "output_type": "stream",
     "text": [
      "pred: 1 - target: 1 - loss: 0.001 - raw pred: tensor([[-3.2721,  3.2563]], device='cuda:0', grad_fn=<AddmmBackward0>)\n"
     ]
    },
    {
     "name": "stderr",
     "output_type": "stream",
     "text": [
      "100%|██████████| 800/800 [00:04<00:00, 163.61it/s]\n"
     ]
    },
    {
     "name": "stdout",
     "output_type": "stream",
     "text": [
      "//////////////////// Validation ////////////////////\n"
     ]
    },
    {
     "name": "stderr",
     "output_type": "stream",
     "text": [
      " 20%|██        | 41/200 [00:00<00:00, 406.20it/s]"
     ]
    },
    {
     "name": "stdout",
     "output_type": "stream",
     "text": [
      "pred: 0 - target: 0 - loss: 0.244 - raw pred: tensor([[ 0.6847, -0.6024]], device='cuda:0')\n",
      "matching = [True] - accuracy = 1.0\n",
      "matching = [True] - accuracy = 1.0\n",
      "matching = [True] - accuracy = 1.0\n",
      "matching = [True] - accuracy = 1.0\n",
      "matching = [True] - accuracy = 1.0\n",
      "matching = [True] - accuracy = 1.0\n",
      "matching = [True] - accuracy = 1.0\n",
      "matching = [True] - accuracy = 1.0\n",
      "matching = [True] - accuracy = 1.0\n"
     ]
    },
    {
     "name": "stderr",
     "output_type": "stream",
     "text": [
      " 84%|████████▎ | 167/200 [00:00<00:00, 414.37it/s]"
     ]
    },
    {
     "name": "stdout",
     "output_type": "stream",
     "text": [
      "matching = [True] - accuracy = 1.0\n",
      "matching = [False] - accuracy = 0.0\n",
      "matching = [True] - accuracy = 1.0\n",
      "matching = [True] - accuracy = 1.0\n",
      "matching = [True] - accuracy = 1.0\n",
      "matching = [True] - accuracy = 1.0\n",
      "matching = [True] - accuracy = 1.0\n",
      "matching = [True] - accuracy = 1.0\n",
      "matching = [True] - accuracy = 1.0\n"
     ]
    },
    {
     "name": "stderr",
     "output_type": "stream",
     "text": [
      "100%|██████████| 200/200 [00:00<00:00, 412.01it/s]\n"
     ]
    },
    {
     "name": "stdout",
     "output_type": "stream",
     "text": [
      "matching = [True] - accuracy = 1.0\n",
      "matching = [True] - accuracy = 1.0\n",
      "//////////////////// Epoch: 25 ////////////////////\n"
     ]
    },
    {
     "name": "stderr",
     "output_type": "stream",
     "text": [
      "  2%|▏         | 16/800 [00:00<00:04, 159.42it/s]"
     ]
    },
    {
     "name": "stdout",
     "output_type": "stream",
     "text": [
      "pred: 1 - target: 1 - loss: 0.000 - raw pred: tensor([[-3.9070,  3.9218]], device='cuda:0', grad_fn=<AddmmBackward0>)\n"
     ]
    },
    {
     "name": "stderr",
     "output_type": "stream",
     "text": [
      "100%|██████████| 800/800 [00:04<00:00, 165.94it/s]\n"
     ]
    },
    {
     "name": "stdout",
     "output_type": "stream",
     "text": [
      "//////////////////// Validation ////////////////////\n"
     ]
    },
    {
     "name": "stderr",
     "output_type": "stream",
     "text": [
      " 20%|██        | 41/200 [00:00<00:00, 404.83it/s]"
     ]
    },
    {
     "name": "stdout",
     "output_type": "stream",
     "text": [
      "pred: 1 - target: 1 - loss: 0.001 - raw pred: tensor([[-3.3123,  3.2949]], device='cuda:0')\n",
      "matching = [True] - accuracy = 1.0\n",
      "matching = [True] - accuracy = 1.0\n",
      "matching = [True] - accuracy = 1.0\n",
      "matching = [True] - accuracy = 1.0\n",
      "matching = [True] - accuracy = 1.0\n",
      "matching = [True] - accuracy = 1.0\n",
      "matching = [True] - accuracy = 1.0\n",
      "matching = [True] - accuracy = 1.0\n",
      "matching = [True] - accuracy = 1.0\n"
     ]
    },
    {
     "name": "stderr",
     "output_type": "stream",
     "text": [
      " 83%|████████▎ | 166/200 [00:00<00:00, 409.06it/s]"
     ]
    },
    {
     "name": "stdout",
     "output_type": "stream",
     "text": [
      "matching = [True] - accuracy = 1.0\n",
      "matching = [True] - accuracy = 1.0\n",
      "matching = [True] - accuracy = 1.0\n",
      "matching = [True] - accuracy = 1.0\n",
      "matching = [True] - accuracy = 1.0\n",
      "matching = [True] - accuracy = 1.0\n",
      "matching = [True] - accuracy = 1.0\n",
      "matching = [True] - accuracy = 1.0\n",
      "matching = [True] - accuracy = 1.0\n"
     ]
    },
    {
     "name": "stderr",
     "output_type": "stream",
     "text": [
      "100%|██████████| 200/200 [00:00<00:00, 408.42it/s]\n"
     ]
    },
    {
     "name": "stdout",
     "output_type": "stream",
     "text": [
      "matching = [True] - accuracy = 1.0\n",
      "matching = [True] - accuracy = 1.0\n",
      "//////////////////// Epoch: 26 ////////////////////\n"
     ]
    },
    {
     "name": "stderr",
     "output_type": "stream",
     "text": [
      "  2%|▏         | 17/800 [00:00<00:04, 162.18it/s]"
     ]
    },
    {
     "name": "stdout",
     "output_type": "stream",
     "text": [
      "pred: 1 - target: 1 - loss: 0.005 - raw pred: tensor([[-2.6596,  2.6636]], device='cuda:0', grad_fn=<AddmmBackward0>)\n"
     ]
    },
    {
     "name": "stderr",
     "output_type": "stream",
     "text": [
      "100%|██████████| 800/800 [00:04<00:00, 164.79it/s]\n"
     ]
    },
    {
     "name": "stdout",
     "output_type": "stream",
     "text": [
      "//////////////////// Validation ////////////////////\n"
     ]
    },
    {
     "name": "stderr",
     "output_type": "stream",
     "text": [
      " 22%|██▏       | 43/200 [00:00<00:00, 421.57it/s]"
     ]
    },
    {
     "name": "stdout",
     "output_type": "stream",
     "text": [
      "pred: 0 - target: 0 - loss: 0.000 - raw pred: tensor([[ 13.7707, -12.0408]], device='cuda:0')\n",
      "matching = [True] - accuracy = 1.0\n",
      "matching = [True] - accuracy = 1.0\n",
      "matching = [True] - accuracy = 1.0\n",
      "matching = [True] - accuracy = 1.0\n",
      "matching = [True] - accuracy = 1.0\n",
      "matching = [True] - accuracy = 1.0\n",
      "matching = [True] - accuracy = 1.0\n",
      "matching = [True] - accuracy = 1.0\n",
      "matching = [True] - accuracy = 1.0\n"
     ]
    },
    {
     "name": "stderr",
     "output_type": "stream",
     "text": [
      " 86%|████████▌ | 172/200 [00:00<00:00, 418.55it/s]"
     ]
    },
    {
     "name": "stdout",
     "output_type": "stream",
     "text": [
      "matching = [True] - accuracy = 1.0\n",
      "matching = [True] - accuracy = 1.0\n",
      "matching = [True] - accuracy = 1.0\n",
      "matching = [True] - accuracy = 1.0\n",
      "matching = [True] - accuracy = 1.0\n",
      "matching = [True] - accuracy = 1.0\n",
      "matching = [True] - accuracy = 1.0\n",
      "matching = [True] - accuracy = 1.0\n",
      "matching = [True] - accuracy = 1.0\n"
     ]
    },
    {
     "name": "stderr",
     "output_type": "stream",
     "text": [
      "100%|██████████| 200/200 [00:00<00:00, 418.37it/s]\n"
     ]
    },
    {
     "name": "stdout",
     "output_type": "stream",
     "text": [
      "matching = [True] - accuracy = 1.0\n",
      "matching = [True] - accuracy = 1.0\n",
      "//////////////////// Epoch: 27 ////////////////////\n"
     ]
    },
    {
     "name": "stderr",
     "output_type": "stream",
     "text": [
      "  2%|▏         | 17/800 [00:00<00:04, 164.29it/s]"
     ]
    },
    {
     "name": "stdout",
     "output_type": "stream",
     "text": [
      "pred: 1 - target: 1 - loss: 0.001 - raw pred: tensor([[-3.3391,  3.3464]], device='cuda:0', grad_fn=<AddmmBackward0>)\n"
     ]
    },
    {
     "name": "stderr",
     "output_type": "stream",
     "text": [
      "100%|██████████| 800/800 [00:04<00:00, 166.47it/s]\n"
     ]
    },
    {
     "name": "stdout",
     "output_type": "stream",
     "text": [
      "//////////////////// Validation ////////////////////\n"
     ]
    },
    {
     "name": "stderr",
     "output_type": "stream",
     "text": [
      " 21%|██        | 42/200 [00:00<00:00, 416.50it/s]"
     ]
    },
    {
     "name": "stdout",
     "output_type": "stream",
     "text": [
      "pred: 1 - target: 1 - loss: 0.007 - raw pred: tensor([[-2.4889,  2.4657]], device='cuda:0')\n",
      "matching = [True] - accuracy = 1.0\n",
      "matching = [True] - accuracy = 1.0\n",
      "matching = [True] - accuracy = 1.0\n",
      "matching = [True] - accuracy = 1.0\n",
      "matching = [True] - accuracy = 1.0\n",
      "matching = [True] - accuracy = 1.0\n",
      "matching = [True] - accuracy = 1.0\n",
      "matching = [True] - accuracy = 1.0\n",
      "matching = [True] - accuracy = 1.0\n"
     ]
    },
    {
     "name": "stderr",
     "output_type": "stream",
     "text": [
      " 84%|████████▍ | 169/200 [00:00<00:00, 418.29it/s]"
     ]
    },
    {
     "name": "stdout",
     "output_type": "stream",
     "text": [
      "matching = [True] - accuracy = 1.0\n",
      "matching = [True] - accuracy = 1.0\n",
      "matching = [True] - accuracy = 1.0\n",
      "matching = [True] - accuracy = 1.0\n",
      "matching = [True] - accuracy = 1.0\n",
      "matching = [True] - accuracy = 1.0\n",
      "matching = [True] - accuracy = 1.0\n",
      "matching = [True] - accuracy = 1.0\n",
      "matching = [True] - accuracy = 1.0\n"
     ]
    },
    {
     "name": "stderr",
     "output_type": "stream",
     "text": [
      "100%|██████████| 200/200 [00:00<00:00, 416.55it/s]\n"
     ]
    },
    {
     "name": "stdout",
     "output_type": "stream",
     "text": [
      "matching = [True] - accuracy = 1.0\n",
      "matching = [True] - accuracy = 1.0\n",
      "//////////////////// Epoch: 28 ////////////////////\n"
     ]
    },
    {
     "name": "stderr",
     "output_type": "stream",
     "text": [
      "  2%|▏         | 17/800 [00:00<00:04, 160.98it/s]"
     ]
    },
    {
     "name": "stdout",
     "output_type": "stream",
     "text": [
      "pred: 1 - target: 1 - loss: 0.002 - raw pred: tensor([[-3.0376,  3.0133]], device='cuda:0', grad_fn=<AddmmBackward0>)\n"
     ]
    },
    {
     "name": "stderr",
     "output_type": "stream",
     "text": [
      "100%|██████████| 800/800 [00:04<00:00, 163.25it/s]\n"
     ]
    },
    {
     "name": "stdout",
     "output_type": "stream",
     "text": [
      "//////////////////// Validation ////////////////////\n"
     ]
    },
    {
     "name": "stderr",
     "output_type": "stream",
     "text": [
      " 21%|██        | 42/200 [00:00<00:00, 417.07it/s]"
     ]
    },
    {
     "name": "stdout",
     "output_type": "stream",
     "text": [
      "pred: 0 - target: 0 - loss: 0.000 - raw pred: tensor([[ 9.7521, -8.4837]], device='cuda:0')\n",
      "matching = [True] - accuracy = 1.0\n",
      "matching = [True] - accuracy = 1.0\n",
      "matching = [True] - accuracy = 1.0\n",
      "matching = [True] - accuracy = 1.0\n",
      "matching = [True] - accuracy = 1.0\n",
      "matching = [True] - accuracy = 1.0\n",
      "matching = [True] - accuracy = 1.0\n",
      "matching = [True] - accuracy = 1.0\n",
      "matching = [True] - accuracy = 1.0\n"
     ]
    },
    {
     "name": "stderr",
     "output_type": "stream",
     "text": [
      " 86%|████████▌ | 171/200 [00:00<00:00, 423.17it/s]"
     ]
    },
    {
     "name": "stdout",
     "output_type": "stream",
     "text": [
      "matching = [True] - accuracy = 1.0\n",
      "matching = [True] - accuracy = 1.0\n",
      "matching = [True] - accuracy = 1.0\n",
      "matching = [True] - accuracy = 1.0\n",
      "matching = [True] - accuracy = 1.0\n",
      "matching = [True] - accuracy = 1.0\n",
      "matching = [True] - accuracy = 1.0\n",
      "matching = [True] - accuracy = 1.0\n",
      "matching = [True] - accuracy = 1.0\n"
     ]
    },
    {
     "name": "stderr",
     "output_type": "stream",
     "text": [
      "100%|██████████| 200/200 [00:00<00:00, 422.16it/s]\n"
     ]
    },
    {
     "name": "stdout",
     "output_type": "stream",
     "text": [
      "matching = [True] - accuracy = 1.0\n",
      "matching = [True] - accuracy = 1.0\n",
      "//////////////////// Epoch: 29 ////////////////////\n"
     ]
    },
    {
     "name": "stderr",
     "output_type": "stream",
     "text": [
      "  2%|▏         | 17/800 [00:00<00:04, 163.86it/s]"
     ]
    },
    {
     "name": "stdout",
     "output_type": "stream",
     "text": [
      "pred: 1 - target: 1 - loss: 0.000 - raw pred: tensor([[-7.1777,  7.1720]], device='cuda:0', grad_fn=<AddmmBackward0>)\n"
     ]
    },
    {
     "name": "stderr",
     "output_type": "stream",
     "text": [
      "100%|██████████| 800/800 [00:04<00:00, 166.24it/s]\n"
     ]
    },
    {
     "name": "stdout",
     "output_type": "stream",
     "text": [
      "//////////////////// Validation ////////////////////\n"
     ]
    },
    {
     "name": "stderr",
     "output_type": "stream",
     "text": [
      " 22%|██▏       | 43/200 [00:00<00:00, 420.70it/s]"
     ]
    },
    {
     "name": "stdout",
     "output_type": "stream",
     "text": [
      "pred: 1 - target: 1 - loss: 0.000 - raw pred: tensor([[-4.8085,  4.8080]], device='cuda:0')\n",
      "matching = [True] - accuracy = 1.0\n",
      "matching = [True] - accuracy = 1.0\n",
      "matching = [True] - accuracy = 1.0\n",
      "matching = [True] - accuracy = 1.0\n",
      "matching = [True] - accuracy = 1.0\n",
      "matching = [True] - accuracy = 1.0\n",
      "matching = [True] - accuracy = 1.0\n",
      "matching = [True] - accuracy = 1.0\n",
      "matching = [True] - accuracy = 1.0\n"
     ]
    },
    {
     "name": "stderr",
     "output_type": "stream",
     "text": [
      " 86%|████████▌ | 172/200 [00:00<00:00, 422.28it/s]"
     ]
    },
    {
     "name": "stdout",
     "output_type": "stream",
     "text": [
      "matching = [True] - accuracy = 1.0\n",
      "matching = [True] - accuracy = 1.0\n",
      "matching = [True] - accuracy = 1.0\n",
      "matching = [True] - accuracy = 1.0\n",
      "matching = [True] - accuracy = 1.0\n",
      "matching = [True] - accuracy = 1.0\n",
      "matching = [True] - accuracy = 1.0\n",
      "matching = [True] - accuracy = 1.0\n",
      "matching = [True] - accuracy = 1.0\n"
     ]
    },
    {
     "name": "stderr",
     "output_type": "stream",
     "text": [
      "100%|██████████| 200/200 [00:00<00:00, 421.72it/s]\n"
     ]
    },
    {
     "name": "stdout",
     "output_type": "stream",
     "text": [
      "matching = [True] - accuracy = 1.0\n",
      "matching = [True] - accuracy = 1.0\n",
      "//////////////////// Epoch: 30 ////////////////////\n"
     ]
    },
    {
     "name": "stderr",
     "output_type": "stream",
     "text": [
      "  2%|▏         | 17/800 [00:00<00:04, 163.60it/s]"
     ]
    },
    {
     "name": "stdout",
     "output_type": "stream",
     "text": [
      "pred: 1 - target: 1 - loss: 0.005 - raw pred: tensor([[-2.7023,  2.6916]], device='cuda:0', grad_fn=<AddmmBackward0>)\n"
     ]
    },
    {
     "name": "stderr",
     "output_type": "stream",
     "text": [
      "100%|██████████| 800/800 [00:04<00:00, 164.76it/s]\n"
     ]
    },
    {
     "name": "stdout",
     "output_type": "stream",
     "text": [
      "//////////////////// Validation ////////////////////\n"
     ]
    },
    {
     "name": "stderr",
     "output_type": "stream",
     "text": [
      " 21%|██        | 42/200 [00:00<00:00, 415.43it/s]"
     ]
    },
    {
     "name": "stdout",
     "output_type": "stream",
     "text": [
      "pred: 0 - target: 0 - loss: 0.000 - raw pred: tensor([[ 9.6921, -8.7294]], device='cuda:0')\n",
      "matching = [True] - accuracy = 1.0\n",
      "matching = [True] - accuracy = 1.0\n",
      "matching = [True] - accuracy = 1.0\n",
      "matching = [True] - accuracy = 1.0\n",
      "matching = [True] - accuracy = 1.0\n",
      "matching = [True] - accuracy = 1.0\n",
      "matching = [True] - accuracy = 1.0\n",
      "matching = [True] - accuracy = 1.0\n",
      "matching = [True] - accuracy = 1.0\n"
     ]
    },
    {
     "name": "stderr",
     "output_type": "stream",
     "text": [
      " 84%|████████▍ | 168/200 [00:00<00:00, 416.41it/s]"
     ]
    },
    {
     "name": "stdout",
     "output_type": "stream",
     "text": [
      "matching = [True] - accuracy = 1.0\n",
      "matching = [True] - accuracy = 1.0\n",
      "matching = [True] - accuracy = 1.0\n",
      "matching = [True] - accuracy = 1.0\n",
      "matching = [True] - accuracy = 1.0\n",
      "matching = [True] - accuracy = 1.0\n",
      "matching = [True] - accuracy = 1.0\n",
      "matching = [True] - accuracy = 1.0\n",
      "matching = [True] - accuracy = 1.0\n"
     ]
    },
    {
     "name": "stderr",
     "output_type": "stream",
     "text": [
      "100%|██████████| 200/200 [00:00<00:00, 415.77it/s]\n"
     ]
    },
    {
     "name": "stdout",
     "output_type": "stream",
     "text": [
      "matching = [True] - accuracy = 1.0\n",
      "matching = [True] - accuracy = 1.0\n",
      "//////////////////// Epoch: 31 ////////////////////\n"
     ]
    },
    {
     "name": "stderr",
     "output_type": "stream",
     "text": [
      "  2%|▏         | 17/800 [00:00<00:04, 168.07it/s]"
     ]
    },
    {
     "name": "stdout",
     "output_type": "stream",
     "text": [
      "pred: 0 - target: 0 - loss: 0.000 - raw pred: tensor([[ 7.1438, -6.4445]], device='cuda:0', grad_fn=<AddmmBackward0>)\n"
     ]
    },
    {
     "name": "stderr",
     "output_type": "stream",
     "text": [
      "100%|██████████| 800/800 [00:04<00:00, 166.35it/s]\n"
     ]
    },
    {
     "name": "stdout",
     "output_type": "stream",
     "text": [
      "//////////////////// Validation ////////////////////\n"
     ]
    },
    {
     "name": "stderr",
     "output_type": "stream",
     "text": [
      " 21%|██        | 42/200 [00:00<00:00, 417.96it/s]"
     ]
    },
    {
     "name": "stdout",
     "output_type": "stream",
     "text": [
      "pred: 0 - target: 0 - loss: 0.000 - raw pred: tensor([[ 6.4585, -5.8185]], device='cuda:0')\n",
      "matching = [True] - accuracy = 1.0\n",
      "matching = [True] - accuracy = 1.0\n",
      "matching = [True] - accuracy = 1.0\n",
      "matching = [True] - accuracy = 1.0\n",
      "matching = [True] - accuracy = 1.0\n",
      "matching = [True] - accuracy = 1.0\n",
      "matching = [True] - accuracy = 1.0\n",
      "matching = [True] - accuracy = 1.0\n",
      "matching = [True] - accuracy = 1.0\n"
     ]
    },
    {
     "name": "stderr",
     "output_type": "stream",
     "text": [
      " 86%|████████▌ | 171/200 [00:00<00:00, 419.91it/s]"
     ]
    },
    {
     "name": "stdout",
     "output_type": "stream",
     "text": [
      "matching = [True] - accuracy = 1.0\n",
      "matching = [True] - accuracy = 1.0\n",
      "matching = [True] - accuracy = 1.0\n",
      "matching = [True] - accuracy = 1.0\n",
      "matching = [True] - accuracy = 1.0\n",
      "matching = [True] - accuracy = 1.0\n",
      "matching = [True] - accuracy = 1.0\n",
      "matching = [True] - accuracy = 1.0\n",
      "matching = [True] - accuracy = 1.0\n"
     ]
    },
    {
     "name": "stderr",
     "output_type": "stream",
     "text": [
      "100%|██████████| 200/200 [00:00<00:00, 418.43it/s]\n"
     ]
    },
    {
     "name": "stdout",
     "output_type": "stream",
     "text": [
      "matching = [True] - accuracy = 1.0\n",
      "matching = [True] - accuracy = 1.0\n",
      "//////////////////// Epoch: 32 ////////////////////\n"
     ]
    },
    {
     "name": "stderr",
     "output_type": "stream",
     "text": [
      "  2%|▏         | 17/800 [00:00<00:04, 166.49it/s]"
     ]
    },
    {
     "name": "stdout",
     "output_type": "stream",
     "text": [
      "pred: 0 - target: 0 - loss: 0.000 - raw pred: tensor([[ 8.5677, -7.6794]], device='cuda:0', grad_fn=<AddmmBackward0>)\n"
     ]
    },
    {
     "name": "stderr",
     "output_type": "stream",
     "text": [
      "100%|██████████| 800/800 [00:04<00:00, 166.23it/s]\n"
     ]
    },
    {
     "name": "stdout",
     "output_type": "stream",
     "text": [
      "//////////////////// Validation ////////////////////\n"
     ]
    },
    {
     "name": "stderr",
     "output_type": "stream",
     "text": [
      " 20%|██        | 41/200 [00:00<00:00, 409.13it/s]"
     ]
    },
    {
     "name": "stdout",
     "output_type": "stream",
     "text": [
      "pred: 0 - target: 0 - loss: 0.000 - raw pred: tensor([[ 4.2510, -3.8410]], device='cuda:0')\n",
      "matching = [True] - accuracy = 1.0\n",
      "matching = [True] - accuracy = 1.0\n",
      "matching = [True] - accuracy = 1.0\n",
      "matching = [True] - accuracy = 1.0\n",
      "matching = [True] - accuracy = 1.0\n",
      "matching = [True] - accuracy = 1.0\n",
      "matching = [True] - accuracy = 1.0\n",
      "matching = [True] - accuracy = 1.0\n",
      "matching = [True] - accuracy = 1.0\n"
     ]
    },
    {
     "name": "stderr",
     "output_type": "stream",
     "text": [
      " 84%|████████▎ | 167/200 [00:00<00:00, 412.58it/s]"
     ]
    },
    {
     "name": "stdout",
     "output_type": "stream",
     "text": [
      "matching = [True] - accuracy = 1.0\n",
      "matching = [True] - accuracy = 1.0\n",
      "matching = [True] - accuracy = 1.0\n",
      "matching = [True] - accuracy = 1.0\n",
      "matching = [True] - accuracy = 1.0\n",
      "matching = [True] - accuracy = 1.0\n",
      "matching = [True] - accuracy = 1.0\n",
      "matching = [True] - accuracy = 1.0\n",
      "matching = [True] - accuracy = 1.0\n"
     ]
    },
    {
     "name": "stderr",
     "output_type": "stream",
     "text": [
      "100%|██████████| 200/200 [00:00<00:00, 410.60it/s]\n"
     ]
    },
    {
     "name": "stdout",
     "output_type": "stream",
     "text": [
      "matching = [True] - accuracy = 1.0\n",
      "matching = [True] - accuracy = 1.0\n",
      "//////////////////// Epoch: 33 ////////////////////\n"
     ]
    },
    {
     "name": "stderr",
     "output_type": "stream",
     "text": [
      "  2%|▏         | 17/800 [00:00<00:04, 165.67it/s]"
     ]
    },
    {
     "name": "stdout",
     "output_type": "stream",
     "text": [
      "pred: 0 - target: 0 - loss: 0.000 - raw pred: tensor([[ 6.7497, -6.0941]], device='cuda:0', grad_fn=<AddmmBackward0>)\n"
     ]
    },
    {
     "name": "stderr",
     "output_type": "stream",
     "text": [
      "100%|██████████| 800/800 [00:04<00:00, 165.62it/s]\n"
     ]
    },
    {
     "name": "stdout",
     "output_type": "stream",
     "text": [
      "//////////////////// Validation ////////////////////\n"
     ]
    },
    {
     "name": "stderr",
     "output_type": "stream",
     "text": [
      " 21%|██        | 42/200 [00:00<00:00, 414.71it/s]"
     ]
    },
    {
     "name": "stdout",
     "output_type": "stream",
     "text": [
      "pred: 1 - target: 1 - loss: 0.008 - raw pred: tensor([[-2.4427,  2.4259]], device='cuda:0')\n",
      "matching = [True] - accuracy = 1.0\n",
      "matching = [True] - accuracy = 1.0\n",
      "matching = [True] - accuracy = 1.0\n",
      "matching = [True] - accuracy = 1.0\n",
      "matching = [True] - accuracy = 1.0\n",
      "matching = [True] - accuracy = 1.0\n",
      "matching = [True] - accuracy = 1.0\n",
      "matching = [True] - accuracy = 1.0\n",
      "matching = [True] - accuracy = 1.0\n"
     ]
    },
    {
     "name": "stderr",
     "output_type": "stream",
     "text": [
      " 84%|████████▍ | 169/200 [00:00<00:00, 418.69it/s]"
     ]
    },
    {
     "name": "stdout",
     "output_type": "stream",
     "text": [
      "matching = [True] - accuracy = 1.0\n",
      "matching = [True] - accuracy = 1.0\n",
      "matching = [True] - accuracy = 1.0\n",
      "matching = [True] - accuracy = 1.0\n",
      "matching = [True] - accuracy = 1.0\n",
      "matching = [True] - accuracy = 1.0\n",
      "matching = [True] - accuracy = 1.0\n",
      "matching = [True] - accuracy = 1.0\n",
      "matching = [True] - accuracy = 1.0\n"
     ]
    },
    {
     "name": "stderr",
     "output_type": "stream",
     "text": [
      "100%|██████████| 200/200 [00:00<00:00, 417.94it/s]\n"
     ]
    },
    {
     "name": "stdout",
     "output_type": "stream",
     "text": [
      "matching = [True] - accuracy = 1.0\n",
      "matching = [True] - accuracy = 1.0\n",
      "//////////////////// Epoch: 34 ////////////////////\n"
     ]
    },
    {
     "name": "stderr",
     "output_type": "stream",
     "text": [
      "  2%|▏         | 17/800 [00:00<00:04, 161.64it/s]"
     ]
    },
    {
     "name": "stdout",
     "output_type": "stream",
     "text": [
      "pred: 1 - target: 1 - loss: 0.000 - raw pred: tensor([[-5.4400,  5.4242]], device='cuda:0', grad_fn=<AddmmBackward0>)\n"
     ]
    },
    {
     "name": "stderr",
     "output_type": "stream",
     "text": [
      "100%|██████████| 800/800 [00:04<00:00, 165.18it/s]\n"
     ]
    },
    {
     "name": "stdout",
     "output_type": "stream",
     "text": [
      "//////////////////// Validation ////////////////////\n"
     ]
    },
    {
     "name": "stderr",
     "output_type": "stream",
     "text": [
      " 21%|██        | 42/200 [00:00<00:00, 410.87it/s]"
     ]
    },
    {
     "name": "stdout",
     "output_type": "stream",
     "text": [
      "pred: 1 - target: 1 - loss: 0.003 - raw pred: tensor([[-2.9514,  2.9269]], device='cuda:0')\n",
      "matching = [True] - accuracy = 1.0\n",
      "matching = [True] - accuracy = 1.0\n",
      "matching = [True] - accuracy = 1.0\n",
      "matching = [True] - accuracy = 1.0\n",
      "matching = [True] - accuracy = 1.0\n",
      "matching = [True] - accuracy = 1.0\n",
      "matching = [True] - accuracy = 1.0\n",
      "matching = [True] - accuracy = 1.0\n",
      "matching = [True] - accuracy = 1.0\n"
     ]
    },
    {
     "name": "stderr",
     "output_type": "stream",
     "text": [
      " 84%|████████▍ | 168/200 [00:00<00:00, 413.90it/s]"
     ]
    },
    {
     "name": "stdout",
     "output_type": "stream",
     "text": [
      "matching = [True] - accuracy = 1.0\n",
      "matching = [True] - accuracy = 1.0\n",
      "matching = [True] - accuracy = 1.0\n",
      "matching = [True] - accuracy = 1.0\n",
      "matching = [True] - accuracy = 1.0\n",
      "matching = [True] - accuracy = 1.0\n",
      "matching = [True] - accuracy = 1.0\n",
      "matching = [True] - accuracy = 1.0\n",
      "matching = [True] - accuracy = 1.0\n"
     ]
    },
    {
     "name": "stderr",
     "output_type": "stream",
     "text": [
      "100%|██████████| 200/200 [00:00<00:00, 413.20it/s]\n"
     ]
    },
    {
     "name": "stdout",
     "output_type": "stream",
     "text": [
      "matching = [False] - accuracy = 0.0\n",
      "matching = [True] - accuracy = 1.0\n",
      "//////////////////// Epoch: 35 ////////////////////\n"
     ]
    },
    {
     "name": "stderr",
     "output_type": "stream",
     "text": [
      "  2%|▏         | 17/800 [00:00<00:04, 168.26it/s]"
     ]
    },
    {
     "name": "stdout",
     "output_type": "stream",
     "text": [
      "pred: 1 - target: 1 - loss: 0.002 - raw pred: tensor([[-3.1306,  3.1098]], device='cuda:0', grad_fn=<AddmmBackward0>)\n"
     ]
    },
    {
     "name": "stderr",
     "output_type": "stream",
     "text": [
      "100%|██████████| 800/800 [00:04<00:00, 167.11it/s]\n"
     ]
    },
    {
     "name": "stdout",
     "output_type": "stream",
     "text": [
      "//////////////////// Validation ////////////////////\n"
     ]
    },
    {
     "name": "stderr",
     "output_type": "stream",
     "text": [
      " 21%|██        | 42/200 [00:00<00:00, 417.80it/s]"
     ]
    },
    {
     "name": "stdout",
     "output_type": "stream",
     "text": [
      "pred: 0 - target: 0 - loss: 0.018 - raw pred: tensor([[ 2.1042, -1.8775]], device='cuda:0')\n",
      "matching = [True] - accuracy = 1.0\n",
      "matching = [True] - accuracy = 1.0\n",
      "matching = [True] - accuracy = 1.0\n",
      "matching = [True] - accuracy = 1.0\n",
      "matching = [True] - accuracy = 1.0\n",
      "matching = [True] - accuracy = 1.0\n",
      "matching = [True] - accuracy = 1.0\n",
      "matching = [True] - accuracy = 1.0\n",
      "matching = [True] - accuracy = 1.0\n"
     ]
    },
    {
     "name": "stderr",
     "output_type": "stream",
     "text": [
      " 84%|████████▎ | 167/200 [00:00<00:00, 399.66it/s]"
     ]
    },
    {
     "name": "stdout",
     "output_type": "stream",
     "text": [
      "matching = [True] - accuracy = 1.0\n",
      "matching = [True] - accuracy = 1.0\n",
      "matching = [True] - accuracy = 1.0\n",
      "matching = [True] - accuracy = 1.0\n",
      "matching = [True] - accuracy = 1.0\n",
      "matching = [True] - accuracy = 1.0\n",
      "matching = [True] - accuracy = 1.0\n",
      "matching = [True] - accuracy = 1.0\n"
     ]
    },
    {
     "name": "stderr",
     "output_type": "stream",
     "text": [
      "100%|██████████| 200/200 [00:00<00:00, 398.96it/s]\n"
     ]
    },
    {
     "name": "stdout",
     "output_type": "stream",
     "text": [
      "matching = [True] - accuracy = 1.0\n",
      "matching = [True] - accuracy = 1.0\n",
      "matching = [True] - accuracy = 1.0\n",
      "//////////////////// Epoch: 36 ////////////////////\n"
     ]
    },
    {
     "name": "stderr",
     "output_type": "stream",
     "text": [
      "  2%|▏         | 17/800 [00:00<00:04, 160.11it/s]"
     ]
    },
    {
     "name": "stdout",
     "output_type": "stream",
     "text": [
      "pred: 1 - target: 1 - loss: 0.000 - raw pred: tensor([[-5.8335,  5.8155]], device='cuda:0', grad_fn=<AddmmBackward0>)\n"
     ]
    },
    {
     "name": "stderr",
     "output_type": "stream",
     "text": [
      "100%|██████████| 800/800 [00:04<00:00, 165.93it/s]\n"
     ]
    },
    {
     "name": "stdout",
     "output_type": "stream",
     "text": [
      "//////////////////// Validation ////////////////////\n"
     ]
    },
    {
     "name": "stderr",
     "output_type": "stream",
     "text": [
      " 21%|██        | 42/200 [00:00<00:00, 413.09it/s]"
     ]
    },
    {
     "name": "stdout",
     "output_type": "stream",
     "text": [
      "pred: 1 - target: 1 - loss: 0.000 - raw pred: tensor([[-4.8181,  4.7971]], device='cuda:0')\n",
      "matching = [True] - accuracy = 1.0\n",
      "matching = [True] - accuracy = 1.0\n",
      "matching = [True] - accuracy = 1.0\n",
      "matching = [True] - accuracy = 1.0\n",
      "matching = [True] - accuracy = 1.0\n",
      "matching = [True] - accuracy = 1.0\n",
      "matching = [True] - accuracy = 1.0\n",
      "matching = [True] - accuracy = 1.0\n",
      "matching = [True] - accuracy = 1.0\n"
     ]
    },
    {
     "name": "stderr",
     "output_type": "stream",
     "text": [
      " 84%|████████▍ | 168/200 [00:00<00:00, 413.91it/s]"
     ]
    },
    {
     "name": "stdout",
     "output_type": "stream",
     "text": [
      "matching = [True] - accuracy = 1.0\n",
      "matching = [True] - accuracy = 1.0\n",
      "matching = [True] - accuracy = 1.0\n",
      "matching = [True] - accuracy = 1.0\n",
      "matching = [True] - accuracy = 1.0\n",
      "matching = [False] - accuracy = 0.0\n",
      "matching = [True] - accuracy = 1.0\n",
      "matching = [True] - accuracy = 1.0\n",
      "matching = [True] - accuracy = 1.0\n"
     ]
    },
    {
     "name": "stderr",
     "output_type": "stream",
     "text": [
      "100%|██████████| 200/200 [00:00<00:00, 411.45it/s]\n"
     ]
    },
    {
     "name": "stdout",
     "output_type": "stream",
     "text": [
      "matching = [True] - accuracy = 1.0\n",
      "matching = [True] - accuracy = 1.0\n",
      "//////////////////// Epoch: 37 ////////////////////\n"
     ]
    },
    {
     "name": "stderr",
     "output_type": "stream",
     "text": [
      "  2%|▏         | 17/800 [00:00<00:04, 161.86it/s]"
     ]
    },
    {
     "name": "stdout",
     "output_type": "stream",
     "text": [
      "pred: 1 - target: 1 - loss: 0.000 - raw pred: tensor([[-3.8902,  3.8694]], device='cuda:0', grad_fn=<AddmmBackward0>)\n"
     ]
    },
    {
     "name": "stderr",
     "output_type": "stream",
     "text": [
      "100%|██████████| 800/800 [00:04<00:00, 166.22it/s]\n"
     ]
    },
    {
     "name": "stdout",
     "output_type": "stream",
     "text": [
      "//////////////////// Validation ////////////////////\n"
     ]
    },
    {
     "name": "stderr",
     "output_type": "stream",
     "text": [
      " 22%|██▏       | 43/200 [00:00<00:00, 421.05it/s]"
     ]
    },
    {
     "name": "stdout",
     "output_type": "stream",
     "text": [
      "pred: 0 - target: 0 - loss: 0.000 - raw pred: tensor([[ 6.5010, -5.8667]], device='cuda:0')\n",
      "matching = [True] - accuracy = 1.0\n",
      "matching = [True] - accuracy = 1.0\n",
      "matching = [True] - accuracy = 1.0\n",
      "matching = [True] - accuracy = 1.0\n",
      "matching = [True] - accuracy = 1.0\n",
      "matching = [True] - accuracy = 1.0\n",
      "matching = [True] - accuracy = 1.0\n",
      "matching = [True] - accuracy = 1.0\n",
      "matching = [True] - accuracy = 1.0\n"
     ]
    },
    {
     "name": "stderr",
     "output_type": "stream",
     "text": [
      " 86%|████████▌ | 172/200 [00:00<00:00, 421.19it/s]"
     ]
    },
    {
     "name": "stdout",
     "output_type": "stream",
     "text": [
      "matching = [True] - accuracy = 1.0\n",
      "matching = [True] - accuracy = 1.0\n",
      "matching = [True] - accuracy = 1.0\n",
      "matching = [True] - accuracy = 1.0\n",
      "matching = [True] - accuracy = 1.0\n",
      "matching = [True] - accuracy = 1.0\n",
      "matching = [True] - accuracy = 1.0\n",
      "matching = [True] - accuracy = 1.0\n",
      "matching = [True] - accuracy = 1.0\n"
     ]
    },
    {
     "name": "stderr",
     "output_type": "stream",
     "text": [
      "100%|██████████| 200/200 [00:00<00:00, 419.91it/s]\n"
     ]
    },
    {
     "name": "stdout",
     "output_type": "stream",
     "text": [
      "matching = [True] - accuracy = 1.0\n",
      "matching = [True] - accuracy = 1.0\n",
      "//////////////////// Epoch: 38 ////////////////////\n"
     ]
    },
    {
     "name": "stderr",
     "output_type": "stream",
     "text": [
      "  2%|▏         | 17/800 [00:00<00:04, 162.73it/s]"
     ]
    },
    {
     "name": "stdout",
     "output_type": "stream",
     "text": [
      "pred: 1 - target: 1 - loss: 0.000 - raw pred: tensor([[-3.8727,  3.8463]], device='cuda:0', grad_fn=<AddmmBackward0>)\n"
     ]
    },
    {
     "name": "stderr",
     "output_type": "stream",
     "text": [
      "100%|██████████| 800/800 [00:04<00:00, 166.31it/s]\n"
     ]
    },
    {
     "name": "stdout",
     "output_type": "stream",
     "text": [
      "//////////////////// Validation ////////////////////\n"
     ]
    },
    {
     "name": "stderr",
     "output_type": "stream",
     "text": [
      " 21%|██        | 42/200 [00:00<00:00, 419.60it/s]"
     ]
    },
    {
     "name": "stdout",
     "output_type": "stream",
     "text": [
      "pred: 0 - target: 0 - loss: 0.000 - raw pred: tensor([[ 12.3076, -11.1070]], device='cuda:0')\n",
      "matching = [True] - accuracy = 1.0\n",
      "matching = [True] - accuracy = 1.0\n",
      "matching = [True] - accuracy = 1.0\n",
      "matching = [True] - accuracy = 1.0\n",
      "matching = [True] - accuracy = 1.0\n",
      "matching = [True] - accuracy = 1.0\n",
      "matching = [True] - accuracy = 1.0\n",
      "matching = [True] - accuracy = 1.0\n",
      "matching = [True] - accuracy = 1.0\n"
     ]
    },
    {
     "name": "stderr",
     "output_type": "stream",
     "text": [
      " 86%|████████▌ | 171/200 [00:00<00:00, 419.14it/s]"
     ]
    },
    {
     "name": "stdout",
     "output_type": "stream",
     "text": [
      "matching = [True] - accuracy = 1.0\n",
      "matching = [True] - accuracy = 1.0\n",
      "matching = [False] - accuracy = 0.0\n",
      "matching = [True] - accuracy = 1.0\n",
      "matching = [True] - accuracy = 1.0\n",
      "matching = [True] - accuracy = 1.0\n",
      "matching = [True] - accuracy = 1.0\n",
      "matching = [True] - accuracy = 1.0\n",
      "matching = [True] - accuracy = 1.0\n"
     ]
    },
    {
     "name": "stderr",
     "output_type": "stream",
     "text": [
      "100%|██████████| 200/200 [00:00<00:00, 419.00it/s]\n"
     ]
    },
    {
     "name": "stdout",
     "output_type": "stream",
     "text": [
      "matching = [True] - accuracy = 1.0\n",
      "matching = [True] - accuracy = 1.0\n",
      "//////////////////// Epoch: 39 ////////////////////\n"
     ]
    },
    {
     "name": "stderr",
     "output_type": "stream",
     "text": [
      "  2%|▏         | 17/800 [00:00<00:04, 163.79it/s]"
     ]
    },
    {
     "name": "stdout",
     "output_type": "stream",
     "text": [
      "pred: 0 - target: 0 - loss: 0.000 - raw pred: tensor([[ 9.1155, -8.2249]], device='cuda:0', grad_fn=<AddmmBackward0>)\n"
     ]
    },
    {
     "name": "stderr",
     "output_type": "stream",
     "text": [
      "100%|██████████| 800/800 [00:04<00:00, 164.26it/s]\n"
     ]
    },
    {
     "name": "stdout",
     "output_type": "stream",
     "text": [
      "//////////////////// Validation ////////////////////\n"
     ]
    },
    {
     "name": "stderr",
     "output_type": "stream",
     "text": [
      " 21%|██        | 42/200 [00:00<00:00, 417.27it/s]"
     ]
    },
    {
     "name": "stdout",
     "output_type": "stream",
     "text": [
      "pred: 1 - target: 1 - loss: 0.000 - raw pred: tensor([[-3.8164,  3.7928]], device='cuda:0')\n",
      "matching = [True] - accuracy = 1.0\n",
      "matching = [True] - accuracy = 1.0\n",
      "matching = [True] - accuracy = 1.0\n",
      "matching = [True] - accuracy = 1.0\n",
      "matching = [True] - accuracy = 1.0\n",
      "matching = [True] - accuracy = 1.0\n",
      "matching = [True] - accuracy = 1.0\n",
      "matching = [True] - accuracy = 1.0\n",
      "matching = [True] - accuracy = 1.0\n"
     ]
    },
    {
     "name": "stderr",
     "output_type": "stream",
     "text": [
      " 84%|████████▍ | 169/200 [00:00<00:00, 417.24it/s]"
     ]
    },
    {
     "name": "stdout",
     "output_type": "stream",
     "text": [
      "matching = [True] - accuracy = 1.0\n",
      "matching = [True] - accuracy = 1.0\n",
      "matching = [True] - accuracy = 1.0\n",
      "matching = [True] - accuracy = 1.0\n",
      "matching = [True] - accuracy = 1.0\n",
      "matching = [True] - accuracy = 1.0\n",
      "matching = [True] - accuracy = 1.0\n",
      "matching = [True] - accuracy = 1.0\n",
      "matching = [True] - accuracy = 1.0\n"
     ]
    },
    {
     "name": "stderr",
     "output_type": "stream",
     "text": [
      "100%|██████████| 200/200 [00:00<00:00, 416.69it/s]\n"
     ]
    },
    {
     "name": "stdout",
     "output_type": "stream",
     "text": [
      "matching = [True] - accuracy = 1.0\n",
      "matching = [True] - accuracy = 1.0\n",
      "//////////////////// Epoch: 40 ////////////////////\n"
     ]
    },
    {
     "name": "stderr",
     "output_type": "stream",
     "text": [
      "  2%|▏         | 17/800 [00:00<00:04, 169.32it/s]"
     ]
    },
    {
     "name": "stdout",
     "output_type": "stream",
     "text": [
      "pred: 0 - target: 0 - loss: 0.181 - raw pred: tensor([[ 0.8465, -0.7719]], device='cuda:0', grad_fn=<AddmmBackward0>)\n"
     ]
    },
    {
     "name": "stderr",
     "output_type": "stream",
     "text": [
      "100%|██████████| 800/800 [00:04<00:00, 168.87it/s]\n"
     ]
    },
    {
     "name": "stdout",
     "output_type": "stream",
     "text": [
      "//////////////////// Validation ////////////////////\n"
     ]
    },
    {
     "name": "stderr",
     "output_type": "stream",
     "text": [
      " 20%|██        | 41/200 [00:00<00:00, 403.99it/s]"
     ]
    },
    {
     "name": "stdout",
     "output_type": "stream",
     "text": [
      "pred: 0 - target: 0 - loss: 0.000 - raw pred: tensor([[ 4.8175, -4.3996]], device='cuda:0')\n",
      "matching = [True] - accuracy = 1.0\n",
      "matching = [True] - accuracy = 1.0\n",
      "matching = [True] - accuracy = 1.0\n",
      "matching = [True] - accuracy = 1.0\n",
      "matching = [True] - accuracy = 1.0\n",
      "matching = [True] - accuracy = 1.0\n",
      "matching = [True] - accuracy = 1.0\n",
      "matching = [False] - accuracy = 0.0\n",
      "matching = [True] - accuracy = 1.0\n"
     ]
    },
    {
     "name": "stderr",
     "output_type": "stream",
     "text": [
      " 84%|████████▎ | 167/200 [00:00<00:00, 410.92it/s]"
     ]
    },
    {
     "name": "stdout",
     "output_type": "stream",
     "text": [
      "matching = [True] - accuracy = 1.0\n",
      "matching = [True] - accuracy = 1.0\n",
      "matching = [True] - accuracy = 1.0\n",
      "matching = [True] - accuracy = 1.0\n",
      "matching = [True] - accuracy = 1.0\n",
      "matching = [True] - accuracy = 1.0\n",
      "matching = [True] - accuracy = 1.0\n",
      "matching = [True] - accuracy = 1.0\n",
      "matching = [True] - accuracy = 1.0\n"
     ]
    },
    {
     "name": "stderr",
     "output_type": "stream",
     "text": [
      "100%|██████████| 200/200 [00:00<00:00, 409.05it/s]\n"
     ]
    },
    {
     "name": "stdout",
     "output_type": "stream",
     "text": [
      "matching = [True] - accuracy = 1.0\n",
      "matching = [True] - accuracy = 1.0\n",
      "//////////////////// Epoch: 41 ////////////////////\n"
     ]
    },
    {
     "name": "stderr",
     "output_type": "stream",
     "text": [
      "  2%|▏         | 18/800 [00:00<00:04, 171.56it/s]"
     ]
    },
    {
     "name": "stdout",
     "output_type": "stream",
     "text": [
      "pred: 1 - target: 1 - loss: 0.000 - raw pred: tensor([[-5.6471,  5.6294]], device='cuda:0', grad_fn=<AddmmBackward0>)\n"
     ]
    },
    {
     "name": "stderr",
     "output_type": "stream",
     "text": [
      "100%|██████████| 800/800 [00:04<00:00, 166.03it/s]\n"
     ]
    },
    {
     "name": "stdout",
     "output_type": "stream",
     "text": [
      "//////////////////// Validation ////////////////////\n"
     ]
    },
    {
     "name": "stderr",
     "output_type": "stream",
     "text": [
      " 22%|██▏       | 43/200 [00:00<00:00, 421.38it/s]"
     ]
    },
    {
     "name": "stdout",
     "output_type": "stream",
     "text": [
      "pred: 0 - target: 0 - loss: 0.000 - raw pred: tensor([[ 5.4255, -4.9734]], device='cuda:0')\n",
      "matching = [True] - accuracy = 1.0\n",
      "matching = [True] - accuracy = 1.0\n",
      "matching = [True] - accuracy = 1.0\n",
      "matching = [True] - accuracy = 1.0\n",
      "matching = [True] - accuracy = 1.0\n",
      "matching = [True] - accuracy = 1.0\n",
      "matching = [True] - accuracy = 1.0\n",
      "matching = [True] - accuracy = 1.0\n",
      "matching = [True] - accuracy = 1.0\n"
     ]
    },
    {
     "name": "stderr",
     "output_type": "stream",
     "text": [
      " 86%|████████▌ | 172/200 [00:00<00:00, 421.79it/s]"
     ]
    },
    {
     "name": "stdout",
     "output_type": "stream",
     "text": [
      "matching = [True] - accuracy = 1.0\n",
      "matching = [True] - accuracy = 1.0\n",
      "matching = [True] - accuracy = 1.0\n",
      "matching = [True] - accuracy = 1.0\n",
      "matching = [True] - accuracy = 1.0\n",
      "matching = [True] - accuracy = 1.0\n",
      "matching = [True] - accuracy = 1.0\n",
      "matching = [True] - accuracy = 1.0\n",
      "matching = [True] - accuracy = 1.0\n"
     ]
    },
    {
     "name": "stderr",
     "output_type": "stream",
     "text": [
      "100%|██████████| 200/200 [00:00<00:00, 420.17it/s]\n"
     ]
    },
    {
     "name": "stdout",
     "output_type": "stream",
     "text": [
      "matching = [True] - accuracy = 1.0\n",
      "matching = [True] - accuracy = 1.0\n",
      "//////////////////// Epoch: 42 ////////////////////\n"
     ]
    },
    {
     "name": "stderr",
     "output_type": "stream",
     "text": [
      "  2%|▏         | 17/800 [00:00<00:04, 167.61it/s]"
     ]
    },
    {
     "name": "stdout",
     "output_type": "stream",
     "text": [
      "pred: 1 - target: 1 - loss: 0.002 - raw pred: tensor([[-3.1421,  3.1428]], device='cuda:0', grad_fn=<AddmmBackward0>)\n"
     ]
    },
    {
     "name": "stderr",
     "output_type": "stream",
     "text": [
      "100%|██████████| 800/800 [00:04<00:00, 168.23it/s]\n"
     ]
    },
    {
     "name": "stdout",
     "output_type": "stream",
     "text": [
      "//////////////////// Validation ////////////////////\n"
     ]
    },
    {
     "name": "stderr",
     "output_type": "stream",
     "text": [
      " 21%|██        | 42/200 [00:00<00:00, 415.61it/s]"
     ]
    },
    {
     "name": "stdout",
     "output_type": "stream",
     "text": [
      "pred: 1 - target: 1 - loss: 0.000 - raw pred: tensor([[-5.2768,  5.2922]], device='cuda:0')\n",
      "matching = [True] - accuracy = 1.0\n",
      "matching = [True] - accuracy = 1.0\n",
      "matching = [True] - accuracy = 1.0\n",
      "matching = [True] - accuracy = 1.0\n",
      "matching = [True] - accuracy = 1.0\n",
      "matching = [True] - accuracy = 1.0\n",
      "matching = [True] - accuracy = 1.0\n",
      "matching = [True] - accuracy = 1.0\n",
      "matching = [True] - accuracy = 1.0\n"
     ]
    },
    {
     "name": "stderr",
     "output_type": "stream",
     "text": [
      " 84%|████████▍ | 169/200 [00:00<00:00, 416.51it/s]"
     ]
    },
    {
     "name": "stdout",
     "output_type": "stream",
     "text": [
      "matching = [True] - accuracy = 1.0\n",
      "matching = [True] - accuracy = 1.0\n",
      "matching = [True] - accuracy = 1.0\n",
      "matching = [True] - accuracy = 1.0\n",
      "matching = [True] - accuracy = 1.0\n",
      "matching = [True] - accuracy = 1.0\n",
      "matching = [True] - accuracy = 1.0\n",
      "matching = [True] - accuracy = 1.0\n",
      "matching = [True] - accuracy = 1.0\n"
     ]
    },
    {
     "name": "stderr",
     "output_type": "stream",
     "text": [
      "100%|██████████| 200/200 [00:00<00:00, 416.34it/s]\n"
     ]
    },
    {
     "name": "stdout",
     "output_type": "stream",
     "text": [
      "matching = [True] - accuracy = 1.0\n",
      "matching = [True] - accuracy = 1.0\n",
      "//////////////////// Epoch: 43 ////////////////////\n"
     ]
    },
    {
     "name": "stderr",
     "output_type": "stream",
     "text": [
      "  2%|▏         | 17/800 [00:00<00:04, 163.76it/s]"
     ]
    },
    {
     "name": "stdout",
     "output_type": "stream",
     "text": [
      "pred: 0 - target: 0 - loss: 0.000 - raw pred: tensor([[ 5.0905, -4.6692]], device='cuda:0', grad_fn=<AddmmBackward0>)\n"
     ]
    },
    {
     "name": "stderr",
     "output_type": "stream",
     "text": [
      "100%|██████████| 800/800 [00:04<00:00, 168.17it/s]\n"
     ]
    },
    {
     "name": "stdout",
     "output_type": "stream",
     "text": [
      "//////////////////// Validation ////////////////////\n"
     ]
    },
    {
     "name": "stderr",
     "output_type": "stream",
     "text": [
      " 20%|██        | 41/200 [00:00<00:00, 403.19it/s]"
     ]
    },
    {
     "name": "stdout",
     "output_type": "stream",
     "text": [
      "pred: 0 - target: 0 - loss: 0.003 - raw pred: tensor([[ 3.0947, -2.8678]], device='cuda:0')\n",
      "matching = [True] - accuracy = 1.0\n",
      "matching = [True] - accuracy = 1.0\n",
      "matching = [True] - accuracy = 1.0\n",
      "matching = [True] - accuracy = 1.0\n",
      "matching = [True] - accuracy = 1.0\n",
      "matching = [True] - accuracy = 1.0\n",
      "matching = [True] - accuracy = 1.0\n",
      "matching = [True] - accuracy = 1.0\n",
      "matching = [True] - accuracy = 1.0\n"
     ]
    },
    {
     "name": "stderr",
     "output_type": "stream",
     "text": [
      " 84%|████████▍ | 168/200 [00:00<00:00, 414.53it/s]"
     ]
    },
    {
     "name": "stdout",
     "output_type": "stream",
     "text": [
      "matching = [True] - accuracy = 1.0\n",
      "matching = [True] - accuracy = 1.0\n",
      "matching = [True] - accuracy = 1.0\n",
      "matching = [True] - accuracy = 1.0\n",
      "matching = [True] - accuracy = 1.0\n",
      "matching = [True] - accuracy = 1.0\n",
      "matching = [True] - accuracy = 1.0\n",
      "matching = [True] - accuracy = 1.0\n",
      "matching = [True] - accuracy = 1.0\n"
     ]
    },
    {
     "name": "stderr",
     "output_type": "stream",
     "text": [
      "100%|██████████| 200/200 [00:00<00:00, 411.11it/s]\n"
     ]
    },
    {
     "name": "stdout",
     "output_type": "stream",
     "text": [
      "matching = [True] - accuracy = 1.0\n",
      "matching = [True] - accuracy = 1.0\n",
      "//////////////////// Epoch: 44 ////////////////////\n"
     ]
    },
    {
     "name": "stderr",
     "output_type": "stream",
     "text": [
      "  2%|▏         | 17/800 [00:00<00:04, 164.41it/s]"
     ]
    },
    {
     "name": "stdout",
     "output_type": "stream",
     "text": [
      "pred: 1 - target: 1 - loss: 0.000 - raw pred: tensor([[-4.1369,  4.1526]], device='cuda:0', grad_fn=<AddmmBackward0>)\n"
     ]
    },
    {
     "name": "stderr",
     "output_type": "stream",
     "text": [
      "100%|██████████| 800/800 [00:04<00:00, 162.41it/s]\n"
     ]
    },
    {
     "name": "stdout",
     "output_type": "stream",
     "text": [
      "//////////////////// Validation ////////////////////\n"
     ]
    },
    {
     "name": "stderr",
     "output_type": "stream",
     "text": [
      " 21%|██        | 42/200 [00:00<00:00, 418.79it/s]"
     ]
    },
    {
     "name": "stdout",
     "output_type": "stream",
     "text": [
      "pred: 1 - target: 1 - loss: 0.000 - raw pred: tensor([[-10.3562,  10.3795]], device='cuda:0')\n",
      "matching = [True] - accuracy = 1.0\n",
      "matching = [True] - accuracy = 1.0\n",
      "matching = [True] - accuracy = 1.0\n",
      "matching = [True] - accuracy = 1.0\n",
      "matching = [True] - accuracy = 1.0\n",
      "matching = [True] - accuracy = 1.0\n",
      "matching = [True] - accuracy = 1.0\n",
      "matching = [True] - accuracy = 1.0\n",
      "matching = [True] - accuracy = 1.0\n"
     ]
    },
    {
     "name": "stderr",
     "output_type": "stream",
     "text": [
      " 84%|████████▍ | 169/200 [00:00<00:00, 419.28it/s]"
     ]
    },
    {
     "name": "stdout",
     "output_type": "stream",
     "text": [
      "matching = [True] - accuracy = 1.0\n",
      "matching = [True] - accuracy = 1.0\n",
      "matching = [True] - accuracy = 1.0\n",
      "matching = [True] - accuracy = 1.0\n",
      "matching = [True] - accuracy = 1.0\n",
      "matching = [True] - accuracy = 1.0\n",
      "matching = [True] - accuracy = 1.0\n",
      "matching = [True] - accuracy = 1.0\n",
      "matching = [True] - accuracy = 1.0\n"
     ]
    },
    {
     "name": "stderr",
     "output_type": "stream",
     "text": [
      "100%|██████████| 200/200 [00:00<00:00, 417.97it/s]\n"
     ]
    },
    {
     "name": "stdout",
     "output_type": "stream",
     "text": [
      "matching = [True] - accuracy = 1.0\n",
      "matching = [True] - accuracy = 1.0\n",
      "//////////////////// Epoch: 45 ////////////////////\n"
     ]
    },
    {
     "name": "stderr",
     "output_type": "stream",
     "text": [
      "  2%|▏         | 17/800 [00:00<00:04, 163.66it/s]"
     ]
    },
    {
     "name": "stdout",
     "output_type": "stream",
     "text": [
      "pred: 0 - target: 0 - loss: 0.302 - raw pred: tensor([[ 0.6880, -0.3537]], device='cuda:0', grad_fn=<AddmmBackward0>)\n"
     ]
    },
    {
     "name": "stderr",
     "output_type": "stream",
     "text": [
      "100%|██████████| 800/800 [00:04<00:00, 169.09it/s]\n"
     ]
    },
    {
     "name": "stdout",
     "output_type": "stream",
     "text": [
      "//////////////////// Validation ////////////////////\n"
     ]
    },
    {
     "name": "stderr",
     "output_type": "stream",
     "text": [
      " 21%|██        | 42/200 [00:00<00:00, 412.97it/s]"
     ]
    },
    {
     "name": "stdout",
     "output_type": "stream",
     "text": [
      "pred: 1 - target: 1 - loss: 0.000 - raw pred: tensor([[-8.6814,  8.6995]], device='cuda:0')\n",
      "matching = [True] - accuracy = 1.0\n",
      "matching = [True] - accuracy = 1.0\n",
      "matching = [True] - accuracy = 1.0\n",
      "matching = [True] - accuracy = 1.0\n",
      "matching = [True] - accuracy = 1.0\n",
      "matching = [True] - accuracy = 1.0\n",
      "matching = [True] - accuracy = 1.0\n",
      "matching = [True] - accuracy = 1.0\n",
      "matching = [True] - accuracy = 1.0\n"
     ]
    },
    {
     "name": "stderr",
     "output_type": "stream",
     "text": [
      " 85%|████████▌ | 170/200 [00:00<00:00, 420.45it/s]"
     ]
    },
    {
     "name": "stdout",
     "output_type": "stream",
     "text": [
      "matching = [True] - accuracy = 1.0\n",
      "matching = [True] - accuracy = 1.0\n",
      "matching = [True] - accuracy = 1.0\n",
      "matching = [True] - accuracy = 1.0\n",
      "matching = [True] - accuracy = 1.0\n",
      "matching = [True] - accuracy = 1.0\n",
      "matching = [True] - accuracy = 1.0\n",
      "matching = [True] - accuracy = 1.0\n",
      "matching = [True] - accuracy = 1.0\n"
     ]
    },
    {
     "name": "stderr",
     "output_type": "stream",
     "text": [
      "100%|██████████| 200/200 [00:00<00:00, 417.75it/s]\n"
     ]
    },
    {
     "name": "stdout",
     "output_type": "stream",
     "text": [
      "matching = [True] - accuracy = 1.0\n",
      "matching = [True] - accuracy = 1.0\n",
      "//////////////////// Epoch: 46 ////////////////////\n"
     ]
    },
    {
     "name": "stderr",
     "output_type": "stream",
     "text": [
      "  2%|▏         | 17/800 [00:00<00:04, 166.34it/s]"
     ]
    },
    {
     "name": "stdout",
     "output_type": "stream",
     "text": [
      "pred: 0 - target: 0 - loss: 0.000 - raw pred: tensor([[ 5.5087, -5.1136]], device='cuda:0', grad_fn=<AddmmBackward0>)\n"
     ]
    },
    {
     "name": "stderr",
     "output_type": "stream",
     "text": [
      "100%|██████████| 800/800 [00:04<00:00, 165.58it/s]\n"
     ]
    },
    {
     "name": "stdout",
     "output_type": "stream",
     "text": [
      "//////////////////// Validation ////////////////////\n"
     ]
    },
    {
     "name": "stderr",
     "output_type": "stream",
     "text": [
      " 21%|██        | 42/200 [00:00<00:00, 418.63it/s]"
     ]
    },
    {
     "name": "stdout",
     "output_type": "stream",
     "text": [
      "pred: 0 - target: 0 - loss: 0.000 - raw pred: tensor([[ 7.7518, -7.2029]], device='cuda:0')\n",
      "matching = [True] - accuracy = 1.0\n",
      "matching = [True] - accuracy = 1.0\n",
      "matching = [True] - accuracy = 1.0\n",
      "matching = [True] - accuracy = 1.0\n",
      "matching = [True] - accuracy = 1.0\n",
      "matching = [True] - accuracy = 1.0\n",
      "matching = [True] - accuracy = 1.0\n",
      "matching = [True] - accuracy = 1.0\n",
      "matching = [True] - accuracy = 1.0\n"
     ]
    },
    {
     "name": "stderr",
     "output_type": "stream",
     "text": [
      " 86%|████████▌ | 171/200 [00:00<00:00, 421.67it/s]"
     ]
    },
    {
     "name": "stdout",
     "output_type": "stream",
     "text": [
      "matching = [True] - accuracy = 1.0\n",
      "matching = [True] - accuracy = 1.0\n",
      "matching = [True] - accuracy = 1.0\n",
      "matching = [True] - accuracy = 1.0\n",
      "matching = [True] - accuracy = 1.0\n",
      "matching = [True] - accuracy = 1.0\n",
      "matching = [True] - accuracy = 1.0\n",
      "matching = [True] - accuracy = 1.0\n",
      "matching = [True] - accuracy = 1.0\n"
     ]
    },
    {
     "name": "stderr",
     "output_type": "stream",
     "text": [
      "100%|██████████| 200/200 [00:00<00:00, 420.50it/s]\n"
     ]
    },
    {
     "name": "stdout",
     "output_type": "stream",
     "text": [
      "matching = [True] - accuracy = 1.0\n",
      "matching = [True] - accuracy = 1.0\n",
      "//////////////////// Epoch: 47 ////////////////////\n"
     ]
    },
    {
     "name": "stderr",
     "output_type": "stream",
     "text": [
      "  2%|▏         | 16/800 [00:00<00:04, 157.79it/s]"
     ]
    },
    {
     "name": "stdout",
     "output_type": "stream",
     "text": [
      "pred: 0 - target: 0 - loss: 0.000 - raw pred: tensor([[ 4.0890, -3.7814]], device='cuda:0', grad_fn=<AddmmBackward0>)\n"
     ]
    },
    {
     "name": "stderr",
     "output_type": "stream",
     "text": [
      "100%|██████████| 800/800 [00:04<00:00, 166.27it/s]\n"
     ]
    },
    {
     "name": "stdout",
     "output_type": "stream",
     "text": [
      "//////////////////// Validation ////////////////////\n"
     ]
    },
    {
     "name": "stderr",
     "output_type": "stream",
     "text": [
      " 18%|█▊        | 37/200 [00:00<00:00, 362.34it/s]"
     ]
    },
    {
     "name": "stdout",
     "output_type": "stream",
     "text": [
      "pred: 0 - target: 0 - loss: 0.000 - raw pred: tensor([[ 5.2031, -4.8477]], device='cuda:0')\n",
      "matching = [True] - accuracy = 1.0\n",
      "matching = [True] - accuracy = 1.0\n",
      "matching = [True] - accuracy = 1.0\n",
      "matching = [True] - accuracy = 1.0\n",
      "matching = [True] - accuracy = 1.0\n",
      "matching = [True] - accuracy = 1.0\n",
      "matching = [True] - accuracy = 1.0\n",
      "matching = [True] - accuracy = 1.0\n"
     ]
    },
    {
     "name": "stderr",
     "output_type": "stream",
     "text": [
      " 82%|████████▏ | 163/200 [00:00<00:00, 407.33it/s]"
     ]
    },
    {
     "name": "stdout",
     "output_type": "stream",
     "text": [
      "matching = [True] - accuracy = 1.0\n",
      "matching = [True] - accuracy = 1.0\n",
      "matching = [True] - accuracy = 1.0\n",
      "matching = [True] - accuracy = 1.0\n",
      "matching = [True] - accuracy = 1.0\n",
      "matching = [True] - accuracy = 1.0\n",
      "matching = [True] - accuracy = 1.0\n",
      "matching = [True] - accuracy = 1.0\n",
      "matching = [True] - accuracy = 1.0\n"
     ]
    },
    {
     "name": "stderr",
     "output_type": "stream",
     "text": [
      "100%|██████████| 200/200 [00:00<00:00, 401.91it/s]\n"
     ]
    },
    {
     "name": "stdout",
     "output_type": "stream",
     "text": [
      "matching = [True] - accuracy = 1.0\n",
      "matching = [True] - accuracy = 1.0\n",
      "matching = [True] - accuracy = 1.0\n",
      "//////////////////// Epoch: 48 ////////////////////\n"
     ]
    },
    {
     "name": "stderr",
     "output_type": "stream",
     "text": [
      "  2%|▏         | 16/800 [00:00<00:04, 159.82it/s]"
     ]
    },
    {
     "name": "stdout",
     "output_type": "stream",
     "text": [
      "pred: 0 - target: 0 - loss: 0.000 - raw pred: tensor([[ 7.3904, -6.8776]], device='cuda:0', grad_fn=<AddmmBackward0>)\n"
     ]
    },
    {
     "name": "stderr",
     "output_type": "stream",
     "text": [
      "100%|██████████| 800/800 [00:04<00:00, 168.53it/s]\n"
     ]
    },
    {
     "name": "stdout",
     "output_type": "stream",
     "text": [
      "//////////////////// Validation ////////////////////\n"
     ]
    },
    {
     "name": "stderr",
     "output_type": "stream",
     "text": [
      " 20%|██        | 41/200 [00:00<00:00, 407.80it/s]"
     ]
    },
    {
     "name": "stdout",
     "output_type": "stream",
     "text": [
      "pred: 1 - target: 1 - loss: 0.000 - raw pred: tensor([[-7.3654,  7.3943]], device='cuda:0')\n",
      "matching = [True] - accuracy = 1.0\n",
      "matching = [True] - accuracy = 1.0\n",
      "matching = [False] - accuracy = 0.0\n",
      "matching = [True] - accuracy = 1.0\n",
      "matching = [True] - accuracy = 1.0\n",
      "matching = [True] - accuracy = 1.0\n",
      "matching = [True] - accuracy = 1.0\n",
      "matching = [True] - accuracy = 1.0\n",
      "matching = [True] - accuracy = 1.0\n"
     ]
    },
    {
     "name": "stderr",
     "output_type": "stream",
     "text": [
      " 84%|████████▍ | 168/200 [00:00<00:00, 417.28it/s]"
     ]
    },
    {
     "name": "stdout",
     "output_type": "stream",
     "text": [
      "matching = [True] - accuracy = 1.0\n",
      "matching = [True] - accuracy = 1.0\n",
      "matching = [True] - accuracy = 1.0\n",
      "matching = [True] - accuracy = 1.0\n",
      "matching = [True] - accuracy = 1.0\n",
      "matching = [True] - accuracy = 1.0\n",
      "matching = [True] - accuracy = 1.0\n",
      "matching = [True] - accuracy = 1.0\n",
      "matching = [True] - accuracy = 1.0\n"
     ]
    },
    {
     "name": "stderr",
     "output_type": "stream",
     "text": [
      "100%|██████████| 200/200 [00:00<00:00, 415.34it/s]\n"
     ]
    },
    {
     "name": "stdout",
     "output_type": "stream",
     "text": [
      "matching = [True] - accuracy = 1.0\n",
      "matching = [True] - accuracy = 1.0\n",
      "//////////////////// Epoch: 49 ////////////////////\n"
     ]
    },
    {
     "name": "stderr",
     "output_type": "stream",
     "text": [
      "  2%|▏         | 17/800 [00:00<00:04, 164.66it/s]"
     ]
    },
    {
     "name": "stdout",
     "output_type": "stream",
     "text": [
      "pred: 1 - target: 1 - loss: 0.000 - raw pred: tensor([[-5.9569,  5.9763]], device='cuda:0', grad_fn=<AddmmBackward0>)\n"
     ]
    },
    {
     "name": "stderr",
     "output_type": "stream",
     "text": [
      "100%|██████████| 800/800 [00:04<00:00, 164.07it/s]\n"
     ]
    },
    {
     "name": "stdout",
     "output_type": "stream",
     "text": [
      "//////////////////// Validation ////////////////////\n"
     ]
    },
    {
     "name": "stderr",
     "output_type": "stream",
     "text": [
      " 21%|██        | 42/200 [00:00<00:00, 415.23it/s]"
     ]
    },
    {
     "name": "stdout",
     "output_type": "stream",
     "text": [
      "pred: 1 - target: 1 - loss: 0.000 - raw pred: tensor([[-4.8590,  4.8816]], device='cuda:0')\n",
      "matching = [True] - accuracy = 1.0\n",
      "matching = [True] - accuracy = 1.0\n",
      "matching = [True] - accuracy = 1.0\n",
      "matching = [True] - accuracy = 1.0\n",
      "matching = [True] - accuracy = 1.0\n",
      "matching = [True] - accuracy = 1.0\n",
      "matching = [True] - accuracy = 1.0\n",
      "matching = [False] - accuracy = 0.0\n",
      "matching = [True] - accuracy = 1.0\n"
     ]
    },
    {
     "name": "stderr",
     "output_type": "stream",
     "text": [
      " 84%|████████▍ | 169/200 [00:00<00:00, 419.29it/s]"
     ]
    },
    {
     "name": "stdout",
     "output_type": "stream",
     "text": [
      "matching = [True] - accuracy = 1.0\n",
      "matching = [True] - accuracy = 1.0\n",
      "matching = [True] - accuracy = 1.0\n",
      "matching = [True] - accuracy = 1.0\n",
      "matching = [True] - accuracy = 1.0\n",
      "matching = [True] - accuracy = 1.0\n",
      "matching = [True] - accuracy = 1.0\n",
      "matching = [True] - accuracy = 1.0\n",
      "matching = [True] - accuracy = 1.0\n"
     ]
    },
    {
     "name": "stderr",
     "output_type": "stream",
     "text": [
      "100%|██████████| 200/200 [00:00<00:00, 417.12it/s]\n"
     ]
    },
    {
     "name": "stdout",
     "output_type": "stream",
     "text": [
      "matching = [True] - accuracy = 1.0\n",
      "matching = [True] - accuracy = 1.0\n",
      "//////////////////// Epoch: 50 ////////////////////\n"
     ]
    },
    {
     "name": "stderr",
     "output_type": "stream",
     "text": [
      "  2%|▏         | 17/800 [00:00<00:04, 164.41it/s]"
     ]
    },
    {
     "name": "stdout",
     "output_type": "stream",
     "text": [
      "pred: 0 - target: 0 - loss: 0.001 - raw pred: tensor([[ 3.8588, -3.5936]], device='cuda:0', grad_fn=<AddmmBackward0>)\n"
     ]
    },
    {
     "name": "stderr",
     "output_type": "stream",
     "text": [
      "100%|██████████| 800/800 [00:04<00:00, 163.00it/s]\n"
     ]
    },
    {
     "name": "stdout",
     "output_type": "stream",
     "text": [
      "//////////////////// Validation ////////////////////\n"
     ]
    },
    {
     "name": "stderr",
     "output_type": "stream",
     "text": [
      " 20%|██        | 41/200 [00:00<00:00, 403.89it/s]"
     ]
    },
    {
     "name": "stdout",
     "output_type": "stream",
     "text": [
      "pred: 0 - target: 0 - loss: 0.000 - raw pred: tensor([[ 4.8611, -4.5349]], device='cuda:0')\n",
      "matching = [True] - accuracy = 1.0\n",
      "matching = [True] - accuracy = 1.0\n",
      "matching = [True] - accuracy = 1.0\n",
      "matching = [True] - accuracy = 1.0\n",
      "matching = [True] - accuracy = 1.0\n",
      "matching = [True] - accuracy = 1.0\n",
      "matching = [True] - accuracy = 1.0\n",
      "matching = [True] - accuracy = 1.0\n",
      "matching = [True] - accuracy = 1.0\n"
     ]
    },
    {
     "name": "stderr",
     "output_type": "stream",
     "text": [
      " 84%|████████▍ | 168/200 [00:00<00:00, 419.47it/s]"
     ]
    },
    {
     "name": "stdout",
     "output_type": "stream",
     "text": [
      "matching = [True] - accuracy = 1.0\n",
      "matching = [True] - accuracy = 1.0\n",
      "matching = [True] - accuracy = 1.0\n",
      "matching = [True] - accuracy = 1.0\n",
      "matching = [True] - accuracy = 1.0\n",
      "matching = [True] - accuracy = 1.0\n",
      "matching = [True] - accuracy = 1.0\n",
      "matching = [True] - accuracy = 1.0\n",
      "matching = [True] - accuracy = 1.0\n"
     ]
    },
    {
     "name": "stderr",
     "output_type": "stream",
     "text": [
      "100%|██████████| 200/200 [00:00<00:00, 416.98it/s]\n"
     ]
    },
    {
     "name": "stdout",
     "output_type": "stream",
     "text": [
      "matching = [True] - accuracy = 1.0\n",
      "matching = [True] - accuracy = 1.0\n",
      "//////////////////// Epoch: 51 ////////////////////\n"
     ]
    },
    {
     "name": "stderr",
     "output_type": "stream",
     "text": [
      "  2%|▏         | 17/800 [00:00<00:04, 164.97it/s]"
     ]
    },
    {
     "name": "stdout",
     "output_type": "stream",
     "text": [
      "pred: 1 - target: 1 - loss: 0.000 - raw pred: tensor([[-4.5518,  4.5642]], device='cuda:0', grad_fn=<AddmmBackward0>)\n"
     ]
    },
    {
     "name": "stderr",
     "output_type": "stream",
     "text": [
      "100%|██████████| 800/800 [00:04<00:00, 162.58it/s]\n"
     ]
    },
    {
     "name": "stdout",
     "output_type": "stream",
     "text": [
      "//////////////////// Validation ////////////////////\n"
     ]
    },
    {
     "name": "stderr",
     "output_type": "stream",
     "text": [
      " 21%|██        | 42/200 [00:00<00:00, 416.93it/s]"
     ]
    },
    {
     "name": "stdout",
     "output_type": "stream",
     "text": [
      "pred: 1 - target: 1 - loss: 0.005 - raw pred: tensor([[-2.6371,  2.6324]], device='cuda:0')\n",
      "matching = [True] - accuracy = 1.0\n",
      "matching = [True] - accuracy = 1.0\n",
      "matching = [True] - accuracy = 1.0\n",
      "matching = [True] - accuracy = 1.0\n",
      "matching = [True] - accuracy = 1.0\n",
      "matching = [True] - accuracy = 1.0\n",
      "matching = [True] - accuracy = 1.0\n",
      "matching = [True] - accuracy = 1.0\n",
      "matching = [True] - accuracy = 1.0\n"
     ]
    },
    {
     "name": "stderr",
     "output_type": "stream",
     "text": [
      " 85%|████████▌ | 170/200 [00:00<00:00, 420.22it/s]"
     ]
    },
    {
     "name": "stdout",
     "output_type": "stream",
     "text": [
      "matching = [True] - accuracy = 1.0\n",
      "matching = [True] - accuracy = 1.0\n",
      "matching = [True] - accuracy = 1.0\n",
      "matching = [True] - accuracy = 1.0\n",
      "matching = [True] - accuracy = 1.0\n",
      "matching = [True] - accuracy = 1.0\n",
      "matching = [True] - accuracy = 1.0\n",
      "matching = [True] - accuracy = 1.0\n",
      "matching = [True] - accuracy = 1.0\n"
     ]
    },
    {
     "name": "stderr",
     "output_type": "stream",
     "text": [
      "100%|██████████| 200/200 [00:00<00:00, 418.76it/s]\n"
     ]
    },
    {
     "name": "stdout",
     "output_type": "stream",
     "text": [
      "matching = [True] - accuracy = 1.0\n",
      "matching = [True] - accuracy = 1.0\n",
      "//////////////////// Epoch: 52 ////////////////////\n"
     ]
    },
    {
     "name": "stderr",
     "output_type": "stream",
     "text": [
      "  2%|▏         | 17/800 [00:00<00:04, 166.06it/s]"
     ]
    },
    {
     "name": "stdout",
     "output_type": "stream",
     "text": [
      "pred: 1 - target: 1 - loss: 0.001 - raw pred: tensor([[-3.7198,  3.7208]], device='cuda:0', grad_fn=<AddmmBackward0>)\n"
     ]
    },
    {
     "name": "stderr",
     "output_type": "stream",
     "text": [
      "100%|██████████| 800/800 [00:04<00:00, 168.79it/s]\n"
     ]
    },
    {
     "name": "stdout",
     "output_type": "stream",
     "text": [
      "//////////////////// Validation ////////////////////\n"
     ]
    },
    {
     "name": "stderr",
     "output_type": "stream",
     "text": [
      " 22%|██▏       | 43/200 [00:00<00:00, 421.31it/s]"
     ]
    },
    {
     "name": "stdout",
     "output_type": "stream",
     "text": [
      "pred: 1 - target: 1 - loss: 0.000 - raw pred: tensor([[-7.5804,  7.6200]], device='cuda:0')\n",
      "matching = [True] - accuracy = 1.0\n",
      "matching = [True] - accuracy = 1.0\n",
      "matching = [True] - accuracy = 1.0\n",
      "matching = [True] - accuracy = 1.0\n",
      "matching = [True] - accuracy = 1.0\n",
      "matching = [True] - accuracy = 1.0\n",
      "matching = [True] - accuracy = 1.0\n",
      "matching = [True] - accuracy = 1.0\n",
      "matching = [True] - accuracy = 1.0\n"
     ]
    },
    {
     "name": "stderr",
     "output_type": "stream",
     "text": [
      " 86%|████████▌ | 172/200 [00:00<00:00, 423.96it/s]"
     ]
    },
    {
     "name": "stdout",
     "output_type": "stream",
     "text": [
      "matching = [True] - accuracy = 1.0\n",
      "matching = [True] - accuracy = 1.0\n",
      "matching = [True] - accuracy = 1.0\n",
      "matching = [True] - accuracy = 1.0\n",
      "matching = [True] - accuracy = 1.0\n",
      "matching = [True] - accuracy = 1.0\n",
      "matching = [True] - accuracy = 1.0\n",
      "matching = [False] - accuracy = 0.0\n",
      "matching = [True] - accuracy = 1.0\n"
     ]
    },
    {
     "name": "stderr",
     "output_type": "stream",
     "text": [
      "100%|██████████| 200/200 [00:00<00:00, 422.09it/s]\n"
     ]
    },
    {
     "name": "stdout",
     "output_type": "stream",
     "text": [
      "matching = [True] - accuracy = 1.0\n",
      "matching = [True] - accuracy = 1.0\n",
      "//////////////////// Epoch: 53 ////////////////////\n"
     ]
    },
    {
     "name": "stderr",
     "output_type": "stream",
     "text": [
      "  2%|▏         | 18/800 [00:00<00:04, 168.87it/s]"
     ]
    },
    {
     "name": "stdout",
     "output_type": "stream",
     "text": [
      "pred: 0 - target: 0 - loss: 0.000 - raw pred: tensor([[ 6.8794, -6.4110]], device='cuda:0', grad_fn=<AddmmBackward0>)\n"
     ]
    },
    {
     "name": "stderr",
     "output_type": "stream",
     "text": [
      "100%|██████████| 800/800 [00:04<00:00, 164.98it/s]\n"
     ]
    },
    {
     "name": "stdout",
     "output_type": "stream",
     "text": [
      "//////////////////// Validation ////////////////////\n"
     ]
    },
    {
     "name": "stderr",
     "output_type": "stream",
     "text": [
      " 21%|██        | 42/200 [00:00<00:00, 415.26it/s]"
     ]
    },
    {
     "name": "stdout",
     "output_type": "stream",
     "text": [
      "pred: 1 - target: 1 - loss: 0.000 - raw pred: tensor([[-4.5011,  4.5190]], device='cuda:0')\n",
      "matching = [True] - accuracy = 1.0\n",
      "matching = [True] - accuracy = 1.0\n",
      "matching = [True] - accuracy = 1.0\n",
      "matching = [True] - accuracy = 1.0\n",
      "matching = [True] - accuracy = 1.0\n",
      "matching = [True] - accuracy = 1.0\n",
      "matching = [True] - accuracy = 1.0\n",
      "matching = [True] - accuracy = 1.0\n",
      "matching = [True] - accuracy = 1.0\n"
     ]
    },
    {
     "name": "stderr",
     "output_type": "stream",
     "text": [
      " 86%|████████▌ | 171/200 [00:00<00:00, 420.22it/s]"
     ]
    },
    {
     "name": "stdout",
     "output_type": "stream",
     "text": [
      "matching = [True] - accuracy = 1.0\n",
      "matching = [True] - accuracy = 1.0\n",
      "matching = [True] - accuracy = 1.0\n",
      "matching = [True] - accuracy = 1.0\n",
      "matching = [True] - accuracy = 1.0\n",
      "matching = [True] - accuracy = 1.0\n",
      "matching = [True] - accuracy = 1.0\n",
      "matching = [True] - accuracy = 1.0\n",
      "matching = [True] - accuracy = 1.0\n"
     ]
    },
    {
     "name": "stderr",
     "output_type": "stream",
     "text": [
      "100%|██████████| 200/200 [00:00<00:00, 415.92it/s]\n"
     ]
    },
    {
     "name": "stdout",
     "output_type": "stream",
     "text": [
      "matching = [True] - accuracy = 1.0\n",
      "matching = [True] - accuracy = 1.0\n",
      "//////////////////// Epoch: 54 ////////////////////\n"
     ]
    },
    {
     "name": "stderr",
     "output_type": "stream",
     "text": [
      "  2%|▏         | 17/800 [00:00<00:04, 166.19it/s]"
     ]
    },
    {
     "name": "stdout",
     "output_type": "stream",
     "text": [
      "pred: 1 - target: 1 - loss: 0.000 - raw pred: tensor([[-4.2288,  4.2440]], device='cuda:0', grad_fn=<AddmmBackward0>)\n"
     ]
    },
    {
     "name": "stderr",
     "output_type": "stream",
     "text": [
      "100%|██████████| 800/800 [00:04<00:00, 167.32it/s]\n"
     ]
    },
    {
     "name": "stdout",
     "output_type": "stream",
     "text": [
      "//////////////////// Validation ////////////////////\n"
     ]
    },
    {
     "name": "stderr",
     "output_type": "stream",
     "text": [
      " 21%|██        | 42/200 [00:00<00:00, 418.65it/s]"
     ]
    },
    {
     "name": "stdout",
     "output_type": "stream",
     "text": [
      "pred: 1 - target: 1 - loss: 0.000 - raw pred: tensor([[-7.4165,  7.4516]], device='cuda:0')\n",
      "matching = [True] - accuracy = 1.0\n",
      "matching = [True] - accuracy = 1.0\n",
      "matching = [True] - accuracy = 1.0\n",
      "matching = [True] - accuracy = 1.0\n",
      "matching = [True] - accuracy = 1.0\n",
      "matching = [True] - accuracy = 1.0\n",
      "matching = [True] - accuracy = 1.0\n",
      "matching = [True] - accuracy = 1.0\n",
      "matching = [True] - accuracy = 1.0\n"
     ]
    },
    {
     "name": "stderr",
     "output_type": "stream",
     "text": [
      " 85%|████████▌ | 170/200 [00:00<00:00, 421.44it/s]"
     ]
    },
    {
     "name": "stdout",
     "output_type": "stream",
     "text": [
      "matching = [True] - accuracy = 1.0\n",
      "matching = [True] - accuracy = 1.0\n",
      "matching = [True] - accuracy = 1.0\n",
      "matching = [True] - accuracy = 1.0\n",
      "matching = [True] - accuracy = 1.0\n",
      "matching = [True] - accuracy = 1.0\n",
      "matching = [True] - accuracy = 1.0\n",
      "matching = [True] - accuracy = 1.0\n",
      "matching = [True] - accuracy = 1.0\n"
     ]
    },
    {
     "name": "stderr",
     "output_type": "stream",
     "text": [
      "100%|██████████| 200/200 [00:00<00:00, 420.24it/s]\n"
     ]
    },
    {
     "name": "stdout",
     "output_type": "stream",
     "text": [
      "matching = [True] - accuracy = 1.0\n",
      "matching = [True] - accuracy = 1.0\n",
      "//////////////////// Epoch: 55 ////////////////////\n"
     ]
    },
    {
     "name": "stderr",
     "output_type": "stream",
     "text": [
      "  2%|▏         | 18/800 [00:00<00:04, 172.56it/s]"
     ]
    },
    {
     "name": "stdout",
     "output_type": "stream",
     "text": [
      "pred: 0 - target: 0 - loss: 0.000 - raw pred: tensor([[ 11.4655, -10.7064]], device='cuda:0', grad_fn=<AddmmBackward0>)\n"
     ]
    },
    {
     "name": "stderr",
     "output_type": "stream",
     "text": [
      "100%|██████████| 800/800 [00:04<00:00, 167.89it/s]\n"
     ]
    },
    {
     "name": "stdout",
     "output_type": "stream",
     "text": [
      "//////////////////// Validation ////////////////////\n"
     ]
    },
    {
     "name": "stderr",
     "output_type": "stream",
     "text": [
      " 22%|██▏       | 43/200 [00:00<00:00, 421.45it/s]"
     ]
    },
    {
     "name": "stdout",
     "output_type": "stream",
     "text": [
      "pred: 0 - target: 0 - loss: 0.000 - raw pred: tensor([[ 4.5668, -4.2761]], device='cuda:0')\n",
      "matching = [True] - accuracy = 1.0\n",
      "matching = [True] - accuracy = 1.0\n",
      "matching = [True] - accuracy = 1.0\n",
      "matching = [True] - accuracy = 1.0\n",
      "matching = [True] - accuracy = 1.0\n",
      "matching = [True] - accuracy = 1.0\n",
      "matching = [True] - accuracy = 1.0\n",
      "matching = [True] - accuracy = 1.0\n",
      "matching = [True] - accuracy = 1.0\n"
     ]
    },
    {
     "name": "stderr",
     "output_type": "stream",
     "text": [
      " 86%|████████▌ | 172/200 [00:00<00:00, 425.01it/s]"
     ]
    },
    {
     "name": "stdout",
     "output_type": "stream",
     "text": [
      "matching = [True] - accuracy = 1.0\n",
      "matching = [True] - accuracy = 1.0\n",
      "matching = [True] - accuracy = 1.0\n",
      "matching = [True] - accuracy = 1.0\n",
      "matching = [True] - accuracy = 1.0\n",
      "matching = [True] - accuracy = 1.0\n",
      "matching = [True] - accuracy = 1.0\n",
      "matching = [True] - accuracy = 1.0\n",
      "matching = [True] - accuracy = 1.0\n"
     ]
    },
    {
     "name": "stderr",
     "output_type": "stream",
     "text": [
      "100%|██████████| 200/200 [00:00<00:00, 424.12it/s]\n"
     ]
    },
    {
     "name": "stdout",
     "output_type": "stream",
     "text": [
      "matching = [True] - accuracy = 1.0\n",
      "matching = [True] - accuracy = 1.0\n",
      "//////////////////// Epoch: 56 ////////////////////\n"
     ]
    },
    {
     "name": "stderr",
     "output_type": "stream",
     "text": [
      "  2%|▏         | 17/800 [00:00<00:04, 168.37it/s]"
     ]
    },
    {
     "name": "stdout",
     "output_type": "stream",
     "text": [
      "pred: 1 - target: 1 - loss: 0.000 - raw pred: tensor([[-5.1884,  5.1982]], device='cuda:0', grad_fn=<AddmmBackward0>)\n"
     ]
    },
    {
     "name": "stderr",
     "output_type": "stream",
     "text": [
      "100%|██████████| 800/800 [00:04<00:00, 170.85it/s]\n"
     ]
    },
    {
     "name": "stdout",
     "output_type": "stream",
     "text": [
      "//////////////////// Validation ////////////////////\n"
     ]
    },
    {
     "name": "stderr",
     "output_type": "stream",
     "text": [
      " 22%|██▏       | 43/200 [00:00<00:00, 423.87it/s]"
     ]
    },
    {
     "name": "stdout",
     "output_type": "stream",
     "text": [
      "pred: 0 - target: 0 - loss: 0.000 - raw pred: tensor([[ 7.1489, -6.6802]], device='cuda:0')\n",
      "matching = [True] - accuracy = 1.0\n",
      "matching = [True] - accuracy = 1.0\n",
      "matching = [True] - accuracy = 1.0\n",
      "matching = [True] - accuracy = 1.0\n",
      "matching = [True] - accuracy = 1.0\n",
      "matching = [True] - accuracy = 1.0\n",
      "matching = [True] - accuracy = 1.0\n",
      "matching = [True] - accuracy = 1.0\n",
      "matching = [True] - accuracy = 1.0\n"
     ]
    },
    {
     "name": "stderr",
     "output_type": "stream",
     "text": [
      " 86%|████████▌ | 172/200 [00:00<00:00, 422.94it/s]"
     ]
    },
    {
     "name": "stdout",
     "output_type": "stream",
     "text": [
      "matching = [True] - accuracy = 1.0\n",
      "matching = [True] - accuracy = 1.0\n",
      "matching = [True] - accuracy = 1.0\n",
      "matching = [True] - accuracy = 1.0\n",
      "matching = [True] - accuracy = 1.0\n",
      "matching = [True] - accuracy = 1.0\n",
      "matching = [True] - accuracy = 1.0\n",
      "matching = [True] - accuracy = 1.0\n",
      "matching = [True] - accuracy = 1.0\n"
     ]
    },
    {
     "name": "stderr",
     "output_type": "stream",
     "text": [
      "100%|██████████| 200/200 [00:00<00:00, 422.85it/s]\n"
     ]
    },
    {
     "name": "stdout",
     "output_type": "stream",
     "text": [
      "matching = [True] - accuracy = 1.0\n",
      "matching = [True] - accuracy = 1.0\n",
      "//////////////////// Epoch: 57 ////////////////////\n"
     ]
    },
    {
     "name": "stderr",
     "output_type": "stream",
     "text": [
      "  2%|▏         | 18/800 [00:00<00:04, 174.30it/s]"
     ]
    },
    {
     "name": "stdout",
     "output_type": "stream",
     "text": [
      "pred: 0 - target: 0 - loss: 0.000 - raw pred: tensor([[ 8.9618, -8.3692]], device='cuda:0', grad_fn=<AddmmBackward0>)\n"
     ]
    },
    {
     "name": "stderr",
     "output_type": "stream",
     "text": [
      "100%|██████████| 800/800 [00:04<00:00, 169.62it/s]\n"
     ]
    },
    {
     "name": "stdout",
     "output_type": "stream",
     "text": [
      "//////////////////// Validation ////////////////////\n"
     ]
    },
    {
     "name": "stderr",
     "output_type": "stream",
     "text": [
      " 22%|██▏       | 43/200 [00:00<00:00, 423.66it/s]"
     ]
    },
    {
     "name": "stdout",
     "output_type": "stream",
     "text": [
      "pred: 0 - target: 0 - loss: 0.000 - raw pred: tensor([[ 6.9549, -6.5149]], device='cuda:0')\n",
      "matching = [True] - accuracy = 1.0\n",
      "matching = [True] - accuracy = 1.0\n",
      "matching = [True] - accuracy = 1.0\n",
      "matching = [True] - accuracy = 1.0\n",
      "matching = [True] - accuracy = 1.0\n",
      "matching = [False] - accuracy = 0.0\n",
      "matching = [True] - accuracy = 1.0\n",
      "matching = [True] - accuracy = 1.0\n",
      "matching = [True] - accuracy = 1.0\n"
     ]
    },
    {
     "name": "stderr",
     "output_type": "stream",
     "text": [
      " 86%|████████▌ | 172/200 [00:00<00:00, 420.19it/s]"
     ]
    },
    {
     "name": "stdout",
     "output_type": "stream",
     "text": [
      "matching = [True] - accuracy = 1.0\n",
      "matching = [True] - accuracy = 1.0\n",
      "matching = [True] - accuracy = 1.0\n",
      "matching = [True] - accuracy = 1.0\n",
      "matching = [True] - accuracy = 1.0\n",
      "matching = [True] - accuracy = 1.0\n",
      "matching = [True] - accuracy = 1.0\n",
      "matching = [True] - accuracy = 1.0\n",
      "matching = [True] - accuracy = 1.0\n"
     ]
    },
    {
     "name": "stderr",
     "output_type": "stream",
     "text": [
      "100%|██████████| 200/200 [00:00<00:00, 419.32it/s]\n"
     ]
    },
    {
     "name": "stdout",
     "output_type": "stream",
     "text": [
      "matching = [True] - accuracy = 1.0\n",
      "matching = [True] - accuracy = 1.0\n",
      "//////////////////// Epoch: 58 ////////////////////\n"
     ]
    },
    {
     "name": "stderr",
     "output_type": "stream",
     "text": [
      "  2%|▏         | 17/800 [00:00<00:04, 161.92it/s]"
     ]
    },
    {
     "name": "stdout",
     "output_type": "stream",
     "text": [
      "pred: 1 - target: 1 - loss: 0.000 - raw pred: tensor([[-5.7179,  5.7316]], device='cuda:0', grad_fn=<AddmmBackward0>)\n"
     ]
    },
    {
     "name": "stderr",
     "output_type": "stream",
     "text": [
      "100%|██████████| 800/800 [00:04<00:00, 165.98it/s]\n"
     ]
    },
    {
     "name": "stdout",
     "output_type": "stream",
     "text": [
      "//////////////////// Validation ////////////////////\n"
     ]
    },
    {
     "name": "stderr",
     "output_type": "stream",
     "text": [
      " 21%|██        | 42/200 [00:00<00:00, 418.90it/s]"
     ]
    },
    {
     "name": "stdout",
     "output_type": "stream",
     "text": [
      "pred: 1 - target: 1 - loss: 0.000 - raw pred: tensor([[-4.5228,  4.5211]], device='cuda:0')\n",
      "matching = [True] - accuracy = 1.0\n",
      "matching = [True] - accuracy = 1.0\n",
      "matching = [True] - accuracy = 1.0\n",
      "matching = [True] - accuracy = 1.0\n",
      "matching = [True] - accuracy = 1.0\n",
      "matching = [True] - accuracy = 1.0\n",
      "matching = [True] - accuracy = 1.0\n",
      "matching = [True] - accuracy = 1.0\n",
      "matching = [True] - accuracy = 1.0\n"
     ]
    },
    {
     "name": "stderr",
     "output_type": "stream",
     "text": [
      " 85%|████████▌ | 170/200 [00:00<00:00, 417.99it/s]"
     ]
    },
    {
     "name": "stdout",
     "output_type": "stream",
     "text": [
      "matching = [True] - accuracy = 1.0\n",
      "matching = [True] - accuracy = 1.0\n",
      "matching = [True] - accuracy = 1.0\n",
      "matching = [True] - accuracy = 1.0\n",
      "matching = [True] - accuracy = 1.0\n",
      "matching = [True] - accuracy = 1.0\n",
      "matching = [True] - accuracy = 1.0\n",
      "matching = [True] - accuracy = 1.0\n",
      "matching = [True] - accuracy = 1.0\n"
     ]
    },
    {
     "name": "stderr",
     "output_type": "stream",
     "text": [
      "100%|██████████| 200/200 [00:00<00:00, 417.36it/s]\n"
     ]
    },
    {
     "name": "stdout",
     "output_type": "stream",
     "text": [
      "matching = [True] - accuracy = 1.0\n",
      "matching = [True] - accuracy = 1.0\n",
      "//////////////////// Epoch: 59 ////////////////////\n"
     ]
    },
    {
     "name": "stderr",
     "output_type": "stream",
     "text": [
      "  2%|▏         | 16/800 [00:00<00:04, 159.87it/s]"
     ]
    },
    {
     "name": "stdout",
     "output_type": "stream",
     "text": [
      "pred: 0 - target: 0 - loss: 0.001 - raw pred: tensor([[ 3.7263, -3.5024]], device='cuda:0', grad_fn=<AddmmBackward0>)\n"
     ]
    },
    {
     "name": "stderr",
     "output_type": "stream",
     "text": [
      "100%|██████████| 800/800 [00:04<00:00, 163.59it/s]\n"
     ]
    },
    {
     "name": "stdout",
     "output_type": "stream",
     "text": [
      "//////////////////// Validation ////////////////////\n"
     ]
    },
    {
     "name": "stderr",
     "output_type": "stream",
     "text": [
      " 20%|██        | 41/200 [00:00<00:00, 402.61it/s]"
     ]
    },
    {
     "name": "stdout",
     "output_type": "stream",
     "text": [
      "pred: 0 - target: 0 - loss: 0.000 - raw pred: tensor([[ 4.8780, -4.5858]], device='cuda:0')\n",
      "matching = [True] - accuracy = 1.0\n",
      "matching = [True] - accuracy = 1.0\n",
      "matching = [True] - accuracy = 1.0\n",
      "matching = [True] - accuracy = 1.0\n",
      "matching = [True] - accuracy = 1.0\n",
      "matching = [True] - accuracy = 1.0\n",
      "matching = [True] - accuracy = 1.0\n",
      "matching = [True] - accuracy = 1.0\n",
      "matching = [True] - accuracy = 1.0\n"
     ]
    },
    {
     "name": "stderr",
     "output_type": "stream",
     "text": [
      " 85%|████████▌ | 170/200 [00:00<00:00, 420.68it/s]"
     ]
    },
    {
     "name": "stdout",
     "output_type": "stream",
     "text": [
      "matching = [True] - accuracy = 1.0\n",
      "matching = [True] - accuracy = 1.0\n",
      "matching = [True] - accuracy = 1.0\n",
      "matching = [True] - accuracy = 1.0\n",
      "matching = [True] - accuracy = 1.0\n",
      "matching = [True] - accuracy = 1.0\n",
      "matching = [True] - accuracy = 1.0\n",
      "matching = [True] - accuracy = 1.0\n",
      "matching = [True] - accuracy = 1.0\n"
     ]
    },
    {
     "name": "stderr",
     "output_type": "stream",
     "text": [
      "100%|██████████| 200/200 [00:00<00:00, 417.95it/s]\n"
     ]
    },
    {
     "name": "stdout",
     "output_type": "stream",
     "text": [
      "matching = [True] - accuracy = 1.0\n",
      "matching = [True] - accuracy = 1.0\n",
      "//////////////////// Epoch: 60 ////////////////////\n"
     ]
    },
    {
     "name": "stderr",
     "output_type": "stream",
     "text": [
      "  2%|▏         | 17/800 [00:00<00:04, 164.41it/s]"
     ]
    },
    {
     "name": "stdout",
     "output_type": "stream",
     "text": [
      "pred: 1 - target: 1 - loss: 0.000 - raw pred: tensor([[-5.5230,  5.5268]], device='cuda:0', grad_fn=<AddmmBackward0>)\n"
     ]
    },
    {
     "name": "stderr",
     "output_type": "stream",
     "text": [
      "100%|██████████| 800/800 [00:04<00:00, 167.42it/s]\n"
     ]
    },
    {
     "name": "stdout",
     "output_type": "stream",
     "text": [
      "//////////////////// Validation ////////////////////\n"
     ]
    },
    {
     "name": "stderr",
     "output_type": "stream",
     "text": [
      " 21%|██        | 42/200 [00:00<00:00, 417.37it/s]"
     ]
    },
    {
     "name": "stdout",
     "output_type": "stream",
     "text": [
      "pred: 0 - target: 0 - loss: 0.000 - raw pred: tensor([[ 11.3744, -10.7116]], device='cuda:0')\n",
      "matching = [True] - accuracy = 1.0\n",
      "matching = [True] - accuracy = 1.0\n",
      "matching = [True] - accuracy = 1.0\n",
      "matching = [True] - accuracy = 1.0\n",
      "matching = [True] - accuracy = 1.0\n",
      "matching = [True] - accuracy = 1.0\n",
      "matching = [True] - accuracy = 1.0\n",
      "matching = [True] - accuracy = 1.0\n",
      "matching = [True] - accuracy = 1.0\n"
     ]
    },
    {
     "name": "stderr",
     "output_type": "stream",
     "text": [
      " 84%|████████▍ | 168/200 [00:00<00:00, 416.48it/s]"
     ]
    },
    {
     "name": "stdout",
     "output_type": "stream",
     "text": [
      "matching = [True] - accuracy = 1.0\n",
      "matching = [True] - accuracy = 1.0\n",
      "matching = [True] - accuracy = 1.0\n",
      "matching = [True] - accuracy = 1.0\n",
      "matching = [True] - accuracy = 1.0\n",
      "matching = [True] - accuracy = 1.0\n",
      "matching = [True] - accuracy = 1.0\n",
      "matching = [True] - accuracy = 1.0\n",
      "matching = [True] - accuracy = 1.0\n"
     ]
    },
    {
     "name": "stderr",
     "output_type": "stream",
     "text": [
      "100%|██████████| 200/200 [00:00<00:00, 415.10it/s]\n"
     ]
    },
    {
     "name": "stdout",
     "output_type": "stream",
     "text": [
      "matching = [True] - accuracy = 1.0\n",
      "matching = [True] - accuracy = 1.0\n",
      "//////////////////// Epoch: 61 ////////////////////\n"
     ]
    },
    {
     "name": "stderr",
     "output_type": "stream",
     "text": [
      "  2%|▏         | 18/800 [00:00<00:04, 173.08it/s]"
     ]
    },
    {
     "name": "stdout",
     "output_type": "stream",
     "text": [
      "pred: 0 - target: 0 - loss: 0.000 - raw pred: tensor([[ 8.4181, -7.9301]], device='cuda:0', grad_fn=<AddmmBackward0>)\n"
     ]
    },
    {
     "name": "stderr",
     "output_type": "stream",
     "text": [
      "100%|██████████| 800/800 [00:04<00:00, 166.49it/s]\n"
     ]
    },
    {
     "name": "stdout",
     "output_type": "stream",
     "text": [
      "//////////////////// Validation ////////////////////\n"
     ]
    },
    {
     "name": "stderr",
     "output_type": "stream",
     "text": [
      " 22%|██▏       | 43/200 [00:00<00:00, 421.19it/s]"
     ]
    },
    {
     "name": "stdout",
     "output_type": "stream",
     "text": [
      "pred: 1 - target: 1 - loss: 0.003 - raw pred: tensor([[-2.9933,  2.9798]], device='cuda:0')\n",
      "matching = [True] - accuracy = 1.0\n",
      "matching = [True] - accuracy = 1.0\n",
      "matching = [True] - accuracy = 1.0\n",
      "matching = [True] - accuracy = 1.0\n",
      "matching = [True] - accuracy = 1.0\n",
      "matching = [True] - accuracy = 1.0\n",
      "matching = [True] - accuracy = 1.0\n",
      "matching = [True] - accuracy = 1.0\n",
      "matching = [True] - accuracy = 1.0\n"
     ]
    },
    {
     "name": "stderr",
     "output_type": "stream",
     "text": [
      " 86%|████████▌ | 172/200 [00:00<00:00, 421.51it/s]"
     ]
    },
    {
     "name": "stdout",
     "output_type": "stream",
     "text": [
      "matching = [True] - accuracy = 1.0\n",
      "matching = [True] - accuracy = 1.0\n",
      "matching = [True] - accuracy = 1.0\n",
      "matching = [True] - accuracy = 1.0\n",
      "matching = [True] - accuracy = 1.0\n",
      "matching = [True] - accuracy = 1.0\n",
      "matching = [True] - accuracy = 1.0\n",
      "matching = [True] - accuracy = 1.0\n",
      "matching = [True] - accuracy = 1.0\n"
     ]
    },
    {
     "name": "stderr",
     "output_type": "stream",
     "text": [
      "100%|██████████| 200/200 [00:00<00:00, 420.76it/s]\n"
     ]
    },
    {
     "name": "stdout",
     "output_type": "stream",
     "text": [
      "matching = [True] - accuracy = 1.0\n",
      "matching = [True] - accuracy = 1.0\n",
      "//////////////////// Epoch: 62 ////////////////////\n"
     ]
    },
    {
     "name": "stderr",
     "output_type": "stream",
     "text": [
      "  2%|▏         | 17/800 [00:00<00:04, 164.00it/s]"
     ]
    },
    {
     "name": "stdout",
     "output_type": "stream",
     "text": [
      "pred: 0 - target: 0 - loss: 0.000 - raw pred: tensor([[ 5.7707, -5.4312]], device='cuda:0', grad_fn=<AddmmBackward0>)\n"
     ]
    },
    {
     "name": "stderr",
     "output_type": "stream",
     "text": [
      "100%|██████████| 800/800 [00:04<00:00, 163.62it/s]\n"
     ]
    },
    {
     "name": "stdout",
     "output_type": "stream",
     "text": [
      "//////////////////// Validation ////////////////////\n"
     ]
    },
    {
     "name": "stderr",
     "output_type": "stream",
     "text": [
      " 22%|██▏       | 43/200 [00:00<00:00, 421.85it/s]"
     ]
    },
    {
     "name": "stdout",
     "output_type": "stream",
     "text": [
      "pred: 1 - target: 1 - loss: 0.001 - raw pred: tensor([[-3.3288,  3.3050]], device='cuda:0')\n",
      "matching = [True] - accuracy = 1.0\n",
      "matching = [True] - accuracy = 1.0\n",
      "matching = [True] - accuracy = 1.0\n",
      "matching = [True] - accuracy = 1.0\n",
      "matching = [True] - accuracy = 1.0\n",
      "matching = [True] - accuracy = 1.0\n",
      "matching = [True] - accuracy = 1.0\n",
      "matching = [True] - accuracy = 1.0\n",
      "matching = [True] - accuracy = 1.0\n"
     ]
    },
    {
     "name": "stderr",
     "output_type": "stream",
     "text": [
      " 86%|████████▌ | 172/200 [00:00<00:00, 424.40it/s]"
     ]
    },
    {
     "name": "stdout",
     "output_type": "stream",
     "text": [
      "matching = [True] - accuracy = 1.0\n",
      "matching = [True] - accuracy = 1.0\n",
      "matching = [True] - accuracy = 1.0\n",
      "matching = [True] - accuracy = 1.0\n",
      "matching = [True] - accuracy = 1.0\n",
      "matching = [True] - accuracy = 1.0\n",
      "matching = [True] - accuracy = 1.0\n",
      "matching = [True] - accuracy = 1.0\n",
      "matching = [True] - accuracy = 1.0\n"
     ]
    },
    {
     "name": "stderr",
     "output_type": "stream",
     "text": [
      "100%|██████████| 200/200 [00:00<00:00, 422.78it/s]\n"
     ]
    },
    {
     "name": "stdout",
     "output_type": "stream",
     "text": [
      "matching = [True] - accuracy = 1.0\n",
      "matching = [True] - accuracy = 1.0\n",
      "//////////////////// Epoch: 63 ////////////////////\n"
     ]
    },
    {
     "name": "stderr",
     "output_type": "stream",
     "text": [
      "  2%|▏         | 17/800 [00:00<00:04, 165.40it/s]"
     ]
    },
    {
     "name": "stdout",
     "output_type": "stream",
     "text": [
      "pred: 0 - target: 0 - loss: 0.000 - raw pred: tensor([[ 4.1062, -3.8482]], device='cuda:0', grad_fn=<AddmmBackward0>)\n"
     ]
    },
    {
     "name": "stderr",
     "output_type": "stream",
     "text": [
      "100%|██████████| 800/800 [00:04<00:00, 163.56it/s]\n"
     ]
    },
    {
     "name": "stdout",
     "output_type": "stream",
     "text": [
      "//////////////////// Validation ////////////////////\n"
     ]
    },
    {
     "name": "stderr",
     "output_type": "stream",
     "text": [
      " 22%|██▏       | 43/200 [00:00<00:00, 425.65it/s]"
     ]
    },
    {
     "name": "stdout",
     "output_type": "stream",
     "text": [
      "pred: 0 - target: 0 - loss: 0.005 - raw pred: tensor([[ 2.7411, -2.5768]], device='cuda:0')\n",
      "matching = [True] - accuracy = 1.0\n",
      "matching = [True] - accuracy = 1.0\n",
      "matching = [True] - accuracy = 1.0\n",
      "matching = [True] - accuracy = 1.0\n",
      "matching = [True] - accuracy = 1.0\n",
      "matching = [True] - accuracy = 1.0\n",
      "matching = [True] - accuracy = 1.0\n",
      "matching = [True] - accuracy = 1.0\n",
      "matching = [True] - accuracy = 1.0\n"
     ]
    },
    {
     "name": "stderr",
     "output_type": "stream",
     "text": [
      " 86%|████████▌ | 172/200 [00:00<00:00, 426.16it/s]"
     ]
    },
    {
     "name": "stdout",
     "output_type": "stream",
     "text": [
      "matching = [True] - accuracy = 1.0\n",
      "matching = [True] - accuracy = 1.0\n",
      "matching = [True] - accuracy = 1.0\n",
      "matching = [True] - accuracy = 1.0\n",
      "matching = [True] - accuracy = 1.0\n",
      "matching = [True] - accuracy = 1.0\n",
      "matching = [True] - accuracy = 1.0\n",
      "matching = [True] - accuracy = 1.0\n",
      "matching = [True] - accuracy = 1.0\n"
     ]
    },
    {
     "name": "stderr",
     "output_type": "stream",
     "text": [
      "100%|██████████| 200/200 [00:00<00:00, 423.44it/s]\n"
     ]
    },
    {
     "name": "stdout",
     "output_type": "stream",
     "text": [
      "matching = [True] - accuracy = 1.0\n",
      "matching = [True] - accuracy = 1.0\n",
      "//////////////////// Epoch: 64 ////////////////////\n"
     ]
    },
    {
     "name": "stderr",
     "output_type": "stream",
     "text": [
      "  2%|▏         | 17/800 [00:00<00:04, 160.35it/s]"
     ]
    },
    {
     "name": "stdout",
     "output_type": "stream",
     "text": [
      "pred: 1 - target: 1 - loss: 0.000 - raw pred: tensor([[-5.5780,  5.5513]], device='cuda:0', grad_fn=<AddmmBackward0>)\n"
     ]
    },
    {
     "name": "stderr",
     "output_type": "stream",
     "text": [
      "100%|██████████| 800/800 [00:04<00:00, 166.74it/s]\n"
     ]
    },
    {
     "name": "stdout",
     "output_type": "stream",
     "text": [
      "//////////////////// Validation ////////////////////\n"
     ]
    },
    {
     "name": "stderr",
     "output_type": "stream",
     "text": [
      " 22%|██▏       | 43/200 [00:00<00:00, 419.99it/s]"
     ]
    },
    {
     "name": "stdout",
     "output_type": "stream",
     "text": [
      "pred: 1 - target: 1 - loss: 0.001 - raw pred: tensor([[-3.3084,  3.2869]], device='cuda:0')\n",
      "matching = [True] - accuracy = 1.0\n",
      "matching = [True] - accuracy = 1.0\n",
      "matching = [True] - accuracy = 1.0\n",
      "matching = [True] - accuracy = 1.0\n",
      "matching = [True] - accuracy = 1.0\n",
      "matching = [True] - accuracy = 1.0\n",
      "matching = [True] - accuracy = 1.0\n",
      "matching = [True] - accuracy = 1.0\n",
      "matching = [True] - accuracy = 1.0\n"
     ]
    },
    {
     "name": "stderr",
     "output_type": "stream",
     "text": [
      " 85%|████████▌ | 170/200 [00:00<00:00, 419.69it/s]"
     ]
    },
    {
     "name": "stdout",
     "output_type": "stream",
     "text": [
      "matching = [True] - accuracy = 1.0\n",
      "matching = [True] - accuracy = 1.0\n",
      "matching = [True] - accuracy = 1.0\n",
      "matching = [True] - accuracy = 1.0\n",
      "matching = [True] - accuracy = 1.0\n",
      "matching = [True] - accuracy = 1.0\n",
      "matching = [True] - accuracy = 1.0\n",
      "matching = [True] - accuracy = 1.0\n",
      "matching = [True] - accuracy = 1.0\n"
     ]
    },
    {
     "name": "stderr",
     "output_type": "stream",
     "text": [
      "100%|██████████| 200/200 [00:00<00:00, 417.46it/s]\n"
     ]
    },
    {
     "name": "stdout",
     "output_type": "stream",
     "text": [
      "matching = [True] - accuracy = 1.0\n",
      "matching = [True] - accuracy = 1.0\n",
      "//////////////////// Epoch: 65 ////////////////////\n"
     ]
    },
    {
     "name": "stderr",
     "output_type": "stream",
     "text": [
      "  2%|▏         | 17/800 [00:00<00:04, 166.53it/s]"
     ]
    },
    {
     "name": "stdout",
     "output_type": "stream",
     "text": [
      "pred: 0 - target: 0 - loss: 0.000 - raw pred: tensor([[ 7.4281, -6.9880]], device='cuda:0', grad_fn=<AddmmBackward0>)\n"
     ]
    },
    {
     "name": "stderr",
     "output_type": "stream",
     "text": [
      "100%|██████████| 800/800 [00:04<00:00, 167.61it/s]\n"
     ]
    },
    {
     "name": "stdout",
     "output_type": "stream",
     "text": [
      "//////////////////// Validation ////////////////////\n"
     ]
    },
    {
     "name": "stderr",
     "output_type": "stream",
     "text": [
      " 22%|██▏       | 43/200 [00:00<00:00, 422.27it/s]"
     ]
    },
    {
     "name": "stdout",
     "output_type": "stream",
     "text": [
      "pred: 0 - target: 0 - loss: 0.000 - raw pred: tensor([[ 5.1702, -4.8613]], device='cuda:0')\n",
      "matching = [True] - accuracy = 1.0\n",
      "matching = [True] - accuracy = 1.0\n",
      "matching = [True] - accuracy = 1.0\n",
      "matching = [True] - accuracy = 1.0\n",
      "matching = [True] - accuracy = 1.0\n",
      "matching = [True] - accuracy = 1.0\n",
      "matching = [True] - accuracy = 1.0\n",
      "matching = [True] - accuracy = 1.0\n",
      "matching = [True] - accuracy = 1.0\n"
     ]
    },
    {
     "name": "stderr",
     "output_type": "stream",
     "text": [
      " 86%|████████▌ | 172/200 [00:00<00:00, 421.51it/s]"
     ]
    },
    {
     "name": "stdout",
     "output_type": "stream",
     "text": [
      "matching = [True] - accuracy = 1.0\n",
      "matching = [True] - accuracy = 1.0\n",
      "matching = [True] - accuracy = 1.0\n",
      "matching = [True] - accuracy = 1.0\n",
      "matching = [True] - accuracy = 1.0\n",
      "matching = [True] - accuracy = 1.0\n",
      "matching = [True] - accuracy = 1.0\n",
      "matching = [True] - accuracy = 1.0\n",
      "matching = [True] - accuracy = 1.0\n"
     ]
    },
    {
     "name": "stderr",
     "output_type": "stream",
     "text": [
      "100%|██████████| 200/200 [00:00<00:00, 420.25it/s]\n"
     ]
    },
    {
     "name": "stdout",
     "output_type": "stream",
     "text": [
      "matching = [True] - accuracy = 1.0\n",
      "matching = [True] - accuracy = 1.0\n",
      "//////////////////// Epoch: 66 ////////////////////\n"
     ]
    },
    {
     "name": "stderr",
     "output_type": "stream",
     "text": [
      "  2%|▏         | 17/800 [00:00<00:04, 166.78it/s]"
     ]
    },
    {
     "name": "stdout",
     "output_type": "stream",
     "text": [
      "pred: 1 - target: 1 - loss: 0.000 - raw pred: tensor([[-4.9086,  4.8863]], device='cuda:0', grad_fn=<AddmmBackward0>)\n"
     ]
    },
    {
     "name": "stderr",
     "output_type": "stream",
     "text": [
      "100%|██████████| 800/800 [00:04<00:00, 165.98it/s]\n"
     ]
    },
    {
     "name": "stdout",
     "output_type": "stream",
     "text": [
      "//////////////////// Validation ////////////////////\n"
     ]
    },
    {
     "name": "stderr",
     "output_type": "stream",
     "text": [
      " 21%|██        | 42/200 [00:00<00:00, 413.85it/s]"
     ]
    },
    {
     "name": "stdout",
     "output_type": "stream",
     "text": [
      "pred: 0 - target: 0 - loss: 0.000 - raw pred: tensor([[ 6.6868, -6.3069]], device='cuda:0')\n",
      "matching = [True] - accuracy = 1.0\n",
      "matching = [True] - accuracy = 1.0\n",
      "matching = [True] - accuracy = 1.0\n",
      "matching = [True] - accuracy = 1.0\n",
      "matching = [True] - accuracy = 1.0\n",
      "matching = [True] - accuracy = 1.0\n",
      "matching = [True] - accuracy = 1.0\n",
      "matching = [True] - accuracy = 1.0\n",
      "matching = [True] - accuracy = 1.0\n"
     ]
    },
    {
     "name": "stderr",
     "output_type": "stream",
     "text": [
      " 85%|████████▌ | 170/200 [00:00<00:00, 419.72it/s]"
     ]
    },
    {
     "name": "stdout",
     "output_type": "stream",
     "text": [
      "matching = [True] - accuracy = 1.0\n",
      "matching = [True] - accuracy = 1.0\n",
      "matching = [True] - accuracy = 1.0\n",
      "matching = [True] - accuracy = 1.0\n",
      "matching = [True] - accuracy = 1.0\n",
      "matching = [True] - accuracy = 1.0\n",
      "matching = [True] - accuracy = 1.0\n",
      "matching = [True] - accuracy = 1.0\n",
      "matching = [True] - accuracy = 1.0\n"
     ]
    },
    {
     "name": "stderr",
     "output_type": "stream",
     "text": [
      "100%|██████████| 200/200 [00:00<00:00, 418.26it/s]\n"
     ]
    },
    {
     "name": "stdout",
     "output_type": "stream",
     "text": [
      "matching = [True] - accuracy = 1.0\n",
      "matching = [True] - accuracy = 1.0\n",
      "//////////////////// Epoch: 67 ////////////////////\n"
     ]
    },
    {
     "name": "stderr",
     "output_type": "stream",
     "text": [
      "  2%|▏         | 17/800 [00:00<00:04, 167.08it/s]"
     ]
    },
    {
     "name": "stdout",
     "output_type": "stream",
     "text": [
      "pred: 0 - target: 0 - loss: 0.000 - raw pred: tensor([[ 6.8147, -6.4200]], device='cuda:0', grad_fn=<AddmmBackward0>)\n"
     ]
    },
    {
     "name": "stderr",
     "output_type": "stream",
     "text": [
      "100%|██████████| 800/800 [00:04<00:00, 166.72it/s]\n"
     ]
    },
    {
     "name": "stdout",
     "output_type": "stream",
     "text": [
      "//////////////////// Validation ////////////////////\n"
     ]
    },
    {
     "name": "stderr",
     "output_type": "stream",
     "text": [
      " 21%|██        | 42/200 [00:00<00:00, 418.92it/s]"
     ]
    },
    {
     "name": "stdout",
     "output_type": "stream",
     "text": [
      "pred: 1 - target: 1 - loss: 0.013 - raw pred: tensor([[-2.1661,  2.1548]], device='cuda:0')\n",
      "matching = [True] - accuracy = 1.0\n",
      "matching = [True] - accuracy = 1.0\n",
      "matching = [True] - accuracy = 1.0\n",
      "matching = [True] - accuracy = 1.0\n",
      "matching = [True] - accuracy = 1.0\n",
      "matching = [True] - accuracy = 1.0\n",
      "matching = [True] - accuracy = 1.0\n",
      "matching = [True] - accuracy = 1.0\n",
      "matching = [True] - accuracy = 1.0\n"
     ]
    },
    {
     "name": "stderr",
     "output_type": "stream",
     "text": [
      " 84%|████████▍ | 168/200 [00:00<00:00, 417.09it/s]"
     ]
    },
    {
     "name": "stdout",
     "output_type": "stream",
     "text": [
      "matching = [True] - accuracy = 1.0\n",
      "matching = [True] - accuracy = 1.0\n",
      "matching = [True] - accuracy = 1.0\n",
      "matching = [True] - accuracy = 1.0\n",
      "matching = [True] - accuracy = 1.0\n",
      "matching = [True] - accuracy = 1.0\n",
      "matching = [True] - accuracy = 1.0\n",
      "matching = [True] - accuracy = 1.0\n",
      "matching = [True] - accuracy = 1.0\n"
     ]
    },
    {
     "name": "stderr",
     "output_type": "stream",
     "text": [
      "100%|██████████| 200/200 [00:00<00:00, 416.37it/s]\n"
     ]
    },
    {
     "name": "stdout",
     "output_type": "stream",
     "text": [
      "matching = [True] - accuracy = 1.0\n",
      "matching = [True] - accuracy = 1.0\n",
      "//////////////////// Epoch: 68 ////////////////////\n"
     ]
    },
    {
     "name": "stderr",
     "output_type": "stream",
     "text": [
      "  2%|▏         | 17/800 [00:00<00:04, 164.24it/s]"
     ]
    },
    {
     "name": "stdout",
     "output_type": "stream",
     "text": [
      "pred: 1 - target: 1 - loss: 0.014 - raw pred: tensor([[-2.1535,  2.1424]], device='cuda:0', grad_fn=<AddmmBackward0>)\n"
     ]
    },
    {
     "name": "stderr",
     "output_type": "stream",
     "text": [
      "100%|██████████| 800/800 [00:04<00:00, 168.84it/s]\n"
     ]
    },
    {
     "name": "stdout",
     "output_type": "stream",
     "text": [
      "//////////////////// Validation ////////////////////\n"
     ]
    },
    {
     "name": "stderr",
     "output_type": "stream",
     "text": [
      " 21%|██        | 42/200 [00:00<00:00, 417.74it/s]"
     ]
    },
    {
     "name": "stdout",
     "output_type": "stream",
     "text": [
      "pred: 1 - target: 1 - loss: 0.001 - raw pred: tensor([[-3.2688,  3.2489]], device='cuda:0')\n",
      "matching = [True] - accuracy = 1.0\n",
      "matching = [True] - accuracy = 1.0\n",
      "matching = [True] - accuracy = 1.0\n",
      "matching = [True] - accuracy = 1.0\n",
      "matching = [True] - accuracy = 1.0\n",
      "matching = [True] - accuracy = 1.0\n",
      "matching = [True] - accuracy = 1.0\n",
      "matching = [True] - accuracy = 1.0\n",
      "matching = [True] - accuracy = 1.0\n"
     ]
    },
    {
     "name": "stderr",
     "output_type": "stream",
     "text": [
      " 86%|████████▌ | 171/200 [00:00<00:00, 420.00it/s]"
     ]
    },
    {
     "name": "stdout",
     "output_type": "stream",
     "text": [
      "matching = [True] - accuracy = 1.0\n",
      "matching = [True] - accuracy = 1.0\n",
      "matching = [True] - accuracy = 1.0\n",
      "matching = [True] - accuracy = 1.0\n",
      "matching = [True] - accuracy = 1.0\n",
      "matching = [True] - accuracy = 1.0\n",
      "matching = [True] - accuracy = 1.0\n",
      "matching = [True] - accuracy = 1.0\n",
      "matching = [True] - accuracy = 1.0\n"
     ]
    },
    {
     "name": "stderr",
     "output_type": "stream",
     "text": [
      "100%|██████████| 200/200 [00:00<00:00, 419.88it/s]\n"
     ]
    },
    {
     "name": "stdout",
     "output_type": "stream",
     "text": [
      "matching = [True] - accuracy = 1.0\n",
      "matching = [True] - accuracy = 1.0\n",
      "//////////////////// Epoch: 69 ////////////////////\n"
     ]
    },
    {
     "name": "stderr",
     "output_type": "stream",
     "text": [
      "  2%|▏         | 17/800 [00:00<00:04, 164.21it/s]"
     ]
    },
    {
     "name": "stdout",
     "output_type": "stream",
     "text": [
      "pred: 0 - target: 0 - loss: 0.000 - raw pred: tensor([[ 11.4295, -10.7823]], device='cuda:0', grad_fn=<AddmmBackward0>)\n"
     ]
    },
    {
     "name": "stderr",
     "output_type": "stream",
     "text": [
      "100%|██████████| 800/800 [00:04<00:00, 166.21it/s]\n"
     ]
    },
    {
     "name": "stdout",
     "output_type": "stream",
     "text": [
      "//////////////////// Validation ////////////////////\n"
     ]
    },
    {
     "name": "stderr",
     "output_type": "stream",
     "text": [
      " 22%|██▏       | 43/200 [00:00<00:00, 423.34it/s]"
     ]
    },
    {
     "name": "stdout",
     "output_type": "stream",
     "text": [
      "pred: 1 - target: 1 - loss: 0.002 - raw pred: tensor([[-3.0589,  3.0421]], device='cuda:0')\n",
      "matching = [True] - accuracy = 1.0\n",
      "matching = [True] - accuracy = 1.0\n",
      "matching = [True] - accuracy = 1.0\n",
      "matching = [True] - accuracy = 1.0\n",
      "matching = [True] - accuracy = 1.0\n",
      "matching = [True] - accuracy = 1.0\n",
      "matching = [True] - accuracy = 1.0\n",
      "matching = [True] - accuracy = 1.0\n",
      "matching = [True] - accuracy = 1.0\n"
     ]
    },
    {
     "name": "stderr",
     "output_type": "stream",
     "text": [
      " 86%|████████▌ | 172/200 [00:00<00:00, 418.52it/s]"
     ]
    },
    {
     "name": "stdout",
     "output_type": "stream",
     "text": [
      "matching = [True] - accuracy = 1.0\n",
      "matching = [True] - accuracy = 1.0\n",
      "matching = [True] - accuracy = 1.0\n",
      "matching = [True] - accuracy = 1.0\n",
      "matching = [True] - accuracy = 1.0\n",
      "matching = [True] - accuracy = 1.0\n",
      "matching = [True] - accuracy = 1.0\n",
      "matching = [True] - accuracy = 1.0\n",
      "matching = [True] - accuracy = 1.0\n"
     ]
    },
    {
     "name": "stderr",
     "output_type": "stream",
     "text": [
      "100%|██████████| 200/200 [00:00<00:00, 419.53it/s]\n"
     ]
    },
    {
     "name": "stdout",
     "output_type": "stream",
     "text": [
      "matching = [True] - accuracy = 1.0\n",
      "matching = [True] - accuracy = 1.0\n",
      "//////////////////// Epoch: 70 ////////////////////\n"
     ]
    },
    {
     "name": "stderr",
     "output_type": "stream",
     "text": [
      "  2%|▏         | 17/800 [00:00<00:04, 161.31it/s]"
     ]
    },
    {
     "name": "stdout",
     "output_type": "stream",
     "text": [
      "pred: 0 - target: 0 - loss: 0.000 - raw pred: tensor([[ 3.9317, -3.7101]], device='cuda:0', grad_fn=<AddmmBackward0>)\n"
     ]
    },
    {
     "name": "stderr",
     "output_type": "stream",
     "text": [
      "100%|██████████| 800/800 [00:04<00:00, 163.37it/s]\n"
     ]
    },
    {
     "name": "stdout",
     "output_type": "stream",
     "text": [
      "//////////////////// Validation ////////////////////\n"
     ]
    },
    {
     "name": "stderr",
     "output_type": "stream",
     "text": [
      " 21%|██        | 42/200 [00:00<00:00, 418.35it/s]"
     ]
    },
    {
     "name": "stdout",
     "output_type": "stream",
     "text": [
      "pred: 0 - target: 0 - loss: 0.284 - raw pred: tensor([[ 0.5715, -0.5415]], device='cuda:0')\n",
      "matching = [True] - accuracy = 1.0\n",
      "matching = [True] - accuracy = 1.0\n",
      "matching = [True] - accuracy = 1.0\n",
      "matching = [True] - accuracy = 1.0\n",
      "matching = [True] - accuracy = 1.0\n",
      "matching = [True] - accuracy = 1.0\n",
      "matching = [True] - accuracy = 1.0\n",
      "matching = [True] - accuracy = 1.0\n",
      "matching = [True] - accuracy = 1.0\n"
     ]
    },
    {
     "name": "stderr",
     "output_type": "stream",
     "text": [
      " 85%|████████▌ | 170/200 [00:00<00:00, 421.25it/s]"
     ]
    },
    {
     "name": "stdout",
     "output_type": "stream",
     "text": [
      "matching = [True] - accuracy = 1.0\n",
      "matching = [True] - accuracy = 1.0\n",
      "matching = [True] - accuracy = 1.0\n",
      "matching = [True] - accuracy = 1.0\n",
      "matching = [True] - accuracy = 1.0\n",
      "matching = [True] - accuracy = 1.0\n",
      "matching = [True] - accuracy = 1.0\n",
      "matching = [True] - accuracy = 1.0\n",
      "matching = [True] - accuracy = 1.0\n"
     ]
    },
    {
     "name": "stderr",
     "output_type": "stream",
     "text": [
      "100%|██████████| 200/200 [00:00<00:00, 418.06it/s]\n"
     ]
    },
    {
     "name": "stdout",
     "output_type": "stream",
     "text": [
      "matching = [True] - accuracy = 1.0\n",
      "matching = [True] - accuracy = 1.0\n",
      "//////////////////// Epoch: 71 ////////////////////\n"
     ]
    },
    {
     "name": "stderr",
     "output_type": "stream",
     "text": [
      "  2%|▏         | 17/800 [00:00<00:04, 165.69it/s]"
     ]
    },
    {
     "name": "stdout",
     "output_type": "stream",
     "text": [
      "pred: 0 - target: 0 - loss: 0.000 - raw pred: tensor([[ 4.9830, -4.7347]], device='cuda:0', grad_fn=<AddmmBackward0>)\n"
     ]
    },
    {
     "name": "stderr",
     "output_type": "stream",
     "text": [
      "100%|██████████| 800/800 [00:04<00:00, 165.14it/s]\n"
     ]
    },
    {
     "name": "stdout",
     "output_type": "stream",
     "text": [
      "//////////////////// Validation ////////////////////\n"
     ]
    },
    {
     "name": "stderr",
     "output_type": "stream",
     "text": [
      " 22%|██▏       | 43/200 [00:00<00:00, 422.17it/s]"
     ]
    },
    {
     "name": "stdout",
     "output_type": "stream",
     "text": [
      "pred: 0 - target: 0 - loss: 0.000 - raw pred: tensor([[ 4.4693, -4.2607]], device='cuda:0')\n",
      "matching = [True] - accuracy = 1.0\n",
      "matching = [True] - accuracy = 1.0\n",
      "matching = [True] - accuracy = 1.0\n",
      "matching = [True] - accuracy = 1.0\n",
      "matching = [True] - accuracy = 1.0\n",
      "matching = [True] - accuracy = 1.0\n",
      "matching = [True] - accuracy = 1.0\n",
      "matching = [True] - accuracy = 1.0\n",
      "matching = [True] - accuracy = 1.0\n"
     ]
    },
    {
     "name": "stderr",
     "output_type": "stream",
     "text": [
      " 86%|████████▌ | 171/200 [00:00<00:00, 417.97it/s]"
     ]
    },
    {
     "name": "stdout",
     "output_type": "stream",
     "text": [
      "matching = [True] - accuracy = 1.0\n",
      "matching = [True] - accuracy = 1.0\n",
      "matching = [True] - accuracy = 1.0\n",
      "matching = [True] - accuracy = 1.0\n",
      "matching = [True] - accuracy = 1.0\n",
      "matching = [True] - accuracy = 1.0\n",
      "matching = [True] - accuracy = 1.0\n",
      "matching = [True] - accuracy = 1.0\n",
      "matching = [True] - accuracy = 1.0\n"
     ]
    },
    {
     "name": "stderr",
     "output_type": "stream",
     "text": [
      "100%|██████████| 200/200 [00:00<00:00, 418.02it/s]\n"
     ]
    },
    {
     "name": "stdout",
     "output_type": "stream",
     "text": [
      "matching = [True] - accuracy = 1.0\n",
      "matching = [True] - accuracy = 1.0\n",
      "//////////////////// Epoch: 72 ////////////////////\n"
     ]
    },
    {
     "name": "stderr",
     "output_type": "stream",
     "text": [
      "  2%|▏         | 18/800 [00:00<00:04, 171.73it/s]"
     ]
    },
    {
     "name": "stdout",
     "output_type": "stream",
     "text": [
      "pred: 1 - target: 1 - loss: 0.000 - raw pred: tensor([[-5.6427,  5.5762]], device='cuda:0', grad_fn=<AddmmBackward0>)\n"
     ]
    },
    {
     "name": "stderr",
     "output_type": "stream",
     "text": [
      "100%|██████████| 800/800 [00:04<00:00, 166.68it/s]\n"
     ]
    },
    {
     "name": "stdout",
     "output_type": "stream",
     "text": [
      "//////////////////// Validation ////////////////////\n"
     ]
    },
    {
     "name": "stderr",
     "output_type": "stream",
     "text": [
      " 21%|██        | 42/200 [00:00<00:00, 417.32it/s]"
     ]
    },
    {
     "name": "stdout",
     "output_type": "stream",
     "text": [
      "pred: 1 - target: 1 - loss: 0.000 - raw pred: tensor([[-4.7718,  4.7154]], device='cuda:0')\n",
      "matching = [True] - accuracy = 1.0\n",
      "matching = [True] - accuracy = 1.0\n",
      "matching = [True] - accuracy = 1.0\n",
      "matching = [True] - accuracy = 1.0\n",
      "matching = [True] - accuracy = 1.0\n",
      "matching = [True] - accuracy = 1.0\n",
      "matching = [True] - accuracy = 1.0\n",
      "matching = [True] - accuracy = 1.0\n",
      "matching = [True] - accuracy = 1.0\n"
     ]
    },
    {
     "name": "stderr",
     "output_type": "stream",
     "text": [
      " 84%|████████▍ | 168/200 [00:00<00:00, 416.25it/s]"
     ]
    },
    {
     "name": "stdout",
     "output_type": "stream",
     "text": [
      "matching = [True] - accuracy = 1.0\n",
      "matching = [True] - accuracy = 1.0\n",
      "matching = [True] - accuracy = 1.0\n",
      "matching = [True] - accuracy = 1.0\n",
      "matching = [True] - accuracy = 1.0\n",
      "matching = [True] - accuracy = 1.0\n",
      "matching = [True] - accuracy = 1.0\n",
      "matching = [True] - accuracy = 1.0\n",
      "matching = [True] - accuracy = 1.0\n"
     ]
    },
    {
     "name": "stderr",
     "output_type": "stream",
     "text": [
      "100%|██████████| 200/200 [00:00<00:00, 416.30it/s]\n"
     ]
    },
    {
     "name": "stdout",
     "output_type": "stream",
     "text": [
      "matching = [True] - accuracy = 1.0\n",
      "matching = [True] - accuracy = 1.0\n",
      "//////////////////// Epoch: 73 ////////////////////\n"
     ]
    },
    {
     "name": "stderr",
     "output_type": "stream",
     "text": [
      "  2%|▏         | 17/800 [00:00<00:04, 169.41it/s]"
     ]
    },
    {
     "name": "stdout",
     "output_type": "stream",
     "text": [
      "pred: 0 - target: 0 - loss: 0.000 - raw pred: tensor([[ 5.6776, -5.4036]], device='cuda:0', grad_fn=<AddmmBackward0>)\n"
     ]
    },
    {
     "name": "stderr",
     "output_type": "stream",
     "text": [
      "100%|██████████| 800/800 [00:04<00:00, 170.21it/s]\n"
     ]
    },
    {
     "name": "stdout",
     "output_type": "stream",
     "text": [
      "//////////////////// Validation ////////////////////\n"
     ]
    },
    {
     "name": "stderr",
     "output_type": "stream",
     "text": [
      " 22%|██▏       | 43/200 [00:00<00:00, 422.78it/s]"
     ]
    },
    {
     "name": "stdout",
     "output_type": "stream",
     "text": [
      "pred: 1 - target: 1 - loss: 0.000 - raw pred: tensor([[-8.7381,  8.6468]], device='cuda:0')\n",
      "matching = [True] - accuracy = 1.0\n",
      "matching = [True] - accuracy = 1.0\n",
      "matching = [True] - accuracy = 1.0\n",
      "matching = [True] - accuracy = 1.0\n",
      "matching = [True] - accuracy = 1.0\n",
      "matching = [True] - accuracy = 1.0\n",
      "matching = [True] - accuracy = 1.0\n",
      "matching = [True] - accuracy = 1.0\n",
      "matching = [True] - accuracy = 1.0\n"
     ]
    },
    {
     "name": "stderr",
     "output_type": "stream",
     "text": [
      " 86%|████████▌ | 172/200 [00:00<00:00, 423.71it/s]"
     ]
    },
    {
     "name": "stdout",
     "output_type": "stream",
     "text": [
      "matching = [True] - accuracy = 1.0\n",
      "matching = [True] - accuracy = 1.0\n",
      "matching = [True] - accuracy = 1.0\n",
      "matching = [True] - accuracy = 1.0\n",
      "matching = [True] - accuracy = 1.0\n",
      "matching = [True] - accuracy = 1.0\n",
      "matching = [True] - accuracy = 1.0\n",
      "matching = [True] - accuracy = 1.0\n",
      "matching = [True] - accuracy = 1.0\n"
     ]
    },
    {
     "name": "stderr",
     "output_type": "stream",
     "text": [
      "100%|██████████| 200/200 [00:00<00:00, 423.21it/s]\n"
     ]
    },
    {
     "name": "stdout",
     "output_type": "stream",
     "text": [
      "matching = [True] - accuracy = 1.0\n",
      "matching = [True] - accuracy = 1.0\n",
      "//////////////////// Epoch: 74 ////////////////////\n"
     ]
    },
    {
     "name": "stderr",
     "output_type": "stream",
     "text": [
      "  2%|▏         | 18/800 [00:00<00:04, 173.45it/s]"
     ]
    },
    {
     "name": "stdout",
     "output_type": "stream",
     "text": [
      "pred: 0 - target: 0 - loss: 0.000 - raw pred: tensor([[ 11.0831, -10.5443]], device='cuda:0', grad_fn=<AddmmBackward0>)\n"
     ]
    },
    {
     "name": "stderr",
     "output_type": "stream",
     "text": [
      "100%|██████████| 800/800 [00:04<00:00, 169.79it/s]\n"
     ]
    },
    {
     "name": "stdout",
     "output_type": "stream",
     "text": [
      "//////////////////// Validation ////////////////////\n"
     ]
    },
    {
     "name": "stderr",
     "output_type": "stream",
     "text": [
      " 21%|██        | 42/200 [00:00<00:00, 417.36it/s]"
     ]
    },
    {
     "name": "stdout",
     "output_type": "stream",
     "text": [
      "pred: 1 - target: 1 - loss: 0.000 - raw pred: tensor([[-6.7048,  6.6365]], device='cuda:0')\n",
      "matching = [True] - accuracy = 1.0\n",
      "matching = [True] - accuracy = 1.0\n",
      "matching = [True] - accuracy = 1.0\n",
      "matching = [True] - accuracy = 1.0\n",
      "matching = [True] - accuracy = 1.0\n",
      "matching = [True] - accuracy = 1.0\n",
      "matching = [True] - accuracy = 1.0\n",
      "matching = [True] - accuracy = 1.0\n",
      "matching = [True] - accuracy = 1.0\n"
     ]
    },
    {
     "name": "stderr",
     "output_type": "stream",
     "text": [
      " 86%|████████▌ | 171/200 [00:00<00:00, 421.36it/s]"
     ]
    },
    {
     "name": "stdout",
     "output_type": "stream",
     "text": [
      "matching = [True] - accuracy = 1.0\n",
      "matching = [True] - accuracy = 1.0\n",
      "matching = [True] - accuracy = 1.0\n",
      "matching = [True] - accuracy = 1.0\n",
      "matching = [True] - accuracy = 1.0\n",
      "matching = [True] - accuracy = 1.0\n",
      "matching = [True] - accuracy = 1.0\n",
      "matching = [True] - accuracy = 1.0\n",
      "matching = [True] - accuracy = 1.0\n"
     ]
    },
    {
     "name": "stderr",
     "output_type": "stream",
     "text": [
      "100%|██████████| 200/200 [00:00<00:00, 420.08it/s]\n"
     ]
    },
    {
     "name": "stdout",
     "output_type": "stream",
     "text": [
      "matching = [True] - accuracy = 1.0\n",
      "matching = [True] - accuracy = 1.0\n",
      "//////////////////// Epoch: 75 ////////////////////\n"
     ]
    },
    {
     "name": "stderr",
     "output_type": "stream",
     "text": [
      "  2%|▏         | 17/800 [00:00<00:04, 167.76it/s]"
     ]
    },
    {
     "name": "stdout",
     "output_type": "stream",
     "text": [
      "pred: 0 - target: 0 - loss: 0.000 - raw pred: tensor([[10.4145, -9.9151]], device='cuda:0', grad_fn=<AddmmBackward0>)\n"
     ]
    },
    {
     "name": "stderr",
     "output_type": "stream",
     "text": [
      "100%|██████████| 800/800 [00:04<00:00, 165.33it/s]\n"
     ]
    },
    {
     "name": "stdout",
     "output_type": "stream",
     "text": [
      "//////////////////// Validation ////////////////////\n"
     ]
    },
    {
     "name": "stderr",
     "output_type": "stream",
     "text": [
      " 22%|██▏       | 43/200 [00:00<00:00, 420.70it/s]"
     ]
    },
    {
     "name": "stdout",
     "output_type": "stream",
     "text": [
      "pred: 0 - target: 0 - loss: 0.000 - raw pred: tensor([[ 7.7153, -7.3495]], device='cuda:0')\n",
      "matching = [True] - accuracy = 1.0\n",
      "matching = [True] - accuracy = 1.0\n",
      "matching = [True] - accuracy = 1.0\n",
      "matching = [True] - accuracy = 1.0\n",
      "matching = [True] - accuracy = 1.0\n",
      "matching = [True] - accuracy = 1.0\n",
      "matching = [True] - accuracy = 1.0\n",
      "matching = [True] - accuracy = 1.0\n",
      "matching = [True] - accuracy = 1.0\n"
     ]
    },
    {
     "name": "stderr",
     "output_type": "stream",
     "text": [
      " 86%|████████▌ | 172/200 [00:00<00:00, 421.47it/s]"
     ]
    },
    {
     "name": "stdout",
     "output_type": "stream",
     "text": [
      "matching = [True] - accuracy = 1.0\n",
      "matching = [True] - accuracy = 1.0\n",
      "matching = [True] - accuracy = 1.0\n",
      "matching = [True] - accuracy = 1.0\n",
      "matching = [True] - accuracy = 1.0\n",
      "matching = [True] - accuracy = 1.0\n",
      "matching = [True] - accuracy = 1.0\n",
      "matching = [True] - accuracy = 1.0\n",
      "matching = [True] - accuracy = 1.0\n"
     ]
    },
    {
     "name": "stderr",
     "output_type": "stream",
     "text": [
      "100%|██████████| 200/200 [00:00<00:00, 420.72it/s]\n"
     ]
    },
    {
     "name": "stdout",
     "output_type": "stream",
     "text": [
      "matching = [True] - accuracy = 1.0\n",
      "matching = [True] - accuracy = 1.0\n",
      "//////////////////// Epoch: 76 ////////////////////\n"
     ]
    },
    {
     "name": "stderr",
     "output_type": "stream",
     "text": [
      "  2%|▏         | 17/800 [00:00<00:04, 164.82it/s]"
     ]
    },
    {
     "name": "stdout",
     "output_type": "stream",
     "text": [
      "pred: 1 - target: 1 - loss: 0.001 - raw pred: tensor([[-3.5191,  3.4816]], device='cuda:0', grad_fn=<AddmmBackward0>)\n"
     ]
    },
    {
     "name": "stderr",
     "output_type": "stream",
     "text": [
      "100%|██████████| 800/800 [00:04<00:00, 166.74it/s]\n"
     ]
    },
    {
     "name": "stdout",
     "output_type": "stream",
     "text": [
      "//////////////////// Validation ////////////////////\n"
     ]
    },
    {
     "name": "stderr",
     "output_type": "stream",
     "text": [
      " 20%|██        | 41/200 [00:00<00:00, 409.37it/s]"
     ]
    },
    {
     "name": "stdout",
     "output_type": "stream",
     "text": [
      "pred: 0 - target: 0 - loss: 0.000 - raw pred: tensor([[ 9.4894, -9.0414]], device='cuda:0')\n",
      "matching = [True] - accuracy = 1.0\n",
      "matching = [True] - accuracy = 1.0\n",
      "matching = [False] - accuracy = 0.0\n",
      "matching = [True] - accuracy = 1.0\n",
      "matching = [True] - accuracy = 1.0\n",
      "matching = [True] - accuracy = 1.0\n",
      "matching = [True] - accuracy = 1.0\n",
      "matching = [True] - accuracy = 1.0\n",
      "matching = [True] - accuracy = 1.0\n"
     ]
    },
    {
     "name": "stderr",
     "output_type": "stream",
     "text": [
      " 84%|████████▎ | 167/200 [00:00<00:00, 417.23it/s]"
     ]
    },
    {
     "name": "stdout",
     "output_type": "stream",
     "text": [
      "matching = [True] - accuracy = 1.0\n",
      "matching = [True] - accuracy = 1.0\n",
      "matching = [True] - accuracy = 1.0\n",
      "matching = [True] - accuracy = 1.0\n",
      "matching = [True] - accuracy = 1.0\n",
      "matching = [True] - accuracy = 1.0\n",
      "matching = [True] - accuracy = 1.0\n",
      "matching = [True] - accuracy = 1.0\n",
      "matching = [True] - accuracy = 1.0\n"
     ]
    },
    {
     "name": "stderr",
     "output_type": "stream",
     "text": [
      "100%|██████████| 200/200 [00:00<00:00, 414.56it/s]\n"
     ]
    },
    {
     "name": "stdout",
     "output_type": "stream",
     "text": [
      "matching = [True] - accuracy = 1.0\n",
      "matching = [True] - accuracy = 1.0\n",
      "//////////////////// Epoch: 77 ////////////////////\n"
     ]
    },
    {
     "name": "stderr",
     "output_type": "stream",
     "text": [
      "  2%|▏         | 18/800 [00:00<00:04, 172.91it/s]"
     ]
    },
    {
     "name": "stdout",
     "output_type": "stream",
     "text": [
      "pred: 0 - target: 0 - loss: 0.000 - raw pred: tensor([[ 9.9526, -9.4831]], device='cuda:0', grad_fn=<AddmmBackward0>)\n"
     ]
    },
    {
     "name": "stderr",
     "output_type": "stream",
     "text": [
      "100%|██████████| 800/800 [00:04<00:00, 168.61it/s]\n"
     ]
    },
    {
     "name": "stdout",
     "output_type": "stream",
     "text": [
      "//////////////////// Validation ////////////////////\n"
     ]
    },
    {
     "name": "stderr",
     "output_type": "stream",
     "text": [
      " 22%|██▏       | 43/200 [00:00<00:00, 422.24it/s]"
     ]
    },
    {
     "name": "stdout",
     "output_type": "stream",
     "text": [
      "pred: 0 - target: 0 - loss: 0.000 - raw pred: tensor([[ 10.5764, -10.0824]], device='cuda:0')\n",
      "matching = [True] - accuracy = 1.0\n",
      "matching = [True] - accuracy = 1.0\n",
      "matching = [True] - accuracy = 1.0\n",
      "matching = [True] - accuracy = 1.0\n",
      "matching = [True] - accuracy = 1.0\n",
      "matching = [True] - accuracy = 1.0\n",
      "matching = [True] - accuracy = 1.0\n",
      "matching = [True] - accuracy = 1.0\n",
      "matching = [True] - accuracy = 1.0\n"
     ]
    },
    {
     "name": "stderr",
     "output_type": "stream",
     "text": [
      " 86%|████████▌ | 171/200 [00:00<00:00, 419.21it/s]"
     ]
    },
    {
     "name": "stdout",
     "output_type": "stream",
     "text": [
      "matching = [True] - accuracy = 1.0\n",
      "matching = [True] - accuracy = 1.0\n",
      "matching = [True] - accuracy = 1.0\n",
      "matching = [True] - accuracy = 1.0\n",
      "matching = [True] - accuracy = 1.0\n",
      "matching = [True] - accuracy = 1.0\n",
      "matching = [True] - accuracy = 1.0\n",
      "matching = [True] - accuracy = 1.0\n",
      "matching = [True] - accuracy = 1.0\n"
     ]
    },
    {
     "name": "stderr",
     "output_type": "stream",
     "text": [
      "100%|██████████| 200/200 [00:00<00:00, 418.89it/s]\n"
     ]
    },
    {
     "name": "stdout",
     "output_type": "stream",
     "text": [
      "matching = [True] - accuracy = 1.0\n",
      "matching = [True] - accuracy = 1.0\n",
      "//////////////////// Epoch: 78 ////////////////////\n"
     ]
    },
    {
     "name": "stderr",
     "output_type": "stream",
     "text": [
      "  2%|▏         | 17/800 [00:00<00:04, 163.07it/s]"
     ]
    },
    {
     "name": "stdout",
     "output_type": "stream",
     "text": [
      "pred: 1 - target: 1 - loss: 0.003 - raw pred: tensor([[-2.9181,  2.9198]], device='cuda:0', grad_fn=<AddmmBackward0>)\n"
     ]
    },
    {
     "name": "stderr",
     "output_type": "stream",
     "text": [
      "100%|██████████| 800/800 [00:04<00:00, 164.01it/s]\n"
     ]
    },
    {
     "name": "stdout",
     "output_type": "stream",
     "text": [
      "//////////////////// Validation ////////////////////\n"
     ]
    },
    {
     "name": "stderr",
     "output_type": "stream",
     "text": [
      " 22%|██▏       | 43/200 [00:00<00:00, 421.61it/s]"
     ]
    },
    {
     "name": "stdout",
     "output_type": "stream",
     "text": [
      "pred: 1 - target: 0 - loss: 1.386 - raw pred: tensor([[-0.5533,  0.5446]], device='cuda:0')\n",
      "matching = [False] - accuracy = 0.0\n",
      "matching = [False] - accuracy = 0.0\n",
      "matching = [True] - accuracy = 1.0\n",
      "matching = [True] - accuracy = 1.0\n",
      "matching = [True] - accuracy = 1.0\n",
      "matching = [True] - accuracy = 1.0\n",
      "matching = [True] - accuracy = 1.0\n",
      "matching = [True] - accuracy = 1.0\n",
      "matching = [True] - accuracy = 1.0\n"
     ]
    },
    {
     "name": "stderr",
     "output_type": "stream",
     "text": [
      " 86%|████████▌ | 172/200 [00:00<00:00, 422.92it/s]"
     ]
    },
    {
     "name": "stdout",
     "output_type": "stream",
     "text": [
      "matching = [True] - accuracy = 1.0\n",
      "matching = [True] - accuracy = 1.0\n",
      "matching = [False] - accuracy = 0.0\n",
      "matching = [True] - accuracy = 1.0\n",
      "matching = [True] - accuracy = 1.0\n",
      "matching = [True] - accuracy = 1.0\n",
      "matching = [True] - accuracy = 1.0\n",
      "matching = [True] - accuracy = 1.0\n",
      "matching = [True] - accuracy = 1.0\n"
     ]
    },
    {
     "name": "stderr",
     "output_type": "stream",
     "text": [
      "100%|██████████| 200/200 [00:00<00:00, 421.46it/s]\n"
     ]
    },
    {
     "name": "stdout",
     "output_type": "stream",
     "text": [
      "matching = [True] - accuracy = 1.0\n",
      "matching = [True] - accuracy = 1.0\n",
      "//////////////////// Epoch: 79 ////////////////////\n"
     ]
    },
    {
     "name": "stderr",
     "output_type": "stream",
     "text": [
      "  2%|▏         | 17/800 [00:00<00:04, 169.66it/s]"
     ]
    },
    {
     "name": "stdout",
     "output_type": "stream",
     "text": [
      "pred: 1 - target: 1 - loss: 0.001 - raw pred: tensor([[-3.6304,  3.6045]], device='cuda:0', grad_fn=<AddmmBackward0>)\n"
     ]
    },
    {
     "name": "stderr",
     "output_type": "stream",
     "text": [
      "100%|██████████| 800/800 [00:04<00:00, 167.65it/s]\n"
     ]
    },
    {
     "name": "stdout",
     "output_type": "stream",
     "text": [
      "//////////////////// Validation ////////////////////\n"
     ]
    },
    {
     "name": "stderr",
     "output_type": "stream",
     "text": [
      " 22%|██▏       | 43/200 [00:00<00:00, 423.04it/s]"
     ]
    },
    {
     "name": "stdout",
     "output_type": "stream",
     "text": [
      "pred: 0 - target: 0 - loss: 0.000 - raw pred: tensor([[ 4.3129, -4.1153]], device='cuda:0')\n",
      "matching = [True] - accuracy = 1.0\n",
      "matching = [True] - accuracy = 1.0\n",
      "matching = [True] - accuracy = 1.0\n",
      "matching = [True] - accuracy = 1.0\n",
      "matching = [True] - accuracy = 1.0\n",
      "matching = [True] - accuracy = 1.0\n",
      "matching = [True] - accuracy = 1.0\n",
      "matching = [True] - accuracy = 1.0\n",
      "matching = [True] - accuracy = 1.0\n"
     ]
    },
    {
     "name": "stderr",
     "output_type": "stream",
     "text": [
      " 86%|████████▌ | 172/200 [00:00<00:00, 422.88it/s]"
     ]
    },
    {
     "name": "stdout",
     "output_type": "stream",
     "text": [
      "matching = [True] - accuracy = 1.0\n",
      "matching = [True] - accuracy = 1.0\n",
      "matching = [True] - accuracy = 1.0\n",
      "matching = [True] - accuracy = 1.0\n",
      "matching = [True] - accuracy = 1.0\n",
      "matching = [True] - accuracy = 1.0\n",
      "matching = [True] - accuracy = 1.0\n",
      "matching = [True] - accuracy = 1.0\n",
      "matching = [True] - accuracy = 1.0\n"
     ]
    },
    {
     "name": "stderr",
     "output_type": "stream",
     "text": [
      "100%|██████████| 200/200 [00:00<00:00, 419.61it/s]\n"
     ]
    },
    {
     "name": "stdout",
     "output_type": "stream",
     "text": [
      "matching = [True] - accuracy = 1.0\n",
      "matching = [True] - accuracy = 1.0\n",
      "//////////////////// Epoch: 80 ////////////////////\n"
     ]
    },
    {
     "name": "stderr",
     "output_type": "stream",
     "text": [
      "  2%|▏         | 17/800 [00:00<00:04, 166.15it/s]"
     ]
    },
    {
     "name": "stdout",
     "output_type": "stream",
     "text": [
      "pred: 0 - target: 0 - loss: 0.000 - raw pred: tensor([[ 4.1820, -3.9942]], device='cuda:0', grad_fn=<AddmmBackward0>)\n"
     ]
    },
    {
     "name": "stderr",
     "output_type": "stream",
     "text": [
      "100%|██████████| 800/800 [00:04<00:00, 165.15it/s]\n"
     ]
    },
    {
     "name": "stdout",
     "output_type": "stream",
     "text": [
      "//////////////////// Validation ////////////////////\n"
     ]
    },
    {
     "name": "stderr",
     "output_type": "stream",
     "text": [
      " 21%|██        | 42/200 [00:00<00:00, 419.29it/s]"
     ]
    },
    {
     "name": "stdout",
     "output_type": "stream",
     "text": [
      "pred: 0 - target: 0 - loss: 0.000 - raw pred: tensor([[ 6.7447, -6.4401]], device='cuda:0')\n",
      "matching = [True] - accuracy = 1.0\n",
      "matching = [True] - accuracy = 1.0\n",
      "matching = [True] - accuracy = 1.0\n",
      "matching = [True] - accuracy = 1.0\n",
      "matching = [True] - accuracy = 1.0\n",
      "matching = [True] - accuracy = 1.0\n",
      "matching = [True] - accuracy = 1.0\n",
      "matching = [True] - accuracy = 1.0\n",
      "matching = [True] - accuracy = 1.0\n"
     ]
    },
    {
     "name": "stderr",
     "output_type": "stream",
     "text": [
      " 86%|████████▌ | 171/200 [00:00<00:00, 423.39it/s]"
     ]
    },
    {
     "name": "stdout",
     "output_type": "stream",
     "text": [
      "matching = [True] - accuracy = 1.0\n",
      "matching = [True] - accuracy = 1.0\n",
      "matching = [True] - accuracy = 1.0\n",
      "matching = [True] - accuracy = 1.0\n",
      "matching = [True] - accuracy = 1.0\n",
      "matching = [True] - accuracy = 1.0\n",
      "matching = [True] - accuracy = 1.0\n",
      "matching = [True] - accuracy = 1.0\n",
      "matching = [True] - accuracy = 1.0\n"
     ]
    },
    {
     "name": "stderr",
     "output_type": "stream",
     "text": [
      "100%|██████████| 200/200 [00:00<00:00, 421.74it/s]\n"
     ]
    },
    {
     "name": "stdout",
     "output_type": "stream",
     "text": [
      "matching = [True] - accuracy = 1.0\n",
      "matching = [True] - accuracy = 1.0\n",
      "//////////////////// Epoch: 81 ////////////////////\n"
     ]
    },
    {
     "name": "stderr",
     "output_type": "stream",
     "text": [
      "  2%|▏         | 17/800 [00:00<00:04, 167.50it/s]"
     ]
    },
    {
     "name": "stdout",
     "output_type": "stream",
     "text": [
      "pred: 1 - target: 1 - loss: 0.000 - raw pred: tensor([[-3.8871,  3.8527]], device='cuda:0', grad_fn=<AddmmBackward0>)\n"
     ]
    },
    {
     "name": "stderr",
     "output_type": "stream",
     "text": [
      "100%|██████████| 800/800 [00:04<00:00, 166.93it/s]\n"
     ]
    },
    {
     "name": "stdout",
     "output_type": "stream",
     "text": [
      "//////////////////// Validation ////////////////////\n"
     ]
    },
    {
     "name": "stderr",
     "output_type": "stream",
     "text": [
      " 22%|██▏       | 43/200 [00:00<00:00, 423.04it/s]"
     ]
    },
    {
     "name": "stdout",
     "output_type": "stream",
     "text": [
      "pred: 0 - target: 0 - loss: 0.000 - raw pred: tensor([[ 5.4849, -5.2367]], device='cuda:0')\n",
      "matching = [True] - accuracy = 1.0\n",
      "matching = [True] - accuracy = 1.0\n",
      "matching = [True] - accuracy = 1.0\n",
      "matching = [True] - accuracy = 1.0\n",
      "matching = [True] - accuracy = 1.0\n",
      "matching = [True] - accuracy = 1.0\n",
      "matching = [True] - accuracy = 1.0\n",
      "matching = [True] - accuracy = 1.0\n",
      "matching = [True] - accuracy = 1.0\n"
     ]
    },
    {
     "name": "stderr",
     "output_type": "stream",
     "text": [
      " 86%|████████▌ | 172/200 [00:00<00:00, 426.00it/s]"
     ]
    },
    {
     "name": "stdout",
     "output_type": "stream",
     "text": [
      "matching = [True] - accuracy = 1.0\n",
      "matching = [True] - accuracy = 1.0\n",
      "matching = [True] - accuracy = 1.0\n",
      "matching = [True] - accuracy = 1.0\n",
      "matching = [True] - accuracy = 1.0\n",
      "matching = [True] - accuracy = 1.0\n",
      "matching = [True] - accuracy = 1.0\n",
      "matching = [True] - accuracy = 1.0\n",
      "matching = [True] - accuracy = 1.0\n"
     ]
    },
    {
     "name": "stderr",
     "output_type": "stream",
     "text": [
      "100%|██████████| 200/200 [00:00<00:00, 424.96it/s]\n"
     ]
    },
    {
     "name": "stdout",
     "output_type": "stream",
     "text": [
      "matching = [True] - accuracy = 1.0\n",
      "matching = [True] - accuracy = 1.0\n",
      "//////////////////// Epoch: 82 ////////////////////\n"
     ]
    },
    {
     "name": "stderr",
     "output_type": "stream",
     "text": [
      "  2%|▏         | 17/800 [00:00<00:04, 165.26it/s]"
     ]
    },
    {
     "name": "stdout",
     "output_type": "stream",
     "text": [
      "pred: 1 - target: 1 - loss: 0.000 - raw pred: tensor([[-4.0040,  3.9964]], device='cuda:0', grad_fn=<AddmmBackward0>)\n"
     ]
    },
    {
     "name": "stderr",
     "output_type": "stream",
     "text": [
      "100%|██████████| 800/800 [00:04<00:00, 170.81it/s]\n"
     ]
    },
    {
     "name": "stdout",
     "output_type": "stream",
     "text": [
      "//////////////////// Validation ////////////////////\n"
     ]
    },
    {
     "name": "stderr",
     "output_type": "stream",
     "text": [
      " 22%|██▏       | 43/200 [00:00<00:00, 425.38it/s]"
     ]
    },
    {
     "name": "stdout",
     "output_type": "stream",
     "text": [
      "pred: 0 - target: 0 - loss: 0.000 - raw pred: tensor([[ 8.7821, -8.3837]], device='cuda:0')\n",
      "matching = [True] - accuracy = 1.0\n",
      "matching = [True] - accuracy = 1.0\n",
      "matching = [True] - accuracy = 1.0\n",
      "matching = [True] - accuracy = 1.0\n",
      "matching = [True] - accuracy = 1.0\n",
      "matching = [True] - accuracy = 1.0\n",
      "matching = [True] - accuracy = 1.0\n",
      "matching = [True] - accuracy = 1.0\n",
      "matching = [True] - accuracy = 1.0\n"
     ]
    },
    {
     "name": "stderr",
     "output_type": "stream",
     "text": [
      " 86%|████████▌ | 172/200 [00:00<00:00, 422.76it/s]"
     ]
    },
    {
     "name": "stdout",
     "output_type": "stream",
     "text": [
      "matching = [True] - accuracy = 1.0\n",
      "matching = [True] - accuracy = 1.0\n",
      "matching = [True] - accuracy = 1.0\n",
      "matching = [True] - accuracy = 1.0\n",
      "matching = [True] - accuracy = 1.0\n",
      "matching = [True] - accuracy = 1.0\n",
      "matching = [True] - accuracy = 1.0\n",
      "matching = [True] - accuracy = 1.0\n",
      "matching = [True] - accuracy = 1.0\n"
     ]
    },
    {
     "name": "stderr",
     "output_type": "stream",
     "text": [
      "100%|██████████| 200/200 [00:00<00:00, 421.50it/s]\n"
     ]
    },
    {
     "name": "stdout",
     "output_type": "stream",
     "text": [
      "matching = [True] - accuracy = 1.0\n",
      "matching = [True] - accuracy = 1.0\n",
      "//////////////////// Epoch: 83 ////////////////////\n"
     ]
    },
    {
     "name": "stderr",
     "output_type": "stream",
     "text": [
      "  2%|▏         | 17/800 [00:00<00:04, 163.87it/s]"
     ]
    },
    {
     "name": "stdout",
     "output_type": "stream",
     "text": [
      "pred: 0 - target: 0 - loss: 0.000 - raw pred: tensor([[ 7.9120, -7.5527]], device='cuda:0', grad_fn=<AddmmBackward0>)\n"
     ]
    },
    {
     "name": "stderr",
     "output_type": "stream",
     "text": [
      "100%|██████████| 800/800 [00:04<00:00, 165.69it/s]\n"
     ]
    },
    {
     "name": "stdout",
     "output_type": "stream",
     "text": [
      "//////////////////// Validation ////////////////////\n"
     ]
    },
    {
     "name": "stderr",
     "output_type": "stream",
     "text": [
      " 21%|██        | 42/200 [00:00<00:00, 412.43it/s]"
     ]
    },
    {
     "name": "stdout",
     "output_type": "stream",
     "text": [
      "pred: 0 - target: 0 - loss: 0.000 - raw pred: tensor([[ 10.9685, -10.4756]], device='cuda:0')\n",
      "matching = [True] - accuracy = 1.0\n",
      "matching = [True] - accuracy = 1.0\n",
      "matching = [True] - accuracy = 1.0\n",
      "matching = [True] - accuracy = 1.0\n",
      "matching = [True] - accuracy = 1.0\n",
      "matching = [True] - accuracy = 1.0\n",
      "matching = [True] - accuracy = 1.0\n",
      "matching = [True] - accuracy = 1.0\n",
      "matching = [True] - accuracy = 1.0\n"
     ]
    },
    {
     "name": "stderr",
     "output_type": "stream",
     "text": [
      " 84%|████████▍ | 169/200 [00:00<00:00, 416.89it/s]"
     ]
    },
    {
     "name": "stdout",
     "output_type": "stream",
     "text": [
      "matching = [True] - accuracy = 1.0\n",
      "matching = [True] - accuracy = 1.0\n",
      "matching = [True] - accuracy = 1.0\n",
      "matching = [True] - accuracy = 1.0\n",
      "matching = [True] - accuracy = 1.0\n",
      "matching = [True] - accuracy = 1.0\n",
      "matching = [True] - accuracy = 1.0\n",
      "matching = [True] - accuracy = 1.0\n",
      "matching = [True] - accuracy = 1.0\n"
     ]
    },
    {
     "name": "stderr",
     "output_type": "stream",
     "text": [
      "100%|██████████| 200/200 [00:00<00:00, 417.17it/s]\n"
     ]
    },
    {
     "name": "stdout",
     "output_type": "stream",
     "text": [
      "matching = [True] - accuracy = 1.0\n",
      "matching = [True] - accuracy = 1.0\n",
      "//////////////////// Epoch: 84 ////////////////////\n"
     ]
    },
    {
     "name": "stderr",
     "output_type": "stream",
     "text": [
      "  2%|▏         | 17/800 [00:00<00:04, 165.62it/s]"
     ]
    },
    {
     "name": "stdout",
     "output_type": "stream",
     "text": [
      "pred: 1 - target: 1 - loss: 0.000 - raw pred: tensor([[-6.4880,  6.4853]], device='cuda:0', grad_fn=<AddmmBackward0>)\n"
     ]
    },
    {
     "name": "stderr",
     "output_type": "stream",
     "text": [
      "100%|██████████| 800/800 [00:04<00:00, 167.60it/s]\n"
     ]
    },
    {
     "name": "stdout",
     "output_type": "stream",
     "text": [
      "//////////////////// Validation ////////////////////\n"
     ]
    },
    {
     "name": "stderr",
     "output_type": "stream",
     "text": [
      " 22%|██▏       | 43/200 [00:00<00:00, 422.34it/s]"
     ]
    },
    {
     "name": "stdout",
     "output_type": "stream",
     "text": [
      "pred: 0 - target: 0 - loss: 0.000 - raw pred: tensor([[ 8.7096, -8.3330]], device='cuda:0')\n",
      "matching = [True] - accuracy = 1.0\n",
      "matching = [True] - accuracy = 1.0\n",
      "matching = [True] - accuracy = 1.0\n",
      "matching = [True] - accuracy = 1.0\n",
      "matching = [True] - accuracy = 1.0\n",
      "matching = [True] - accuracy = 1.0\n",
      "matching = [True] - accuracy = 1.0\n",
      "matching = [True] - accuracy = 1.0\n",
      "matching = [True] - accuracy = 1.0\n"
     ]
    },
    {
     "name": "stderr",
     "output_type": "stream",
     "text": [
      " 86%|████████▌ | 172/200 [00:00<00:00, 421.53it/s]"
     ]
    },
    {
     "name": "stdout",
     "output_type": "stream",
     "text": [
      "matching = [True] - accuracy = 1.0\n",
      "matching = [True] - accuracy = 1.0\n",
      "matching = [True] - accuracy = 1.0\n",
      "matching = [True] - accuracy = 1.0\n",
      "matching = [True] - accuracy = 1.0\n",
      "matching = [True] - accuracy = 1.0\n",
      "matching = [True] - accuracy = 1.0\n",
      "matching = [True] - accuracy = 1.0\n",
      "matching = [True] - accuracy = 1.0\n"
     ]
    },
    {
     "name": "stderr",
     "output_type": "stream",
     "text": [
      "100%|██████████| 200/200 [00:00<00:00, 420.81it/s]\n"
     ]
    },
    {
     "name": "stdout",
     "output_type": "stream",
     "text": [
      "matching = [True] - accuracy = 1.0\n",
      "matching = [True] - accuracy = 1.0\n",
      "//////////////////// Epoch: 85 ////////////////////\n"
     ]
    },
    {
     "name": "stderr",
     "output_type": "stream",
     "text": [
      "  2%|▏         | 17/800 [00:00<00:04, 164.21it/s]"
     ]
    },
    {
     "name": "stdout",
     "output_type": "stream",
     "text": [
      "pred: 1 - target: 1 - loss: 0.000 - raw pred: tensor([[-5.4354,  5.4303]], device='cuda:0', grad_fn=<AddmmBackward0>)\n"
     ]
    },
    {
     "name": "stderr",
     "output_type": "stream",
     "text": [
      "100%|██████████| 800/800 [00:04<00:00, 168.59it/s]\n"
     ]
    },
    {
     "name": "stdout",
     "output_type": "stream",
     "text": [
      "//////////////////// Validation ////////////////////\n"
     ]
    },
    {
     "name": "stderr",
     "output_type": "stream",
     "text": [
      " 21%|██        | 42/200 [00:00<00:00, 411.46it/s]"
     ]
    },
    {
     "name": "stdout",
     "output_type": "stream",
     "text": [
      "pred: 0 - target: 0 - loss: 0.000 - raw pred: tensor([[ 8.6678, -8.3030]], device='cuda:0')\n",
      "matching = [True] - accuracy = 1.0\n",
      "matching = [True] - accuracy = 1.0\n",
      "matching = [True] - accuracy = 1.0\n",
      "matching = [True] - accuracy = 1.0\n",
      "matching = [True] - accuracy = 1.0\n",
      "matching = [True] - accuracy = 1.0\n",
      "matching = [True] - accuracy = 1.0\n",
      "matching = [True] - accuracy = 1.0\n",
      "matching = [True] - accuracy = 1.0\n"
     ]
    },
    {
     "name": "stderr",
     "output_type": "stream",
     "text": [
      " 85%|████████▌ | 170/200 [00:00<00:00, 419.50it/s]"
     ]
    },
    {
     "name": "stdout",
     "output_type": "stream",
     "text": [
      "matching = [True] - accuracy = 1.0\n",
      "matching = [True] - accuracy = 1.0\n",
      "matching = [True] - accuracy = 1.0\n",
      "matching = [True] - accuracy = 1.0\n",
      "matching = [True] - accuracy = 1.0\n",
      "matching = [True] - accuracy = 1.0\n",
      "matching = [True] - accuracy = 1.0\n",
      "matching = [True] - accuracy = 1.0\n",
      "matching = [True] - accuracy = 1.0\n"
     ]
    },
    {
     "name": "stderr",
     "output_type": "stream",
     "text": [
      "100%|██████████| 200/200 [00:00<00:00, 416.86it/s]\n"
     ]
    },
    {
     "name": "stdout",
     "output_type": "stream",
     "text": [
      "matching = [True] - accuracy = 1.0\n",
      "matching = [False] - accuracy = 0.0\n",
      "//////////////////// Epoch: 86 ////////////////////\n"
     ]
    },
    {
     "name": "stderr",
     "output_type": "stream",
     "text": [
      "  2%|▏         | 17/800 [00:00<00:04, 162.72it/s]"
     ]
    },
    {
     "name": "stdout",
     "output_type": "stream",
     "text": [
      "pred: 1 - target: 1 - loss: 0.000 - raw pred: tensor([[-5.1876,  5.1749]], device='cuda:0', grad_fn=<AddmmBackward0>)\n"
     ]
    },
    {
     "name": "stderr",
     "output_type": "stream",
     "text": [
      "100%|██████████| 800/800 [00:04<00:00, 163.05it/s]\n"
     ]
    },
    {
     "name": "stdout",
     "output_type": "stream",
     "text": [
      "//////////////////// Validation ////////////////////\n"
     ]
    },
    {
     "name": "stderr",
     "output_type": "stream",
     "text": [
      " 22%|██▏       | 43/200 [00:00<00:00, 421.04it/s]"
     ]
    },
    {
     "name": "stdout",
     "output_type": "stream",
     "text": [
      "pred: 0 - target: 0 - loss: 0.000 - raw pred: tensor([[ 5.8759, -5.6415]], device='cuda:0')\n",
      "matching = [True] - accuracy = 1.0\n",
      "matching = [True] - accuracy = 1.0\n",
      "matching = [True] - accuracy = 1.0\n",
      "matching = [True] - accuracy = 1.0\n",
      "matching = [True] - accuracy = 1.0\n",
      "matching = [True] - accuracy = 1.0\n",
      "matching = [True] - accuracy = 1.0\n",
      "matching = [True] - accuracy = 1.0\n",
      "matching = [True] - accuracy = 1.0\n"
     ]
    },
    {
     "name": "stderr",
     "output_type": "stream",
     "text": [
      " 86%|████████▌ | 172/200 [00:00<00:00, 421.66it/s]"
     ]
    },
    {
     "name": "stdout",
     "output_type": "stream",
     "text": [
      "matching = [True] - accuracy = 1.0\n",
      "matching = [True] - accuracy = 1.0\n",
      "matching = [True] - accuracy = 1.0\n",
      "matching = [True] - accuracy = 1.0\n",
      "matching = [True] - accuracy = 1.0\n",
      "matching = [True] - accuracy = 1.0\n",
      "matching = [True] - accuracy = 1.0\n",
      "matching = [True] - accuracy = 1.0\n",
      "matching = [True] - accuracy = 1.0\n"
     ]
    },
    {
     "name": "stderr",
     "output_type": "stream",
     "text": [
      "100%|██████████| 200/200 [00:00<00:00, 421.19it/s]\n"
     ]
    },
    {
     "name": "stdout",
     "output_type": "stream",
     "text": [
      "matching = [True] - accuracy = 1.0\n",
      "matching = [True] - accuracy = 1.0\n",
      "//////////////////// Epoch: 87 ////////////////////\n"
     ]
    },
    {
     "name": "stderr",
     "output_type": "stream",
     "text": [
      "  2%|▏         | 17/800 [00:00<00:04, 169.14it/s]"
     ]
    },
    {
     "name": "stdout",
     "output_type": "stream",
     "text": [
      "pred: 0 - target: 0 - loss: 0.000 - raw pred: tensor([[10.1298, -9.7148]], device='cuda:0', grad_fn=<AddmmBackward0>)\n"
     ]
    },
    {
     "name": "stderr",
     "output_type": "stream",
     "text": [
      "100%|██████████| 800/800 [00:04<00:00, 164.16it/s]\n"
     ]
    },
    {
     "name": "stdout",
     "output_type": "stream",
     "text": [
      "//////////////////// Validation ////////////////////\n"
     ]
    },
    {
     "name": "stderr",
     "output_type": "stream",
     "text": [
      " 21%|██        | 42/200 [00:00<00:00, 417.48it/s]"
     ]
    },
    {
     "name": "stdout",
     "output_type": "stream",
     "text": [
      "pred: 0 - target: 0 - loss: 0.000 - raw pred: tensor([[ 7.6468, -7.3512]], device='cuda:0')\n",
      "matching = [True] - accuracy = 1.0\n",
      "matching = [True] - accuracy = 1.0\n",
      "matching = [True] - accuracy = 1.0\n",
      "matching = [True] - accuracy = 1.0\n",
      "matching = [True] - accuracy = 1.0\n",
      "matching = [True] - accuracy = 1.0\n",
      "matching = [True] - accuracy = 1.0\n",
      "matching = [True] - accuracy = 1.0\n",
      "matching = [True] - accuracy = 1.0\n"
     ]
    },
    {
     "name": "stderr",
     "output_type": "stream",
     "text": [
      " 86%|████████▌ | 172/200 [00:00<00:00, 423.85it/s]"
     ]
    },
    {
     "name": "stdout",
     "output_type": "stream",
     "text": [
      "matching = [True] - accuracy = 1.0\n",
      "matching = [True] - accuracy = 1.0\n",
      "matching = [True] - accuracy = 1.0\n",
      "matching = [True] - accuracy = 1.0\n",
      "matching = [True] - accuracy = 1.0\n",
      "matching = [True] - accuracy = 1.0\n",
      "matching = [True] - accuracy = 1.0\n",
      "matching = [True] - accuracy = 1.0\n",
      "matching = [True] - accuracy = 1.0\n"
     ]
    },
    {
     "name": "stderr",
     "output_type": "stream",
     "text": [
      "100%|██████████| 200/200 [00:00<00:00, 423.17it/s]\n"
     ]
    },
    {
     "name": "stdout",
     "output_type": "stream",
     "text": [
      "matching = [True] - accuracy = 1.0\n",
      "matching = [True] - accuracy = 1.0\n",
      "//////////////////// Epoch: 88 ////////////////////\n"
     ]
    },
    {
     "name": "stderr",
     "output_type": "stream",
     "text": [
      "  2%|▏         | 17/800 [00:00<00:04, 161.85it/s]"
     ]
    },
    {
     "name": "stdout",
     "output_type": "stream",
     "text": [
      "pred: 1 - target: 1 - loss: 0.000 - raw pred: tensor([[-6.3712,  6.3644]], device='cuda:0', grad_fn=<AddmmBackward0>)\n"
     ]
    },
    {
     "name": "stderr",
     "output_type": "stream",
     "text": [
      "100%|██████████| 800/800 [00:04<00:00, 161.85it/s]\n"
     ]
    },
    {
     "name": "stdout",
     "output_type": "stream",
     "text": [
      "//////////////////// Validation ////////////////////\n"
     ]
    },
    {
     "name": "stderr",
     "output_type": "stream",
     "text": [
      " 22%|██▏       | 43/200 [00:00<00:00, 422.93it/s]"
     ]
    },
    {
     "name": "stdout",
     "output_type": "stream",
     "text": [
      "pred: 1 - target: 1 - loss: 0.000 - raw pred: tensor([[-5.2560,  5.2346]], device='cuda:0')\n",
      "matching = [True] - accuracy = 1.0\n",
      "matching = [True] - accuracy = 1.0\n",
      "matching = [True] - accuracy = 1.0\n",
      "matching = [True] - accuracy = 1.0\n",
      "matching = [True] - accuracy = 1.0\n",
      "matching = [True] - accuracy = 1.0\n",
      "matching = [True] - accuracy = 1.0\n",
      "matching = [True] - accuracy = 1.0\n",
      "matching = [True] - accuracy = 1.0\n"
     ]
    },
    {
     "name": "stderr",
     "output_type": "stream",
     "text": [
      " 86%|████████▌ | 172/200 [00:00<00:00, 423.35it/s]"
     ]
    },
    {
     "name": "stdout",
     "output_type": "stream",
     "text": [
      "matching = [True] - accuracy = 1.0\n",
      "matching = [True] - accuracy = 1.0\n",
      "matching = [True] - accuracy = 1.0\n",
      "matching = [True] - accuracy = 1.0\n",
      "matching = [True] - accuracy = 1.0\n",
      "matching = [True] - accuracy = 1.0\n",
      "matching = [True] - accuracy = 1.0\n",
      "matching = [True] - accuracy = 1.0\n",
      "matching = [True] - accuracy = 1.0\n"
     ]
    },
    {
     "name": "stderr",
     "output_type": "stream",
     "text": [
      "100%|██████████| 200/200 [00:00<00:00, 422.76it/s]\n"
     ]
    },
    {
     "name": "stdout",
     "output_type": "stream",
     "text": [
      "matching = [True] - accuracy = 1.0\n",
      "matching = [True] - accuracy = 1.0\n",
      "//////////////////// Epoch: 89 ////////////////////\n"
     ]
    },
    {
     "name": "stderr",
     "output_type": "stream",
     "text": [
      "  2%|▏         | 17/800 [00:00<00:04, 167.23it/s]"
     ]
    },
    {
     "name": "stdout",
     "output_type": "stream",
     "text": [
      "pred: 1 - target: 1 - loss: 0.001 - raw pred: tensor([[-3.6906,  3.6707]], device='cuda:0', grad_fn=<AddmmBackward0>)\n"
     ]
    },
    {
     "name": "stderr",
     "output_type": "stream",
     "text": [
      "100%|██████████| 800/800 [00:04<00:00, 166.02it/s]\n"
     ]
    },
    {
     "name": "stdout",
     "output_type": "stream",
     "text": [
      "//////////////////// Validation ////////////////////\n"
     ]
    },
    {
     "name": "stderr",
     "output_type": "stream",
     "text": [
      " 21%|██        | 42/200 [00:00<00:00, 418.41it/s]"
     ]
    },
    {
     "name": "stdout",
     "output_type": "stream",
     "text": [
      "pred: 0 - target: 0 - loss: 0.001 - raw pred: tensor([[ 3.7198, -3.5847]], device='cuda:0')\n",
      "matching = [True] - accuracy = 1.0\n",
      "matching = [True] - accuracy = 1.0\n",
      "matching = [True] - accuracy = 1.0\n",
      "matching = [True] - accuracy = 1.0\n",
      "matching = [True] - accuracy = 1.0\n",
      "matching = [True] - accuracy = 1.0\n",
      "matching = [True] - accuracy = 1.0\n",
      "matching = [True] - accuracy = 1.0\n",
      "matching = [True] - accuracy = 1.0\n"
     ]
    },
    {
     "name": "stderr",
     "output_type": "stream",
     "text": [
      " 85%|████████▌ | 170/200 [00:00<00:00, 421.90it/s]"
     ]
    },
    {
     "name": "stdout",
     "output_type": "stream",
     "text": [
      "matching = [True] - accuracy = 1.0\n",
      "matching = [False] - accuracy = 0.0\n",
      "matching = [True] - accuracy = 1.0\n",
      "matching = [True] - accuracy = 1.0\n",
      "matching = [True] - accuracy = 1.0\n",
      "matching = [True] - accuracy = 1.0\n",
      "matching = [True] - accuracy = 1.0\n",
      "matching = [True] - accuracy = 1.0\n",
      "matching = [True] - accuracy = 1.0\n"
     ]
    },
    {
     "name": "stderr",
     "output_type": "stream",
     "text": [
      "100%|██████████| 200/200 [00:00<00:00, 414.88it/s]\n"
     ]
    },
    {
     "name": "stdout",
     "output_type": "stream",
     "text": [
      "matching = [True] - accuracy = 1.0\n",
      "matching = [True] - accuracy = 1.0\n",
      "//////////////////// Epoch: 90 ////////////////////\n"
     ]
    },
    {
     "name": "stderr",
     "output_type": "stream",
     "text": [
      "  2%|▏         | 17/800 [00:00<00:04, 162.90it/s]"
     ]
    },
    {
     "name": "stdout",
     "output_type": "stream",
     "text": [
      "pred: 1 - target: 1 - loss: 0.001 - raw pred: tensor([[-3.4391,  3.4216]], device='cuda:0', grad_fn=<AddmmBackward0>)\n"
     ]
    },
    {
     "name": "stderr",
     "output_type": "stream",
     "text": [
      "100%|██████████| 800/800 [00:04<00:00, 164.51it/s]\n"
     ]
    },
    {
     "name": "stdout",
     "output_type": "stream",
     "text": [
      "//////////////////// Validation ////////////////////\n"
     ]
    },
    {
     "name": "stderr",
     "output_type": "stream",
     "text": [
      " 21%|██        | 42/200 [00:00<00:00, 412.84it/s]"
     ]
    },
    {
     "name": "stdout",
     "output_type": "stream",
     "text": [
      "pred: 0 - target: 0 - loss: 0.000 - raw pred: tensor([[ 4.5326, -4.3594]], device='cuda:0')\n",
      "matching = [True] - accuracy = 1.0\n",
      "matching = [True] - accuracy = 1.0\n",
      "matching = [True] - accuracy = 1.0\n",
      "matching = [True] - accuracy = 1.0\n",
      "matching = [True] - accuracy = 1.0\n",
      "matching = [True] - accuracy = 1.0\n",
      "matching = [True] - accuracy = 1.0\n",
      "matching = [True] - accuracy = 1.0\n",
      "matching = [True] - accuracy = 1.0\n"
     ]
    },
    {
     "name": "stderr",
     "output_type": "stream",
     "text": [
      " 84%|████████▍ | 169/200 [00:00<00:00, 417.81it/s]"
     ]
    },
    {
     "name": "stdout",
     "output_type": "stream",
     "text": [
      "matching = [True] - accuracy = 1.0\n",
      "matching = [True] - accuracy = 1.0\n",
      "matching = [True] - accuracy = 1.0\n",
      "matching = [True] - accuracy = 1.0\n",
      "matching = [True] - accuracy = 1.0\n",
      "matching = [True] - accuracy = 1.0\n",
      "matching = [True] - accuracy = 1.0\n",
      "matching = [True] - accuracy = 1.0\n",
      "matching = [True] - accuracy = 1.0\n"
     ]
    },
    {
     "name": "stderr",
     "output_type": "stream",
     "text": [
      "100%|██████████| 200/200 [00:00<00:00, 415.69it/s]\n"
     ]
    },
    {
     "name": "stdout",
     "output_type": "stream",
     "text": [
      "matching = [True] - accuracy = 1.0\n",
      "matching = [True] - accuracy = 1.0\n",
      "//////////////////// Epoch: 91 ////////////////////\n"
     ]
    },
    {
     "name": "stderr",
     "output_type": "stream",
     "text": [
      "  2%|▏         | 17/800 [00:00<00:04, 167.46it/s]"
     ]
    },
    {
     "name": "stdout",
     "output_type": "stream",
     "text": [
      "pred: 1 - target: 1 - loss: 0.000 - raw pred: tensor([[-7.2274,  7.2058]], device='cuda:0', grad_fn=<AddmmBackward0>)\n"
     ]
    },
    {
     "name": "stderr",
     "output_type": "stream",
     "text": [
      "100%|██████████| 800/800 [00:04<00:00, 167.47it/s]\n"
     ]
    },
    {
     "name": "stdout",
     "output_type": "stream",
     "text": [
      "//////////////////// Validation ////////////////////\n"
     ]
    },
    {
     "name": "stderr",
     "output_type": "stream",
     "text": [
      " 21%|██        | 42/200 [00:00<00:00, 415.28it/s]"
     ]
    },
    {
     "name": "stdout",
     "output_type": "stream",
     "text": [
      "pred: 0 - target: 0 - loss: 0.000 - raw pred: tensor([[ 6.3048, -6.0685]], device='cuda:0')\n",
      "matching = [True] - accuracy = 1.0\n",
      "matching = [True] - accuracy = 1.0\n",
      "matching = [True] - accuracy = 1.0\n",
      "matching = [True] - accuracy = 1.0\n",
      "matching = [True] - accuracy = 1.0\n",
      "matching = [True] - accuracy = 1.0\n",
      "matching = [True] - accuracy = 1.0\n",
      "matching = [True] - accuracy = 1.0\n",
      "matching = [True] - accuracy = 1.0\n"
     ]
    },
    {
     "name": "stderr",
     "output_type": "stream",
     "text": [
      " 86%|████████▌ | 171/200 [00:00<00:00, 421.98it/s]"
     ]
    },
    {
     "name": "stdout",
     "output_type": "stream",
     "text": [
      "matching = [True] - accuracy = 1.0\n",
      "matching = [True] - accuracy = 1.0\n",
      "matching = [True] - accuracy = 1.0\n",
      "matching = [True] - accuracy = 1.0\n",
      "matching = [True] - accuracy = 1.0\n",
      "matching = [True] - accuracy = 1.0\n",
      "matching = [True] - accuracy = 1.0\n",
      "matching = [True] - accuracy = 1.0\n",
      "matching = [True] - accuracy = 1.0\n"
     ]
    },
    {
     "name": "stderr",
     "output_type": "stream",
     "text": [
      "100%|██████████| 200/200 [00:00<00:00, 420.25it/s]\n"
     ]
    },
    {
     "name": "stdout",
     "output_type": "stream",
     "text": [
      "matching = [True] - accuracy = 1.0\n",
      "matching = [True] - accuracy = 1.0\n",
      "//////////////////// Epoch: 92 ////////////////////\n"
     ]
    },
    {
     "name": "stderr",
     "output_type": "stream",
     "text": [
      "  2%|▏         | 18/800 [00:00<00:04, 170.58it/s]"
     ]
    },
    {
     "name": "stdout",
     "output_type": "stream",
     "text": [
      "pred: 1 - target: 1 - loss: 0.002 - raw pred: tensor([[-3.1747,  3.1456]], device='cuda:0', grad_fn=<AddmmBackward0>)\n"
     ]
    },
    {
     "name": "stderr",
     "output_type": "stream",
     "text": [
      "100%|██████████| 800/800 [00:04<00:00, 166.93it/s]\n"
     ]
    },
    {
     "name": "stdout",
     "output_type": "stream",
     "text": [
      "//////////////////// Validation ////////////////////\n"
     ]
    },
    {
     "name": "stderr",
     "output_type": "stream",
     "text": [
      " 22%|██▏       | 43/200 [00:00<00:00, 422.24it/s]"
     ]
    },
    {
     "name": "stdout",
     "output_type": "stream",
     "text": [
      "pred: 1 - target: 1 - loss: 0.298 - raw pred: tensor([[-0.5238,  0.5333]], device='cuda:0')\n",
      "matching = [True] - accuracy = 1.0\n",
      "matching = [True] - accuracy = 1.0\n",
      "matching = [True] - accuracy = 1.0\n",
      "matching = [True] - accuracy = 1.0\n",
      "matching = [True] - accuracy = 1.0\n",
      "matching = [True] - accuracy = 1.0\n",
      "matching = [True] - accuracy = 1.0\n",
      "matching = [True] - accuracy = 1.0\n",
      "matching = [True] - accuracy = 1.0\n"
     ]
    },
    {
     "name": "stderr",
     "output_type": "stream",
     "text": [
      " 86%|████████▌ | 172/200 [00:00<00:00, 421.30it/s]"
     ]
    },
    {
     "name": "stdout",
     "output_type": "stream",
     "text": [
      "matching = [True] - accuracy = 1.0\n",
      "matching = [True] - accuracy = 1.0\n",
      "matching = [True] - accuracy = 1.0\n",
      "matching = [True] - accuracy = 1.0\n",
      "matching = [True] - accuracy = 1.0\n",
      "matching = [True] - accuracy = 1.0\n",
      "matching = [True] - accuracy = 1.0\n",
      "matching = [True] - accuracy = 1.0\n",
      "matching = [True] - accuracy = 1.0\n"
     ]
    },
    {
     "name": "stderr",
     "output_type": "stream",
     "text": [
      "100%|██████████| 200/200 [00:00<00:00, 420.80it/s]\n"
     ]
    },
    {
     "name": "stdout",
     "output_type": "stream",
     "text": [
      "matching = [True] - accuracy = 1.0\n",
      "matching = [True] - accuracy = 1.0\n",
      "//////////////////// Epoch: 93 ////////////////////\n"
     ]
    },
    {
     "name": "stderr",
     "output_type": "stream",
     "text": [
      "  2%|▏         | 17/800 [00:00<00:04, 164.46it/s]"
     ]
    },
    {
     "name": "stdout",
     "output_type": "stream",
     "text": [
      "pred: 1 - target: 1 - loss: 0.000 - raw pred: tensor([[-3.9935,  3.9664]], device='cuda:0', grad_fn=<AddmmBackward0>)\n"
     ]
    },
    {
     "name": "stderr",
     "output_type": "stream",
     "text": [
      "100%|██████████| 800/800 [00:04<00:00, 167.17it/s]\n"
     ]
    },
    {
     "name": "stdout",
     "output_type": "stream",
     "text": [
      "//////////////////// Validation ////////////////////\n"
     ]
    },
    {
     "name": "stderr",
     "output_type": "stream",
     "text": [
      " 21%|██        | 42/200 [00:00<00:00, 417.46it/s]"
     ]
    },
    {
     "name": "stdout",
     "output_type": "stream",
     "text": [
      "pred: 1 - target: 1 - loss: 0.064 - raw pred: tensor([[-1.3592,  1.3509]], device='cuda:0')\n",
      "matching = [True] - accuracy = 1.0\n",
      "matching = [True] - accuracy = 1.0\n",
      "matching = [True] - accuracy = 1.0\n",
      "matching = [False] - accuracy = 0.0\n",
      "matching = [True] - accuracy = 1.0\n",
      "matching = [True] - accuracy = 1.0\n",
      "matching = [True] - accuracy = 1.0\n",
      "matching = [True] - accuracy = 1.0\n",
      "matching = [True] - accuracy = 1.0\n"
     ]
    },
    {
     "name": "stderr",
     "output_type": "stream",
     "text": [
      " 86%|████████▌ | 172/200 [00:00<00:00, 425.96it/s]"
     ]
    },
    {
     "name": "stdout",
     "output_type": "stream",
     "text": [
      "matching = [True] - accuracy = 1.0\n",
      "matching = [True] - accuracy = 1.0\n",
      "matching = [True] - accuracy = 1.0\n",
      "matching = [True] - accuracy = 1.0\n",
      "matching = [True] - accuracy = 1.0\n",
      "matching = [True] - accuracy = 1.0\n",
      "matching = [True] - accuracy = 1.0\n",
      "matching = [True] - accuracy = 1.0\n",
      "matching = [False] - accuracy = 0.0\n"
     ]
    },
    {
     "name": "stderr",
     "output_type": "stream",
     "text": [
      "100%|██████████| 200/200 [00:00<00:00, 424.44it/s]\n"
     ]
    },
    {
     "name": "stdout",
     "output_type": "stream",
     "text": [
      "matching = [True] - accuracy = 1.0\n",
      "matching = [True] - accuracy = 1.0\n",
      "//////////////////// Epoch: 94 ////////////////////\n"
     ]
    },
    {
     "name": "stderr",
     "output_type": "stream",
     "text": [
      "  2%|▏         | 17/800 [00:00<00:04, 165.96it/s]"
     ]
    },
    {
     "name": "stdout",
     "output_type": "stream",
     "text": [
      "pred: 0 - target: 0 - loss: 0.000 - raw pred: tensor([[ 8.1548, -7.8513]], device='cuda:0', grad_fn=<AddmmBackward0>)\n"
     ]
    },
    {
     "name": "stderr",
     "output_type": "stream",
     "text": [
      "100%|██████████| 800/800 [00:04<00:00, 165.58it/s]\n"
     ]
    },
    {
     "name": "stdout",
     "output_type": "stream",
     "text": [
      "//////////////////// Validation ////////////////////\n"
     ]
    },
    {
     "name": "stderr",
     "output_type": "stream",
     "text": [
      " 20%|██        | 41/200 [00:00<00:00, 406.56it/s]"
     ]
    },
    {
     "name": "stdout",
     "output_type": "stream",
     "text": [
      "pred: 0 - target: 0 - loss: 0.009 - raw pred: tensor([[ 2.3801, -2.3167]], device='cuda:0')\n",
      "matching = [True] - accuracy = 1.0\n",
      "matching = [True] - accuracy = 1.0\n",
      "matching = [True] - accuracy = 1.0\n",
      "matching = [True] - accuracy = 1.0\n",
      "matching = [True] - accuracy = 1.0\n",
      "matching = [True] - accuracy = 1.0\n",
      "matching = [True] - accuracy = 1.0\n",
      "matching = [True] - accuracy = 1.0\n",
      "matching = [True] - accuracy = 1.0\n"
     ]
    },
    {
     "name": "stderr",
     "output_type": "stream",
     "text": [
      " 82%|████████▎ | 165/200 [00:00<00:00, 404.90it/s]"
     ]
    },
    {
     "name": "stdout",
     "output_type": "stream",
     "text": [
      "matching = [True] - accuracy = 1.0\n",
      "matching = [True] - accuracy = 1.0\n",
      "matching = [True] - accuracy = 1.0\n",
      "matching = [True] - accuracy = 1.0\n",
      "matching = [True] - accuracy = 1.0\n",
      "matching = [True] - accuracy = 1.0\n",
      "matching = [True] - accuracy = 1.0\n",
      "matching = [True] - accuracy = 1.0\n",
      "matching = [True] - accuracy = 1.0\n"
     ]
    },
    {
     "name": "stderr",
     "output_type": "stream",
     "text": [
      "100%|██████████| 200/200 [00:00<00:00, 404.60it/s]\n"
     ]
    },
    {
     "name": "stdout",
     "output_type": "stream",
     "text": [
      "matching = [True] - accuracy = 1.0\n",
      "matching = [True] - accuracy = 1.0\n",
      "//////////////////// Epoch: 95 ////////////////////\n"
     ]
    },
    {
     "name": "stderr",
     "output_type": "stream",
     "text": [
      "  2%|▏         | 17/800 [00:00<00:04, 160.82it/s]"
     ]
    },
    {
     "name": "stdout",
     "output_type": "stream",
     "text": [
      "pred: 1 - target: 1 - loss: 0.000 - raw pred: tensor([[-5.2464,  5.2174]], device='cuda:0', grad_fn=<AddmmBackward0>)\n"
     ]
    },
    {
     "name": "stderr",
     "output_type": "stream",
     "text": [
      "100%|██████████| 800/800 [00:04<00:00, 164.24it/s]\n"
     ]
    },
    {
     "name": "stdout",
     "output_type": "stream",
     "text": [
      "//////////////////// Validation ////////////////////\n"
     ]
    },
    {
     "name": "stderr",
     "output_type": "stream",
     "text": [
      " 22%|██▏       | 43/200 [00:00<00:00, 421.67it/s]"
     ]
    },
    {
     "name": "stdout",
     "output_type": "stream",
     "text": [
      "pred: 1 - target: 1 - loss: 0.000 - raw pred: tensor([[-5.1970,  5.1737]], device='cuda:0')\n",
      "matching = [True] - accuracy = 1.0\n",
      "matching = [True] - accuracy = 1.0\n",
      "matching = [True] - accuracy = 1.0\n",
      "matching = [True] - accuracy = 1.0\n",
      "matching = [True] - accuracy = 1.0\n",
      "matching = [True] - accuracy = 1.0\n",
      "matching = [True] - accuracy = 1.0\n",
      "matching = [True] - accuracy = 1.0\n",
      "matching = [True] - accuracy = 1.0\n"
     ]
    },
    {
     "name": "stderr",
     "output_type": "stream",
     "text": [
      " 86%|████████▌ | 172/200 [00:00<00:00, 423.13it/s]"
     ]
    },
    {
     "name": "stdout",
     "output_type": "stream",
     "text": [
      "matching = [True] - accuracy = 1.0\n",
      "matching = [True] - accuracy = 1.0\n",
      "matching = [True] - accuracy = 1.0\n",
      "matching = [True] - accuracy = 1.0\n",
      "matching = [True] - accuracy = 1.0\n",
      "matching = [True] - accuracy = 1.0\n",
      "matching = [True] - accuracy = 1.0\n",
      "matching = [True] - accuracy = 1.0\n",
      "matching = [True] - accuracy = 1.0\n"
     ]
    },
    {
     "name": "stderr",
     "output_type": "stream",
     "text": [
      "100%|██████████| 200/200 [00:00<00:00, 421.88it/s]\n"
     ]
    },
    {
     "name": "stdout",
     "output_type": "stream",
     "text": [
      "matching = [True] - accuracy = 1.0\n",
      "matching = [True] - accuracy = 1.0\n",
      "//////////////////// Epoch: 96 ////////////////////\n"
     ]
    },
    {
     "name": "stderr",
     "output_type": "stream",
     "text": [
      "  2%|▏         | 17/800 [00:00<00:04, 163.92it/s]"
     ]
    },
    {
     "name": "stdout",
     "output_type": "stream",
     "text": [
      "pred: 0 - target: 0 - loss: 0.000 - raw pred: tensor([[ 6.6409, -6.4378]], device='cuda:0', grad_fn=<AddmmBackward0>)\n"
     ]
    },
    {
     "name": "stderr",
     "output_type": "stream",
     "text": [
      "100%|██████████| 800/800 [00:04<00:00, 165.25it/s]\n"
     ]
    },
    {
     "name": "stdout",
     "output_type": "stream",
     "text": [
      "//////////////////// Validation ////////////////////\n"
     ]
    },
    {
     "name": "stderr",
     "output_type": "stream",
     "text": [
      " 21%|██        | 42/200 [00:00<00:00, 418.59it/s]"
     ]
    },
    {
     "name": "stdout",
     "output_type": "stream",
     "text": [
      "pred: 0 - target: 0 - loss: 0.000 - raw pred: tensor([[ 6.5570, -6.3584]], device='cuda:0')\n",
      "matching = [True] - accuracy = 1.0\n",
      "matching = [True] - accuracy = 1.0\n",
      "matching = [True] - accuracy = 1.0\n",
      "matching = [True] - accuracy = 1.0\n",
      "matching = [True] - accuracy = 1.0\n",
      "matching = [True] - accuracy = 1.0\n",
      "matching = [True] - accuracy = 1.0\n",
      "matching = [True] - accuracy = 1.0\n",
      "matching = [True] - accuracy = 1.0\n"
     ]
    },
    {
     "name": "stderr",
     "output_type": "stream",
     "text": [
      " 86%|████████▌ | 171/200 [00:00<00:00, 419.98it/s]"
     ]
    },
    {
     "name": "stdout",
     "output_type": "stream",
     "text": [
      "matching = [True] - accuracy = 1.0\n",
      "matching = [True] - accuracy = 1.0\n",
      "matching = [True] - accuracy = 1.0\n",
      "matching = [True] - accuracy = 1.0\n",
      "matching = [True] - accuracy = 1.0\n",
      "matching = [True] - accuracy = 1.0\n",
      "matching = [True] - accuracy = 1.0\n",
      "matching = [True] - accuracy = 1.0\n",
      "matching = [True] - accuracy = 1.0\n"
     ]
    },
    {
     "name": "stderr",
     "output_type": "stream",
     "text": [
      "100%|██████████| 200/200 [00:00<00:00, 420.00it/s]\n"
     ]
    },
    {
     "name": "stdout",
     "output_type": "stream",
     "text": [
      "matching = [True] - accuracy = 1.0\n",
      "matching = [True] - accuracy = 1.0\n",
      "//////////////////// Epoch: 97 ////////////////////\n"
     ]
    },
    {
     "name": "stderr",
     "output_type": "stream",
     "text": [
      "  2%|▏         | 17/800 [00:00<00:04, 167.21it/s]"
     ]
    },
    {
     "name": "stdout",
     "output_type": "stream",
     "text": [
      "pred: 0 - target: 0 - loss: 0.000 - raw pred: tensor([[ 4.8669, -4.7249]], device='cuda:0', grad_fn=<AddmmBackward0>)\n"
     ]
    },
    {
     "name": "stderr",
     "output_type": "stream",
     "text": [
      "100%|██████████| 800/800 [00:04<00:00, 165.93it/s]\n"
     ]
    },
    {
     "name": "stdout",
     "output_type": "stream",
     "text": [
      "//////////////////// Validation ////////////////////\n"
     ]
    },
    {
     "name": "stderr",
     "output_type": "stream",
     "text": [
      " 21%|██        | 42/200 [00:00<00:00, 411.77it/s]"
     ]
    },
    {
     "name": "stdout",
     "output_type": "stream",
     "text": [
      "pred: 0 - target: 0 - loss: 0.000 - raw pred: tensor([[ 6.1535, -5.9634]], device='cuda:0')\n",
      "matching = [True] - accuracy = 1.0\n",
      "matching = [True] - accuracy = 1.0\n",
      "matching = [True] - accuracy = 1.0\n",
      "matching = [True] - accuracy = 1.0\n",
      "matching = [False] - accuracy = 0.0\n",
      "matching = [True] - accuracy = 1.0\n",
      "matching = [False] - accuracy = 0.0\n",
      "matching = [True] - accuracy = 1.0\n",
      "matching = [True] - accuracy = 1.0\n"
     ]
    },
    {
     "name": "stderr",
     "output_type": "stream",
     "text": [
      " 84%|████████▍ | 169/200 [00:00<00:00, 416.67it/s]"
     ]
    },
    {
     "name": "stdout",
     "output_type": "stream",
     "text": [
      "matching = [True] - accuracy = 1.0\n",
      "matching = [True] - accuracy = 1.0\n",
      "matching = [True] - accuracy = 1.0\n",
      "matching = [True] - accuracy = 1.0\n",
      "matching = [True] - accuracy = 1.0\n",
      "matching = [True] - accuracy = 1.0\n",
      "matching = [True] - accuracy = 1.0\n",
      "matching = [True] - accuracy = 1.0\n",
      "matching = [True] - accuracy = 1.0\n"
     ]
    },
    {
     "name": "stderr",
     "output_type": "stream",
     "text": [
      "100%|██████████| 200/200 [00:00<00:00, 414.51it/s]\n"
     ]
    },
    {
     "name": "stdout",
     "output_type": "stream",
     "text": [
      "matching = [True] - accuracy = 1.0\n",
      "matching = [True] - accuracy = 1.0\n",
      "//////////////////// Epoch: 98 ////////////////////\n"
     ]
    },
    {
     "name": "stderr",
     "output_type": "stream",
     "text": [
      "  2%|▏         | 17/800 [00:00<00:04, 167.16it/s]"
     ]
    },
    {
     "name": "stdout",
     "output_type": "stream",
     "text": [
      "pred: 1 - target: 1 - loss: 0.000 - raw pred: tensor([[-10.7045,  10.6692]], device='cuda:0', grad_fn=<AddmmBackward0>)\n"
     ]
    },
    {
     "name": "stderr",
     "output_type": "stream",
     "text": [
      "100%|██████████| 800/800 [00:04<00:00, 166.13it/s]\n"
     ]
    },
    {
     "name": "stdout",
     "output_type": "stream",
     "text": [
      "//////////////////// Validation ////////////////////\n"
     ]
    },
    {
     "name": "stderr",
     "output_type": "stream",
     "text": [
      " 21%|██        | 42/200 [00:00<00:00, 419.35it/s]"
     ]
    },
    {
     "name": "stdout",
     "output_type": "stream",
     "text": [
      "pred: 1 - target: 1 - loss: 0.000 - raw pred: tensor([[-6.8718,  6.8149]], device='cuda:0')\n",
      "matching = [True] - accuracy = 1.0\n",
      "matching = [True] - accuracy = 1.0\n",
      "matching = [True] - accuracy = 1.0\n",
      "matching = [True] - accuracy = 1.0\n",
      "matching = [True] - accuracy = 1.0\n",
      "matching = [True] - accuracy = 1.0\n",
      "matching = [True] - accuracy = 1.0\n",
      "matching = [True] - accuracy = 1.0\n",
      "matching = [True] - accuracy = 1.0\n"
     ]
    },
    {
     "name": "stderr",
     "output_type": "stream",
     "text": [
      " 86%|████████▌ | 171/200 [00:00<00:00, 418.95it/s]"
     ]
    },
    {
     "name": "stdout",
     "output_type": "stream",
     "text": [
      "matching = [True] - accuracy = 1.0\n",
      "matching = [False] - accuracy = 0.0\n",
      "matching = [True] - accuracy = 1.0\n",
      "matching = [True] - accuracy = 1.0\n",
      "matching = [True] - accuracy = 1.0\n",
      "matching = [True] - accuracy = 1.0\n",
      "matching = [True] - accuracy = 1.0\n",
      "matching = [True] - accuracy = 1.0\n",
      "matching = [False] - accuracy = 0.0\n"
     ]
    },
    {
     "name": "stderr",
     "output_type": "stream",
     "text": [
      "100%|██████████| 200/200 [00:00<00:00, 417.78it/s]\n"
     ]
    },
    {
     "name": "stdout",
     "output_type": "stream",
     "text": [
      "matching = [True] - accuracy = 1.0\n",
      "matching = [True] - accuracy = 1.0\n",
      "//////////////////// Epoch: 99 ////////////////////\n"
     ]
    },
    {
     "name": "stderr",
     "output_type": "stream",
     "text": [
      "  2%|▏         | 17/800 [00:00<00:04, 160.72it/s]"
     ]
    },
    {
     "name": "stdout",
     "output_type": "stream",
     "text": [
      "pred: 1 - target: 1 - loss: 0.000 - raw pred: tensor([[-5.5467,  5.4982]], device='cuda:0', grad_fn=<AddmmBackward0>)\n"
     ]
    },
    {
     "name": "stderr",
     "output_type": "stream",
     "text": [
      "100%|██████████| 800/800 [00:04<00:00, 164.03it/s]\n"
     ]
    },
    {
     "name": "stdout",
     "output_type": "stream",
     "text": [
      "//////////////////// Validation ////////////////////\n"
     ]
    },
    {
     "name": "stderr",
     "output_type": "stream",
     "text": [
      " 22%|██▏       | 43/200 [00:00<00:00, 420.65it/s]"
     ]
    },
    {
     "name": "stdout",
     "output_type": "stream",
     "text": [
      "pred: 0 - target: 0 - loss: 0.000 - raw pred: tensor([[ 7.8381, -7.5763]], device='cuda:0')\n",
      "matching = [True] - accuracy = 1.0\n",
      "matching = [True] - accuracy = 1.0\n",
      "matching = [True] - accuracy = 1.0\n",
      "matching = [True] - accuracy = 1.0\n",
      "matching = [True] - accuracy = 1.0\n",
      "matching = [True] - accuracy = 1.0\n",
      "matching = [True] - accuracy = 1.0\n",
      "matching = [True] - accuracy = 1.0\n",
      "matching = [True] - accuracy = 1.0\n"
     ]
    },
    {
     "name": "stderr",
     "output_type": "stream",
     "text": [
      " 86%|████████▌ | 172/200 [00:00<00:00, 421.73it/s]"
     ]
    },
    {
     "name": "stdout",
     "output_type": "stream",
     "text": [
      "matching = [True] - accuracy = 1.0\n",
      "matching = [True] - accuracy = 1.0\n",
      "matching = [True] - accuracy = 1.0\n",
      "matching = [True] - accuracy = 1.0\n",
      "matching = [True] - accuracy = 1.0\n",
      "matching = [True] - accuracy = 1.0\n",
      "matching = [True] - accuracy = 1.0\n",
      "matching = [True] - accuracy = 1.0\n",
      "matching = [True] - accuracy = 1.0\n"
     ]
    },
    {
     "name": "stderr",
     "output_type": "stream",
     "text": [
      "100%|██████████| 200/200 [00:00<00:00, 419.77it/s]\n"
     ]
    },
    {
     "name": "stdout",
     "output_type": "stream",
     "text": [
      "matching = [True] - accuracy = 1.0\n",
      "matching = [True] - accuracy = 1.0\n",
      "//////////////////// Epoch: 100 ////////////////////\n"
     ]
    },
    {
     "name": "stderr",
     "output_type": "stream",
     "text": [
      "  2%|▏         | 17/800 [00:00<00:04, 167.47it/s]"
     ]
    },
    {
     "name": "stdout",
     "output_type": "stream",
     "text": [
      "pred: 1 - target: 1 - loss: 0.001 - raw pred: tensor([[-3.4561,  3.4248]], device='cuda:0', grad_fn=<AddmmBackward0>)\n"
     ]
    },
    {
     "name": "stderr",
     "output_type": "stream",
     "text": [
      "100%|██████████| 800/800 [00:04<00:00, 164.33it/s]\n"
     ]
    },
    {
     "name": "stdout",
     "output_type": "stream",
     "text": [
      "//////////////////// Validation ////////////////////\n"
     ]
    },
    {
     "name": "stderr",
     "output_type": "stream",
     "text": [
      " 21%|██        | 42/200 [00:00<00:00, 419.09it/s]"
     ]
    },
    {
     "name": "stdout",
     "output_type": "stream",
     "text": [
      "pred: 1 - target: 1 - loss: 0.000 - raw pred: tensor([[-5.5055,  5.4710]], device='cuda:0')\n",
      "matching = [True] - accuracy = 1.0\n",
      "matching = [True] - accuracy = 1.0\n",
      "matching = [True] - accuracy = 1.0\n",
      "matching = [True] - accuracy = 1.0\n",
      "matching = [True] - accuracy = 1.0\n",
      "matching = [True] - accuracy = 1.0\n",
      "matching = [True] - accuracy = 1.0\n",
      "matching = [True] - accuracy = 1.0\n",
      "matching = [True] - accuracy = 1.0\n"
     ]
    },
    {
     "name": "stderr",
     "output_type": "stream",
     "text": [
      " 86%|████████▌ | 171/200 [00:00<00:00, 421.72it/s]"
     ]
    },
    {
     "name": "stdout",
     "output_type": "stream",
     "text": [
      "matching = [True] - accuracy = 1.0\n",
      "matching = [True] - accuracy = 1.0\n",
      "matching = [True] - accuracy = 1.0\n",
      "matching = [True] - accuracy = 1.0\n",
      "matching = [True] - accuracy = 1.0\n",
      "matching = [True] - accuracy = 1.0\n",
      "matching = [True] - accuracy = 1.0\n",
      "matching = [True] - accuracy = 1.0\n",
      "matching = [True] - accuracy = 1.0\n"
     ]
    },
    {
     "name": "stderr",
     "output_type": "stream",
     "text": [
      "100%|██████████| 200/200 [00:00<00:00, 419.84it/s]"
     ]
    },
    {
     "name": "stdout",
     "output_type": "stream",
     "text": [
      "matching = [True] - accuracy = 1.0\n",
      "matching = [True] - accuracy = 1.0\n"
     ]
    },
    {
     "name": "stderr",
     "output_type": "stream",
     "text": [
      "\n"
     ]
    },
    {
     "data": {
      "text/html": [],
      "text/plain": [
       "<IPython.core.display.HTML object>"
      ]
     },
     "metadata": {},
     "output_type": "display_data"
    },
    {
     "data": {
      "text/html": [
       "<br>    <style><br>        .wandb-row {<br>            display: flex;<br>            flex-direction: row;<br>            flex-wrap: wrap;<br>            justify-content: flex-start;<br>            width: 100%;<br>        }<br>        .wandb-col {<br>            display: flex;<br>            flex-direction: column;<br>            flex-basis: 100%;<br>            flex: 1;<br>            padding: 10px;<br>        }<br>    </style><br><div class=\"wandb-row\"><div class=\"wandb-col\"><h3>Run history:</h3><br/><table class=\"wandb\"><tr><td>accuracy</td><td>▁▅▆▅█████▇█▇▆▇▅▇▅████▇▇██▇█▆█▇▅▇███▇█▁▇█</td></tr><tr><td>epoch</td><td>▁▁▁▁▁▂▂▂▂▃▃▃▃▃▃▄▄▄▄▄▄▄▄▄▅▅▅▆▆▆▇▇▇▇▇█████</td></tr><tr><td>loss</td><td>▅▁█▃▁▁▁▁▁▁▁▁▁▁▂▁▁▁▁▁▁▁▁▁▁▁▁▁▁▁▁▁▁▁▁▁▁▁▁▁</td></tr><tr><td>step</td><td>▁▁▁▁▁▁▁▁▁▁▁▁▁▁▁▁▁▁▁▁▁▁▁▁▁▁▁▁▁▁▁▁▁▁▁▁▁▁▁▁</td></tr><tr><td>val_loss</td><td>█▅▄▃▂▁▁▂▁▁▁▂▁▂▁▂▁▂▁▁▁▁▁▁▁▁▃▁▂▁▁▁▁▁▁▁▂▁▁▁</td></tr></table><br/></div><div class=\"wandb-col\"><h3>Run summary:</h3><br/><table class=\"wandb\"><tr><td>accuracy</td><td>1</td></tr><tr><td>epoch</td><td>99</td></tr><tr><td>loss</td><td>0.0</td></tr><tr><td>step</td><td>199</td></tr><tr><td>val_loss</td><td>0.00171</td></tr></table><br/></div></div>"
      ],
      "text/plain": [
       "<IPython.core.display.HTML object>"
      ]
     },
     "metadata": {},
     "output_type": "display_data"
    },
    {
     "data": {
      "text/html": [
       " View run <strong style=\"color:#cdcd00\">shrec-2025_03042025_153656</strong> at: <a href='https://wandb.ai/g-palmieri4998-cnr-imati/shrec-2025/runs/xncwejos' target=\"_blank\">https://wandb.ai/g-palmieri4998-cnr-imati/shrec-2025/runs/xncwejos</a><br> View project at: <a href='https://wandb.ai/g-palmieri4998-cnr-imati/shrec-2025' target=\"_blank\">https://wandb.ai/g-palmieri4998-cnr-imati/shrec-2025</a><br>Synced 5 W&B file(s), 0 media file(s), 0 artifact file(s) and 0 other file(s)"
      ],
      "text/plain": [
       "<IPython.core.display.HTML object>"
      ]
     },
     "metadata": {},
     "output_type": "display_data"
    },
    {
     "data": {
      "text/html": [
       "Find logs at: <code>./output/wandb/run-20250403_153729-xncwejos/logs</code>"
      ],
      "text/plain": [
       "<IPython.core.display.HTML object>"
      ]
     },
     "metadata": {},
     "output_type": "display_data"
    }
   ],
   "source": [
    "train(test_train_dl, test_valid_dl, env)"
   ]
  },
  {
   "cell_type": "code",
   "execution_count": 75,
   "metadata": {},
   "outputs": [],
   "source": [
    "unmount_ramdrive(mountpoint)"
   ]
  }
 ],
 "metadata": {
  "kernelspec": {
   "display_name": "SHREC",
   "language": "python",
   "name": "python3"
  },
  "language_info": {
   "codemirror_mode": {
    "name": "ipython",
    "version": 3
   },
   "file_extension": ".py",
   "mimetype": "text/x-python",
   "name": "python",
   "nbconvert_exporter": "python",
   "pygments_lexer": "ipython3",
   "version": "3.12.3"
  }
 },
 "nbformat": 4,
 "nbformat_minor": 2
}
