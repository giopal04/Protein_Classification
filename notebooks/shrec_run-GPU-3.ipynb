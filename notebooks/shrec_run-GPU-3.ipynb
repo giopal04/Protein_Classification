{
 "cells": [
  {
   "cell_type": "markdown",
   "metadata": {},
   "source": [
    "## PointNet to Classify Proteins"
   ]
  },
  {
   "cell_type": "markdown",
   "metadata": {},
   "source": [
    "### Dataset study"
   ]
  },
  {
   "cell_type": "code",
   "execution_count": 2,
   "metadata": {},
   "outputs": [
    {
     "name": "stdout",
     "output_type": "stream",
     "text": [
      "['8ugd_8:R:3U_model1.vtk', '8h0v_18:R:c_model1.vtk', '3j3q_1:DX:4F_model1.vtk', '4u4u_23:XC:d1_model1.vtk', '6rny_4:H:H_model1.vtk']\n",
      "\n",
      "<class 'pandas.core.frame.DataFrame'>\n",
      "Index: 9244 entries, 0 to 9243\n",
      "Data columns (total 3 columns):\n",
      " #   Column            Non-Null Count  Dtype \n",
      "---  ------            --------------  ----- \n",
      " 0   protein_id        9244 non-null   object\n",
      " 1   class_id          9244 non-null   int64 \n",
      " 2   number_of_points  9244 non-null   int64 \n",
      "dtypes: int64(2), object(1)\n",
      "memory usage: 288.9+ KB\n",
      "None\n"
     ]
    },
    {
     "data": {
      "text/html": [
       "<div>\n",
       "<style scoped>\n",
       "    .dataframe tbody tr th:only-of-type {\n",
       "        vertical-align: middle;\n",
       "    }\n",
       "\n",
       "    .dataframe tbody tr th {\n",
       "        vertical-align: top;\n",
       "    }\n",
       "\n",
       "    .dataframe thead th {\n",
       "        text-align: right;\n",
       "    }\n",
       "</style>\n",
       "<table border=\"1\" class=\"dataframe\">\n",
       "  <thead>\n",
       "    <tr style=\"text-align: right;\">\n",
       "      <th></th>\n",
       "      <th>protein_id</th>\n",
       "      <th>class_id</th>\n",
       "      <th>number_of_points</th>\n",
       "    </tr>\n",
       "  </thead>\n",
       "  <tbody>\n",
       "    <tr>\n",
       "      <th>0</th>\n",
       "      <td>8ugd_8:R:3U_model1</td>\n",
       "      <td>96</td>\n",
       "      <td>5916</td>\n",
       "    </tr>\n",
       "    <tr>\n",
       "      <th>1</th>\n",
       "      <td>8h0v_18:R:c_model1</td>\n",
       "      <td>86</td>\n",
       "      <td>10078</td>\n",
       "    </tr>\n",
       "    <tr>\n",
       "      <th>2</th>\n",
       "      <td>3j3q_1:DX:4F_model1</td>\n",
       "      <td>8</td>\n",
       "      <td>18432</td>\n",
       "    </tr>\n",
       "    <tr>\n",
       "      <th>3</th>\n",
       "      <td>4u4u_23:XC:d1_model1</td>\n",
       "      <td>83</td>\n",
       "      <td>8242</td>\n",
       "    </tr>\n",
       "    <tr>\n",
       "      <th>4</th>\n",
       "      <td>6rny_4:H:H_model1</td>\n",
       "      <td>34</td>\n",
       "      <td>9204</td>\n",
       "    </tr>\n",
       "    <tr>\n",
       "      <th>...</th>\n",
       "      <td>...</td>\n",
       "      <td>...</td>\n",
       "      <td>...</td>\n",
       "    </tr>\n",
       "    <tr>\n",
       "      <th>9239</th>\n",
       "      <td>3j3y_1:HL:6R_model1</td>\n",
       "      <td>8</td>\n",
       "      <td>18342</td>\n",
       "    </tr>\n",
       "    <tr>\n",
       "      <th>9240</th>\n",
       "      <td>4u4y_15:O:C3_model1</td>\n",
       "      <td>91</td>\n",
       "      <td>12976</td>\n",
       "    </tr>\n",
       "    <tr>\n",
       "      <th>9241</th>\n",
       "      <td>7w31_26:AA:c_model1</td>\n",
       "      <td>18</td>\n",
       "      <td>16454</td>\n",
       "    </tr>\n",
       "    <tr>\n",
       "      <th>9242</th>\n",
       "      <td>3j4k_1:E:E_model1</td>\n",
       "      <td>90</td>\n",
       "      <td>23188</td>\n",
       "    </tr>\n",
       "    <tr>\n",
       "      <th>9243</th>\n",
       "      <td>3j3y_1:UIA:fE_model1</td>\n",
       "      <td>8</td>\n",
       "      <td>17888</td>\n",
       "    </tr>\n",
       "  </tbody>\n",
       "</table>\n",
       "<p>9244 rows × 3 columns</p>\n",
       "</div>"
      ],
      "text/plain": [
       "                protein_id  class_id  number_of_points\n",
       "0       8ugd_8:R:3U_model1        96              5916\n",
       "1       8h0v_18:R:c_model1        86             10078\n",
       "2      3j3q_1:DX:4F_model1         8             18432\n",
       "3     4u4u_23:XC:d1_model1        83              8242\n",
       "4        6rny_4:H:H_model1        34              9204\n",
       "...                    ...       ...               ...\n",
       "9239   3j3y_1:HL:6R_model1         8             18342\n",
       "9240   4u4y_15:O:C3_model1        91             12976\n",
       "9241   7w31_26:AA:c_model1        18             16454\n",
       "9242     3j4k_1:E:E_model1        90             23188\n",
       "9243  3j3y_1:UIA:fE_model1         8             17888\n",
       "\n",
       "[9244 rows x 3 columns]"
      ]
     },
     "execution_count": 2,
     "metadata": {},
     "output_type": "execute_result"
    }
   ],
   "source": [
    "# Getting the data\n",
    "import os\n",
    "\n",
    "#os.environ[\"CUDA_VISIBLE_DEVICES\"] = \"1\"\n",
    "\n",
    "import sys\n",
    "\n",
    "home_path = '/home/giorgio/venvs/SHREC'\n",
    "if home_path not in sys.path:\n",
    "    sys.path.append(home_path)\n",
    "\n",
    "from pandas import DataFrame\n",
    "import pandas as pd\n",
    "\n",
    "from pathlib import Path\n",
    "\n",
    "from datasetStudy import *\n",
    "\n",
    "debug_pointnet = False\n",
    "\n",
    "# Multiple function here depends on thi variable\n",
    "#root = '/mnt/dataset/shrec-2025-protein-classification/v2-20250331' \n",
    "base_path = Path('/mnt/')\n",
    "#base_path = Path('/mnt/raid1')\n",
    "root = base_path / 'dataset/shrec-2025-protein-classification/v2-20250331'\n",
    "\n",
    "#train_data = os.listdir(os.path.join(root, 'train'))\n",
    "#train_data_cls = pd.read_csv('datasets/train_set-all.csv', sep=',', index_col=0)\n",
    "\n",
    "train_data = os.listdir(root / 'train')\n",
    "train_data_cls = pd.read_csv('../datasets/train_set-all.csv', sep=',', index_col=0)\n",
    "\n",
    "print(train_data[:5])\n",
    "print()\n",
    "print(train_data_cls.info())\n",
    "train_data_cls"
   ]
  },
  {
   "cell_type": "code",
   "execution_count": 3,
   "metadata": {},
   "outputs": [],
   "source": [
    "src = root / 'train-xz'\n",
    "mountpoint = '/tmp/ramdrive'\n",
    "size_in_gb = 3\n",
    "\n",
    "def create_ramdrive(src, mountpoint, size_in_gb):\n",
    "    if Path(mountpoint).exists() or Path(mountpoint).is_dir():\n",
    "        print(f'Ramdrive already created, exiting...')\n",
    "        return\n",
    "    \n",
    "    !sudo mkdir -p \"{mountpoint}\"\n",
    "    !sudo mount -o size=\"{size_in_gb}\"G -t tmpfs none \"{mountpoint}\"\n",
    "    !rsync -a --progress \"{src}\" \"{mountpoint}\"\n",
    "    \n",
    "def unmount_ramdrive(mountpoint):\n",
    "    !sudo umount \"{mountpoint}\"\n",
    "    !sudo rmdir \"{mountpoint}\""
   ]
  },
  {
   "cell_type": "code",
   "execution_count": 4,
   "metadata": {},
   "outputs": [
    {
     "name": "stdout",
     "output_type": "stream",
     "text": [
      "Ramdrive already created, exiting...\n"
     ]
    }
   ],
   "source": [
    "create_ramdrive(src, mountpoint, size_in_gb)\n",
    "#unmount_ramdrive(mountpoint)"
   ]
  },
  {
   "cell_type": "code",
   "execution_count": 5,
   "metadata": {},
   "outputs": [
    {
     "data": {
      "text/html": [
       "<div>\n",
       "<style scoped>\n",
       "    .dataframe tbody tr th:only-of-type {\n",
       "        vertical-align: middle;\n",
       "    }\n",
       "\n",
       "    .dataframe tbody tr th {\n",
       "        vertical-align: top;\n",
       "    }\n",
       "\n",
       "    .dataframe thead th {\n",
       "        text-align: right;\n",
       "    }\n",
       "</style>\n",
       "<table border=\"1\" class=\"dataframe\">\n",
       "  <thead>\n",
       "    <tr style=\"text-align: right;\">\n",
       "      <th></th>\n",
       "      <th>protein_id</th>\n",
       "      <th>class_id</th>\n",
       "      <th>number_of_points</th>\n",
       "    </tr>\n",
       "  </thead>\n",
       "  <tbody>\n",
       "  </tbody>\n",
       "</table>\n",
       "</div>"
      ],
      "text/plain": [
       "Empty DataFrame\n",
       "Columns: [protein_id, class_id, number_of_points]\n",
       "Index: []"
      ]
     },
     "execution_count": 5,
     "metadata": {},
     "output_type": "execute_result"
    }
   ],
   "source": [
    "possible_disconnected_mesh(train_data_cls, 96, False)\n",
    "\n",
    "disconnected_dict = {}\n",
    "for idx in range(97):\n",
    "    disconnected_dict[idx] = possible_disconnected_mesh(train_data_cls, idx)\n",
    "\n",
    "#print(disconnected_dict)\n",
    "\n",
    "_, damaged = possible_disconnected_mesh(train_data_cls, 8, True); damaged"
   ]
  },
  {
   "cell_type": "code",
   "execution_count": 6,
   "metadata": {},
   "outputs": [
    {
     "name": "stdout",
     "output_type": "stream",
     "text": [
      "Classes which have between 0 and 5 element: 16/97\n"
     ]
    }
   ],
   "source": [
    "dist = cls_distribution(train_data_cls)\n",
    "inspect_distribution(dist, l_lim=0, u_lim=5)"
   ]
  },
  {
   "cell_type": "code",
   "execution_count": 7,
   "metadata": {},
   "outputs": [
    {
     "name": "stdout",
     "output_type": "stream",
     "text": [
      "cls 0: 101\t101\t101\t0\t0\t101\t101\t\n",
      "cls 1: 3\t3\t0\t0\t0\t0\t3\t\n",
      "cls 2: 17\t17\t17\t17\t17\t0\t17\t\n",
      "cls 3: 21\t21\t21\t21\t21\t0\t21\t\n",
      "cls 4: 15\t15\t15\t15\t15\t0\t15\t\n",
      "cls 5: 127\t127\t127\t0\t0\t127\t127\t\n",
      "cls 6: 25\t25\t25\t25\t25\t0\t25\t\n",
      "cls 7: 75\t75\t75\t75\t0\t0\t75\t\n",
      "cls 8: 2054\t2054\t2054\t0\t0\t2054\t0\t\n",
      "cls 9: 66\t66\t66\t66\t0\t0\t66\t\n",
      "cls 10: 14\t14\t14\t14\t14\t0\t14\t\n",
      "cls 11: 43\t43\t43\t43\t43\t0\t43\t\n",
      "cls 12: 10\t10\t10\t10\t10\t0\t10\t\n",
      "cls 13: 22\t22\t22\t22\t22\t0\t22\t\n",
      "cls 14: 489\t489\t489\t0\t0\t489\t0\t\n",
      "cls 15: 89\t89\t89\t89\t0\t0\t89\t\n",
      "cls 16: 154\t154\t154\t0\t0\t154\t154\t\n",
      "cls 17: 116\t116\t116\t0\t0\t116\t116\t\n",
      "cls 18: 76\t76\t76\t76\t0\t0\t76\t\n",
      "cls 19: 42\t42\t42\t42\t42\t0\t42\t\n",
      "cls 20: 7\t7\t0\t0\t0\t0\t7\t\n",
      "cls 21: 74\t74\t74\t74\t0\t0\t74\t\n",
      "cls 22: 58\t58\t58\t58\t0\t0\t58\t\n",
      "cls 23: 10\t10\t10\t10\t10\t0\t10\t\n",
      "cls 24: 10\t10\t10\t10\t10\t0\t10\t\n",
      "cls 25: 143\t143\t143\t0\t0\t143\t143\t\n",
      "cls 26: 2\t2\t0\t0\t0\t0\t2\t\n",
      "cls 27: 3\t3\t0\t0\t0\t0\t3\t\n",
      "cls 28: 18\t18\t18\t18\t18\t0\t18\t\n",
      "cls 29: 14\t14\t14\t14\t14\t0\t14\t\n",
      "cls 30: 3\t3\t0\t0\t0\t0\t3\t\n",
      "cls 31: 33\t33\t33\t33\t33\t0\t33\t\n",
      "cls 32: 93\t93\t93\t93\t0\t0\t93\t\n",
      "cls 33: 126\t126\t126\t0\t0\t126\t126\t\n",
      "cls 34: 73\t73\t73\t73\t0\t0\t73\t\n",
      "cls 35: 23\t23\t23\t23\t23\t0\t23\t\n",
      "cls 36: 8\t8\t0\t0\t0\t0\t8\t\n",
      "cls 37: 119\t119\t119\t0\t0\t119\t119\t\n",
      "cls 38: 34\t34\t34\t34\t34\t0\t34\t\n",
      "cls 39: 19\t19\t19\t19\t19\t0\t19\t\n",
      "cls 40: 95\t95\t95\t95\t0\t0\t95\t\n",
      "cls 41: 95\t95\t95\t95\t0\t0\t95\t\n",
      "cls 42: 2\t2\t0\t0\t0\t0\t2\t\n",
      "cls 43: 70\t70\t70\t70\t0\t0\t70\t\n",
      "cls 44: 2\t2\t0\t0\t0\t0\t2\t\n",
      "cls 45: 109\t109\t109\t0\t0\t109\t109\t\n",
      "cls 46: 44\t44\t44\t44\t44\t0\t44\t\n",
      "cls 47: 37\t37\t37\t37\t37\t0\t37\t\n",
      "cls 48: 27\t27\t27\t27\t27\t0\t27\t\n",
      "cls 49: 49\t49\t49\t49\t49\t0\t49\t\n",
      "cls 50: 2\t2\t0\t0\t0\t0\t2\t\n",
      "cls 51: 71\t71\t71\t71\t0\t0\t71\t\n",
      "cls 52: 76\t76\t76\t76\t0\t0\t76\t\n",
      "cls 53: 53\t53\t53\t53\t0\t0\t53\t\n",
      "cls 54: 128\t128\t128\t0\t0\t128\t128\t\n",
      "cls 55: 26\t26\t26\t26\t26\t0\t26\t\n",
      "cls 56: 654\t654\t654\t0\t0\t654\t0\t\n",
      "cls 57: 9\t9\t0\t0\t0\t0\t9\t\n",
      "cls 58: 2\t2\t0\t0\t0\t0\t2\t\n",
      "cls 59: 54\t54\t54\t54\t0\t0\t54\t\n",
      "cls 60: 73\t73\t73\t73\t0\t0\t73\t\n",
      "cls 61: 240\t240\t240\t0\t0\t240\t240\t\n",
      "cls 62: 135\t135\t135\t0\t0\t135\t135\t\n",
      "cls 63: 2\t2\t0\t0\t0\t0\t2\t\n",
      "cls 64: 57\t57\t57\t57\t0\t0\t57\t\n",
      "cls 65: 10\t10\t10\t10\t10\t0\t10\t\n",
      "cls 66: 54\t54\t54\t54\t0\t0\t54\t\n",
      "cls 67: 17\t17\t17\t17\t17\t0\t17\t\n",
      "cls 68: 5\t5\t0\t0\t0\t0\t5\t\n",
      "cls 69: 80\t80\t80\t80\t0\t0\t80\t\n",
      "cls 70: 223\t223\t223\t0\t0\t223\t223\t\n",
      "cls 71: 102\t102\t102\t0\t0\t102\t102\t\n",
      "cls 72: 2\t2\t0\t0\t0\t0\t2\t\n",
      "cls 73: 6\t6\t0\t0\t0\t0\t6\t\n",
      "cls 74: 150\t150\t150\t0\t0\t150\t150\t\n",
      "cls 75: 69\t69\t69\t69\t0\t0\t69\t\n",
      "cls 76: 10\t10\t10\t10\t10\t0\t10\t\n",
      "cls 77: 2\t2\t0\t0\t0\t0\t2\t\n",
      "cls 78: 5\t5\t0\t0\t0\t0\t5\t\n",
      "cls 79: 78\t78\t78\t78\t0\t0\t78\t\n",
      "cls 80: 57\t57\t57\t57\t0\t0\t57\t\n",
      "cls 81: 58\t58\t58\t58\t0\t0\t58\t\n",
      "cls 82: 2\t2\t0\t0\t0\t0\t2\t\n",
      "cls 83: 115\t115\t115\t0\t0\t115\t115\t\n",
      "cls 84: 18\t18\t18\t18\t18\t0\t18\t\n",
      "cls 85: 49\t49\t49\t49\t49\t0\t49\t\n",
      "cls 86: 203\t203\t203\t0\t0\t203\t203\t\n",
      "cls 87: 103\t103\t103\t0\t0\t103\t103\t\n",
      "cls 88: 97\t97\t97\t97\t0\t0\t97\t\n",
      "cls 89: 3\t3\t0\t0\t0\t0\t3\t\n",
      "cls 90: 788\t788\t788\t0\t0\t788\t0\t\n",
      "cls 91: 118\t118\t118\t0\t0\t118\t118\t\n",
      "cls 92: 129\t129\t129\t0\t0\t129\t129\t\n",
      "cls 93: 61\t61\t61\t61\t0\t0\t61\t\n",
      "cls 94: 52\t52\t52\t52\t0\t0\t52\t\n",
      "cls 95: 2\t2\t0\t0\t0\t0\t2\t\n",
      "cls 96: 35\t35\t35\t35\t35\t0\t35\t\n",
      "len(train_data_cls) = 9244\n",
      "len(raw_train_dataframe_f1) = 9244\n",
      "len(raw_train_dataframe_f2) = 9172\n",
      "len(raw_train_dataframe_f3) = 2546\n",
      "len(raw_train_dataframe_f4) = 692\n",
      "len(raw_train_dataframe_f5) = 6626\n"
     ]
    }
   ],
   "source": [
    "dist_all = cls_distribution(train_data_cls)\n",
    "\n",
    "# Filter the number of points\n",
    "raw_train_dataframe_f1 = number_of_point_filter(train_data_cls, 1000)\n",
    "dist_f1 = cls_distribution(raw_train_dataframe_f1)\n",
    "\n",
    "\n",
    "# Filter according to the number of samples in classes\n",
    "raw_train_dataframe_f2 = number_of_class_filter(raw_train_dataframe_f1, l_cut_off=10)\n",
    "dist_f2 = cls_distribution(raw_train_dataframe_f2)\n",
    "\n",
    "raw_train_dataframe_f3 = number_of_class_filter(raw_train_dataframe_f1, l_cut_off=10, u_cut_off=100)\n",
    "dist_f3 = cls_distribution(raw_train_dataframe_f3)\n",
    "\n",
    "raw_train_dataframe_f4 = number_of_class_filter(raw_train_dataframe_f1, l_cut_off=10, u_cut_off=50)\n",
    "dist_f4 = cls_distribution(raw_train_dataframe_f4)\n",
    "\n",
    "raw_train_dataframe_f5 = number_of_class_filter(raw_train_dataframe_f1, l_cut_off=100)\n",
    "dist_f5 = cls_distribution(raw_train_dataframe_f5)\n",
    "\n",
    "raw_train_dataframe_f6 = number_of_class_filter(raw_train_dataframe_f1, l_cut_off=0, u_cut_off=450)\n",
    "dist_f6 = cls_distribution(raw_train_dataframe_f6)\n",
    "\n",
    "distributions = [dist_all, dist_f1, dist_f2, dist_f3, dist_f4, dist_f5, dist_f6]\n",
    "for idx in range(len(dist_all)):\n",
    "    output = f'cls {idx}: '\n",
    "    for dist in distributions:\n",
    "        output += f'{print_dist(dist, idx)}\\t'\n",
    "    print(output)\n",
    "\n",
    "print(f'{len(train_data_cls) = }')\n",
    "print(f'{len(raw_train_dataframe_f1) = }')\n",
    "print(f'{len(raw_train_dataframe_f2) = }')\n",
    "print(f'{len(raw_train_dataframe_f3) = }')\n",
    "print(f'{len(raw_train_dataframe_f4) = }')\n",
    "print(f'{len(raw_train_dataframe_f5) = }')"
   ]
  },
  {
   "cell_type": "code",
   "execution_count": 8,
   "metadata": {},
   "outputs": [
    {
     "name": "stdout",
     "output_type": "stream",
     "text": [
      "93 [0, 1, 2, 3, 4, 5, 6, 7, 9, 10, 11, 12, 13, 15, 16, 17, 18, 19, 20, 21, 22, 23, 24, 25, 26, 27, 28, 29, 30, 31, 32, 33, 34, 35, 36, 37, 38, 39, 40, 41, 42, 43, 44, 45, 46, 47, 48, 49, 50, 51, 52, 53, 54, 55, 57, 58, 59, 60, 61, 62, 63, 64, 65, 66, 67, 68, 69, 70, 71, 72, 73, 74, 75, 76, 77, 78, 79, 80, 81, 82, 83, 84, 85, 86, 87, 88, 89, 91, 92, 93, 94, 95, 96]\n"
     ]
    }
   ],
   "source": [
    "dist_f6_available_classes = []\n",
    "for key,value in dist_f6.items():\n",
    "    if value:\n",
    "        dist_f6_available_classes.append(key)\n",
    "print(len(dist_f6_available_classes), dist_f6_available_classes)"
   ]
  },
  {
   "cell_type": "code",
   "execution_count": 9,
   "metadata": {},
   "outputs": [],
   "source": [
    "symmetria_flist = list((root / 'train-symmetria-xz').glob('*.xz'))\n",
    "symmetria_flist = [(fpath.name[3:-3], fpath.name[0:2], None) for fpath in symmetria_flist]"
   ]
  },
  {
   "cell_type": "code",
   "execution_count": 10,
   "metadata": {},
   "outputs": [],
   "source": [
    "symmetria_df = pd.DataFrame(symmetria_flist, columns=['protein_id', 'class_id', 'number_of_points'])"
   ]
  },
  {
   "cell_type": "code",
   "execution_count": 11,
   "metadata": {},
   "outputs": [
    {
     "data": {
      "text/html": [
       "<div>\n",
       "<style scoped>\n",
       "    .dataframe tbody tr th:only-of-type {\n",
       "        vertical-align: middle;\n",
       "    }\n",
       "\n",
       "    .dataframe tbody tr th {\n",
       "        vertical-align: top;\n",
       "    }\n",
       "\n",
       "    .dataframe thead th {\n",
       "        text-align: right;\n",
       "    }\n",
       "</style>\n",
       "<table border=\"1\" class=\"dataframe\">\n",
       "  <thead>\n",
       "    <tr style=\"text-align: right;\">\n",
       "      <th></th>\n",
       "      <th>protein_id</th>\n",
       "      <th>class_id</th>\n",
       "      <th>number_of_points</th>\n",
       "    </tr>\n",
       "  </thead>\n",
       "  <tbody>\n",
       "    <tr>\n",
       "      <th>0</th>\n",
       "      <td>000002-astroid-clean</td>\n",
       "      <td>00</td>\n",
       "      <td>None</td>\n",
       "    </tr>\n",
       "    <tr>\n",
       "      <th>1</th>\n",
       "      <td>000011-astroid-gaussian</td>\n",
       "      <td>00</td>\n",
       "      <td>None</td>\n",
       "    </tr>\n",
       "    <tr>\n",
       "      <th>2</th>\n",
       "      <td>000012-astroid-gaussian</td>\n",
       "      <td>00</td>\n",
       "      <td>None</td>\n",
       "    </tr>\n",
       "    <tr>\n",
       "      <th>3</th>\n",
       "      <td>000021-astroid-undersampling+gaussian</td>\n",
       "      <td>00</td>\n",
       "      <td>None</td>\n",
       "    </tr>\n",
       "    <tr>\n",
       "      <th>4</th>\n",
       "      <td>000032-astroid-gaussian</td>\n",
       "      <td>00</td>\n",
       "      <td>None</td>\n",
       "    </tr>\n",
       "    <tr>\n",
       "      <th>...</th>\n",
       "      <td>...</td>\n",
       "      <td>...</td>\n",
       "      <td>...</td>\n",
       "    </tr>\n",
       "    <tr>\n",
       "      <th>20100</th>\n",
       "      <td>099907-citrus-undersampling+gaussian</td>\n",
       "      <td>01</td>\n",
       "      <td>None</td>\n",
       "    </tr>\n",
       "    <tr>\n",
       "      <th>20101</th>\n",
       "      <td>099922-citrus-gaussian</td>\n",
       "      <td>01</td>\n",
       "      <td>None</td>\n",
       "    </tr>\n",
       "    <tr>\n",
       "      <th>20102</th>\n",
       "      <td>099957-citrus-undersampling</td>\n",
       "      <td>01</td>\n",
       "      <td>None</td>\n",
       "    </tr>\n",
       "    <tr>\n",
       "      <th>20103</th>\n",
       "      <td>099976-citrus-gaussian</td>\n",
       "      <td>01</td>\n",
       "      <td>None</td>\n",
       "    </tr>\n",
       "    <tr>\n",
       "      <th>20104</th>\n",
       "      <td>099991-citrus-undersampling</td>\n",
       "      <td>01</td>\n",
       "      <td>None</td>\n",
       "    </tr>\n",
       "  </tbody>\n",
       "</table>\n",
       "<p>20105 rows × 3 columns</p>\n",
       "</div>"
      ],
      "text/plain": [
       "                                  protein_id class_id number_of_points\n",
       "0                       000002-astroid-clean       00             None\n",
       "1                    000011-astroid-gaussian       00             None\n",
       "2                    000012-astroid-gaussian       00             None\n",
       "3      000021-astroid-undersampling+gaussian       00             None\n",
       "4                    000032-astroid-gaussian       00             None\n",
       "...                                      ...      ...              ...\n",
       "20100   099907-citrus-undersampling+gaussian       01             None\n",
       "20101                 099922-citrus-gaussian       01             None\n",
       "20102            099957-citrus-undersampling       01             None\n",
       "20103                 099976-citrus-gaussian       01             None\n",
       "20104            099991-citrus-undersampling       01             None\n",
       "\n",
       "[20105 rows x 3 columns]"
      ]
     },
     "execution_count": 11,
     "metadata": {},
     "output_type": "execute_result"
    }
   ],
   "source": [
    "symmetria_df"
   ]
  },
  {
   "cell_type": "code",
   "execution_count": 12,
   "metadata": {},
   "outputs": [
    {
     "name": "stdout",
     "output_type": "stream",
     "text": [
      "Warning: Class 0 has only 101 proteins, but 100000 were requested. Using all available proteins.\n",
      "Warning: Class 1 has only 3 proteins, but 100000 were requested. Using all available proteins.\n",
      "Warning: Class 2 has only 17 proteins, but 100000 were requested. Using all available proteins.\n",
      "Warning: Class 3 has only 21 proteins, but 100000 were requested. Using all available proteins.\n",
      "Warning: Class 4 has only 15 proteins, but 100000 were requested. Using all available proteins.\n",
      "Warning: Class 5 has only 127 proteins, but 100000 were requested. Using all available proteins.\n",
      "Warning: Class 6 has only 25 proteins, but 100000 were requested. Using all available proteins.\n",
      "Warning: Class 7 has only 75 proteins, but 100000 were requested. Using all available proteins.\n",
      "Warning: Class 9 has only 66 proteins, but 100000 were requested. Using all available proteins.\n",
      "Warning: Class 10 has only 14 proteins, but 100000 were requested. Using all available proteins.\n",
      "Warning: Class 11 has only 43 proteins, but 100000 were requested. Using all available proteins.\n",
      "Warning: Class 12 has only 10 proteins, but 100000 were requested. Using all available proteins.\n",
      "Warning: Class 13 has only 22 proteins, but 100000 were requested. Using all available proteins.\n",
      "Warning: Class 15 has only 89 proteins, but 100000 were requested. Using all available proteins.\n",
      "Warning: Class 16 has only 154 proteins, but 100000 were requested. Using all available proteins.\n",
      "Warning: Class 17 has only 116 proteins, but 100000 were requested. Using all available proteins.\n",
      "Warning: Class 18 has only 76 proteins, but 100000 were requested. Using all available proteins.\n",
      "Warning: Class 19 has only 42 proteins, but 100000 were requested. Using all available proteins.\n",
      "Warning: Class 20 has only 7 proteins, but 100000 were requested. Using all available proteins.\n",
      "Warning: Class 21 has only 74 proteins, but 100000 were requested. Using all available proteins.\n",
      "Warning: Class 22 has only 58 proteins, but 100000 were requested. Using all available proteins.\n",
      "Warning: Class 23 has only 10 proteins, but 100000 were requested. Using all available proteins.\n",
      "Warning: Class 24 has only 10 proteins, but 100000 were requested. Using all available proteins.\n",
      "Warning: Class 25 has only 143 proteins, but 100000 were requested. Using all available proteins.\n",
      "Warning: Class 26 has only 2 proteins, but 100000 were requested. Using all available proteins.\n",
      "Warning: Class 27 has only 3 proteins, but 100000 were requested. Using all available proteins.\n",
      "Warning: Class 28 has only 18 proteins, but 100000 were requested. Using all available proteins.\n",
      "Warning: Class 29 has only 14 proteins, but 100000 were requested. Using all available proteins.\n",
      "Warning: Class 30 has only 3 proteins, but 100000 were requested. Using all available proteins.\n",
      "Warning: Class 31 has only 33 proteins, but 100000 were requested. Using all available proteins.\n",
      "Warning: Class 32 has only 93 proteins, but 100000 were requested. Using all available proteins.\n",
      "Warning: Class 33 has only 126 proteins, but 100000 were requested. Using all available proteins.\n",
      "Warning: Class 34 has only 73 proteins, but 100000 were requested. Using all available proteins.\n",
      "Warning: Class 35 has only 23 proteins, but 100000 were requested. Using all available proteins.\n",
      "Warning: Class 36 has only 8 proteins, but 100000 were requested. Using all available proteins.\n",
      "Warning: Class 37 has only 119 proteins, but 100000 were requested. Using all available proteins.\n",
      "Warning: Class 38 has only 34 proteins, but 100000 were requested. Using all available proteins.\n",
      "Warning: Class 39 has only 19 proteins, but 100000 were requested. Using all available proteins.\n",
      "Warning: Class 40 has only 95 proteins, but 100000 were requested. Using all available proteins.\n",
      "Warning: Class 41 has only 95 proteins, but 100000 were requested. Using all available proteins.\n",
      "Warning: Class 42 has only 2 proteins, but 100000 were requested. Using all available proteins.\n",
      "Warning: Class 43 has only 70 proteins, but 100000 were requested. Using all available proteins.\n",
      "Warning: Class 44 has only 2 proteins, but 100000 were requested. Using all available proteins.\n",
      "Warning: Class 45 has only 109 proteins, but 100000 were requested. Using all available proteins.\n",
      "Warning: Class 46 has only 44 proteins, but 100000 were requested. Using all available proteins.\n",
      "Warning: Class 47 has only 37 proteins, but 100000 were requested. Using all available proteins.\n",
      "Warning: Class 48 has only 27 proteins, but 100000 were requested. Using all available proteins.\n",
      "Warning: Class 49 has only 49 proteins, but 100000 were requested. Using all available proteins.\n",
      "Warning: Class 50 has only 2 proteins, but 100000 were requested. Using all available proteins.\n",
      "Warning: Class 51 has only 71 proteins, but 100000 were requested. Using all available proteins.\n",
      "Warning: Class 52 has only 76 proteins, but 100000 were requested. Using all available proteins.\n",
      "Warning: Class 53 has only 53 proteins, but 100000 were requested. Using all available proteins.\n",
      "Warning: Class 54 has only 128 proteins, but 100000 were requested. Using all available proteins.\n",
      "Warning: Class 55 has only 26 proteins, but 100000 were requested. Using all available proteins.\n",
      "Warning: Class 57 has only 9 proteins, but 100000 were requested. Using all available proteins.\n",
      "Warning: Class 58 has only 2 proteins, but 100000 were requested. Using all available proteins.\n",
      "Warning: Class 59 has only 54 proteins, but 100000 were requested. Using all available proteins.\n",
      "Warning: Class 60 has only 73 proteins, but 100000 were requested. Using all available proteins.\n",
      "Warning: Class 61 has only 240 proteins, but 100000 were requested. Using all available proteins.\n",
      "Warning: Class 62 has only 135 proteins, but 100000 were requested. Using all available proteins.\n",
      "Warning: Class 63 has only 2 proteins, but 100000 were requested. Using all available proteins.\n",
      "Warning: Class 64 has only 57 proteins, but 100000 were requested. Using all available proteins.\n",
      "Warning: Class 65 has only 10 proteins, but 100000 were requested. Using all available proteins.\n",
      "Warning: Class 66 has only 54 proteins, but 100000 were requested. Using all available proteins.\n",
      "Warning: Class 67 has only 17 proteins, but 100000 were requested. Using all available proteins.\n",
      "Warning: Class 68 has only 5 proteins, but 100000 were requested. Using all available proteins.\n",
      "Warning: Class 69 has only 80 proteins, but 100000 were requested. Using all available proteins.\n",
      "Warning: Class 70 has only 223 proteins, but 100000 were requested. Using all available proteins.\n",
      "Warning: Class 71 has only 102 proteins, but 100000 were requested. Using all available proteins.\n",
      "Warning: Class 72 has only 2 proteins, but 100000 were requested. Using all available proteins.\n",
      "Warning: Class 73 has only 6 proteins, but 100000 were requested. Using all available proteins.\n",
      "Warning: Class 74 has only 150 proteins, but 100000 were requested. Using all available proteins.\n",
      "Warning: Class 75 has only 69 proteins, but 100000 were requested. Using all available proteins.\n",
      "Warning: Class 76 has only 10 proteins, but 100000 were requested. Using all available proteins.\n",
      "Warning: Class 77 has only 2 proteins, but 100000 were requested. Using all available proteins.\n",
      "Warning: Class 78 has only 5 proteins, but 100000 were requested. Using all available proteins.\n",
      "Warning: Class 79 has only 78 proteins, but 100000 were requested. Using all available proteins.\n",
      "Warning: Class 80 has only 57 proteins, but 100000 were requested. Using all available proteins.\n",
      "Warning: Class 81 has only 58 proteins, but 100000 were requested. Using all available proteins.\n",
      "Warning: Class 82 has only 2 proteins, but 100000 were requested. Using all available proteins.\n",
      "Warning: Class 83 has only 115 proteins, but 100000 were requested. Using all available proteins.\n",
      "Warning: Class 84 has only 18 proteins, but 100000 were requested. Using all available proteins.\n",
      "Warning: Class 85 has only 49 proteins, but 100000 were requested. Using all available proteins.\n",
      "Warning: Class 86 has only 203 proteins, but 100000 were requested. Using all available proteins.\n",
      "Warning: Class 87 has only 103 proteins, but 100000 were requested. Using all available proteins.\n",
      "Warning: Class 88 has only 97 proteins, but 100000 were requested. Using all available proteins.\n",
      "Warning: Class 89 has only 3 proteins, but 100000 were requested. Using all available proteins.\n",
      "Warning: Class 91 has only 118 proteins, but 100000 were requested. Using all available proteins.\n",
      "Warning: Class 92 has only 129 proteins, but 100000 were requested. Using all available proteins.\n",
      "Warning: Class 93 has only 61 proteins, but 100000 were requested. Using all available proteins.\n",
      "Warning: Class 94 has only 52 proteins, but 100000 were requested. Using all available proteins.\n",
      "Warning: Class 95 has only 2 proteins, but 100000 were requested. Using all available proteins.\n",
      "Warning: Class 96 has only 35 proteins, but 100000 were requested. Using all available proteins.\n",
      "Warning: Class 40 has only 95 proteins, but 10000 were requested. Using all available proteins.\n",
      "Warning: Class 88 has only 97 proteins, but 10000 were requested. Using all available proteins.\n"
     ]
    },
    {
     "data": {
      "text/plain": [
       "\"\\ndf_3.to_csv('datasets/train_set-2_cls-1000_images.csv')\\ndf_4.to_csv('datasets/train_set-10_cls-1000_images.csv')\\ndf_5.to_csv('datasets/train_set-20_cls-1000_images.csv')\\ndf_6.to_csv('datasets/train_set-20_cls-2000_images.csv')\\ndf_7.to_csv('datasets/train_set-all-cls_except-cls-larger-than-450.csv')\\nsymmetria_df.to_csv('datasets/train_set-symmetria-100k-easy-astroid-citrus-10k-samples.csv')\\ndf_8.to_csv('datasets/train_set-2_cls_40_88-192_proteins.csv')\\n\""
      ]
     },
     "execution_count": 12,
     "metadata": {},
     "output_type": "execute_result"
    }
   ],
   "source": [
    "cls_selected = [8, 90, 56, 14, 61, 70, 86, 5, 16, 25, 54, 62, 74, 83, 91, 92, 17, 45, 87, 71]\n",
    "\n",
    "df_3 = create_dataframe(raw_train_dataframe_f1, class_ids=cls_selected[:2],  number_of_proteins=500)\n",
    "df_4 = create_dataframe(raw_train_dataframe_f1, class_ids=cls_selected[:10], number_of_proteins=100)\n",
    "df_5 = create_dataframe(raw_train_dataframe_f1, class_ids=cls_selected[:20], number_of_proteins=50)\n",
    "df_6 = create_dataframe(raw_train_dataframe_f1, class_ids=cls_selected[:20], number_of_proteins=100)\n",
    "df_7 = create_dataframe(raw_train_dataframe_f6, class_ids=dist_f6_available_classes, number_of_proteins=100000)\n",
    "df_8 = create_dataframe(raw_train_dataframe_f1, class_ids=[40, 88], number_of_proteins=10000)\n",
    "\n",
    "'''\n",
    "df_3.to_csv('datasets/train_set-2_cls-1000_images.csv')\n",
    "df_4.to_csv('datasets/train_set-10_cls-1000_images.csv')\n",
    "df_5.to_csv('datasets/train_set-20_cls-1000_images.csv')\n",
    "df_6.to_csv('datasets/train_set-20_cls-2000_images.csv')\n",
    "df_7.to_csv('datasets/train_set-all-cls_except-cls-larger-than-450.csv')\n",
    "symmetria_df.to_csv('datasets/train_set-symmetria-100k-easy-astroid-citrus-10k-samples.csv')\n",
    "df_8.to_csv('datasets/train_set-2_cls_40_88-192_proteins.csv')\n",
    "'''\n",
    "\n"
   ]
  },
  {
   "cell_type": "code",
   "execution_count": 13,
   "metadata": {},
   "outputs": [
    {
     "data": {
      "text/plain": [
       "192"
      ]
     },
     "execution_count": 13,
     "metadata": {},
     "output_type": "execute_result"
    }
   ],
   "source": [
    "tmp_df = pd.read_csv('/home/giorgio/venvs/SHREC/datasets/train_set-2_cls-194_images.csv', index_col=0)\n",
    "len(df_8)"
   ]
  },
  {
   "cell_type": "code",
   "execution_count": 14,
   "metadata": {},
   "outputs": [
    {
     "name": "stdout",
     "output_type": "stream",
     "text": [
      "14\n",
      "PolyData (0x7b6e1d168940)\n",
      "  N Cells:    115068\n",
      "  N Points:   57516\n",
      "  N Strips:   0\n",
      "  X Bounds:   -5.945e+01, 5.574e+01\n",
      "  Y Bounds:   -4.762e+01, 5.398e+01\n",
      "  Z Bounds:   -3.284e+01, 3.595e+01\n",
      "  N Arrays:   3\n"
     ]
    },
    {
     "data": {
      "application/vnd.jupyter.widget-view+json": {
       "model_id": "0b5172ea0ef04f17b9c1bce246fe3ed2",
       "version_major": 2,
       "version_minor": 0
      },
      "text/plain": [
       "Widget(value='<iframe src=\"http://localhost:44139/index.html?ui=P_0x7b6e86bf6540_0&reconnect=auto\" class=\"pyvi…"
      ]
     },
     "metadata": {},
     "output_type": "display_data"
    }
   ],
   "source": [
    "df = raw_train_dataframe_f1[raw_train_dataframe_f1['class_id'] == 10]\n",
    "print(len(df))\n",
    "visualize_mesh(raw_train_dataframe_f1, cls=10, idx=3)"
   ]
  },
  {
   "cell_type": "markdown",
   "metadata": {},
   "source": [
    "### Augmentations"
   ]
  },
  {
   "cell_type": "code",
   "execution_count": 15,
   "metadata": {},
   "outputs": [],
   "source": [
    "from format import Text\n",
    "import torch\n",
    "from symmetria.transformations import *\n",
    "from symmetria.shapes import BenchmarkShape"
   ]
  },
  {
   "cell_type": "code",
   "execution_count": 16,
   "metadata": {},
   "outputs": [],
   "source": [
    "points_rectangle = np.array([[0, 2, 0, 0, 2, 2, 0, 2],\n",
    "                             [0, 0, 1, 0, 1, 0, 1, 1],\n",
    "                             [0, 0, 0, 1, 0, 1, 1, 1]]).astype(np.float32)\n",
    "\n",
    "points_rectangle_t = torch.from_numpy(points_rectangle)\n",
    "\n",
    "rot = random_rotation_matrix(rotate_x=False, rotate_z=False)\n",
    "\n",
    "shapebench = BenchmarkShape(points_rectangle_t)\n",
    "#shapebench.apply_rotation(torch.from_numpy(rot))\n",
    "#shapebench.apply_traslation(1,1,0)\n",
    "#shapebench.apply_uniform_noise(100, 1)\n",
    "#shapebench.apply_gaussian_noise(100, 1)\n",
    "\n",
    "rect = pv.PolyData(shapebench.points.numpy().T)\n",
    "#rect.plot()"
   ]
  },
  {
   "cell_type": "code",
   "execution_count": 17,
   "metadata": {},
   "outputs": [],
   "source": [
    "from random import random\n",
    "\n",
    "class RotateAroundZero():\n",
    "    def __init__(self, p=0.5, rot=None):\n",
    "        self.p = p\n",
    "        self.rot = rot\n",
    "\n",
    "    def __call__(self, points):\n",
    "        if random() < self.p:\n",
    "            if self.rot == None:\n",
    "                rot = torch.from_numpy(random_rotation_matrix())\n",
    "            else:\n",
    "                rot = self.rot\n",
    "        \n",
    "            rot = rot.to(torch.device(points.device))\n",
    "\n",
    "            ones = torch.ones((1,points.shape[0]), device=points.device)\n",
    "            coords = torch.concatenate((torch.transpose(points, 0, 1), ones))\n",
    "            \n",
    "            coords = rot@coords\n",
    "            \n",
    "            points = torch.transpose(coords[:3,:], 0, 1)\n",
    "\n",
    "        return points\n",
    "    \n",
    "    def __repr__(self):\n",
    "        return f'RotateAroundZero(p={repr(self.p)}, rot={repr(self.rot)})'\n",
    "    \n",
    "class Translate():\n",
    "    def __init__(self, p=0.5, shift=None, scale=1):\n",
    "        self.p = p\n",
    "        self.shift = shift\n",
    "        self.scale = scale\n",
    "\n",
    "    def __call__(self, points):        \n",
    "        if random() < self.p:\n",
    "            if self.shift == None:\n",
    "                shift = (torch.rand(1, device=points.device) * self.scale,\n",
    "                         torch.rand(1, device=points.device) * self.scale,\n",
    "                         torch.rand(1, device=points.device) * self.scale)\n",
    "            else:\n",
    "                shift = self.shift\n",
    "            \n",
    "            for i in range(len(shift)):\n",
    "                points[:,i] += shift[i]\n",
    "                   \n",
    "        return points\n",
    "    \n",
    "    def __repr__(self):\n",
    "        return f'Translate(p={repr(self.p)}, shift={repr(self.shift)}, scale={repr(self.scale)})'\n",
    "    \n",
    "class UniformNoise():\n",
    "    def __init__(self, n, T, p=0.5):\n",
    "        self.p = p\n",
    "        self.n, self.T = n, T\n",
    "    \n",
    "    def __call__(self, points):\n",
    "        if random() < self.p:\n",
    "            num_points = points.shape[0]\n",
    "\n",
    "            indices = torch.randperm(num_points, device=points.device)[:self.T]\n",
    "\n",
    "            points[indices,:] = points[indices,:] + (2*torch.rand(self.T, 3, device=points.device)-1)/self.n\n",
    "        \n",
    "        return points\n",
    "    \n",
    "    def __repr__(self):\n",
    "        return f'UniformNoise(n={repr(self.n)}, T={repr(self.T)}, p={repr(self.p)})'\n",
    "    \n",
    "class GaussianNoise():\n",
    "    def __init__(self, n, T, p=0.5):\n",
    "        self.p = p\n",
    "        self.n, self.T = n, T\n",
    "    \n",
    "    def __call__(self, points):\n",
    "        if random() < self.p:\n",
    "            num_points = points.shape[0]\n",
    "\n",
    "            indices = torch.randperm(num_points, device=points.device)[:self.T]\n",
    "    \n",
    "            points[indices,:] = points[indices,:] + torch.rand(self.T, 3, device=points.device)/self.n\n",
    "\n",
    "        return points\n",
    "    \n",
    "    def __repr__(self):\n",
    "        return f'GaussianNoise(n={repr(self.n)}, T={repr(self.T)}, p={repr(self.p)})'"
   ]
  },
  {
   "cell_type": "code",
   "execution_count": 18,
   "metadata": {},
   "outputs": [
    {
     "name": "stdout",
     "output_type": "stream",
     "text": [
      "Translate(p=1, shift=None, scale=1)\n",
      "Translate(p=1, shift=None, scale=1)\n"
     ]
    }
   ],
   "source": [
    "points_rectangle = np.array([[0, 2, 0, 0, 2, 2, 0, 2],\n",
    "                             [0, 0, 1, 0, 1, 0, 1, 1],\n",
    "                             [0, 0, 0, 1, 0, 1, 1, 1]]).astype(np.float32).T\n",
    "\n",
    "points_rectangle_t = torch.from_numpy(points_rectangle).to(torch.device('cuda:0'))\n",
    "\n",
    "translate = Translate(p=1)\n",
    "print(translate)\n",
    "points_rectangle_t = translate(points_rectangle_t)\n",
    "print(translate)\n",
    "rect = pv.PolyData(points_rectangle)\n",
    "#rect.plot()\n",
    "\n",
    "rect_tfm = pv.PolyData(points_rectangle_t.cpu().numpy())\n",
    "#rect_tfm.plot()"
   ]
  },
  {
   "cell_type": "markdown",
   "metadata": {},
   "source": [
    "### DataSet and DataLoader"
   ]
  },
  {
   "cell_type": "markdown",
   "metadata": {},
   "source": [
    "#### Dataset"
   ]
  },
  {
   "cell_type": "code",
   "execution_count": 19,
   "metadata": {},
   "outputs": [
    {
     "data": {
      "text/plain": [
       "'\\ndef generate_train_valid_set_boring(df, val_pct, seed=42):\\n    train_size = int(len(df) * val_pct)    \\n    df_train = df.sample(train_size, random_state=seed)\\n    df_valid = df.drop(df_train.index)\\n\\n    return df_train, df_valid\\n'"
      ]
     },
     "execution_count": 19,
     "metadata": {},
     "output_type": "execute_result"
    }
   ],
   "source": [
    "import numpy as np\n",
    "import lzma\n",
    "from torch.utils.data import Dataset, DataLoader\n",
    "from symmetria.transforms.RandomSampler import RandomSampler\n",
    "from symmetria.transforms.UnitSphereNormalization import UnitSphereNormalization\n",
    "from tqdm import tqdm\n",
    "\n",
    "class ProteinDataset(Dataset):\n",
    "    def __init__(self, data_df, tfms, root=root, extention='xz', train=True):\n",
    "        super().__init__()\n",
    "        self.df = data_df\n",
    "        self.tfms = tfms\n",
    "        self.extention = extention\n",
    "        \n",
    "        self.train = train\n",
    "        if self.train:\n",
    "            if self.extention == 'vtk':\n",
    "                self.root = os.path.join(root, 'train')\n",
    "\n",
    "            elif self.extention == 'xz':\n",
    "                self.root = os.path.join(root, 'train-xz') # TODO roll back\n",
    "                #self.root = os.path.join(root, 'train-xz')\n",
    "            else:\n",
    "                raise UserWarning('Extention not supported')\n",
    "            \n",
    "        else:\n",
    "            raise UserWarning('Not yet implemented for the test dataset')\n",
    "        \n",
    "        self.encode_label()\n",
    "        self.loader()\n",
    "    \n",
    "    def loader(self):\n",
    "        self.data = []\n",
    "        \n",
    "        for index in tqdm(self.df.index):\n",
    "            protein, cls, nop = self.df['protein_id'].loc[index], self.df['class_id'].loc[index], self.df['number_of_points'].loc[index]\n",
    "\n",
    "            cls_t = torch.tensor(self.encoded_cls[cls]).to(torch.device('cuda:0'))\n",
    "\n",
    "            if self.extention == 'vtk':\n",
    "                point_cloud = self.get_vtk_points(protein)\n",
    "\n",
    "            elif self.extention == 'xz':\n",
    "                point_cloud = self.get_xz_points(protein, cls, nop)\n",
    "\n",
    "            point_cloud_t = torch.from_numpy(point_cloud).to(torch.device('cuda:0'))     \n",
    "\n",
    "            point_cloud_t, cls_t = point_cloud_t.type(torch.float32), cls_t.type(torch.float32)\n",
    "            self.data.append((point_cloud_t, cls_t))\n",
    "\n",
    "    def get_vtk_points(self, name):\n",
    "        prot_file = name + '.' + self.extention\n",
    "        prot_file = os.path.join(self.root, prot_file)\n",
    "        \n",
    "        prot_mesh = pv.read(prot_file)\n",
    "\n",
    "        return prot_mesh.points\n",
    "\n",
    "    def get_xz_points(self, name, cls, nop=None, debug=False):\n",
    "        cls = str(cls)\n",
    "        nop = str(nop) if nop and nop != 'nan' else None\n",
    "\n",
    "        while len(cls) < 2:\n",
    "            cls = '0' + cls\n",
    "        \n",
    "        if nop and nop != 'nan':\n",
    "            while len(nop) < 6:\n",
    "                nop = '0' + nop\n",
    "\n",
    "        if nop and nop != 'nan':\n",
    "            prot_file = cls + '-' + nop +  '-' + name.replace(':', '+') + '.' + self.extention\n",
    "        else:\n",
    "            prot_file = cls + '-' + name.replace(':', '+') + '.' + self.extention\n",
    "        if debug:\n",
    "            print(f'ProteinDataset is loading files from {self.root}')\n",
    "        prot_file = os.path.join(self.root, prot_file)        \n",
    "        \n",
    "        with lzma.open(prot_file, 'rt') as f:\n",
    "            point_cloud = np.loadtxt(f)\n",
    "\n",
    "        return point_cloud\n",
    "\n",
    "    def __len__(self):\n",
    "        return len(self.data)\n",
    "    \n",
    "    def __getitem__(self, index, do_transform=True):\n",
    "        prot, cls = self.data[index]\n",
    "        \n",
    "        if do_transform:\n",
    "            for tfm in self.tfms:\n",
    "                prot = tfm(prot)\n",
    "\n",
    "        # NOTE: here we transpose the points (from Nx3 to 3xN) to then pass them to the PoinNet encoder\n",
    "        prot = torch.transpose(prot, 0, 1)\n",
    "        return (prot, cls)\n",
    "    \n",
    "    def encode_label(self):\n",
    "        self.encoded_cls = {}\n",
    "        \n",
    "        prot_clss = np.sort(self.df['class_id'].unique())\n",
    "        \n",
    "        #One hot encoding\n",
    "        '''\n",
    "        for idx, cls in enumerate(prot_clss):\n",
    "            self.encoded_cls[cls] = np.eye(len(prot_clss))[idx]\n",
    "        '''\n",
    "\n",
    "        for idx, cls in enumerate(prot_clss):\n",
    "            self.encoded_cls[cls] = int(idx)\n",
    "\n",
    "    def render_pointcloud(self, index):\n",
    "        prot, _ = self.data[index]\n",
    "        prot = torch.transpose(prot, 0, 1).numpy()\n",
    "        cloud = pv.PolyData(prot)\n",
    "        print(cloud)\n",
    "        cloud.plot()\n",
    "    \n",
    "\n",
    "transforms = [UnitSphereNormalization(),\n",
    "              Translate(p=0.8, scale=1),\n",
    "              RotateAroundZero(p=0.8),\n",
    "              GaussianNoise(n=100, T=2500, p=0.8),\n",
    "              RandomSampler(sample_size=5000)]\n",
    "\n",
    "\n",
    "def generate_train_valid_set(df, tfms, val_pct, root=root, seed=42, **kwargs):\n",
    "    '''\n",
    "    Can also take some other arguments to be passed to the dataset initializer\n",
    "\n",
    "            -> path (str): path to the parent directory containing the train files \n",
    "    '''\n",
    "\n",
    "    train_size = int(len(df) * (1 - val_pct))    \n",
    "    df_train = df.sample(train_size, random_state=seed)\n",
    "    df_valid = df.drop(df_train.index)\n",
    "\n",
    "    return ProteinDataset(df_train, tfms, root=root, **kwargs), ProteinDataset(df_valid, tfms, root=root, **kwargs)\n",
    "\n",
    "'''\n",
    "def generate_train_valid_set_boring(df, val_pct, seed=42):\n",
    "    train_size = int(len(df) * val_pct)    \n",
    "    df_train = df.sample(train_size, random_state=seed)\n",
    "    df_valid = df.drop(df_train.index)\n",
    "\n",
    "    return df_train, df_valid\n",
    "'''"
   ]
  },
  {
   "cell_type": "code",
   "execution_count": 20,
   "metadata": {},
   "outputs": [
    {
     "name": "stdout",
     "output_type": "stream",
     "text": [
      "Warning: Class 2 has only 17 proteins, but 100000 were requested. Using all available proteins.\n",
      "Warning: Class 30 has only 3 proteins, but 100000 were requested. Using all available proteins.\n",
      "Warning: Class 10 has only 14 proteins, but 100000 were requested. Using all available proteins.\n"
     ]
    },
    {
     "name": "stderr",
     "output_type": "stream",
     "text": [
      "100%|██████████| 27/27 [00:00<00:00, 39.33it/s]\n",
      "100%|██████████| 7/7 [00:00<00:00, 62.09it/s]\n"
     ]
    }
   ],
   "source": [
    "example_dataframe = create_dataframe(raw_train_dataframe_f1, class_ids=[2, 30, 10], number_of_proteins=100000)\n",
    "example_set_train, example_set_valid = generate_train_valid_set(example_dataframe, transforms, 0.2)"
   ]
  },
  {
   "cell_type": "code",
   "execution_count": 21,
   "metadata": {},
   "outputs": [
    {
     "data": {
      "text/plain": [
       "(tensor([[  5.6880,   9.1380,   5.1850,  ...,  18.7270,  19.7440,  19.8410],\n",
       "         [-20.2360, -20.3460, -20.1250,  ...,  -9.1310, -11.6640, -10.8590],\n",
       "         [-13.3830, -13.4790, -12.5080,  ...,  23.6170,  23.4130,  23.4920]],\n",
       "        device='cuda:0'),\n",
       " tensor(1., device='cuda:0'))"
      ]
     },
     "execution_count": 21,
     "metadata": {},
     "output_type": "execute_result"
    }
   ],
   "source": [
    "example_set_train.__getitem__(0, do_transform=False)"
   ]
  },
  {
   "cell_type": "code",
   "execution_count": 22,
   "metadata": {},
   "outputs": [],
   "source": [
    "prot = example_set_train.__getitem__(0, do_transform=False)"
   ]
  },
  {
   "cell_type": "code",
   "execution_count": 23,
   "metadata": {},
   "outputs": [
    {
     "name": "stdout",
     "output_type": "stream",
     "text": [
      "prot type = <class 'tuple'>\n",
      "prot len = 2\n",
      "prot = (tensor([[  5.6880,   9.1380,   5.1850,  ...,  18.7270,  19.7440,  19.8410],\n",
      "        [-20.2360, -20.3460, -20.1250,  ...,  -9.1310, -11.6640, -10.8590],\n",
      "        [-13.3830, -13.4790, -12.5080,  ...,  23.6170,  23.4130,  23.4920]],\n",
      "       device='cuda:0'), tensor(1., device='cuda:0'))\n",
      "\n"
     ]
    }
   ],
   "source": [
    "print(f'{Text(prot, 'prot'):content}')"
   ]
  },
  {
   "cell_type": "code",
   "execution_count": 24,
   "metadata": {},
   "outputs": [
    {
     "name": "stdout",
     "output_type": "stream",
     "text": [
      "prot[0] type = <class 'torch.Tensor'>\n",
      "prot[0] device = cuda:0\n",
      "prot[0] dtype = torch.float32\n",
      "prot[0] shape = torch.Size([3, 23402])\n",
      "prot[0] = tensor([[  5.6880,   9.1380,   5.1850,  ...,  18.7270,  19.7440,  19.8410],\n",
      "        [-20.2360, -20.3460, -20.1250,  ...,  -9.1310, -11.6640, -10.8590],\n",
      "        [-13.3830, -13.4790, -12.5080,  ...,  23.6170,  23.4130,  23.4920]],\n",
      "       device='cuda:0')\n",
      "\n"
     ]
    }
   ],
   "source": [
    "print(f'{Text(prot[0], 'prot[0]'):content}')"
   ]
  },
  {
   "cell_type": "code",
   "execution_count": 25,
   "metadata": {},
   "outputs": [
    {
     "name": "stdout",
     "output_type": "stream",
     "text": [
      "prot[0].min() = tensor(-39.9160, device='cuda:0') - prot[0].max() = tensor(38.2570, device='cuda:0')\n"
     ]
    }
   ],
   "source": [
    "print(f'{prot[0].min() = } - {prot[0].max() = }')"
   ]
  },
  {
   "cell_type": "code",
   "execution_count": 26,
   "metadata": {},
   "outputs": [],
   "source": [
    "unit_normalizer = UnitSphereNormalization()\n",
    "prot, _ = example_set_train.__getitem__(0, do_transform=False)\n",
    "prot = torch.transpose(prot, 0, 1)\n",
    "norm_prot = unit_normalizer(prot)"
   ]
  },
  {
   "cell_type": "code",
   "execution_count": 27,
   "metadata": {},
   "outputs": [
    {
     "name": "stdout",
     "output_type": "stream",
     "text": [
      "norm_prot type = <class 'torch.Tensor'>\n",
      "norm_prot device = cuda:0\n",
      "norm_prot dtype = torch.float32\n",
      "norm_prot shape = torch.Size([23402, 3])\n",
      "norm_prot = tensor([[ 0.1330, -0.4869, -0.3020],\n",
      "        [ 0.2093, -0.4893, -0.3042],\n",
      "        [ 0.1219, -0.4844, -0.2827],\n",
      "        ...,\n",
      "        [ 0.4213, -0.2413,  0.5160],\n",
      "        [ 0.4438, -0.2973,  0.5115],\n",
      "        [ 0.4460, -0.2795,  0.5132]], device='cuda:0')\n",
      "\n"
     ]
    }
   ],
   "source": [
    "print(f'{Text(norm_prot, 'norm_prot'):content}')"
   ]
  },
  {
   "cell_type": "code",
   "execution_count": 28,
   "metadata": {},
   "outputs": [
    {
     "name": "stdout",
     "output_type": "stream",
     "text": [
      "norm_prot.min() = tensor(-0.9220, device='cuda:0') - norm_prot.max() = tensor(0.8064, device='cuda:0')\n"
     ]
    }
   ],
   "source": [
    "print(f'{norm_prot.min() = } - {norm_prot.max() = }')"
   ]
  },
  {
   "cell_type": "code",
   "execution_count": 29,
   "metadata": {},
   "outputs": [
    {
     "name": "stdout",
     "output_type": "stream",
     "text": [
      "unit_normalizer.centroid.min() = tensor(-0.3297, device='cuda:0') - unit_normalizer.centroid.max() = tensor(1.7850, device='cuda:0')\n"
     ]
    }
   ],
   "source": [
    "print(f'{unit_normalizer.centroid.min() = } - {unit_normalizer.centroid.max() = }')"
   ]
  },
  {
   "cell_type": "code",
   "execution_count": 30,
   "metadata": {},
   "outputs": [
    {
     "data": {
      "text/plain": [
       "torch.Size([3])"
      ]
     },
     "execution_count": 30,
     "metadata": {},
     "output_type": "execute_result"
    }
   ],
   "source": [
    "unit_normalizer.centroid.shape"
   ]
  },
  {
   "cell_type": "code",
   "execution_count": 31,
   "metadata": {},
   "outputs": [],
   "source": [
    "points = prot[0]"
   ]
  },
  {
   "cell_type": "code",
   "execution_count": 32,
   "metadata": {},
   "outputs": [
    {
     "data": {
      "text/plain": [
       "tensor([  5.6880, -20.2360, -13.3830], device='cuda:0')"
      ]
     },
     "execution_count": 32,
     "metadata": {},
     "output_type": "execute_result"
    }
   ],
   "source": [
    "points"
   ]
  },
  {
   "cell_type": "markdown",
   "metadata": {},
   "source": [
    "### PointNet class"
   ]
  },
  {
   "cell_type": "code",
   "execution_count": 60,
   "metadata": {},
   "outputs": [
    {
     "ename": "AttributeError",
     "evalue": "module 'symmetria' has no attribute 'decoders'",
     "output_type": "error",
     "traceback": [
      "\u001b[31m---------------------------------------------------------------------------\u001b[39m",
      "\u001b[31mAttributeError\u001b[39m                            Traceback (most recent call last)",
      "\u001b[36mCell\u001b[39m\u001b[36m \u001b[39m\u001b[32mIn[60]\u001b[39m\u001b[32m, line 4\u001b[39m\n\u001b[32m      2\u001b[39m \u001b[38;5;28;01mimport\u001b[39;00m\u001b[38;5;250m \u001b[39m\u001b[34;01msymmetria\u001b[39;00m\n\u001b[32m      3\u001b[39m importlib.reload(symmetria)\n\u001b[32m----> \u001b[39m\u001b[32m4\u001b[39m importlib.reload(\u001b[43msymmetria\u001b[49m\u001b[43m.\u001b[49m\u001b[43mdecoders\u001b[49m)\n\u001b[32m      5\u001b[39m importlib.reload(symmetria.decoders.prediction_head)\n",
      "\u001b[31mAttributeError\u001b[39m: module 'symmetria' has no attribute 'decoders'"
     ]
    }
   ],
   "source": [
    "import importlib\n",
    "import symmetria\n",
    "importlib.reload(symmetria)\n",
    "importlib.reload(symmetria.decoders)\n",
    "importlib.reload(symmetria.decoders.prediction_head)"
   ]
  },
  {
   "cell_type": "markdown",
   "metadata": {},
   "source": [
    "#### PointNet"
   ]
  },
  {
   "cell_type": "code",
   "execution_count": 33,
   "metadata": {},
   "outputs": [],
   "source": [
    "import torch.nn as nn\n",
    "import torch.nn.functional as F\n",
    "from symmetria.encoders.pointnet_encoder import PointNetEncoder\n",
    "\n",
    "from symmetria.encoders.pointnext.pointnext_encoder_parameters import *\n",
    "from symmetria.encoders.pointnext.pointnext_encoder import PointNeXt\n",
    "\n",
    "from symmetria.decoders.prediction_head import PredictionHead\n",
    "\n",
    "if debug_pointnet:\n",
    "    bs, sz = 1, 2048\n",
    "    encoder = PointNetEncoder(use_bn=False)\n",
    "    mock_x = torch.randn(bs, 3, sz)\n",
    "    output = encoder.forward(mock_x)\n",
    "    print(f'{Text(output, 'output'):inspect}')\n",
    "\n",
    "    decoder = PredictionHead(1024, 96)\n",
    "    output_decoder = decoder.forward(output)\n",
    "    print(f'{Text(output_decoder, 'output_decoder'):inspect}')\n",
    "\n",
    "class PointNet(nn.Module):\n",
    "    def __init__(self, output_size, max_points, use_bn=False, encoder='pointnet'): # make it prettier like in segmenter\n",
    "        super().__init__()\n",
    "        \n",
    "        if encoder in POINTNEXT_MODEL_CONFIG:\n",
    "            model_cfg = POINTNEXT_MODEL_CONFIG[encoder]     # 'PointNeXt_B' (21.5 M), 'PointNeXt_L2' (32.0 M), 'PointNeXt_XXL' (73.8 M)\n",
    "            self.encoder = PointNeXt(model_cfg)\n",
    "            self.encoder_output_size = output_size          # because of the adapter head (e.g. 2048 -> 1024) within the encoder\n",
    "            print(f\"Using PointNeXt {model_cfg} - encoder: {self.encoder}\")\n",
    "        else:\n",
    "            self.encoder = PointNetEncoder(use_bn)\n",
    "            print(f\"Using PointNet as encoder - encoder: {self.encoder}\")\n",
    "        \n",
    "        self.max_points = max_points\n",
    "\n",
    "        self.input_size = self.get_input_size()        \n",
    "        self.output_size = output_size\n",
    "\n",
    "        print(f'Creating a PredictionHead with {self.input_size} as input and {self.output_size} as output')\n",
    "        self.decoder = PredictionHead(self.input_size, self.output_size, use_bn, use_relu=True)\n",
    "        \n",
    "        #self.softmax = nn.Softmax(dim=1)\n",
    "\n",
    "    def get_input_size(self):\n",
    "        mock_x = torch.randn(1, 3, self.max_points)\n",
    "        return self.encoder(mock_x).shape[-1]\n",
    "\n",
    "    def forward(self, x):\n",
    "        x = self.encoder(x)\n",
    "        x = self.decoder(x)\n",
    "        #x = self.softmax(x)\n",
    "\n",
    "        return x #SoftMax already inside the CrossEntropyLoss"
   ]
  },
  {
   "cell_type": "markdown",
   "metadata": {},
   "source": [
    "### Config Definition"
   ]
  },
  {
   "cell_type": "code",
   "execution_count": 35,
   "metadata": {},
   "outputs": [
    {
     "name": "stdout",
     "output_type": "stream",
     "text": [
      "Creating a test dataset from ../datasets/train_set-10_cls-1000_images.csv\n",
      "Test dataset has 1000 rows\n"
     ]
    }
   ],
   "source": [
    "from datetime import datetime\n",
    "from torch import optim\n",
    "\n",
    "time_now = datetime.now()\n",
    "time_now = time_now.strftime('%d%m%Y_%H%M%S')\n",
    "_folder = !pwd\n",
    "\n",
    "env = {}\n",
    "\n",
    "### Debug\n",
    "env['debug_loss'] = True\n",
    "\n",
    "env['project_folder'] = _folder[0]\n",
    "env['project'] = 'shrec-2025'\n",
    "env['run'] = env['project'] + '_' + time_now\n",
    "#env['output_dir'] = os.path.join(env['project_folder'], 'wandb', 'run_' + env['run'])\n",
    "if 'output' not in os.listdir(env['project_folder']):\n",
    "    os.mkdir('output')\n",
    "env['output_dir'] = Path(env['project_folder']) / 'output'\n",
    "\n",
    "env['max_points'] = 10000\n",
    "\n",
    "#env['dataset'] = 'train_set-2_cls-1000_images.csv' \n",
    "#env['dataset'] = 'train_set-all.csv'\n",
    "#env['dataset'] = 'train_set-all-cls_except-cls-larger-than-450.csv'\n",
    "#env['dataset'] = 'train_set-symmetria-100k-easy-astroid-citrus-10k-samples.csv'\n",
    "#env['dataset'] = 'train_set-2_cls-1000_images.csv'\n",
    "env['dataset'] = 'train_set-10_cls-1000_images.csv'\n",
    "#env['dataset_path'] = '/mnt/dataset/shrec-2025-protein-classification/v2-20250331'\n",
    "env['dataset_path'] = root\n",
    "\n",
    "ds_path = Path('../datasets') / env['dataset']\n",
    "print(f'Creating a test dataset from {ds_path}')\n",
    "\n",
    "test = pd.read_csv(ds_path, index_col=0)\n",
    "print(f'Test dataset has {len(test)} rows')"
   ]
  },
  {
   "cell_type": "markdown",
   "metadata": {},
   "source": [
    "### Model Definition"
   ]
  },
  {
   "cell_type": "code",
   "execution_count": 36,
   "metadata": {
    "scrolled": false
   },
   "outputs": [
    {
     "name": "stdout",
     "output_type": "stream",
     "text": [
      "Using PointNet as encoder - encoder: PointNetEncoder(\n",
      "  (input_transform): TNet(\n",
      "    (shared_mlps): Sequential(\n",
      "      (0): Conv1d(3, 64, kernel_size=(1,), stride=(1,))\n",
      "      (1): ReLU()\n",
      "      (2): Conv1d(64, 128, kernel_size=(1,), stride=(1,))\n",
      "      (3): ReLU()\n",
      "      (4): Conv1d(128, 1024, kernel_size=(1,), stride=(1,))\n",
      "      (5): ReLU()\n",
      "    )\n",
      "    (linear): Sequential(\n",
      "      (0): Linear(in_features=1024, out_features=512, bias=True)\n",
      "      (1): ReLU()\n",
      "      (2): Linear(in_features=512, out_features=256, bias=True)\n",
      "      (3): ReLU()\n",
      "      (4): Linear(in_features=256, out_features=9, bias=True)\n",
      "    )\n",
      "  )\n",
      "  (feature_transform): TNet(\n",
      "    (shared_mlps): Sequential(\n",
      "      (0): Conv1d(64, 64, kernel_size=(1,), stride=(1,))\n",
      "      (1): ReLU()\n",
      "      (2): Conv1d(64, 128, kernel_size=(1,), stride=(1,))\n",
      "      (3): ReLU()\n",
      "      (4): Conv1d(128, 1024, kernel_size=(1,), stride=(1,))\n",
      "      (5): ReLU()\n",
      "    )\n",
      "    (linear): Sequential(\n",
      "      (0): Linear(in_features=1024, out_features=512, bias=True)\n",
      "      (1): ReLU()\n",
      "      (2): Linear(in_features=512, out_features=256, bias=True)\n",
      "      (3): ReLU()\n",
      "      (4): Linear(in_features=256, out_features=4096, bias=True)\n",
      "    )\n",
      "  )\n",
      "  (shared_mlps): Sequential(\n",
      "    (0): Conv1d(3, 64, kernel_size=(1,), stride=(1,))\n",
      "    (1): LeakyReLU(negative_slope=0.01)\n",
      "  )\n",
      "  (shared_mlps_2): Sequential(\n",
      "    (0): Conv1d(64, 128, kernel_size=(1,), stride=(1,))\n",
      "    (1): LeakyReLU(negative_slope=0.01)\n",
      "    (2): Conv1d(128, 256, kernel_size=(1,), stride=(1,))\n",
      "    (3): LeakyReLU(negative_slope=0.01)\n",
      "    (4): Conv1d(256, 1024, kernel_size=(1,), stride=(1,))\n",
      "  )\n",
      ")\n",
      "Creating a PredictionHead with 1024 as input and 10 as output\n"
     ]
    }
   ],
   "source": [
    "env['device'] = 'cuda:0'\n",
    "env['val_pct'] = 0.2\n",
    "env['augmentations_on'] = True\n",
    "'''\n",
    "env['aug'] = [Translate(p=0.8),\n",
    "              UnitSphereNormalization(),\n",
    "              RotateAroundZero(p=0.8),\n",
    "              GaussianNoise(n=10, T=(env['max_points']//2),  p=0.8),\n",
    "              RandomSampler(sample_size=env['max_points'])]\n",
    "'''\n",
    "\n",
    "env['aug'] = [Translate(p=0.5),\n",
    "              UnitSphereNormalization(),\n",
    "              RandomSampler(sample_size=env['max_points']),\n",
    "              GaussianNoise(n=10, T=(env['max_points']//2),  p=0.5),\n",
    "              ]\n",
    "\n",
    "#env['aug'] = [UnitSphereNormalization()]\n",
    "#env['aug'] = []\n",
    "\n",
    "env['bs'] = 1\n",
    "env['epochs'] = 100\n",
    "env['lr'] = 1e-4\n",
    "env['wd'] = 0.05 # because \"PointNeXt is trained with a weight decay of 0.05 for 250 epochs\" - nope, too large, doesn't learn!\n",
    "env['wd'] = 1e-4 # because of this: https://github.com/yanx27/Pointnet_Pointnet2_pytorch/blob/master/train_classification.py\n",
    "\n",
    "env['encoder']   = 'pointnet'\n",
    "#env['encoder']  = 'PointNeXt_XXL'\n",
    "env['model']     = PointNet(output_size=len(test['class_id'].unique()), max_points=env['max_points'], encoder=env['encoder']).to(torch.device(env['device']))\n",
    "\n",
    "env['model_pth'] = '/tmp/pointnet.pth'\n",
    "env['pretrain']  = False\n",
    "\n",
    "if env['pretrain']:\n",
    "    if not Path(env['model_pth']).exists():\n",
    "        !wget 'https://github.com/meder411/PointNet-PyTorch/raw/refs/heads/master/classifier_model_state.pth' --output-document \"{env['model_pth']}\"\n",
    "    else:\n",
    "        print(f'{env['model_pth']} already exists, skipping download...')\n",
    "    torch.load(env['model_pth'], map_location=torch.device(env['device']))\n",
    "\n",
    "env['loss_func'] = nn.CrossEntropyLoss()\n",
    "env['optimizer'] = optim.Adam(env['model'].parameters(), lr=env['lr'], weight_decay=env['wd'])"
   ]
  },
  {
   "cell_type": "code",
   "execution_count": null,
   "metadata": {
    "scrolled": false
   },
   "outputs": [
    {
     "data": {
      "text/plain": [
       "{'debug_loss': True,\n",
       " 'project_folder': '/home/giorgio/venvs/SHREC/notebooks',\n",
       " 'project': 'shrec-2025',\n",
       " 'run': 'shrec-2025_03042025_153656',\n",
       " 'output_dir': PosixPath('/home/giorgio/venvs/SHREC/notebooks/output'),\n",
       " 'max_points': 10000,\n",
       " 'dataset': 'train_set-2_cls-1000_images.csv',\n",
       " 'dataset_path': PosixPath('/mnt/dataset/shrec-2025-protein-classification/v2-20250331'),\n",
       " 'device': 'cuda:0',\n",
       " 'val_pct': 0.2,\n",
       " 'augmentations_on': True,\n",
       " 'aug': [Translate(p=0.5, shift=None, scale=1),\n",
       "  <symmetria.transforms.UnitSphereNormalization.UnitSphereNormalization at 0x7e8b88412000>,\n",
       "  <symmetria.transforms.RandomSampler.RandomSampler at 0x7e8b88413a40>,\n",
       "  GaussianNoise(n=10, T=5000, p=0.5)],\n",
       " 'bs': 1,\n",
       " 'epochs': 100,\n",
       " 'lr': 0.0001,\n",
       " 'wd': 0.0001,\n",
       " 'encoder': 'pointnet',\n",
       " 'model': PointNet(\n",
       "   (encoder): PointNetEncoder(\n",
       "     (input_transform): TNet(\n",
       "       (shared_mlps): Sequential(\n",
       "         (0): Conv1d(3, 64, kernel_size=(1,), stride=(1,))\n",
       "         (1): ReLU()\n",
       "         (2): Conv1d(64, 128, kernel_size=(1,), stride=(1,))\n",
       "         (3): ReLU()\n",
       "         (4): Conv1d(128, 1024, kernel_size=(1,), stride=(1,))\n",
       "         (5): ReLU()\n",
       "       )\n",
       "       (linear): Sequential(\n",
       "         (0): Linear(in_features=1024, out_features=512, bias=True)\n",
       "         (1): ReLU()\n",
       "         (2): Linear(in_features=512, out_features=256, bias=True)\n",
       "         (3): ReLU()\n",
       "         (4): Linear(in_features=256, out_features=9, bias=True)\n",
       "       )\n",
       "     )\n",
       "     (feature_transform): TNet(\n",
       "       (shared_mlps): Sequential(\n",
       "         (0): Conv1d(64, 64, kernel_size=(1,), stride=(1,))\n",
       "         (1): ReLU()\n",
       "         (2): Conv1d(64, 128, kernel_size=(1,), stride=(1,))\n",
       "         (3): ReLU()\n",
       "         (4): Conv1d(128, 1024, kernel_size=(1,), stride=(1,))\n",
       "         (5): ReLU()\n",
       "       )\n",
       "       (linear): Sequential(\n",
       "         (0): Linear(in_features=1024, out_features=512, bias=True)\n",
       "         (1): ReLU()\n",
       "         (2): Linear(in_features=512, out_features=256, bias=True)\n",
       "         (3): ReLU()\n",
       "         (4): Linear(in_features=256, out_features=4096, bias=True)\n",
       "       )\n",
       "     )\n",
       "     (shared_mlps): Sequential(\n",
       "       (0): Conv1d(3, 64, kernel_size=(1,), stride=(1,))\n",
       "       (1): LeakyReLU(negative_slope=0.01)\n",
       "     )\n",
       "     (shared_mlps_2): Sequential(\n",
       "       (0): Conv1d(64, 128, kernel_size=(1,), stride=(1,))\n",
       "       (1): LeakyReLU(negative_slope=0.01)\n",
       "       (2): Conv1d(128, 256, kernel_size=(1,), stride=(1,))\n",
       "       (3): LeakyReLU(negative_slope=0.01)\n",
       "       (4): Conv1d(256, 1024, kernel_size=(1,), stride=(1,))\n",
       "     )\n",
       "   )\n",
       "   (decoder): PredictionHead(\n",
       "     (decoder_head): Sequential(\n",
       "       (0): Linear(in_features=1024, out_features=512, bias=True)\n",
       "       (1): ReLU()\n",
       "       (2): Linear(in_features=512, out_features=256, bias=True)\n",
       "       (3): ReLU()\n",
       "       (4): Linear(in_features=256, out_features=2, bias=True)\n",
       "     )\n",
       "   )\n",
       " ),\n",
       " 'model_pth': '/tmp/pointnet.pth',\n",
       " 'pretrain': False,\n",
       " 'loss_func': CrossEntropyLoss(),\n",
       " 'optimizer': Adam (\n",
       " Parameter Group 0\n",
       "     amsgrad: False\n",
       "     betas: (0.9, 0.999)\n",
       "     capturable: False\n",
       "     differentiable: False\n",
       "     eps: 1e-08\n",
       "     foreach: None\n",
       "     fused: None\n",
       "     lr: 0.0001\n",
       "     maximize: False\n",
       "     weight_decay: 0.0001\n",
       " )}"
      ]
     },
     "execution_count": 36,
     "metadata": {},
     "output_type": "execute_result"
    }
   ],
   "source": [
    "env"
   ]
  },
  {
   "cell_type": "markdown",
   "metadata": {},
   "source": [
    "### Training Loop"
   ]
  },
  {
   "cell_type": "code",
   "execution_count": 37,
   "metadata": {},
   "outputs": [],
   "source": [
    "import wandb\n",
    "\n",
    "def calculate_loss(logits, target, loss_func):\n",
    "    output    = torch.argmax(logits, dim=1)\n",
    "    target    = target.to(torch.int64)\n",
    "    #softmaxed = torch.softmax(logits, dim=1)\n",
    "    loss      = loss_func(logits, target)\n",
    "    return loss, output, target\n",
    "\n",
    "def train(train_dl, valid_dl, env):\n",
    "    net = env['model']\n",
    "    loss_func = env['loss_func']\n",
    "    optimizer = env['optimizer']\n",
    "\n",
    "    wandb.init(project=env['project'], name=env['run'], dir=env['output_dir'], config=env)\n",
    "\n",
    "    for epoch in range(env['epochs']):\n",
    "        print('/' * 20 + f' Epoch: {epoch + 1} ' + '/' * 20)\n",
    "        for step, batch in enumerate(tqdm(train_dl)):\n",
    "            input_p, target = batch\n",
    "\n",
    "            net.zero_grad()\n",
    "\n",
    "            logits = net(input_p)\n",
    "            #print(f'{Text(output, 'output'):content}')\n",
    "            #print(f'{Text(target, 'target'):content}')\n",
    "            \n",
    "            '''\n",
    "            output = torch.argmax(logits, dim=1)\n",
    "            target = target.to(torch.int64)\n",
    "            loss = loss_func(output, target)\n",
    "            '''\n",
    "            loss, output, target = calculate_loss(logits, target, loss_func)\n",
    "            if env['debug_loss'] and step % 1000 == 0:\n",
    "                print(f'pred: {int(output)} - target: {int(target)} - loss: {loss:.3f} - raw pred: {logits}')\n",
    "            wandb.log({'epoch': epoch,\n",
    "                    'loss': loss})\n",
    "            #print(f'Training loss: {loss}')\n",
    "            loss.backward()\n",
    "            optimizer.step()\n",
    "\n",
    "        print('/' * 20 + ' Validation ' + '/' * 20)\n",
    "        with torch.no_grad():\n",
    "            val_loss = []\n",
    "            acc = []\n",
    "            for step, batch in enumerate(tqdm(valid_dl)):\n",
    "                input_p, target = batch\n",
    "                \n",
    "                logits = net(input_p)\n",
    "\n",
    "                '''\n",
    "                output = torch.argmax(logits, dim=1)\n",
    "                target = target.to(torch.int64)\n",
    "                loss = loss_func(output, target).cpu()\n",
    "                '''\n",
    "                loss, output, target = calculate_loss(logits, target, loss_func)\n",
    "                if env['debug_loss'] and step % 1000 == 0:\n",
    "                    print(f'pred: {int(output)} - target: {int(target)} - loss: {loss:.3f} - raw pred: {logits}')\n",
    "                \n",
    "                val_loss.append(loss.cpu())\n",
    "\n",
    "                #matching = [torch.argmax(i) == torch.argmax(j) for i, j in zip(output, target)]\n",
    "                matching = [int(i) == int(j) for i, j in zip(output, target)]\n",
    "                accuracy = matching.count(True)/len(matching)\n",
    "                \n",
    "                if env['debug_loss'] and step % 10 == 0:\n",
    "                    print(f'{matching = } - {accuracy = }')\n",
    "                acc.append(accuracy)\n",
    "            wandb.log({'epoch': epoch,\n",
    "                    'step': step,\n",
    "                    'val_loss': np.mean(val_loss),\n",
    "                    'accuracy': np.mean(acc)})\n",
    "\n",
    "    wandb.finish()"
   ]
  },
  {
   "cell_type": "code",
   "execution_count": 38,
   "metadata": {
    "scrolled": true
   },
   "outputs": [
    {
     "name": "stderr",
     "output_type": "stream",
     "text": [
      "100%|██████████| 800/800 [00:06<00:00, 125.45it/s]\n",
      "100%|██████████| 200/200 [00:01<00:00, 126.73it/s]\n"
     ]
    }
   ],
   "source": [
    "test_train_ds, test_valid_ds = generate_train_valid_set(df=test, tfms=env['aug'], val_pct=env['val_pct'], root=mountpoint)\n",
    "test_train_dl, test_valid_dl = DataLoader(test_train_ds, batch_size=env['bs'], shuffle=True), DataLoader(test_valid_ds, batch_size=env['bs'], shuffle=True)"
   ]
  },
  {
   "cell_type": "code",
   "execution_count": 39,
   "metadata": {
    "scrolled": false
   },
   "outputs": [
    {
     "name": "stderr",
     "output_type": "stream",
     "text": [
      "\u001b[34m\u001b[1mwandb\u001b[0m: Using wandb-core as the SDK backend.  Please refer to https://wandb.me/wandb-core for more information.\n",
      "\u001b[34m\u001b[1mwandb\u001b[0m: Currently logged in as: \u001b[33mg-palmieri4998\u001b[0m (\u001b[33mg-palmieri4998-cnr-imati\u001b[0m) to \u001b[32mhttps://api.wandb.ai\u001b[0m. Use \u001b[1m`wandb login --relogin`\u001b[0m to force relogin\n"
     ]
    },
    {
     "data": {
      "text/html": [
       "Tracking run with wandb version 0.19.8"
      ],
      "text/plain": [
       "<IPython.core.display.HTML object>"
      ]
     },
     "metadata": {},
     "output_type": "display_data"
    },
    {
     "data": {
      "text/html": [
       "Run data is saved locally in <code>/home/giorgio/venvs/SHREC/notebooks/output/wandb/run-20250403_160345-kvzt23nv</code>"
      ],
      "text/plain": [
       "<IPython.core.display.HTML object>"
      ]
     },
     "metadata": {},
     "output_type": "display_data"
    },
    {
     "data": {
      "text/html": [
       "Syncing run <strong><a href='https://wandb.ai/g-palmieri4998-cnr-imati/shrec-2025/runs/kvzt23nv' target=\"_blank\">shrec-2025_03042025_160322</a></strong> to <a href='https://wandb.ai/g-palmieri4998-cnr-imati/shrec-2025' target=\"_blank\">Weights & Biases</a> (<a href='https://wandb.me/developer-guide' target=\"_blank\">docs</a>)<br>"
      ],
      "text/plain": [
       "<IPython.core.display.HTML object>"
      ]
     },
     "metadata": {},
     "output_type": "display_data"
    },
    {
     "data": {
      "text/html": [
       " View project at <a href='https://wandb.ai/g-palmieri4998-cnr-imati/shrec-2025' target=\"_blank\">https://wandb.ai/g-palmieri4998-cnr-imati/shrec-2025</a>"
      ],
      "text/plain": [
       "<IPython.core.display.HTML object>"
      ]
     },
     "metadata": {},
     "output_type": "display_data"
    },
    {
     "data": {
      "text/html": [
       " View run at <a href='https://wandb.ai/g-palmieri4998-cnr-imati/shrec-2025/runs/kvzt23nv' target=\"_blank\">https://wandb.ai/g-palmieri4998-cnr-imati/shrec-2025/runs/kvzt23nv</a>"
      ],
      "text/plain": [
       "<IPython.core.display.HTML object>"
      ]
     },
     "metadata": {},
     "output_type": "display_data"
    },
    {
     "name": "stdout",
     "output_type": "stream",
     "text": [
      "//////////////////// Epoch: 1 ////////////////////\n"
     ]
    },
    {
     "name": "stderr",
     "output_type": "stream",
     "text": [
      "  0%|          | 0/800 [00:00<?, ?it/s]"
     ]
    },
    {
     "name": "stdout",
     "output_type": "stream",
     "text": [
      "pred: 5 - target: 1 - loss: 2.298 - raw pred: tensor([[ 5.8811e-04,  1.6078e-02, -5.2709e-05,  3.8626e-02, -4.5133e-03,\n",
      "          4.5262e-02, -1.5456e-02, -2.9716e-02,  2.0289e-02,  4.3462e-02]],\n",
      "       device='cuda:0', grad_fn=<AddmmBackward0>)\n"
     ]
    },
    {
     "name": "stderr",
     "output_type": "stream",
     "text": [
      "100%|██████████| 800/800 [00:04<00:00, 160.09it/s]\n"
     ]
    },
    {
     "name": "stdout",
     "output_type": "stream",
     "text": [
      "//////////////////// Validation ////////////////////\n"
     ]
    },
    {
     "name": "stderr",
     "output_type": "stream",
     "text": [
      " 21%|██        | 42/200 [00:00<00:00, 414.22it/s]"
     ]
    },
    {
     "name": "stdout",
     "output_type": "stream",
     "text": [
      "pred: 7 - target: 4 - loss: 2.376 - raw pred: tensor([[-0.7062,  0.3404, -0.4467, -0.3958, -0.0811,  0.0311,  0.2214,  0.4249,\n",
      "         -0.3802,  0.2570]], device='cuda:0')\n",
      "matching = [False] - accuracy = 0.0\n",
      "matching = [False] - accuracy = 0.0\n",
      "matching = [False] - accuracy = 0.0\n",
      "matching = [False] - accuracy = 0.0\n",
      "matching = [False] - accuracy = 0.0\n",
      "matching = [False] - accuracy = 0.0\n",
      "matching = [False] - accuracy = 0.0\n",
      "matching = [True] - accuracy = 1.0\n",
      "matching = [False] - accuracy = 0.0\n"
     ]
    },
    {
     "name": "stderr",
     "output_type": "stream",
     "text": [
      " 85%|████████▌ | 170/200 [00:00<00:00, 419.12it/s]"
     ]
    },
    {
     "name": "stdout",
     "output_type": "stream",
     "text": [
      "matching = [False] - accuracy = 0.0\n",
      "matching = [False] - accuracy = 0.0\n",
      "matching = [False] - accuracy = 0.0\n",
      "matching = [False] - accuracy = 0.0\n",
      "matching = [False] - accuracy = 0.0\n",
      "matching = [False] - accuracy = 0.0\n",
      "matching = [False] - accuracy = 0.0\n",
      "matching = [False] - accuracy = 0.0\n",
      "matching = [False] - accuracy = 0.0\n"
     ]
    },
    {
     "name": "stderr",
     "output_type": "stream",
     "text": [
      "100%|██████████| 200/200 [00:00<00:00, 416.11it/s]\n"
     ]
    },
    {
     "name": "stdout",
     "output_type": "stream",
     "text": [
      "matching = [False] - accuracy = 0.0\n",
      "matching = [True] - accuracy = 1.0\n",
      "//////////////////// Epoch: 2 ////////////////////\n"
     ]
    },
    {
     "name": "stderr",
     "output_type": "stream",
     "text": [
      "  2%|▏         | 17/800 [00:00<00:04, 164.80it/s]"
     ]
    },
    {
     "name": "stdout",
     "output_type": "stream",
     "text": [
      "pred: 8 - target: 1 - loss: 2.100 - raw pred: tensor([[ 0.5567,  0.2927,  0.2141,  0.2465, -0.5315, -0.3833, -0.5714, -0.3941,\n",
      "          0.8310, -0.6274]], device='cuda:0', grad_fn=<AddmmBackward0>)\n"
     ]
    },
    {
     "name": "stderr",
     "output_type": "stream",
     "text": [
      "100%|██████████| 800/800 [00:04<00:00, 165.46it/s]\n"
     ]
    },
    {
     "name": "stdout",
     "output_type": "stream",
     "text": [
      "//////////////////// Validation ////////////////////\n"
     ]
    },
    {
     "name": "stderr",
     "output_type": "stream",
     "text": [
      " 21%|██        | 42/200 [00:00<00:00, 416.50it/s]"
     ]
    },
    {
     "name": "stdout",
     "output_type": "stream",
     "text": [
      "pred: 7 - target: 5 - loss: 1.829 - raw pred: tensor([[-3.7992, -0.0916, -0.8421, -1.3161,  0.2771,  0.5888,  0.6930,  0.9534,\n",
      "         -1.9612,  0.5483]], device='cuda:0')\n",
      "matching = [False] - accuracy = 0.0\n",
      "matching = [False] - accuracy = 0.0\n",
      "matching = [False] - accuracy = 0.0\n",
      "matching = [True] - accuracy = 1.0\n",
      "matching = [False] - accuracy = 0.0\n",
      "matching = [False] - accuracy = 0.0\n",
      "matching = [False] - accuracy = 0.0\n",
      "matching = [False] - accuracy = 0.0\n",
      "matching = [False] - accuracy = 0.0\n"
     ]
    },
    {
     "name": "stderr",
     "output_type": "stream",
     "text": [
      " 85%|████████▌ | 170/200 [00:00<00:00, 422.20it/s]"
     ]
    },
    {
     "name": "stdout",
     "output_type": "stream",
     "text": [
      "matching = [False] - accuracy = 0.0\n",
      "matching = [False] - accuracy = 0.0\n",
      "matching = [False] - accuracy = 0.0\n",
      "matching = [True] - accuracy = 1.0\n",
      "matching = [False] - accuracy = 0.0\n",
      "matching = [False] - accuracy = 0.0\n",
      "matching = [False] - accuracy = 0.0\n",
      "matching = [False] - accuracy = 0.0\n",
      "matching = [False] - accuracy = 0.0\n"
     ]
    },
    {
     "name": "stderr",
     "output_type": "stream",
     "text": [
      "100%|██████████| 200/200 [00:00<00:00, 420.44it/s]\n"
     ]
    },
    {
     "name": "stdout",
     "output_type": "stream",
     "text": [
      "matching = [False] - accuracy = 0.0\n",
      "matching = [False] - accuracy = 0.0\n",
      "//////////////////// Epoch: 3 ////////////////////\n"
     ]
    },
    {
     "name": "stderr",
     "output_type": "stream",
     "text": [
      "  2%|▏         | 17/800 [00:00<00:04, 165.06it/s]"
     ]
    },
    {
     "name": "stdout",
     "output_type": "stream",
     "text": [
      "pred: 7 - target: 7 - loss: 1.383 - raw pred: tensor([[-4.3797, -0.1189, -0.9720, -1.5225,  0.3192,  0.6741,  0.7979,  1.1062,\n",
      "         -2.2542,  0.6278]], device='cuda:0', grad_fn=<AddmmBackward0>)\n"
     ]
    },
    {
     "name": "stderr",
     "output_type": "stream",
     "text": [
      "100%|██████████| 800/800 [00:04<00:00, 169.31it/s]\n"
     ]
    },
    {
     "name": "stdout",
     "output_type": "stream",
     "text": [
      "//////////////////// Validation ////////////////////\n"
     ]
    },
    {
     "name": "stderr",
     "output_type": "stream",
     "text": [
      " 20%|██        | 40/200 [00:00<00:00, 399.96it/s]"
     ]
    },
    {
     "name": "stdout",
     "output_type": "stream",
     "text": [
      "pred: 8 - target: 8 - loss: 1.281 - raw pred: tensor([[ 0.9969,  0.0194,  0.8445,  0.8981, -0.8519, -1.5674, -1.6458, -2.1391,\n",
      "          1.3060, -1.9149]], device='cuda:0')\n",
      "matching = [True] - accuracy = 1.0\n",
      "matching = [False] - accuracy = 0.0\n",
      "matching = [False] - accuracy = 0.0\n",
      "matching = [True] - accuracy = 1.0\n",
      "matching = [False] - accuracy = 0.0\n",
      "matching = [False] - accuracy = 0.0\n",
      "matching = [True] - accuracy = 1.0\n",
      "matching = [True] - accuracy = 1.0\n",
      "matching = [False] - accuracy = 0.0\n"
     ]
    },
    {
     "name": "stderr",
     "output_type": "stream",
     "text": [
      " 82%|████████▎ | 165/200 [00:00<00:00, 405.83it/s]"
     ]
    },
    {
     "name": "stdout",
     "output_type": "stream",
     "text": [
      "matching = [False] - accuracy = 0.0\n",
      "matching = [True] - accuracy = 1.0\n",
      "matching = [True] - accuracy = 1.0\n",
      "matching = [False] - accuracy = 0.0\n",
      "matching = [True] - accuracy = 1.0\n",
      "matching = [False] - accuracy = 0.0\n",
      "matching = [True] - accuracy = 1.0\n",
      "matching = [False] - accuracy = 0.0\n",
      "matching = [True] - accuracy = 1.0\n"
     ]
    },
    {
     "name": "stderr",
     "output_type": "stream",
     "text": [
      "100%|██████████| 200/200 [00:00<00:00, 406.94it/s]\n"
     ]
    },
    {
     "name": "stdout",
     "output_type": "stream",
     "text": [
      "matching = [True] - accuracy = 1.0\n",
      "matching = [False] - accuracy = 0.0\n",
      "//////////////////// Epoch: 4 ////////////////////\n"
     ]
    },
    {
     "name": "stderr",
     "output_type": "stream",
     "text": [
      "  2%|▏         | 17/800 [00:00<00:04, 166.43it/s]"
     ]
    },
    {
     "name": "stdout",
     "output_type": "stream",
     "text": [
      "pred: 8 - target: 8 - loss: 1.210 - raw pred: tensor([[ 1.4407, -0.0110,  1.0237,  1.0352, -1.1068, -1.8207, -1.9280, -2.5343,\n",
      "          1.5983, -2.2351]], device='cuda:0', grad_fn=<AddmmBackward0>)\n"
     ]
    },
    {
     "name": "stderr",
     "output_type": "stream",
     "text": [
      "100%|██████████| 800/800 [00:04<00:00, 170.27it/s]\n"
     ]
    },
    {
     "name": "stdout",
     "output_type": "stream",
     "text": [
      "//////////////////// Validation ////////////////////\n"
     ]
    },
    {
     "name": "stderr",
     "output_type": "stream",
     "text": [
      " 21%|██        | 42/200 [00:00<00:00, 419.04it/s]"
     ]
    },
    {
     "name": "stdout",
     "output_type": "stream",
     "text": [
      "pred: 1 - target: 1 - loss: 1.681 - raw pred: tensor([[-3.3921,  0.3477, -1.0841, -0.9959,  0.0843,  0.1300, -0.1650,  0.0924,\n",
      "         -0.8953, -0.1396]], device='cuda:0')\n",
      "matching = [True] - accuracy = 1.0\n",
      "matching = [False] - accuracy = 0.0\n",
      "matching = [False] - accuracy = 0.0\n",
      "matching = [False] - accuracy = 0.0\n",
      "matching = [False] - accuracy = 0.0\n",
      "matching = [True] - accuracy = 1.0\n",
      "matching = [False] - accuracy = 0.0\n",
      "matching = [False] - accuracy = 0.0\n",
      "matching = [True] - accuracy = 1.0\n"
     ]
    },
    {
     "name": "stderr",
     "output_type": "stream",
     "text": [
      " 86%|████████▌ | 171/200 [00:00<00:00, 422.58it/s]"
     ]
    },
    {
     "name": "stdout",
     "output_type": "stream",
     "text": [
      "matching = [False] - accuracy = 0.0\n",
      "matching = [True] - accuracy = 1.0\n",
      "matching = [True] - accuracy = 1.0\n",
      "matching = [False] - accuracy = 0.0\n",
      "matching = [False] - accuracy = 0.0\n",
      "matching = [False] - accuracy = 0.0\n",
      "matching = [False] - accuracy = 0.0\n",
      "matching = [True] - accuracy = 1.0\n",
      "matching = [False] - accuracy = 0.0\n"
     ]
    },
    {
     "name": "stderr",
     "output_type": "stream",
     "text": [
      "100%|██████████| 200/200 [00:00<00:00, 419.70it/s]\n"
     ]
    },
    {
     "name": "stdout",
     "output_type": "stream",
     "text": [
      "matching = [False] - accuracy = 0.0\n",
      "matching = [False] - accuracy = 0.0\n",
      "//////////////////// Epoch: 5 ////////////////////\n"
     ]
    },
    {
     "name": "stderr",
     "output_type": "stream",
     "text": [
      "  2%|▏         | 17/800 [00:00<00:04, 162.73it/s]"
     ]
    },
    {
     "name": "stdout",
     "output_type": "stream",
     "text": [
      "pred: 9 - target: 7 - loss: 1.872 - raw pred: tensor([[-3.7550,  0.3256, -1.0736, -1.3989,  0.1491,  0.3250,  0.3296,  0.3244,\n",
      "         -1.3446,  0.3511]], device='cuda:0', grad_fn=<AddmmBackward0>)\n"
     ]
    },
    {
     "name": "stderr",
     "output_type": "stream",
     "text": [
      "100%|██████████| 800/800 [00:04<00:00, 167.66it/s]\n"
     ]
    },
    {
     "name": "stdout",
     "output_type": "stream",
     "text": [
      "//////////////////// Validation ////////////////////\n"
     ]
    },
    {
     "name": "stderr",
     "output_type": "stream",
     "text": [
      " 20%|██        | 41/200 [00:00<00:00, 408.19it/s]"
     ]
    },
    {
     "name": "stdout",
     "output_type": "stream",
     "text": [
      "pred: 3 - target: 3 - loss: 1.147 - raw pred: tensor([[ 1.3028,  0.3121,  2.0507,  2.3237, -2.1450, -3.2071, -5.2265, -4.8689,\n",
      "          2.1935, -5.4792]], device='cuda:0')\n",
      "matching = [True] - accuracy = 1.0\n",
      "matching = [False] - accuracy = 0.0\n",
      "matching = [True] - accuracy = 1.0\n",
      "matching = [False] - accuracy = 0.0\n",
      "matching = [False] - accuracy = 0.0\n",
      "matching = [False] - accuracy = 0.0\n",
      "matching = [False] - accuracy = 0.0\n",
      "matching = [True] - accuracy = 1.0\n",
      "matching = [True] - accuracy = 1.0\n"
     ]
    },
    {
     "name": "stderr",
     "output_type": "stream",
     "text": [
      " 84%|████████▎ | 167/200 [00:00<00:00, 412.11it/s]"
     ]
    },
    {
     "name": "stdout",
     "output_type": "stream",
     "text": [
      "matching = [True] - accuracy = 1.0\n",
      "matching = [True] - accuracy = 1.0\n",
      "matching = [False] - accuracy = 0.0\n",
      "matching = [True] - accuracy = 1.0\n",
      "matching = [True] - accuracy = 1.0\n",
      "matching = [True] - accuracy = 1.0\n",
      "matching = [True] - accuracy = 1.0\n",
      "matching = [False] - accuracy = 0.0\n",
      "matching = [False] - accuracy = 0.0\n"
     ]
    },
    {
     "name": "stderr",
     "output_type": "stream",
     "text": [
      "100%|██████████| 200/200 [00:00<00:00, 410.43it/s]\n"
     ]
    },
    {
     "name": "stdout",
     "output_type": "stream",
     "text": [
      "matching = [True] - accuracy = 1.0\n",
      "matching = [False] - accuracy = 0.0\n",
      "//////////////////// Epoch: 6 ////////////////////\n"
     ]
    },
    {
     "name": "stderr",
     "output_type": "stream",
     "text": [
      "  2%|▏         | 18/800 [00:00<00:04, 172.18it/s]"
     ]
    },
    {
     "name": "stdout",
     "output_type": "stream",
     "text": [
      "pred: 2 - target: 3 - loss: 1.418 - raw pred: tensor([[ 2.1084,  0.4934,  2.3269,  2.2382, -2.3431, -3.3106, -5.7550, -5.2031,\n",
      "          2.2069, -6.1346]], device='cuda:0', grad_fn=<AddmmBackward0>)\n"
     ]
    },
    {
     "name": "stderr",
     "output_type": "stream",
     "text": [
      "100%|██████████| 800/800 [00:04<00:00, 165.70it/s]\n"
     ]
    },
    {
     "name": "stdout",
     "output_type": "stream",
     "text": [
      "//////////////////// Validation ////////////////////\n"
     ]
    },
    {
     "name": "stderr",
     "output_type": "stream",
     "text": [
      " 21%|██        | 42/200 [00:00<00:00, 413.50it/s]"
     ]
    },
    {
     "name": "stdout",
     "output_type": "stream",
     "text": [
      "pred: 8 - target: 4 - loss: 3.506 - raw pred: tensor([[-0.8601,  0.5282,  0.9375,  1.1129, -1.0247, -1.7896, -3.4332, -2.9305,\n",
      "          1.2820, -3.7145]], device='cuda:0')\n",
      "matching = [False] - accuracy = 0.0\n",
      "matching = [False] - accuracy = 0.0\n",
      "matching = [True] - accuracy = 1.0\n",
      "matching = [True] - accuracy = 1.0\n",
      "matching = [True] - accuracy = 1.0\n",
      "matching = [False] - accuracy = 0.0\n",
      "matching = [False] - accuracy = 0.0\n",
      "matching = [False] - accuracy = 0.0\n",
      "matching = [False] - accuracy = 0.0\n"
     ]
    },
    {
     "name": "stderr",
     "output_type": "stream",
     "text": [
      " 86%|████████▌ | 171/200 [00:00<00:00, 421.60it/s]"
     ]
    },
    {
     "name": "stdout",
     "output_type": "stream",
     "text": [
      "matching = [False] - accuracy = 0.0\n",
      "matching = [False] - accuracy = 0.0\n",
      "matching = [False] - accuracy = 0.0\n",
      "matching = [True] - accuracy = 1.0\n",
      "matching = [True] - accuracy = 1.0\n",
      "matching = [False] - accuracy = 0.0\n",
      "matching = [False] - accuracy = 0.0\n",
      "matching = [False] - accuracy = 0.0\n",
      "matching = [True] - accuracy = 1.0\n"
     ]
    },
    {
     "name": "stderr",
     "output_type": "stream",
     "text": [
      "100%|██████████| 200/200 [00:00<00:00, 419.98it/s]\n"
     ]
    },
    {
     "name": "stdout",
     "output_type": "stream",
     "text": [
      "matching = [False] - accuracy = 0.0\n",
      "matching = [False] - accuracy = 0.0\n",
      "//////////////////// Epoch: 7 ////////////////////\n"
     ]
    },
    {
     "name": "stderr",
     "output_type": "stream",
     "text": [
      "  2%|▏         | 17/800 [00:00<00:04, 164.86it/s]"
     ]
    },
    {
     "name": "stdout",
     "output_type": "stream",
     "text": [
      "pred: 1 - target: 1 - loss: 1.122 - raw pred: tensor([[-4.6199,  0.8158, -0.6361, -1.4303,  0.4382, -0.3329, -1.0140, -0.2823,\n",
      "         -1.3042, -1.3844]], device='cuda:0', grad_fn=<AddmmBackward0>)\n"
     ]
    },
    {
     "name": "stderr",
     "output_type": "stream",
     "text": [
      "100%|██████████| 800/800 [00:04<00:00, 166.26it/s]\n"
     ]
    },
    {
     "name": "stdout",
     "output_type": "stream",
     "text": [
      "//////////////////// Validation ////////////////////\n"
     ]
    },
    {
     "name": "stderr",
     "output_type": "stream",
     "text": [
      " 20%|██        | 41/200 [00:00<00:00, 402.94it/s]"
     ]
    },
    {
     "name": "stdout",
     "output_type": "stream",
     "text": [
      "pred: 4 - target: 6 - loss: 3.660 - raw pred: tensor([[-4.8302,  0.2903, -1.5641, -1.2501,  0.4354,  0.1834, -1.7952,  0.0471,\n",
      "         -0.7877, -1.6328]], device='cuda:0')\n",
      "matching = [False] - accuracy = 0.0\n",
      "matching = [False] - accuracy = 0.0\n",
      "matching = [True] - accuracy = 1.0\n",
      "matching = [False] - accuracy = 0.0\n",
      "matching = [False] - accuracy = 0.0\n",
      "matching = [True] - accuracy = 1.0\n",
      "matching = [False] - accuracy = 0.0\n",
      "matching = [True] - accuracy = 1.0\n",
      "matching = [False] - accuracy = 0.0\n"
     ]
    },
    {
     "name": "stderr",
     "output_type": "stream",
     "text": [
      " 62%|██████▏   | 123/200 [00:00<00:00, 400.38it/s]"
     ]
    },
    {
     "name": "stdout",
     "output_type": "stream",
     "text": [
      "matching = [True] - accuracy = 1.0\n",
      "matching = [True] - accuracy = 1.0\n",
      "matching = [True] - accuracy = 1.0\n",
      "matching = [True] - accuracy = 1.0\n",
      "matching = [False] - accuracy = 0.0\n",
      "matching = [False] - accuracy = 0.0\n",
      "matching = [True] - accuracy = 1.0\n",
      "matching = [False] - accuracy = 0.0\n"
     ]
    },
    {
     "name": "stderr",
     "output_type": "stream",
     "text": [
      " 82%|████████▏ | 164/200 [00:00<00:00, 402.17it/s]"
     ]
    },
    {
     "name": "stdout",
     "output_type": "stream",
     "text": [
      "matching = [True] - accuracy = 1.0"
     ]
    },
    {
     "name": "stderr",
     "output_type": "stream",
     "text": [
      "100%|██████████| 200/200 [00:00<00:00, 399.83it/s]\n"
     ]
    },
    {
     "name": "stdout",
     "output_type": "stream",
     "text": [
      "\n",
      "matching = [False] - accuracy = 0.0\n",
      "matching = [False] - accuracy = 0.0\n",
      "//////////////////// Epoch: 8 ////////////////////\n"
     ]
    },
    {
     "name": "stderr",
     "output_type": "stream",
     "text": [
      "  2%|▏         | 17/800 [00:00<00:04, 163.50it/s]"
     ]
    },
    {
     "name": "stdout",
     "output_type": "stream",
     "text": [
      "pred: 0 - target: 3 - loss: 2.072 - raw pred: tensor([[  5.5285,   0.2909,   3.5537,   3.7865,  -3.5665,  -4.2213, -10.4101,\n",
      "          -8.3109,   2.8844, -10.6627]], device='cuda:0',\n",
      "       grad_fn=<AddmmBackward0>)\n"
     ]
    },
    {
     "name": "stderr",
     "output_type": "stream",
     "text": [
      "100%|██████████| 800/800 [00:04<00:00, 165.73it/s]\n"
     ]
    },
    {
     "name": "stdout",
     "output_type": "stream",
     "text": [
      "//////////////////// Validation ////////////////////\n"
     ]
    },
    {
     "name": "stderr",
     "output_type": "stream",
     "text": [
      " 22%|██▏       | 43/200 [00:00<00:00, 421.90it/s]"
     ]
    },
    {
     "name": "stdout",
     "output_type": "stream",
     "text": [
      "pred: 9 - target: 6 - loss: 1.460 - raw pred: tensor([[-12.7812,  -0.2032,  -3.5222,  -6.7664,  -0.1194,   1.8209,   2.2626,\n",
      "           1.6200,  -4.8182,   2.9334]], device='cuda:0')\n",
      "matching = [False] - accuracy = 0.0\n",
      "matching = [True] - accuracy = 1.0\n",
      "matching = [False] - accuracy = 0.0\n",
      "matching = [True] - accuracy = 1.0\n",
      "matching = [True] - accuracy = 1.0\n",
      "matching = [True] - accuracy = 1.0\n",
      "matching = [True] - accuracy = 1.0\n",
      "matching = [False] - accuracy = 0.0\n",
      "matching = [True] - accuracy = 1.0\n"
     ]
    },
    {
     "name": "stderr",
     "output_type": "stream",
     "text": [
      " 86%|████████▌ | 172/200 [00:00<00:00, 422.63it/s]"
     ]
    },
    {
     "name": "stdout",
     "output_type": "stream",
     "text": [
      "matching = [False] - accuracy = 0.0\n",
      "matching = [True] - accuracy = 1.0\n",
      "matching = [False] - accuracy = 0.0\n",
      "matching = [False] - accuracy = 0.0\n",
      "matching = [True] - accuracy = 1.0\n",
      "matching = [True] - accuracy = 1.0\n",
      "matching = [True] - accuracy = 1.0\n",
      "matching = [True] - accuracy = 1.0\n",
      "matching = [True] - accuracy = 1.0\n"
     ]
    },
    {
     "name": "stderr",
     "output_type": "stream",
     "text": [
      "100%|██████████| 200/200 [00:00<00:00, 421.02it/s]\n"
     ]
    },
    {
     "name": "stdout",
     "output_type": "stream",
     "text": [
      "matching = [False] - accuracy = 0.0\n",
      "matching = [False] - accuracy = 0.0\n",
      "//////////////////// Epoch: 9 ////////////////////\n"
     ]
    },
    {
     "name": "stderr",
     "output_type": "stream",
     "text": [
      "  2%|▏         | 17/800 [00:00<00:04, 164.66it/s]"
     ]
    },
    {
     "name": "stdout",
     "output_type": "stream",
     "text": [
      "pred: 8 - target: 2 - loss: 1.675 - raw pred: tensor([[ 1.7690,  0.1012,  2.5385,  2.9026, -2.6395, -3.0005, -8.2655, -6.2150,\n",
      "          3.3878, -8.0387]], device='cuda:0', grad_fn=<AddmmBackward0>)\n"
     ]
    },
    {
     "name": "stderr",
     "output_type": "stream",
     "text": [
      "100%|██████████| 800/800 [00:04<00:00, 166.91it/s]\n"
     ]
    },
    {
     "name": "stdout",
     "output_type": "stream",
     "text": [
      "//////////////////// Validation ////////////////////\n"
     ]
    },
    {
     "name": "stderr",
     "output_type": "stream",
     "text": [
      " 22%|██▏       | 43/200 [00:00<00:00, 421.56it/s]"
     ]
    },
    {
     "name": "stdout",
     "output_type": "stream",
     "text": [
      "pred: 7 - target: 6 - loss: 1.292 - raw pred: tensor([[-8.8001, -0.4214, -3.4446, -4.7431, -0.1537,  1.4392,  1.9687,  2.0773,\n",
      "         -3.0937,  1.6320]], device='cuda:0')\n",
      "matching = [False] - accuracy = 0.0\n",
      "matching = [True] - accuracy = 1.0\n",
      "matching = [True] - accuracy = 1.0\n",
      "matching = [True] - accuracy = 1.0\n",
      "matching = [False] - accuracy = 0.0\n",
      "matching = [False] - accuracy = 0.0\n",
      "matching = [False] - accuracy = 0.0\n",
      "matching = [False] - accuracy = 0.0\n",
      "matching = [True] - accuracy = 1.0\n"
     ]
    },
    {
     "name": "stderr",
     "output_type": "stream",
     "text": [
      " 86%|████████▌ | 172/200 [00:00<00:00, 424.83it/s]"
     ]
    },
    {
     "name": "stdout",
     "output_type": "stream",
     "text": [
      "matching = [False] - accuracy = 0.0\n",
      "matching = [True] - accuracy = 1.0\n",
      "matching = [True] - accuracy = 1.0\n",
      "matching = [False] - accuracy = 0.0\n",
      "matching = [False] - accuracy = 0.0\n",
      "matching = [False] - accuracy = 0.0\n",
      "matching = [False] - accuracy = 0.0\n",
      "matching = [False] - accuracy = 0.0\n",
      "matching = [True] - accuracy = 1.0\n"
     ]
    },
    {
     "name": "stderr",
     "output_type": "stream",
     "text": [
      "100%|██████████| 200/200 [00:00<00:00, 422.71it/s]\n"
     ]
    },
    {
     "name": "stdout",
     "output_type": "stream",
     "text": [
      "matching = [False] - accuracy = 0.0\n",
      "matching = [True] - accuracy = 1.0\n",
      "//////////////////// Epoch: 10 ////////////////////\n"
     ]
    },
    {
     "name": "stderr",
     "output_type": "stream",
     "text": [
      "  2%|▏         | 17/800 [00:00<00:04, 165.71it/s]"
     ]
    },
    {
     "name": "stdout",
     "output_type": "stream",
     "text": [
      "pred: 7 - target: 7 - loss: 1.101 - raw pred: tensor([[-10.3512,  -0.4554,  -4.0223,  -5.5837,  -0.1528,   1.6525,   2.3188,\n",
      "           2.4572,  -3.6346,   1.8720]], device='cuda:0',\n",
      "       grad_fn=<AddmmBackward0>)\n"
     ]
    },
    {
     "name": "stderr",
     "output_type": "stream",
     "text": [
      "100%|██████████| 800/800 [00:04<00:00, 167.99it/s]\n"
     ]
    },
    {
     "name": "stdout",
     "output_type": "stream",
     "text": [
      "//////////////////// Validation ////////////////////\n"
     ]
    },
    {
     "name": "stderr",
     "output_type": "stream",
     "text": [
      " 21%|██        | 42/200 [00:00<00:00, 419.16it/s]"
     ]
    },
    {
     "name": "stdout",
     "output_type": "stream",
     "text": [
      "pred: 1 - target: 2 - loss: 1.568 - raw pred: tensor([[-2.6728,  0.9054,  0.6356,  0.7852,  0.0277, -0.9655, -4.6044, -1.9953,\n",
      "         -0.1351, -4.9361]], device='cuda:0')\n",
      "matching = [False] - accuracy = 0.0\n",
      "matching = [False] - accuracy = 0.0\n",
      "matching = [True] - accuracy = 1.0\n",
      "matching = [False] - accuracy = 0.0\n",
      "matching = [False] - accuracy = 0.0\n",
      "matching = [False] - accuracy = 0.0\n",
      "matching = [True] - accuracy = 1.0\n",
      "matching = [False] - accuracy = 0.0\n",
      "matching = [True] - accuracy = 1.0\n"
     ]
    },
    {
     "name": "stderr",
     "output_type": "stream",
     "text": [
      " 86%|████████▌ | 171/200 [00:00<00:00, 421.97it/s]"
     ]
    },
    {
     "name": "stdout",
     "output_type": "stream",
     "text": [
      "matching = [False] - accuracy = 0.0\n",
      "matching = [True] - accuracy = 1.0\n",
      "matching = [True] - accuracy = 1.0\n",
      "matching = [False] - accuracy = 0.0\n",
      "matching = [False] - accuracy = 0.0\n",
      "matching = [False] - accuracy = 0.0\n",
      "matching = [True] - accuracy = 1.0\n",
      "matching = [False] - accuracy = 0.0\n",
      "matching = [True] - accuracy = 1.0\n"
     ]
    },
    {
     "name": "stderr",
     "output_type": "stream",
     "text": [
      "100%|██████████| 200/200 [00:00<00:00, 416.55it/s]\n"
     ]
    },
    {
     "name": "stdout",
     "output_type": "stream",
     "text": [
      "matching = [True] - accuracy = 1.0\n",
      "matching = [False] - accuracy = 0.0\n",
      "//////////////////// Epoch: 11 ////////////////////\n"
     ]
    },
    {
     "name": "stderr",
     "output_type": "stream",
     "text": [
      "  2%|▏         | 17/800 [00:00<00:04, 167.15it/s]"
     ]
    },
    {
     "name": "stdout",
     "output_type": "stream",
     "text": [
      "pred: 8 - target: 8 - loss: 0.612 - raw pred: tensor([[-1.3538,  0.5443,  1.7371,  1.3353, -1.0528, -1.7701, -7.7769, -4.0660,\n",
      "          2.6538, -7.9661]], device='cuda:0', grad_fn=<AddmmBackward0>)\n"
     ]
    },
    {
     "name": "stderr",
     "output_type": "stream",
     "text": [
      "100%|██████████| 800/800 [00:04<00:00, 167.59it/s]\n"
     ]
    },
    {
     "name": "stdout",
     "output_type": "stream",
     "text": [
      "//////////////////// Validation ////////////////////\n"
     ]
    },
    {
     "name": "stderr",
     "output_type": "stream",
     "text": [
      " 20%|██        | 41/200 [00:00<00:00, 404.72it/s]"
     ]
    },
    {
     "name": "stdout",
     "output_type": "stream",
     "text": [
      "pred: 9 - target: 7 - loss: 2.175 - raw pred: tensor([[-12.6351,  -1.6610,  -4.3955,  -6.6459,   0.0780,   1.2982,   3.3698,\n",
      "           2.4568,  -3.7635,   4.0428]], device='cuda:0')\n",
      "matching = [False] - accuracy = 0.0\n",
      "matching = [True] - accuracy = 1.0\n",
      "matching = [False] - accuracy = 0.0\n",
      "matching = [True] - accuracy = 1.0\n",
      "matching = [False] - accuracy = 0.0\n",
      "matching = [True] - accuracy = 1.0\n",
      "matching = [True] - accuracy = 1.0\n",
      "matching = [False] - accuracy = 0.0\n",
      "matching = [False] - accuracy = 0.0\n"
     ]
    },
    {
     "name": "stderr",
     "output_type": "stream",
     "text": [
      " 82%|████████▏ | 164/200 [00:00<00:00, 406.85it/s]"
     ]
    },
    {
     "name": "stdout",
     "output_type": "stream",
     "text": [
      "matching = [True] - accuracy = 1.0\n",
      "matching = [True] - accuracy = 1.0\n",
      "matching = [False] - accuracy = 0.0\n",
      "matching = [False] - accuracy = 0.0\n",
      "matching = [False] - accuracy = 0.0\n",
      "matching = [False] - accuracy = 0.0\n",
      "matching = [False] - accuracy = 0.0\n",
      "matching = [True] - accuracy = 1.0\n",
      "matching = [False] - accuracy = 0.0\n"
     ]
    },
    {
     "name": "stderr",
     "output_type": "stream",
     "text": [
      "100%|██████████| 200/200 [00:00<00:00, 406.50it/s]\n"
     ]
    },
    {
     "name": "stdout",
     "output_type": "stream",
     "text": [
      "matching = [True] - accuracy = 1.0\n",
      "matching = [False] - accuracy = 0.0\n",
      "//////////////////// Epoch: 12 ////////////////////\n"
     ]
    },
    {
     "name": "stderr",
     "output_type": "stream",
     "text": [
      "  2%|▏         | 17/800 [00:00<00:04, 162.75it/s]"
     ]
    },
    {
     "name": "stdout",
     "output_type": "stream",
     "text": [
      "pred: 8 - target: 2 - loss: 1.116 - raw pred: tensor([[-0.6333,  0.6468,  2.1938,  1.2625, -0.8272, -2.6133, -6.6638, -4.5602,\n",
      "          2.4767, -6.6053]], device='cuda:0', grad_fn=<AddmmBackward0>)\n"
     ]
    },
    {
     "name": "stderr",
     "output_type": "stream",
     "text": [
      "100%|██████████| 800/800 [00:04<00:00, 168.14it/s]\n"
     ]
    },
    {
     "name": "stdout",
     "output_type": "stream",
     "text": [
      "//////////////////// Validation ////////////////////\n"
     ]
    },
    {
     "name": "stderr",
     "output_type": "stream",
     "text": [
      " 20%|██        | 41/200 [00:00<00:00, 408.96it/s]"
     ]
    },
    {
     "name": "stdout",
     "output_type": "stream",
     "text": [
      "pred: 5 - target: 9 - loss: 2.672 - raw pred: tensor([[-7.2783, -0.0597, -3.0546, -3.4166,  0.6189,  0.7642, -0.0122,  0.6657,\n",
      "         -1.8837, -0.5065]], device='cuda:0')\n",
      "matching = [False] - accuracy = 0.0\n",
      "matching = [False] - accuracy = 0.0\n",
      "matching = [False] - accuracy = 0.0\n",
      "matching = [False] - accuracy = 0.0\n",
      "matching = [True] - accuracy = 1.0\n",
      "matching = [True] - accuracy = 1.0\n",
      "matching = [False] - accuracy = 0.0\n",
      "matching = [True] - accuracy = 1.0\n",
      "matching = [False] - accuracy = 0.0\n"
     ]
    },
    {
     "name": "stderr",
     "output_type": "stream",
     "text": [
      " 84%|████████▍ | 169/200 [00:00<00:00, 417.54it/s]"
     ]
    },
    {
     "name": "stdout",
     "output_type": "stream",
     "text": [
      "matching = [True] - accuracy = 1.0\n",
      "matching = [False] - accuracy = 0.0\n",
      "matching = [True] - accuracy = 1.0\n",
      "matching = [False] - accuracy = 0.0\n",
      "matching = [False] - accuracy = 0.0\n",
      "matching = [False] - accuracy = 0.0\n",
      "matching = [False] - accuracy = 0.0\n",
      "matching = [False] - accuracy = 0.0\n",
      "matching = [True] - accuracy = 1.0\n"
     ]
    },
    {
     "name": "stderr",
     "output_type": "stream",
     "text": [
      "100%|██████████| 200/200 [00:00<00:00, 413.73it/s]\n"
     ]
    },
    {
     "name": "stdout",
     "output_type": "stream",
     "text": [
      "matching = [True] - accuracy = 1.0\n",
      "matching = [True] - accuracy = 1.0\n",
      "//////////////////// Epoch: 13 ////////////////////\n"
     ]
    },
    {
     "name": "stderr",
     "output_type": "stream",
     "text": [
      "  2%|▏         | 17/800 [00:00<00:04, 166.99it/s]"
     ]
    },
    {
     "name": "stdout",
     "output_type": "stream",
     "text": [
      "pred: 5 - target: 7 - loss: 1.535 - raw pred: tensor([[-6.7655,  0.4026, -2.2971, -2.5179,  0.7474,  0.7760, -1.2591,  0.5850,\n",
      "         -1.9000, -1.9646]], device='cuda:0', grad_fn=<AddmmBackward0>)\n"
     ]
    },
    {
     "name": "stderr",
     "output_type": "stream",
     "text": [
      "100%|██████████| 800/800 [00:04<00:00, 165.61it/s]\n"
     ]
    },
    {
     "name": "stdout",
     "output_type": "stream",
     "text": [
      "//////////////////// Validation ////////////////////\n"
     ]
    },
    {
     "name": "stderr",
     "output_type": "stream",
     "text": [
      " 21%|██        | 42/200 [00:00<00:00, 412.99it/s]"
     ]
    },
    {
     "name": "stdout",
     "output_type": "stream",
     "text": [
      "pred: 9 - target: 9 - loss: 0.897 - raw pred: tensor([[-10.3972,  -1.4527,  -4.6347,  -5.7766,  -0.5038,   1.6701,   2.6523,\n",
      "           1.9112,  -3.1192,   2.9279]], device='cuda:0')\n",
      "matching = [True] - accuracy = 1.0\n",
      "matching = [True] - accuracy = 1.0\n",
      "matching = [False] - accuracy = 0.0\n",
      "matching = [True] - accuracy = 1.0\n",
      "matching = [False] - accuracy = 0.0\n",
      "matching = [True] - accuracy = 1.0\n",
      "matching = [False] - accuracy = 0.0\n",
      "matching = [False] - accuracy = 0.0\n",
      "matching = [False] - accuracy = 0.0\n"
     ]
    },
    {
     "name": "stderr",
     "output_type": "stream",
     "text": [
      " 84%|████████▍ | 169/200 [00:00<00:00, 417.60it/s]"
     ]
    },
    {
     "name": "stdout",
     "output_type": "stream",
     "text": [
      "matching = [True] - accuracy = 1.0\n",
      "matching = [True] - accuracy = 1.0\n",
      "matching = [False] - accuracy = 0.0\n",
      "matching = [True] - accuracy = 1.0\n",
      "matching = [False] - accuracy = 0.0\n",
      "matching = [True] - accuracy = 1.0\n",
      "matching = [True] - accuracy = 1.0\n",
      "matching = [True] - accuracy = 1.0\n",
      "matching = [False] - accuracy = 0.0\n"
     ]
    },
    {
     "name": "stderr",
     "output_type": "stream",
     "text": [
      "100%|██████████| 200/200 [00:00<00:00, 414.49it/s]\n"
     ]
    },
    {
     "name": "stdout",
     "output_type": "stream",
     "text": [
      "matching = [False] - accuracy = 0.0\n",
      "matching = [False] - accuracy = 0.0\n",
      "//////////////////// Epoch: 14 ////////////////////\n"
     ]
    },
    {
     "name": "stderr",
     "output_type": "stream",
     "text": [
      "  2%|▏         | 17/800 [00:00<00:04, 164.54it/s]"
     ]
    },
    {
     "name": "stdout",
     "output_type": "stream",
     "text": [
      "pred: 8 - target: 3 - loss: 1.267 - raw pred: tensor([[  1.7730,   0.5943,   3.4028,   3.6669,  -3.6902,  -4.0143, -11.8116,\n",
      "          -8.6717,   4.1280, -13.1731]], device='cuda:0',\n",
      "       grad_fn=<AddmmBackward0>)\n"
     ]
    },
    {
     "name": "stderr",
     "output_type": "stream",
     "text": [
      "100%|██████████| 800/800 [00:04<00:00, 166.73it/s]\n"
     ]
    },
    {
     "name": "stdout",
     "output_type": "stream",
     "text": [
      "//////////////////// Validation ////////////////////\n"
     ]
    },
    {
     "name": "stderr",
     "output_type": "stream",
     "text": [
      " 21%|██        | 42/200 [00:00<00:00, 413.90it/s]"
     ]
    },
    {
     "name": "stdout",
     "output_type": "stream",
     "text": [
      "pred: 1 - target: 2 - loss: 1.335 - raw pred: tensor([[-4.7731,  1.2654,  1.1165, -1.5812,  0.9870, -0.8344, -5.6476, -1.8606,\n",
      "          0.4122, -7.4434]], device='cuda:0')\n",
      "matching = [False] - accuracy = 0.0\n",
      "matching = [True] - accuracy = 1.0\n",
      "matching = [False] - accuracy = 0.0\n",
      "matching = [False] - accuracy = 0.0\n",
      "matching = [False] - accuracy = 0.0\n",
      "matching = [True] - accuracy = 1.0\n",
      "matching = [False] - accuracy = 0.0\n",
      "matching = [False] - accuracy = 0.0\n",
      "matching = [False] - accuracy = 0.0\n"
     ]
    },
    {
     "name": "stderr",
     "output_type": "stream",
     "text": [
      " 86%|████████▌ | 171/200 [00:00<00:00, 422.09it/s]"
     ]
    },
    {
     "name": "stdout",
     "output_type": "stream",
     "text": [
      "matching = [False] - accuracy = 0.0\n",
      "matching = [True] - accuracy = 1.0\n",
      "matching = [False] - accuracy = 0.0\n",
      "matching = [False] - accuracy = 0.0\n",
      "matching = [True] - accuracy = 1.0\n",
      "matching = [True] - accuracy = 1.0\n",
      "matching = [True] - accuracy = 1.0\n",
      "matching = [False] - accuracy = 0.0\n",
      "matching = [False] - accuracy = 0.0\n"
     ]
    },
    {
     "name": "stderr",
     "output_type": "stream",
     "text": [
      "100%|██████████| 200/200 [00:00<00:00, 420.54it/s]\n"
     ]
    },
    {
     "name": "stdout",
     "output_type": "stream",
     "text": [
      "matching = [True] - accuracy = 1.0\n",
      "matching = [True] - accuracy = 1.0\n",
      "//////////////////// Epoch: 15 ////////////////////\n"
     ]
    },
    {
     "name": "stderr",
     "output_type": "stream",
     "text": [
      "  2%|▏         | 17/800 [00:00<00:04, 162.26it/s]"
     ]
    },
    {
     "name": "stdout",
     "output_type": "stream",
     "text": [
      "pred: 6 - target: 6 - loss: 0.701 - raw pred: tensor([[-13.1148,  -0.9153,  -4.9462,  -6.8033,  -0.0444,   1.2256,   3.0668,\n",
      "           2.4969,  -3.9332,   1.5843]], device='cuda:0',\n",
      "       grad_fn=<AddmmBackward0>)\n"
     ]
    },
    {
     "name": "stderr",
     "output_type": "stream",
     "text": [
      "100%|██████████| 800/800 [00:04<00:00, 165.57it/s]\n"
     ]
    },
    {
     "name": "stdout",
     "output_type": "stream",
     "text": [
      "//////////////////// Validation ////////////////////\n"
     ]
    },
    {
     "name": "stderr",
     "output_type": "stream",
     "text": [
      " 21%|██        | 42/200 [00:00<00:00, 419.13it/s]"
     ]
    },
    {
     "name": "stdout",
     "output_type": "stream",
     "text": [
      "pred: 4 - target: 5 - loss: 1.713 - raw pred: tensor([[-5.4867,  0.7828, -1.6332, -1.0288,  1.2137,  0.5284, -3.3687,  0.2889,\n",
      "         -1.4924, -4.7093]], device='cuda:0')\n",
      "matching = [False] - accuracy = 0.0\n",
      "matching = [False] - accuracy = 0.0\n",
      "matching = [False] - accuracy = 0.0\n",
      "matching = [False] - accuracy = 0.0\n",
      "matching = [True] - accuracy = 1.0\n",
      "matching = [False] - accuracy = 0.0\n",
      "matching = [True] - accuracy = 1.0\n",
      "matching = [False] - accuracy = 0.0\n",
      "matching = [False] - accuracy = 0.0\n"
     ]
    },
    {
     "name": "stderr",
     "output_type": "stream",
     "text": [
      " 86%|████████▌ | 171/200 [00:00<00:00, 423.92it/s]"
     ]
    },
    {
     "name": "stdout",
     "output_type": "stream",
     "text": [
      "matching = [True] - accuracy = 1.0\n",
      "matching = [False] - accuracy = 0.0\n",
      "matching = [False] - accuracy = 0.0\n",
      "matching = [False] - accuracy = 0.0\n",
      "matching = [False] - accuracy = 0.0\n",
      "matching = [False] - accuracy = 0.0\n",
      "matching = [True] - accuracy = 1.0\n",
      "matching = [False] - accuracy = 0.0\n",
      "matching = [True] - accuracy = 1.0\n"
     ]
    },
    {
     "name": "stderr",
     "output_type": "stream",
     "text": [
      "100%|██████████| 200/200 [00:00<00:00, 421.94it/s]\n"
     ]
    },
    {
     "name": "stdout",
     "output_type": "stream",
     "text": [
      "matching = [False] - accuracy = 0.0\n",
      "matching = [False] - accuracy = 0.0\n",
      "//////////////////// Epoch: 16 ////////////////////\n"
     ]
    },
    {
     "name": "stderr",
     "output_type": "stream",
     "text": [
      "  2%|▏         | 17/800 [00:00<00:04, 167.96it/s]"
     ]
    },
    {
     "name": "stdout",
     "output_type": "stream",
     "text": [
      "pred: 2 - target: 3 - loss: 1.617 - raw pred: tensor([[ -0.6136,   1.2114,   4.7124,   3.4194,  -1.8518,  -3.9601, -15.2310,\n",
      "          -9.2240,   2.0688, -17.7630]], device='cuda:0',\n",
      "       grad_fn=<AddmmBackward0>)\n"
     ]
    },
    {
     "name": "stderr",
     "output_type": "stream",
     "text": [
      "100%|██████████| 800/800 [00:04<00:00, 167.91it/s]\n"
     ]
    },
    {
     "name": "stdout",
     "output_type": "stream",
     "text": [
      "//////////////////// Validation ////////////////////\n"
     ]
    },
    {
     "name": "stderr",
     "output_type": "stream",
     "text": [
      " 21%|██        | 42/200 [00:00<00:00, 416.13it/s]"
     ]
    },
    {
     "name": "stdout",
     "output_type": "stream",
     "text": [
      "pred: 4 - target: 1 - loss: 1.430 - raw pred: tensor([[-4.9641,  0.7633, -1.2856, -1.6221,  0.8305,  0.5037, -2.2795,  0.7086,\n",
      "         -1.4786, -3.6857]], device='cuda:0')\n",
      "matching = [False] - accuracy = 0.0\n",
      "matching = [False] - accuracy = 0.0\n",
      "matching = [False] - accuracy = 0.0\n",
      "matching = [True] - accuracy = 1.0\n",
      "matching = [True] - accuracy = 1.0\n",
      "matching = [True] - accuracy = 1.0\n",
      "matching = [True] - accuracy = 1.0\n",
      "matching = [False] - accuracy = 0.0\n",
      "matching = [True] - accuracy = 1.0\n"
     ]
    },
    {
     "name": "stderr",
     "output_type": "stream",
     "text": [
      " 86%|████████▌ | 171/200 [00:00<00:00, 422.62it/s]"
     ]
    },
    {
     "name": "stdout",
     "output_type": "stream",
     "text": [
      "matching = [True] - accuracy = 1.0\n",
      "matching = [True] - accuracy = 1.0\n",
      "matching = [False] - accuracy = 0.0\n",
      "matching = [True] - accuracy = 1.0\n",
      "matching = [False] - accuracy = 0.0\n",
      "matching = [False] - accuracy = 0.0\n",
      "matching = [False] - accuracy = 0.0\n",
      "matching = [True] - accuracy = 1.0\n",
      "matching = [False] - accuracy = 0.0\n"
     ]
    },
    {
     "name": "stderr",
     "output_type": "stream",
     "text": [
      "100%|██████████| 200/200 [00:00<00:00, 421.02it/s]\n"
     ]
    },
    {
     "name": "stdout",
     "output_type": "stream",
     "text": [
      "matching = [False] - accuracy = 0.0\n",
      "matching = [False] - accuracy = 0.0\n",
      "//////////////////// Epoch: 17 ////////////////////\n"
     ]
    },
    {
     "name": "stderr",
     "output_type": "stream",
     "text": [
      "  2%|▏         | 17/800 [00:00<00:04, 164.72it/s]"
     ]
    },
    {
     "name": "stdout",
     "output_type": "stream",
     "text": [
      "pred: 0 - target: 0 - loss: 0.572 - raw pred: tensor([[ 3.9525,  0.5475,  1.6238,  3.3710, -4.2438, -2.9035, -8.3970, -6.7406,\n",
      "          1.4447, -8.9376]], device='cuda:0', grad_fn=<AddmmBackward0>)\n"
     ]
    },
    {
     "name": "stderr",
     "output_type": "stream",
     "text": [
      "100%|██████████| 800/800 [00:04<00:00, 167.14it/s]\n"
     ]
    },
    {
     "name": "stdout",
     "output_type": "stream",
     "text": [
      "//////////////////// Validation ////////////////////\n"
     ]
    },
    {
     "name": "stderr",
     "output_type": "stream",
     "text": [
      " 21%|██        | 42/200 [00:00<00:00, 413.88it/s]"
     ]
    },
    {
     "name": "stdout",
     "output_type": "stream",
     "text": [
      "pred: 4 - target: 6 - loss: 3.331 - raw pred: tensor([[-9.9742,  0.8721, -2.5339, -3.7913,  1.4284, -0.1653, -0.8330,  1.4067,\n",
      "         -2.8617, -2.6131]], device='cuda:0')\n",
      "matching = [False] - accuracy = 0.0\n",
      "matching = [True] - accuracy = 1.0\n",
      "matching = [True] - accuracy = 1.0\n",
      "matching = [False] - accuracy = 0.0\n",
      "matching = [True] - accuracy = 1.0\n",
      "matching = [True] - accuracy = 1.0\n",
      "matching = [False] - accuracy = 0.0\n",
      "matching = [False] - accuracy = 0.0\n",
      "matching = [False] - accuracy = 0.0\n"
     ]
    },
    {
     "name": "stderr",
     "output_type": "stream",
     "text": [
      " 86%|████████▌ | 171/200 [00:00<00:00, 422.00it/s]"
     ]
    },
    {
     "name": "stdout",
     "output_type": "stream",
     "text": [
      "matching = [False] - accuracy = 0.0\n",
      "matching = [False] - accuracy = 0.0\n",
      "matching = [False] - accuracy = 0.0\n",
      "matching = [False] - accuracy = 0.0\n",
      "matching = [False] - accuracy = 0.0\n",
      "matching = [False] - accuracy = 0.0\n",
      "matching = [True] - accuracy = 1.0\n",
      "matching = [False] - accuracy = 0.0\n",
      "matching = [False] - accuracy = 0.0\n"
     ]
    },
    {
     "name": "stderr",
     "output_type": "stream",
     "text": [
      "100%|██████████| 200/200 [00:00<00:00, 419.55it/s]\n"
     ]
    },
    {
     "name": "stdout",
     "output_type": "stream",
     "text": [
      "matching = [False] - accuracy = 0.0\n",
      "matching = [True] - accuracy = 1.0\n",
      "//////////////////// Epoch: 18 ////////////////////\n"
     ]
    },
    {
     "name": "stderr",
     "output_type": "stream",
     "text": [
      "  2%|▏         | 17/800 [00:00<00:04, 169.72it/s]"
     ]
    },
    {
     "name": "stdout",
     "output_type": "stream",
     "text": [
      "pred: 9 - target: 9 - loss: 0.827 - raw pred: tensor([[-9.3969e+00,  8.8186e-04, -1.7762e+00, -4.8119e+00,  2.6946e-01,\n",
      "         -1.3354e+00,  2.1045e+00, -2.7475e-02, -2.4479e+00,  2.2348e+00]],\n",
      "       device='cuda:0', grad_fn=<AddmmBackward0>)\n"
     ]
    },
    {
     "name": "stderr",
     "output_type": "stream",
     "text": [
      "100%|██████████| 800/800 [00:04<00:00, 166.70it/s]\n"
     ]
    },
    {
     "name": "stdout",
     "output_type": "stream",
     "text": [
      "//////////////////// Validation ////////////////////\n"
     ]
    },
    {
     "name": "stderr",
     "output_type": "stream",
     "text": [
      " 21%|██        | 42/200 [00:00<00:00, 411.35it/s]"
     ]
    },
    {
     "name": "stdout",
     "output_type": "stream",
     "text": [
      "pred: 8 - target: 8 - loss: 0.345 - raw pred: tensor([[ -0.6424,   1.1672,   4.5798,   4.4255,  -3.5922,  -4.9049, -19.2028,\n",
      "         -12.2868,   6.1067, -20.7430]], device='cuda:0')\n",
      "matching = [True] - accuracy = 1.0\n",
      "matching = [True] - accuracy = 1.0\n",
      "matching = [False] - accuracy = 0.0\n",
      "matching = [True] - accuracy = 1.0\n",
      "matching = [False] - accuracy = 0.0\n",
      "matching = [False] - accuracy = 0.0\n",
      "matching = [True] - accuracy = 1.0\n",
      "matching = [True] - accuracy = 1.0\n",
      "matching = [True] - accuracy = 1.0\n"
     ]
    },
    {
     "name": "stderr",
     "output_type": "stream",
     "text": [
      " 84%|████████▍ | 168/200 [00:00<00:00, 416.07it/s]"
     ]
    },
    {
     "name": "stdout",
     "output_type": "stream",
     "text": [
      "matching = [True] - accuracy = 1.0\n",
      "matching = [True] - accuracy = 1.0\n",
      "matching = [False] - accuracy = 0.0\n",
      "matching = [True] - accuracy = 1.0\n",
      "matching = [True] - accuracy = 1.0\n",
      "matching = [True] - accuracy = 1.0\n",
      "matching = [False] - accuracy = 0.0\n",
      "matching = [False] - accuracy = 0.0\n",
      "matching = [True] - accuracy = 1.0\n"
     ]
    },
    {
     "name": "stderr",
     "output_type": "stream",
     "text": [
      "100%|██████████| 200/200 [00:00<00:00, 410.62it/s]\n"
     ]
    },
    {
     "name": "stdout",
     "output_type": "stream",
     "text": [
      "matching = [True] - accuracy = 1.0\n",
      "matching = [False] - accuracy = 0.0\n",
      "//////////////////// Epoch: 19 ////////////////////\n"
     ]
    },
    {
     "name": "stderr",
     "output_type": "stream",
     "text": [
      "  2%|▏         | 17/800 [00:00<00:04, 168.73it/s]"
     ]
    },
    {
     "name": "stdout",
     "output_type": "stream",
     "text": [
      "pred: 9 - target: 9 - loss: 0.315 - raw pred: tensor([[-15.8604,  -1.9534,  -4.6646,  -8.6137,  -1.8052,   0.2137,   4.8736,\n",
      "           0.4239,  -4.6066,   5.8912]], device='cuda:0',\n",
      "       grad_fn=<AddmmBackward0>)\n"
     ]
    },
    {
     "name": "stderr",
     "output_type": "stream",
     "text": [
      "100%|██████████| 800/800 [00:04<00:00, 166.86it/s]\n"
     ]
    },
    {
     "name": "stdout",
     "output_type": "stream",
     "text": [
      "//////////////////// Validation ////////////////////\n"
     ]
    },
    {
     "name": "stderr",
     "output_type": "stream",
     "text": [
      " 21%|██        | 42/200 [00:00<00:00, 412.80it/s]"
     ]
    },
    {
     "name": "stdout",
     "output_type": "stream",
     "text": [
      "pred: 8 - target: 2 - loss: 1.146 - raw pred: tensor([[ -3.8773,   0.9647,   2.0594,  -0.2856,   0.7092,  -1.9178, -10.5338,\n",
      "          -4.8120,   2.4200, -12.4870]], device='cuda:0')\n",
      "matching = [False] - accuracy = 0.0\n",
      "matching = [False] - accuracy = 0.0\n",
      "matching = [True] - accuracy = 1.0\n",
      "matching = [True] - accuracy = 1.0\n",
      "matching = [False] - accuracy = 0.0\n",
      "matching = [False] - accuracy = 0.0\n",
      "matching = [False] - accuracy = 0.0\n",
      "matching = [True] - accuracy = 1.0\n",
      "matching = [False] - accuracy = 0.0\n"
     ]
    },
    {
     "name": "stderr",
     "output_type": "stream",
     "text": [
      " 85%|████████▌ | 170/200 [00:00<00:00, 420.71it/s]"
     ]
    },
    {
     "name": "stdout",
     "output_type": "stream",
     "text": [
      "matching = [False] - accuracy = 0.0\n",
      "matching = [False] - accuracy = 0.0\n",
      "matching = [False] - accuracy = 0.0\n",
      "matching = [False] - accuracy = 0.0\n",
      "matching = [True] - accuracy = 1.0\n",
      "matching = [True] - accuracy = 1.0\n",
      "matching = [True] - accuracy = 1.0\n",
      "matching = [True] - accuracy = 1.0\n",
      "matching = [True] - accuracy = 1.0\n"
     ]
    },
    {
     "name": "stderr",
     "output_type": "stream",
     "text": [
      "100%|██████████| 200/200 [00:00<00:00, 419.08it/s]\n"
     ]
    },
    {
     "name": "stdout",
     "output_type": "stream",
     "text": [
      "matching = [True] - accuracy = 1.0\n",
      "matching = [False] - accuracy = 0.0\n",
      "//////////////////// Epoch: 20 ////////////////////\n"
     ]
    },
    {
     "name": "stderr",
     "output_type": "stream",
     "text": [
      "  2%|▏         | 17/800 [00:00<00:04, 164.60it/s]"
     ]
    },
    {
     "name": "stdout",
     "output_type": "stream",
     "text": [
      "pred: 4 - target: 4 - loss: 0.654 - raw pred: tensor([[-7.3423,  0.5959, -2.4217, -1.5022,  1.6636, -0.3461, -2.1572,  0.5605,\n",
      "         -2.0308, -3.3174]], device='cuda:0', grad_fn=<AddmmBackward0>)\n"
     ]
    },
    {
     "name": "stderr",
     "output_type": "stream",
     "text": [
      "100%|██████████| 800/800 [00:04<00:00, 167.88it/s]\n"
     ]
    },
    {
     "name": "stdout",
     "output_type": "stream",
     "text": [
      "//////////////////// Validation ////////////////////\n"
     ]
    },
    {
     "name": "stderr",
     "output_type": "stream",
     "text": [
      " 22%|██▏       | 43/200 [00:00<00:00, 420.77it/s]"
     ]
    },
    {
     "name": "stdout",
     "output_type": "stream",
     "text": [
      "pred: 4 - target: 1 - loss: 1.394 - raw pred: tensor([[-6.5081,  1.5352, -0.3287, -2.6157,  2.4635, -0.6709, -6.0626, -1.6945,\n",
      "         -0.1721, -7.8820]], device='cuda:0')\n",
      "matching = [False] - accuracy = 0.0\n",
      "matching = [False] - accuracy = 0.0\n",
      "matching = [False] - accuracy = 0.0\n",
      "matching = [False] - accuracy = 0.0\n",
      "matching = [True] - accuracy = 1.0\n",
      "matching = [False] - accuracy = 0.0\n",
      "matching = [True] - accuracy = 1.0\n",
      "matching = [False] - accuracy = 0.0\n",
      "matching = [False] - accuracy = 0.0\n"
     ]
    },
    {
     "name": "stderr",
     "output_type": "stream",
     "text": [
      " 86%|████████▌ | 171/200 [00:00<00:00, 421.55it/s]"
     ]
    },
    {
     "name": "stdout",
     "output_type": "stream",
     "text": [
      "matching = [False] - accuracy = 0.0\n",
      "matching = [False] - accuracy = 0.0\n",
      "matching = [False] - accuracy = 0.0\n",
      "matching = [False] - accuracy = 0.0\n",
      "matching = [True] - accuracy = 1.0\n",
      "matching = [True] - accuracy = 1.0\n",
      "matching = [True] - accuracy = 1.0\n",
      "matching = [True] - accuracy = 1.0\n",
      "matching = [True] - accuracy = 1.0\n"
     ]
    },
    {
     "name": "stderr",
     "output_type": "stream",
     "text": [
      "100%|██████████| 200/200 [00:00<00:00, 419.45it/s]\n"
     ]
    },
    {
     "name": "stdout",
     "output_type": "stream",
     "text": [
      "matching = [False] - accuracy = 0.0\n",
      "matching = [True] - accuracy = 1.0\n",
      "//////////////////// Epoch: 21 ////////////////////\n"
     ]
    },
    {
     "name": "stderr",
     "output_type": "stream",
     "text": [
      "  2%|▏         | 17/800 [00:00<00:04, 165.56it/s]"
     ]
    },
    {
     "name": "stdout",
     "output_type": "stream",
     "text": [
      "pred: 8 - target: 2 - loss: 1.704 - raw pred: tensor([[  0.5440,   1.1515,   4.4189,   4.7961,  -4.5394,  -5.2040, -19.0280,\n",
      "         -12.7818,   5.5112, -20.8440]], device='cuda:0',\n",
      "       grad_fn=<AddmmBackward0>)\n"
     ]
    },
    {
     "name": "stderr",
     "output_type": "stream",
     "text": [
      "100%|██████████| 800/800 [00:04<00:00, 163.99it/s]\n"
     ]
    },
    {
     "name": "stdout",
     "output_type": "stream",
     "text": [
      "//////////////////// Validation ////////////////////\n"
     ]
    },
    {
     "name": "stderr",
     "output_type": "stream",
     "text": [
      " 20%|██        | 40/200 [00:00<00:00, 397.33it/s]"
     ]
    },
    {
     "name": "stdout",
     "output_type": "stream",
     "text": [
      "pred: 6 - target: 6 - loss: 0.933 - raw pred: tensor([[-7.7115, -0.3109, -1.6850, -4.1890,  0.0495, -0.8323,  1.6154, -0.0091,\n",
      "         -1.7471,  1.4280]], device='cuda:0')\n",
      "matching = [True] - accuracy = 1.0\n",
      "matching = [False] - accuracy = 0.0\n",
      "matching = [True] - accuracy = 1.0\n",
      "matching = [True] - accuracy = 1.0\n",
      "matching = [True] - accuracy = 1.0\n",
      "matching = [False] - accuracy = 0.0\n",
      "matching = [False] - accuracy = 0.0\n",
      "matching = [False] - accuracy = 0.0\n",
      "matching = [False] - accuracy = 0.0\n"
     ]
    },
    {
     "name": "stderr",
     "output_type": "stream",
     "text": [
      " 84%|████████▍ | 169/200 [00:00<00:00, 420.53it/s]"
     ]
    },
    {
     "name": "stdout",
     "output_type": "stream",
     "text": [
      "matching = [False] - accuracy = 0.0\n",
      "matching = [False] - accuracy = 0.0\n",
      "matching = [True] - accuracy = 1.0\n",
      "matching = [False] - accuracy = 0.0\n",
      "matching = [False] - accuracy = 0.0\n",
      "matching = [False] - accuracy = 0.0\n",
      "matching = [True] - accuracy = 1.0\n",
      "matching = [False] - accuracy = 0.0\n",
      "matching = [False] - accuracy = 0.0\n"
     ]
    },
    {
     "name": "stderr",
     "output_type": "stream",
     "text": [
      "100%|██████████| 200/200 [00:00<00:00, 416.95it/s]\n"
     ]
    },
    {
     "name": "stdout",
     "output_type": "stream",
     "text": [
      "matching = [False] - accuracy = 0.0\n",
      "matching = [True] - accuracy = 1.0\n",
      "//////////////////// Epoch: 22 ////////////////////\n"
     ]
    },
    {
     "name": "stderr",
     "output_type": "stream",
     "text": [
      "  2%|▏         | 17/800 [00:00<00:04, 164.88it/s]"
     ]
    },
    {
     "name": "stdout",
     "output_type": "stream",
     "text": [
      "pred: 7 - target: 7 - loss: 0.750 - raw pred: tensor([[-10.0532,  -0.2269,  -5.7503,  -4.9114,  -0.0572,   2.5231,  -0.8744,\n",
      "           2.5806,  -2.9881,  -2.8610]], device='cuda:0',\n",
      "       grad_fn=<AddmmBackward0>)\n"
     ]
    },
    {
     "name": "stderr",
     "output_type": "stream",
     "text": [
      "100%|██████████| 800/800 [00:04<00:00, 165.37it/s]\n"
     ]
    },
    {
     "name": "stdout",
     "output_type": "stream",
     "text": [
      "//////////////////// Validation ////////////////////\n"
     ]
    },
    {
     "name": "stderr",
     "output_type": "stream",
     "text": [
      " 22%|██▏       | 43/200 [00:00<00:00, 421.33it/s]"
     ]
    },
    {
     "name": "stdout",
     "output_type": "stream",
     "text": [
      "pred: 4 - target: 4 - loss: 0.698 - raw pred: tensor([[-6.2846,  1.2160,  0.5644, -3.0617,  1.8077, -1.7646, -2.5920, -1.1150,\n",
      "         -1.0182, -3.2193]], device='cuda:0')\n",
      "matching = [True] - accuracy = 1.0\n",
      "matching = [False] - accuracy = 0.0\n",
      "matching = [False] - accuracy = 0.0\n",
      "matching = [False] - accuracy = 0.0\n",
      "matching = [True] - accuracy = 1.0\n",
      "matching = [True] - accuracy = 1.0\n",
      "matching = [True] - accuracy = 1.0\n",
      "matching = [True] - accuracy = 1.0\n",
      "matching = [True] - accuracy = 1.0\n"
     ]
    },
    {
     "name": "stderr",
     "output_type": "stream",
     "text": [
      " 86%|████████▌ | 172/200 [00:00<00:00, 425.71it/s]"
     ]
    },
    {
     "name": "stdout",
     "output_type": "stream",
     "text": [
      "matching = [True] - accuracy = 1.0\n",
      "matching = [True] - accuracy = 1.0\n",
      "matching = [True] - accuracy = 1.0\n",
      "matching = [True] - accuracy = 1.0\n",
      "matching = [True] - accuracy = 1.0\n",
      "matching = [False] - accuracy = 0.0\n",
      "matching = [False] - accuracy = 0.0\n",
      "matching = [False] - accuracy = 0.0\n",
      "matching = [True] - accuracy = 1.0\n"
     ]
    },
    {
     "name": "stderr",
     "output_type": "stream",
     "text": [
      "100%|██████████| 200/200 [00:00<00:00, 422.89it/s]\n"
     ]
    },
    {
     "name": "stdout",
     "output_type": "stream",
     "text": [
      "matching = [False] - accuracy = 0.0\n",
      "matching = [False] - accuracy = 0.0\n",
      "//////////////////// Epoch: 23 ////////////////////\n"
     ]
    },
    {
     "name": "stderr",
     "output_type": "stream",
     "text": [
      "  2%|▏         | 17/800 [00:00<00:04, 164.07it/s]"
     ]
    },
    {
     "name": "stdout",
     "output_type": "stream",
     "text": [
      "pred: 9 - target: 9 - loss: 0.253 - raw pred: tensor([[-19.5647,  -2.3424,  -8.1112, -10.2178,  -1.6083,   0.1057,   4.8413,\n",
      "           2.2141,  -4.5741,   6.1684]], device='cuda:0',\n",
      "       grad_fn=<AddmmBackward0>)\n"
     ]
    },
    {
     "name": "stderr",
     "output_type": "stream",
     "text": [
      "100%|██████████| 800/800 [00:04<00:00, 168.55it/s]\n"
     ]
    },
    {
     "name": "stdout",
     "output_type": "stream",
     "text": [
      "//////////////////// Validation ////////////////////\n"
     ]
    },
    {
     "name": "stderr",
     "output_type": "stream",
     "text": [
      " 21%|██        | 42/200 [00:00<00:00, 418.74it/s]"
     ]
    },
    {
     "name": "stdout",
     "output_type": "stream",
     "text": [
      "pred: 0 - target: 0 - loss: 0.003 - raw pred: tensor([[ 14.2647,   4.3741,   4.6968,   7.2089, -16.3760, -10.7421, -36.0375,\n",
      "         -26.0041,   8.2291, -36.1495]], device='cuda:0')\n",
      "matching = [True] - accuracy = 1.0\n",
      "matching = [False] - accuracy = 0.0\n",
      "matching = [False] - accuracy = 0.0\n",
      "matching = [True] - accuracy = 1.0\n",
      "matching = [True] - accuracy = 1.0\n",
      "matching = [False] - accuracy = 0.0\n",
      "matching = [True] - accuracy = 1.0\n",
      "matching = [True] - accuracy = 1.0\n",
      "matching = [False] - accuracy = 0.0\n"
     ]
    },
    {
     "name": "stderr",
     "output_type": "stream",
     "text": [
      " 84%|████████▍ | 169/200 [00:00<00:00, 417.15it/s]"
     ]
    },
    {
     "name": "stdout",
     "output_type": "stream",
     "text": [
      "matching = [True] - accuracy = 1.0\n",
      "matching = [False] - accuracy = 0.0\n",
      "matching = [False] - accuracy = 0.0\n",
      "matching = [False] - accuracy = 0.0\n",
      "matching = [True] - accuracy = 1.0\n",
      "matching = [True] - accuracy = 1.0\n",
      "matching = [False] - accuracy = 0.0\n",
      "matching = [True] - accuracy = 1.0\n",
      "matching = [False] - accuracy = 0.0\n"
     ]
    },
    {
     "name": "stderr",
     "output_type": "stream",
     "text": [
      "100%|██████████| 200/200 [00:00<00:00, 416.14it/s]\n"
     ]
    },
    {
     "name": "stdout",
     "output_type": "stream",
     "text": [
      "matching = [False] - accuracy = 0.0\n",
      "matching = [False] - accuracy = 0.0\n",
      "//////////////////// Epoch: 24 ////////////////////\n"
     ]
    },
    {
     "name": "stderr",
     "output_type": "stream",
     "text": [
      "  2%|▏         | 17/800 [00:00<00:04, 162.76it/s]"
     ]
    },
    {
     "name": "stdout",
     "output_type": "stream",
     "text": [
      "pred: 5 - target: 7 - loss: 0.893 - raw pred: tensor([[-11.3982,  -1.5113,  -5.6943,  -4.3493,  -1.6212,   3.4087,  -0.6276,\n",
      "           3.0780,  -3.8315,  -2.0452]], device='cuda:0',\n",
      "       grad_fn=<AddmmBackward0>)\n"
     ]
    },
    {
     "name": "stderr",
     "output_type": "stream",
     "text": [
      "100%|██████████| 800/800 [00:04<00:00, 169.10it/s]\n"
     ]
    },
    {
     "name": "stdout",
     "output_type": "stream",
     "text": [
      "//////////////////// Validation ////////////////////\n"
     ]
    },
    {
     "name": "stderr",
     "output_type": "stream",
     "text": [
      " 21%|██        | 42/200 [00:00<00:00, 411.53it/s]"
     ]
    },
    {
     "name": "stdout",
     "output_type": "stream",
     "text": [
      "pred: 8 - target: 2 - loss: 1.029 - raw pred: tensor([[ -1.4752,   2.2211,   4.1058,   0.3968,  -1.4811,  -5.5902, -13.4184,\n",
      "          -9.9242,   4.5843, -13.7007]], device='cuda:0')\n",
      "matching = [False] - accuracy = 0.0\n",
      "matching = [False] - accuracy = 0.0\n",
      "matching = [True] - accuracy = 1.0\n",
      "matching = [False] - accuracy = 0.0\n",
      "matching = [True] - accuracy = 1.0\n",
      "matching = [False] - accuracy = 0.0\n",
      "matching = [True] - accuracy = 1.0\n",
      "matching = [False] - accuracy = 0.0\n",
      "matching = [True] - accuracy = 1.0\n"
     ]
    },
    {
     "name": "stderr",
     "output_type": "stream",
     "text": [
      " 84%|████████▍ | 168/200 [00:00<00:00, 412.39it/s]"
     ]
    },
    {
     "name": "stdout",
     "output_type": "stream",
     "text": [
      "matching = [True] - accuracy = 1.0\n",
      "matching = [True] - accuracy = 1.0\n",
      "matching = [False] - accuracy = 0.0\n",
      "matching = [False] - accuracy = 0.0\n",
      "matching = [False] - accuracy = 0.0\n",
      "matching = [True] - accuracy = 1.0\n",
      "matching = [False] - accuracy = 0.0\n",
      "matching = [True] - accuracy = 1.0\n",
      "matching = [False] - accuracy = 0.0\n"
     ]
    },
    {
     "name": "stderr",
     "output_type": "stream",
     "text": [
      "100%|██████████| 200/200 [00:00<00:00, 411.71it/s]\n"
     ]
    },
    {
     "name": "stdout",
     "output_type": "stream",
     "text": [
      "matching = [False] - accuracy = 0.0\n",
      "matching = [True] - accuracy = 1.0\n",
      "//////////////////// Epoch: 25 ////////////////////\n"
     ]
    },
    {
     "name": "stderr",
     "output_type": "stream",
     "text": [
      "  2%|▏         | 17/800 [00:00<00:04, 164.23it/s]"
     ]
    },
    {
     "name": "stdout",
     "output_type": "stream",
     "text": [
      "pred: 9 - target: 6 - loss: 1.084 - raw pred: tensor([[-15.0293,  -2.6615,  -6.8843,  -6.7151,  -1.4563,   1.5809,   3.1599,\n",
      "           2.7696,  -4.1450,   3.2175]], device='cuda:0',\n",
      "       grad_fn=<AddmmBackward0>)\n"
     ]
    },
    {
     "name": "stderr",
     "output_type": "stream",
     "text": [
      "100%|██████████| 800/800 [00:04<00:00, 168.03it/s]\n"
     ]
    },
    {
     "name": "stdout",
     "output_type": "stream",
     "text": [
      "//////////////////// Validation ////////////////////\n"
     ]
    },
    {
     "name": "stderr",
     "output_type": "stream",
     "text": [
      " 20%|██        | 41/200 [00:00<00:00, 402.55it/s]"
     ]
    },
    {
     "name": "stdout",
     "output_type": "stream",
     "text": [
      "pred: 7 - target: 1 - loss: 2.391 - raw pred: tensor([[-10.3254,  -0.0401,  -4.8499,  -4.8076,   0.2023,   0.1127,  -1.4743,\n",
      "           1.9323,  -3.8135,  -3.8341]], device='cuda:0')\n",
      "matching = [False] - accuracy = 0.0\n",
      "matching = [True] - accuracy = 1.0\n",
      "matching = [True] - accuracy = 1.0\n",
      "matching = [False] - accuracy = 0.0\n",
      "matching = [True] - accuracy = 1.0\n",
      "matching = [False] - accuracy = 0.0\n",
      "matching = [True] - accuracy = 1.0\n",
      "matching = [True] - accuracy = 1.0\n"
     ]
    },
    {
     "name": "stderr",
     "output_type": "stream",
     "text": [
      " 42%|████▏     | 83/200 [00:00<00:00, 410.47it/s]"
     ]
    },
    {
     "name": "stdout",
     "output_type": "stream",
     "text": [
      "matching = [True] - accuracy = 1.0\n"
     ]
    },
    {
     "name": "stderr",
     "output_type": "stream",
     "text": [
      " 62%|██████▎   | 125/200 [00:00<00:00, 414.15it/s]"
     ]
    },
    {
     "name": "stdout",
     "output_type": "stream",
     "text": [
      "matching = [True] - accuracy = 1.0\n",
      "matching = [True] - accuracy = 1.0\n",
      "matching = [False] - accuracy = 0.0\n",
      "matching = [False] - accuracy = 0.0\n",
      "matching = [True] - accuracy = 1.0\n",
      "matching = [False] - accuracy = 0.0\n",
      "matching = [False] - accuracy = 0.0\n",
      "matching = [True] - accuracy = 1.0\n"
     ]
    },
    {
     "name": "stderr",
     "output_type": "stream",
     "text": [
      " 84%|████████▍ | 168/200 [00:00<00:00, 418.84it/s]"
     ]
    },
    {
     "name": "stdout",
     "output_type": "stream",
     "text": [
      "matching = [False] - accuracy = 0.0\n"
     ]
    },
    {
     "name": "stderr",
     "output_type": "stream",
     "text": [
      "100%|██████████| 200/200 [00:00<00:00, 415.89it/s]\n"
     ]
    },
    {
     "name": "stdout",
     "output_type": "stream",
     "text": [
      "matching = [False] - accuracy = 0.0\n",
      "matching = [True] - accuracy = 1.0\n",
      "//////////////////// Epoch: 26 ////////////////////\n"
     ]
    },
    {
     "name": "stderr",
     "output_type": "stream",
     "text": [
      "  2%|▏         | 17/800 [00:00<00:04, 167.94it/s]"
     ]
    },
    {
     "name": "stdout",
     "output_type": "stream",
     "text": [
      "pred: 7 - target: 7 - loss: 0.445 - raw pred: tensor([[-17.7047,  -3.2210,  -9.5786,  -7.1045,  -2.6739,   4.4608,   1.5786,\n",
      "           5.1035,  -5.4746,  -0.4524]], device='cuda:0',\n",
      "       grad_fn=<AddmmBackward0>)\n"
     ]
    },
    {
     "name": "stderr",
     "output_type": "stream",
     "text": [
      "100%|██████████| 800/800 [00:04<00:00, 169.10it/s]\n"
     ]
    },
    {
     "name": "stdout",
     "output_type": "stream",
     "text": [
      "//////////////////// Validation ////////////////////\n"
     ]
    },
    {
     "name": "stderr",
     "output_type": "stream",
     "text": [
      " 21%|██        | 42/200 [00:00<00:00, 413.73it/s]"
     ]
    },
    {
     "name": "stdout",
     "output_type": "stream",
     "text": [
      "pred: 4 - target: 4 - loss: 0.288 - raw pred: tensor([[-11.2863,  -0.1059,  -2.0952,  -3.1777,   1.9112,  -1.1135,  -2.4996,\n",
      "          -0.4005,  -2.3757,  -3.7631]], device='cuda:0')\n",
      "matching = [True] - accuracy = 1.0\n",
      "matching = [False] - accuracy = 0.0\n",
      "matching = [True] - accuracy = 1.0\n",
      "matching = [True] - accuracy = 1.0\n",
      "matching = [True] - accuracy = 1.0\n",
      "matching = [False] - accuracy = 0.0\n",
      "matching = [False] - accuracy = 0.0\n",
      "matching = [False] - accuracy = 0.0\n",
      "matching = [True] - accuracy = 1.0\n"
     ]
    },
    {
     "name": "stderr",
     "output_type": "stream",
     "text": [
      " 86%|████████▌ | 171/200 [00:00<00:00, 420.13it/s]"
     ]
    },
    {
     "name": "stdout",
     "output_type": "stream",
     "text": [
      "matching = [True] - accuracy = 1.0\n",
      "matching = [False] - accuracy = 0.0\n",
      "matching = [True] - accuracy = 1.0\n",
      "matching = [True] - accuracy = 1.0\n",
      "matching = [False] - accuracy = 0.0\n",
      "matching = [True] - accuracy = 1.0\n",
      "matching = [True] - accuracy = 1.0\n",
      "matching = [True] - accuracy = 1.0\n",
      "matching = [False] - accuracy = 0.0\n"
     ]
    },
    {
     "name": "stderr",
     "output_type": "stream",
     "text": [
      "100%|██████████| 200/200 [00:00<00:00, 418.23it/s]\n"
     ]
    },
    {
     "name": "stdout",
     "output_type": "stream",
     "text": [
      "matching = [True] - accuracy = 1.0\n",
      "matching = [True] - accuracy = 1.0\n",
      "//////////////////// Epoch: 27 ////////////////////\n"
     ]
    },
    {
     "name": "stderr",
     "output_type": "stream",
     "text": [
      "  2%|▏         | 17/800 [00:00<00:04, 168.20it/s]"
     ]
    },
    {
     "name": "stdout",
     "output_type": "stream",
     "text": [
      "pred: 1 - target: 1 - loss: 0.687 - raw pred: tensor([[-3.8462,  1.9773, -0.5322, -2.5669,  1.2400, -1.0144, -6.8196, -3.4100,\n",
      "          0.9516, -7.6153]], device='cuda:0', grad_fn=<AddmmBackward0>)\n"
     ]
    },
    {
     "name": "stderr",
     "output_type": "stream",
     "text": [
      "100%|██████████| 800/800 [00:04<00:00, 167.29it/s]\n"
     ]
    },
    {
     "name": "stdout",
     "output_type": "stream",
     "text": [
      "//////////////////// Validation ////////////////////\n"
     ]
    },
    {
     "name": "stderr",
     "output_type": "stream",
     "text": [
      " 21%|██        | 42/200 [00:00<00:00, 418.23it/s]"
     ]
    },
    {
     "name": "stdout",
     "output_type": "stream",
     "text": [
      "pred: 8 - target: 8 - loss: 0.758 - raw pred: tensor([[-0.0928,  0.7978,  2.6282,  0.9477, -1.9098, -3.2078, -9.6370, -6.3699,\n",
      "          2.8582, -9.9568]], device='cuda:0')\n",
      "matching = [True] - accuracy = 1.0\n",
      "matching = [True] - accuracy = 1.0\n",
      "matching = [True] - accuracy = 1.0\n",
      "matching = [False] - accuracy = 0.0\n",
      "matching = [True] - accuracy = 1.0\n",
      "matching = [True] - accuracy = 1.0\n",
      "matching = [False] - accuracy = 0.0\n",
      "matching = [False] - accuracy = 0.0\n",
      "matching = [True] - accuracy = 1.0\n"
     ]
    },
    {
     "name": "stderr",
     "output_type": "stream",
     "text": [
      " 86%|████████▌ | 171/200 [00:00<00:00, 421.11it/s]"
     ]
    },
    {
     "name": "stdout",
     "output_type": "stream",
     "text": [
      "matching = [True] - accuracy = 1.0\n",
      "matching = [True] - accuracy = 1.0\n",
      "matching = [True] - accuracy = 1.0\n",
      "matching = [False] - accuracy = 0.0\n",
      "matching = [False] - accuracy = 0.0\n",
      "matching = [True] - accuracy = 1.0\n",
      "matching = [False] - accuracy = 0.0\n",
      "matching = [True] - accuracy = 1.0\n",
      "matching = [True] - accuracy = 1.0\n"
     ]
    },
    {
     "name": "stderr",
     "output_type": "stream",
     "text": [
      "100%|██████████| 200/200 [00:00<00:00, 420.12it/s]\n"
     ]
    },
    {
     "name": "stdout",
     "output_type": "stream",
     "text": [
      "matching = [False] - accuracy = 0.0\n",
      "matching = [True] - accuracy = 1.0\n",
      "//////////////////// Epoch: 28 ////////////////////\n"
     ]
    },
    {
     "name": "stderr",
     "output_type": "stream",
     "text": [
      "  2%|▏         | 17/800 [00:00<00:04, 165.57it/s]"
     ]
    },
    {
     "name": "stdout",
     "output_type": "stream",
     "text": [
      "pred: 0 - target: 0 - loss: 0.000 - raw pred: tensor([[ 13.8462,   4.0577,   2.7836,   3.0713, -14.2226, -11.7002, -22.0165,\n",
      "         -18.1873,   3.1105, -20.7133]], device='cuda:0',\n",
      "       grad_fn=<AddmmBackward0>)\n"
     ]
    },
    {
     "name": "stderr",
     "output_type": "stream",
     "text": [
      "100%|██████████| 800/800 [00:04<00:00, 165.74it/s]\n"
     ]
    },
    {
     "name": "stdout",
     "output_type": "stream",
     "text": [
      "//////////////////// Validation ////////////////////\n"
     ]
    },
    {
     "name": "stderr",
     "output_type": "stream",
     "text": [
      " 19%|█▉        | 38/200 [00:00<00:00, 378.89it/s]"
     ]
    },
    {
     "name": "stdout",
     "output_type": "stream",
     "text": [
      "pred: 9 - target: 9 - loss: 0.204 - raw pred: tensor([[-20.4294,  -5.1105,  -9.0099, -11.5006,  -4.7643,   0.2503,   6.5900,\n",
      "           1.2853,  -3.4386,   8.0815]], device='cuda:0')\n",
      "matching = [True] - accuracy = 1.0\n",
      "matching = [True] - accuracy = 1.0\n",
      "matching = [True] - accuracy = 1.0\n",
      "matching = [True] - accuracy = 1.0\n",
      "matching = [True] - accuracy = 1.0\n",
      "matching = [False] - accuracy = 0.0\n",
      "matching = [False] - accuracy = 0.0\n",
      "matching = [True] - accuracy = 1.0\n"
     ]
    },
    {
     "name": "stderr",
     "output_type": "stream",
     "text": [
      " 40%|████      | 81/200 [00:00<00:00, 402.74it/s]"
     ]
    },
    {
     "name": "stdout",
     "output_type": "stream",
     "text": [
      "matching = [True] - accuracy = 1.0\n"
     ]
    },
    {
     "name": "stderr",
     "output_type": "stream",
     "text": [
      " 62%|██████▏   | 123/200 [00:00<00:00, 406.55it/s]"
     ]
    },
    {
     "name": "stdout",
     "output_type": "stream",
     "text": [
      "matching = [False] - accuracy = 0.0\n",
      "matching = [False] - accuracy = 0.0\n",
      "matching = [False] - accuracy = 0.0\n",
      "matching = [False] - accuracy = 0.0\n",
      "matching = [True] - accuracy = 1.0\n",
      "matching = [False] - accuracy = 0.0\n",
      "matching = [False] - accuracy = 0.0\n",
      "matching = [True] - accuracy = 1.0\n"
     ]
    },
    {
     "name": "stderr",
     "output_type": "stream",
     "text": [
      " 82%|████████▎ | 165/200 [00:00<00:00, 410.06it/s]"
     ]
    },
    {
     "name": "stdout",
     "output_type": "stream",
     "text": [
      "matching = [True] - accuracy = 1.0\n"
     ]
    },
    {
     "name": "stderr",
     "output_type": "stream",
     "text": [
      "100%|██████████| 200/200 [00:00<00:00, 406.43it/s]\n"
     ]
    },
    {
     "name": "stdout",
     "output_type": "stream",
     "text": [
      "matching = [False] - accuracy = 0.0\n",
      "matching = [True] - accuracy = 1.0\n",
      "//////////////////// Epoch: 29 ////////////////////\n"
     ]
    },
    {
     "name": "stderr",
     "output_type": "stream",
     "text": [
      "  2%|▏         | 17/800 [00:00<00:04, 166.64it/s]"
     ]
    },
    {
     "name": "stdout",
     "output_type": "stream",
     "text": [
      "pred: 8 - target: 8 - loss: 0.326 - raw pred: tensor([[ -0.8471,   2.7160,   3.8984,  -1.4873,  -3.2637,  -7.1737, -11.9890,\n",
      "         -10.5809,   5.1308, -12.1342]], device='cuda:0',\n",
      "       grad_fn=<AddmmBackward0>)\n"
     ]
    },
    {
     "name": "stderr",
     "output_type": "stream",
     "text": [
      "100%|██████████| 800/800 [00:04<00:00, 169.28it/s]\n"
     ]
    },
    {
     "name": "stdout",
     "output_type": "stream",
     "text": [
      "//////////////////// Validation ////////////////////\n"
     ]
    },
    {
     "name": "stderr",
     "output_type": "stream",
     "text": [
      " 21%|██        | 42/200 [00:00<00:00, 418.53it/s]"
     ]
    },
    {
     "name": "stdout",
     "output_type": "stream",
     "text": [
      "pred: 6 - target: 7 - loss: 1.459 - raw pred: tensor([[-9.9836, -1.7640, -4.6723, -3.9778, -0.8019, -0.3806,  1.7010,  1.1637,\n",
      "         -2.5797,  1.3040]], device='cuda:0')\n",
      "matching = [False] - accuracy = 0.0\n",
      "matching = [False] - accuracy = 0.0\n",
      "matching = [True] - accuracy = 1.0\n",
      "matching = [True] - accuracy = 1.0\n",
      "matching = [False] - accuracy = 0.0\n",
      "matching = [False] - accuracy = 0.0\n",
      "matching = [True] - accuracy = 1.0\n",
      "matching = [True] - accuracy = 1.0\n",
      "matching = [False] - accuracy = 0.0\n"
     ]
    },
    {
     "name": "stderr",
     "output_type": "stream",
     "text": [
      " 84%|████████▍ | 168/200 [00:00<00:00, 415.86it/s]"
     ]
    },
    {
     "name": "stdout",
     "output_type": "stream",
     "text": [
      "matching = [True] - accuracy = 1.0\n",
      "matching = [False] - accuracy = 0.0\n",
      "matching = [False] - accuracy = 0.0\n",
      "matching = [True] - accuracy = 1.0\n",
      "matching = [True] - accuracy = 1.0\n",
      "matching = [True] - accuracy = 1.0\n",
      "matching = [True] - accuracy = 1.0\n",
      "matching = [True] - accuracy = 1.0\n",
      "matching = [False] - accuracy = 0.0\n"
     ]
    },
    {
     "name": "stderr",
     "output_type": "stream",
     "text": [
      "100%|██████████| 200/200 [00:00<00:00, 414.08it/s]\n"
     ]
    },
    {
     "name": "stdout",
     "output_type": "stream",
     "text": [
      "matching = [True] - accuracy = 1.0\n",
      "matching = [False] - accuracy = 0.0\n",
      "//////////////////// Epoch: 30 ////////////////////\n"
     ]
    },
    {
     "name": "stderr",
     "output_type": "stream",
     "text": [
      "  2%|▏         | 17/800 [00:00<00:04, 160.96it/s]"
     ]
    },
    {
     "name": "stdout",
     "output_type": "stream",
     "text": [
      "pred: 4 - target: 4 - loss: 0.303 - raw pred: tensor([[ -3.7369,   1.5937,  -0.4668,  -3.0682,   2.9999,  -1.2381,  -9.1443,\n",
      "          -2.4119,   0.1122, -11.3422]], device='cuda:0',\n",
      "       grad_fn=<AddmmBackward0>)\n"
     ]
    },
    {
     "name": "stderr",
     "output_type": "stream",
     "text": [
      "100%|██████████| 800/800 [00:04<00:00, 165.63it/s]\n"
     ]
    },
    {
     "name": "stdout",
     "output_type": "stream",
     "text": [
      "//////////////////// Validation ////////////////////\n"
     ]
    },
    {
     "name": "stderr",
     "output_type": "stream",
     "text": [
      " 20%|██        | 40/200 [00:00<00:00, 399.40it/s]"
     ]
    },
    {
     "name": "stdout",
     "output_type": "stream",
     "text": [
      "pred: 8 - target: 1 - loss: 6.127 - raw pred: tensor([[ -0.5622,   0.4479,   4.7999,   1.8763,  -4.3493,  -5.3582, -21.1319,\n",
      "         -15.0479,   6.3749, -22.6325]], device='cuda:0')\n",
      "matching = [False] - accuracy = 0.0\n",
      "matching = [False] - accuracy = 0.0\n",
      "matching = [True] - accuracy = 1.0\n",
      "matching = [True] - accuracy = 1.0\n",
      "matching = [True] - accuracy = 1.0\n",
      "matching = [True] - accuracy = 1.0\n",
      "matching = [False] - accuracy = 0.0\n",
      "matching = [True] - accuracy = 1.0\n"
     ]
    },
    {
     "name": "stderr",
     "output_type": "stream",
     "text": [
      " 40%|████      | 81/200 [00:00<00:00, 404.41it/s]"
     ]
    },
    {
     "name": "stdout",
     "output_type": "stream",
     "text": [
      "matching = [False] - accuracy = 0.0\n"
     ]
    },
    {
     "name": "stderr",
     "output_type": "stream",
     "text": [
      " 61%|██████    | 122/200 [00:00<00:00, 396.77it/s]"
     ]
    },
    {
     "name": "stdout",
     "output_type": "stream",
     "text": [
      "matching = [True] - accuracy = 1.0\n",
      "matching = [True] - accuracy = 1.0\n",
      "matching = [True] - accuracy = 1.0\n",
      "matching = [True] - accuracy = 1.0\n",
      "matching = [True] - accuracy = 1.0\n",
      "matching = [False] - accuracy = 0.0\n",
      "matching = [False] - accuracy = 0.0\n"
     ]
    },
    {
     "name": "stderr",
     "output_type": "stream",
     "text": [
      " 82%|████████▏ | 163/200 [00:00<00:00, 399.33it/s]"
     ]
    },
    {
     "name": "stdout",
     "output_type": "stream",
     "text": [
      "matching = [True] - accuracy = 1.0\n"
     ]
    },
    {
     "name": "stderr",
     "output_type": "stream",
     "text": [
      "100%|██████████| 200/200 [00:00<00:00, 398.12it/s]\n"
     ]
    },
    {
     "name": "stdout",
     "output_type": "stream",
     "text": [
      "matching = [True] - accuracy = 1.0\n",
      "matching = [False] - accuracy = 0.0\n",
      "matching = [True] - accuracy = 1.0\n",
      "//////////////////// Epoch: 31 ////////////////////\n"
     ]
    },
    {
     "name": "stderr",
     "output_type": "stream",
     "text": [
      "  0%|          | 0/800 [00:00<?, ?it/s]"
     ]
    },
    {
     "name": "stdout",
     "output_type": "stream",
     "text": [
      "pred: 7 - target: 7 - loss: 0.364 - raw pred: tensor([[-11.4726,  -1.5404,  -5.7708,  -3.8972,  -1.5050,   2.7014,  -0.8549,\n",
      "           3.5905,  -3.8031,  -2.3050]], device='cuda:0',\n",
      "       grad_fn=<AddmmBackward0>)\n"
     ]
    },
    {
     "name": "stderr",
     "output_type": "stream",
     "text": [
      "100%|██████████| 800/800 [00:04<00:00, 167.48it/s]\n"
     ]
    },
    {
     "name": "stdout",
     "output_type": "stream",
     "text": [
      "//////////////////// Validation ////////////////////\n"
     ]
    },
    {
     "name": "stderr",
     "output_type": "stream",
     "text": [
      " 21%|██        | 42/200 [00:00<00:00, 417.66it/s]"
     ]
    },
    {
     "name": "stdout",
     "output_type": "stream",
     "text": [
      "pred: 1 - target: 5 - loss: 6.632 - raw pred: tensor([[-10.2643,   3.0825,  -2.8473,  -7.4462,   2.8643,  -2.9447,  -1.5054,\n",
      "          -3.1663,  -1.9614,  -2.9817]], device='cuda:0')\n",
      "matching = [False] - accuracy = 0.0\n",
      "matching = [True] - accuracy = 1.0\n",
      "matching = [False] - accuracy = 0.0\n",
      "matching = [False] - accuracy = 0.0\n",
      "matching = [True] - accuracy = 1.0\n",
      "matching = [True] - accuracy = 1.0\n",
      "matching = [True] - accuracy = 1.0\n",
      "matching = [True] - accuracy = 1.0\n",
      "matching = [True] - accuracy = 1.0\n"
     ]
    },
    {
     "name": "stderr",
     "output_type": "stream",
     "text": [
      " 86%|████████▌ | 171/200 [00:00<00:00, 420.64it/s]"
     ]
    },
    {
     "name": "stdout",
     "output_type": "stream",
     "text": [
      "matching = [False] - accuracy = 0.0\n",
      "matching = [False] - accuracy = 0.0\n",
      "matching = [False] - accuracy = 0.0\n",
      "matching = [True] - accuracy = 1.0\n",
      "matching = [False] - accuracy = 0.0\n",
      "matching = [True] - accuracy = 1.0\n",
      "matching = [False] - accuracy = 0.0\n",
      "matching = [True] - accuracy = 1.0\n",
      "matching = [True] - accuracy = 1.0\n"
     ]
    },
    {
     "name": "stderr",
     "output_type": "stream",
     "text": [
      "100%|██████████| 200/200 [00:00<00:00, 418.08it/s]\n"
     ]
    },
    {
     "name": "stdout",
     "output_type": "stream",
     "text": [
      "matching = [False] - accuracy = 0.0\n",
      "matching = [False] - accuracy = 0.0\n",
      "//////////////////// Epoch: 32 ////////////////////\n"
     ]
    },
    {
     "name": "stderr",
     "output_type": "stream",
     "text": [
      "  2%|▏         | 17/800 [00:00<00:04, 167.37it/s]"
     ]
    },
    {
     "name": "stdout",
     "output_type": "stream",
     "text": [
      "pred: 4 - target: 4 - loss: 0.191 - raw pred: tensor([[ -7.5959,   3.4530,   0.7761,  -6.1209,   5.1100,  -3.6865,  -6.4804,\n",
      "          -3.6160,   0.0789, -10.0645]], device='cuda:0',\n",
      "       grad_fn=<AddmmBackward0>)\n"
     ]
    },
    {
     "name": "stderr",
     "output_type": "stream",
     "text": [
      "100%|██████████| 800/800 [00:04<00:00, 166.15it/s]\n"
     ]
    },
    {
     "name": "stdout",
     "output_type": "stream",
     "text": [
      "//////////////////// Validation ////////////////////\n"
     ]
    },
    {
     "name": "stderr",
     "output_type": "stream",
     "text": [
      " 20%|██        | 40/200 [00:00<00:00, 399.15it/s]"
     ]
    },
    {
     "name": "stdout",
     "output_type": "stream",
     "text": [
      "pred: 1 - target: 4 - loss: 2.588 - raw pred: tensor([[ -0.4434,   1.8367,   0.8254,  -5.9452,  -0.2362, -10.9716, -12.1353,\n",
      "          -7.8198,  -0.6688, -14.3888]], device='cuda:0')\n",
      "matching = [False] - accuracy = 0.0\n",
      "matching = [True] - accuracy = 1.0\n",
      "matching = [False] - accuracy = 0.0\n",
      "matching = [False] - accuracy = 0.0\n",
      "matching = [False] - accuracy = 0.0\n",
      "matching = [True] - accuracy = 1.0\n",
      "matching = [True] - accuracy = 1.0\n",
      "matching = [False] - accuracy = 0.0\n"
     ]
    },
    {
     "name": "stderr",
     "output_type": "stream",
     "text": [
      " 40%|████      | 81/200 [00:00<00:00, 398.42it/s]"
     ]
    },
    {
     "name": "stdout",
     "output_type": "stream",
     "text": [
      "matching = [True] - accuracy = 1.0\n"
     ]
    },
    {
     "name": "stderr",
     "output_type": "stream",
     "text": [
      " 60%|██████    | 121/200 [00:00<00:00, 394.06it/s]"
     ]
    },
    {
     "name": "stdout",
     "output_type": "stream",
     "text": [
      "matching = [False] - accuracy = 0.0\n",
      "matching = [False] - accuracy = 0.0\n",
      "matching = [True] - accuracy = 1.0\n",
      "matching = [True] - accuracy = 1.0\n",
      "matching = [True] - accuracy = 1.0\n",
      "matching = [False] - accuracy = 0.0\n",
      "matching = [True] - accuracy = 1.0\n"
     ]
    },
    {
     "name": "stderr",
     "output_type": "stream",
     "text": [
      " 81%|████████  | 162/200 [00:00<00:00, 397.85it/s]"
     ]
    },
    {
     "name": "stdout",
     "output_type": "stream",
     "text": [
      "matching = [True] - accuracy = 1.0\n",
      "matching = [True] - accuracy = 1.0\n"
     ]
    },
    {
     "name": "stderr",
     "output_type": "stream",
     "text": [
      "100%|██████████| 200/200 [00:00<00:00, 396.44it/s]\n"
     ]
    },
    {
     "name": "stdout",
     "output_type": "stream",
     "text": [
      "matching = [True] - accuracy = 1.0\n",
      "matching = [True] - accuracy = 1.0\n",
      "//////////////////// Epoch: 33 ////////////////////\n"
     ]
    },
    {
     "name": "stderr",
     "output_type": "stream",
     "text": [
      "  0%|          | 0/800 [00:00<?, ?it/s]"
     ]
    },
    {
     "name": "stdout",
     "output_type": "stream",
     "text": [
      "pred: 9 - target: 9 - loss: 0.161 - raw pred: tensor([[-22.1783,  -7.1634, -11.5892, -13.7581,  -5.7042,   1.9079,   6.9444,\n",
      "           1.6196,  -4.2563,   8.6974]], device='cuda:0',\n",
      "       grad_fn=<AddmmBackward0>)\n"
     ]
    },
    {
     "name": "stderr",
     "output_type": "stream",
     "text": [
      "100%|██████████| 800/800 [00:04<00:00, 166.88it/s]\n"
     ]
    },
    {
     "name": "stdout",
     "output_type": "stream",
     "text": [
      "//////////////////// Validation ////////////////////\n"
     ]
    },
    {
     "name": "stderr",
     "output_type": "stream",
     "text": [
      " 21%|██        | 42/200 [00:00<00:00, 416.24it/s]"
     ]
    },
    {
     "name": "stdout",
     "output_type": "stream",
     "text": [
      "pred: 5 - target: 5 - loss: 0.865 - raw pred: tensor([[ -7.1919,   1.0371,  -4.7408,  -2.4252,  -0.1774,   1.8881,  -7.7402,\n",
      "           1.6672,  -3.6058, -10.9080]], device='cuda:0')\n",
      "matching = [True] - accuracy = 1.0\n",
      "matching = [False] - accuracy = 0.0\n",
      "matching = [False] - accuracy = 0.0\n",
      "matching = [True] - accuracy = 1.0\n",
      "matching = [True] - accuracy = 1.0\n",
      "matching = [True] - accuracy = 1.0\n",
      "matching = [True] - accuracy = 1.0\n",
      "matching = [True] - accuracy = 1.0\n",
      "matching = [True] - accuracy = 1.0\n"
     ]
    },
    {
     "name": "stderr",
     "output_type": "stream",
     "text": [
      " 85%|████████▌ | 170/200 [00:00<00:00, 420.35it/s]"
     ]
    },
    {
     "name": "stdout",
     "output_type": "stream",
     "text": [
      "matching = [False] - accuracy = 0.0\n",
      "matching = [True] - accuracy = 1.0\n",
      "matching = [False] - accuracy = 0.0\n",
      "matching = [False] - accuracy = 0.0\n",
      "matching = [True] - accuracy = 1.0\n",
      "matching = [False] - accuracy = 0.0\n",
      "matching = [True] - accuracy = 1.0\n",
      "matching = [False] - accuracy = 0.0\n",
      "matching = [True] - accuracy = 1.0\n"
     ]
    },
    {
     "name": "stderr",
     "output_type": "stream",
     "text": [
      "100%|██████████| 200/200 [00:00<00:00, 418.37it/s]\n"
     ]
    },
    {
     "name": "stdout",
     "output_type": "stream",
     "text": [
      "matching = [True] - accuracy = 1.0\n",
      "matching = [True] - accuracy = 1.0\n",
      "//////////////////// Epoch: 34 ////////////////////\n"
     ]
    },
    {
     "name": "stderr",
     "output_type": "stream",
     "text": [
      "  2%|▏         | 17/800 [00:00<00:04, 162.48it/s]"
     ]
    },
    {
     "name": "stdout",
     "output_type": "stream",
     "text": [
      "pred: 3 - target: 3 - loss: 0.177 - raw pred: tensor([[ -3.8176,  -0.8586,   1.1475,   3.1836,  -3.3733,  -1.5854, -14.8783,\n",
      "          -4.7431,  -0.1716, -17.4986]], device='cuda:0',\n",
      "       grad_fn=<AddmmBackward0>)\n"
     ]
    },
    {
     "name": "stderr",
     "output_type": "stream",
     "text": [
      "100%|██████████| 800/800 [00:04<00:00, 166.50it/s]\n"
     ]
    },
    {
     "name": "stdout",
     "output_type": "stream",
     "text": [
      "//////////////////// Validation ////////////////////\n"
     ]
    },
    {
     "name": "stderr",
     "output_type": "stream",
     "text": [
      " 20%|██        | 41/200 [00:00<00:00, 403.66it/s]"
     ]
    },
    {
     "name": "stdout",
     "output_type": "stream",
     "text": [
      "pred: 6 - target: 6 - loss: 0.624 - raw pred: tensor([[-25.0684,  -8.2180, -12.9793, -10.7437,  -6.4913,   2.9537,   6.9661,\n",
      "           4.1911,  -5.3772,   6.7247]], device='cuda:0')\n",
      "matching = [True] - accuracy = 1.0\n",
      "matching = [True] - accuracy = 1.0\n",
      "matching = [True] - accuracy = 1.0\n",
      "matching = [True] - accuracy = 1.0\n",
      "matching = [False] - accuracy = 0.0\n",
      "matching = [True] - accuracy = 1.0\n",
      "matching = [True] - accuracy = 1.0\n",
      "matching = [False] - accuracy = 0.0\n",
      "matching = [False] - accuracy = 0.0\n"
     ]
    },
    {
     "name": "stderr",
     "output_type": "stream",
     "text": [
      " 83%|████████▎ | 166/200 [00:00<00:00, 410.93it/s]"
     ]
    },
    {
     "name": "stdout",
     "output_type": "stream",
     "text": [
      "matching = [False] - accuracy = 0.0\n",
      "matching = [True] - accuracy = 1.0\n",
      "matching = [False] - accuracy = 0.0\n",
      "matching = [False] - accuracy = 0.0\n",
      "matching = [True] - accuracy = 1.0\n",
      "matching = [False] - accuracy = 0.0\n",
      "matching = [False] - accuracy = 0.0\n",
      "matching = [False] - accuracy = 0.0\n",
      "matching = [False] - accuracy = 0.0\n"
     ]
    },
    {
     "name": "stderr",
     "output_type": "stream",
     "text": [
      "100%|██████████| 200/200 [00:00<00:00, 407.71it/s]\n"
     ]
    },
    {
     "name": "stdout",
     "output_type": "stream",
     "text": [
      "matching = [True] - accuracy = 1.0\n",
      "matching = [True] - accuracy = 1.0\n",
      "//////////////////// Epoch: 35 ////////////////////\n"
     ]
    },
    {
     "name": "stderr",
     "output_type": "stream",
     "text": [
      "  2%|▏         | 17/800 [00:00<00:04, 169.24it/s]"
     ]
    },
    {
     "name": "stdout",
     "output_type": "stream",
     "text": [
      "pred: 6 - target: 6 - loss: 0.156 - raw pred: tensor([[-26.0505,  -3.6623,  -9.9562, -12.8068,  -2.7532,   0.6562,   6.2671,\n",
      "           4.1367,  -5.9648,   3.2031]], device='cuda:0',\n",
      "       grad_fn=<AddmmBackward0>)\n"
     ]
    },
    {
     "name": "stderr",
     "output_type": "stream",
     "text": [
      "100%|██████████| 800/800 [00:04<00:00, 165.65it/s]\n"
     ]
    },
    {
     "name": "stdout",
     "output_type": "stream",
     "text": [
      "//////////////////// Validation ////////////////////\n"
     ]
    },
    {
     "name": "stderr",
     "output_type": "stream",
     "text": [
      " 21%|██        | 42/200 [00:00<00:00, 409.95it/s]"
     ]
    },
    {
     "name": "stdout",
     "output_type": "stream",
     "text": [
      "pred: 3 - target: 3 - loss: 0.001 - raw pred: tensor([[  0.5851,   0.3207,  -0.0693,   9.2733, -13.8205,  -5.8562, -24.7521,\n",
      "         -15.0114,   1.1667, -25.9443]], device='cuda:0')\n",
      "matching = [True] - accuracy = 1.0\n",
      "matching = [True] - accuracy = 1.0\n",
      "matching = [False] - accuracy = 0.0\n",
      "matching = [True] - accuracy = 1.0\n",
      "matching = [False] - accuracy = 0.0\n",
      "matching = [True] - accuracy = 1.0\n",
      "matching = [True] - accuracy = 1.0\n",
      "matching = [False] - accuracy = 0.0\n",
      "matching = [True] - accuracy = 1.0\n"
     ]
    },
    {
     "name": "stderr",
     "output_type": "stream",
     "text": [
      " 85%|████████▌ | 170/200 [00:00<00:00, 419.42it/s]"
     ]
    },
    {
     "name": "stdout",
     "output_type": "stream",
     "text": [
      "matching = [True] - accuracy = 1.0\n",
      "matching = [True] - accuracy = 1.0\n",
      "matching = [False] - accuracy = 0.0\n",
      "matching = [True] - accuracy = 1.0\n",
      "matching = [True] - accuracy = 1.0\n",
      "matching = [True] - accuracy = 1.0\n",
      "matching = [True] - accuracy = 1.0\n",
      "matching = [False] - accuracy = 0.0\n",
      "matching = [False] - accuracy = 0.0\n"
     ]
    },
    {
     "name": "stderr",
     "output_type": "stream",
     "text": [
      "100%|██████████| 200/200 [00:00<00:00, 416.78it/s]\n"
     ]
    },
    {
     "name": "stdout",
     "output_type": "stream",
     "text": [
      "matching = [False] - accuracy = 0.0\n",
      "matching = [False] - accuracy = 0.0\n",
      "//////////////////// Epoch: 36 ////////////////////\n"
     ]
    },
    {
     "name": "stderr",
     "output_type": "stream",
     "text": [
      "  2%|▏         | 17/800 [00:00<00:04, 164.05it/s]"
     ]
    },
    {
     "name": "stdout",
     "output_type": "stream",
     "text": [
      "pred: 7 - target: 7 - loss: 0.353 - raw pred: tensor([[-18.6832,  -4.1293,  -8.2253,  -6.4339,  -3.4642,   2.6052,   2.6492,\n",
      "           4.3151,  -4.4384,   1.3578]], device='cuda:0',\n",
      "       grad_fn=<AddmmBackward0>)\n"
     ]
    },
    {
     "name": "stderr",
     "output_type": "stream",
     "text": [
      "100%|██████████| 800/800 [00:04<00:00, 164.83it/s]\n"
     ]
    },
    {
     "name": "stdout",
     "output_type": "stream",
     "text": [
      "//////////////////// Validation ////////////////////\n"
     ]
    },
    {
     "name": "stderr",
     "output_type": "stream",
     "text": [
      " 21%|██        | 42/200 [00:00<00:00, 415.55it/s]"
     ]
    },
    {
     "name": "stdout",
     "output_type": "stream",
     "text": [
      "pred: 5 - target: 7 - loss: 1.067 - raw pred: tensor([[-8.2925, -1.0121, -6.0875, -4.7539, -2.1411,  2.9925, -1.6717,  2.3845,\n",
      "         -2.7767, -3.6723]], device='cuda:0')\n",
      "matching = [False] - accuracy = 0.0\n",
      "matching = [False] - accuracy = 0.0\n",
      "matching = [False] - accuracy = 0.0\n",
      "matching = [False] - accuracy = 0.0\n",
      "matching = [False] - accuracy = 0.0\n",
      "matching = [True] - accuracy = 1.0\n",
      "matching = [False] - accuracy = 0.0\n",
      "matching = [False] - accuracy = 0.0\n",
      "matching = [True] - accuracy = 1.0\n"
     ]
    },
    {
     "name": "stderr",
     "output_type": "stream",
     "text": [
      " 84%|████████▍ | 169/200 [00:00<00:00, 417.12it/s]"
     ]
    },
    {
     "name": "stdout",
     "output_type": "stream",
     "text": [
      "matching = [False] - accuracy = 0.0\n",
      "matching = [False] - accuracy = 0.0\n",
      "matching = [False] - accuracy = 0.0\n",
      "matching = [True] - accuracy = 1.0\n",
      "matching = [True] - accuracy = 1.0\n",
      "matching = [True] - accuracy = 1.0\n",
      "matching = [False] - accuracy = 0.0\n",
      "matching = [True] - accuracy = 1.0\n",
      "matching = [True] - accuracy = 1.0\n"
     ]
    },
    {
     "name": "stderr",
     "output_type": "stream",
     "text": [
      "100%|██████████| 200/200 [00:00<00:00, 415.49it/s]\n"
     ]
    },
    {
     "name": "stdout",
     "output_type": "stream",
     "text": [
      "matching = [False] - accuracy = 0.0\n",
      "matching = [False] - accuracy = 0.0\n",
      "//////////////////// Epoch: 37 ////////////////////\n"
     ]
    },
    {
     "name": "stderr",
     "output_type": "stream",
     "text": [
      "  2%|▏         | 17/800 [00:00<00:04, 167.00it/s]"
     ]
    },
    {
     "name": "stdout",
     "output_type": "stream",
     "text": [
      "pred: 7 - target: 7 - loss: 0.795 - raw pred: tensor([[-6.1172, -0.1462, -4.4363, -3.5039, -1.1343,  0.8692, -3.8846,  1.1058,\n",
      "         -3.4427, -5.7276]], device='cuda:0', grad_fn=<AddmmBackward0>)\n"
     ]
    },
    {
     "name": "stderr",
     "output_type": "stream",
     "text": [
      "100%|██████████| 800/800 [00:04<00:00, 166.49it/s]\n"
     ]
    },
    {
     "name": "stdout",
     "output_type": "stream",
     "text": [
      "//////////////////// Validation ////////////////////\n"
     ]
    },
    {
     "name": "stderr",
     "output_type": "stream",
     "text": [
      " 21%|██        | 42/200 [00:00<00:00, 419.18it/s]"
     ]
    },
    {
     "name": "stdout",
     "output_type": "stream",
     "text": [
      "pred: 8 - target: 8 - loss: 0.078 - raw pred: tensor([[ -2.9366,   0.9682,   1.9421,   2.5172,  -9.4721,  -5.7152, -27.0786,\n",
      "         -18.7012,   5.6094, -31.1266]], device='cuda:0')\n",
      "matching = [True] - accuracy = 1.0\n",
      "matching = [False] - accuracy = 0.0\n",
      "matching = [True] - accuracy = 1.0\n",
      "matching = [False] - accuracy = 0.0\n",
      "matching = [False] - accuracy = 0.0\n",
      "matching = [False] - accuracy = 0.0\n",
      "matching = [True] - accuracy = 1.0\n",
      "matching = [True] - accuracy = 1.0\n",
      "matching = [False] - accuracy = 0.0\n"
     ]
    },
    {
     "name": "stderr",
     "output_type": "stream",
     "text": [
      " 86%|████████▌ | 171/200 [00:00<00:00, 419.63it/s]"
     ]
    },
    {
     "name": "stdout",
     "output_type": "stream",
     "text": [
      "matching = [True] - accuracy = 1.0\n",
      "matching = [True] - accuracy = 1.0\n",
      "matching = [True] - accuracy = 1.0\n",
      "matching = [False] - accuracy = 0.0\n",
      "matching = [True] - accuracy = 1.0\n",
      "matching = [True] - accuracy = 1.0\n",
      "matching = [True] - accuracy = 1.0\n",
      "matching = [True] - accuracy = 1.0\n",
      "matching = [False] - accuracy = 0.0\n"
     ]
    },
    {
     "name": "stderr",
     "output_type": "stream",
     "text": [
      "100%|██████████| 200/200 [00:00<00:00, 417.71it/s]\n"
     ]
    },
    {
     "name": "stdout",
     "output_type": "stream",
     "text": [
      "matching = [True] - accuracy = 1.0\n",
      "matching = [True] - accuracy = 1.0\n",
      "//////////////////// Epoch: 38 ////////////////////\n"
     ]
    },
    {
     "name": "stderr",
     "output_type": "stream",
     "text": [
      "  2%|▏         | 18/800 [00:00<00:04, 169.50it/s]"
     ]
    },
    {
     "name": "stdout",
     "output_type": "stream",
     "text": [
      "pred: 2 - target: 8 - loss: 0.801 - raw pred: tensor([[  2.1803,   2.1074,  12.1710,  -3.1338,  -7.9815, -16.5969, -28.5084,\n",
      "         -25.0450,  11.9655, -31.2723]], device='cuda:0',\n",
      "       grad_fn=<AddmmBackward0>)\n"
     ]
    },
    {
     "name": "stderr",
     "output_type": "stream",
     "text": [
      "100%|██████████| 800/800 [00:04<00:00, 167.59it/s]\n"
     ]
    },
    {
     "name": "stdout",
     "output_type": "stream",
     "text": [
      "//////////////////// Validation ////////////////////\n"
     ]
    },
    {
     "name": "stderr",
     "output_type": "stream",
     "text": [
      " 21%|██        | 42/200 [00:00<00:00, 415.96it/s]"
     ]
    },
    {
     "name": "stdout",
     "output_type": "stream",
     "text": [
      "pred: 7 - target: 5 - loss: 2.288 - raw pred: tensor([[-7.2846, -1.6034, -4.1646, -4.1983, -1.3078, -1.0888, -0.9279,  0.6722,\n",
      "         -3.2040, -2.4726]], device='cuda:0')\n",
      "matching = [False] - accuracy = 0.0\n",
      "matching = [True] - accuracy = 1.0\n",
      "matching = [True] - accuracy = 1.0\n",
      "matching = [True] - accuracy = 1.0\n",
      "matching = [True] - accuracy = 1.0\n",
      "matching = [True] - accuracy = 1.0\n",
      "matching = [False] - accuracy = 0.0\n",
      "matching = [True] - accuracy = 1.0\n",
      "matching = [True] - accuracy = 1.0\n"
     ]
    },
    {
     "name": "stderr",
     "output_type": "stream",
     "text": [
      " 84%|████████▍ | 168/200 [00:00<00:00, 418.03it/s]"
     ]
    },
    {
     "name": "stdout",
     "output_type": "stream",
     "text": [
      "matching = [False] - accuracy = 0.0\n",
      "matching = [False] - accuracy = 0.0\n",
      "matching = [True] - accuracy = 1.0\n",
      "matching = [True] - accuracy = 1.0\n",
      "matching = [False] - accuracy = 0.0\n",
      "matching = [True] - accuracy = 1.0\n",
      "matching = [False] - accuracy = 0.0\n",
      "matching = [False] - accuracy = 0.0\n",
      "matching = [True] - accuracy = 1.0\n"
     ]
    },
    {
     "name": "stderr",
     "output_type": "stream",
     "text": [
      "100%|██████████| 200/200 [00:00<00:00, 416.66it/s]\n"
     ]
    },
    {
     "name": "stdout",
     "output_type": "stream",
     "text": [
      "matching = [True] - accuracy = 1.0\n",
      "matching = [True] - accuracy = 1.0\n",
      "//////////////////// Epoch: 39 ////////////////////\n"
     ]
    },
    {
     "name": "stderr",
     "output_type": "stream",
     "text": [
      "  2%|▏         | 18/800 [00:00<00:04, 171.45it/s]"
     ]
    },
    {
     "name": "stdout",
     "output_type": "stream",
     "text": [
      "pred: 9 - target: 9 - loss: 0.524 - raw pred: tensor([[-17.2735,  -5.4425,  -6.3913,  -9.2776,  -4.6068,  -1.8259,   5.6663,\n",
      "          -0.2530,  -2.3118,   6.0437]], device='cuda:0',\n",
      "       grad_fn=<AddmmBackward0>)\n"
     ]
    },
    {
     "name": "stderr",
     "output_type": "stream",
     "text": [
      "100%|██████████| 800/800 [00:04<00:00, 165.49it/s]\n"
     ]
    },
    {
     "name": "stdout",
     "output_type": "stream",
     "text": [
      "//////////////////// Validation ////////////////////\n"
     ]
    },
    {
     "name": "stderr",
     "output_type": "stream",
     "text": [
      " 21%|██        | 42/200 [00:00<00:00, 412.49it/s]"
     ]
    },
    {
     "name": "stdout",
     "output_type": "stream",
     "text": [
      "pred: 8 - target: 2 - loss: 0.990 - raw pred: tensor([[  1.2229,   2.0663,   8.0832,  -3.4215,  -7.0046, -12.4961, -18.3216,\n",
      "         -19.6584,   8.6068, -19.9400]], device='cuda:0')\n",
      "matching = [False] - accuracy = 0.0\n",
      "matching = [True] - accuracy = 1.0\n",
      "matching = [True] - accuracy = 1.0\n",
      "matching = [True] - accuracy = 1.0\n",
      "matching = [False] - accuracy = 0.0\n",
      "matching = [True] - accuracy = 1.0\n",
      "matching = [True] - accuracy = 1.0\n",
      "matching = [False] - accuracy = 0.0\n",
      "matching = [False] - accuracy = 0.0\n"
     ]
    },
    {
     "name": "stderr",
     "output_type": "stream",
     "text": [
      " 84%|████████▍ | 168/200 [00:00<00:00, 414.99it/s]"
     ]
    },
    {
     "name": "stdout",
     "output_type": "stream",
     "text": [
      "matching = [True] - accuracy = 1.0\n",
      "matching = [False] - accuracy = 0.0\n",
      "matching = [False] - accuracy = 0.0\n",
      "matching = [True] - accuracy = 1.0\n",
      "matching = [True] - accuracy = 1.0\n",
      "matching = [False] - accuracy = 0.0\n",
      "matching = [False] - accuracy = 0.0\n",
      "matching = [True] - accuracy = 1.0\n",
      "matching = [False] - accuracy = 0.0\n"
     ]
    },
    {
     "name": "stderr",
     "output_type": "stream",
     "text": [
      "100%|██████████| 200/200 [00:00<00:00, 412.69it/s]\n"
     ]
    },
    {
     "name": "stdout",
     "output_type": "stream",
     "text": [
      "matching = [True] - accuracy = 1.0\n",
      "matching = [False] - accuracy = 0.0\n",
      "//////////////////// Epoch: 40 ////////////////////\n"
     ]
    },
    {
     "name": "stderr",
     "output_type": "stream",
     "text": [
      "  2%|▏         | 17/800 [00:00<00:04, 167.35it/s]"
     ]
    },
    {
     "name": "stdout",
     "output_type": "stream",
     "text": [
      "pred: 2 - target: 2 - loss: 0.022 - raw pred: tensor([[  1.9178,   1.8481,   7.4907,  -2.5373,  -1.2781, -10.8508, -14.2522,\n",
      "         -10.4315,   3.2822, -16.6634]], device='cuda:0',\n",
      "       grad_fn=<AddmmBackward0>)\n"
     ]
    },
    {
     "name": "stderr",
     "output_type": "stream",
     "text": [
      "100%|██████████| 800/800 [00:04<00:00, 165.37it/s]\n"
     ]
    },
    {
     "name": "stdout",
     "output_type": "stream",
     "text": [
      "//////////////////// Validation ////////////////////\n"
     ]
    },
    {
     "name": "stderr",
     "output_type": "stream",
     "text": [
      " 21%|██        | 42/200 [00:00<00:00, 410.80it/s]"
     ]
    },
    {
     "name": "stdout",
     "output_type": "stream",
     "text": [
      "pred: 3 - target: 3 - loss: 0.023 - raw pred: tensor([[  4.2866,  -1.1228,   1.9831,   8.8295, -15.9709,  -7.3764, -23.0715,\n",
      "         -20.1245,   4.4010, -22.4752]], device='cuda:0')\n",
      "matching = [True] - accuracy = 1.0\n",
      "matching = [False] - accuracy = 0.0\n",
      "matching = [True] - accuracy = 1.0\n",
      "matching = [False] - accuracy = 0.0\n",
      "matching = [False] - accuracy = 0.0\n",
      "matching = [True] - accuracy = 1.0\n",
      "matching = [True] - accuracy = 1.0\n",
      "matching = [False] - accuracy = 0.0\n",
      "matching = [True] - accuracy = 1.0\n"
     ]
    },
    {
     "name": "stderr",
     "output_type": "stream",
     "text": [
      " 84%|████████▍ | 169/200 [00:00<00:00, 416.49it/s]"
     ]
    },
    {
     "name": "stdout",
     "output_type": "stream",
     "text": [
      "matching = [False] - accuracy = 0.0\n",
      "matching = [False] - accuracy = 0.0\n",
      "matching = [False] - accuracy = 0.0\n",
      "matching = [False] - accuracy = 0.0\n",
      "matching = [False] - accuracy = 0.0\n",
      "matching = [False] - accuracy = 0.0\n",
      "matching = [True] - accuracy = 1.0\n",
      "matching = [True] - accuracy = 1.0\n",
      "matching = [True] - accuracy = 1.0\n"
     ]
    },
    {
     "name": "stderr",
     "output_type": "stream",
     "text": [
      "100%|██████████| 200/200 [00:00<00:00, 411.93it/s]\n"
     ]
    },
    {
     "name": "stdout",
     "output_type": "stream",
     "text": [
      "matching = [False] - accuracy = 0.0\n",
      "matching = [True] - accuracy = 1.0\n",
      "//////////////////// Epoch: 41 ////////////////////\n"
     ]
    },
    {
     "name": "stderr",
     "output_type": "stream",
     "text": [
      "  2%|▏         | 17/800 [00:00<00:04, 167.18it/s]"
     ]
    },
    {
     "name": "stdout",
     "output_type": "stream",
     "text": [
      "pred: 5 - target: 5 - loss: 0.372 - raw pred: tensor([[-12.9510,  -4.9957,  -8.0897,  -6.9654,  -3.7793,   2.9975,  -1.3165,\n",
      "           2.1116,  -2.5832,  -0.9146]], device='cuda:0',\n",
      "       grad_fn=<AddmmBackward0>)\n"
     ]
    },
    {
     "name": "stderr",
     "output_type": "stream",
     "text": [
      "100%|██████████| 800/800 [00:04<00:00, 164.65it/s]\n"
     ]
    },
    {
     "name": "stdout",
     "output_type": "stream",
     "text": [
      "//////////////////// Validation ////////////////////\n"
     ]
    },
    {
     "name": "stderr",
     "output_type": "stream",
     "text": [
      " 22%|██▏       | 43/200 [00:00<00:00, 421.28it/s]"
     ]
    },
    {
     "name": "stdout",
     "output_type": "stream",
     "text": [
      "pred: 8 - target: 8 - loss: 0.257 - raw pred: tensor([[  1.3975,   0.5419,   4.3566,  -1.2717,  -3.9532,  -6.7957, -13.4841,\n",
      "         -11.0099,   5.6582, -14.1256]], device='cuda:0')\n",
      "matching = [True] - accuracy = 1.0\n",
      "matching = [True] - accuracy = 1.0\n",
      "matching = [True] - accuracy = 1.0\n",
      "matching = [True] - accuracy = 1.0\n",
      "matching = [True] - accuracy = 1.0\n",
      "matching = [True] - accuracy = 1.0\n",
      "matching = [True] - accuracy = 1.0\n",
      "matching = [True] - accuracy = 1.0\n",
      "matching = [False] - accuracy = 0.0\n"
     ]
    },
    {
     "name": "stderr",
     "output_type": "stream",
     "text": [
      " 86%|████████▌ | 172/200 [00:00<00:00, 420.69it/s]"
     ]
    },
    {
     "name": "stdout",
     "output_type": "stream",
     "text": [
      "matching = [True] - accuracy = 1.0\n",
      "matching = [False] - accuracy = 0.0\n",
      "matching = [True] - accuracy = 1.0\n",
      "matching = [True] - accuracy = 1.0\n",
      "matching = [True] - accuracy = 1.0\n",
      "matching = [True] - accuracy = 1.0\n",
      "matching = [True] - accuracy = 1.0\n",
      "matching = [False] - accuracy = 0.0\n",
      "matching = [True] - accuracy = 1.0\n"
     ]
    },
    {
     "name": "stderr",
     "output_type": "stream",
     "text": [
      "100%|██████████| 200/200 [00:00<00:00, 418.01it/s]\n"
     ]
    },
    {
     "name": "stdout",
     "output_type": "stream",
     "text": [
      "matching = [False] - accuracy = 0.0\n",
      "matching = [True] - accuracy = 1.0\n",
      "//////////////////// Epoch: 42 ////////////////////\n"
     ]
    },
    {
     "name": "stderr",
     "output_type": "stream",
     "text": [
      "  2%|▏         | 17/800 [00:00<00:04, 162.29it/s]"
     ]
    },
    {
     "name": "stdout",
     "output_type": "stream",
     "text": [
      "pred: 3 - target: 3 - loss: 0.001 - raw pred: tensor([[ -0.2642,  -3.4313,   4.6547,  11.8300, -15.1598,  -7.5293, -33.4971,\n",
      "         -20.1954,   1.8283, -35.7554]], device='cuda:0',\n",
      "       grad_fn=<AddmmBackward0>)\n"
     ]
    },
    {
     "name": "stderr",
     "output_type": "stream",
     "text": [
      "100%|██████████| 800/800 [00:04<00:00, 165.81it/s]\n"
     ]
    },
    {
     "name": "stdout",
     "output_type": "stream",
     "text": [
      "//////////////////// Validation ////////////////////\n"
     ]
    },
    {
     "name": "stderr",
     "output_type": "stream",
     "text": [
      " 20%|██        | 40/200 [00:00<00:00, 396.16it/s]"
     ]
    },
    {
     "name": "stdout",
     "output_type": "stream",
     "text": [
      "pred: 1 - target: 4 - loss: 3.994 - raw pred: tensor([[-11.1991,   3.9749,   3.6961,   1.1737,   0.6620, -14.7318, -17.6973,\n",
      "         -16.4727,   1.8647, -18.5179]], device='cuda:0')\n",
      "matching = [False] - accuracy = 0.0\n",
      "matching = [True] - accuracy = 1.0\n",
      "matching = [True] - accuracy = 1.0\n",
      "matching = [False] - accuracy = 0.0\n",
      "matching = [False] - accuracy = 0.0\n",
      "matching = [False] - accuracy = 0.0\n",
      "matching = [True] - accuracy = 1.0\n",
      "matching = [False] - accuracy = 0.0\n",
      "matching = [True] - accuracy = 1.0\n"
     ]
    },
    {
     "name": "stderr",
     "output_type": "stream",
     "text": [
      " 62%|██████▏   | 124/200 [00:00<00:00, 411.64it/s]"
     ]
    },
    {
     "name": "stdout",
     "output_type": "stream",
     "text": [
      "matching = [False] - accuracy = 0.0\n",
      "matching = [False] - accuracy = 0.0\n",
      "matching = [True] - accuracy = 1.0\n",
      "matching = [False] - accuracy = 0.0\n",
      "matching = [False] - accuracy = 0.0\n",
      "matching = [True] - accuracy = 1.0\n",
      "matching = [False] - accuracy = 0.0\n",
      "matching = [True] - accuracy = 1.0\n"
     ]
    },
    {
     "name": "stderr",
     "output_type": "stream",
     "text": [
      " 83%|████████▎ | 166/200 [00:00<00:00, 412.88it/s]"
     ]
    },
    {
     "name": "stdout",
     "output_type": "stream",
     "text": [
      "matching = [True] - accuracy = 1.0\n"
     ]
    },
    {
     "name": "stderr",
     "output_type": "stream",
     "text": [
      "100%|██████████| 200/200 [00:00<00:00, 410.63it/s]\n"
     ]
    },
    {
     "name": "stdout",
     "output_type": "stream",
     "text": [
      "matching = [True] - accuracy = 1.0\n",
      "matching = [True] - accuracy = 1.0\n",
      "//////////////////// Epoch: 43 ////////////////////\n"
     ]
    },
    {
     "name": "stderr",
     "output_type": "stream",
     "text": [
      "  2%|▏         | 17/800 [00:00<00:04, 163.75it/s]"
     ]
    },
    {
     "name": "stdout",
     "output_type": "stream",
     "text": [
      "pred: 9 - target: 9 - loss: 0.508 - raw pred: tensor([[-27.5963,  -7.4715,  -9.6370, -15.8913,  -7.3535,  -2.0182,   9.1423,\n",
      "           0.9386,  -5.6598,   9.5562]], device='cuda:0',\n",
      "       grad_fn=<AddmmBackward0>)\n"
     ]
    },
    {
     "name": "stderr",
     "output_type": "stream",
     "text": [
      "100%|██████████| 800/800 [00:04<00:00, 165.62it/s]\n"
     ]
    },
    {
     "name": "stdout",
     "output_type": "stream",
     "text": [
      "//////////////////// Validation ////////////////////\n"
     ]
    },
    {
     "name": "stderr",
     "output_type": "stream",
     "text": [
      " 21%|██        | 42/200 [00:00<00:00, 414.08it/s]"
     ]
    },
    {
     "name": "stdout",
     "output_type": "stream",
     "text": [
      "pred: 9 - target: 6 - loss: 1.222 - raw pred: tensor([[-1.5321e+01, -7.9706e-03, -4.7585e+00, -1.0757e+01, -2.4759e+00,\n",
      "         -6.9885e+00,  3.3687e+00, -6.5655e+00, -3.4377e+00,  4.2252e+00]],\n",
      "       device='cuda:0')\n",
      "matching = [False] - accuracy = 0.0\n",
      "matching = [True] - accuracy = 1.0\n",
      "matching = [False] - accuracy = 0.0\n",
      "matching = [False] - accuracy = 0.0\n",
      "matching = [True] - accuracy = 1.0\n",
      "matching = [False] - accuracy = 0.0\n",
      "matching = [False] - accuracy = 0.0\n",
      "matching = [True] - accuracy = 1.0\n",
      "matching = [True] - accuracy = 1.0\n"
     ]
    },
    {
     "name": "stderr",
     "output_type": "stream",
     "text": [
      " 85%|████████▌ | 170/200 [00:00<00:00, 419.60it/s]"
     ]
    },
    {
     "name": "stdout",
     "output_type": "stream",
     "text": [
      "matching = [True] - accuracy = 1.0\n",
      "matching = [True] - accuracy = 1.0\n",
      "matching = [True] - accuracy = 1.0\n",
      "matching = [False] - accuracy = 0.0\n",
      "matching = [False] - accuracy = 0.0\n",
      "matching = [True] - accuracy = 1.0\n",
      "matching = [False] - accuracy = 0.0\n",
      "matching = [False] - accuracy = 0.0\n",
      "matching = [True] - accuracy = 1.0\n"
     ]
    },
    {
     "name": "stderr",
     "output_type": "stream",
     "text": [
      "100%|██████████| 200/200 [00:00<00:00, 417.36it/s]\n"
     ]
    },
    {
     "name": "stdout",
     "output_type": "stream",
     "text": [
      "matching = [True] - accuracy = 1.0\n",
      "matching = [False] - accuracy = 0.0\n",
      "//////////////////// Epoch: 44 ////////////////////\n"
     ]
    },
    {
     "name": "stderr",
     "output_type": "stream",
     "text": [
      "  2%|▏         | 17/800 [00:00<00:04, 162.89it/s]"
     ]
    },
    {
     "name": "stdout",
     "output_type": "stream",
     "text": [
      "pred: 1 - target: 1 - loss: 0.507 - raw pred: tensor([[-7.0647,  2.9644, -2.2001, -4.3280,  2.4896, -2.1954, -1.8998, -1.5342,\n",
      "         -2.2326, -3.3495]], device='cuda:0', grad_fn=<AddmmBackward0>)\n"
     ]
    },
    {
     "name": "stderr",
     "output_type": "stream",
     "text": [
      "100%|██████████| 800/800 [00:04<00:00, 165.49it/s]\n"
     ]
    },
    {
     "name": "stdout",
     "output_type": "stream",
     "text": [
      "//////////////////// Validation ////////////////////\n"
     ]
    },
    {
     "name": "stderr",
     "output_type": "stream",
     "text": [
      " 21%|██        | 42/200 [00:00<00:00, 413.52it/s]"
     ]
    },
    {
     "name": "stdout",
     "output_type": "stream",
     "text": [
      "pred: 9 - target: 9 - loss: 0.237 - raw pred: tensor([[-17.0114,  -2.8669,  -3.6256,  -9.3492,  -4.4366,  -5.3810,   3.8973,\n",
      "          -5.3637,  -5.2361,   5.2173]], device='cuda:0')\n",
      "matching = [True] - accuracy = 1.0\n",
      "matching = [False] - accuracy = 0.0\n",
      "matching = [False] - accuracy = 0.0\n",
      "matching = [False] - accuracy = 0.0\n",
      "matching = [False] - accuracy = 0.0\n",
      "matching = [False] - accuracy = 0.0\n",
      "matching = [False] - accuracy = 0.0\n",
      "matching = [True] - accuracy = 1.0\n",
      "matching = [True] - accuracy = 1.0\n"
     ]
    },
    {
     "name": "stderr",
     "output_type": "stream",
     "text": [
      " 84%|████████▍ | 169/200 [00:00<00:00, 410.87it/s]"
     ]
    },
    {
     "name": "stdout",
     "output_type": "stream",
     "text": [
      "matching = [False] - accuracy = 0.0\n",
      "matching = [True] - accuracy = 1.0\n",
      "matching = [False] - accuracy = 0.0\n",
      "matching = [True] - accuracy = 1.0\n",
      "matching = [False] - accuracy = 0.0\n",
      "matching = [True] - accuracy = 1.0\n",
      "matching = [True] - accuracy = 1.0\n",
      "matching = [True] - accuracy = 1.0\n",
      "matching = [True] - accuracy = 1.0\n"
     ]
    },
    {
     "name": "stderr",
     "output_type": "stream",
     "text": [
      "100%|██████████| 200/200 [00:00<00:00, 409.79it/s]\n"
     ]
    },
    {
     "name": "stdout",
     "output_type": "stream",
     "text": [
      "matching = [False] - accuracy = 0.0\n",
      "matching = [True] - accuracy = 1.0\n",
      "//////////////////// Epoch: 45 ////////////////////\n"
     ]
    },
    {
     "name": "stderr",
     "output_type": "stream",
     "text": [
      "  2%|▏         | 17/800 [00:00<00:04, 162.89it/s]"
     ]
    },
    {
     "name": "stdout",
     "output_type": "stream",
     "text": [
      "pred: 5 - target: 5 - loss: 0.092 - raw pred: tensor([[-1.9105e+01, -6.2751e+00, -1.1741e+01, -1.0734e+01, -5.8315e+00,\n",
      "          6.2575e+00, -1.2415e-03,  3.9018e+00, -4.9110e+00, -3.0912e+00]],\n",
      "       device='cuda:0', grad_fn=<AddmmBackward0>)\n"
     ]
    },
    {
     "name": "stderr",
     "output_type": "stream",
     "text": [
      "100%|██████████| 800/800 [00:04<00:00, 168.07it/s]\n"
     ]
    },
    {
     "name": "stdout",
     "output_type": "stream",
     "text": [
      "//////////////////// Validation ////////////////////\n"
     ]
    },
    {
     "name": "stderr",
     "output_type": "stream",
     "text": [
      " 22%|██▏       | 43/200 [00:00<00:00, 420.90it/s]"
     ]
    },
    {
     "name": "stdout",
     "output_type": "stream",
     "text": [
      "pred: 9 - target: 9 - loss: 0.273 - raw pred: tensor([[-26.2410,  -7.9935, -11.5490, -13.3801,  -7.4412,  -0.3732,   7.4006,\n",
      "           0.8895,  -5.6819,   8.5611]], device='cuda:0')\n",
      "matching = [True] - accuracy = 1.0\n",
      "matching = [False] - accuracy = 0.0\n",
      "matching = [True] - accuracy = 1.0\n",
      "matching = [True] - accuracy = 1.0\n",
      "matching = [False] - accuracy = 0.0\n",
      "matching = [False] - accuracy = 0.0\n",
      "matching = [True] - accuracy = 1.0\n",
      "matching = [True] - accuracy = 1.0\n",
      "matching = [False] - accuracy = 0.0\n"
     ]
    },
    {
     "name": "stderr",
     "output_type": "stream",
     "text": [
      " 86%|████████▌ | 172/200 [00:00<00:00, 421.68it/s]"
     ]
    },
    {
     "name": "stdout",
     "output_type": "stream",
     "text": [
      "matching = [True] - accuracy = 1.0\n",
      "matching = [False] - accuracy = 0.0\n",
      "matching = [False] - accuracy = 0.0\n",
      "matching = [False] - accuracy = 0.0\n",
      "matching = [True] - accuracy = 1.0\n",
      "matching = [True] - accuracy = 1.0\n",
      "matching = [False] - accuracy = 0.0\n",
      "matching = [True] - accuracy = 1.0\n",
      "matching = [False] - accuracy = 0.0\n"
     ]
    },
    {
     "name": "stderr",
     "output_type": "stream",
     "text": [
      "100%|██████████| 200/200 [00:00<00:00, 421.54it/s]\n"
     ]
    },
    {
     "name": "stdout",
     "output_type": "stream",
     "text": [
      "matching = [True] - accuracy = 1.0\n",
      "matching = [True] - accuracy = 1.0\n",
      "//////////////////// Epoch: 46 ////////////////////\n"
     ]
    },
    {
     "name": "stderr",
     "output_type": "stream",
     "text": [
      "  2%|▏         | 17/800 [00:00<00:04, 166.34it/s]"
     ]
    },
    {
     "name": "stdout",
     "output_type": "stream",
     "text": [
      "pred: 1 - target: 1 - loss: 0.017 - raw pred: tensor([[-13.2859,   9.1376,  -1.3186, -17.7221,   4.0739,  -8.3477, -22.9529,\n",
      "         -21.5436,   4.6293, -24.1489]], device='cuda:0',\n",
      "       grad_fn=<AddmmBackward0>)\n"
     ]
    },
    {
     "name": "stderr",
     "output_type": "stream",
     "text": [
      "100%|██████████| 800/800 [00:04<00:00, 164.71it/s]\n"
     ]
    },
    {
     "name": "stdout",
     "output_type": "stream",
     "text": [
      "//////////////////// Validation ////////////////////\n"
     ]
    },
    {
     "name": "stderr",
     "output_type": "stream",
     "text": [
      " 20%|██        | 41/200 [00:00<00:00, 409.18it/s]"
     ]
    },
    {
     "name": "stdout",
     "output_type": "stream",
     "text": [
      "pred: 0 - target: 0 - loss: 0.000 - raw pred: tensor([[ 53.0506,  12.4757,   8.6561,   7.9602, -64.9259, -43.5331, -78.8649,\n",
      "         -84.0574,   8.7234, -81.3002]], device='cuda:0')\n",
      "matching = [True] - accuracy = 1.0\n",
      "matching = [False] - accuracy = 0.0\n",
      "matching = [False] - accuracy = 0.0\n",
      "matching = [False] - accuracy = 0.0\n",
      "matching = [True] - accuracy = 1.0\n",
      "matching = [False] - accuracy = 0.0\n",
      "matching = [True] - accuracy = 1.0\n",
      "matching = [True] - accuracy = 1.0\n",
      "matching = [True] - accuracy = 1.0\n"
     ]
    },
    {
     "name": "stderr",
     "output_type": "stream",
     "text": [
      " 84%|████████▎ | 167/200 [00:00<00:00, 415.55it/s]"
     ]
    },
    {
     "name": "stdout",
     "output_type": "stream",
     "text": [
      "matching = [True] - accuracy = 1.0\n",
      "matching = [True] - accuracy = 1.0\n",
      "matching = [False] - accuracy = 0.0\n",
      "matching = [True] - accuracy = 1.0\n",
      "matching = [True] - accuracy = 1.0\n",
      "matching = [False] - accuracy = 0.0\n",
      "matching = [False] - accuracy = 0.0\n",
      "matching = [True] - accuracy = 1.0\n",
      "matching = [True] - accuracy = 1.0\n"
     ]
    },
    {
     "name": "stderr",
     "output_type": "stream",
     "text": [
      "100%|██████████| 200/200 [00:00<00:00, 413.33it/s]\n"
     ]
    },
    {
     "name": "stdout",
     "output_type": "stream",
     "text": [
      "matching = [False] - accuracy = 0.0\n",
      "matching = [True] - accuracy = 1.0\n",
      "//////////////////// Epoch: 47 ////////////////////\n"
     ]
    },
    {
     "name": "stderr",
     "output_type": "stream",
     "text": [
      "  2%|▏         | 17/800 [00:00<00:04, 161.85it/s]"
     ]
    },
    {
     "name": "stdout",
     "output_type": "stream",
     "text": [
      "pred: 0 - target: 0 - loss: 0.000 - raw pred: tensor([[ 22.7596,   4.3218,   4.5445,   1.2951, -26.8259, -23.0114, -35.7851,\n",
      "         -35.9882,   5.2440, -35.0924]], device='cuda:0',\n",
      "       grad_fn=<AddmmBackward0>)\n"
     ]
    },
    {
     "name": "stderr",
     "output_type": "stream",
     "text": [
      "100%|██████████| 800/800 [00:04<00:00, 165.40it/s]\n"
     ]
    },
    {
     "name": "stdout",
     "output_type": "stream",
     "text": [
      "//////////////////// Validation ////////////////////\n"
     ]
    },
    {
     "name": "stderr",
     "output_type": "stream",
     "text": [
      " 21%|██        | 42/200 [00:00<00:00, 413.57it/s]"
     ]
    },
    {
     "name": "stdout",
     "output_type": "stream",
     "text": [
      "pred: 3 - target: 3 - loss: 0.005 - raw pred: tensor([[  4.0286,  -4.3243,   1.9983,  10.5975, -25.5104,  -5.5486, -32.5332,\n",
      "         -27.3735,   4.9170, -30.9647]], device='cuda:0')\n",
      "matching = [True] - accuracy = 1.0\n",
      "matching = [False] - accuracy = 0.0\n",
      "matching = [True] - accuracy = 1.0\n",
      "matching = [False] - accuracy = 0.0\n",
      "matching = [False] - accuracy = 0.0\n",
      "matching = [True] - accuracy = 1.0\n",
      "matching = [False] - accuracy = 0.0\n",
      "matching = [False] - accuracy = 0.0\n",
      "matching = [True] - accuracy = 1.0\n"
     ]
    },
    {
     "name": "stderr",
     "output_type": "stream",
     "text": [
      " 84%|████████▍ | 169/200 [00:00<00:00, 419.26it/s]"
     ]
    },
    {
     "name": "stdout",
     "output_type": "stream",
     "text": [
      "matching = [True] - accuracy = 1.0\n",
      "matching = [True] - accuracy = 1.0\n",
      "matching = [True] - accuracy = 1.0\n",
      "matching = [False] - accuracy = 0.0\n",
      "matching = [True] - accuracy = 1.0\n",
      "matching = [True] - accuracy = 1.0\n",
      "matching = [True] - accuracy = 1.0\n",
      "matching = [False] - accuracy = 0.0\n",
      "matching = [True] - accuracy = 1.0\n"
     ]
    },
    {
     "name": "stderr",
     "output_type": "stream",
     "text": [
      "100%|██████████| 200/200 [00:00<00:00, 417.43it/s]\n"
     ]
    },
    {
     "name": "stdout",
     "output_type": "stream",
     "text": [
      "matching = [True] - accuracy = 1.0\n",
      "matching = [True] - accuracy = 1.0\n",
      "//////////////////// Epoch: 48 ////////////////////\n"
     ]
    },
    {
     "name": "stderr",
     "output_type": "stream",
     "text": [
      "  2%|▏         | 17/800 [00:00<00:04, 164.84it/s]"
     ]
    },
    {
     "name": "stdout",
     "output_type": "stream",
     "text": [
      "pred: 3 - target: 3 - loss: 0.019 - raw pred: tensor([[ -3.5051,   1.4732,  -1.3135,   5.6606, -10.5917,  -4.1312, -23.8652,\n",
      "         -13.7887,  -0.0396, -26.0136]], device='cuda:0',\n",
      "       grad_fn=<AddmmBackward0>)\n"
     ]
    },
    {
     "name": "stderr",
     "output_type": "stream",
     "text": [
      "100%|██████████| 800/800 [00:04<00:00, 164.55it/s]\n"
     ]
    },
    {
     "name": "stdout",
     "output_type": "stream",
     "text": [
      "//////////////////// Validation ////////////////////\n"
     ]
    },
    {
     "name": "stderr",
     "output_type": "stream",
     "text": [
      " 21%|██        | 42/200 [00:00<00:00, 418.48it/s]"
     ]
    },
    {
     "name": "stdout",
     "output_type": "stream",
     "text": [
      "pred: 1 - target: 4 - loss: 3.650 - raw pred: tensor([[-3.7444,  2.2265, -0.7027, -3.2009, -1.1376, -6.1666, -6.7532, -5.6848,\n",
      "          0.7773, -7.8708]], device='cuda:0')\n",
      "matching = [False] - accuracy = 0.0\n",
      "matching = [False] - accuracy = 0.0\n",
      "matching = [False] - accuracy = 0.0\n",
      "matching = [True] - accuracy = 1.0\n",
      "matching = [True] - accuracy = 1.0\n",
      "matching = [True] - accuracy = 1.0\n",
      "matching = [False] - accuracy = 0.0\n",
      "matching = [False] - accuracy = 0.0\n",
      "matching = [True] - accuracy = 1.0\n"
     ]
    },
    {
     "name": "stderr",
     "output_type": "stream",
     "text": [
      " 86%|████████▌ | 171/200 [00:00<00:00, 420.88it/s]"
     ]
    },
    {
     "name": "stdout",
     "output_type": "stream",
     "text": [
      "matching = [False] - accuracy = 0.0\n",
      "matching = [True] - accuracy = 1.0\n",
      "matching = [False] - accuracy = 0.0\n",
      "matching = [False] - accuracy = 0.0\n",
      "matching = [True] - accuracy = 1.0\n",
      "matching = [False] - accuracy = 0.0\n",
      "matching = [True] - accuracy = 1.0\n",
      "matching = [True] - accuracy = 1.0\n",
      "matching = [False] - accuracy = 0.0\n"
     ]
    },
    {
     "name": "stderr",
     "output_type": "stream",
     "text": [
      "100%|██████████| 200/200 [00:00<00:00, 419.41it/s]\n"
     ]
    },
    {
     "name": "stdout",
     "output_type": "stream",
     "text": [
      "matching = [True] - accuracy = 1.0\n",
      "matching = [True] - accuracy = 1.0\n",
      "//////////////////// Epoch: 49 ////////////////////\n"
     ]
    },
    {
     "name": "stderr",
     "output_type": "stream",
     "text": [
      "  2%|▏         | 18/800 [00:00<00:04, 172.97it/s]"
     ]
    },
    {
     "name": "stdout",
     "output_type": "stream",
     "text": [
      "pred: 9 - target: 9 - loss: 0.392 - raw pred: tensor([[-20.4731,  -7.4181,  -8.5258, -11.3404,  -6.6867,  -1.1853,   6.1854,\n",
      "           0.1715,  -4.1288,   6.9216]], device='cuda:0',\n",
      "       grad_fn=<AddmmBackward0>)\n"
     ]
    },
    {
     "name": "stderr",
     "output_type": "stream",
     "text": [
      "100%|██████████| 800/800 [00:04<00:00, 168.97it/s]\n"
     ]
    },
    {
     "name": "stdout",
     "output_type": "stream",
     "text": [
      "//////////////////// Validation ////////////////////\n"
     ]
    },
    {
     "name": "stderr",
     "output_type": "stream",
     "text": [
      " 21%|██        | 42/200 [00:00<00:00, 414.87it/s]"
     ]
    },
    {
     "name": "stdout",
     "output_type": "stream",
     "text": [
      "pred: 6 - target: 9 - loss: 0.757 - raw pred: tensor([[-26.3469,  -6.7830, -10.6166, -18.2977,  -7.6856,  -4.2130,   8.6408,\n",
      "           0.7041,  -4.7715,   8.5174]], device='cuda:0')\n",
      "matching = [False] - accuracy = 0.0\n",
      "matching = [True] - accuracy = 1.0\n",
      "matching = [False] - accuracy = 0.0\n",
      "matching = [False] - accuracy = 0.0\n",
      "matching = [True] - accuracy = 1.0\n",
      "matching = [True] - accuracy = 1.0\n",
      "matching = [True] - accuracy = 1.0\n",
      "matching = [True] - accuracy = 1.0\n",
      "matching = [True] - accuracy = 1.0\n"
     ]
    },
    {
     "name": "stderr",
     "output_type": "stream",
     "text": [
      " 84%|████████▍ | 169/200 [00:00<00:00, 418.98it/s]"
     ]
    },
    {
     "name": "stdout",
     "output_type": "stream",
     "text": [
      "matching = [False] - accuracy = 0.0\n",
      "matching = [False] - accuracy = 0.0\n",
      "matching = [True] - accuracy = 1.0\n",
      "matching = [False] - accuracy = 0.0\n",
      "matching = [True] - accuracy = 1.0\n",
      "matching = [True] - accuracy = 1.0\n",
      "matching = [True] - accuracy = 1.0\n",
      "matching = [False] - accuracy = 0.0\n",
      "matching = [True] - accuracy = 1.0\n"
     ]
    },
    {
     "name": "stderr",
     "output_type": "stream",
     "text": [
      "100%|██████████| 200/200 [00:00<00:00, 417.01it/s]\n"
     ]
    },
    {
     "name": "stdout",
     "output_type": "stream",
     "text": [
      "matching = [False] - accuracy = 0.0\n",
      "matching = [False] - accuracy = 0.0\n",
      "//////////////////// Epoch: 50 ////////////////////\n"
     ]
    },
    {
     "name": "stderr",
     "output_type": "stream",
     "text": [
      "  2%|▏         | 17/800 [00:00<00:04, 167.71it/s]"
     ]
    },
    {
     "name": "stdout",
     "output_type": "stream",
     "text": [
      "pred: 2 - target: 2 - loss: 0.004 - raw pred: tensor([[ -4.4342,   3.1236,   8.9897,  -2.3752,  -4.6853, -14.1832, -21.2372,\n",
      "         -19.8891,   2.2250, -22.1978]], device='cuda:0',\n",
      "       grad_fn=<AddmmBackward0>)\n"
     ]
    },
    {
     "name": "stderr",
     "output_type": "stream",
     "text": [
      "100%|██████████| 800/800 [00:04<00:00, 164.99it/s]\n"
     ]
    },
    {
     "name": "stdout",
     "output_type": "stream",
     "text": [
      "//////////////////// Validation ////////////////////\n"
     ]
    },
    {
     "name": "stderr",
     "output_type": "stream",
     "text": [
      " 21%|██        | 42/200 [00:00<00:00, 415.96it/s]"
     ]
    },
    {
     "name": "stdout",
     "output_type": "stream",
     "text": [
      "pred: 8 - target: 8 - loss: 0.260 - raw pred: tensor([[ -5.4126,   5.6746,   5.9689,  -4.7615,  -5.0056, -19.3701, -18.5977,\n",
      "         -24.7117,   7.7392, -19.1795]], device='cuda:0')\n",
      "matching = [True] - accuracy = 1.0\n",
      "matching = [True] - accuracy = 1.0\n",
      "matching = [True] - accuracy = 1.0\n",
      "matching = [True] - accuracy = 1.0\n",
      "matching = [True] - accuracy = 1.0\n",
      "matching = [True] - accuracy = 1.0\n",
      "matching = [False] - accuracy = 0.0\n",
      "matching = [True] - accuracy = 1.0\n",
      "matching = [True] - accuracy = 1.0\n"
     ]
    },
    {
     "name": "stderr",
     "output_type": "stream",
     "text": [
      " 85%|████████▌ | 170/200 [00:00<00:00, 419.64it/s]"
     ]
    },
    {
     "name": "stdout",
     "output_type": "stream",
     "text": [
      "matching = [True] - accuracy = 1.0\n",
      "matching = [True] - accuracy = 1.0\n",
      "matching = [True] - accuracy = 1.0\n",
      "matching = [True] - accuracy = 1.0\n",
      "matching = [True] - accuracy = 1.0\n",
      "matching = [False] - accuracy = 0.0\n",
      "matching = [False] - accuracy = 0.0\n",
      "matching = [True] - accuracy = 1.0\n",
      "matching = [True] - accuracy = 1.0\n"
     ]
    },
    {
     "name": "stderr",
     "output_type": "stream",
     "text": [
      "100%|██████████| 200/200 [00:00<00:00, 417.89it/s]\n"
     ]
    },
    {
     "name": "stdout",
     "output_type": "stream",
     "text": [
      "matching = [True] - accuracy = 1.0\n",
      "matching = [True] - accuracy = 1.0\n",
      "//////////////////// Epoch: 51 ////////////////////\n"
     ]
    },
    {
     "name": "stderr",
     "output_type": "stream",
     "text": [
      "  2%|▏         | 17/800 [00:00<00:04, 165.25it/s]"
     ]
    },
    {
     "name": "stdout",
     "output_type": "stream",
     "text": [
      "pred: 3 - target: 3 - loss: 0.000 - raw pred: tensor([[ -7.3725, -11.1531,  -0.0914,  16.2744, -28.8052,  -0.8363, -35.7290,\n",
      "         -26.6931,   0.9314, -35.0570]], device='cuda:0',\n",
      "       grad_fn=<AddmmBackward0>)\n"
     ]
    },
    {
     "name": "stderr",
     "output_type": "stream",
     "text": [
      "100%|██████████| 800/800 [00:04<00:00, 165.03it/s]\n"
     ]
    },
    {
     "name": "stdout",
     "output_type": "stream",
     "text": [
      "//////////////////// Validation ////////////////////\n"
     ]
    },
    {
     "name": "stderr",
     "output_type": "stream",
     "text": [
      " 21%|██        | 42/200 [00:00<00:00, 415.56it/s]"
     ]
    },
    {
     "name": "stdout",
     "output_type": "stream",
     "text": [
      "pred: 9 - target: 9 - loss: 0.835 - raw pred: tensor([[ -9.3861,  -1.6834,  -1.0200, -11.0815,  -2.7010,  -8.0369,   1.1352,\n",
      "          -5.7428,   0.7642,   1.5044]], device='cuda:0')\n",
      "matching = [True] - accuracy = 1.0\n",
      "matching = [False] - accuracy = 0.0\n",
      "matching = [True] - accuracy = 1.0\n",
      "matching = [True] - accuracy = 1.0\n",
      "matching = [True] - accuracy = 1.0\n",
      "matching = [True] - accuracy = 1.0\n",
      "matching = [False] - accuracy = 0.0\n",
      "matching = [False] - accuracy = 0.0\n",
      "matching = [True] - accuracy = 1.0\n"
     ]
    },
    {
     "name": "stderr",
     "output_type": "stream",
     "text": [
      " 84%|████████▍ | 169/200 [00:00<00:00, 413.75it/s]"
     ]
    },
    {
     "name": "stdout",
     "output_type": "stream",
     "text": [
      "matching = [True] - accuracy = 1.0\n",
      "matching = [True] - accuracy = 1.0\n",
      "matching = [True] - accuracy = 1.0\n",
      "matching = [False] - accuracy = 0.0\n",
      "matching = [False] - accuracy = 0.0\n",
      "matching = [True] - accuracy = 1.0\n",
      "matching = [False] - accuracy = 0.0\n",
      "matching = [False] - accuracy = 0.0\n",
      "matching = [True] - accuracy = 1.0\n"
     ]
    },
    {
     "name": "stderr",
     "output_type": "stream",
     "text": [
      "100%|██████████| 200/200 [00:00<00:00, 411.52it/s]\n"
     ]
    },
    {
     "name": "stdout",
     "output_type": "stream",
     "text": [
      "matching = [False] - accuracy = 0.0\n",
      "matching = [True] - accuracy = 1.0\n",
      "//////////////////// Epoch: 52 ////////////////////\n"
     ]
    },
    {
     "name": "stderr",
     "output_type": "stream",
     "text": [
      "  2%|▏         | 17/800 [00:00<00:04, 161.15it/s]"
     ]
    },
    {
     "name": "stdout",
     "output_type": "stream",
     "text": [
      "pred: 3 - target: 3 - loss: 0.000 - raw pred: tensor([[ -5.4557,  -7.3193,   4.4946,  13.1575, -19.0696,  -5.8425, -33.9388,\n",
      "         -21.7053,   2.0902, -34.1763]], device='cuda:0',\n",
      "       grad_fn=<AddmmBackward0>)\n"
     ]
    },
    {
     "name": "stderr",
     "output_type": "stream",
     "text": [
      "100%|██████████| 800/800 [00:04<00:00, 168.19it/s]\n"
     ]
    },
    {
     "name": "stdout",
     "output_type": "stream",
     "text": [
      "//////////////////// Validation ////////////////////\n"
     ]
    },
    {
     "name": "stderr",
     "output_type": "stream",
     "text": [
      " 22%|██▏       | 43/200 [00:00<00:00, 419.60it/s]"
     ]
    },
    {
     "name": "stdout",
     "output_type": "stream",
     "text": [
      "pred: 2 - target: 2 - loss: 0.042 - raw pred: tensor([[  2.5155,   1.5440,   7.6461,  -4.3429,  -2.5095, -11.8484, -16.0159,\n",
      "         -14.2044,   4.2976, -17.8307]], device='cuda:0')\n",
      "matching = [True] - accuracy = 1.0\n",
      "matching = [True] - accuracy = 1.0\n",
      "matching = [False] - accuracy = 0.0\n",
      "matching = [True] - accuracy = 1.0\n",
      "matching = [False] - accuracy = 0.0\n",
      "matching = [True] - accuracy = 1.0\n",
      "matching = [True] - accuracy = 1.0\n",
      "matching = [False] - accuracy = 0.0\n",
      "matching = [True] - accuracy = 1.0\n"
     ]
    },
    {
     "name": "stderr",
     "output_type": "stream",
     "text": [
      " 86%|████████▌ | 172/200 [00:00<00:00, 422.44it/s]"
     ]
    },
    {
     "name": "stdout",
     "output_type": "stream",
     "text": [
      "matching = [False] - accuracy = 0.0\n",
      "matching = [True] - accuracy = 1.0\n",
      "matching = [True] - accuracy = 1.0\n",
      "matching = [False] - accuracy = 0.0\n",
      "matching = [False] - accuracy = 0.0\n",
      "matching = [True] - accuracy = 1.0\n",
      "matching = [False] - accuracy = 0.0\n",
      "matching = [True] - accuracy = 1.0\n",
      "matching = [True] - accuracy = 1.0\n"
     ]
    },
    {
     "name": "stderr",
     "output_type": "stream",
     "text": [
      "100%|██████████| 200/200 [00:00<00:00, 420.78it/s]\n"
     ]
    },
    {
     "name": "stdout",
     "output_type": "stream",
     "text": [
      "matching = [True] - accuracy = 1.0\n",
      "matching = [True] - accuracy = 1.0\n",
      "//////////////////// Epoch: 53 ////////////////////\n"
     ]
    },
    {
     "name": "stderr",
     "output_type": "stream",
     "text": [
      "  2%|▏         | 18/800 [00:00<00:04, 171.22it/s]"
     ]
    },
    {
     "name": "stdout",
     "output_type": "stream",
     "text": [
      "pred: 5 - target: 7 - loss: 0.969 - raw pred: tensor([[-12.6923,  -3.9548,  -7.3655,  -6.0300,  -4.9075,   4.7456,  -3.9060,\n",
      "           4.2538,  -3.4967,  -7.0933]], device='cuda:0',\n",
      "       grad_fn=<AddmmBackward0>)\n"
     ]
    },
    {
     "name": "stderr",
     "output_type": "stream",
     "text": [
      "100%|██████████| 800/800 [00:04<00:00, 169.02it/s]\n"
     ]
    },
    {
     "name": "stdout",
     "output_type": "stream",
     "text": [
      "//////////////////// Validation ////////////////////\n"
     ]
    },
    {
     "name": "stderr",
     "output_type": "stream",
     "text": [
      " 21%|██        | 42/200 [00:00<00:00, 416.34it/s]"
     ]
    },
    {
     "name": "stdout",
     "output_type": "stream",
     "text": [
      "pred: 4 - target: 4 - loss: 0.387 - raw pred: tensor([[-16.1143,  -1.2456,  -4.9952,  -3.8938,   1.9619,  -2.8738, -12.1019,\n",
      "           1.0864,  -3.8285, -14.5246]], device='cuda:0')\n",
      "matching = [True] - accuracy = 1.0\n",
      "matching = [True] - accuracy = 1.0\n",
      "matching = [True] - accuracy = 1.0\n",
      "matching = [True] - accuracy = 1.0\n",
      "matching = [False] - accuracy = 0.0\n",
      "matching = [True] - accuracy = 1.0\n",
      "matching = [False] - accuracy = 0.0\n",
      "matching = [False] - accuracy = 0.0\n",
      "matching = [False] - accuracy = 0.0\n"
     ]
    },
    {
     "name": "stderr",
     "output_type": "stream",
     "text": [
      " 84%|████████▍ | 169/200 [00:00<00:00, 417.11it/s]"
     ]
    },
    {
     "name": "stdout",
     "output_type": "stream",
     "text": [
      "matching = [False] - accuracy = 0.0\n",
      "matching = [False] - accuracy = 0.0\n",
      "matching = [False] - accuracy = 0.0\n",
      "matching = [False] - accuracy = 0.0\n",
      "matching = [False] - accuracy = 0.0\n",
      "matching = [True] - accuracy = 1.0\n",
      "matching = [True] - accuracy = 1.0\n",
      "matching = [False] - accuracy = 0.0\n",
      "matching = [True] - accuracy = 1.0\n"
     ]
    },
    {
     "name": "stderr",
     "output_type": "stream",
     "text": [
      "100%|██████████| 200/200 [00:00<00:00, 415.67it/s]\n"
     ]
    },
    {
     "name": "stdout",
     "output_type": "stream",
     "text": [
      "matching = [False] - accuracy = 0.0\n",
      "matching = [False] - accuracy = 0.0\n",
      "//////////////////// Epoch: 54 ////////////////////\n"
     ]
    },
    {
     "name": "stderr",
     "output_type": "stream",
     "text": [
      "  2%|▏         | 18/800 [00:00<00:04, 169.08it/s]"
     ]
    },
    {
     "name": "stdout",
     "output_type": "stream",
     "text": [
      "pred: 5 - target: 5 - loss: 0.213 - raw pred: tensor([[-13.7351,  -4.9544,  -8.3700,  -8.1228,  -4.5871,   4.5429,  -1.3369,\n",
      "           3.0922,  -3.3461,  -3.7890]], device='cuda:0',\n",
      "       grad_fn=<AddmmBackward0>)\n"
     ]
    },
    {
     "name": "stderr",
     "output_type": "stream",
     "text": [
      "100%|██████████| 800/800 [00:04<00:00, 171.86it/s]\n"
     ]
    },
    {
     "name": "stdout",
     "output_type": "stream",
     "text": [
      "//////////////////// Validation ////////////////////\n"
     ]
    },
    {
     "name": "stderr",
     "output_type": "stream",
     "text": [
      " 21%|██        | 42/200 [00:00<00:00, 416.80it/s]"
     ]
    },
    {
     "name": "stdout",
     "output_type": "stream",
     "text": [
      "pred: 6 - target: 6 - loss: 0.725 - raw pred: tensor([[-15.2780,  -3.0448,  -6.6580,  -8.7885,  -3.9522,   0.4273,   3.7629,\n",
      "           2.4764,  -5.0754,   3.4762]], device='cuda:0')\n",
      "matching = [True] - accuracy = 1.0\n",
      "matching = [False] - accuracy = 0.0\n",
      "matching = [True] - accuracy = 1.0\n",
      "matching = [False] - accuracy = 0.0\n",
      "matching = [True] - accuracy = 1.0\n",
      "matching = [False] - accuracy = 0.0\n",
      "matching = [False] - accuracy = 0.0\n",
      "matching = [False] - accuracy = 0.0\n",
      "matching = [False] - accuracy = 0.0\n"
     ]
    },
    {
     "name": "stderr",
     "output_type": "stream",
     "text": [
      " 84%|████████▍ | 168/200 [00:00<00:00, 417.73it/s]"
     ]
    },
    {
     "name": "stdout",
     "output_type": "stream",
     "text": [
      "matching = [True] - accuracy = 1.0\n",
      "matching = [False] - accuracy = 0.0\n",
      "matching = [False] - accuracy = 0.0\n",
      "matching = [True] - accuracy = 1.0\n",
      "matching = [False] - accuracy = 0.0\n",
      "matching = [False] - accuracy = 0.0\n",
      "matching = [True] - accuracy = 1.0\n",
      "matching = [True] - accuracy = 1.0\n",
      "matching = [True] - accuracy = 1.0\n"
     ]
    },
    {
     "name": "stderr",
     "output_type": "stream",
     "text": [
      "100%|██████████| 200/200 [00:00<00:00, 416.89it/s]\n"
     ]
    },
    {
     "name": "stdout",
     "output_type": "stream",
     "text": [
      "matching = [False] - accuracy = 0.0\n",
      "matching = [False] - accuracy = 0.0\n",
      "//////////////////// Epoch: 55 ////////////////////\n"
     ]
    },
    {
     "name": "stderr",
     "output_type": "stream",
     "text": [
      "  2%|▏         | 18/800 [00:00<00:04, 172.67it/s]"
     ]
    },
    {
     "name": "stdout",
     "output_type": "stream",
     "text": [
      "pred: 1 - target: 5 - loss: 0.943 - raw pred: tensor([[ -5.0681,   1.3451,  -4.1631,  -3.0191,  -1.4047,   1.2170,  -9.7352,\n",
      "          -3.9629,   0.1124, -13.5913]], device='cuda:0',\n",
      "       grad_fn=<AddmmBackward0>)\n"
     ]
    },
    {
     "name": "stderr",
     "output_type": "stream",
     "text": [
      "100%|██████████| 800/800 [00:04<00:00, 172.82it/s]\n"
     ]
    },
    {
     "name": "stdout",
     "output_type": "stream",
     "text": [
      "//////////////////// Validation ////////////////////\n"
     ]
    },
    {
     "name": "stderr",
     "output_type": "stream",
     "text": [
      " 22%|██▏       | 43/200 [00:00<00:00, 420.30it/s]"
     ]
    },
    {
     "name": "stdout",
     "output_type": "stream",
     "text": [
      "pred: 1 - target: 5 - loss: 10.772 - raw pred: tensor([[-29.1211,   7.9856, -13.8597, -22.4803,   4.1586,  -2.7649,  -2.0585,\n",
      "          -2.9422, -12.7917,  -5.0863]], device='cuda:0')\n",
      "matching = [False] - accuracy = 0.0\n",
      "matching = [True] - accuracy = 1.0\n",
      "matching = [False] - accuracy = 0.0\n",
      "matching = [True] - accuracy = 1.0\n",
      "matching = [True] - accuracy = 1.0\n",
      "matching = [True] - accuracy = 1.0\n",
      "matching = [False] - accuracy = 0.0\n",
      "matching = [False] - accuracy = 0.0\n",
      "matching = [False] - accuracy = 0.0\n"
     ]
    },
    {
     "name": "stderr",
     "output_type": "stream",
     "text": [
      " 86%|████████▌ | 172/200 [00:00<00:00, 422.91it/s]"
     ]
    },
    {
     "name": "stdout",
     "output_type": "stream",
     "text": [
      "matching = [False] - accuracy = 0.0\n",
      "matching = [True] - accuracy = 1.0\n",
      "matching = [True] - accuracy = 1.0\n",
      "matching = [True] - accuracy = 1.0\n",
      "matching = [True] - accuracy = 1.0\n",
      "matching = [True] - accuracy = 1.0\n",
      "matching = [True] - accuracy = 1.0\n",
      "matching = [False] - accuracy = 0.0\n",
      "matching = [True] - accuracy = 1.0\n"
     ]
    },
    {
     "name": "stderr",
     "output_type": "stream",
     "text": [
      "100%|██████████| 200/200 [00:00<00:00, 420.61it/s]\n"
     ]
    },
    {
     "name": "stdout",
     "output_type": "stream",
     "text": [
      "matching = [True] - accuracy = 1.0\n",
      "matching = [True] - accuracy = 1.0\n",
      "//////////////////// Epoch: 56 ////////////////////\n"
     ]
    },
    {
     "name": "stderr",
     "output_type": "stream",
     "text": [
      "  2%|▏         | 17/800 [00:00<00:04, 169.26it/s]"
     ]
    },
    {
     "name": "stdout",
     "output_type": "stream",
     "text": [
      "pred: 0 - target: 0 - loss: 0.000 - raw pred: tensor([[ 27.5343,  17.2863,   0.9656, -19.7158, -31.6614, -28.4826, -41.6733,\n",
      "         -50.5364,   9.8594, -44.9540]], device='cuda:0',\n",
      "       grad_fn=<AddmmBackward0>)\n"
     ]
    },
    {
     "name": "stderr",
     "output_type": "stream",
     "text": [
      "100%|██████████| 800/800 [00:04<00:00, 167.50it/s]\n"
     ]
    },
    {
     "name": "stdout",
     "output_type": "stream",
     "text": [
      "//////////////////// Validation ////////////////////\n"
     ]
    },
    {
     "name": "stderr",
     "output_type": "stream",
     "text": [
      " 22%|██▏       | 43/200 [00:00<00:00, 420.32it/s]"
     ]
    },
    {
     "name": "stdout",
     "output_type": "stream",
     "text": [
      "pred: 1 - target: 5 - loss: 3.796 - raw pred: tensor([[-13.1227,   2.4173,  -8.3641,  -9.4864,   1.7583,  -0.7044,  -5.5412,\n",
      "           1.5038,  -5.4876, -10.0165]], device='cuda:0')\n",
      "matching = [False] - accuracy = 0.0\n",
      "matching = [True] - accuracy = 1.0\n",
      "matching = [False] - accuracy = 0.0\n",
      "matching = [True] - accuracy = 1.0\n",
      "matching = [False] - accuracy = 0.0\n",
      "matching = [False] - accuracy = 0.0\n",
      "matching = [False] - accuracy = 0.0\n",
      "matching = [True] - accuracy = 1.0\n",
      "matching = [False] - accuracy = 0.0\n"
     ]
    },
    {
     "name": "stderr",
     "output_type": "stream",
     "text": [
      " 86%|████████▌ | 172/200 [00:00<00:00, 422.58it/s]"
     ]
    },
    {
     "name": "stdout",
     "output_type": "stream",
     "text": [
      "matching = [False] - accuracy = 0.0\n",
      "matching = [True] - accuracy = 1.0\n",
      "matching = [True] - accuracy = 1.0\n",
      "matching = [True] - accuracy = 1.0\n",
      "matching = [True] - accuracy = 1.0\n",
      "matching = [False] - accuracy = 0.0\n",
      "matching = [False] - accuracy = 0.0\n",
      "matching = [True] - accuracy = 1.0\n",
      "matching = [True] - accuracy = 1.0\n"
     ]
    },
    {
     "name": "stderr",
     "output_type": "stream",
     "text": [
      "100%|██████████| 200/200 [00:00<00:00, 421.24it/s]\n"
     ]
    },
    {
     "name": "stdout",
     "output_type": "stream",
     "text": [
      "matching = [False] - accuracy = 0.0\n",
      "matching = [False] - accuracy = 0.0\n",
      "//////////////////// Epoch: 57 ////////////////////\n"
     ]
    },
    {
     "name": "stderr",
     "output_type": "stream",
     "text": [
      "  2%|▏         | 18/800 [00:00<00:04, 169.73it/s]"
     ]
    },
    {
     "name": "stdout",
     "output_type": "stream",
     "text": [
      "pred: 9 - target: 6 - loss: 0.776 - raw pred: tensor([[-20.4533,  -6.1306, -11.1063, -13.6514,  -5.1200,   1.1680,   5.2366,\n",
      "           2.3685,  -6.3596,   5.3304]], device='cuda:0',\n",
      "       grad_fn=<AddmmBackward0>)\n"
     ]
    },
    {
     "name": "stderr",
     "output_type": "stream",
     "text": [
      "100%|██████████| 800/800 [00:04<00:00, 165.84it/s]\n"
     ]
    },
    {
     "name": "stdout",
     "output_type": "stream",
     "text": [
      "//////////////////// Validation ////////////////////\n"
     ]
    },
    {
     "name": "stderr",
     "output_type": "stream",
     "text": [
      " 21%|██        | 42/200 [00:00<00:00, 415.77it/s]"
     ]
    },
    {
     "name": "stdout",
     "output_type": "stream",
     "text": [
      "pred: 3 - target: 3 - loss: 0.000 - raw pred: tensor([[ -0.2887,  -6.0616,   6.9651,  15.3040, -26.2492, -11.3224, -37.2312,\n",
      "         -32.4232,   4.2263, -36.3789]], device='cuda:0')\n",
      "matching = [True] - accuracy = 1.0\n",
      "matching = [True] - accuracy = 1.0\n",
      "matching = [True] - accuracy = 1.0\n",
      "matching = [True] - accuracy = 1.0\n",
      "matching = [True] - accuracy = 1.0\n",
      "matching = [True] - accuracy = 1.0\n",
      "matching = [True] - accuracy = 1.0\n",
      "matching = [True] - accuracy = 1.0\n",
      "matching = [False] - accuracy = 0.0\n"
     ]
    },
    {
     "name": "stderr",
     "output_type": "stream",
     "text": [
      " 86%|████████▌ | 171/200 [00:00<00:00, 420.55it/s]"
     ]
    },
    {
     "name": "stdout",
     "output_type": "stream",
     "text": [
      "matching = [True] - accuracy = 1.0\n",
      "matching = [True] - accuracy = 1.0\n",
      "matching = [False] - accuracy = 0.0\n",
      "matching = [True] - accuracy = 1.0\n",
      "matching = [False] - accuracy = 0.0\n",
      "matching = [False] - accuracy = 0.0\n",
      "matching = [True] - accuracy = 1.0\n",
      "matching = [True] - accuracy = 1.0\n",
      "matching = [False] - accuracy = 0.0\n"
     ]
    },
    {
     "name": "stderr",
     "output_type": "stream",
     "text": [
      "100%|██████████| 200/200 [00:00<00:00, 419.29it/s]\n"
     ]
    },
    {
     "name": "stdout",
     "output_type": "stream",
     "text": [
      "matching = [True] - accuracy = 1.0\n",
      "matching = [True] - accuracy = 1.0\n",
      "//////////////////// Epoch: 58 ////////////////////\n"
     ]
    },
    {
     "name": "stderr",
     "output_type": "stream",
     "text": [
      "  2%|▏         | 17/800 [00:00<00:04, 168.78it/s]"
     ]
    },
    {
     "name": "stdout",
     "output_type": "stream",
     "text": [
      "pred: 2 - target: 2 - loss: 0.102 - raw pred: tensor([[  2.8391,   3.3034,   7.0767,  -9.3425,  -3.5984, -16.5617, -21.0973,\n",
      "         -14.8593,   4.4139, -24.9398]], device='cuda:0',\n",
      "       grad_fn=<AddmmBackward0>)\n"
     ]
    },
    {
     "name": "stderr",
     "output_type": "stream",
     "text": [
      "100%|██████████| 800/800 [00:04<00:00, 168.58it/s]\n"
     ]
    },
    {
     "name": "stdout",
     "output_type": "stream",
     "text": [
      "//////////////////// Validation ////////////////////\n"
     ]
    },
    {
     "name": "stderr",
     "output_type": "stream",
     "text": [
      " 22%|██▏       | 43/200 [00:00<00:00, 421.68it/s]"
     ]
    },
    {
     "name": "stdout",
     "output_type": "stream",
     "text": [
      "pred: 4 - target: 4 - loss: 0.198 - raw pred: tensor([[ -9.4730,   5.2167,  -8.4441, -15.5586,   6.7362,  -3.8957,  -2.8474,\n",
      "          -7.8508,  -7.0565,  -8.0681]], device='cuda:0')\n",
      "matching = [True] - accuracy = 1.0\n",
      "matching = [True] - accuracy = 1.0\n",
      "matching = [False] - accuracy = 0.0\n",
      "matching = [True] - accuracy = 1.0\n",
      "matching = [False] - accuracy = 0.0\n",
      "matching = [True] - accuracy = 1.0\n",
      "matching = [True] - accuracy = 1.0\n",
      "matching = [False] - accuracy = 0.0\n",
      "matching = [False] - accuracy = 0.0\n"
     ]
    },
    {
     "name": "stderr",
     "output_type": "stream",
     "text": [
      " 86%|████████▌ | 172/200 [00:00<00:00, 424.44it/s]"
     ]
    },
    {
     "name": "stdout",
     "output_type": "stream",
     "text": [
      "matching = [False] - accuracy = 0.0\n",
      "matching = [True] - accuracy = 1.0\n",
      "matching = [True] - accuracy = 1.0\n",
      "matching = [True] - accuracy = 1.0\n",
      "matching = [True] - accuracy = 1.0\n",
      "matching = [False] - accuracy = 0.0\n",
      "matching = [False] - accuracy = 0.0\n",
      "matching = [False] - accuracy = 0.0\n",
      "matching = [True] - accuracy = 1.0\n"
     ]
    },
    {
     "name": "stderr",
     "output_type": "stream",
     "text": [
      "100%|██████████| 200/200 [00:00<00:00, 423.20it/s]\n"
     ]
    },
    {
     "name": "stdout",
     "output_type": "stream",
     "text": [
      "matching = [True] - accuracy = 1.0\n",
      "matching = [True] - accuracy = 1.0\n",
      "//////////////////// Epoch: 59 ////////////////////\n"
     ]
    },
    {
     "name": "stderr",
     "output_type": "stream",
     "text": [
      "  2%|▏         | 17/800 [00:00<00:04, 165.52it/s]"
     ]
    },
    {
     "name": "stdout",
     "output_type": "stream",
     "text": [
      "pred: 1 - target: 1 - loss: 0.001 - raw pred: tensor([[ -6.0586,   5.1470,  -6.2320,  -1.6249,  -6.5221,  -4.0587, -19.7821,\n",
      "         -10.6158,  -4.7955, -23.7519]], device='cuda:0',\n",
      "       grad_fn=<AddmmBackward0>)\n"
     ]
    },
    {
     "name": "stderr",
     "output_type": "stream",
     "text": [
      "100%|██████████| 800/800 [00:04<00:00, 166.58it/s]\n"
     ]
    },
    {
     "name": "stdout",
     "output_type": "stream",
     "text": [
      "//////////////////// Validation ////////////////////\n"
     ]
    },
    {
     "name": "stderr",
     "output_type": "stream",
     "text": [
      " 20%|██        | 41/200 [00:00<00:00, 407.69it/s]"
     ]
    },
    {
     "name": "stdout",
     "output_type": "stream",
     "text": [
      "pred: 7 - target: 5 - loss: 0.888 - raw pred: tensor([[-9.0135, -1.8268, -5.0050, -3.3346, -2.6897,  3.0549, -5.3080,  3.4003,\n",
      "         -2.1938, -8.2791]], device='cuda:0')\n",
      "matching = [False] - accuracy = 0.0\n",
      "matching = [False] - accuracy = 0.0\n",
      "matching = [True] - accuracy = 1.0\n",
      "matching = [False] - accuracy = 0.0\n",
      "matching = [True] - accuracy = 1.0\n",
      "matching = [True] - accuracy = 1.0\n",
      "matching = [True] - accuracy = 1.0\n",
      "matching = [True] - accuracy = 1.0\n",
      "matching = [True] - accuracy = 1.0\n"
     ]
    },
    {
     "name": "stderr",
     "output_type": "stream",
     "text": [
      " 84%|████████▎ | 167/200 [00:00<00:00, 413.04it/s]"
     ]
    },
    {
     "name": "stdout",
     "output_type": "stream",
     "text": [
      "matching = [True] - accuracy = 1.0\n",
      "matching = [False] - accuracy = 0.0\n",
      "matching = [False] - accuracy = 0.0\n",
      "matching = [False] - accuracy = 0.0\n",
      "matching = [True] - accuracy = 1.0\n",
      "matching = [True] - accuracy = 1.0\n",
      "matching = [True] - accuracy = 1.0\n",
      "matching = [True] - accuracy = 1.0\n",
      "matching = [True] - accuracy = 1.0\n"
     ]
    },
    {
     "name": "stderr",
     "output_type": "stream",
     "text": [
      "100%|██████████| 200/200 [00:00<00:00, 412.26it/s]\n"
     ]
    },
    {
     "name": "stdout",
     "output_type": "stream",
     "text": [
      "matching = [True] - accuracy = 1.0\n",
      "matching = [True] - accuracy = 1.0\n",
      "//////////////////// Epoch: 60 ////////////////////\n"
     ]
    },
    {
     "name": "stderr",
     "output_type": "stream",
     "text": [
      "  2%|▏         | 17/800 [00:00<00:04, 165.25it/s]"
     ]
    },
    {
     "name": "stdout",
     "output_type": "stream",
     "text": [
      "pred: 8 - target: 8 - loss: 0.284 - raw pred: tensor([[ -7.9395,  -1.2364,   4.4751,   0.6604, -11.3970,  -9.2406, -33.3701,\n",
      "         -25.0854,   5.6118, -38.5630]], device='cuda:0',\n",
      "       grad_fn=<AddmmBackward0>)\n"
     ]
    },
    {
     "name": "stderr",
     "output_type": "stream",
     "text": [
      "100%|██████████| 800/800 [00:04<00:00, 165.44it/s]\n"
     ]
    },
    {
     "name": "stdout",
     "output_type": "stream",
     "text": [
      "//////////////////// Validation ////////////////////\n"
     ]
    },
    {
     "name": "stderr",
     "output_type": "stream",
     "text": [
      " 22%|██▏       | 43/200 [00:00<00:00, 420.28it/s]"
     ]
    },
    {
     "name": "stdout",
     "output_type": "stream",
     "text": [
      "pred: 9 - target: 6 - loss: 3.679 - raw pred: tensor([[-19.3511,  -4.2797,  -8.8053, -13.1091,  -4.3429,  -0.2961,   1.0007,\n",
      "           0.2983,  -7.6067,   4.6333]], device='cuda:0')\n",
      "matching = [False] - accuracy = 0.0\n",
      "matching = [True] - accuracy = 1.0\n",
      "matching = [True] - accuracy = 1.0\n",
      "matching = [False] - accuracy = 0.0\n",
      "matching = [True] - accuracy = 1.0\n",
      "matching = [True] - accuracy = 1.0\n",
      "matching = [True] - accuracy = 1.0\n",
      "matching = [False] - accuracy = 0.0\n",
      "matching = [False] - accuracy = 0.0\n"
     ]
    },
    {
     "name": "stderr",
     "output_type": "stream",
     "text": [
      " 86%|████████▌ | 172/200 [00:00<00:00, 426.83it/s]"
     ]
    },
    {
     "name": "stdout",
     "output_type": "stream",
     "text": [
      "matching = [True] - accuracy = 1.0\n",
      "matching = [False] - accuracy = 0.0\n",
      "matching = [True] - accuracy = 1.0\n",
      "matching = [True] - accuracy = 1.0\n",
      "matching = [False] - accuracy = 0.0\n",
      "matching = [True] - accuracy = 1.0\n",
      "matching = [False] - accuracy = 0.0\n",
      "matching = [True] - accuracy = 1.0\n",
      "matching = [False] - accuracy = 0.0\n"
     ]
    },
    {
     "name": "stderr",
     "output_type": "stream",
     "text": [
      "100%|██████████| 200/200 [00:00<00:00, 423.75it/s]\n"
     ]
    },
    {
     "name": "stdout",
     "output_type": "stream",
     "text": [
      "matching = [False] - accuracy = 0.0\n",
      "matching = [False] - accuracy = 0.0\n",
      "//////////////////// Epoch: 61 ////////////////////\n"
     ]
    },
    {
     "name": "stderr",
     "output_type": "stream",
     "text": [
      "  2%|▏         | 17/800 [00:00<00:04, 165.85it/s]"
     ]
    },
    {
     "name": "stdout",
     "output_type": "stream",
     "text": [
      "pred: 4 - target: 4 - loss: 0.041 - raw pred: tensor([[-6.9206,  2.4456, -1.7185, -4.0677,  5.6615, -3.9314, -8.8308, -6.9698,\n",
      "         -1.7902, -9.3088]], device='cuda:0', grad_fn=<AddmmBackward0>)\n"
     ]
    },
    {
     "name": "stderr",
     "output_type": "stream",
     "text": [
      "100%|██████████| 800/800 [00:04<00:00, 164.84it/s]\n"
     ]
    },
    {
     "name": "stdout",
     "output_type": "stream",
     "text": [
      "//////////////////// Validation ////////////////////\n"
     ]
    },
    {
     "name": "stderr",
     "output_type": "stream",
     "text": [
      " 21%|██        | 42/200 [00:00<00:00, 410.69it/s]"
     ]
    },
    {
     "name": "stdout",
     "output_type": "stream",
     "text": [
      "pred: 5 - target: 7 - loss: 1.289 - raw pred: tensor([[-12.3152,  -1.9728, -12.0241, -12.3765,  -4.6118,   5.7930,  -8.2223,\n",
      "           4.8266,  -6.1181, -16.1624]], device='cuda:0')\n",
      "matching = [False] - accuracy = 0.0\n",
      "matching = [False] - accuracy = 0.0\n",
      "matching = [True] - accuracy = 1.0\n",
      "matching = [True] - accuracy = 1.0\n",
      "matching = [True] - accuracy = 1.0\n",
      "matching = [True] - accuracy = 1.0\n",
      "matching = [False] - accuracy = 0.0\n",
      "matching = [True] - accuracy = 1.0\n",
      "matching = [True] - accuracy = 1.0\n"
     ]
    },
    {
     "name": "stderr",
     "output_type": "stream",
     "text": [
      " 84%|████████▍ | 168/200 [00:00<00:00, 415.84it/s]"
     ]
    },
    {
     "name": "stdout",
     "output_type": "stream",
     "text": [
      "matching = [False] - accuracy = 0.0\n",
      "matching = [False] - accuracy = 0.0\n",
      "matching = [True] - accuracy = 1.0\n",
      "matching = [True] - accuracy = 1.0\n",
      "matching = [True] - accuracy = 1.0\n",
      "matching = [False] - accuracy = 0.0\n",
      "matching = [True] - accuracy = 1.0\n",
      "matching = [True] - accuracy = 1.0\n",
      "matching = [False] - accuracy = 0.0\n"
     ]
    },
    {
     "name": "stderr",
     "output_type": "stream",
     "text": [
      "100%|██████████| 200/200 [00:00<00:00, 414.31it/s]\n"
     ]
    },
    {
     "name": "stdout",
     "output_type": "stream",
     "text": [
      "matching = [False] - accuracy = 0.0\n",
      "matching = [True] - accuracy = 1.0\n",
      "//////////////////// Epoch: 62 ////////////////////\n"
     ]
    },
    {
     "name": "stderr",
     "output_type": "stream",
     "text": [
      "  2%|▏         | 17/800 [00:00<00:04, 168.67it/s]"
     ]
    },
    {
     "name": "stdout",
     "output_type": "stream",
     "text": [
      "pred: 5 - target: 5 - loss: 0.084 - raw pred: tensor([[-11.4254,   0.2790,  -8.7749, -15.3800,  -0.9521,   3.0394,  -6.4333,\n",
      "          -2.2621,  -3.6747, -13.9841]], device='cuda:0',\n",
      "       grad_fn=<AddmmBackward0>)\n"
     ]
    },
    {
     "name": "stderr",
     "output_type": "stream",
     "text": [
      "100%|██████████| 800/800 [00:04<00:00, 166.26it/s]\n"
     ]
    },
    {
     "name": "stdout",
     "output_type": "stream",
     "text": [
      "//////////////////// Validation ////////////////////\n"
     ]
    },
    {
     "name": "stderr",
     "output_type": "stream",
     "text": [
      " 21%|██        | 42/200 [00:00<00:00, 417.81it/s]"
     ]
    },
    {
     "name": "stdout",
     "output_type": "stream",
     "text": [
      "pred: 6 - target: 9 - loss: 1.057 - raw pred: tensor([[-23.8191,  -6.2160,  -9.1668, -18.9753,  -5.5958,  -9.0030,   8.5526,\n",
      "          -2.1446,  -3.0365,   7.9232]], device='cuda:0')\n",
      "matching = [False] - accuracy = 0.0\n",
      "matching = [False] - accuracy = 0.0\n",
      "matching = [False] - accuracy = 0.0\n",
      "matching = [False] - accuracy = 0.0\n",
      "matching = [True] - accuracy = 1.0\n",
      "matching = [False] - accuracy = 0.0\n",
      "matching = [True] - accuracy = 1.0\n",
      "matching = [False] - accuracy = 0.0\n",
      "matching = [True] - accuracy = 1.0\n"
     ]
    },
    {
     "name": "stderr",
     "output_type": "stream",
     "text": [
      " 86%|████████▌ | 171/200 [00:00<00:00, 420.96it/s]"
     ]
    },
    {
     "name": "stdout",
     "output_type": "stream",
     "text": [
      "matching = [True] - accuracy = 1.0\n",
      "matching = [False] - accuracy = 0.0\n",
      "matching = [True] - accuracy = 1.0\n",
      "matching = [True] - accuracy = 1.0\n",
      "matching = [True] - accuracy = 1.0\n",
      "matching = [True] - accuracy = 1.0\n",
      "matching = [True] - accuracy = 1.0\n",
      "matching = [True] - accuracy = 1.0\n",
      "matching = [True] - accuracy = 1.0\n"
     ]
    },
    {
     "name": "stderr",
     "output_type": "stream",
     "text": [
      "100%|██████████| 200/200 [00:00<00:00, 419.31it/s]\n"
     ]
    },
    {
     "name": "stdout",
     "output_type": "stream",
     "text": [
      "matching = [False] - accuracy = 0.0\n",
      "matching = [True] - accuracy = 1.0\n",
      "//////////////////// Epoch: 63 ////////////////////\n"
     ]
    },
    {
     "name": "stderr",
     "output_type": "stream",
     "text": [
      "  2%|▏         | 17/800 [00:00<00:04, 167.62it/s]"
     ]
    },
    {
     "name": "stdout",
     "output_type": "stream",
     "text": [
      "pred: 5 - target: 5 - loss: 0.015 - raw pred: tensor([[-15.9623,  -6.9533,  -8.2903,  -1.4479,  -9.6975,   6.3441, -17.1786,\n",
      "           2.1492,  -7.3870, -24.2395]], device='cuda:0',\n",
      "       grad_fn=<AddmmBackward0>)\n"
     ]
    },
    {
     "name": "stderr",
     "output_type": "stream",
     "text": [
      "100%|██████████| 800/800 [00:04<00:00, 164.99it/s]\n"
     ]
    },
    {
     "name": "stdout",
     "output_type": "stream",
     "text": [
      "//////////////////// Validation ////////////////////\n"
     ]
    },
    {
     "name": "stderr",
     "output_type": "stream",
     "text": [
      " 21%|██        | 42/200 [00:00<00:00, 415.70it/s]"
     ]
    },
    {
     "name": "stdout",
     "output_type": "stream",
     "text": [
      "pred: 0 - target: 0 - loss: 0.000 - raw pred: tensor([[  61.2655,   22.0262,    0.1933,    2.8944,  -91.7292,  -58.4280,\n",
      "          -91.1473, -113.3496,    7.6740,  -96.3522]], device='cuda:0')\n",
      "matching = [True] - accuracy = 1.0\n",
      "matching = [True] - accuracy = 1.0\n",
      "matching = [False] - accuracy = 0.0\n",
      "matching = [True] - accuracy = 1.0\n",
      "matching = [True] - accuracy = 1.0\n",
      "matching = [False] - accuracy = 0.0\n",
      "matching = [False] - accuracy = 0.0\n",
      "matching = [True] - accuracy = 1.0\n",
      "matching = [False] - accuracy = 0.0\n"
     ]
    },
    {
     "name": "stderr",
     "output_type": "stream",
     "text": [
      " 84%|████████▍ | 169/200 [00:00<00:00, 419.09it/s]"
     ]
    },
    {
     "name": "stdout",
     "output_type": "stream",
     "text": [
      "matching = [True] - accuracy = 1.0\n",
      "matching = [True] - accuracy = 1.0\n",
      "matching = [False] - accuracy = 0.0\n",
      "matching = [True] - accuracy = 1.0\n",
      "matching = [False] - accuracy = 0.0\n",
      "matching = [True] - accuracy = 1.0\n",
      "matching = [False] - accuracy = 0.0\n",
      "matching = [False] - accuracy = 0.0\n",
      "matching = [False] - accuracy = 0.0\n"
     ]
    },
    {
     "name": "stderr",
     "output_type": "stream",
     "text": [
      "100%|██████████| 200/200 [00:00<00:00, 418.00it/s]\n"
     ]
    },
    {
     "name": "stdout",
     "output_type": "stream",
     "text": [
      "matching = [False] - accuracy = 0.0\n",
      "matching = [True] - accuracy = 1.0\n",
      "//////////////////// Epoch: 64 ////////////////////\n"
     ]
    },
    {
     "name": "stderr",
     "output_type": "stream",
     "text": [
      "  2%|▏         | 17/800 [00:00<00:04, 163.94it/s]"
     ]
    },
    {
     "name": "stdout",
     "output_type": "stream",
     "text": [
      "pred: 7 - target: 7 - loss: 0.016 - raw pred: tensor([[-4.1512e+01, -1.4423e+01, -2.1963e+01, -2.2741e+01, -1.3888e+01,\n",
      "          9.8894e+00, -1.3235e-02,  1.4007e+01, -1.2565e+01, -6.7714e+00]],\n",
      "       device='cuda:0', grad_fn=<AddmmBackward0>)\n"
     ]
    },
    {
     "name": "stderr",
     "output_type": "stream",
     "text": [
      "100%|██████████| 800/800 [00:04<00:00, 164.93it/s]\n"
     ]
    },
    {
     "name": "stdout",
     "output_type": "stream",
     "text": [
      "//////////////////// Validation ////////////////////\n"
     ]
    },
    {
     "name": "stderr",
     "output_type": "stream",
     "text": [
      " 21%|██        | 42/200 [00:00<00:00, 419.89it/s]"
     ]
    },
    {
     "name": "stdout",
     "output_type": "stream",
     "text": [
      "pred: 0 - target: 0 - loss: 0.000 - raw pred: tensor([[ 26.4172,   8.9409,   6.4607,  -7.9420, -33.9481, -33.8712, -45.9140,\n",
      "         -46.6296,   8.6425, -45.4279]], device='cuda:0')\n",
      "matching = [True] - accuracy = 1.0\n",
      "matching = [True] - accuracy = 1.0\n",
      "matching = [True] - accuracy = 1.0\n",
      "matching = [True] - accuracy = 1.0\n",
      "matching = [False] - accuracy = 0.0\n",
      "matching = [False] - accuracy = 0.0\n",
      "matching = [True] - accuracy = 1.0\n",
      "matching = [True] - accuracy = 1.0\n",
      "matching = [True] - accuracy = 1.0\n"
     ]
    },
    {
     "name": "stderr",
     "output_type": "stream",
     "text": [
      " 86%|████████▌ | 171/200 [00:00<00:00, 422.34it/s]"
     ]
    },
    {
     "name": "stdout",
     "output_type": "stream",
     "text": [
      "matching = [True] - accuracy = 1.0\n",
      "matching = [True] - accuracy = 1.0\n",
      "matching = [False] - accuracy = 0.0\n",
      "matching = [True] - accuracy = 1.0\n",
      "matching = [False] - accuracy = 0.0\n",
      "matching = [False] - accuracy = 0.0\n",
      "matching = [True] - accuracy = 1.0\n",
      "matching = [False] - accuracy = 0.0\n",
      "matching = [True] - accuracy = 1.0\n"
     ]
    },
    {
     "name": "stderr",
     "output_type": "stream",
     "text": [
      "100%|██████████| 200/200 [00:00<00:00, 420.87it/s]\n"
     ]
    },
    {
     "name": "stdout",
     "output_type": "stream",
     "text": [
      "matching = [True] - accuracy = 1.0\n",
      "matching = [False] - accuracy = 0.0\n",
      "//////////////////// Epoch: 65 ////////////////////\n"
     ]
    },
    {
     "name": "stderr",
     "output_type": "stream",
     "text": [
      "  2%|▏         | 17/800 [00:00<00:04, 168.68it/s]"
     ]
    },
    {
     "name": "stdout",
     "output_type": "stream",
     "text": [
      "pred: 1 - target: 1 - loss: 0.005 - raw pred: tensor([[ -7.0903,   7.2633,  -4.9319, -17.8410,  -1.8186, -16.7265,  -3.6174,\n",
      "         -11.7212,   1.8987,  -7.1538]], device='cuda:0',\n",
      "       grad_fn=<AddmmBackward0>)\n"
     ]
    },
    {
     "name": "stderr",
     "output_type": "stream",
     "text": [
      "100%|██████████| 800/800 [00:04<00:00, 168.25it/s]\n"
     ]
    },
    {
     "name": "stdout",
     "output_type": "stream",
     "text": [
      "//////////////////// Validation ////////////////////\n"
     ]
    },
    {
     "name": "stderr",
     "output_type": "stream",
     "text": [
      " 21%|██        | 42/200 [00:00<00:00, 418.63it/s]"
     ]
    },
    {
     "name": "stdout",
     "output_type": "stream",
     "text": [
      "pred: 2 - target: 2 - loss: 0.000 - raw pred: tensor([[-13.3026,   3.6482,  12.7964,  -7.9771,  -4.5191, -16.6497, -29.9938,\n",
      "         -32.3022,   3.6762, -33.3584]], device='cuda:0')\n",
      "matching = [True] - accuracy = 1.0\n",
      "matching = [True] - accuracy = 1.0\n",
      "matching = [False] - accuracy = 0.0\n",
      "matching = [False] - accuracy = 0.0\n",
      "matching = [False] - accuracy = 0.0\n",
      "matching = [True] - accuracy = 1.0\n",
      "matching = [True] - accuracy = 1.0\n",
      "matching = [True] - accuracy = 1.0\n",
      "matching = [True] - accuracy = 1.0\n"
     ]
    },
    {
     "name": "stderr",
     "output_type": "stream",
     "text": [
      " 85%|████████▌ | 170/200 [00:00<00:00, 421.14it/s]"
     ]
    },
    {
     "name": "stdout",
     "output_type": "stream",
     "text": [
      "matching = [True] - accuracy = 1.0\n",
      "matching = [True] - accuracy = 1.0\n",
      "matching = [True] - accuracy = 1.0\n",
      "matching = [True] - accuracy = 1.0\n",
      "matching = [True] - accuracy = 1.0\n",
      "matching = [False] - accuracy = 0.0\n",
      "matching = [True] - accuracy = 1.0\n",
      "matching = [True] - accuracy = 1.0\n",
      "matching = [False] - accuracy = 0.0\n"
     ]
    },
    {
     "name": "stderr",
     "output_type": "stream",
     "text": [
      "100%|██████████| 200/200 [00:00<00:00, 419.72it/s]\n"
     ]
    },
    {
     "name": "stdout",
     "output_type": "stream",
     "text": [
      "matching = [True] - accuracy = 1.0\n",
      "matching = [True] - accuracy = 1.0\n",
      "//////////////////// Epoch: 66 ////////////////////\n"
     ]
    },
    {
     "name": "stderr",
     "output_type": "stream",
     "text": [
      "  2%|▏         | 17/800 [00:00<00:04, 167.79it/s]"
     ]
    },
    {
     "name": "stdout",
     "output_type": "stream",
     "text": [
      "pred: 8 - target: 8 - loss: 0.000 - raw pred: tensor([[  3.4204,   3.6793,  10.7015,  -8.6246, -19.5692, -24.1568, -46.6828,\n",
      "         -53.6504,  19.2702, -48.6953]], device='cuda:0',\n",
      "       grad_fn=<AddmmBackward0>)\n"
     ]
    },
    {
     "name": "stderr",
     "output_type": "stream",
     "text": [
      "100%|██████████| 800/800 [00:04<00:00, 167.58it/s]\n"
     ]
    },
    {
     "name": "stdout",
     "output_type": "stream",
     "text": [
      "//////////////////// Validation ////////////////////\n"
     ]
    },
    {
     "name": "stderr",
     "output_type": "stream",
     "text": [
      " 21%|██        | 42/200 [00:00<00:00, 418.04it/s]"
     ]
    },
    {
     "name": "stdout",
     "output_type": "stream",
     "text": [
      "pred: 5 - target: 7 - loss: 1.122 - raw pred: tensor([[ -8.4909,  -1.8799,  -9.2249,  -9.5091,  -4.1932,   3.6681,  -7.9225,\n",
      "           2.9451,  -4.6549, -12.9602]], device='cuda:0')\n",
      "matching = [False] - accuracy = 0.0\n",
      "matching = [True] - accuracy = 1.0\n",
      "matching = [False] - accuracy = 0.0\n",
      "matching = [False] - accuracy = 0.0\n",
      "matching = [True] - accuracy = 1.0\n",
      "matching = [False] - accuracy = 0.0\n",
      "matching = [False] - accuracy = 0.0\n",
      "matching = [True] - accuracy = 1.0\n",
      "matching = [True] - accuracy = 1.0\n"
     ]
    },
    {
     "name": "stderr",
     "output_type": "stream",
     "text": [
      " 85%|████████▌ | 170/200 [00:00<00:00, 420.53it/s]"
     ]
    },
    {
     "name": "stdout",
     "output_type": "stream",
     "text": [
      "matching = [False] - accuracy = 0.0\n",
      "matching = [True] - accuracy = 1.0\n",
      "matching = [True] - accuracy = 1.0\n",
      "matching = [True] - accuracy = 1.0\n",
      "matching = [True] - accuracy = 1.0\n",
      "matching = [False] - accuracy = 0.0\n",
      "matching = [False] - accuracy = 0.0\n",
      "matching = [True] - accuracy = 1.0\n",
      "matching = [True] - accuracy = 1.0\n"
     ]
    },
    {
     "name": "stderr",
     "output_type": "stream",
     "text": [
      "100%|██████████| 200/200 [00:00<00:00, 418.83it/s]\n"
     ]
    },
    {
     "name": "stdout",
     "output_type": "stream",
     "text": [
      "matching = [False] - accuracy = 0.0\n",
      "matching = [True] - accuracy = 1.0\n",
      "//////////////////// Epoch: 67 ////////////////////\n"
     ]
    },
    {
     "name": "stderr",
     "output_type": "stream",
     "text": [
      "  2%|▏         | 17/800 [00:00<00:04, 160.32it/s]"
     ]
    },
    {
     "name": "stdout",
     "output_type": "stream",
     "text": [
      "pred: 6 - target: 6 - loss: 0.014 - raw pred: tensor([[-40.8316,  -3.6167, -12.1753, -27.3933,  -1.5434, -12.8014,  14.4804,\n",
      "          -0.3676, -15.4048,  10.2314]], device='cuda:0',\n",
      "       grad_fn=<AddmmBackward0>)\n"
     ]
    },
    {
     "name": "stderr",
     "output_type": "stream",
     "text": [
      "100%|██████████| 800/800 [00:04<00:00, 164.86it/s]\n"
     ]
    },
    {
     "name": "stdout",
     "output_type": "stream",
     "text": [
      "//////////////////// Validation ////////////////////\n"
     ]
    },
    {
     "name": "stderr",
     "output_type": "stream",
     "text": [
      " 21%|██        | 42/200 [00:00<00:00, 415.46it/s]"
     ]
    },
    {
     "name": "stdout",
     "output_type": "stream",
     "text": [
      "pred: 6 - target: 7 - loss: 3.245 - raw pred: tensor([[-38.1223,  -5.3785, -11.6034, -22.7253,  -3.7460,  -4.1591,   8.9952,\n",
      "           5.8070, -12.6913,   4.9285]], device='cuda:0')\n",
      "matching = [False] - accuracy = 0.0\n",
      "matching = [True] - accuracy = 1.0\n",
      "matching = [True] - accuracy = 1.0\n",
      "matching = [True] - accuracy = 1.0\n",
      "matching = [True] - accuracy = 1.0\n",
      "matching = [True] - accuracy = 1.0\n",
      "matching = [True] - accuracy = 1.0\n",
      "matching = [True] - accuracy = 1.0\n",
      "matching = [True] - accuracy = 1.0\n"
     ]
    },
    {
     "name": "stderr",
     "output_type": "stream",
     "text": [
      " 85%|████████▌ | 170/200 [00:00<00:00, 417.74it/s]"
     ]
    },
    {
     "name": "stdout",
     "output_type": "stream",
     "text": [
      "matching = [True] - accuracy = 1.0\n",
      "matching = [True] - accuracy = 1.0\n",
      "matching = [True] - accuracy = 1.0\n",
      "matching = [True] - accuracy = 1.0\n",
      "matching = [True] - accuracy = 1.0\n",
      "matching = [True] - accuracy = 1.0\n",
      "matching = [True] - accuracy = 1.0\n",
      "matching = [True] - accuracy = 1.0\n",
      "matching = [False] - accuracy = 0.0\n"
     ]
    },
    {
     "name": "stderr",
     "output_type": "stream",
     "text": [
      "100%|██████████| 200/200 [00:00<00:00, 416.02it/s]\n"
     ]
    },
    {
     "name": "stdout",
     "output_type": "stream",
     "text": [
      "matching = [True] - accuracy = 1.0\n",
      "matching = [True] - accuracy = 1.0\n",
      "//////////////////// Epoch: 68 ////////////////////\n"
     ]
    },
    {
     "name": "stderr",
     "output_type": "stream",
     "text": [
      "  2%|▏         | 17/800 [00:00<00:04, 167.12it/s]"
     ]
    },
    {
     "name": "stdout",
     "output_type": "stream",
     "text": [
      "pred: 0 - target: 0 - loss: 0.000 - raw pred: tensor([[ 18.7151,   7.8523,   3.5893,  -0.7124, -30.2523, -25.9064, -36.7601,\n",
      "         -41.5177,   8.0728, -37.2236]], device='cuda:0',\n",
      "       grad_fn=<AddmmBackward0>)\n"
     ]
    },
    {
     "name": "stderr",
     "output_type": "stream",
     "text": [
      "100%|██████████| 800/800 [00:04<00:00, 165.20it/s]\n"
     ]
    },
    {
     "name": "stdout",
     "output_type": "stream",
     "text": [
      "//////////////////// Validation ////////////////////\n"
     ]
    },
    {
     "name": "stderr",
     "output_type": "stream",
     "text": [
      " 21%|██        | 42/200 [00:00<00:00, 417.35it/s]"
     ]
    },
    {
     "name": "stdout",
     "output_type": "stream",
     "text": [
      "pred: 8 - target: 8 - loss: 0.011 - raw pred: tensor([[-12.5163,  -2.6588,   3.4581,  -3.9729,  -4.9724,  -9.0784, -31.4903,\n",
      "         -26.2978,   7.9873, -35.2587]], device='cuda:0')\n",
      "matching = [True] - accuracy = 1.0\n",
      "matching = [True] - accuracy = 1.0\n",
      "matching = [True] - accuracy = 1.0\n",
      "matching = [True] - accuracy = 1.0\n",
      "matching = [False] - accuracy = 0.0\n",
      "matching = [False] - accuracy = 0.0\n",
      "matching = [True] - accuracy = 1.0\n",
      "matching = [False] - accuracy = 0.0\n",
      "matching = [True] - accuracy = 1.0\n"
     ]
    },
    {
     "name": "stderr",
     "output_type": "stream",
     "text": [
      " 86%|████████▌ | 171/200 [00:00<00:00, 420.14it/s]"
     ]
    },
    {
     "name": "stdout",
     "output_type": "stream",
     "text": [
      "matching = [True] - accuracy = 1.0\n",
      "matching = [True] - accuracy = 1.0\n",
      "matching = [True] - accuracy = 1.0\n",
      "matching = [False] - accuracy = 0.0\n",
      "matching = [True] - accuracy = 1.0\n",
      "matching = [False] - accuracy = 0.0\n",
      "matching = [True] - accuracy = 1.0\n",
      "matching = [False] - accuracy = 0.0\n",
      "matching = [True] - accuracy = 1.0\n"
     ]
    },
    {
     "name": "stderr",
     "output_type": "stream",
     "text": [
      "100%|██████████| 200/200 [00:00<00:00, 418.89it/s]\n"
     ]
    },
    {
     "name": "stdout",
     "output_type": "stream",
     "text": [
      "matching = [True] - accuracy = 1.0\n",
      "matching = [False] - accuracy = 0.0\n",
      "//////////////////// Epoch: 69 ////////////////////\n"
     ]
    },
    {
     "name": "stderr",
     "output_type": "stream",
     "text": [
      "  2%|▏         | 17/800 [00:00<00:04, 168.18it/s]"
     ]
    },
    {
     "name": "stdout",
     "output_type": "stream",
     "text": [
      "pred: 5 - target: 3 - loss: 1.679 - raw pred: tensor([[ -9.7043,  -8.5457,  -1.5829,   1.4432,  -9.2255,   2.9030, -27.0785,\n",
      "          -3.6487,  -6.0911, -32.1484]], device='cuda:0',\n",
      "       grad_fn=<AddmmBackward0>)\n"
     ]
    },
    {
     "name": "stderr",
     "output_type": "stream",
     "text": [
      "100%|██████████| 800/800 [00:04<00:00, 166.57it/s]\n"
     ]
    },
    {
     "name": "stdout",
     "output_type": "stream",
     "text": [
      "//////////////////// Validation ////////////////////\n"
     ]
    },
    {
     "name": "stderr",
     "output_type": "stream",
     "text": [
      " 21%|██        | 42/200 [00:00<00:00, 413.81it/s]"
     ]
    },
    {
     "name": "stdout",
     "output_type": "stream",
     "text": [
      "pred: 3 - target: 3 - loss: 0.001 - raw pred: tensor([[ -4.4890,  -5.2052,  -3.0812,   9.6965, -15.6866,  -2.2776, -20.6377,\n",
      "         -19.7280,   2.2397, -21.0750]], device='cuda:0')\n",
      "matching = [True] - accuracy = 1.0\n",
      "matching = [False] - accuracy = 0.0\n",
      "matching = [False] - accuracy = 0.0\n",
      "matching = [True] - accuracy = 1.0\n",
      "matching = [True] - accuracy = 1.0\n",
      "matching = [False] - accuracy = 0.0\n",
      "matching = [True] - accuracy = 1.0\n",
      "matching = [True] - accuracy = 1.0\n",
      "matching = [True] - accuracy = 1.0\n"
     ]
    },
    {
     "name": "stderr",
     "output_type": "stream",
     "text": [
      " 84%|████████▍ | 169/200 [00:00<00:00, 419.78it/s]"
     ]
    },
    {
     "name": "stdout",
     "output_type": "stream",
     "text": [
      "matching = [True] - accuracy = 1.0\n",
      "matching = [True] - accuracy = 1.0\n",
      "matching = [True] - accuracy = 1.0\n",
      "matching = [False] - accuracy = 0.0\n",
      "matching = [False] - accuracy = 0.0\n",
      "matching = [True] - accuracy = 1.0\n",
      "matching = [False] - accuracy = 0.0\n",
      "matching = [False] - accuracy = 0.0\n",
      "matching = [True] - accuracy = 1.0\n"
     ]
    },
    {
     "name": "stderr",
     "output_type": "stream",
     "text": [
      "100%|██████████| 200/200 [00:00<00:00, 417.48it/s]\n"
     ]
    },
    {
     "name": "stdout",
     "output_type": "stream",
     "text": [
      "matching = [True] - accuracy = 1.0\n",
      "matching = [True] - accuracy = 1.0\n",
      "//////////////////// Epoch: 70 ////////////////////\n"
     ]
    },
    {
     "name": "stderr",
     "output_type": "stream",
     "text": [
      "  2%|▏         | 17/800 [00:00<00:04, 160.99it/s]"
     ]
    },
    {
     "name": "stdout",
     "output_type": "stream",
     "text": [
      "pred: 4 - target: 4 - loss: 0.000 - raw pred: tensor([[-14.4342,   3.2792,  -3.1764, -10.0409,  11.3637,  -8.6242, -12.2036,\n",
      "         -11.4681,  -3.2394, -15.7883]], device='cuda:0',\n",
      "       grad_fn=<AddmmBackward0>)\n"
     ]
    },
    {
     "name": "stderr",
     "output_type": "stream",
     "text": [
      "100%|██████████| 800/800 [00:04<00:00, 169.26it/s]\n"
     ]
    },
    {
     "name": "stdout",
     "output_type": "stream",
     "text": [
      "//////////////////// Validation ////////////////////\n"
     ]
    },
    {
     "name": "stderr",
     "output_type": "stream",
     "text": [
      " 21%|██        | 42/200 [00:00<00:00, 413.68it/s]"
     ]
    },
    {
     "name": "stdout",
     "output_type": "stream",
     "text": [
      "pred: 2 - target: 2 - loss: 0.017 - raw pred: tensor([[ -6.5121,   1.5614,   7.2867,  -4.0503,  -9.9002, -19.2767, -11.8715,\n",
      "         -20.2189,   3.0151, -11.8855]], device='cuda:0')\n",
      "matching = [True] - accuracy = 1.0\n",
      "matching = [True] - accuracy = 1.0\n",
      "matching = [False] - accuracy = 0.0\n",
      "matching = [True] - accuracy = 1.0\n",
      "matching = [True] - accuracy = 1.0\n",
      "matching = [True] - accuracy = 1.0\n",
      "matching = [False] - accuracy = 0.0\n",
      "matching = [True] - accuracy = 1.0\n",
      "matching = [False] - accuracy = 0.0\n"
     ]
    },
    {
     "name": "stderr",
     "output_type": "stream",
     "text": [
      " 84%|████████▍ | 169/200 [00:00<00:00, 417.49it/s]"
     ]
    },
    {
     "name": "stdout",
     "output_type": "stream",
     "text": [
      "matching = [True] - accuracy = 1.0\n",
      "matching = [False] - accuracy = 0.0\n",
      "matching = [False] - accuracy = 0.0\n",
      "matching = [True] - accuracy = 1.0\n",
      "matching = [True] - accuracy = 1.0\n",
      "matching = [False] - accuracy = 0.0\n",
      "matching = [True] - accuracy = 1.0\n",
      "matching = [True] - accuracy = 1.0\n",
      "matching = [True] - accuracy = 1.0\n"
     ]
    },
    {
     "name": "stderr",
     "output_type": "stream",
     "text": [
      "100%|██████████| 200/200 [00:00<00:00, 417.34it/s]\n"
     ]
    },
    {
     "name": "stdout",
     "output_type": "stream",
     "text": [
      "matching = [True] - accuracy = 1.0\n",
      "matching = [True] - accuracy = 1.0\n",
      "//////////////////// Epoch: 71 ////////////////////\n"
     ]
    },
    {
     "name": "stderr",
     "output_type": "stream",
     "text": [
      "  2%|▏         | 17/800 [00:00<00:04, 166.13it/s]"
     ]
    },
    {
     "name": "stdout",
     "output_type": "stream",
     "text": [
      "pred: 0 - target: 0 - loss: 0.000 - raw pred: tensor([[ 14.7182,   5.7441,   4.0233,  -0.3733, -23.5796, -24.0032, -28.4009,\n",
      "         -33.6099,   3.8877, -29.8309]], device='cuda:0',\n",
      "       grad_fn=<AddmmBackward0>)\n"
     ]
    },
    {
     "name": "stderr",
     "output_type": "stream",
     "text": [
      "100%|██████████| 800/800 [00:04<00:00, 164.75it/s]\n"
     ]
    },
    {
     "name": "stdout",
     "output_type": "stream",
     "text": [
      "//////////////////// Validation ////////////////////\n"
     ]
    },
    {
     "name": "stderr",
     "output_type": "stream",
     "text": [
      " 21%|██        | 42/200 [00:00<00:00, 411.02it/s]"
     ]
    },
    {
     "name": "stdout",
     "output_type": "stream",
     "text": [
      "pred: 2 - target: 2 - loss: 0.033 - raw pred: tensor([[  2.2340,  -0.8397,   6.8748,  -3.2965,  -4.7540, -12.6181, -17.4428,\n",
      "         -14.3110,   3.1227, -19.2665]], device='cuda:0')\n",
      "matching = [True] - accuracy = 1.0\n",
      "matching = [False] - accuracy = 0.0\n",
      "matching = [False] - accuracy = 0.0\n",
      "matching = [False] - accuracy = 0.0\n",
      "matching = [True] - accuracy = 1.0\n",
      "matching = [False] - accuracy = 0.0\n",
      "matching = [True] - accuracy = 1.0\n",
      "matching = [True] - accuracy = 1.0\n",
      "matching = [True] - accuracy = 1.0\n"
     ]
    },
    {
     "name": "stderr",
     "output_type": "stream",
     "text": [
      " 85%|████████▌ | 170/200 [00:00<00:00, 420.66it/s]"
     ]
    },
    {
     "name": "stdout",
     "output_type": "stream",
     "text": [
      "matching = [False] - accuracy = 0.0\n",
      "matching = [True] - accuracy = 1.0\n",
      "matching = [True] - accuracy = 1.0\n",
      "matching = [False] - accuracy = 0.0\n",
      "matching = [True] - accuracy = 1.0\n",
      "matching = [True] - accuracy = 1.0\n",
      "matching = [True] - accuracy = 1.0\n",
      "matching = [True] - accuracy = 1.0\n",
      "matching = [True] - accuracy = 1.0\n"
     ]
    },
    {
     "name": "stderr",
     "output_type": "stream",
     "text": [
      "100%|██████████| 200/200 [00:00<00:00, 418.51it/s]\n"
     ]
    },
    {
     "name": "stdout",
     "output_type": "stream",
     "text": [
      "matching = [False] - accuracy = 0.0\n",
      "matching = [True] - accuracy = 1.0\n",
      "//////////////////// Epoch: 72 ////////////////////\n"
     ]
    },
    {
     "name": "stderr",
     "output_type": "stream",
     "text": [
      "  2%|▏         | 17/800 [00:00<00:04, 167.29it/s]"
     ]
    },
    {
     "name": "stdout",
     "output_type": "stream",
     "text": [
      "pred: 2 - target: 2 - loss: 0.008 - raw pred: tensor([[-14.1377,   0.0515,   7.1490,  -3.7355,   2.2083,  -8.8382, -11.9171,\n",
      "         -12.7395,  -3.7523, -12.2734]], device='cuda:0',\n",
      "       grad_fn=<AddmmBackward0>)\n"
     ]
    },
    {
     "name": "stderr",
     "output_type": "stream",
     "text": [
      "100%|██████████| 800/800 [00:04<00:00, 165.68it/s]\n"
     ]
    },
    {
     "name": "stdout",
     "output_type": "stream",
     "text": [
      "//////////////////// Validation ////////////////////\n"
     ]
    },
    {
     "name": "stderr",
     "output_type": "stream",
     "text": [
      " 21%|██        | 42/200 [00:00<00:00, 414.03it/s]"
     ]
    },
    {
     "name": "stdout",
     "output_type": "stream",
     "text": [
      "pred: 1 - target: 5 - loss: 10.229 - raw pred: tensor([[-17.5435,   7.2796,  -8.7162, -17.0157,  -0.0223,  -2.9484,  -0.7986,\n",
      "          -4.4459, -10.7379,  -3.4148]], device='cuda:0')\n",
      "matching = [False] - accuracy = 0.0\n",
      "matching = [False] - accuracy = 0.0\n",
      "matching = [True] - accuracy = 1.0\n",
      "matching = [True] - accuracy = 1.0\n",
      "matching = [True] - accuracy = 1.0\n",
      "matching = [True] - accuracy = 1.0\n",
      "matching = [True] - accuracy = 1.0\n",
      "matching = [True] - accuracy = 1.0\n",
      "matching = [True] - accuracy = 1.0\n"
     ]
    },
    {
     "name": "stderr",
     "output_type": "stream",
     "text": [
      " 85%|████████▌ | 170/200 [00:00<00:00, 420.53it/s]"
     ]
    },
    {
     "name": "stdout",
     "output_type": "stream",
     "text": [
      "matching = [True] - accuracy = 1.0\n",
      "matching = [True] - accuracy = 1.0\n",
      "matching = [True] - accuracy = 1.0\n",
      "matching = [False] - accuracy = 0.0\n",
      "matching = [True] - accuracy = 1.0\n",
      "matching = [True] - accuracy = 1.0\n",
      "matching = [False] - accuracy = 0.0\n",
      "matching = [False] - accuracy = 0.0\n",
      "matching = [False] - accuracy = 0.0\n"
     ]
    },
    {
     "name": "stderr",
     "output_type": "stream",
     "text": [
      "100%|██████████| 200/200 [00:00<00:00, 417.42it/s]\n"
     ]
    },
    {
     "name": "stdout",
     "output_type": "stream",
     "text": [
      "matching = [True] - accuracy = 1.0\n",
      "matching = [True] - accuracy = 1.0\n",
      "//////////////////// Epoch: 73 ////////////////////\n"
     ]
    },
    {
     "name": "stderr",
     "output_type": "stream",
     "text": [
      "  2%|▏         | 17/800 [00:00<00:04, 164.59it/s]"
     ]
    },
    {
     "name": "stdout",
     "output_type": "stream",
     "text": [
      "pred: 6 - target: 6 - loss: 0.636 - raw pred: tensor([[-9.7070, -3.5467, -3.5559, -3.7716, -3.1884, -3.6142,  0.8169, -5.8288,\n",
      "         -3.7951,  0.6081]], device='cuda:0', grad_fn=<AddmmBackward0>)\n"
     ]
    },
    {
     "name": "stderr",
     "output_type": "stream",
     "text": [
      "100%|██████████| 800/800 [00:04<00:00, 165.23it/s]\n"
     ]
    },
    {
     "name": "stdout",
     "output_type": "stream",
     "text": [
      "//////////////////// Validation ////////////////////\n"
     ]
    },
    {
     "name": "stderr",
     "output_type": "stream",
     "text": [
      " 22%|██▏       | 43/200 [00:00<00:00, 422.55it/s]"
     ]
    },
    {
     "name": "stdout",
     "output_type": "stream",
     "text": [
      "pred: 5 - target: 5 - loss: 0.111 - raw pred: tensor([[ -5.9754,  -2.3292,  -6.0265,  -5.6562,  -5.5923,   3.5495,  -8.4040,\n",
      "           1.3754,  -3.3279, -11.2342]], device='cuda:0')\n",
      "matching = [True] - accuracy = 1.0\n",
      "matching = [False] - accuracy = 0.0\n",
      "matching = [True] - accuracy = 1.0\n",
      "matching = [True] - accuracy = 1.0\n",
      "matching = [True] - accuracy = 1.0\n",
      "matching = [True] - accuracy = 1.0\n",
      "matching = [False] - accuracy = 0.0\n",
      "matching = [True] - accuracy = 1.0\n",
      "matching = [False] - accuracy = 0.0\n"
     ]
    },
    {
     "name": "stderr",
     "output_type": "stream",
     "text": [
      " 86%|████████▌ | 172/200 [00:00<00:00, 422.25it/s]"
     ]
    },
    {
     "name": "stdout",
     "output_type": "stream",
     "text": [
      "matching = [False] - accuracy = 0.0\n",
      "matching = [False] - accuracy = 0.0\n",
      "matching = [True] - accuracy = 1.0\n",
      "matching = [False] - accuracy = 0.0\n",
      "matching = [True] - accuracy = 1.0\n",
      "matching = [True] - accuracy = 1.0\n",
      "matching = [True] - accuracy = 1.0\n",
      "matching = [True] - accuracy = 1.0\n",
      "matching = [True] - accuracy = 1.0\n"
     ]
    },
    {
     "name": "stderr",
     "output_type": "stream",
     "text": [
      "100%|██████████| 200/200 [00:00<00:00, 421.48it/s]\n"
     ]
    },
    {
     "name": "stdout",
     "output_type": "stream",
     "text": [
      "matching = [True] - accuracy = 1.0\n",
      "matching = [False] - accuracy = 0.0\n",
      "//////////////////// Epoch: 74 ////////////////////\n"
     ]
    },
    {
     "name": "stderr",
     "output_type": "stream",
     "text": [
      "  2%|▏         | 17/800 [00:00<00:04, 164.22it/s]"
     ]
    },
    {
     "name": "stdout",
     "output_type": "stream",
     "text": [
      "pred: 0 - target: 0 - loss: 0.000 - raw pred: tensor([[ 17.0592,   2.4834,   4.1387,   6.9114, -36.0024, -19.8572, -47.2039,\n",
      "         -36.6100,  -0.6999, -50.7506]], device='cuda:0',\n",
      "       grad_fn=<AddmmBackward0>)\n"
     ]
    },
    {
     "name": "stderr",
     "output_type": "stream",
     "text": [
      "100%|██████████| 800/800 [00:04<00:00, 164.67it/s]\n"
     ]
    },
    {
     "name": "stdout",
     "output_type": "stream",
     "text": [
      "//////////////////// Validation ////////////////////\n"
     ]
    },
    {
     "name": "stderr",
     "output_type": "stream",
     "text": [
      " 21%|██        | 42/200 [00:00<00:00, 419.36it/s]"
     ]
    },
    {
     "name": "stdout",
     "output_type": "stream",
     "text": [
      "pred: 0 - target: 0 - loss: 0.000 - raw pred: tensor([[ 45.1587,  16.4642,  -2.3775,   5.8391, -72.3369, -40.2295, -72.8619,\n",
      "         -76.4327,  -0.5523, -77.8548]], device='cuda:0')\n",
      "matching = [True] - accuracy = 1.0\n",
      "matching = [True] - accuracy = 1.0\n",
      "matching = [True] - accuracy = 1.0\n",
      "matching = [True] - accuracy = 1.0\n",
      "matching = [True] - accuracy = 1.0\n",
      "matching = [True] - accuracy = 1.0\n",
      "matching = [True] - accuracy = 1.0\n",
      "matching = [False] - accuracy = 0.0\n",
      "matching = [True] - accuracy = 1.0\n"
     ]
    },
    {
     "name": "stderr",
     "output_type": "stream",
     "text": [
      " 84%|████████▍ | 168/200 [00:00<00:00, 419.12it/s]"
     ]
    },
    {
     "name": "stdout",
     "output_type": "stream",
     "text": [
      "matching = [False] - accuracy = 0.0\n",
      "matching = [False] - accuracy = 0.0\n",
      "matching = [True] - accuracy = 1.0\n",
      "matching = [False] - accuracy = 0.0\n",
      "matching = [True] - accuracy = 1.0\n",
      "matching = [True] - accuracy = 1.0\n",
      "matching = [False] - accuracy = 0.0\n",
      "matching = [True] - accuracy = 1.0\n",
      "matching = [False] - accuracy = 0.0\n"
     ]
    },
    {
     "name": "stderr",
     "output_type": "stream",
     "text": [
      "100%|██████████| 200/200 [00:00<00:00, 419.19it/s]\n"
     ]
    },
    {
     "name": "stdout",
     "output_type": "stream",
     "text": [
      "matching = [False] - accuracy = 0.0\n",
      "matching = [False] - accuracy = 0.0\n",
      "//////////////////// Epoch: 75 ////////////////////\n"
     ]
    },
    {
     "name": "stderr",
     "output_type": "stream",
     "text": [
      "  2%|▏         | 18/800 [00:00<00:04, 175.92it/s]"
     ]
    },
    {
     "name": "stdout",
     "output_type": "stream",
     "text": [
      "pred: 2 - target: 2 - loss: 0.004 - raw pred: tensor([[  3.4946,   1.6833,   9.2909,  -1.8179,  -8.5805, -17.4936, -31.2638,\n",
      "         -15.8164,  -3.2618, -32.6846]], device='cuda:0',\n",
      "       grad_fn=<AddmmBackward0>)\n"
     ]
    },
    {
     "name": "stderr",
     "output_type": "stream",
     "text": [
      "100%|██████████| 800/800 [00:04<00:00, 164.47it/s]\n"
     ]
    },
    {
     "name": "stdout",
     "output_type": "stream",
     "text": [
      "//////////////////// Validation ////////////////////\n"
     ]
    },
    {
     "name": "stderr",
     "output_type": "stream",
     "text": [
      " 21%|██        | 42/200 [00:00<00:00, 414.05it/s]"
     ]
    },
    {
     "name": "stdout",
     "output_type": "stream",
     "text": [
      "pred: 5 - target: 5 - loss: 0.480 - raw pred: tensor([[-10.2197,  -1.6901,  -6.7391,  -5.9985,  -4.8724,   4.4000,  -7.2920,\n",
      "           3.9113,  -4.0691, -11.2356]], device='cuda:0')\n",
      "matching = [True] - accuracy = 1.0\n",
      "matching = [True] - accuracy = 1.0\n",
      "matching = [True] - accuracy = 1.0\n",
      "matching = [False] - accuracy = 0.0\n",
      "matching = [True] - accuracy = 1.0\n",
      "matching = [True] - accuracy = 1.0\n",
      "matching = [False] - accuracy = 0.0\n",
      "matching = [False] - accuracy = 0.0\n",
      "matching = [True] - accuracy = 1.0\n"
     ]
    },
    {
     "name": "stderr",
     "output_type": "stream",
     "text": [
      " 85%|████████▌ | 170/200 [00:00<00:00, 418.84it/s]"
     ]
    },
    {
     "name": "stdout",
     "output_type": "stream",
     "text": [
      "matching = [False] - accuracy = 0.0\n",
      "matching = [True] - accuracy = 1.0\n",
      "matching = [False] - accuracy = 0.0\n",
      "matching = [True] - accuracy = 1.0\n",
      "matching = [False] - accuracy = 0.0\n",
      "matching = [True] - accuracy = 1.0\n",
      "matching = [True] - accuracy = 1.0\n",
      "matching = [True] - accuracy = 1.0\n",
      "matching = [True] - accuracy = 1.0\n"
     ]
    },
    {
     "name": "stderr",
     "output_type": "stream",
     "text": [
      "100%|██████████| 200/200 [00:00<00:00, 416.93it/s]\n"
     ]
    },
    {
     "name": "stdout",
     "output_type": "stream",
     "text": [
      "matching = [True] - accuracy = 1.0\n",
      "matching = [True] - accuracy = 1.0\n",
      "//////////////////// Epoch: 76 ////////////////////\n"
     ]
    },
    {
     "name": "stderr",
     "output_type": "stream",
     "text": [
      "  2%|▏         | 17/800 [00:00<00:04, 165.39it/s]"
     ]
    },
    {
     "name": "stdout",
     "output_type": "stream",
     "text": [
      "pred: 0 - target: 0 - loss: 0.000 - raw pred: tensor([[ 23.7152,   5.3468,   0.9268,  -0.5254, -35.7540, -26.6539, -36.8097,\n",
      "         -46.4671,   5.2769, -37.6352]], device='cuda:0',\n",
      "       grad_fn=<AddmmBackward0>)\n"
     ]
    },
    {
     "name": "stderr",
     "output_type": "stream",
     "text": [
      "100%|██████████| 800/800 [00:04<00:00, 165.04it/s]\n"
     ]
    },
    {
     "name": "stdout",
     "output_type": "stream",
     "text": [
      "//////////////////// Validation ////////////////////\n"
     ]
    },
    {
     "name": "stderr",
     "output_type": "stream",
     "text": [
      " 20%|██        | 41/200 [00:00<00:00, 408.56it/s]"
     ]
    },
    {
     "name": "stdout",
     "output_type": "stream",
     "text": [
      "pred: 2 - target: 2 - loss: 0.000 - raw pred: tensor([[ -0.6476,   0.4982,  16.2583,   4.6439, -18.0174, -26.3382, -50.8723,\n",
      "         -47.8545,   5.9651, -51.9914]], device='cuda:0')\n",
      "matching = [True] - accuracy = 1.0\n",
      "matching = [False] - accuracy = 0.0\n",
      "matching = [True] - accuracy = 1.0\n",
      "matching = [True] - accuracy = 1.0\n",
      "matching = [True] - accuracy = 1.0\n",
      "matching = [False] - accuracy = 0.0\n",
      "matching = [True] - accuracy = 1.0\n",
      "matching = [False] - accuracy = 0.0\n",
      "matching = [False] - accuracy = 0.0\n"
     ]
    },
    {
     "name": "stderr",
     "output_type": "stream",
     "text": [
      " 84%|████████▎ | 167/200 [00:00<00:00, 414.27it/s]"
     ]
    },
    {
     "name": "stdout",
     "output_type": "stream",
     "text": [
      "matching = [True] - accuracy = 1.0\n",
      "matching = [True] - accuracy = 1.0\n",
      "matching = [False] - accuracy = 0.0\n",
      "matching = [True] - accuracy = 1.0\n",
      "matching = [True] - accuracy = 1.0\n",
      "matching = [False] - accuracy = 0.0\n",
      "matching = [True] - accuracy = 1.0\n",
      "matching = [True] - accuracy = 1.0\n",
      "matching = [True] - accuracy = 1.0\n"
     ]
    },
    {
     "name": "stderr",
     "output_type": "stream",
     "text": [
      "100%|██████████| 200/200 [00:00<00:00, 413.12it/s]\n"
     ]
    },
    {
     "name": "stdout",
     "output_type": "stream",
     "text": [
      "matching = [True] - accuracy = 1.0\n",
      "matching = [False] - accuracy = 0.0\n",
      "//////////////////// Epoch: 77 ////////////////////\n"
     ]
    },
    {
     "name": "stderr",
     "output_type": "stream",
     "text": [
      "  2%|▏         | 17/800 [00:00<00:04, 168.40it/s]"
     ]
    },
    {
     "name": "stdout",
     "output_type": "stream",
     "text": [
      "pred: 7 - target: 7 - loss: 0.026 - raw pred: tensor([[-10.0144,  -2.1035,  -4.1849,  -2.2059,  -3.8650,   0.5846,  -7.1295,\n",
      "           4.3551,  -4.3442,  -9.0230]], device='cuda:0',\n",
      "       grad_fn=<AddmmBackward0>)\n"
     ]
    },
    {
     "name": "stderr",
     "output_type": "stream",
     "text": [
      "100%|██████████| 800/800 [00:04<00:00, 166.15it/s]\n"
     ]
    },
    {
     "name": "stdout",
     "output_type": "stream",
     "text": [
      "//////////////////// Validation ////////////////////\n"
     ]
    },
    {
     "name": "stderr",
     "output_type": "stream",
     "text": [
      " 21%|██        | 42/200 [00:00<00:00, 417.75it/s]"
     ]
    },
    {
     "name": "stdout",
     "output_type": "stream",
     "text": [
      "pred: 1 - target: 2 - loss: 2.720 - raw pred: tensor([[ -3.4279,   3.9807,   1.9019,  -8.1394,   3.3961,  -8.6039, -11.2202,\n",
      "         -13.5181,   2.4470, -14.4962]], device='cuda:0')\n",
      "matching = [False] - accuracy = 0.0\n",
      "matching = [True] - accuracy = 1.0\n",
      "matching = [True] - accuracy = 1.0\n",
      "matching = [False] - accuracy = 0.0\n",
      "matching = [True] - accuracy = 1.0\n",
      "matching = [True] - accuracy = 1.0\n",
      "matching = [True] - accuracy = 1.0\n",
      "matching = [True] - accuracy = 1.0\n",
      "matching = [False] - accuracy = 0.0\n"
     ]
    },
    {
     "name": "stderr",
     "output_type": "stream",
     "text": [
      " 84%|████████▍ | 169/200 [00:00<00:00, 418.69it/s]"
     ]
    },
    {
     "name": "stdout",
     "output_type": "stream",
     "text": [
      "matching = [False] - accuracy = 0.0\n",
      "matching = [True] - accuracy = 1.0\n",
      "matching = [True] - accuracy = 1.0\n",
      "matching = [True] - accuracy = 1.0\n",
      "matching = [False] - accuracy = 0.0\n",
      "matching = [True] - accuracy = 1.0\n",
      "matching = [True] - accuracy = 1.0\n",
      "matching = [True] - accuracy = 1.0\n",
      "matching = [True] - accuracy = 1.0\n"
     ]
    },
    {
     "name": "stderr",
     "output_type": "stream",
     "text": [
      "100%|██████████| 200/200 [00:00<00:00, 417.52it/s]\n"
     ]
    },
    {
     "name": "stdout",
     "output_type": "stream",
     "text": [
      "matching = [True] - accuracy = 1.0\n",
      "matching = [True] - accuracy = 1.0\n",
      "//////////////////// Epoch: 78 ////////////////////\n"
     ]
    },
    {
     "name": "stderr",
     "output_type": "stream",
     "text": [
      "  2%|▏         | 17/800 [00:00<00:04, 164.33it/s]"
     ]
    },
    {
     "name": "stdout",
     "output_type": "stream",
     "text": [
      "pred: 1 - target: 1 - loss: 0.000 - raw pred: tensor([[-11.7243,  14.3059, -11.3111, -12.3637,  -2.2000, -14.2500, -22.7007,\n",
      "         -25.9533,  -8.6786, -33.7382]], device='cuda:0',\n",
      "       grad_fn=<AddmmBackward0>)\n"
     ]
    },
    {
     "name": "stderr",
     "output_type": "stream",
     "text": [
      "100%|██████████| 800/800 [00:04<00:00, 165.44it/s]\n"
     ]
    },
    {
     "name": "stdout",
     "output_type": "stream",
     "text": [
      "//////////////////// Validation ////////////////////\n"
     ]
    },
    {
     "name": "stderr",
     "output_type": "stream",
     "text": [
      " 21%|██        | 42/200 [00:00<00:00, 415.50it/s]"
     ]
    },
    {
     "name": "stdout",
     "output_type": "stream",
     "text": [
      "pred: 9 - target: 9 - loss: 0.108 - raw pred: tensor([[-17.5287,  -5.4004,  -4.9457, -11.5330,  -5.5408, -12.1833,   2.7122,\n",
      "         -11.7003,  -6.7972,   4.8832]], device='cuda:0')\n",
      "matching = [True] - accuracy = 1.0\n",
      "matching = [False] - accuracy = 0.0\n",
      "matching = [True] - accuracy = 1.0\n",
      "matching = [True] - accuracy = 1.0\n",
      "matching = [True] - accuracy = 1.0\n",
      "matching = [True] - accuracy = 1.0\n",
      "matching = [True] - accuracy = 1.0\n",
      "matching = [False] - accuracy = 0.0\n",
      "matching = [True] - accuracy = 1.0\n"
     ]
    },
    {
     "name": "stderr",
     "output_type": "stream",
     "text": [
      " 84%|████████▍ | 168/200 [00:00<00:00, 418.05it/s]"
     ]
    },
    {
     "name": "stdout",
     "output_type": "stream",
     "text": [
      "matching = [False] - accuracy = 0.0\n",
      "matching = [True] - accuracy = 1.0\n",
      "matching = [False] - accuracy = 0.0\n",
      "matching = [False] - accuracy = 0.0\n",
      "matching = [False] - accuracy = 0.0\n",
      "matching = [True] - accuracy = 1.0\n",
      "matching = [False] - accuracy = 0.0\n",
      "matching = [True] - accuracy = 1.0\n",
      "matching = [True] - accuracy = 1.0\n"
     ]
    },
    {
     "name": "stderr",
     "output_type": "stream",
     "text": [
      "100%|██████████| 200/200 [00:00<00:00, 416.25it/s]\n"
     ]
    },
    {
     "name": "stdout",
     "output_type": "stream",
     "text": [
      "matching = [False] - accuracy = 0.0\n",
      "matching = [True] - accuracy = 1.0\n",
      "//////////////////// Epoch: 79 ////////////////////\n"
     ]
    },
    {
     "name": "stderr",
     "output_type": "stream",
     "text": [
      "  2%|▏         | 17/800 [00:00<00:04, 164.17it/s]"
     ]
    },
    {
     "name": "stdout",
     "output_type": "stream",
     "text": [
      "pred: 4 - target: 4 - loss: 0.035 - raw pred: tensor([[-15.4065,   0.4822,  -5.2173, -13.1209,   3.8166,  -6.2346,  -7.9988,\n",
      "          -7.2792,  -4.6590,  -8.1121]], device='cuda:0',\n",
      "       grad_fn=<AddmmBackward0>)\n"
     ]
    },
    {
     "name": "stderr",
     "output_type": "stream",
     "text": [
      "100%|██████████| 800/800 [00:04<00:00, 163.31it/s]\n"
     ]
    },
    {
     "name": "stdout",
     "output_type": "stream",
     "text": [
      "//////////////////// Validation ////////////////////\n"
     ]
    },
    {
     "name": "stderr",
     "output_type": "stream",
     "text": [
      " 21%|██        | 42/200 [00:00<00:00, 415.53it/s]"
     ]
    },
    {
     "name": "stdout",
     "output_type": "stream",
     "text": [
      "pred: 8 - target: 1 - loss: 24.692 - raw pred: tensor([[ -7.8778,  -7.8089,  14.2495,  -9.5343, -13.3282, -27.1001, -32.0172,\n",
      "         -46.5262,  16.8090, -37.0516]], device='cuda:0')\n",
      "matching = [False] - accuracy = 0.0\n",
      "matching = [True] - accuracy = 1.0\n",
      "matching = [True] - accuracy = 1.0\n",
      "matching = [True] - accuracy = 1.0\n",
      "matching = [False] - accuracy = 0.0\n",
      "matching = [True] - accuracy = 1.0\n",
      "matching = [True] - accuracy = 1.0\n",
      "matching = [False] - accuracy = 0.0\n",
      "matching = [False] - accuracy = 0.0\n"
     ]
    },
    {
     "name": "stderr",
     "output_type": "stream",
     "text": [
      " 85%|████████▌ | 170/200 [00:00<00:00, 420.63it/s]"
     ]
    },
    {
     "name": "stdout",
     "output_type": "stream",
     "text": [
      "matching = [True] - accuracy = 1.0\n",
      "matching = [False] - accuracy = 0.0\n",
      "matching = [False] - accuracy = 0.0\n",
      "matching = [True] - accuracy = 1.0\n",
      "matching = [True] - accuracy = 1.0\n",
      "matching = [False] - accuracy = 0.0\n",
      "matching = [True] - accuracy = 1.0\n",
      "matching = [True] - accuracy = 1.0\n",
      "matching = [False] - accuracy = 0.0\n"
     ]
    },
    {
     "name": "stderr",
     "output_type": "stream",
     "text": [
      "100%|██████████| 200/200 [00:00<00:00, 417.75it/s]\n"
     ]
    },
    {
     "name": "stdout",
     "output_type": "stream",
     "text": [
      "matching = [False] - accuracy = 0.0\n",
      "matching = [False] - accuracy = 0.0\n",
      "//////////////////// Epoch: 80 ////////////////////\n"
     ]
    },
    {
     "name": "stderr",
     "output_type": "stream",
     "text": [
      "  2%|▏         | 17/800 [00:00<00:04, 164.83it/s]"
     ]
    },
    {
     "name": "stdout",
     "output_type": "stream",
     "text": [
      "pred: 6 - target: 6 - loss: 0.135 - raw pred: tensor([[-17.1806,  -9.2512, -12.3570, -12.1002,  -4.8906,   0.2036,   3.8670,\n",
      "          -0.1970,  -4.6887,   1.5784]], device='cuda:0',\n",
      "       grad_fn=<AddmmBackward0>)\n"
     ]
    },
    {
     "name": "stderr",
     "output_type": "stream",
     "text": [
      "100%|██████████| 800/800 [00:04<00:00, 166.88it/s]\n"
     ]
    },
    {
     "name": "stdout",
     "output_type": "stream",
     "text": [
      "//////////////////// Validation ////////////////////\n"
     ]
    },
    {
     "name": "stderr",
     "output_type": "stream",
     "text": [
      " 20%|██        | 41/200 [00:00<00:00, 406.90it/s]"
     ]
    },
    {
     "name": "stdout",
     "output_type": "stream",
     "text": [
      "pred: 0 - target: 0 - loss: 0.000 - raw pred: tensor([[  51.8095,   18.8649,   -5.1972,   17.3700,  -99.1368,  -47.7839,\n",
      "          -78.2892, -102.4509,   -6.1129,  -82.5740]], device='cuda:0')\n",
      "matching = [True] - accuracy = 1.0\n",
      "matching = [False] - accuracy = 0.0\n",
      "matching = [False] - accuracy = 0.0\n",
      "matching = [False] - accuracy = 0.0\n",
      "matching = [True] - accuracy = 1.0\n",
      "matching = [True] - accuracy = 1.0\n",
      "matching = [True] - accuracy = 1.0\n",
      "matching = [True] - accuracy = 1.0\n",
      "matching = [False] - accuracy = 0.0\n"
     ]
    },
    {
     "name": "stderr",
     "output_type": "stream",
     "text": [
      " 84%|████████▎ | 167/200 [00:00<00:00, 410.86it/s]"
     ]
    },
    {
     "name": "stdout",
     "output_type": "stream",
     "text": [
      "matching = [True] - accuracy = 1.0\n",
      "matching = [True] - accuracy = 1.0\n",
      "matching = [True] - accuracy = 1.0\n",
      "matching = [True] - accuracy = 1.0\n",
      "matching = [False] - accuracy = 0.0\n",
      "matching = [True] - accuracy = 1.0\n",
      "matching = [True] - accuracy = 1.0\n",
      "matching = [True] - accuracy = 1.0\n",
      "matching = [True] - accuracy = 1.0\n"
     ]
    },
    {
     "name": "stderr",
     "output_type": "stream",
     "text": [
      "100%|██████████| 200/200 [00:00<00:00, 406.65it/s]\n"
     ]
    },
    {
     "name": "stdout",
     "output_type": "stream",
     "text": [
      "matching = [True] - accuracy = 1.0\n",
      "matching = [True] - accuracy = 1.0\n",
      "//////////////////// Epoch: 81 ////////////////////\n"
     ]
    },
    {
     "name": "stderr",
     "output_type": "stream",
     "text": [
      "  2%|▏         | 17/800 [00:00<00:04, 165.18it/s]"
     ]
    },
    {
     "name": "stdout",
     "output_type": "stream",
     "text": [
      "pred: 6 - target: 6 - loss: 0.402 - raw pred: tensor([[-27.0837,   0.8462, -13.5224, -24.3729,  -2.8056,  -3.5744,   4.6379,\n",
      "           0.0651, -14.9420,   3.8625]], device='cuda:0',\n",
      "       grad_fn=<AddmmBackward0>)\n"
     ]
    },
    {
     "name": "stderr",
     "output_type": "stream",
     "text": [
      "100%|██████████| 800/800 [00:04<00:00, 166.16it/s]\n"
     ]
    },
    {
     "name": "stdout",
     "output_type": "stream",
     "text": [
      "//////////////////// Validation ////////////////////\n"
     ]
    },
    {
     "name": "stderr",
     "output_type": "stream",
     "text": [
      " 20%|██        | 41/200 [00:00<00:00, 408.35it/s]"
     ]
    },
    {
     "name": "stdout",
     "output_type": "stream",
     "text": [
      "pred: 8 - target: 2 - loss: 1.253 - raw pred: tensor([[  0.3435,  -0.5346,   1.9517,  -3.0021,  -6.5654,  -5.5345,  -6.7829,\n",
      "         -11.2530,   2.7446,  -7.3500]], device='cuda:0')\n",
      "matching = [False] - accuracy = 0.0\n",
      "matching = [True] - accuracy = 1.0\n",
      "matching = [True] - accuracy = 1.0\n",
      "matching = [True] - accuracy = 1.0\n",
      "matching = [True] - accuracy = 1.0\n",
      "matching = [False] - accuracy = 0.0\n",
      "matching = [True] - accuracy = 1.0\n",
      "matching = [True] - accuracy = 1.0\n",
      "matching = [False] - accuracy = 0.0\n"
     ]
    },
    {
     "name": "stderr",
     "output_type": "stream",
     "text": [
      " 84%|████████▎ | 167/200 [00:00<00:00, 413.16it/s]"
     ]
    },
    {
     "name": "stdout",
     "output_type": "stream",
     "text": [
      "matching = [True] - accuracy = 1.0\n",
      "matching = [True] - accuracy = 1.0\n",
      "matching = [False] - accuracy = 0.0\n",
      "matching = [False] - accuracy = 0.0\n",
      "matching = [False] - accuracy = 0.0\n",
      "matching = [True] - accuracy = 1.0\n",
      "matching = [True] - accuracy = 1.0\n",
      "matching = [True] - accuracy = 1.0\n",
      "matching = [True] - accuracy = 1.0\n"
     ]
    },
    {
     "name": "stderr",
     "output_type": "stream",
     "text": [
      "100%|██████████| 200/200 [00:00<00:00, 413.19it/s]\n"
     ]
    },
    {
     "name": "stdout",
     "output_type": "stream",
     "text": [
      "matching = [True] - accuracy = 1.0\n",
      "matching = [True] - accuracy = 1.0\n",
      "//////////////////// Epoch: 82 ////////////////////\n"
     ]
    },
    {
     "name": "stderr",
     "output_type": "stream",
     "text": [
      "  2%|▏         | 17/800 [00:00<00:04, 166.04it/s]"
     ]
    },
    {
     "name": "stdout",
     "output_type": "stream",
     "text": [
      "pred: 3 - target: 3 - loss: 0.017 - raw pred: tensor([[ -4.9977,   0.2309,   4.0311,   8.1276, -15.0835, -16.9980, -17.6836,\n",
      "         -20.8204,  -6.1957, -17.9820]], device='cuda:0',\n",
      "       grad_fn=<AddmmBackward0>)\n"
     ]
    },
    {
     "name": "stderr",
     "output_type": "stream",
     "text": [
      "100%|██████████| 800/800 [00:04<00:00, 165.31it/s]\n"
     ]
    },
    {
     "name": "stdout",
     "output_type": "stream",
     "text": [
      "//////////////////// Validation ////////////////////\n"
     ]
    },
    {
     "name": "stderr",
     "output_type": "stream",
     "text": [
      " 21%|██        | 42/200 [00:00<00:00, 411.72it/s]"
     ]
    },
    {
     "name": "stdout",
     "output_type": "stream",
     "text": [
      "pred: 7 - target: 7 - loss: 0.477 - raw pred: tensor([[-21.6541,  -8.6107, -16.2545, -14.7356,  -8.6951,   6.0642,   1.6041,\n",
      "           6.5684,  -8.0472,  -3.4455]], device='cuda:0')\n",
      "matching = [True] - accuracy = 1.0\n",
      "matching = [True] - accuracy = 1.0\n",
      "matching = [True] - accuracy = 1.0\n",
      "matching = [True] - accuracy = 1.0\n",
      "matching = [True] - accuracy = 1.0\n",
      "matching = [True] - accuracy = 1.0\n",
      "matching = [True] - accuracy = 1.0\n",
      "matching = [False] - accuracy = 0.0\n",
      "matching = [True] - accuracy = 1.0\n"
     ]
    },
    {
     "name": "stderr",
     "output_type": "stream",
     "text": [
      " 85%|████████▌ | 170/200 [00:00<00:00, 417.60it/s]"
     ]
    },
    {
     "name": "stdout",
     "output_type": "stream",
     "text": [
      "matching = [True] - accuracy = 1.0\n",
      "matching = [True] - accuracy = 1.0\n",
      "matching = [False] - accuracy = 0.0\n",
      "matching = [True] - accuracy = 1.0\n",
      "matching = [True] - accuracy = 1.0\n",
      "matching = [True] - accuracy = 1.0\n",
      "matching = [True] - accuracy = 1.0\n",
      "matching = [False] - accuracy = 0.0\n",
      "matching = [True] - accuracy = 1.0\n"
     ]
    },
    {
     "name": "stderr",
     "output_type": "stream",
     "text": [
      "100%|██████████| 200/200 [00:00<00:00, 415.75it/s]\n"
     ]
    },
    {
     "name": "stdout",
     "output_type": "stream",
     "text": [
      "matching = [True] - accuracy = 1.0\n",
      "matching = [True] - accuracy = 1.0\n",
      "//////////////////// Epoch: 83 ////////////////////\n"
     ]
    },
    {
     "name": "stderr",
     "output_type": "stream",
     "text": [
      "  2%|▏         | 17/800 [00:00<00:04, 165.32it/s]"
     ]
    },
    {
     "name": "stdout",
     "output_type": "stream",
     "text": [
      "pred: 6 - target: 6 - loss: 0.003 - raw pred: tensor([[-21.2291,  -5.6579, -12.0981, -14.4595,  -3.5915,  -1.2799,   7.1149,\n",
      "           0.3556,  -6.5587,   0.3645]], device='cuda:0',\n",
      "       grad_fn=<AddmmBackward0>)\n"
     ]
    },
    {
     "name": "stderr",
     "output_type": "stream",
     "text": [
      "100%|██████████| 800/800 [00:04<00:00, 169.50it/s]\n"
     ]
    },
    {
     "name": "stdout",
     "output_type": "stream",
     "text": [
      "//////////////////// Validation ////////////////////\n"
     ]
    },
    {
     "name": "stderr",
     "output_type": "stream",
     "text": [
      " 21%|██        | 42/200 [00:00<00:00, 418.16it/s]"
     ]
    },
    {
     "name": "stdout",
     "output_type": "stream",
     "text": [
      "pred: 0 - target: 0 - loss: 0.000 - raw pred: tensor([[ 34.9391,   4.4873,   6.9057,  10.3704, -61.4724, -54.2431, -90.4586,\n",
      "         -78.9739, -16.0433, -93.3934]], device='cuda:0')\n",
      "matching = [True] - accuracy = 1.0\n",
      "matching = [True] - accuracy = 1.0\n",
      "matching = [True] - accuracy = 1.0\n",
      "matching = [True] - accuracy = 1.0\n",
      "matching = [False] - accuracy = 0.0\n",
      "matching = [True] - accuracy = 1.0\n",
      "matching = [True] - accuracy = 1.0\n",
      "matching = [True] - accuracy = 1.0\n",
      "matching = [True] - accuracy = 1.0\n"
     ]
    },
    {
     "name": "stderr",
     "output_type": "stream",
     "text": [
      " 84%|████████▍ | 168/200 [00:00<00:00, 419.09it/s]"
     ]
    },
    {
     "name": "stdout",
     "output_type": "stream",
     "text": [
      "matching = [True] - accuracy = 1.0\n",
      "matching = [True] - accuracy = 1.0\n",
      "matching = [True] - accuracy = 1.0\n",
      "matching = [True] - accuracy = 1.0\n",
      "matching = [False] - accuracy = 0.0\n",
      "matching = [False] - accuracy = 0.0\n",
      "matching = [True] - accuracy = 1.0\n",
      "matching = [False] - accuracy = 0.0\n",
      "matching = [True] - accuracy = 1.0\n"
     ]
    },
    {
     "name": "stderr",
     "output_type": "stream",
     "text": [
      "100%|██████████| 200/200 [00:00<00:00, 417.94it/s]\n"
     ]
    },
    {
     "name": "stdout",
     "output_type": "stream",
     "text": [
      "matching = [True] - accuracy = 1.0\n",
      "matching = [True] - accuracy = 1.0\n",
      "//////////////////// Epoch: 84 ////////////////////\n"
     ]
    },
    {
     "name": "stderr",
     "output_type": "stream",
     "text": [
      "  2%|▏         | 17/800 [00:00<00:04, 167.79it/s]"
     ]
    },
    {
     "name": "stdout",
     "output_type": "stream",
     "text": [
      "pred: 1 - target: 1 - loss: 0.003 - raw pred: tensor([[-10.8736,   4.5386,  -2.7099, -10.2624,  -4.8684, -13.9824,  -2.3241,\n",
      "          -9.7605,  -2.2348,  -4.7099]], device='cuda:0',\n",
      "       grad_fn=<AddmmBackward0>)\n"
     ]
    },
    {
     "name": "stderr",
     "output_type": "stream",
     "text": [
      "100%|██████████| 800/800 [00:04<00:00, 165.43it/s]\n"
     ]
    },
    {
     "name": "stdout",
     "output_type": "stream",
     "text": [
      "//////////////////// Validation ////////////////////\n"
     ]
    },
    {
     "name": "stderr",
     "output_type": "stream",
     "text": [
      " 20%|██        | 41/200 [00:00<00:00, 404.21it/s]"
     ]
    },
    {
     "name": "stdout",
     "output_type": "stream",
     "text": [
      "pred: 4 - target: 4 - loss: 0.067 - raw pred: tensor([[-21.7483,   0.8238,  -2.7294, -10.1201,   3.5309,  -5.5723,  -7.0932,\n",
      "          -6.7375, -15.8378,  -7.9559]], device='cuda:0')\n",
      "matching = [True] - accuracy = 1.0\n",
      "matching = [False] - accuracy = 0.0\n",
      "matching = [False] - accuracy = 0.0\n",
      "matching = [False] - accuracy = 0.0\n",
      "matching = [True] - accuracy = 1.0\n",
      "matching = [True] - accuracy = 1.0\n",
      "matching = [False] - accuracy = 0.0\n",
      "matching = [True] - accuracy = 1.0\n",
      "matching = [True] - accuracy = 1.0\n"
     ]
    },
    {
     "name": "stderr",
     "output_type": "stream",
     "text": [
      " 84%|████████▍ | 168/200 [00:00<00:00, 412.08it/s]"
     ]
    },
    {
     "name": "stdout",
     "output_type": "stream",
     "text": [
      "matching = [True] - accuracy = 1.0\n",
      "matching = [False] - accuracy = 0.0\n",
      "matching = [True] - accuracy = 1.0\n",
      "matching = [False] - accuracy = 0.0\n",
      "matching = [False] - accuracy = 0.0\n",
      "matching = [True] - accuracy = 1.0\n",
      "matching = [True] - accuracy = 1.0\n",
      "matching = [False] - accuracy = 0.0\n",
      "matching = [True] - accuracy = 1.0\n"
     ]
    },
    {
     "name": "stderr",
     "output_type": "stream",
     "text": [
      "100%|██████████| 200/200 [00:00<00:00, 411.80it/s]\n"
     ]
    },
    {
     "name": "stdout",
     "output_type": "stream",
     "text": [
      "matching = [True] - accuracy = 1.0\n",
      "matching = [True] - accuracy = 1.0\n",
      "//////////////////// Epoch: 85 ////////////////////\n"
     ]
    },
    {
     "name": "stderr",
     "output_type": "stream",
     "text": [
      "  2%|▏         | 17/800 [00:00<00:04, 163.02it/s]"
     ]
    },
    {
     "name": "stdout",
     "output_type": "stream",
     "text": [
      "pred: 4 - target: 4 - loss: 0.001 - raw pred: tensor([[-32.4906,   2.8878,  -5.5894, -23.2278,   9.6905, -25.4141,  -7.6784,\n",
      "         -12.1480, -10.7267, -11.6081]], device='cuda:0',\n",
      "       grad_fn=<AddmmBackward0>)\n"
     ]
    },
    {
     "name": "stderr",
     "output_type": "stream",
     "text": [
      "100%|██████████| 800/800 [00:04<00:00, 164.76it/s]\n"
     ]
    },
    {
     "name": "stdout",
     "output_type": "stream",
     "text": [
      "//////////////////// Validation ////////////////////\n"
     ]
    },
    {
     "name": "stderr",
     "output_type": "stream",
     "text": [
      " 20%|██        | 41/200 [00:00<00:00, 405.76it/s]"
     ]
    },
    {
     "name": "stdout",
     "output_type": "stream",
     "text": [
      "pred: 9 - target: 9 - loss: 0.247 - raw pred: tensor([[-13.6282,  -3.8052,  -3.5978,  -8.6605,  -5.7235,  -8.5520,   3.0102,\n",
      "          -3.9240,  -5.0935,   4.2873]], device='cuda:0')\n",
      "matching = [True] - accuracy = 1.0\n",
      "matching = [True] - accuracy = 1.0\n",
      "matching = [True] - accuracy = 1.0\n",
      "matching = [True] - accuracy = 1.0\n",
      "matching = [False] - accuracy = 0.0\n",
      "matching = [True] - accuracy = 1.0\n",
      "matching = [True] - accuracy = 1.0\n",
      "matching = [False] - accuracy = 0.0\n",
      "matching = [True] - accuracy = 1.0\n"
     ]
    },
    {
     "name": "stderr",
     "output_type": "stream",
     "text": [
      " 82%|████████▏ | 164/200 [00:00<00:00, 407.00it/s]"
     ]
    },
    {
     "name": "stdout",
     "output_type": "stream",
     "text": [
      "matching = [True] - accuracy = 1.0\n",
      "matching = [False] - accuracy = 0.0\n",
      "matching = [True] - accuracy = 1.0\n",
      "matching = [True] - accuracy = 1.0\n",
      "matching = [True] - accuracy = 1.0\n",
      "matching = [True] - accuracy = 1.0\n",
      "matching = [True] - accuracy = 1.0\n",
      "matching = [False] - accuracy = 0.0\n",
      "matching = [True] - accuracy = 1.0\n"
     ]
    },
    {
     "name": "stderr",
     "output_type": "stream",
     "text": [
      "100%|██████████| 200/200 [00:00<00:00, 406.69it/s]\n"
     ]
    },
    {
     "name": "stdout",
     "output_type": "stream",
     "text": [
      "matching = [False] - accuracy = 0.0\n",
      "matching = [True] - accuracy = 1.0\n",
      "//////////////////// Epoch: 86 ////////////////////\n"
     ]
    },
    {
     "name": "stderr",
     "output_type": "stream",
     "text": [
      "  2%|▏         | 17/800 [00:00<00:04, 160.26it/s]"
     ]
    },
    {
     "name": "stdout",
     "output_type": "stream",
     "text": [
      "pred: 0 - target: 0 - loss: 0.000 - raw pred: tensor([[ 35.1624,   6.0907,  -1.7882,   0.3622, -59.7053, -30.6676, -43.5784,\n",
      "         -73.7367,   2.9216, -46.7866]], device='cuda:0',\n",
      "       grad_fn=<AddmmBackward0>)\n"
     ]
    },
    {
     "name": "stderr",
     "output_type": "stream",
     "text": [
      "100%|██████████| 800/800 [00:04<00:00, 166.07it/s]\n"
     ]
    },
    {
     "name": "stdout",
     "output_type": "stream",
     "text": [
      "//////////////////// Validation ////////////////////\n"
     ]
    },
    {
     "name": "stderr",
     "output_type": "stream",
     "text": [
      " 21%|██        | 42/200 [00:00<00:00, 415.13it/s]"
     ]
    },
    {
     "name": "stdout",
     "output_type": "stream",
     "text": [
      "pred: 6 - target: 9 - loss: 1.380 - raw pred: tensor([[-20.4099,  -9.1839,  -6.3168, -17.1922,  -7.2743, -13.4839,   7.6628,\n",
      "          -6.3400,  -5.1983,   6.5726]], device='cuda:0')\n",
      "matching = [False] - accuracy = 0.0\n",
      "matching = [True] - accuracy = 1.0\n",
      "matching = [True] - accuracy = 1.0\n",
      "matching = [True] - accuracy = 1.0\n",
      "matching = [True] - accuracy = 1.0\n",
      "matching = [False] - accuracy = 0.0\n",
      "matching = [True] - accuracy = 1.0\n",
      "matching = [True] - accuracy = 1.0\n",
      "matching = [True] - accuracy = 1.0\n"
     ]
    },
    {
     "name": "stderr",
     "output_type": "stream",
     "text": [
      " 84%|████████▍ | 169/200 [00:00<00:00, 418.76it/s]"
     ]
    },
    {
     "name": "stdout",
     "output_type": "stream",
     "text": [
      "matching = [False] - accuracy = 0.0\n",
      "matching = [True] - accuracy = 1.0\n",
      "matching = [False] - accuracy = 0.0\n",
      "matching = [True] - accuracy = 1.0\n",
      "matching = [False] - accuracy = 0.0\n",
      "matching = [True] - accuracy = 1.0\n",
      "matching = [False] - accuracy = 0.0\n",
      "matching = [False] - accuracy = 0.0\n",
      "matching = [False] - accuracy = 0.0\n"
     ]
    },
    {
     "name": "stderr",
     "output_type": "stream",
     "text": [
      "100%|██████████| 200/200 [00:00<00:00, 417.39it/s]\n"
     ]
    },
    {
     "name": "stdout",
     "output_type": "stream",
     "text": [
      "matching = [False] - accuracy = 0.0\n",
      "matching = [True] - accuracy = 1.0\n",
      "//////////////////// Epoch: 87 ////////////////////\n"
     ]
    },
    {
     "name": "stderr",
     "output_type": "stream",
     "text": [
      "  2%|▏         | 18/800 [00:00<00:04, 174.03it/s]"
     ]
    },
    {
     "name": "stdout",
     "output_type": "stream",
     "text": [
      "pred: 5 - target: 5 - loss: 0.002 - raw pred: tensor([[-2.3587e+01, -4.0780e+00, -2.0916e+01, -2.6001e+01, -6.1018e+00,\n",
      "          6.5375e+00, -3.6660e+00, -6.3667e-03, -9.5189e+00, -6.8372e+00]],\n",
      "       device='cuda:0', grad_fn=<AddmmBackward0>)\n"
     ]
    },
    {
     "name": "stderr",
     "output_type": "stream",
     "text": [
      "100%|██████████| 800/800 [00:04<00:00, 164.00it/s]\n"
     ]
    },
    {
     "name": "stdout",
     "output_type": "stream",
     "text": [
      "//////////////////// Validation ////////////////////\n"
     ]
    },
    {
     "name": "stderr",
     "output_type": "stream",
     "text": [
      " 21%|██        | 42/200 [00:00<00:00, 416.26it/s]"
     ]
    },
    {
     "name": "stdout",
     "output_type": "stream",
     "text": [
      "pred: 5 - target: 7 - loss: 10.990 - raw pred: tensor([[-28.7441,  -9.8339, -25.3275, -34.8027, -12.2487,  10.9368,  -7.0576,\n",
      "          -0.0528,  -9.8942, -12.5283]], device='cuda:0')\n",
      "matching = [False] - accuracy = 0.0\n",
      "matching = [False] - accuracy = 0.0\n",
      "matching = [False] - accuracy = 0.0\n",
      "matching = [True] - accuracy = 1.0\n",
      "matching = [False] - accuracy = 0.0\n",
      "matching = [True] - accuracy = 1.0\n",
      "matching = [False] - accuracy = 0.0\n",
      "matching = [False] - accuracy = 0.0\n",
      "matching = [True] - accuracy = 1.0\n"
     ]
    },
    {
     "name": "stderr",
     "output_type": "stream",
     "text": [
      " 86%|████████▌ | 171/200 [00:00<00:00, 421.00it/s]"
     ]
    },
    {
     "name": "stdout",
     "output_type": "stream",
     "text": [
      "matching = [True] - accuracy = 1.0\n",
      "matching = [False] - accuracy = 0.0\n",
      "matching = [True] - accuracy = 1.0\n",
      "matching = [True] - accuracy = 1.0\n",
      "matching = [True] - accuracy = 1.0\n",
      "matching = [True] - accuracy = 1.0\n",
      "matching = [True] - accuracy = 1.0\n",
      "matching = [False] - accuracy = 0.0\n",
      "matching = [False] - accuracy = 0.0\n"
     ]
    },
    {
     "name": "stderr",
     "output_type": "stream",
     "text": [
      "100%|██████████| 200/200 [00:00<00:00, 420.05it/s]\n"
     ]
    },
    {
     "name": "stdout",
     "output_type": "stream",
     "text": [
      "matching = [True] - accuracy = 1.0\n",
      "matching = [True] - accuracy = 1.0\n",
      "//////////////////// Epoch: 88 ////////////////////\n"
     ]
    },
    {
     "name": "stderr",
     "output_type": "stream",
     "text": [
      "  2%|▏         | 17/800 [00:00<00:04, 162.89it/s]"
     ]
    },
    {
     "name": "stdout",
     "output_type": "stream",
     "text": [
      "pred: 2 - target: 2 - loss: 0.001 - raw pred: tensor([[ -1.8432,  -4.9587,  10.9433,  -2.1947, -17.1955, -20.6403, -31.9307,\n",
      "         -33.1778,   4.1535, -29.5348]], device='cuda:0',\n",
      "       grad_fn=<AddmmBackward0>)\n"
     ]
    },
    {
     "name": "stderr",
     "output_type": "stream",
     "text": [
      "100%|██████████| 800/800 [00:04<00:00, 165.32it/s]\n"
     ]
    },
    {
     "name": "stdout",
     "output_type": "stream",
     "text": [
      "//////////////////// Validation ////////////////////\n"
     ]
    },
    {
     "name": "stderr",
     "output_type": "stream",
     "text": [
      " 21%|██        | 42/200 [00:00<00:00, 415.03it/s]"
     ]
    },
    {
     "name": "stdout",
     "output_type": "stream",
     "text": [
      "pred: 6 - target: 9 - loss: 1.315 - raw pred: tensor([[-20.7905,  -9.2474,  -5.0379, -17.6186,  -8.2826, -13.1871,   6.6413,\n",
      "          -5.9336,  -5.3302,   5.6391]], device='cuda:0')\n",
      "matching = [False] - accuracy = 0.0\n",
      "matching = [True] - accuracy = 1.0\n",
      "matching = [False] - accuracy = 0.0\n",
      "matching = [True] - accuracy = 1.0\n",
      "matching = [True] - accuracy = 1.0\n",
      "matching = [False] - accuracy = 0.0\n",
      "matching = [True] - accuracy = 1.0\n",
      "matching = [True] - accuracy = 1.0\n",
      "matching = [True] - accuracy = 1.0\n"
     ]
    },
    {
     "name": "stderr",
     "output_type": "stream",
     "text": [
      " 84%|████████▍ | 169/200 [00:00<00:00, 416.78it/s]"
     ]
    },
    {
     "name": "stdout",
     "output_type": "stream",
     "text": [
      "matching = [True] - accuracy = 1.0\n",
      "matching = [True] - accuracy = 1.0\n",
      "matching = [True] - accuracy = 1.0\n",
      "matching = [True] - accuracy = 1.0\n",
      "matching = [True] - accuracy = 1.0\n",
      "matching = [True] - accuracy = 1.0\n",
      "matching = [True] - accuracy = 1.0\n",
      "matching = [True] - accuracy = 1.0\n",
      "matching = [True] - accuracy = 1.0\n"
     ]
    },
    {
     "name": "stderr",
     "output_type": "stream",
     "text": [
      "100%|██████████| 200/200 [00:00<00:00, 415.09it/s]\n"
     ]
    },
    {
     "name": "stdout",
     "output_type": "stream",
     "text": [
      "matching = [True] - accuracy = 1.0\n",
      "matching = [True] - accuracy = 1.0\n",
      "//////////////////// Epoch: 89 ////////////////////\n"
     ]
    },
    {
     "name": "stderr",
     "output_type": "stream",
     "text": [
      "  2%|▏         | 17/800 [00:00<00:04, 165.75it/s]"
     ]
    },
    {
     "name": "stdout",
     "output_type": "stream",
     "text": [
      "pred: 8 - target: 8 - loss: 0.005 - raw pred: tensor([[ -4.2419,  -1.4630,  -2.3070,  -6.6075,  -9.0305,  -5.7391, -10.6523,\n",
      "         -23.8623,   4.3228, -13.8997]], device='cuda:0',\n",
      "       grad_fn=<AddmmBackward0>)\n"
     ]
    },
    {
     "name": "stderr",
     "output_type": "stream",
     "text": [
      "100%|██████████| 800/800 [00:04<00:00, 166.10it/s]\n"
     ]
    },
    {
     "name": "stdout",
     "output_type": "stream",
     "text": [
      "//////////////////// Validation ////////////////////\n"
     ]
    },
    {
     "name": "stderr",
     "output_type": "stream",
     "text": [
      " 22%|██▏       | 43/200 [00:00<00:00, 420.36it/s]"
     ]
    },
    {
     "name": "stdout",
     "output_type": "stream",
     "text": [
      "pred: 4 - target: 4 - loss: 0.030 - raw pred: tensor([[-17.6816,  -0.3161, -12.1502, -18.7192,   5.1640,  -8.7804,   1.4869,\n",
      "          -6.6245,  -6.4675,  -1.6962]], device='cuda:0')\n",
      "matching = [True] - accuracy = 1.0\n",
      "matching = [True] - accuracy = 1.0\n",
      "matching = [True] - accuracy = 1.0\n",
      "matching = [True] - accuracy = 1.0\n",
      "matching = [True] - accuracy = 1.0\n",
      "matching = [True] - accuracy = 1.0\n",
      "matching = [True] - accuracy = 1.0\n",
      "matching = [True] - accuracy = 1.0\n",
      "matching = [True] - accuracy = 1.0\n"
     ]
    },
    {
     "name": "stderr",
     "output_type": "stream",
     "text": [
      " 86%|████████▌ | 171/200 [00:00<00:00, 420.66it/s]"
     ]
    },
    {
     "name": "stdout",
     "output_type": "stream",
     "text": [
      "matching = [False] - accuracy = 0.0\n",
      "matching = [False] - accuracy = 0.0\n",
      "matching = [True] - accuracy = 1.0\n",
      "matching = [False] - accuracy = 0.0\n",
      "matching = [True] - accuracy = 1.0\n",
      "matching = [True] - accuracy = 1.0\n",
      "matching = [True] - accuracy = 1.0\n",
      "matching = [True] - accuracy = 1.0\n",
      "matching = [True] - accuracy = 1.0\n"
     ]
    },
    {
     "name": "stderr",
     "output_type": "stream",
     "text": [
      "100%|██████████| 200/200 [00:00<00:00, 419.81it/s]\n"
     ]
    },
    {
     "name": "stdout",
     "output_type": "stream",
     "text": [
      "matching = [True] - accuracy = 1.0\n",
      "matching = [True] - accuracy = 1.0\n",
      "//////////////////// Epoch: 90 ////////////////////\n"
     ]
    },
    {
     "name": "stderr",
     "output_type": "stream",
     "text": [
      "  2%|▏         | 17/800 [00:00<00:04, 165.44it/s]"
     ]
    },
    {
     "name": "stdout",
     "output_type": "stream",
     "text": [
      "pred: 7 - target: 7 - loss: 0.018 - raw pred: tensor([[-15.1798,  -4.0310,  -5.8329,  -5.6869,  -3.6516,  -1.9371,  -1.1615,\n",
      "           4.1245,  -6.3967,  -0.4451]], device='cuda:0',\n",
      "       grad_fn=<AddmmBackward0>)\n"
     ]
    },
    {
     "name": "stderr",
     "output_type": "stream",
     "text": [
      "100%|██████████| 800/800 [00:04<00:00, 167.07it/s]\n"
     ]
    },
    {
     "name": "stdout",
     "output_type": "stream",
     "text": [
      "//////////////////// Validation ////////////////////\n"
     ]
    },
    {
     "name": "stderr",
     "output_type": "stream",
     "text": [
      " 20%|██        | 41/200 [00:00<00:00, 407.32it/s]"
     ]
    },
    {
     "name": "stdout",
     "output_type": "stream",
     "text": [
      "pred: 7 - target: 5 - loss: 14.055 - raw pred: tensor([[-24.6466,   2.2528, -13.0994, -17.0114,  -3.9933, -10.7046, -16.8249,\n",
      "           2.9430, -12.5171, -23.5538]], device='cuda:0')\n",
      "matching = [False] - accuracy = 0.0\n",
      "matching = [False] - accuracy = 0.0\n",
      "matching = [True] - accuracy = 1.0\n",
      "matching = [True] - accuracy = 1.0\n",
      "matching = [True] - accuracy = 1.0\n",
      "matching = [True] - accuracy = 1.0\n",
      "matching = [True] - accuracy = 1.0\n",
      "matching = [True] - accuracy = 1.0\n",
      "matching = [False] - accuracy = 0.0\n"
     ]
    },
    {
     "name": "stderr",
     "output_type": "stream",
     "text": [
      " 84%|████████▎ | 167/200 [00:00<00:00, 411.86it/s]"
     ]
    },
    {
     "name": "stdout",
     "output_type": "stream",
     "text": [
      "matching = [True] - accuracy = 1.0\n",
      "matching = [False] - accuracy = 0.0\n",
      "matching = [False] - accuracy = 0.0\n",
      "matching = [False] - accuracy = 0.0\n",
      "matching = [False] - accuracy = 0.0\n",
      "matching = [False] - accuracy = 0.0\n",
      "matching = [True] - accuracy = 1.0\n",
      "matching = [True] - accuracy = 1.0\n",
      "matching = [True] - accuracy = 1.0\n"
     ]
    },
    {
     "name": "stderr",
     "output_type": "stream",
     "text": [
      "100%|██████████| 200/200 [00:00<00:00, 409.94it/s]\n"
     ]
    },
    {
     "name": "stdout",
     "output_type": "stream",
     "text": [
      "matching = [False] - accuracy = 0.0\n",
      "matching = [True] - accuracy = 1.0\n",
      "//////////////////// Epoch: 91 ////////////////////\n"
     ]
    },
    {
     "name": "stderr",
     "output_type": "stream",
     "text": [
      "  2%|▏         | 17/800 [00:00<00:04, 167.53it/s]"
     ]
    },
    {
     "name": "stdout",
     "output_type": "stream",
     "text": [
      "pred: 1 - target: 1 - loss: 0.025 - raw pred: tensor([[-11.3320,   3.4891,  -3.0708, -14.7358,  -1.4827,  -1.0072,  -4.0941,\n",
      "          -2.5148,  -2.4711,  -9.0213]], device='cuda:0',\n",
      "       grad_fn=<AddmmBackward0>)\n"
     ]
    },
    {
     "name": "stderr",
     "output_type": "stream",
     "text": [
      "100%|██████████| 800/800 [00:04<00:00, 166.37it/s]\n"
     ]
    },
    {
     "name": "stdout",
     "output_type": "stream",
     "text": [
      "//////////////////// Validation ////////////////////\n"
     ]
    },
    {
     "name": "stderr",
     "output_type": "stream",
     "text": [
      " 21%|██        | 42/200 [00:00<00:00, 410.79it/s]"
     ]
    },
    {
     "name": "stdout",
     "output_type": "stream",
     "text": [
      "pred: 4 - target: 4 - loss: 0.650 - raw pred: tensor([[-15.2704,   1.0539,  -8.7610,  -2.7431,   1.1668,  -5.2325, -13.5137,\n",
      "          -7.9600, -10.2844, -14.0844]], device='cuda:0')\n",
      "matching = [True] - accuracy = 1.0\n",
      "matching = [True] - accuracy = 1.0\n",
      "matching = [True] - accuracy = 1.0\n",
      "matching = [True] - accuracy = 1.0\n",
      "matching = [True] - accuracy = 1.0\n",
      "matching = [False] - accuracy = 0.0\n",
      "matching = [True] - accuracy = 1.0\n",
      "matching = [True] - accuracy = 1.0\n",
      "matching = [True] - accuracy = 1.0\n"
     ]
    },
    {
     "name": "stderr",
     "output_type": "stream",
     "text": [
      " 84%|████████▍ | 169/200 [00:00<00:00, 417.99it/s]"
     ]
    },
    {
     "name": "stdout",
     "output_type": "stream",
     "text": [
      "matching = [False] - accuracy = 0.0\n",
      "matching = [False] - accuracy = 0.0\n",
      "matching = [True] - accuracy = 1.0\n",
      "matching = [False] - accuracy = 0.0\n",
      "matching = [False] - accuracy = 0.0\n",
      "matching = [True] - accuracy = 1.0\n",
      "matching = [True] - accuracy = 1.0\n",
      "matching = [False] - accuracy = 0.0\n",
      "matching = [False] - accuracy = 0.0\n"
     ]
    },
    {
     "name": "stderr",
     "output_type": "stream",
     "text": [
      "100%|██████████| 200/200 [00:00<00:00, 415.79it/s]\n"
     ]
    },
    {
     "name": "stdout",
     "output_type": "stream",
     "text": [
      "matching = [True] - accuracy = 1.0\n",
      "matching = [True] - accuracy = 1.0\n",
      "//////////////////// Epoch: 92 ////////////////////\n"
     ]
    },
    {
     "name": "stderr",
     "output_type": "stream",
     "text": [
      "  2%|▏         | 18/800 [00:00<00:04, 173.03it/s]"
     ]
    },
    {
     "name": "stdout",
     "output_type": "stream",
     "text": [
      "pred: 5 - target: 5 - loss: 0.044 - raw pred: tensor([[-19.3802,  -9.8846, -13.3374,  -5.1345,  -8.5011,   8.0790, -13.2130,\n",
      "           4.9765, -12.9358, -20.6971]], device='cuda:0',\n",
      "       grad_fn=<AddmmBackward0>)\n"
     ]
    },
    {
     "name": "stderr",
     "output_type": "stream",
     "text": [
      "100%|██████████| 800/800 [00:04<00:00, 164.92it/s]\n"
     ]
    },
    {
     "name": "stdout",
     "output_type": "stream",
     "text": [
      "//////////////////// Validation ////////////////////\n"
     ]
    },
    {
     "name": "stderr",
     "output_type": "stream",
     "text": [
      " 21%|██        | 42/200 [00:00<00:00, 412.67it/s]"
     ]
    },
    {
     "name": "stdout",
     "output_type": "stream",
     "text": [
      "pred: 8 - target: 2 - loss: 0.803 - raw pred: tensor([[ -5.1540,  -0.4166,   5.7759,  -4.7685, -12.0194, -18.4737, -12.6690,\n",
      "         -19.5375,   5.9839, -11.8316]], device='cuda:0')\n",
      "matching = [False] - accuracy = 0.0\n",
      "matching = [True] - accuracy = 1.0\n",
      "matching = [True] - accuracy = 1.0\n",
      "matching = [False] - accuracy = 0.0\n",
      "matching = [True] - accuracy = 1.0\n",
      "matching = [True] - accuracy = 1.0\n",
      "matching = [False] - accuracy = 0.0\n",
      "matching = [False] - accuracy = 0.0\n",
      "matching = [True] - accuracy = 1.0\n"
     ]
    },
    {
     "name": "stderr",
     "output_type": "stream",
     "text": [
      " 84%|████████▍ | 168/200 [00:00<00:00, 417.55it/s]"
     ]
    },
    {
     "name": "stdout",
     "output_type": "stream",
     "text": [
      "matching = [True] - accuracy = 1.0\n",
      "matching = [False] - accuracy = 0.0\n",
      "matching = [True] - accuracy = 1.0\n",
      "matching = [True] - accuracy = 1.0\n",
      "matching = [False] - accuracy = 0.0\n",
      "matching = [False] - accuracy = 0.0\n",
      "matching = [False] - accuracy = 0.0\n",
      "matching = [True] - accuracy = 1.0\n",
      "matching = [False] - accuracy = 0.0\n"
     ]
    },
    {
     "name": "stderr",
     "output_type": "stream",
     "text": [
      "100%|██████████| 200/200 [00:00<00:00, 415.74it/s]\n"
     ]
    },
    {
     "name": "stdout",
     "output_type": "stream",
     "text": [
      "matching = [False] - accuracy = 0.0\n",
      "matching = [False] - accuracy = 0.0\n",
      "//////////////////// Epoch: 93 ////////////////////\n"
     ]
    },
    {
     "name": "stderr",
     "output_type": "stream",
     "text": [
      "  2%|▏         | 18/800 [00:00<00:04, 175.13it/s]"
     ]
    },
    {
     "name": "stdout",
     "output_type": "stream",
     "text": [
      "pred: 4 - target: 4 - loss: 0.000 - raw pred: tensor([[-17.0004,  -1.3205,  -4.6645, -12.6914,  10.5281,  -6.7999,  -7.4926,\n",
      "          -9.8437,  -3.3293, -12.2516]], device='cuda:0',\n",
      "       grad_fn=<AddmmBackward0>)\n"
     ]
    },
    {
     "name": "stderr",
     "output_type": "stream",
     "text": [
      "100%|██████████| 800/800 [00:04<00:00, 173.77it/s]\n"
     ]
    },
    {
     "name": "stdout",
     "output_type": "stream",
     "text": [
      "//////////////////// Validation ////////////////////\n"
     ]
    },
    {
     "name": "stderr",
     "output_type": "stream",
     "text": [
      " 21%|██        | 42/200 [00:00<00:00, 419.10it/s]"
     ]
    },
    {
     "name": "stdout",
     "output_type": "stream",
     "text": [
      "pred: 3 - target: 3 - loss: 0.000 - raw pred: tensor([[ -6.3616, -18.0152,  -3.0667,  18.6444, -31.5077,   0.5304, -33.1196,\n",
      "         -32.2065,  -9.1567, -33.9666]], device='cuda:0')\n",
      "matching = [True] - accuracy = 1.0\n",
      "matching = [True] - accuracy = 1.0\n",
      "matching = [False] - accuracy = 0.0\n",
      "matching = [True] - accuracy = 1.0\n",
      "matching = [True] - accuracy = 1.0\n",
      "matching = [True] - accuracy = 1.0\n",
      "matching = [True] - accuracy = 1.0\n",
      "matching = [True] - accuracy = 1.0\n",
      "matching = [False] - accuracy = 0.0\n"
     ]
    },
    {
     "name": "stderr",
     "output_type": "stream",
     "text": [
      " 85%|████████▌ | 170/200 [00:00<00:00, 421.89it/s]"
     ]
    },
    {
     "name": "stdout",
     "output_type": "stream",
     "text": [
      "matching = [True] - accuracy = 1.0\n",
      "matching = [True] - accuracy = 1.0\n",
      "matching = [True] - accuracy = 1.0\n",
      "matching = [True] - accuracy = 1.0\n",
      "matching = [True] - accuracy = 1.0\n",
      "matching = [True] - accuracy = 1.0\n",
      "matching = [True] - accuracy = 1.0\n",
      "matching = [True] - accuracy = 1.0\n",
      "matching = [True] - accuracy = 1.0\n"
     ]
    },
    {
     "name": "stderr",
     "output_type": "stream",
     "text": [
      "100%|██████████| 200/200 [00:00<00:00, 420.10it/s]\n"
     ]
    },
    {
     "name": "stdout",
     "output_type": "stream",
     "text": [
      "matching = [True] - accuracy = 1.0\n",
      "matching = [False] - accuracy = 0.0\n",
      "//////////////////// Epoch: 94 ////////////////////\n"
     ]
    },
    {
     "name": "stderr",
     "output_type": "stream",
     "text": [
      "  2%|▏         | 17/800 [00:00<00:04, 166.72it/s]"
     ]
    },
    {
     "name": "stdout",
     "output_type": "stream",
     "text": [
      "pred: 2 - target: 2 - loss: 0.421 - raw pred: tensor([[ -0.0452,  -3.6329,   4.7146,  -6.1559, -12.0949, -10.5133, -10.5271,\n",
      "         -16.4048,   4.0512, -11.9604]], device='cuda:0',\n",
      "       grad_fn=<AddmmBackward0>)\n"
     ]
    },
    {
     "name": "stderr",
     "output_type": "stream",
     "text": [
      "100%|██████████| 800/800 [00:04<00:00, 169.24it/s]\n"
     ]
    },
    {
     "name": "stdout",
     "output_type": "stream",
     "text": [
      "//////////////////// Validation ////////////////////\n"
     ]
    },
    {
     "name": "stderr",
     "output_type": "stream",
     "text": [
      " 21%|██        | 42/200 [00:00<00:00, 417.32it/s]"
     ]
    },
    {
     "name": "stdout",
     "output_type": "stream",
     "text": [
      "pred: 5 - target: 5 - loss: 0.062 - raw pred: tensor([[ -9.6611,  -4.9591,  -6.5318,  -6.1110,  -2.4040,   3.8919,  -5.9159,\n",
      "           1.1077,  -9.2918, -12.0643]], device='cuda:0')\n",
      "matching = [True] - accuracy = 1.0\n",
      "matching = [True] - accuracy = 1.0\n",
      "matching = [True] - accuracy = 1.0\n",
      "matching = [False] - accuracy = 0.0\n",
      "matching = [True] - accuracy = 1.0\n",
      "matching = [True] - accuracy = 1.0\n",
      "matching = [False] - accuracy = 0.0\n",
      "matching = [True] - accuracy = 1.0\n",
      "matching = [True] - accuracy = 1.0\n"
     ]
    },
    {
     "name": "stderr",
     "output_type": "stream",
     "text": [
      " 84%|████████▍ | 169/200 [00:00<00:00, 417.32it/s]"
     ]
    },
    {
     "name": "stdout",
     "output_type": "stream",
     "text": [
      "matching = [False] - accuracy = 0.0\n",
      "matching = [False] - accuracy = 0.0\n",
      "matching = [False] - accuracy = 0.0\n",
      "matching = [True] - accuracy = 1.0\n",
      "matching = [False] - accuracy = 0.0\n",
      "matching = [True] - accuracy = 1.0\n",
      "matching = [True] - accuracy = 1.0\n",
      "matching = [True] - accuracy = 1.0\n",
      "matching = [False] - accuracy = 0.0\n"
     ]
    },
    {
     "name": "stderr",
     "output_type": "stream",
     "text": [
      "100%|██████████| 200/200 [00:00<00:00, 415.55it/s]\n"
     ]
    },
    {
     "name": "stdout",
     "output_type": "stream",
     "text": [
      "matching = [True] - accuracy = 1.0\n",
      "matching = [False] - accuracy = 0.0\n",
      "//////////////////// Epoch: 95 ////////////////////\n"
     ]
    },
    {
     "name": "stderr",
     "output_type": "stream",
     "text": [
      "  2%|▏         | 17/800 [00:00<00:04, 169.25it/s]"
     ]
    },
    {
     "name": "stdout",
     "output_type": "stream",
     "text": [
      "pred: 1 - target: 1 - loss: 0.003 - raw pred: tensor([[-12.7386,   4.6659,  -8.9588, -17.0426,  -1.2315,  -9.9953, -22.0288,\n",
      "          -7.9394, -20.8786, -27.2057]], device='cuda:0',\n",
      "       grad_fn=<AddmmBackward0>)\n"
     ]
    },
    {
     "name": "stderr",
     "output_type": "stream",
     "text": [
      "100%|██████████| 800/800 [00:04<00:00, 168.37it/s]\n"
     ]
    },
    {
     "name": "stdout",
     "output_type": "stream",
     "text": [
      "//////////////////// Validation ////////////////////\n"
     ]
    },
    {
     "name": "stderr",
     "output_type": "stream",
     "text": [
      " 22%|██▏       | 43/200 [00:00<00:00, 420.83it/s]"
     ]
    },
    {
     "name": "stdout",
     "output_type": "stream",
     "text": [
      "pred: 0 - target: 4 - loss: 22.404 - raw pred: tensor([[  6.3395,  -3.2283,   4.1841, -18.8439, -15.9544, -35.5088, -39.9654,\n",
      "         -35.3245,  -9.1386, -49.6259]], device='cuda:0')\n",
      "matching = [False] - accuracy = 0.0\n",
      "matching = [False] - accuracy = 0.0\n",
      "matching = [True] - accuracy = 1.0\n",
      "matching = [False] - accuracy = 0.0\n",
      "matching = [True] - accuracy = 1.0\n",
      "matching = [True] - accuracy = 1.0\n",
      "matching = [True] - accuracy = 1.0\n",
      "matching = [False] - accuracy = 0.0\n",
      "matching = [False] - accuracy = 0.0\n"
     ]
    },
    {
     "name": "stderr",
     "output_type": "stream",
     "text": [
      " 86%|████████▌ | 172/200 [00:00<00:00, 422.05it/s]"
     ]
    },
    {
     "name": "stdout",
     "output_type": "stream",
     "text": [
      "matching = [True] - accuracy = 1.0\n",
      "matching = [True] - accuracy = 1.0\n",
      "matching = [True] - accuracy = 1.0\n",
      "matching = [False] - accuracy = 0.0\n",
      "matching = [True] - accuracy = 1.0\n",
      "matching = [False] - accuracy = 0.0\n",
      "matching = [True] - accuracy = 1.0\n",
      "matching = [False] - accuracy = 0.0\n",
      "matching = [False] - accuracy = 0.0\n"
     ]
    },
    {
     "name": "stderr",
     "output_type": "stream",
     "text": [
      "100%|██████████| 200/200 [00:00<00:00, 420.59it/s]\n"
     ]
    },
    {
     "name": "stdout",
     "output_type": "stream",
     "text": [
      "matching = [False] - accuracy = 0.0\n",
      "matching = [True] - accuracy = 1.0\n",
      "//////////////////// Epoch: 96 ////////////////////\n"
     ]
    },
    {
     "name": "stderr",
     "output_type": "stream",
     "text": [
      "  2%|▏         | 18/800 [00:00<00:04, 171.05it/s]"
     ]
    },
    {
     "name": "stdout",
     "output_type": "stream",
     "text": [
      "pred: 5 - target: 5 - loss: 0.000 - raw pred: tensor([[-26.4037, -12.8841, -21.9817, -24.0504,  -3.9940,   9.4940,  -5.8523,\n",
      "          -5.4215, -23.9922, -15.2612]], device='cuda:0',\n",
      "       grad_fn=<AddmmBackward0>)\n"
     ]
    },
    {
     "name": "stderr",
     "output_type": "stream",
     "text": [
      "100%|██████████| 800/800 [00:04<00:00, 166.67it/s]\n"
     ]
    },
    {
     "name": "stdout",
     "output_type": "stream",
     "text": [
      "//////////////////// Validation ////////////////////\n"
     ]
    },
    {
     "name": "stderr",
     "output_type": "stream",
     "text": [
      " 22%|██▏       | 43/200 [00:00<00:00, 421.44it/s]"
     ]
    },
    {
     "name": "stdout",
     "output_type": "stream",
     "text": [
      "pred: 3 - target: 3 - loss: 0.004 - raw pred: tensor([[  1.9311,  -1.3374,  -0.8300,   7.4471, -18.2826,  -7.2560, -24.7863,\n",
      "         -21.2417,  -3.3528, -25.6472]], device='cuda:0')\n",
      "matching = [True] - accuracy = 1.0\n",
      "matching = [False] - accuracy = 0.0\n",
      "matching = [True] - accuracy = 1.0\n",
      "matching = [True] - accuracy = 1.0\n",
      "matching = [False] - accuracy = 0.0\n",
      "matching = [False] - accuracy = 0.0\n",
      "matching = [False] - accuracy = 0.0\n",
      "matching = [False] - accuracy = 0.0\n",
      "matching = [True] - accuracy = 1.0\n"
     ]
    },
    {
     "name": "stderr",
     "output_type": "stream",
     "text": [
      " 86%|████████▌ | 172/200 [00:00<00:00, 421.30it/s]"
     ]
    },
    {
     "name": "stdout",
     "output_type": "stream",
     "text": [
      "matching = [True] - accuracy = 1.0\n",
      "matching = [True] - accuracy = 1.0\n",
      "matching = [False] - accuracy = 0.0\n",
      "matching = [True] - accuracy = 1.0\n",
      "matching = [True] - accuracy = 1.0\n",
      "matching = [True] - accuracy = 1.0\n",
      "matching = [False] - accuracy = 0.0\n",
      "matching = [True] - accuracy = 1.0\n",
      "matching = [True] - accuracy = 1.0\n"
     ]
    },
    {
     "name": "stderr",
     "output_type": "stream",
     "text": [
      "100%|██████████| 200/200 [00:00<00:00, 420.03it/s]\n"
     ]
    },
    {
     "name": "stdout",
     "output_type": "stream",
     "text": [
      "matching = [False] - accuracy = 0.0\n",
      "matching = [True] - accuracy = 1.0\n",
      "//////////////////// Epoch: 97 ////////////////////\n"
     ]
    },
    {
     "name": "stderr",
     "output_type": "stream",
     "text": [
      "  2%|▏         | 17/800 [00:00<00:04, 167.91it/s]"
     ]
    },
    {
     "name": "stdout",
     "output_type": "stream",
     "text": [
      "pred: 6 - target: 6 - loss: 0.139 - raw pred: tensor([[-21.6586,  -4.7497,  -8.3223, -12.6721,  -0.8981, -10.9435,   4.1143,\n",
      "          -3.9798,  -8.8100,   2.1623]], device='cuda:0',\n",
      "       grad_fn=<AddmmBackward0>)\n"
     ]
    },
    {
     "name": "stderr",
     "output_type": "stream",
     "text": [
      "100%|██████████| 800/800 [00:04<00:00, 167.20it/s]\n"
     ]
    },
    {
     "name": "stdout",
     "output_type": "stream",
     "text": [
      "//////////////////// Validation ////////////////////\n"
     ]
    },
    {
     "name": "stderr",
     "output_type": "stream",
     "text": [
      " 21%|██        | 42/200 [00:00<00:00, 414.85it/s]"
     ]
    },
    {
     "name": "stdout",
     "output_type": "stream",
     "text": [
      "pred: 1 - target: 8 - loss: 19.531 - raw pred: tensor([[-11.3493,   6.1366, -10.9743, -10.7567,  -5.3549,  -9.7248, -21.4244,\n",
      "          -3.9757, -13.3947, -27.8486]], device='cuda:0')\n",
      "matching = [False] - accuracy = 0.0\n",
      "matching = [True] - accuracy = 1.0\n",
      "matching = [True] - accuracy = 1.0\n",
      "matching = [True] - accuracy = 1.0\n",
      "matching = [False] - accuracy = 0.0\n",
      "matching = [True] - accuracy = 1.0\n",
      "matching = [False] - accuracy = 0.0\n",
      "matching = [True] - accuracy = 1.0\n",
      "matching = [False] - accuracy = 0.0\n"
     ]
    },
    {
     "name": "stderr",
     "output_type": "stream",
     "text": [
      " 85%|████████▌ | 170/200 [00:00<00:00, 420.95it/s]"
     ]
    },
    {
     "name": "stdout",
     "output_type": "stream",
     "text": [
      "matching = [False] - accuracy = 0.0\n",
      "matching = [True] - accuracy = 1.0\n",
      "matching = [True] - accuracy = 1.0\n",
      "matching = [True] - accuracy = 1.0\n",
      "matching = [True] - accuracy = 1.0\n",
      "matching = [True] - accuracy = 1.0\n",
      "matching = [True] - accuracy = 1.0\n",
      "matching = [True] - accuracy = 1.0\n",
      "matching = [False] - accuracy = 0.0\n"
     ]
    },
    {
     "name": "stderr",
     "output_type": "stream",
     "text": [
      "100%|██████████| 200/200 [00:00<00:00, 419.29it/s]\n"
     ]
    },
    {
     "name": "stdout",
     "output_type": "stream",
     "text": [
      "matching = [False] - accuracy = 0.0\n",
      "matching = [False] - accuracy = 0.0\n",
      "//////////////////// Epoch: 98 ////////////////////\n"
     ]
    },
    {
     "name": "stderr",
     "output_type": "stream",
     "text": [
      "  2%|▏         | 17/800 [00:00<00:04, 168.24it/s]"
     ]
    },
    {
     "name": "stdout",
     "output_type": "stream",
     "text": [
      "pred: 0 - target: 0 - loss: 0.000 - raw pred: tensor([[ 17.9390,   9.1262,  -3.6472, -20.3274, -39.8677, -25.4085, -29.3918,\n",
      "         -56.0536,  -1.2481, -27.4561]], device='cuda:0',\n",
      "       grad_fn=<AddmmBackward0>)\n"
     ]
    },
    {
     "name": "stderr",
     "output_type": "stream",
     "text": [
      "100%|██████████| 800/800 [00:04<00:00, 165.40it/s]\n"
     ]
    },
    {
     "name": "stdout",
     "output_type": "stream",
     "text": [
      "//////////////////// Validation ////////////////////\n"
     ]
    },
    {
     "name": "stderr",
     "output_type": "stream",
     "text": [
      " 21%|██        | 42/200 [00:00<00:00, 418.80it/s]"
     ]
    },
    {
     "name": "stdout",
     "output_type": "stream",
     "text": [
      "pred: 8 - target: 8 - loss: 0.226 - raw pred: tensor([[ -0.4427,  -3.5675,   6.2871,  -7.3511,  -7.1332, -17.8875, -15.9372,\n",
      "         -23.2743,   7.6594, -14.9991]], device='cuda:0')\n",
      "matching = [True] - accuracy = 1.0\n",
      "matching = [False] - accuracy = 0.0\n",
      "matching = [True] - accuracy = 1.0\n",
      "matching = [False] - accuracy = 0.0\n",
      "matching = [True] - accuracy = 1.0\n",
      "matching = [True] - accuracy = 1.0\n",
      "matching = [True] - accuracy = 1.0\n",
      "matching = [True] - accuracy = 1.0\n",
      "matching = [True] - accuracy = 1.0\n"
     ]
    },
    {
     "name": "stderr",
     "output_type": "stream",
     "text": [
      " 85%|████████▌ | 170/200 [00:00<00:00, 421.98it/s]"
     ]
    },
    {
     "name": "stdout",
     "output_type": "stream",
     "text": [
      "matching = [True] - accuracy = 1.0\n",
      "matching = [False] - accuracy = 0.0\n",
      "matching = [True] - accuracy = 1.0\n",
      "matching = [False] - accuracy = 0.0\n",
      "matching = [True] - accuracy = 1.0\n",
      "matching = [True] - accuracy = 1.0\n",
      "matching = [True] - accuracy = 1.0\n",
      "matching = [True] - accuracy = 1.0\n",
      "matching = [True] - accuracy = 1.0\n"
     ]
    },
    {
     "name": "stderr",
     "output_type": "stream",
     "text": [
      "100%|██████████| 200/200 [00:00<00:00, 418.47it/s]\n"
     ]
    },
    {
     "name": "stdout",
     "output_type": "stream",
     "text": [
      "matching = [True] - accuracy = 1.0\n",
      "matching = [True] - accuracy = 1.0\n",
      "//////////////////// Epoch: 99 ////////////////////\n"
     ]
    },
    {
     "name": "stderr",
     "output_type": "stream",
     "text": [
      "  2%|▏         | 17/800 [00:00<00:04, 164.25it/s]"
     ]
    },
    {
     "name": "stdout",
     "output_type": "stream",
     "text": [
      "pred: 5 - target: 5 - loss: 0.069 - raw pred: tensor([[-11.1859,  -1.3999,  -7.8199, -10.3683,  -8.4515,   3.1744, -10.5613,\n",
      "           0.3524,  -3.2739, -16.5316]], device='cuda:0',\n",
      "       grad_fn=<AddmmBackward0>)\n"
     ]
    },
    {
     "name": "stderr",
     "output_type": "stream",
     "text": [
      "100%|██████████| 800/800 [00:04<00:00, 165.62it/s]\n"
     ]
    },
    {
     "name": "stdout",
     "output_type": "stream",
     "text": [
      "//////////////////// Validation ////////////////////\n"
     ]
    },
    {
     "name": "stderr",
     "output_type": "stream",
     "text": [
      " 21%|██        | 42/200 [00:00<00:00, 414.02it/s]"
     ]
    },
    {
     "name": "stdout",
     "output_type": "stream",
     "text": [
      "pred: 7 - target: 7 - loss: 0.194 - raw pred: tensor([[-15.6306,  -7.4405,  -7.0894,  -3.3550,  -2.8554,   0.2885,  -6.2710,\n",
      "           1.8996,  -8.5351,  -7.7891]], device='cuda:0')\n",
      "matching = [True] - accuracy = 1.0\n",
      "matching = [False] - accuracy = 0.0\n",
      "matching = [False] - accuracy = 0.0\n",
      "matching = [False] - accuracy = 0.0\n",
      "matching = [True] - accuracy = 1.0\n",
      "matching = [True] - accuracy = 1.0\n",
      "matching = [True] - accuracy = 1.0\n",
      "matching = [False] - accuracy = 0.0\n",
      "matching = [True] - accuracy = 1.0\n"
     ]
    },
    {
     "name": "stderr",
     "output_type": "stream",
     "text": [
      " 84%|████████▍ | 168/200 [00:00<00:00, 416.01it/s]"
     ]
    },
    {
     "name": "stdout",
     "output_type": "stream",
     "text": [
      "matching = [True] - accuracy = 1.0\n",
      "matching = [True] - accuracy = 1.0\n",
      "matching = [True] - accuracy = 1.0\n",
      "matching = [False] - accuracy = 0.0\n",
      "matching = [True] - accuracy = 1.0\n",
      "matching = [True] - accuracy = 1.0\n",
      "matching = [True] - accuracy = 1.0\n",
      "matching = [True] - accuracy = 1.0\n",
      "matching = [True] - accuracy = 1.0\n"
     ]
    },
    {
     "name": "stderr",
     "output_type": "stream",
     "text": [
      "100%|██████████| 200/200 [00:00<00:00, 415.66it/s]\n"
     ]
    },
    {
     "name": "stdout",
     "output_type": "stream",
     "text": [
      "matching = [True] - accuracy = 1.0\n",
      "matching = [False] - accuracy = 0.0\n",
      "//////////////////// Epoch: 100 ////////////////////\n"
     ]
    },
    {
     "name": "stderr",
     "output_type": "stream",
     "text": [
      "  2%|▏         | 17/800 [00:00<00:04, 163.69it/s]"
     ]
    },
    {
     "name": "stdout",
     "output_type": "stream",
     "text": [
      "pred: 7 - target: 7 - loss: 0.002 - raw pred: tensor([[-15.3646,  -4.4233,  -7.5378,  -4.2735, -12.3554,   0.3574,  -8.1408,\n",
      "           6.7194,  -4.8249, -14.5982]], device='cuda:0',\n",
      "       grad_fn=<AddmmBackward0>)\n"
     ]
    },
    {
     "name": "stderr",
     "output_type": "stream",
     "text": [
      "100%|██████████| 800/800 [00:04<00:00, 166.48it/s]\n"
     ]
    },
    {
     "name": "stdout",
     "output_type": "stream",
     "text": [
      "//////////////////// Validation ////////////////////\n"
     ]
    },
    {
     "name": "stderr",
     "output_type": "stream",
     "text": [
      " 21%|██        | 42/200 [00:00<00:00, 418.15it/s]"
     ]
    },
    {
     "name": "stdout",
     "output_type": "stream",
     "text": [
      "pred: 4 - target: 4 - loss: 0.000 - raw pred: tensor([[-13.7551,   0.1119,  -9.4178, -21.1690,   8.5424, -11.8197,  -4.2505,\n",
      "         -13.6624,  -6.3647, -10.3923]], device='cuda:0')\n",
      "matching = [True] - accuracy = 1.0\n",
      "matching = [False] - accuracy = 0.0\n",
      "matching = [True] - accuracy = 1.0\n",
      "matching = [False] - accuracy = 0.0\n",
      "matching = [False] - accuracy = 0.0\n",
      "matching = [False] - accuracy = 0.0\n",
      "matching = [True] - accuracy = 1.0\n",
      "matching = [False] - accuracy = 0.0\n",
      "matching = [False] - accuracy = 0.0\n"
     ]
    },
    {
     "name": "stderr",
     "output_type": "stream",
     "text": [
      " 86%|████████▌ | 171/200 [00:00<00:00, 424.82it/s]"
     ]
    },
    {
     "name": "stdout",
     "output_type": "stream",
     "text": [
      "matching = [True] - accuracy = 1.0\n",
      "matching = [True] - accuracy = 1.0\n",
      "matching = [False] - accuracy = 0.0\n",
      "matching = [False] - accuracy = 0.0\n",
      "matching = [True] - accuracy = 1.0\n",
      "matching = [True] - accuracy = 1.0\n",
      "matching = [True] - accuracy = 1.0\n",
      "matching = [True] - accuracy = 1.0\n",
      "matching = [True] - accuracy = 1.0\n"
     ]
    },
    {
     "name": "stderr",
     "output_type": "stream",
     "text": [
      "100%|██████████| 200/200 [00:00<00:00, 422.34it/s]"
     ]
    },
    {
     "name": "stdout",
     "output_type": "stream",
     "text": [
      "matching = [False] - accuracy = 0.0\n",
      "matching = [False] - accuracy = 0.0\n"
     ]
    },
    {
     "name": "stderr",
     "output_type": "stream",
     "text": [
      "\n"
     ]
    },
    {
     "data": {
      "text/html": [],
      "text/plain": [
       "<IPython.core.display.HTML object>"
      ]
     },
     "metadata": {},
     "output_type": "display_data"
    },
    {
     "data": {
      "text/html": [
       "<br>    <style><br>        .wandb-row {<br>            display: flex;<br>            flex-direction: row;<br>            flex-wrap: wrap;<br>            justify-content: flex-start;<br>            width: 100%;<br>        }<br>        .wandb-col {<br>            display: flex;<br>            flex-direction: column;<br>            flex-basis: 100%;<br>            flex: 1;<br>            padding: 10px;<br>        }<br>    </style><br><div class=\"wandb-row\"><div class=\"wandb-col\"><h3>Run history:</h3><br/><table class=\"wandb\"><tr><td>accuracy</td><td>▁▁▂▃▃▄▄▅▄▆▆▅▆▆▆▇▇▆██▇▇▇▇█▇█▇█▇█████▇▇▇█▇</td></tr><tr><td>epoch</td><td>▁▁▁▁▂▂▂▃▃▃▄▄▄▄▄▄▄▄▅▅▅▅▆▆▆▆▆▆▆▆▆▇▇▇▇▇▇▇▇█</td></tr><tr><td>loss</td><td>▄▄▄▁▃▅▄▃▁▂▁▁▃▃▁▁▅▂▂▂▂▁▁▄▁▁▁▁▁▂▁█▂▁▁▁▃▁▁▁</td></tr><tr><td>step</td><td>▁▁▁▁▁▁▁▁▁▁▁▁▁▁▁▁▁▁▁▁▁▁▁▁▁▁▁▁▁▁▁▁▁▁▁▁▁▁▁▁</td></tr><tr><td>val_loss</td><td>▅▄▃▂▂▂▂▂▄▄▁▁▂▂▂▂▁▁▂▂▃▆▄▅▅▃▄▅▃▃█▅▇▅▄▅▅▅▆▅</td></tr></table><br/></div><div class=\"wandb-col\"><h3>Run summary:</h3><br/><table class=\"wandb\"><tr><td>accuracy</td><td>0.62</td></tr><tr><td>epoch</td><td>99</td></tr><tr><td>loss</td><td>0.01019</td></tr><tr><td>step</td><td>199</td></tr><tr><td>val_loss</td><td>2.00443</td></tr></table><br/></div></div>"
      ],
      "text/plain": [
       "<IPython.core.display.HTML object>"
      ]
     },
     "metadata": {},
     "output_type": "display_data"
    },
    {
     "data": {
      "text/html": [
       " View run <strong style=\"color:#cdcd00\">shrec-2025_03042025_160322</strong> at: <a href='https://wandb.ai/g-palmieri4998-cnr-imati/shrec-2025/runs/kvzt23nv' target=\"_blank\">https://wandb.ai/g-palmieri4998-cnr-imati/shrec-2025/runs/kvzt23nv</a><br> View project at: <a href='https://wandb.ai/g-palmieri4998-cnr-imati/shrec-2025' target=\"_blank\">https://wandb.ai/g-palmieri4998-cnr-imati/shrec-2025</a><br>Synced 5 W&B file(s), 0 media file(s), 0 artifact file(s) and 0 other file(s)"
      ],
      "text/plain": [
       "<IPython.core.display.HTML object>"
      ]
     },
     "metadata": {},
     "output_type": "display_data"
    },
    {
     "data": {
      "text/html": [
       "Find logs at: <code>./output/wandb/run-20250403_160345-kvzt23nv/logs</code>"
      ],
      "text/plain": [
       "<IPython.core.display.HTML object>"
      ]
     },
     "metadata": {},
     "output_type": "display_data"
    }
   ],
   "source": [
    "train(test_train_dl, test_valid_dl, env)"
   ]
  },
  {
   "cell_type": "code",
   "execution_count": 75,
   "metadata": {},
   "outputs": [],
   "source": [
    "unmount_ramdrive(mountpoint)"
   ]
  }
 ],
 "metadata": {
  "kernelspec": {
   "display_name": "SHREC",
   "language": "python",
   "name": "python3"
  },
  "language_info": {
   "codemirror_mode": {
    "name": "ipython",
    "version": 3
   },
   "file_extension": ".py",
   "mimetype": "text/x-python",
   "name": "python",
   "nbconvert_exporter": "python",
   "pygments_lexer": "ipython3",
   "version": "3.12.3"
  }
 },
 "nbformat": 4,
 "nbformat_minor": 2
}
