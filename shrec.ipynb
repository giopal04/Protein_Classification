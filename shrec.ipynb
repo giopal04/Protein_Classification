{
 "cells": [
  {
   "cell_type": "code",
   "execution_count": 2,
   "metadata": {},
   "outputs": [
    {
     "name": "stdout",
     "output_type": "stream",
     "text": [
      "CiaoSonoGiorgio\n"
     ]
    }
   ],
   "source": [
    "a = 'Ciao' \\\n",
    "    'Sono' \\\n",
    "    'Giorgio'\n",
    "\n",
    "print(a)\n",
    "\n",
    "import os\n"
   ]
  },
  {
   "cell_type": "code",
   "execution_count": 3,
   "metadata": {},
   "outputs": [
    {
     "data": {
      "text/plain": [
       "['train_set_vtk.tar.gz',\n",
       " 'train_set.csv',\n",
       " 'test_set.csv',\n",
       " 'test_set_vtk.tar.gz',\n",
       " 'train',\n",
       " 'test',\n",
       " 'train-xz']"
      ]
     },
     "execution_count": 3,
     "metadata": {},
     "output_type": "execute_result"
    }
   ],
   "source": [
    "path = '/mnt/dataset/shrec-2025-protein-classification/v2-20250331'\n",
    "\n",
    "folder = os.listdir(path); folder"
   ]
  },
  {
   "cell_type": "code",
   "execution_count": 4,
   "metadata": {},
   "outputs": [
    {
     "name": "stderr",
     "output_type": "stream",
     "text": [
      "100%|██████████| 9244/9244 [17:27<00:00,  8.82it/s]\n"
     ]
    }
   ],
   "source": [
    "import pandas as pd\n",
    "import pyvista as pv\n",
    "from tqdm import tqdm\n",
    "\n",
    "df = pd.read_csv(os.path.join(path, 'train_set.csv'))\n",
    "\n",
    "number_of_points = []\n",
    "for protein in tqdm(df['protein_id']):\n",
    "    protein += '.vtk'\n",
    "    mesh = pv.read(os.path.join(path, 'train', protein))\n",
    "    number_of_points.append(len(mesh.points))\n",
    "    del mesh\n",
    "\n",
    "df['number_of_points'] = number_of_points"
   ]
  },
  {
   "cell_type": "code",
   "execution_count": 14,
   "metadata": {},
   "outputs": [
    {
     "name": "stdout",
     "output_type": "stream",
     "text": [
      "             protein_id  class_id  number_of_points\n",
      "224   4hvu_1:A:A_model1        48              4458\n",
      "347   4hvv_1:A:A_model1        48              4362\n",
      "475   4hxj_1:A:A_model1        78              4706\n",
      "485   4rtw_1:A:A_model1        48              4398\n",
      "662   6hoh_1:C:C_model1        73              2334\n",
      "888   7lt6_1:C:C_model1        85              2468\n",
      "1268  6hoh_1:B:B_model1        73              2476\n",
      "1810  7lsw_1:C:C_model1        85              3132\n",
      "2485  5ob2_1:A:A_model1        48              4470\n",
      "2779  5ob2_1:C:C_model1        48              4168\n",
      "2860  5oav_1:C:C_model1        48              4542\n",
      "2876  7brt_1:A:A_model1        73              2464\n",
      "3740  7a37_1:B:B_model1        48              4768\n",
      "4066  4rtw_1:C:C_model1        48              4450\n",
      "4354  7lsw_1:A:A_model1        85              3212\n",
      "5055  7lsw_1:B:B_model1        85              3212\n",
      "5271  7brt_1:B:B_model1        73              2522\n",
      "5561  7lsw_1:F:F_model1        85              2774\n",
      "5663  4rtv_1:A:A_model1        48              4408\n",
      "5833  4hxj_1:B:B_model1        78              4644\n",
      "5946  1nlo_1:A:C_model1        48              4704\n",
      "6208  1qwf_1:A:A_model1        48              4832\n",
      "6605  7a3c_1:B:B_model1        48              4594\n",
      "6673  7lt6_1:B:B_model1        85              2326\n",
      "6928  7lt6_1:A:A_model1        85              2682\n",
      "7324  4rtz_1:A:A_model1        48              4770\n",
      "7496  7a38_1:B:B_model1        48              4532\n",
      "7840  5oav_1:A:A_model1        48              4578\n",
      "7842  5ob0_1:A:A_model1        48              4438\n",
      "8332  7pvt_1:A:A_model1        78              4330\n",
      "8552  5ob1_1:A:A_model1        48              4376\n",
      "8791  6hoh_1:A:A_model1        73              2218\n"
     ]
    }
   ],
   "source": [
    "print(df[df['number_of_points'] < 5000])\n",
    "\n",
    "df.to_csv('/home/giorgio/venvs/SHREC/datasets/train_set-all.csv')\n",
    "#df.describe(include='all')"
   ]
  },
  {
   "cell_type": "code",
   "execution_count": 7,
   "metadata": {},
   "outputs": [
    {
     "name": "stdout",
     "output_type": "stream",
     "text": [
      "<class 'pandas.core.frame.DataFrame'>\n",
      "RangeIndex: 9285 entries, 0 to 9284\n",
      "Data columns (total 2 columns):\n",
      " #   Column      Non-Null Count  Dtype \n",
      "---  ------      --------------  ----- \n",
      " 0   protein_id  9285 non-null   object\n",
      " 1   class_id    9285 non-null   int64 \n",
      "dtypes: int64(1), object(1)\n",
      "memory usage: 145.2+ KB\n",
      "None\n",
      "\n",
      "                protein_id     class_id\n",
      "count                 9285  9285.000000\n",
      "unique                9244          NaN\n",
      "top     1k0t_1:A:A_model24          NaN\n",
      "freq                     2          NaN\n",
      "mean                   NaN    43.296931\n",
      "std                    NaN    31.466679\n",
      "min                    NaN     0.000000\n",
      "25%                    NaN     8.000000\n",
      "50%                    NaN    41.000000\n",
      "75%                    NaN    71.000000\n",
      "max                    NaN    96.000000\n",
      "\n",
      "9285\n"
     ]
    },
    {
     "ename": "KeyError",
     "evalue": "'anonymised_protein_id'",
     "output_type": "error",
     "traceback": [
      "\u001b[31m---------------------------------------------------------------------------\u001b[39m",
      "\u001b[31mKeyError\u001b[39m                                  Traceback (most recent call last)",
      "\u001b[36mFile \u001b[39m\u001b[32m~/venvs/SHREC/lib/python3.12/site-packages/pandas/core/indexes/base.py:3805\u001b[39m, in \u001b[36mIndex.get_loc\u001b[39m\u001b[34m(self, key)\u001b[39m\n\u001b[32m   3804\u001b[39m \u001b[38;5;28;01mtry\u001b[39;00m:\n\u001b[32m-> \u001b[39m\u001b[32m3805\u001b[39m     \u001b[38;5;28;01mreturn\u001b[39;00m \u001b[38;5;28;43mself\u001b[39;49m\u001b[43m.\u001b[49m\u001b[43m_engine\u001b[49m\u001b[43m.\u001b[49m\u001b[43mget_loc\u001b[49m\u001b[43m(\u001b[49m\u001b[43mcasted_key\u001b[49m\u001b[43m)\u001b[49m\n\u001b[32m   3806\u001b[39m \u001b[38;5;28;01mexcept\u001b[39;00m \u001b[38;5;167;01mKeyError\u001b[39;00m \u001b[38;5;28;01mas\u001b[39;00m err:\n",
      "\u001b[36mFile \u001b[39m\u001b[32mindex.pyx:167\u001b[39m, in \u001b[36mpandas._libs.index.IndexEngine.get_loc\u001b[39m\u001b[34m()\u001b[39m\n",
      "\u001b[36mFile \u001b[39m\u001b[32mindex.pyx:196\u001b[39m, in \u001b[36mpandas._libs.index.IndexEngine.get_loc\u001b[39m\u001b[34m()\u001b[39m\n",
      "\u001b[36mFile \u001b[39m\u001b[32mpandas/_libs/hashtable_class_helper.pxi:7081\u001b[39m, in \u001b[36mpandas._libs.hashtable.PyObjectHashTable.get_item\u001b[39m\u001b[34m()\u001b[39m\n",
      "\u001b[36mFile \u001b[39m\u001b[32mpandas/_libs/hashtable_class_helper.pxi:7089\u001b[39m, in \u001b[36mpandas._libs.hashtable.PyObjectHashTable.get_item\u001b[39m\u001b[34m()\u001b[39m\n",
      "\u001b[31mKeyError\u001b[39m: 'anonymised_protein_id'",
      "\nThe above exception was the direct cause of the following exception:\n",
      "\u001b[31mKeyError\u001b[39m                                  Traceback (most recent call last)",
      "\u001b[36mCell\u001b[39m\u001b[36m \u001b[39m\u001b[32mIn[7]\u001b[39m\u001b[32m, line 6\u001b[39m\n\u001b[32m      4\u001b[39m \u001b[38;5;28mprint\u001b[39m()\n\u001b[32m      5\u001b[39m \u001b[38;5;28mprint\u001b[39m(\u001b[38;5;28mlen\u001b[39m(df.index))\n\u001b[32m----> \u001b[39m\u001b[32m6\u001b[39m \u001b[38;5;28mprint\u001b[39m(\u001b[43mdf\u001b[49m\u001b[43m[\u001b[49m\u001b[33;43m'\u001b[39;49m\u001b[33;43manonymised_protein_id\u001b[39;49m\u001b[33;43m'\u001b[39;49m\u001b[43m]\u001b[49m.loc[\u001b[32m0\u001b[39m])\n",
      "\u001b[36mFile \u001b[39m\u001b[32m~/venvs/SHREC/lib/python3.12/site-packages/pandas/core/frame.py:4102\u001b[39m, in \u001b[36mDataFrame.__getitem__\u001b[39m\u001b[34m(self, key)\u001b[39m\n\u001b[32m   4100\u001b[39m \u001b[38;5;28;01mif\u001b[39;00m \u001b[38;5;28mself\u001b[39m.columns.nlevels > \u001b[32m1\u001b[39m:\n\u001b[32m   4101\u001b[39m     \u001b[38;5;28;01mreturn\u001b[39;00m \u001b[38;5;28mself\u001b[39m._getitem_multilevel(key)\n\u001b[32m-> \u001b[39m\u001b[32m4102\u001b[39m indexer = \u001b[38;5;28;43mself\u001b[39;49m\u001b[43m.\u001b[49m\u001b[43mcolumns\u001b[49m\u001b[43m.\u001b[49m\u001b[43mget_loc\u001b[49m\u001b[43m(\u001b[49m\u001b[43mkey\u001b[49m\u001b[43m)\u001b[49m\n\u001b[32m   4103\u001b[39m \u001b[38;5;28;01mif\u001b[39;00m is_integer(indexer):\n\u001b[32m   4104\u001b[39m     indexer = [indexer]\n",
      "\u001b[36mFile \u001b[39m\u001b[32m~/venvs/SHREC/lib/python3.12/site-packages/pandas/core/indexes/base.py:3812\u001b[39m, in \u001b[36mIndex.get_loc\u001b[39m\u001b[34m(self, key)\u001b[39m\n\u001b[32m   3807\u001b[39m     \u001b[38;5;28;01mif\u001b[39;00m \u001b[38;5;28misinstance\u001b[39m(casted_key, \u001b[38;5;28mslice\u001b[39m) \u001b[38;5;129;01mor\u001b[39;00m (\n\u001b[32m   3808\u001b[39m         \u001b[38;5;28misinstance\u001b[39m(casted_key, abc.Iterable)\n\u001b[32m   3809\u001b[39m         \u001b[38;5;129;01mand\u001b[39;00m \u001b[38;5;28many\u001b[39m(\u001b[38;5;28misinstance\u001b[39m(x, \u001b[38;5;28mslice\u001b[39m) \u001b[38;5;28;01mfor\u001b[39;00m x \u001b[38;5;129;01min\u001b[39;00m casted_key)\n\u001b[32m   3810\u001b[39m     ):\n\u001b[32m   3811\u001b[39m         \u001b[38;5;28;01mraise\u001b[39;00m InvalidIndexError(key)\n\u001b[32m-> \u001b[39m\u001b[32m3812\u001b[39m     \u001b[38;5;28;01mraise\u001b[39;00m \u001b[38;5;167;01mKeyError\u001b[39;00m(key) \u001b[38;5;28;01mfrom\u001b[39;00m\u001b[38;5;250m \u001b[39m\u001b[34;01merr\u001b[39;00m\n\u001b[32m   3813\u001b[39m \u001b[38;5;28;01mexcept\u001b[39;00m \u001b[38;5;167;01mTypeError\u001b[39;00m:\n\u001b[32m   3814\u001b[39m     \u001b[38;5;66;03m# If we have a listlike key, _check_indexing_error will raise\u001b[39;00m\n\u001b[32m   3815\u001b[39m     \u001b[38;5;66;03m#  InvalidIndexError. Otherwise we fall through and re-raise\u001b[39;00m\n\u001b[32m   3816\u001b[39m     \u001b[38;5;66;03m#  the TypeError.\u001b[39;00m\n\u001b[32m   3817\u001b[39m     \u001b[38;5;28mself\u001b[39m._check_indexing_error(key)\n",
      "\u001b[31mKeyError\u001b[39m: 'anonymised_protein_id'"
     ]
    }
   ],
   "source": [
    "print(df.info())\n",
    "print()\n",
    "print(df.describe(include='all'))\n",
    "print()\n",
    "print(len(df.index))\n",
    "print(df['anonymised_protein_id'].loc[0])"
   ]
  },
  {
   "cell_type": "code",
   "execution_count": 8,
   "metadata": {},
   "outputs": [
    {
     "name": "stdout",
     "output_type": "stream",
     "text": [
      "PolyData (0x76039f26c880)\n",
      "  N Cells:    77916\n",
      "  N Points:   38954\n",
      "  N Strips:   0\n",
      "  X Bounds:   -5.639e+01, 3.714e+01\n",
      "  Y Bounds:   -3.559e+01, 4.632e+01\n",
      "  Z Bounds:   -4.297e+01, 4.243e+01\n",
      "  N Arrays:   3\n",
      "\n",
      "pyvista DataSetAttributes\n",
      "Association     : POINT\n",
      "Active Scalars  : Potential\n",
      "Active Vectors  : None\n",
      "Active Texture  : None\n",
      "Active Normals  : Normals\n",
      "Contains arrays :\n",
      "    Potential               float64    (38954,)             SCALARS\n",
      "    NormalPotential         float64    (38954,)\n",
      "    Normals                 float64    (38954, 3)           NORMALS\n"
     ]
    },
    {
     "data": {
      "application/vnd.jupyter.widget-view+json": {
       "model_id": "cd06f4e24769453380c93f79ad2c20e1",
       "version_major": 2,
       "version_minor": 0
      },
      "text/plain": [
       "Widget(value='<iframe src=\"http://localhost:38583/index.html?ui=P_0x7603a4744500_0&reconnect=auto\" class=\"pyvi…"
      ]
     },
     "metadata": {},
     "output_type": "display_data"
    }
   ],
   "source": [
    "df = df[df['class_id'] == 96]\n",
    "#print(df)\n",
    "\n",
    "mesh = pv.read(os.path.join(path, 'train', '8stt_1:A:A_model1.vtk'))\n",
    "print(mesh)\n",
    "print()\n",
    "print(mesh.point_data)\n",
    "\n",
    "mesh.plot()"
   ]
  },
  {
   "cell_type": "code",
   "execution_count": 8,
   "metadata": {},
   "outputs": [
    {
     "name": "stdout",
     "output_type": "stream",
     "text": [
      "<class 'pyvista.core.pyvista_ndarray.pyvista_ndarray'>\n"
     ]
    }
   ],
   "source": [
    "mesh_points = mesh.points\n",
    "point_cloud = pv.PolyData(mesh_points)\n",
    "#point_cloud.plot()\n",
    "\n",
    "print(type(mesh_points))\n",
    "point_cloud_np = pv.convert_array(mesh_points)\n"
   ]
  }
 ],
 "metadata": {
  "kernelspec": {
   "display_name": "SHREC",
   "language": "python",
   "name": "python3"
  },
  "language_info": {
   "codemirror_mode": {
    "name": "ipython",
    "version": 3
   },
   "file_extension": ".py",
   "mimetype": "text/x-python",
   "name": "python",
   "nbconvert_exporter": "python",
   "pygments_lexer": "ipython3",
   "version": "3.12.3"
  }
 },
 "nbformat": 4,
 "nbformat_minor": 2
}
