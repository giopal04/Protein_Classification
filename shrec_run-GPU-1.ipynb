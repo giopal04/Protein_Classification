{
 "cells": [
  {
   "cell_type": "markdown",
   "metadata": {},
   "source": [
    "### PointNet to Classify Proteins"
   ]
  },
  {
   "cell_type": "markdown",
   "metadata": {},
   "source": [
    "#### Dataset study"
   ]
  },
  {
   "cell_type": "code",
   "execution_count": 1,
   "metadata": {},
   "outputs": [
    {
     "name": "stdout",
     "output_type": "stream",
     "text": [
      "['8ugd_8:R:3U_model1.vtk', '8h0v_18:R:c_model1.vtk', '3j3q_1:DX:4F_model1.vtk', '4u4u_23:XC:d1_model1.vtk', '6rny_4:H:H_model1.vtk']\n",
      "\n",
      "<class 'pandas.core.frame.DataFrame'>\n",
      "Index: 9244 entries, 0 to 9243\n",
      "Data columns (total 3 columns):\n",
      " #   Column            Non-Null Count  Dtype \n",
      "---  ------            --------------  ----- \n",
      " 0   protein_id        9244 non-null   object\n",
      " 1   class_id          9244 non-null   int64 \n",
      " 2   number_of_points  9244 non-null   int64 \n",
      "dtypes: int64(2), object(1)\n",
      "memory usage: 288.9+ KB\n",
      "None\n"
     ]
    },
    {
     "data": {
      "text/html": [
       "<div>\n",
       "<style scoped>\n",
       "    .dataframe tbody tr th:only-of-type {\n",
       "        vertical-align: middle;\n",
       "    }\n",
       "\n",
       "    .dataframe tbody tr th {\n",
       "        vertical-align: top;\n",
       "    }\n",
       "\n",
       "    .dataframe thead th {\n",
       "        text-align: right;\n",
       "    }\n",
       "</style>\n",
       "<table border=\"1\" class=\"dataframe\">\n",
       "  <thead>\n",
       "    <tr style=\"text-align: right;\">\n",
       "      <th></th>\n",
       "      <th>protein_id</th>\n",
       "      <th>class_id</th>\n",
       "      <th>number_of_points</th>\n",
       "    </tr>\n",
       "  </thead>\n",
       "  <tbody>\n",
       "    <tr>\n",
       "      <th>0</th>\n",
       "      <td>8ugd_8:R:3U_model1</td>\n",
       "      <td>96</td>\n",
       "      <td>5916</td>\n",
       "    </tr>\n",
       "    <tr>\n",
       "      <th>1</th>\n",
       "      <td>8h0v_18:R:c_model1</td>\n",
       "      <td>86</td>\n",
       "      <td>10078</td>\n",
       "    </tr>\n",
       "    <tr>\n",
       "      <th>2</th>\n",
       "      <td>3j3q_1:DX:4F_model1</td>\n",
       "      <td>8</td>\n",
       "      <td>18432</td>\n",
       "    </tr>\n",
       "    <tr>\n",
       "      <th>3</th>\n",
       "      <td>4u4u_23:XC:d1_model1</td>\n",
       "      <td>83</td>\n",
       "      <td>8242</td>\n",
       "    </tr>\n",
       "    <tr>\n",
       "      <th>4</th>\n",
       "      <td>6rny_4:H:H_model1</td>\n",
       "      <td>34</td>\n",
       "      <td>9204</td>\n",
       "    </tr>\n",
       "    <tr>\n",
       "      <th>...</th>\n",
       "      <td>...</td>\n",
       "      <td>...</td>\n",
       "      <td>...</td>\n",
       "    </tr>\n",
       "    <tr>\n",
       "      <th>9239</th>\n",
       "      <td>3j3y_1:HL:6R_model1</td>\n",
       "      <td>8</td>\n",
       "      <td>18342</td>\n",
       "    </tr>\n",
       "    <tr>\n",
       "      <th>9240</th>\n",
       "      <td>4u4y_15:O:C3_model1</td>\n",
       "      <td>91</td>\n",
       "      <td>12976</td>\n",
       "    </tr>\n",
       "    <tr>\n",
       "      <th>9241</th>\n",
       "      <td>7w31_26:AA:c_model1</td>\n",
       "      <td>18</td>\n",
       "      <td>16454</td>\n",
       "    </tr>\n",
       "    <tr>\n",
       "      <th>9242</th>\n",
       "      <td>3j4k_1:E:E_model1</td>\n",
       "      <td>90</td>\n",
       "      <td>23188</td>\n",
       "    </tr>\n",
       "    <tr>\n",
       "      <th>9243</th>\n",
       "      <td>3j3y_1:UIA:fE_model1</td>\n",
       "      <td>8</td>\n",
       "      <td>17888</td>\n",
       "    </tr>\n",
       "  </tbody>\n",
       "</table>\n",
       "<p>9244 rows × 3 columns</p>\n",
       "</div>"
      ],
      "text/plain": [
       "                protein_id  class_id  number_of_points\n",
       "0       8ugd_8:R:3U_model1        96              5916\n",
       "1       8h0v_18:R:c_model1        86             10078\n",
       "2      3j3q_1:DX:4F_model1         8             18432\n",
       "3     4u4u_23:XC:d1_model1        83              8242\n",
       "4        6rny_4:H:H_model1        34              9204\n",
       "...                    ...       ...               ...\n",
       "9239   3j3y_1:HL:6R_model1         8             18342\n",
       "9240   4u4y_15:O:C3_model1        91             12976\n",
       "9241   7w31_26:AA:c_model1        18             16454\n",
       "9242     3j4k_1:E:E_model1        90             23188\n",
       "9243  3j3y_1:UIA:fE_model1         8             17888\n",
       "\n",
       "[9244 rows x 3 columns]"
      ]
     },
     "execution_count": 1,
     "metadata": {},
     "output_type": "execute_result"
    }
   ],
   "source": [
    "# Getting the data\n",
    "import os\n",
    "\n",
    "os.environ[\"CUDA_VISIBLE_DEVICES\"] = \"1\"\n",
    "\n",
    "from pandas import DataFrame\n",
    "import pandas as pd\n",
    "\n",
    "from datasetStudy import *\n",
    "\n",
    "from pathlib import Path\n",
    "\n",
    "debug_pointnet = False\n",
    "\n",
    "# Multiple function here depends on thi variable\n",
    "#root = '/mnt/dataset/shrec-2025-protein-classification/v2-20250331' \n",
    "#base_path = Path('/mnt/')\n",
    "base_path = Path('/mnt/raid1')\n",
    "root = base_path / 'dataset/shrec-2025-protein-classification/v2-20250331'\n",
    "\n",
    "#train_data = os.listdir(os.path.join(root, 'train'))\n",
    "#train_data_cls = pd.read_csv('datasets/train_set-all.csv', sep=',', index_col=0)\n",
    "\n",
    "train_data = os.listdir(root / 'train')\n",
    "train_data_cls = pd.read_csv('./datasets/train_set-all.csv', sep=',', index_col=0)\n",
    "\n",
    "print(train_data[:5])\n",
    "print()\n",
    "print(train_data_cls.info())\n",
    "train_data_cls"
   ]
  },
  {
   "cell_type": "code",
   "execution_count": 2,
   "metadata": {},
   "outputs": [],
   "source": [
    "src = root / 'train-xz'\n",
    "mountpoint = '/tmp/ramdrive'\n",
    "size_in_gb = 3\n",
    "\n",
    "def create_ramdrive(src, mountpoint, size_in_gb):\n",
    "    if Path(mountpoint).exists() or Path(mountpoint).is_dir():\n",
    "        print(f'Ramdrive already created, exiting...')\n",
    "        return\n",
    "    \n",
    "    !sudo mkdir -p \"{mountpoint}\"\n",
    "    !sudo mount -o size=\"{size_in_gb}\"G -t tmpfs none \"{mountpoint}\"\n",
    "    !rsync -a --progress \"{src}\" \"{mountpoint}\"\n",
    "    \n",
    "def unmount_ramdrive(mountpoint):\n",
    "    !sudo umount \"{mountpoint}\"\n",
    "    !sudo rmdir \"{mountpoint}\""
   ]
  },
  {
   "cell_type": "code",
   "execution_count": 3,
   "metadata": {},
   "outputs": [
    {
     "name": "stdout",
     "output_type": "stream",
     "text": [
      "Ramdrive already created, exiting...\n"
     ]
    }
   ],
   "source": [
    "create_ramdrive(src, mountpoint, size_in_gb)"
   ]
  },
  {
   "cell_type": "code",
   "execution_count": 4,
   "metadata": {},
   "outputs": [
    {
     "data": {
      "text/html": [
       "<div>\n",
       "<style scoped>\n",
       "    .dataframe tbody tr th:only-of-type {\n",
       "        vertical-align: middle;\n",
       "    }\n",
       "\n",
       "    .dataframe tbody tr th {\n",
       "        vertical-align: top;\n",
       "    }\n",
       "\n",
       "    .dataframe thead th {\n",
       "        text-align: right;\n",
       "    }\n",
       "</style>\n",
       "<table border=\"1\" class=\"dataframe\">\n",
       "  <thead>\n",
       "    <tr style=\"text-align: right;\">\n",
       "      <th></th>\n",
       "      <th>protein_id</th>\n",
       "      <th>class_id</th>\n",
       "      <th>number_of_points</th>\n",
       "    </tr>\n",
       "  </thead>\n",
       "  <tbody>\n",
       "  </tbody>\n",
       "</table>\n",
       "</div>"
      ],
      "text/plain": [
       "Empty DataFrame\n",
       "Columns: [protein_id, class_id, number_of_points]\n",
       "Index: []"
      ]
     },
     "execution_count": 4,
     "metadata": {},
     "output_type": "execute_result"
    }
   ],
   "source": [
    "possible_disconnected_mesh(train_data_cls, 96, False)\n",
    "\n",
    "disconnected_dict = {}\n",
    "for idx in range(97):\n",
    "    disconnected_dict[idx] = possible_disconnected_mesh(train_data_cls, idx)\n",
    "\n",
    "#print(disconnected_dict)\n",
    "\n",
    "_, damaged = possible_disconnected_mesh(train_data_cls, 8, True); damaged"
   ]
  },
  {
   "cell_type": "code",
   "execution_count": 5,
   "metadata": {},
   "outputs": [
    {
     "name": "stdout",
     "output_type": "stream",
     "text": [
      "Classes which have between 0 and 5 element: 16/97\n"
     ]
    }
   ],
   "source": [
    "dist = cls_distribution(train_data_cls)\n",
    "inspect_distribution(dist, l_lim=0, u_lim=5)"
   ]
  },
  {
   "cell_type": "code",
   "execution_count": 6,
   "metadata": {},
   "outputs": [
    {
     "name": "stdout",
     "output_type": "stream",
     "text": [
      "cls 0: 101\t101\t101\t0\t0\t101\t101\t\n",
      "cls 1: 3\t3\t0\t0\t0\t0\t3\t\n",
      "cls 2: 17\t17\t17\t17\t17\t0\t17\t\n",
      "cls 3: 21\t21\t21\t21\t21\t0\t21\t\n",
      "cls 4: 15\t15\t15\t15\t15\t0\t15\t\n",
      "cls 5: 127\t127\t127\t0\t0\t127\t127\t\n",
      "cls 6: 25\t25\t25\t25\t25\t0\t25\t\n",
      "cls 7: 75\t75\t75\t75\t0\t0\t75\t\n",
      "cls 8: 2054\t2054\t2054\t0\t0\t2054\t0\t\n",
      "cls 9: 66\t66\t66\t66\t0\t0\t66\t\n",
      "cls 10: 14\t14\t14\t14\t14\t0\t14\t\n",
      "cls 11: 43\t43\t43\t43\t43\t0\t43\t\n",
      "cls 12: 10\t10\t10\t10\t10\t0\t10\t\n",
      "cls 13: 22\t22\t22\t22\t22\t0\t22\t\n",
      "cls 14: 489\t489\t489\t0\t0\t489\t0\t\n",
      "cls 15: 89\t89\t89\t89\t0\t0\t89\t\n",
      "cls 16: 154\t154\t154\t0\t0\t154\t154\t\n",
      "cls 17: 116\t116\t116\t0\t0\t116\t116\t\n",
      "cls 18: 76\t76\t76\t76\t0\t0\t76\t\n",
      "cls 19: 42\t42\t42\t42\t42\t0\t42\t\n",
      "cls 20: 7\t7\t0\t0\t0\t0\t7\t\n",
      "cls 21: 74\t74\t74\t74\t0\t0\t74\t\n",
      "cls 22: 58\t58\t58\t58\t0\t0\t58\t\n",
      "cls 23: 10\t10\t10\t10\t10\t0\t10\t\n",
      "cls 24: 10\t10\t10\t10\t10\t0\t10\t\n",
      "cls 25: 143\t143\t143\t0\t0\t143\t143\t\n",
      "cls 26: 2\t2\t0\t0\t0\t0\t2\t\n",
      "cls 27: 3\t3\t0\t0\t0\t0\t3\t\n",
      "cls 28: 18\t18\t18\t18\t18\t0\t18\t\n",
      "cls 29: 14\t14\t14\t14\t14\t0\t14\t\n",
      "cls 30: 3\t3\t0\t0\t0\t0\t3\t\n",
      "cls 31: 33\t33\t33\t33\t33\t0\t33\t\n",
      "cls 32: 93\t93\t93\t93\t0\t0\t93\t\n",
      "cls 33: 126\t126\t126\t0\t0\t126\t126\t\n",
      "cls 34: 73\t73\t73\t73\t0\t0\t73\t\n",
      "cls 35: 23\t23\t23\t23\t23\t0\t23\t\n",
      "cls 36: 8\t8\t0\t0\t0\t0\t8\t\n",
      "cls 37: 119\t119\t119\t0\t0\t119\t119\t\n",
      "cls 38: 34\t34\t34\t34\t34\t0\t34\t\n",
      "cls 39: 19\t19\t19\t19\t19\t0\t19\t\n",
      "cls 40: 95\t95\t95\t95\t0\t0\t95\t\n",
      "cls 41: 95\t95\t95\t95\t0\t0\t95\t\n",
      "cls 42: 2\t2\t0\t0\t0\t0\t2\t\n",
      "cls 43: 70\t70\t70\t70\t0\t0\t70\t\n",
      "cls 44: 2\t2\t0\t0\t0\t0\t2\t\n",
      "cls 45: 109\t109\t109\t0\t0\t109\t109\t\n",
      "cls 46: 44\t44\t44\t44\t44\t0\t44\t\n",
      "cls 47: 37\t37\t37\t37\t37\t0\t37\t\n",
      "cls 48: 27\t27\t27\t27\t27\t0\t27\t\n",
      "cls 49: 49\t49\t49\t49\t49\t0\t49\t\n",
      "cls 50: 2\t2\t0\t0\t0\t0\t2\t\n",
      "cls 51: 71\t71\t71\t71\t0\t0\t71\t\n",
      "cls 52: 76\t76\t76\t76\t0\t0\t76\t\n",
      "cls 53: 53\t53\t53\t53\t0\t0\t53\t\n",
      "cls 54: 128\t128\t128\t0\t0\t128\t128\t\n",
      "cls 55: 26\t26\t26\t26\t26\t0\t26\t\n",
      "cls 56: 654\t654\t654\t0\t0\t654\t0\t\n",
      "cls 57: 9\t9\t0\t0\t0\t0\t9\t\n",
      "cls 58: 2\t2\t0\t0\t0\t0\t2\t\n",
      "cls 59: 54\t54\t54\t54\t0\t0\t54\t\n",
      "cls 60: 73\t73\t73\t73\t0\t0\t73\t\n",
      "cls 61: 240\t240\t240\t0\t0\t240\t240\t\n",
      "cls 62: 135\t135\t135\t0\t0\t135\t135\t\n",
      "cls 63: 2\t2\t0\t0\t0\t0\t2\t\n",
      "cls 64: 57\t57\t57\t57\t0\t0\t57\t\n",
      "cls 65: 10\t10\t10\t10\t10\t0\t10\t\n",
      "cls 66: 54\t54\t54\t54\t0\t0\t54\t\n",
      "cls 67: 17\t17\t17\t17\t17\t0\t17\t\n",
      "cls 68: 5\t5\t0\t0\t0\t0\t5\t\n",
      "cls 69: 80\t80\t80\t80\t0\t0\t80\t\n",
      "cls 70: 223\t223\t223\t0\t0\t223\t223\t\n",
      "cls 71: 102\t102\t102\t0\t0\t102\t102\t\n",
      "cls 72: 2\t2\t0\t0\t0\t0\t2\t\n",
      "cls 73: 6\t6\t0\t0\t0\t0\t6\t\n",
      "cls 74: 150\t150\t150\t0\t0\t150\t150\t\n",
      "cls 75: 69\t69\t69\t69\t0\t0\t69\t\n",
      "cls 76: 10\t10\t10\t10\t10\t0\t10\t\n",
      "cls 77: 2\t2\t0\t0\t0\t0\t2\t\n",
      "cls 78: 5\t5\t0\t0\t0\t0\t5\t\n",
      "cls 79: 78\t78\t78\t78\t0\t0\t78\t\n",
      "cls 80: 57\t57\t57\t57\t0\t0\t57\t\n",
      "cls 81: 58\t58\t58\t58\t0\t0\t58\t\n",
      "cls 82: 2\t2\t0\t0\t0\t0\t2\t\n",
      "cls 83: 115\t115\t115\t0\t0\t115\t115\t\n",
      "cls 84: 18\t18\t18\t18\t18\t0\t18\t\n",
      "cls 85: 49\t49\t49\t49\t49\t0\t49\t\n",
      "cls 86: 203\t203\t203\t0\t0\t203\t203\t\n",
      "cls 87: 103\t103\t103\t0\t0\t103\t103\t\n",
      "cls 88: 97\t97\t97\t97\t0\t0\t97\t\n",
      "cls 89: 3\t3\t0\t0\t0\t0\t3\t\n",
      "cls 90: 788\t788\t788\t0\t0\t788\t0\t\n",
      "cls 91: 118\t118\t118\t0\t0\t118\t118\t\n",
      "cls 92: 129\t129\t129\t0\t0\t129\t129\t\n",
      "cls 93: 61\t61\t61\t61\t0\t0\t61\t\n",
      "cls 94: 52\t52\t52\t52\t0\t0\t52\t\n",
      "cls 95: 2\t2\t0\t0\t0\t0\t2\t\n",
      "cls 96: 35\t35\t35\t35\t35\t0\t35\t\n",
      "len(train_data_cls) = 9244\n",
      "len(raw_train_dataframe_f1) = 9244\n",
      "len(raw_train_dataframe_f2) = 9172\n",
      "len(raw_train_dataframe_f3) = 2546\n",
      "len(raw_train_dataframe_f4) = 692\n",
      "len(raw_train_dataframe_f5) = 6626\n"
     ]
    }
   ],
   "source": [
    "dist_all = cls_distribution(train_data_cls)\n",
    "\n",
    "# Filter the number of points\n",
    "raw_train_dataframe_f1 = number_of_point_filter(train_data_cls, 1000)\n",
    "dist_f1 = cls_distribution(raw_train_dataframe_f1)\n",
    "\n",
    "\n",
    "# Filter according to the number of samples in classes\n",
    "raw_train_dataframe_f2 = number_of_class_filter(raw_train_dataframe_f1, l_cut_off=10)\n",
    "dist_f2 = cls_distribution(raw_train_dataframe_f2)\n",
    "\n",
    "raw_train_dataframe_f3 = number_of_class_filter(raw_train_dataframe_f1, l_cut_off=10, u_cut_off=100)\n",
    "dist_f3 = cls_distribution(raw_train_dataframe_f3)\n",
    "\n",
    "raw_train_dataframe_f4 = number_of_class_filter(raw_train_dataframe_f1, l_cut_off=10, u_cut_off=50)\n",
    "dist_f4 = cls_distribution(raw_train_dataframe_f4)\n",
    "\n",
    "raw_train_dataframe_f5 = number_of_class_filter(raw_train_dataframe_f1, l_cut_off=100)\n",
    "dist_f5 = cls_distribution(raw_train_dataframe_f5)\n",
    "\n",
    "raw_train_dataframe_f6 = number_of_class_filter(raw_train_dataframe_f1, l_cut_off=0, u_cut_off=450)\n",
    "dist_f6 = cls_distribution(raw_train_dataframe_f6)\n",
    "\n",
    "distributions = [dist_all, dist_f1, dist_f2, dist_f3, dist_f4, dist_f5, dist_f6]\n",
    "for idx in range(len(dist_all)):\n",
    "    output = f'cls {idx}: '\n",
    "    for dist in distributions:\n",
    "        output += f'{print_dist(dist, idx)}\\t'\n",
    "    print(output)\n",
    "\n",
    "print(f'{len(train_data_cls) = }')\n",
    "print(f'{len(raw_train_dataframe_f1) = }')\n",
    "print(f'{len(raw_train_dataframe_f2) = }')\n",
    "print(f'{len(raw_train_dataframe_f3) = }')\n",
    "print(f'{len(raw_train_dataframe_f4) = }')\n",
    "print(f'{len(raw_train_dataframe_f5) = }')"
   ]
  },
  {
   "cell_type": "code",
   "execution_count": 7,
   "metadata": {},
   "outputs": [
    {
     "name": "stdout",
     "output_type": "stream",
     "text": [
      "93 [0, 1, 2, 3, 4, 5, 6, 7, 9, 10, 11, 12, 13, 15, 16, 17, 18, 19, 20, 21, 22, 23, 24, 25, 26, 27, 28, 29, 30, 31, 32, 33, 34, 35, 36, 37, 38, 39, 40, 41, 42, 43, 44, 45, 46, 47, 48, 49, 50, 51, 52, 53, 54, 55, 57, 58, 59, 60, 61, 62, 63, 64, 65, 66, 67, 68, 69, 70, 71, 72, 73, 74, 75, 76, 77, 78, 79, 80, 81, 82, 83, 84, 85, 86, 87, 88, 89, 91, 92, 93, 94, 95, 96]\n"
     ]
    }
   ],
   "source": [
    "dist_f6_available_classes = []\n",
    "for key,value in dist_f6.items():\n",
    "    if value:\n",
    "        dist_f6_available_classes.append(key)\n",
    "print(len(dist_f6_available_classes), dist_f6_available_classes)"
   ]
  },
  {
   "cell_type": "code",
   "execution_count": 8,
   "metadata": {},
   "outputs": [],
   "source": [
    "symmetria_flist = list((root / 'train-symmetria-xz').glob('*.xz'))\n",
    "symmetria_flist = [(fpath.name[3:-3], fpath.name[0:2], None) for fpath in symmetria_flist]"
   ]
  },
  {
   "cell_type": "code",
   "execution_count": 9,
   "metadata": {},
   "outputs": [
    {
     "data": {
      "text/plain": [
       "[('000002-astroid-clean', '00', None),\n",
       " ('000011-astroid-gaussian', '00', None),\n",
       " ('000012-astroid-gaussian', '00', None),\n",
       " ('000021-astroid-undersampling+gaussian', '00', None),\n",
       " ('000032-astroid-gaussian', '00', None),\n",
       " ('000037-astroid-uniform', '00', None),\n",
       " ('000044-astroid-gaussian', '00', None),\n",
       " ('000047-astroid-clean', '00', None),\n",
       " ('000086-astroid-gaussian', '00', None),\n",
       " ('000101-astroid-undersampling+gaussian', '00', None),\n",
       " ('000102-astroid-undersampling+uniform', '00', None),\n",
       " ('000105-astroid-uniform', '00', None),\n",
       " ('000118-astroid-undersampling', '00', None),\n",
       " ('000148-astroid-clean', '00', None),\n",
       " ('000151-astroid-undersampling', '00', None),\n",
       " ('000155-astroid-clean', '00', None),\n",
       " ('000177-astroid-undersampling+gaussian', '00', None),\n",
       " ('000191-astroid-undersampling+uniform', '00', None),\n",
       " ('000211-astroid-uniform', '00', None),\n",
       " ('000229-astroid-gaussian', '00', None),\n",
       " ('000238-astroid-clean', '00', None),\n",
       " ('000243-astroid-gaussian', '00', None),\n",
       " ('000248-astroid-clean', '00', None),\n",
       " ('000252-astroid-clean', '00', None),\n",
       " ('000260-astroid-clean', '00', None),\n",
       " ('000279-astroid-clean', '00', None),\n",
       " ('000290-astroid-clean', '00', None),\n",
       " ('000292-astroid-undersampling+gaussian', '00', None),\n",
       " ('000295-astroid-undersampling+uniform', '00', None),\n",
       " ('000308-astroid-uniform', '00', None),\n",
       " ('000316-astroid-undersampling+gaussian', '00', None),\n",
       " ('000347-astroid-undersampling+uniform', '00', None),\n",
       " ('000357-astroid-undersampling', '00', None),\n",
       " ('000373-astroid-undersampling', '00', None),\n",
       " ('000375-astroid-undersampling+gaussian', '00', None),\n",
       " ('000380-astroid-undersampling', '00', None),\n",
       " ('000393-astroid-undersampling+uniform', '00', None),\n",
       " ('000401-astroid-uniform', '00', None),\n",
       " ('000406-astroid-undersampling+uniform', '00', None),\n",
       " ('000432-astroid-undersampling+gaussian', '00', None),\n",
       " ('000488-astroid-undersampling+gaussian', '00', None),\n",
       " ('000497-astroid-clean', '00', None),\n",
       " ('000499-astroid-undersampling', '00', None),\n",
       " ('000514-astroid-undersampling+gaussian', '00', None),\n",
       " ('000516-astroid-undersampling', '00', None),\n",
       " ('000518-astroid-undersampling', '00', None),\n",
       " ('000519-astroid-undersampling', '00', None),\n",
       " ('000523-astroid-gaussian', '00', None),\n",
       " ('000525-astroid-uniform', '00', None),\n",
       " ('000532-astroid-undersampling+gaussian', '00', None),\n",
       " ('000541-astroid-clean', '00', None),\n",
       " ('000547-astroid-uniform', '00', None),\n",
       " ('000555-astroid-undersampling', '00', None),\n",
       " ('000556-astroid-undersampling+gaussian', '00', None),\n",
       " ('000565-astroid-uniform', '00', None),\n",
       " ('000568-astroid-gaussian', '00', None),\n",
       " ('000576-astroid-undersampling+gaussian', '00', None),\n",
       " ('000577-astroid-undersampling+gaussian', '00', None),\n",
       " ('000578-astroid-gaussian', '00', None),\n",
       " ('000587-astroid-undersampling', '00', None),\n",
       " ('000593-astroid-undersampling+gaussian', '00', None),\n",
       " ('000609-astroid-undersampling+gaussian', '00', None),\n",
       " ('000626-astroid-undersampling+gaussian', '00', None),\n",
       " ('000655-astroid-undersampling', '00', None),\n",
       " ('000662-astroid-undersampling+gaussian', '00', None),\n",
       " ('000675-astroid-clean', '00', None),\n",
       " ('000689-astroid-undersampling+gaussian', '00', None),\n",
       " ('000691-astroid-gaussian', '00', None),\n",
       " ('000695-astroid-undersampling', '00', None),\n",
       " ('000702-astroid-undersampling+uniform', '00', None),\n",
       " ('000725-astroid-gaussian', '00', None),\n",
       " ('000735-astroid-gaussian', '00', None),\n",
       " ('000752-astroid-gaussian', '00', None),\n",
       " ('000755-astroid-undersampling', '00', None),\n",
       " ('000758-astroid-gaussian', '00', None),\n",
       " ('000760-astroid-undersampling', '00', None),\n",
       " ('000769-astroid-undersampling+gaussian', '00', None),\n",
       " ('000771-astroid-undersampling', '00', None),\n",
       " ('000773-astroid-clean', '00', None),\n",
       " ('000783-astroid-uniform', '00', None),\n",
       " ('000788-astroid-undersampling+gaussian', '00', None),\n",
       " ('000793-astroid-uniform', '00', None),\n",
       " ('000806-astroid-uniform', '00', None),\n",
       " ('000810-astroid-gaussian', '00', None),\n",
       " ('000812-astroid-gaussian', '00', None),\n",
       " ('000817-astroid-gaussian', '00', None),\n",
       " ('000830-astroid-gaussian', '00', None),\n",
       " ('000832-astroid-undersampling+uniform', '00', None),\n",
       " ('000835-astroid-undersampling+uniform', '00', None),\n",
       " ('000838-astroid-gaussian', '00', None),\n",
       " ('000850-astroid-gaussian', '00', None),\n",
       " ('000855-astroid-clean', '00', None),\n",
       " ('000862-astroid-gaussian', '00', None),\n",
       " ('000881-astroid-uniform', '00', None),\n",
       " ('000899-astroid-undersampling', '00', None),\n",
       " ('000904-astroid-undersampling+gaussian', '00', None),\n",
       " ('000907-astroid-gaussian', '00', None),\n",
       " ('000935-astroid-uniform', '00', None),\n",
       " ('000941-astroid-undersampling+gaussian', '00', None),\n",
       " ('000943-astroid-gaussian', '00', None),\n",
       " ('000961-astroid-clean', '00', None),\n",
       " ('000968-astroid-undersampling', '00', None),\n",
       " ('000979-astroid-clean', '00', None),\n",
       " ('000981-astroid-undersampling+uniform', '00', None),\n",
       " ('000982-astroid-uniform', '00', None),\n",
       " ('001006-astroid-gaussian', '00', None),\n",
       " ('001020-astroid-gaussian', '00', None),\n",
       " ('001029-astroid-gaussian', '00', None),\n",
       " ('001036-astroid-undersampling+uniform', '00', None),\n",
       " ('001051-astroid-clean', '00', None),\n",
       " ('001052-astroid-undersampling+uniform', '00', None),\n",
       " ('001087-astroid-undersampling', '00', None),\n",
       " ('001092-astroid-undersampling', '00', None),\n",
       " ('001093-astroid-clean', '00', None),\n",
       " ('001094-astroid-undersampling+gaussian', '00', None),\n",
       " ('001125-astroid-undersampling+gaussian', '00', None),\n",
       " ('001138-astroid-undersampling+gaussian', '00', None),\n",
       " ('001156-astroid-undersampling', '00', None),\n",
       " ('001169-astroid-undersampling', '00', None),\n",
       " ('001183-astroid-clean', '00', None),\n",
       " ('001185-astroid-undersampling+gaussian', '00', None),\n",
       " ('001188-astroid-gaussian', '00', None),\n",
       " ('001195-astroid-undersampling', '00', None),\n",
       " ('001232-astroid-clean', '00', None),\n",
       " ('001234-astroid-undersampling+gaussian', '00', None),\n",
       " ('001236-astroid-clean', '00', None),\n",
       " ('001250-astroid-gaussian', '00', None),\n",
       " ('001275-astroid-clean', '00', None),\n",
       " ('001291-astroid-clean', '00', None),\n",
       " ('001294-astroid-undersampling+uniform', '00', None),\n",
       " ('001313-astroid-clean', '00', None),\n",
       " ('001341-astroid-uniform', '00', None),\n",
       " ('001344-astroid-undersampling+gaussian', '00', None),\n",
       " ('001372-astroid-undersampling+uniform', '00', None),\n",
       " ('001380-astroid-undersampling+uniform', '00', None),\n",
       " ('001385-astroid-undersampling+gaussian', '00', None),\n",
       " ('001413-astroid-undersampling+gaussian', '00', None),\n",
       " ('001427-astroid-clean', '00', None),\n",
       " ('001429-astroid-undersampling+gaussian', '00', None),\n",
       " ('001430-astroid-uniform', '00', None),\n",
       " ('001431-astroid-gaussian', '00', None),\n",
       " ('001438-astroid-gaussian', '00', None),\n",
       " ('001439-astroid-clean', '00', None),\n",
       " ('001442-astroid-undersampling+uniform', '00', None),\n",
       " ('001445-astroid-gaussian', '00', None),\n",
       " ('001448-astroid-gaussian', '00', None),\n",
       " ('001468-astroid-undersampling+uniform', '00', None),\n",
       " ('001479-astroid-undersampling', '00', None),\n",
       " ('001484-astroid-undersampling', '00', None),\n",
       " ('001497-astroid-clean', '00', None),\n",
       " ('001518-astroid-gaussian', '00', None),\n",
       " ('001521-astroid-undersampling', '00', None),\n",
       " ('001523-astroid-gaussian', '00', None),\n",
       " ('001527-astroid-undersampling', '00', None),\n",
       " ('001535-astroid-undersampling+uniform', '00', None),\n",
       " ('001538-astroid-undersampling+gaussian', '00', None),\n",
       " ('001547-astroid-uniform', '00', None),\n",
       " ('001553-astroid-gaussian', '00', None),\n",
       " ('001554-astroid-undersampling+gaussian', '00', None),\n",
       " ('001560-astroid-undersampling+uniform', '00', None),\n",
       " ('001592-astroid-clean', '00', None),\n",
       " ('001611-astroid-uniform', '00', None),\n",
       " ('001612-astroid-undersampling+gaussian', '00', None),\n",
       " ('001613-astroid-clean', '00', None),\n",
       " ('001617-astroid-undersampling', '00', None),\n",
       " ('001623-astroid-clean', '00', None),\n",
       " ('001633-astroid-gaussian', '00', None),\n",
       " ('001639-astroid-gaussian', '00', None),\n",
       " ('001652-astroid-undersampling', '00', None),\n",
       " ('001655-astroid-clean', '00', None),\n",
       " ('001657-astroid-clean', '00', None),\n",
       " ('001671-astroid-uniform', '00', None),\n",
       " ('001674-astroid-uniform', '00', None),\n",
       " ('001676-astroid-undersampling+gaussian', '00', None),\n",
       " ('001684-astroid-undersampling+gaussian', '00', None),\n",
       " ('001702-astroid-clean', '00', None),\n",
       " ('001704-astroid-undersampling+uniform', '00', None),\n",
       " ('001705-astroid-undersampling', '00', None),\n",
       " ('001716-astroid-undersampling', '00', None),\n",
       " ('001721-astroid-gaussian', '00', None),\n",
       " ('001723-astroid-undersampling+uniform', '00', None),\n",
       " ('001734-astroid-undersampling+uniform', '00', None),\n",
       " ('001738-astroid-undersampling+gaussian', '00', None),\n",
       " ('001776-astroid-undersampling', '00', None),\n",
       " ('001778-astroid-gaussian', '00', None),\n",
       " ('001787-astroid-clean', '00', None),\n",
       " ('001791-astroid-gaussian', '00', None),\n",
       " ('001796-astroid-undersampling+uniform', '00', None),\n",
       " ('001801-astroid-gaussian', '00', None),\n",
       " ('001815-astroid-uniform', '00', None),\n",
       " ('001821-astroid-gaussian', '00', None),\n",
       " ('001829-astroid-uniform', '00', None),\n",
       " ('001830-astroid-uniform', '00', None),\n",
       " ('001847-astroid-gaussian', '00', None),\n",
       " ('001867-astroid-undersampling+uniform', '00', None),\n",
       " ('001875-astroid-undersampling+gaussian', '00', None),\n",
       " ('001878-astroid-uniform', '00', None),\n",
       " ('001879-astroid-uniform', '00', None),\n",
       " ('001917-astroid-undersampling+uniform', '00', None),\n",
       " ('001931-astroid-undersampling+gaussian', '00', None),\n",
       " ('001936-astroid-clean', '00', None),\n",
       " ('001943-astroid-clean', '00', None),\n",
       " ('001952-astroid-gaussian', '00', None),\n",
       " ('001967-astroid-undersampling+gaussian', '00', None),\n",
       " ('001974-astroid-undersampling+uniform', '00', None),\n",
       " ('001989-astroid-clean', '00', None),\n",
       " ('001990-astroid-gaussian', '00', None),\n",
       " ('002000-astroid-uniform', '00', None),\n",
       " ('002018-astroid-uniform', '00', None),\n",
       " ('002042-astroid-uniform', '00', None),\n",
       " ('002066-astroid-clean', '00', None),\n",
       " ('002077-astroid-gaussian', '00', None),\n",
       " ('002079-astroid-undersampling+uniform', '00', None),\n",
       " ('002081-astroid-gaussian', '00', None),\n",
       " ('002082-astroid-undersampling+gaussian', '00', None),\n",
       " ('002087-astroid-undersampling+gaussian', '00', None),\n",
       " ('002090-astroid-undersampling+gaussian', '00', None),\n",
       " ('002101-astroid-undersampling+uniform', '00', None),\n",
       " ('002119-astroid-gaussian', '00', None),\n",
       " ('002121-astroid-undersampling+gaussian', '00', None),\n",
       " ('002133-astroid-undersampling+gaussian', '00', None),\n",
       " ('002148-astroid-undersampling+gaussian', '00', None),\n",
       " ('002158-astroid-uniform', '00', None),\n",
       " ('002168-astroid-undersampling+gaussian', '00', None),\n",
       " ('002176-astroid-uniform', '00', None),\n",
       " ('002200-astroid-undersampling+gaussian', '00', None),\n",
       " ('002203-astroid-undersampling', '00', None),\n",
       " ('002204-astroid-gaussian', '00', None),\n",
       " ('002224-astroid-undersampling', '00', None),\n",
       " ('002231-astroid-uniform', '00', None),\n",
       " ('002234-astroid-undersampling+uniform', '00', None),\n",
       " ('002236-astroid-gaussian', '00', None),\n",
       " ('002238-astroid-undersampling+gaussian', '00', None),\n",
       " ('002253-astroid-clean', '00', None),\n",
       " ('002270-astroid-gaussian', '00', None),\n",
       " ('002273-astroid-uniform', '00', None),\n",
       " ('002275-astroid-undersampling+uniform', '00', None),\n",
       " ('002289-astroid-clean', '00', None),\n",
       " ('002292-astroid-gaussian', '00', None),\n",
       " ('002295-astroid-undersampling', '00', None),\n",
       " ('002301-astroid-undersampling', '00', None),\n",
       " ('002310-astroid-clean', '00', None),\n",
       " ('002337-astroid-gaussian', '00', None),\n",
       " ('002361-astroid-undersampling', '00', None),\n",
       " ('002370-astroid-clean', '00', None),\n",
       " ('002375-astroid-undersampling+uniform', '00', None),\n",
       " ('002377-astroid-uniform', '00', None),\n",
       " ('002380-astroid-undersampling', '00', None),\n",
       " ('002388-astroid-uniform', '00', None),\n",
       " ('002391-astroid-uniform', '00', None),\n",
       " ('002394-astroid-clean', '00', None),\n",
       " ('002417-astroid-undersampling+gaussian', '00', None),\n",
       " ('002445-astroid-clean', '00', None),\n",
       " ('002449-astroid-undersampling+gaussian', '00', None),\n",
       " ('002465-astroid-uniform', '00', None),\n",
       " ('002469-astroid-gaussian', '00', None),\n",
       " ('002492-astroid-clean', '00', None),\n",
       " ('002500-astroid-undersampling+gaussian', '00', None),\n",
       " ('002506-astroid-uniform', '00', None),\n",
       " ('002511-astroid-undersampling', '00', None),\n",
       " ('002542-astroid-undersampling+gaussian', '00', None),\n",
       " ('002544-astroid-uniform', '00', None),\n",
       " ('002549-astroid-clean', '00', None),\n",
       " ('002577-astroid-uniform', '00', None),\n",
       " ('002592-astroid-clean', '00', None),\n",
       " ('002621-astroid-uniform', '00', None),\n",
       " ('002622-astroid-undersampling+uniform', '00', None),\n",
       " ('002645-astroid-clean', '00', None),\n",
       " ('002654-astroid-uniform', '00', None),\n",
       " ('002659-astroid-clean', '00', None),\n",
       " ('002661-astroid-gaussian', '00', None),\n",
       " ('002679-astroid-clean', '00', None),\n",
       " ('002693-astroid-undersampling', '00', None),\n",
       " ('002705-astroid-undersampling+uniform', '00', None),\n",
       " ('002710-astroid-undersampling+gaussian', '00', None),\n",
       " ('002742-astroid-gaussian', '00', None),\n",
       " ('002745-astroid-undersampling+gaussian', '00', None),\n",
       " ('002750-astroid-undersampling+uniform', '00', None),\n",
       " ('002752-astroid-undersampling', '00', None),\n",
       " ('002760-astroid-undersampling+gaussian', '00', None),\n",
       " ('002762-astroid-undersampling+uniform', '00', None),\n",
       " ('002763-astroid-undersampling+gaussian', '00', None),\n",
       " ('002780-astroid-undersampling+uniform', '00', None),\n",
       " ('002785-astroid-undersampling+uniform', '00', None),\n",
       " ('002789-astroid-undersampling', '00', None),\n",
       " ('002790-astroid-clean', '00', None),\n",
       " ('002799-astroid-undersampling+uniform', '00', None),\n",
       " ('002828-astroid-undersampling', '00', None),\n",
       " ('002835-astroid-uniform', '00', None),\n",
       " ('002842-astroid-uniform', '00', None),\n",
       " ('002846-astroid-undersampling+uniform', '00', None),\n",
       " ('002847-astroid-undersampling+gaussian', '00', None),\n",
       " ('002863-astroid-gaussian', '00', None),\n",
       " ('002893-astroid-clean', '00', None),\n",
       " ('002917-astroid-undersampling+uniform', '00', None),\n",
       " ('002924-astroid-uniform', '00', None),\n",
       " ('002936-astroid-undersampling', '00', None),\n",
       " ('002941-astroid-undersampling', '00', None),\n",
       " ('002942-astroid-uniform', '00', None),\n",
       " ('002949-astroid-uniform', '00', None),\n",
       " ('002962-astroid-gaussian', '00', None),\n",
       " ('002997-astroid-undersampling', '00', None),\n",
       " ('003003-astroid-undersampling+uniform', '00', None),\n",
       " ('003011-astroid-clean', '00', None),\n",
       " ('003021-astroid-undersampling', '00', None),\n",
       " ('003023-astroid-uniform', '00', None),\n",
       " ('003026-astroid-undersampling', '00', None),\n",
       " ('003038-astroid-clean', '00', None),\n",
       " ('003039-astroid-uniform', '00', None),\n",
       " ('003045-astroid-uniform', '00', None),\n",
       " ('003046-astroid-gaussian', '00', None),\n",
       " ('003073-astroid-undersampling', '00', None),\n",
       " ('003078-astroid-undersampling+uniform', '00', None),\n",
       " ('003088-astroid-undersampling+uniform', '00', None),\n",
       " ('003092-astroid-undersampling+gaussian', '00', None),\n",
       " ('003095-astroid-undersampling+uniform', '00', None),\n",
       " ('003106-astroid-uniform', '00', None),\n",
       " ('003113-astroid-undersampling', '00', None),\n",
       " ('003114-astroid-undersampling+gaussian', '00', None),\n",
       " ('003123-astroid-uniform', '00', None),\n",
       " ('003127-astroid-undersampling', '00', None),\n",
       " ('003136-astroid-undersampling', '00', None),\n",
       " ('003138-astroid-undersampling+gaussian', '00', None),\n",
       " ('003147-astroid-undersampling', '00', None),\n",
       " ('003165-astroid-clean', '00', None),\n",
       " ('003175-astroid-undersampling+gaussian', '00', None),\n",
       " ('003177-astroid-clean', '00', None),\n",
       " ('003179-astroid-uniform', '00', None),\n",
       " ('003192-astroid-undersampling+uniform', '00', None),\n",
       " ('003208-astroid-undersampling+gaussian', '00', None),\n",
       " ('003222-astroid-clean', '00', None),\n",
       " ('003229-astroid-gaussian', '00', None),\n",
       " ('003238-astroid-uniform', '00', None),\n",
       " ('003250-astroid-clean', '00', None),\n",
       " ('003288-astroid-clean', '00', None),\n",
       " ('003302-astroid-undersampling+gaussian', '00', None),\n",
       " ('003319-astroid-undersampling+gaussian', '00', None),\n",
       " ('003335-astroid-undersampling+uniform', '00', None),\n",
       " ('003347-astroid-undersampling+uniform', '00', None),\n",
       " ('003357-astroid-undersampling+gaussian', '00', None),\n",
       " ('003369-astroid-clean', '00', None),\n",
       " ('003386-astroid-clean', '00', None),\n",
       " ('003389-astroid-undersampling+uniform', '00', None),\n",
       " ('003410-astroid-undersampling+gaussian', '00', None),\n",
       " ('003437-astroid-undersampling+gaussian', '00', None),\n",
       " ('003447-astroid-clean', '00', None),\n",
       " ('003453-astroid-uniform', '00', None),\n",
       " ('003462-astroid-undersampling+gaussian', '00', None),\n",
       " ('003478-astroid-undersampling', '00', None),\n",
       " ('003495-astroid-undersampling', '00', None),\n",
       " ('003499-astroid-undersampling+gaussian', '00', None),\n",
       " ('003522-astroid-undersampling', '00', None),\n",
       " ('003539-astroid-clean', '00', None),\n",
       " ('003541-astroid-gaussian', '00', None),\n",
       " ('003542-astroid-clean', '00', None),\n",
       " ('003547-astroid-clean', '00', None),\n",
       " ('003560-astroid-undersampling+uniform', '00', None),\n",
       " ('003570-astroid-undersampling', '00', None),\n",
       " ('003586-astroid-undersampling+gaussian', '00', None),\n",
       " ('003594-astroid-gaussian', '00', None),\n",
       " ('003596-astroid-gaussian', '00', None),\n",
       " ('003605-astroid-undersampling+uniform', '00', None),\n",
       " ('003649-astroid-gaussian', '00', None),\n",
       " ('003653-astroid-undersampling+uniform', '00', None),\n",
       " ('003667-astroid-undersampling', '00', None),\n",
       " ('003674-astroid-uniform', '00', None),\n",
       " ('003689-astroid-uniform', '00', None),\n",
       " ('003698-astroid-gaussian', '00', None),\n",
       " ('003702-astroid-undersampling', '00', None),\n",
       " ('003705-astroid-undersampling+gaussian', '00', None),\n",
       " ('003709-astroid-undersampling', '00', None),\n",
       " ('003713-astroid-undersampling+uniform', '00', None),\n",
       " ('003720-astroid-gaussian', '00', None),\n",
       " ('003728-astroid-uniform', '00', None),\n",
       " ('003736-astroid-undersampling', '00', None),\n",
       " ('003737-astroid-undersampling+uniform', '00', None),\n",
       " ('003746-astroid-uniform', '00', None),\n",
       " ('003757-astroid-uniform', '00', None),\n",
       " ('003758-astroid-clean', '00', None),\n",
       " ('003759-astroid-clean', '00', None),\n",
       " ('003769-astroid-uniform', '00', None),\n",
       " ('003773-astroid-uniform', '00', None),\n",
       " ('003787-astroid-gaussian', '00', None),\n",
       " ('003808-astroid-undersampling', '00', None),\n",
       " ('003829-astroid-undersampling', '00', None),\n",
       " ('003830-astroid-undersampling+gaussian', '00', None),\n",
       " ('003838-astroid-gaussian', '00', None),\n",
       " ('003847-astroid-gaussian', '00', None),\n",
       " ('003851-astroid-undersampling', '00', None),\n",
       " ('003882-astroid-clean', '00', None),\n",
       " ('003897-astroid-undersampling+uniform', '00', None),\n",
       " ('003906-astroid-clean', '00', None),\n",
       " ('003913-astroid-uniform', '00', None),\n",
       " ('003914-astroid-uniform', '00', None),\n",
       " ('003924-astroid-clean', '00', None),\n",
       " ('003928-astroid-undersampling+uniform', '00', None),\n",
       " ('003999-astroid-undersampling+uniform', '00', None),\n",
       " ('004002-astroid-undersampling+uniform', '00', None),\n",
       " ('004003-astroid-undersampling+uniform', '00', None),\n",
       " ('004004-astroid-clean', '00', None),\n",
       " ('004006-astroid-undersampling', '00', None),\n",
       " ('004012-astroid-undersampling+gaussian', '00', None),\n",
       " ('004024-astroid-undersampling+uniform', '00', None),\n",
       " ('004036-astroid-gaussian', '00', None),\n",
       " ('004046-astroid-undersampling+uniform', '00', None),\n",
       " ('004056-astroid-undersampling', '00', None),\n",
       " ('004057-astroid-undersampling+gaussian', '00', None),\n",
       " ('004079-astroid-gaussian', '00', None),\n",
       " ('004083-astroid-gaussian', '00', None),\n",
       " ('004099-astroid-undersampling', '00', None),\n",
       " ('004107-astroid-undersampling+uniform', '00', None),\n",
       " ('004109-astroid-undersampling', '00', None),\n",
       " ('004110-astroid-undersampling+gaussian', '00', None),\n",
       " ('004115-astroid-clean', '00', None),\n",
       " ('004118-astroid-uniform', '00', None),\n",
       " ('004122-astroid-uniform', '00', None),\n",
       " ('004123-astroid-uniform', '00', None),\n",
       " ('004135-astroid-undersampling+gaussian', '00', None),\n",
       " ('004147-astroid-undersampling+gaussian', '00', None),\n",
       " ('004151-astroid-clean', '00', None),\n",
       " ('004157-astroid-gaussian', '00', None),\n",
       " ('004160-astroid-clean', '00', None),\n",
       " ('004170-astroid-gaussian', '00', None),\n",
       " ('004177-astroid-clean', '00', None),\n",
       " ('004183-astroid-gaussian', '00', None),\n",
       " ('004199-astroid-undersampling+gaussian', '00', None),\n",
       " ('004201-astroid-undersampling', '00', None),\n",
       " ('004209-astroid-clean', '00', None),\n",
       " ('004210-astroid-gaussian', '00', None),\n",
       " ('004221-astroid-undersampling+gaussian', '00', None),\n",
       " ('004234-astroid-clean', '00', None),\n",
       " ('004235-astroid-uniform', '00', None),\n",
       " ('004249-astroid-undersampling', '00', None),\n",
       " ('004295-astroid-undersampling', '00', None),\n",
       " ('004302-astroid-undersampling+gaussian', '00', None),\n",
       " ('004306-astroid-undersampling+uniform', '00', None),\n",
       " ('004309-astroid-undersampling+uniform', '00', None),\n",
       " ('004344-astroid-undersampling+gaussian', '00', None),\n",
       " ('004351-astroid-undersampling', '00', None),\n",
       " ('004354-astroid-gaussian', '00', None),\n",
       " ('004357-astroid-uniform', '00', None),\n",
       " ('004365-astroid-clean', '00', None),\n",
       " ('004391-astroid-clean', '00', None),\n",
       " ('004396-astroid-gaussian', '00', None),\n",
       " ('004404-astroid-uniform', '00', None),\n",
       " ('004413-astroid-undersampling+uniform', '00', None),\n",
       " ('004415-astroid-gaussian', '00', None),\n",
       " ('004416-astroid-undersampling+gaussian', '00', None),\n",
       " ('004421-astroid-clean', '00', None),\n",
       " ('004426-astroid-gaussian', '00', None),\n",
       " ('004437-astroid-uniform', '00', None),\n",
       " ('004447-astroid-undersampling', '00', None),\n",
       " ('004466-astroid-undersampling+gaussian', '00', None),\n",
       " ('004471-astroid-undersampling', '00', None),\n",
       " ('004475-astroid-undersampling+uniform', '00', None),\n",
       " ('004497-astroid-undersampling', '00', None),\n",
       " ('004499-astroid-uniform', '00', None),\n",
       " ('004507-astroid-uniform', '00', None),\n",
       " ('004508-astroid-gaussian', '00', None),\n",
       " ('004509-astroid-undersampling', '00', None),\n",
       " ('004525-astroid-undersampling+gaussian', '00', None),\n",
       " ('004529-astroid-uniform', '00', None),\n",
       " ('004530-astroid-uniform', '00', None),\n",
       " ('004534-astroid-uniform', '00', None),\n",
       " ('004540-astroid-undersampling', '00', None),\n",
       " ('004555-astroid-undersampling+gaussian', '00', None),\n",
       " ('004556-astroid-undersampling+uniform', '00', None),\n",
       " ('004557-astroid-undersampling+uniform', '00', None),\n",
       " ('004564-astroid-clean', '00', None),\n",
       " ('004569-astroid-undersampling+gaussian', '00', None),\n",
       " ('004573-astroid-undersampling', '00', None),\n",
       " ('004574-astroid-undersampling+uniform', '00', None),\n",
       " ('004580-astroid-undersampling+gaussian', '00', None),\n",
       " ('004582-astroid-gaussian', '00', None),\n",
       " ('004585-astroid-gaussian', '00', None),\n",
       " ('004603-astroid-undersampling+gaussian', '00', None),\n",
       " ('004611-astroid-clean', '00', None),\n",
       " ('004612-astroid-gaussian', '00', None),\n",
       " ('004637-astroid-clean', '00', None),\n",
       " ('004692-astroid-uniform', '00', None),\n",
       " ('004693-astroid-uniform', '00', None),\n",
       " ('004702-astroid-gaussian', '00', None),\n",
       " ('004715-astroid-clean', '00', None),\n",
       " ('004718-astroid-undersampling+gaussian', '00', None),\n",
       " ('004737-astroid-undersampling+uniform', '00', None),\n",
       " ('004741-astroid-undersampling+gaussian', '00', None),\n",
       " ('004745-astroid-clean', '00', None),\n",
       " ('004750-astroid-uniform', '00', None),\n",
       " ('004756-astroid-gaussian', '00', None),\n",
       " ('004759-astroid-clean', '00', None),\n",
       " ('004766-astroid-undersampling', '00', None),\n",
       " ('004767-astroid-undersampling+uniform', '00', None),\n",
       " ('004784-astroid-clean', '00', None),\n",
       " ('004787-astroid-undersampling+gaussian', '00', None),\n",
       " ('004799-astroid-undersampling+gaussian', '00', None),\n",
       " ('004801-astroid-gaussian', '00', None),\n",
       " ('004805-astroid-clean', '00', None),\n",
       " ('004811-astroid-undersampling+gaussian', '00', None),\n",
       " ('004816-astroid-undersampling+gaussian', '00', None),\n",
       " ('004821-astroid-clean', '00', None),\n",
       " ('004833-astroid-undersampling+gaussian', '00', None),\n",
       " ('004859-astroid-undersampling', '00', None),\n",
       " ('004860-astroid-undersampling+uniform', '00', None),\n",
       " ('004869-astroid-undersampling+uniform', '00', None),\n",
       " ('004895-astroid-undersampling+uniform', '00', None),\n",
       " ('004908-astroid-clean', '00', None),\n",
       " ('004929-astroid-clean', '00', None),\n",
       " ('004943-astroid-uniform', '00', None),\n",
       " ('004951-astroid-undersampling', '00', None),\n",
       " ('004955-astroid-undersampling', '00', None),\n",
       " ('005006-astroid-clean', '00', None),\n",
       " ('005009-astroid-gaussian', '00', None),\n",
       " ('005020-astroid-uniform', '00', None),\n",
       " ('005022-astroid-undersampling+uniform', '00', None),\n",
       " ('005038-astroid-undersampling+uniform', '00', None),\n",
       " ('005057-astroid-undersampling', '00', None),\n",
       " ('005071-astroid-clean', '00', None),\n",
       " ('005115-astroid-undersampling', '00', None),\n",
       " ('005118-astroid-undersampling+uniform', '00', None),\n",
       " ('005123-astroid-undersampling', '00', None),\n",
       " ('005128-astroid-undersampling+gaussian', '00', None),\n",
       " ('005140-astroid-uniform', '00', None),\n",
       " ('005142-astroid-clean', '00', None),\n",
       " ('005152-astroid-undersampling', '00', None),\n",
       " ('005165-astroid-clean', '00', None),\n",
       " ('005168-astroid-clean', '00', None),\n",
       " ('005173-astroid-undersampling+uniform', '00', None),\n",
       " ('005180-astroid-undersampling+uniform', '00', None),\n",
       " ('005191-astroid-undersampling+uniform', '00', None),\n",
       " ('005199-astroid-undersampling+gaussian', '00', None),\n",
       " ('005203-astroid-gaussian', '00', None),\n",
       " ('005221-astroid-uniform', '00', None),\n",
       " ('005229-astroid-clean', '00', None),\n",
       " ('005231-astroid-uniform', '00', None),\n",
       " ('005235-astroid-undersampling+uniform', '00', None),\n",
       " ('005246-astroid-undersampling', '00', None),\n",
       " ('005271-astroid-uniform', '00', None),\n",
       " ('005278-astroid-undersampling+gaussian', '00', None),\n",
       " ('005287-astroid-undersampling', '00', None),\n",
       " ('005307-astroid-undersampling+gaussian', '00', None),\n",
       " ('005315-astroid-undersampling+gaussian', '00', None),\n",
       " ('005321-astroid-undersampling+uniform', '00', None),\n",
       " ('005326-astroid-undersampling+gaussian', '00', None),\n",
       " ('005348-astroid-gaussian', '00', None),\n",
       " ('005356-astroid-undersampling+uniform', '00', None),\n",
       " ('005358-astroid-undersampling', '00', None),\n",
       " ('005366-astroid-gaussian', '00', None),\n",
       " ('005374-astroid-undersampling+gaussian', '00', None),\n",
       " ('005391-astroid-undersampling+uniform', '00', None),\n",
       " ('005398-astroid-undersampling+gaussian', '00', None),\n",
       " ('005399-astroid-clean', '00', None),\n",
       " ('005401-astroid-undersampling+gaussian', '00', None),\n",
       " ('005404-astroid-undersampling', '00', None),\n",
       " ('005410-astroid-undersampling+uniform', '00', None),\n",
       " ('005413-astroid-undersampling+uniform', '00', None),\n",
       " ('005432-astroid-undersampling+gaussian', '00', None),\n",
       " ('005435-astroid-undersampling+gaussian', '00', None),\n",
       " ('005440-astroid-undersampling+uniform', '00', None),\n",
       " ('005446-astroid-undersampling', '00', None),\n",
       " ('005448-astroid-undersampling+gaussian', '00', None),\n",
       " ('005450-astroid-undersampling+uniform', '00', None),\n",
       " ('005459-astroid-clean', '00', None),\n",
       " ('005466-astroid-undersampling+gaussian', '00', None),\n",
       " ('005474-astroid-uniform', '00', None),\n",
       " ('005503-astroid-clean', '00', None),\n",
       " ('005506-astroid-undersampling+uniform', '00', None),\n",
       " ('005514-astroid-undersampling', '00', None),\n",
       " ('005519-astroid-uniform', '00', None),\n",
       " ('005553-astroid-clean', '00', None),\n",
       " ('005560-astroid-gaussian', '00', None),\n",
       " ('005572-astroid-undersampling+uniform', '00', None),\n",
       " ('005577-astroid-undersampling', '00', None),\n",
       " ('005602-astroid-undersampling', '00', None),\n",
       " ('005629-astroid-undersampling+uniform', '00', None),\n",
       " ('005630-astroid-undersampling+gaussian', '00', None),\n",
       " ('005639-astroid-gaussian', '00', None),\n",
       " ('005647-astroid-undersampling+uniform', '00', None),\n",
       " ('005652-astroid-gaussian', '00', None),\n",
       " ('005668-astroid-clean', '00', None),\n",
       " ('005670-astroid-clean', '00', None),\n",
       " ('005673-astroid-undersampling+gaussian', '00', None),\n",
       " ('005690-astroid-gaussian', '00', None),\n",
       " ('005701-astroid-gaussian', '00', None),\n",
       " ('005706-astroid-uniform', '00', None),\n",
       " ('005710-astroid-undersampling', '00', None),\n",
       " ('005713-astroid-undersampling+gaussian', '00', None),\n",
       " ('005722-astroid-clean', '00', None),\n",
       " ('005723-astroid-undersampling+uniform', '00', None),\n",
       " ('005735-astroid-undersampling+uniform', '00', None),\n",
       " ('005754-astroid-undersampling+gaussian', '00', None),\n",
       " ('005773-astroid-clean', '00', None),\n",
       " ('005796-astroid-undersampling', '00', None),\n",
       " ('005798-astroid-undersampling', '00', None),\n",
       " ('005800-astroid-gaussian', '00', None),\n",
       " ('005837-astroid-clean', '00', None),\n",
       " ('005846-astroid-undersampling', '00', None),\n",
       " ('005862-astroid-undersampling+gaussian', '00', None),\n",
       " ('005867-astroid-clean', '00', None),\n",
       " ('005868-astroid-clean', '00', None),\n",
       " ('005875-astroid-undersampling+gaussian', '00', None),\n",
       " ('005885-astroid-undersampling+uniform', '00', None),\n",
       " ('005905-astroid-clean', '00', None),\n",
       " ('005909-astroid-undersampling', '00', None),\n",
       " ('005917-astroid-undersampling+gaussian', '00', None),\n",
       " ('005937-astroid-undersampling+gaussian', '00', None),\n",
       " ('005951-astroid-clean', '00', None),\n",
       " ('005960-astroid-clean', '00', None),\n",
       " ('005961-astroid-undersampling+uniform', '00', None),\n",
       " ('005969-astroid-gaussian', '00', None),\n",
       " ('005982-astroid-gaussian', '00', None),\n",
       " ('005987-astroid-uniform', '00', None),\n",
       " ('005991-astroid-undersampling+gaussian', '00', None),\n",
       " ('006006-astroid-clean', '00', None),\n",
       " ('006016-astroid-undersampling', '00', None),\n",
       " ('006025-astroid-undersampling+gaussian', '00', None),\n",
       " ('006039-astroid-gaussian', '00', None),\n",
       " ('006054-astroid-undersampling+uniform', '00', None),\n",
       " ('006056-astroid-undersampling+gaussian', '00', None),\n",
       " ('006059-astroid-gaussian', '00', None),\n",
       " ('006070-astroid-undersampling+gaussian', '00', None),\n",
       " ('006079-astroid-gaussian', '00', None),\n",
       " ('006080-astroid-undersampling+uniform', '00', None),\n",
       " ('006090-astroid-undersampling+uniform', '00', None),\n",
       " ('006093-astroid-undersampling+uniform', '00', None),\n",
       " ('006096-astroid-undersampling+gaussian', '00', None),\n",
       " ('006106-astroid-clean', '00', None),\n",
       " ('006108-astroid-clean', '00', None),\n",
       " ('006113-astroid-gaussian', '00', None),\n",
       " ('006152-astroid-uniform', '00', None),\n",
       " ('006157-astroid-gaussian', '00', None),\n",
       " ('006160-astroid-uniform', '00', None),\n",
       " ('006178-astroid-undersampling', '00', None),\n",
       " ('006183-astroid-uniform', '00', None),\n",
       " ('006198-astroid-gaussian', '00', None),\n",
       " ('006200-astroid-clean', '00', None),\n",
       " ('006205-astroid-uniform', '00', None),\n",
       " ('006211-astroid-undersampling+uniform', '00', None),\n",
       " ('006216-astroid-uniform', '00', None),\n",
       " ('006219-astroid-clean', '00', None),\n",
       " ('006226-astroid-undersampling+gaussian', '00', None),\n",
       " ('006231-astroid-clean', '00', None),\n",
       " ('006250-astroid-gaussian', '00', None),\n",
       " ('006259-astroid-undersampling+uniform', '00', None),\n",
       " ('006272-astroid-uniform', '00', None),\n",
       " ('006312-astroid-undersampling', '00', None),\n",
       " ('006318-astroid-undersampling+gaussian', '00', None),\n",
       " ('006330-astroid-undersampling+gaussian', '00', None),\n",
       " ('006333-astroid-undersampling+gaussian', '00', None),\n",
       " ('006348-astroid-undersampling+gaussian', '00', None),\n",
       " ('006350-astroid-clean', '00', None),\n",
       " ('006357-astroid-clean', '00', None),\n",
       " ('006359-astroid-uniform', '00', None),\n",
       " ('006374-astroid-undersampling+uniform', '00', None),\n",
       " ('006378-astroid-undersampling', '00', None),\n",
       " ('006379-astroid-undersampling+gaussian', '00', None),\n",
       " ('006395-astroid-uniform', '00', None),\n",
       " ('006411-astroid-clean', '00', None),\n",
       " ('006420-astroid-clean', '00', None),\n",
       " ('006422-astroid-undersampling', '00', None),\n",
       " ('006423-astroid-undersampling+uniform', '00', None),\n",
       " ('006428-astroid-undersampling', '00', None),\n",
       " ('006431-astroid-undersampling+uniform', '00', None),\n",
       " ('006441-astroid-clean', '00', None),\n",
       " ('006459-astroid-undersampling+gaussian', '00', None),\n",
       " ('006472-astroid-gaussian', '00', None),\n",
       " ('006475-astroid-clean', '00', None),\n",
       " ('006487-astroid-gaussian', '00', None),\n",
       " ('006491-astroid-undersampling', '00', None),\n",
       " ('006496-astroid-undersampling+uniform', '00', None),\n",
       " ('006497-astroid-clean', '00', None),\n",
       " ('006499-astroid-gaussian', '00', None),\n",
       " ('006514-astroid-undersampling+uniform', '00', None),\n",
       " ('006545-astroid-undersampling', '00', None),\n",
       " ('006595-astroid-undersampling+gaussian', '00', None),\n",
       " ('006617-astroid-clean', '00', None),\n",
       " ('006620-astroid-uniform', '00', None),\n",
       " ('006635-astroid-gaussian', '00', None),\n",
       " ('006640-astroid-gaussian', '00', None),\n",
       " ('006659-astroid-gaussian', '00', None),\n",
       " ('006660-astroid-clean', '00', None),\n",
       " ('006670-astroid-gaussian', '00', None),\n",
       " ('006676-astroid-undersampling', '00', None),\n",
       " ('006682-astroid-undersampling+uniform', '00', None),\n",
       " ('006705-astroid-uniform', '00', None),\n",
       " ('006742-astroid-uniform', '00', None),\n",
       " ('006743-astroid-gaussian', '00', None),\n",
       " ('006750-astroid-gaussian', '00', None),\n",
       " ('006751-astroid-uniform', '00', None),\n",
       " ('006776-astroid-gaussian', '00', None),\n",
       " ('006782-astroid-clean', '00', None),\n",
       " ('006794-astroid-undersampling', '00', None),\n",
       " ('006799-astroid-clean', '00', None),\n",
       " ('006813-astroid-undersampling+uniform', '00', None),\n",
       " ('006827-astroid-uniform', '00', None),\n",
       " ('006836-astroid-undersampling', '00', None),\n",
       " ('006840-astroid-undersampling+uniform', '00', None),\n",
       " ('006843-astroid-undersampling+gaussian', '00', None),\n",
       " ('006848-astroid-clean', '00', None),\n",
       " ('006866-astroid-undersampling+uniform', '00', None),\n",
       " ('006874-astroid-undersampling+gaussian', '00', None),\n",
       " ('006888-astroid-undersampling', '00', None),\n",
       " ('006896-astroid-gaussian', '00', None),\n",
       " ('006907-astroid-gaussian', '00', None),\n",
       " ('006913-astroid-undersampling+uniform', '00', None),\n",
       " ('006914-astroid-undersampling', '00', None),\n",
       " ('006926-astroid-gaussian', '00', None),\n",
       " ('006927-astroid-uniform', '00', None),\n",
       " ('006928-astroid-clean', '00', None),\n",
       " ('006948-astroid-uniform', '00', None),\n",
       " ('006959-astroid-clean', '00', None),\n",
       " ('006974-astroid-undersampling', '00', None),\n",
       " ('006989-astroid-clean', '00', None),\n",
       " ('006996-astroid-uniform', '00', None),\n",
       " ('007018-astroid-undersampling+uniform', '00', None),\n",
       " ('007040-astroid-uniform', '00', None),\n",
       " ('007045-astroid-uniform', '00', None),\n",
       " ('007065-astroid-gaussian', '00', None),\n",
       " ('007070-astroid-undersampling', '00', None),\n",
       " ('007082-astroid-clean', '00', None),\n",
       " ('007102-astroid-undersampling+uniform', '00', None),\n",
       " ('007117-astroid-clean', '00', None),\n",
       " ('007123-astroid-undersampling+gaussian', '00', None),\n",
       " ('007124-astroid-undersampling+gaussian', '00', None),\n",
       " ('007125-astroid-uniform', '00', None),\n",
       " ('007126-astroid-undersampling+uniform', '00', None),\n",
       " ('007142-astroid-undersampling+gaussian', '00', None),\n",
       " ('007151-astroid-undersampling+uniform', '00', None),\n",
       " ('007165-astroid-uniform', '00', None),\n",
       " ('007173-astroid-undersampling', '00', None),\n",
       " ('007181-astroid-undersampling+gaussian', '00', None),\n",
       " ('007193-astroid-clean', '00', None),\n",
       " ('007199-astroid-clean', '00', None),\n",
       " ('007201-astroid-undersampling+uniform', '00', None),\n",
       " ('007221-astroid-undersampling', '00', None),\n",
       " ('007225-astroid-uniform', '00', None),\n",
       " ('007229-astroid-gaussian', '00', None),\n",
       " ('007232-astroid-undersampling+uniform', '00', None),\n",
       " ('007234-astroid-undersampling+gaussian', '00', None),\n",
       " ('007235-astroid-undersampling+uniform', '00', None),\n",
       " ('007243-astroid-gaussian', '00', None),\n",
       " ('007277-astroid-uniform', '00', None),\n",
       " ('007284-astroid-uniform', '00', None),\n",
       " ('007314-astroid-clean', '00', None),\n",
       " ('007345-astroid-undersampling+gaussian', '00', None),\n",
       " ('007349-astroid-uniform', '00', None),\n",
       " ('007354-astroid-undersampling+gaussian', '00', None),\n",
       " ('007375-astroid-clean', '00', None),\n",
       " ('007380-astroid-undersampling+gaussian', '00', None),\n",
       " ('007382-astroid-uniform', '00', None),\n",
       " ('007415-astroid-undersampling+uniform', '00', None),\n",
       " ('007421-astroid-clean', '00', None),\n",
       " ('007427-astroid-clean', '00', None),\n",
       " ('007442-astroid-undersampling+uniform', '00', None),\n",
       " ('007454-astroid-undersampling+gaussian', '00', None),\n",
       " ('007470-astroid-undersampling+uniform', '00', None),\n",
       " ('007488-astroid-uniform', '00', None),\n",
       " ('007504-astroid-clean', '00', None),\n",
       " ('007511-astroid-undersampling+gaussian', '00', None),\n",
       " ('007524-astroid-undersampling+uniform', '00', None),\n",
       " ('007534-astroid-uniform', '00', None),\n",
       " ('007536-astroid-uniform', '00', None),\n",
       " ('007537-astroid-uniform', '00', None),\n",
       " ('007540-astroid-undersampling+uniform', '00', None),\n",
       " ('007541-astroid-uniform', '00', None),\n",
       " ('007564-astroid-uniform', '00', None),\n",
       " ('007575-astroid-undersampling+gaussian', '00', None),\n",
       " ('007577-astroid-uniform', '00', None),\n",
       " ('007579-astroid-uniform', '00', None),\n",
       " ('007587-astroid-undersampling+uniform', '00', None),\n",
       " ('007595-astroid-undersampling', '00', None),\n",
       " ('007606-astroid-clean', '00', None),\n",
       " ('007613-astroid-clean', '00', None),\n",
       " ('007621-astroid-gaussian', '00', None),\n",
       " ('007631-astroid-undersampling+gaussian', '00', None),\n",
       " ('007635-astroid-undersampling+uniform', '00', None),\n",
       " ('007645-astroid-gaussian', '00', None),\n",
       " ('007649-astroid-clean', '00', None),\n",
       " ('007651-astroid-undersampling+gaussian', '00', None),\n",
       " ('007698-astroid-undersampling', '00', None),\n",
       " ('007703-astroid-gaussian', '00', None),\n",
       " ('007707-astroid-clean', '00', None),\n",
       " ('007755-astroid-clean', '00', None),\n",
       " ('007760-astroid-clean', '00', None),\n",
       " ('007763-astroid-uniform', '00', None),\n",
       " ('007783-astroid-undersampling+gaussian', '00', None),\n",
       " ('007786-astroid-undersampling+uniform', '00', None),\n",
       " ('007805-astroid-undersampling+gaussian', '00', None),\n",
       " ('007807-astroid-undersampling+uniform', '00', None),\n",
       " ('007812-astroid-undersampling', '00', None),\n",
       " ('007819-astroid-clean', '00', None),\n",
       " ('007822-astroid-undersampling+gaussian', '00', None),\n",
       " ('007842-astroid-undersampling', '00', None),\n",
       " ('007844-astroid-undersampling+uniform', '00', None),\n",
       " ('007847-astroid-undersampling', '00', None),\n",
       " ('007859-astroid-undersampling+gaussian', '00', None),\n",
       " ('007882-astroid-undersampling+gaussian', '00', None),\n",
       " ('007889-astroid-undersampling', '00', None),\n",
       " ('007904-astroid-undersampling', '00', None),\n",
       " ('007919-astroid-gaussian', '00', None),\n",
       " ('007920-astroid-undersampling', '00', None),\n",
       " ('007945-astroid-clean', '00', None),\n",
       " ('007947-astroid-clean', '00', None),\n",
       " ('007948-astroid-undersampling+gaussian', '00', None),\n",
       " ('007952-astroid-uniform', '00', None),\n",
       " ('007979-astroid-clean', '00', None),\n",
       " ('007988-astroid-undersampling+uniform', '00', None),\n",
       " ('007989-astroid-uniform', '00', None),\n",
       " ('007993-astroid-uniform', '00', None),\n",
       " ('007995-astroid-undersampling+gaussian', '00', None),\n",
       " ('007996-astroid-undersampling+gaussian', '00', None),\n",
       " ('008011-astroid-undersampling+gaussian', '00', None),\n",
       " ('008014-astroid-undersampling+gaussian', '00', None),\n",
       " ('008066-astroid-undersampling+uniform', '00', None),\n",
       " ('008078-astroid-clean', '00', None),\n",
       " ('008081-astroid-gaussian', '00', None),\n",
       " ('008084-astroid-undersampling', '00', None),\n",
       " ('008086-astroid-clean', '00', None),\n",
       " ('008112-astroid-undersampling+uniform', '00', None),\n",
       " ('008130-astroid-gaussian', '00', None),\n",
       " ('008141-astroid-undersampling+uniform', '00', None),\n",
       " ('008146-astroid-undersampling', '00', None),\n",
       " ('008157-astroid-uniform', '00', None),\n",
       " ('008159-astroid-gaussian', '00', None),\n",
       " ('008186-astroid-undersampling+gaussian', '00', None),\n",
       " ('008193-astroid-gaussian', '00', None),\n",
       " ('008209-astroid-clean', '00', None),\n",
       " ('008220-astroid-undersampling+uniform', '00', None),\n",
       " ('008227-astroid-undersampling', '00', None),\n",
       " ('008244-astroid-uniform', '00', None),\n",
       " ('008260-astroid-undersampling+uniform', '00', None),\n",
       " ('008264-astroid-undersampling', '00', None),\n",
       " ('008282-astroid-undersampling+gaussian', '00', None),\n",
       " ('008291-astroid-undersampling+gaussian', '00', None),\n",
       " ('008293-astroid-uniform', '00', None),\n",
       " ('008300-astroid-gaussian', '00', None),\n",
       " ('008307-astroid-undersampling', '00', None),\n",
       " ('008323-astroid-undersampling', '00', None),\n",
       " ('008330-astroid-undersampling+gaussian', '00', None),\n",
       " ('008334-astroid-undersampling+uniform', '00', None),\n",
       " ('008340-astroid-clean', '00', None),\n",
       " ('008343-astroid-undersampling+uniform', '00', None),\n",
       " ('008349-astroid-undersampling+uniform', '00', None),\n",
       " ('008368-astroid-undersampling', '00', None),\n",
       " ('008382-astroid-undersampling+uniform', '00', None),\n",
       " ('008391-astroid-undersampling+gaussian', '00', None),\n",
       " ('008395-astroid-undersampling+uniform', '00', None),\n",
       " ('008406-astroid-uniform', '00', None),\n",
       " ('008410-astroid-undersampling+gaussian', '00', None),\n",
       " ('008421-astroid-gaussian', '00', None),\n",
       " ('008428-astroid-undersampling+uniform', '00', None),\n",
       " ('008455-astroid-undersampling+uniform', '00', None),\n",
       " ('008456-astroid-clean', '00', None),\n",
       " ('008475-astroid-undersampling+uniform', '00', None),\n",
       " ('008490-astroid-gaussian', '00', None),\n",
       " ('008493-astroid-uniform', '00', None),\n",
       " ('008500-astroid-clean', '00', None),\n",
       " ('008522-astroid-undersampling+gaussian', '00', None),\n",
       " ('008537-astroid-undersampling', '00', None),\n",
       " ('008545-astroid-undersampling+gaussian', '00', None),\n",
       " ('008551-astroid-undersampling+gaussian', '00', None),\n",
       " ('008555-astroid-undersampling+gaussian', '00', None),\n",
       " ('008576-astroid-undersampling', '00', None),\n",
       " ('008601-astroid-clean', '00', None),\n",
       " ('008604-astroid-gaussian', '00', None),\n",
       " ('008609-astroid-undersampling+uniform', '00', None),\n",
       " ('008611-astroid-clean', '00', None),\n",
       " ('008612-astroid-gaussian', '00', None),\n",
       " ('008637-astroid-undersampling', '00', None),\n",
       " ('008656-astroid-uniform', '00', None),\n",
       " ('008662-astroid-gaussian', '00', None),\n",
       " ('008675-astroid-undersampling', '00', None),\n",
       " ('008677-astroid-clean', '00', None),\n",
       " ('008678-astroid-undersampling+uniform', '00', None),\n",
       " ('008689-astroid-undersampling', '00', None),\n",
       " ('008691-astroid-undersampling+gaussian', '00', None),\n",
       " ('008701-astroid-uniform', '00', None),\n",
       " ('008703-astroid-undersampling+gaussian', '00', None),\n",
       " ('008708-astroid-undersampling+gaussian', '00', None),\n",
       " ('008717-astroid-clean', '00', None),\n",
       " ('008721-astroid-clean', '00', None),\n",
       " ('008726-astroid-undersampling+gaussian', '00', None),\n",
       " ('008741-astroid-undersampling+uniform', '00', None),\n",
       " ('008743-astroid-uniform', '00', None),\n",
       " ('008754-astroid-undersampling+gaussian', '00', None),\n",
       " ('008759-astroid-undersampling', '00', None),\n",
       " ('008761-astroid-clean', '00', None),\n",
       " ('008769-astroid-clean', '00', None),\n",
       " ('008792-astroid-undersampling+gaussian', '00', None),\n",
       " ('008798-astroid-undersampling+uniform', '00', None),\n",
       " ('008815-astroid-undersampling+gaussian', '00', None),\n",
       " ('008818-astroid-gaussian', '00', None),\n",
       " ('008823-astroid-undersampling+uniform', '00', None),\n",
       " ('008839-astroid-undersampling', '00', None),\n",
       " ('008840-astroid-undersampling+uniform', '00', None),\n",
       " ('008847-astroid-uniform', '00', None),\n",
       " ('008852-astroid-undersampling+uniform', '00', None),\n",
       " ('008866-astroid-uniform', '00', None),\n",
       " ('008875-astroid-gaussian', '00', None),\n",
       " ('008882-astroid-undersampling+gaussian', '00', None),\n",
       " ('008885-astroid-gaussian', '00', None),\n",
       " ('008893-astroid-undersampling', '00', None),\n",
       " ('008905-astroid-uniform', '00', None),\n",
       " ('008915-astroid-clean', '00', None),\n",
       " ('008925-astroid-undersampling+uniform', '00', None),\n",
       " ('008928-astroid-undersampling+uniform', '00', None),\n",
       " ('008932-astroid-gaussian', '00', None),\n",
       " ('008945-astroid-undersampling+gaussian', '00', None),\n",
       " ('008951-astroid-gaussian', '00', None),\n",
       " ('008981-astroid-undersampling+uniform', '00', None),\n",
       " ('009021-astroid-gaussian', '00', None),\n",
       " ('009023-astroid-undersampling', '00', None),\n",
       " ('009038-astroid-undersampling+gaussian', '00', None),\n",
       " ('009043-astroid-gaussian', '00', None),\n",
       " ('009049-astroid-gaussian', '00', None),\n",
       " ('009051-astroid-undersampling+gaussian', '00', None),\n",
       " ('009055-astroid-undersampling+uniform', '00', None),\n",
       " ('009065-astroid-gaussian', '00', None),\n",
       " ('009068-astroid-uniform', '00', None),\n",
       " ('009072-astroid-undersampling+gaussian', '00', None),\n",
       " ('009086-astroid-clean', '00', None),\n",
       " ('009090-astroid-undersampling+uniform', '00', None),\n",
       " ('009106-astroid-undersampling+uniform', '00', None),\n",
       " ('009113-astroid-uniform', '00', None),\n",
       " ('009115-astroid-gaussian', '00', None),\n",
       " ('009117-astroid-undersampling', '00', None),\n",
       " ('009141-astroid-undersampling+uniform', '00', None),\n",
       " ('009142-astroid-clean', '00', None),\n",
       " ('009176-astroid-uniform', '00', None),\n",
       " ('009177-astroid-undersampling+uniform', '00', None),\n",
       " ('009178-astroid-undersampling+gaussian', '00', None),\n",
       " ('009187-astroid-undersampling+gaussian', '00', None),\n",
       " ('009202-astroid-undersampling', '00', None),\n",
       " ('009242-astroid-undersampling+gaussian', '00', None),\n",
       " ('009244-astroid-undersampling+uniform', '00', None),\n",
       " ('009288-astroid-clean', '00', None),\n",
       " ('009291-astroid-uniform', '00', None),\n",
       " ('009294-astroid-undersampling+uniform', '00', None),\n",
       " ('009310-astroid-clean', '00', None),\n",
       " ('009311-astroid-gaussian', '00', None),\n",
       " ('009313-astroid-gaussian', '00', None),\n",
       " ('009324-astroid-uniform', '00', None),\n",
       " ('009331-astroid-clean', '00', None),\n",
       " ('009350-astroid-clean', '00', None),\n",
       " ('009352-astroid-clean', '00', None),\n",
       " ('009362-astroid-clean', '00', None),\n",
       " ('009386-astroid-undersampling+gaussian', '00', None),\n",
       " ('009389-astroid-undersampling+gaussian', '00', None),\n",
       " ('009395-astroid-gaussian', '00', None),\n",
       " ('009397-astroid-uniform', '00', None),\n",
       " ('009415-astroid-gaussian', '00', None),\n",
       " ('009416-astroid-gaussian', '00', None),\n",
       " ('009428-astroid-undersampling+gaussian', '00', None),\n",
       " ('009447-astroid-clean', '00', None),\n",
       " ('009451-astroid-undersampling+gaussian', '00', None),\n",
       " ('009455-astroid-uniform', '00', None),\n",
       " ('009462-astroid-undersampling', '00', None),\n",
       " ('009473-astroid-undersampling+gaussian', '00', None),\n",
       " ('009481-astroid-clean', '00', None),\n",
       " ('009496-astroid-undersampling+gaussian', '00', None),\n",
       " ('009518-astroid-clean', '00', None),\n",
       " ('009554-astroid-uniform', '00', None),\n",
       " ('009587-astroid-uniform', '00', None),\n",
       " ('009607-astroid-undersampling+gaussian', '00', None),\n",
       " ('009612-astroid-uniform', '00', None),\n",
       " ('009616-astroid-clean', '00', None),\n",
       " ('009620-astroid-undersampling', '00', None),\n",
       " ('009623-astroid-undersampling+uniform', '00', None),\n",
       " ('009629-astroid-uniform', '00', None),\n",
       " ('009644-astroid-gaussian', '00', None),\n",
       " ('009700-astroid-uniform', '00', None),\n",
       " ('009711-astroid-clean', '00', None),\n",
       " ('009713-astroid-undersampling', '00', None),\n",
       " ('009718-astroid-undersampling', '00', None),\n",
       " ('009729-astroid-uniform', '00', None),\n",
       " ('009732-astroid-uniform', '00', None),\n",
       " ('009740-astroid-undersampling', '00', None),\n",
       " ('009746-astroid-gaussian', '00', None),\n",
       " ('009764-astroid-undersampling', '00', None),\n",
       " ('009779-astroid-uniform', '00', None),\n",
       " ('009787-astroid-gaussian', '00', None),\n",
       " ('009795-astroid-undersampling+uniform', '00', None),\n",
       " ('009813-astroid-undersampling+gaussian', '00', None),\n",
       " ('009814-astroid-uniform', '00', None),\n",
       " ('009833-astroid-gaussian', '00', None),\n",
       " ('009840-astroid-undersampling', '00', None),\n",
       " ('009842-astroid-undersampling+uniform', '00', None),\n",
       " ('009848-astroid-undersampling+uniform', '00', None),\n",
       " ('009853-astroid-gaussian', '00', None),\n",
       " ('009857-astroid-undersampling', '00', None),\n",
       " ('009861-astroid-clean', '00', None),\n",
       " ('009875-astroid-clean', '00', None),\n",
       " ('009879-astroid-uniform', '00', None),\n",
       " ('009884-astroid-undersampling', '00', None),\n",
       " ('009889-astroid-clean', '00', None),\n",
       " ('009895-astroid-uniform', '00', None),\n",
       " ('009912-astroid-gaussian', '00', None),\n",
       " ('009914-astroid-clean', '00', None),\n",
       " ('009918-astroid-undersampling+uniform', '00', None),\n",
       " ('009924-astroid-gaussian', '00', None),\n",
       " ('009929-astroid-uniform', '00', None),\n",
       " ...]"
      ]
     },
     "execution_count": 9,
     "metadata": {},
     "output_type": "execute_result"
    }
   ],
   "source": [
    "symmetria_flist"
   ]
  },
  {
   "cell_type": "code",
   "execution_count": 10,
   "metadata": {},
   "outputs": [],
   "source": [
    "symmetria_df = pd.DataFrame(symmetria_flist, columns=['protein_id', 'class_id', 'number_of_points'])"
   ]
  },
  {
   "cell_type": "code",
   "execution_count": 11,
   "metadata": {},
   "outputs": [
    {
     "data": {
      "text/html": [
       "<div>\n",
       "<style scoped>\n",
       "    .dataframe tbody tr th:only-of-type {\n",
       "        vertical-align: middle;\n",
       "    }\n",
       "\n",
       "    .dataframe tbody tr th {\n",
       "        vertical-align: top;\n",
       "    }\n",
       "\n",
       "    .dataframe thead th {\n",
       "        text-align: right;\n",
       "    }\n",
       "</style>\n",
       "<table border=\"1\" class=\"dataframe\">\n",
       "  <thead>\n",
       "    <tr style=\"text-align: right;\">\n",
       "      <th></th>\n",
       "      <th>protein_id</th>\n",
       "      <th>class_id</th>\n",
       "      <th>number_of_points</th>\n",
       "    </tr>\n",
       "  </thead>\n",
       "  <tbody>\n",
       "    <tr>\n",
       "      <th>0</th>\n",
       "      <td>000002-astroid-clean</td>\n",
       "      <td>00</td>\n",
       "      <td>None</td>\n",
       "    </tr>\n",
       "    <tr>\n",
       "      <th>1</th>\n",
       "      <td>000011-astroid-gaussian</td>\n",
       "      <td>00</td>\n",
       "      <td>None</td>\n",
       "    </tr>\n",
       "    <tr>\n",
       "      <th>2</th>\n",
       "      <td>000012-astroid-gaussian</td>\n",
       "      <td>00</td>\n",
       "      <td>None</td>\n",
       "    </tr>\n",
       "    <tr>\n",
       "      <th>3</th>\n",
       "      <td>000021-astroid-undersampling+gaussian</td>\n",
       "      <td>00</td>\n",
       "      <td>None</td>\n",
       "    </tr>\n",
       "    <tr>\n",
       "      <th>4</th>\n",
       "      <td>000032-astroid-gaussian</td>\n",
       "      <td>00</td>\n",
       "      <td>None</td>\n",
       "    </tr>\n",
       "    <tr>\n",
       "      <th>...</th>\n",
       "      <td>...</td>\n",
       "      <td>...</td>\n",
       "      <td>...</td>\n",
       "    </tr>\n",
       "    <tr>\n",
       "      <th>20100</th>\n",
       "      <td>099907-citrus-undersampling+gaussian</td>\n",
       "      <td>01</td>\n",
       "      <td>None</td>\n",
       "    </tr>\n",
       "    <tr>\n",
       "      <th>20101</th>\n",
       "      <td>099922-citrus-gaussian</td>\n",
       "      <td>01</td>\n",
       "      <td>None</td>\n",
       "    </tr>\n",
       "    <tr>\n",
       "      <th>20102</th>\n",
       "      <td>099957-citrus-undersampling</td>\n",
       "      <td>01</td>\n",
       "      <td>None</td>\n",
       "    </tr>\n",
       "    <tr>\n",
       "      <th>20103</th>\n",
       "      <td>099976-citrus-gaussian</td>\n",
       "      <td>01</td>\n",
       "      <td>None</td>\n",
       "    </tr>\n",
       "    <tr>\n",
       "      <th>20104</th>\n",
       "      <td>099991-citrus-undersampling</td>\n",
       "      <td>01</td>\n",
       "      <td>None</td>\n",
       "    </tr>\n",
       "  </tbody>\n",
       "</table>\n",
       "<p>20105 rows × 3 columns</p>\n",
       "</div>"
      ],
      "text/plain": [
       "                                  protein_id class_id number_of_points\n",
       "0                       000002-astroid-clean       00             None\n",
       "1                    000011-astroid-gaussian       00             None\n",
       "2                    000012-astroid-gaussian       00             None\n",
       "3      000021-astroid-undersampling+gaussian       00             None\n",
       "4                    000032-astroid-gaussian       00             None\n",
       "...                                      ...      ...              ...\n",
       "20100   099907-citrus-undersampling+gaussian       01             None\n",
       "20101                 099922-citrus-gaussian       01             None\n",
       "20102            099957-citrus-undersampling       01             None\n",
       "20103                 099976-citrus-gaussian       01             None\n",
       "20104            099991-citrus-undersampling       01             None\n",
       "\n",
       "[20105 rows x 3 columns]"
      ]
     },
     "execution_count": 11,
     "metadata": {},
     "output_type": "execute_result"
    }
   ],
   "source": [
    "symmetria_df"
   ]
  },
  {
   "cell_type": "code",
   "execution_count": 12,
   "metadata": {},
   "outputs": [
    {
     "name": "stdout",
     "output_type": "stream",
     "text": [
      "Warning: Class 0 has only 101 proteins, but 100000 were requested. Using all available proteins.\n",
      "Warning: Class 1 has only 3 proteins, but 100000 were requested. Using all available proteins.\n",
      "Warning: Class 2 has only 17 proteins, but 100000 were requested. Using all available proteins.\n",
      "Warning: Class 3 has only 21 proteins, but 100000 were requested. Using all available proteins.\n",
      "Warning: Class 4 has only 15 proteins, but 100000 were requested. Using all available proteins.\n",
      "Warning: Class 5 has only 127 proteins, but 100000 were requested. Using all available proteins.\n",
      "Warning: Class 6 has only 25 proteins, but 100000 were requested. Using all available proteins.\n",
      "Warning: Class 7 has only 75 proteins, but 100000 were requested. Using all available proteins.\n",
      "Warning: Class 9 has only 66 proteins, but 100000 were requested. Using all available proteins.\n",
      "Warning: Class 10 has only 14 proteins, but 100000 were requested. Using all available proteins.\n",
      "Warning: Class 11 has only 43 proteins, but 100000 were requested. Using all available proteins.\n",
      "Warning: Class 12 has only 10 proteins, but 100000 were requested. Using all available proteins.\n",
      "Warning: Class 13 has only 22 proteins, but 100000 were requested. Using all available proteins.\n",
      "Warning: Class 15 has only 89 proteins, but 100000 were requested. Using all available proteins.\n",
      "Warning: Class 16 has only 154 proteins, but 100000 were requested. Using all available proteins.\n",
      "Warning: Class 17 has only 116 proteins, but 100000 were requested. Using all available proteins.\n",
      "Warning: Class 18 has only 76 proteins, but 100000 were requested. Using all available proteins.\n",
      "Warning: Class 19 has only 42 proteins, but 100000 were requested. Using all available proteins.\n",
      "Warning: Class 20 has only 7 proteins, but 100000 were requested. Using all available proteins.\n",
      "Warning: Class 21 has only 74 proteins, but 100000 were requested. Using all available proteins.\n",
      "Warning: Class 22 has only 58 proteins, but 100000 were requested. Using all available proteins.\n",
      "Warning: Class 23 has only 10 proteins, but 100000 were requested. Using all available proteins.\n",
      "Warning: Class 24 has only 10 proteins, but 100000 were requested. Using all available proteins.\n",
      "Warning: Class 25 has only 143 proteins, but 100000 were requested. Using all available proteins.\n",
      "Warning: Class 26 has only 2 proteins, but 100000 were requested. Using all available proteins.\n",
      "Warning: Class 27 has only 3 proteins, but 100000 were requested. Using all available proteins.\n",
      "Warning: Class 28 has only 18 proteins, but 100000 were requested. Using all available proteins.\n",
      "Warning: Class 29 has only 14 proteins, but 100000 were requested. Using all available proteins.\n",
      "Warning: Class 30 has only 3 proteins, but 100000 were requested. Using all available proteins.\n",
      "Warning: Class 31 has only 33 proteins, but 100000 were requested. Using all available proteins.\n",
      "Warning: Class 32 has only 93 proteins, but 100000 were requested. Using all available proteins.\n",
      "Warning: Class 33 has only 126 proteins, but 100000 were requested. Using all available proteins.\n",
      "Warning: Class 34 has only 73 proteins, but 100000 were requested. Using all available proteins.\n",
      "Warning: Class 35 has only 23 proteins, but 100000 were requested. Using all available proteins.\n",
      "Warning: Class 36 has only 8 proteins, but 100000 were requested. Using all available proteins.\n",
      "Warning: Class 37 has only 119 proteins, but 100000 were requested. Using all available proteins.\n",
      "Warning: Class 38 has only 34 proteins, but 100000 were requested. Using all available proteins.\n",
      "Warning: Class 39 has only 19 proteins, but 100000 were requested. Using all available proteins.\n",
      "Warning: Class 40 has only 95 proteins, but 100000 were requested. Using all available proteins.\n",
      "Warning: Class 41 has only 95 proteins, but 100000 were requested. Using all available proteins.\n",
      "Warning: Class 42 has only 2 proteins, but 100000 were requested. Using all available proteins.\n",
      "Warning: Class 43 has only 70 proteins, but 100000 were requested. Using all available proteins.\n",
      "Warning: Class 44 has only 2 proteins, but 100000 were requested. Using all available proteins.\n",
      "Warning: Class 45 has only 109 proteins, but 100000 were requested. Using all available proteins.\n",
      "Warning: Class 46 has only 44 proteins, but 100000 were requested. Using all available proteins.\n",
      "Warning: Class 47 has only 37 proteins, but 100000 were requested. Using all available proteins.\n",
      "Warning: Class 48 has only 27 proteins, but 100000 were requested. Using all available proteins.\n",
      "Warning: Class 49 has only 49 proteins, but 100000 were requested. Using all available proteins.\n",
      "Warning: Class 50 has only 2 proteins, but 100000 were requested. Using all available proteins.\n",
      "Warning: Class 51 has only 71 proteins, but 100000 were requested. Using all available proteins.\n",
      "Warning: Class 52 has only 76 proteins, but 100000 were requested. Using all available proteins.\n",
      "Warning: Class 53 has only 53 proteins, but 100000 were requested. Using all available proteins.\n",
      "Warning: Class 54 has only 128 proteins, but 100000 were requested. Using all available proteins.\n",
      "Warning: Class 55 has only 26 proteins, but 100000 were requested. Using all available proteins.\n",
      "Warning: Class 57 has only 9 proteins, but 100000 were requested. Using all available proteins.\n",
      "Warning: Class 58 has only 2 proteins, but 100000 were requested. Using all available proteins.\n",
      "Warning: Class 59 has only 54 proteins, but 100000 were requested. Using all available proteins.\n",
      "Warning: Class 60 has only 73 proteins, but 100000 were requested. Using all available proteins.\n",
      "Warning: Class 61 has only 240 proteins, but 100000 were requested. Using all available proteins.\n",
      "Warning: Class 62 has only 135 proteins, but 100000 were requested. Using all available proteins.\n",
      "Warning: Class 63 has only 2 proteins, but 100000 were requested. Using all available proteins.\n",
      "Warning: Class 64 has only 57 proteins, but 100000 were requested. Using all available proteins.\n",
      "Warning: Class 65 has only 10 proteins, but 100000 were requested. Using all available proteins.\n",
      "Warning: Class 66 has only 54 proteins, but 100000 were requested. Using all available proteins.\n",
      "Warning: Class 67 has only 17 proteins, but 100000 were requested. Using all available proteins.\n",
      "Warning: Class 68 has only 5 proteins, but 100000 were requested. Using all available proteins.\n",
      "Warning: Class 69 has only 80 proteins, but 100000 were requested. Using all available proteins.\n",
      "Warning: Class 70 has only 223 proteins, but 100000 were requested. Using all available proteins.\n",
      "Warning: Class 71 has only 102 proteins, but 100000 were requested. Using all available proteins.\n",
      "Warning: Class 72 has only 2 proteins, but 100000 were requested. Using all available proteins.\n",
      "Warning: Class 73 has only 6 proteins, but 100000 were requested. Using all available proteins.\n",
      "Warning: Class 74 has only 150 proteins, but 100000 were requested. Using all available proteins.\n",
      "Warning: Class 75 has only 69 proteins, but 100000 were requested. Using all available proteins.\n",
      "Warning: Class 76 has only 10 proteins, but 100000 were requested. Using all available proteins.\n",
      "Warning: Class 77 has only 2 proteins, but 100000 were requested. Using all available proteins.\n",
      "Warning: Class 78 has only 5 proteins, but 100000 were requested. Using all available proteins.\n",
      "Warning: Class 79 has only 78 proteins, but 100000 were requested. Using all available proteins.\n",
      "Warning: Class 80 has only 57 proteins, but 100000 were requested. Using all available proteins.\n",
      "Warning: Class 81 has only 58 proteins, but 100000 were requested. Using all available proteins.\n",
      "Warning: Class 82 has only 2 proteins, but 100000 were requested. Using all available proteins.\n",
      "Warning: Class 83 has only 115 proteins, but 100000 were requested. Using all available proteins.\n",
      "Warning: Class 84 has only 18 proteins, but 100000 were requested. Using all available proteins.\n",
      "Warning: Class 85 has only 49 proteins, but 100000 were requested. Using all available proteins.\n",
      "Warning: Class 86 has only 203 proteins, but 100000 were requested. Using all available proteins.\n",
      "Warning: Class 87 has only 103 proteins, but 100000 were requested. Using all available proteins.\n",
      "Warning: Class 88 has only 97 proteins, but 100000 were requested. Using all available proteins.\n",
      "Warning: Class 89 has only 3 proteins, but 100000 were requested. Using all available proteins.\n",
      "Warning: Class 91 has only 118 proteins, but 100000 were requested. Using all available proteins.\n",
      "Warning: Class 92 has only 129 proteins, but 100000 were requested. Using all available proteins.\n",
      "Warning: Class 93 has only 61 proteins, but 100000 were requested. Using all available proteins.\n",
      "Warning: Class 94 has only 52 proteins, but 100000 were requested. Using all available proteins.\n",
      "Warning: Class 95 has only 2 proteins, but 100000 were requested. Using all available proteins.\n",
      "Warning: Class 96 has only 35 proteins, but 100000 were requested. Using all available proteins.\n"
     ]
    },
    {
     "data": {
      "text/plain": [
       "\"\\ndf_3.to_csv('datasets/train_set-2_cls-1000_images.csv')\\ndf_4.to_csv('datasets/train_set-10_cls-1000_images.csv')\\ndf_5.to_csv('datasets/train_set-20_cls-1000_images.csv')\\ndf_6.to_csv('datasets/train_set-20_cls-2000_images.csv')\\ndf_7.to_csv('datasets/train_set-all-cls_except-cls-larger-than-450.csv')\\nsymmetria_df.to_csv('datasets/train_set-symmetria-100k-easy-astroid-citrus-10k-samples.csv')\\n\""
      ]
     },
     "execution_count": 12,
     "metadata": {},
     "output_type": "execute_result"
    }
   ],
   "source": [
    "cls_selected = [8, 90, 56, 14, 61, 70, 86, 5, 16, 25, 54, 62, 74, 83, 91, 92, 17, 45, 87, 71]\n",
    "\n",
    "df_3 = create_dataframe(raw_train_dataframe_f1, cls_selected[:2],  number_of_proteins=500)\n",
    "df_4 = create_dataframe(raw_train_dataframe_f1, cls_selected[:10], number_of_proteins=100)\n",
    "df_5 = create_dataframe(raw_train_dataframe_f1, cls_selected[:20], number_of_proteins=50)\n",
    "df_6 = create_dataframe(raw_train_dataframe_f1, cls_selected[:20], number_of_proteins=100)\n",
    "df_7 = create_dataframe(raw_train_dataframe_f6, dist_f6_available_classes, number_of_proteins=100000)\n",
    "\n",
    "'''\n",
    "df_3.to_csv('datasets/train_set-2_cls-1000_images.csv')\n",
    "df_4.to_csv('datasets/train_set-10_cls-1000_images.csv')\n",
    "df_5.to_csv('datasets/train_set-20_cls-1000_images.csv')\n",
    "df_6.to_csv('datasets/train_set-20_cls-2000_images.csv')\n",
    "df_7.to_csv('datasets/train_set-all-cls_except-cls-larger-than-450.csv')\n",
    "symmetria_df.to_csv('datasets/train_set-symmetria-100k-easy-astroid-citrus-10k-samples.csv')\n",
    "'''"
   ]
  },
  {
   "cell_type": "markdown",
   "metadata": {},
   "source": [
    "#### Augmentations"
   ]
  },
  {
   "cell_type": "code",
   "execution_count": 13,
   "metadata": {},
   "outputs": [],
   "source": [
    "from format import Text\n",
    "import torch\n",
    "from symmetria.transformations import *\n",
    "from symmetria.shapes import BenchmarkShape"
   ]
  },
  {
   "cell_type": "code",
   "execution_count": 14,
   "metadata": {},
   "outputs": [],
   "source": [
    "points_rectangle = np.array([[0, 2, 0, 0, 2, 2, 0, 2],\n",
    "                             [0, 0, 1, 0, 1, 0, 1, 1],\n",
    "                             [0, 0, 0, 1, 0, 1, 1, 1]]).astype(np.float32)\n",
    "\n",
    "points_rectangle_t = torch.from_numpy(points_rectangle)\n",
    "\n",
    "rot = random_rotation_matrix(rotate_x=False, rotate_z=False)\n",
    "\n",
    "shapebench = BenchmarkShape(points_rectangle_t)\n",
    "#shapebench.apply_rotation(torch.from_numpy(rot))\n",
    "#shapebench.apply_traslation(1,1,0)\n",
    "#shapebench.apply_uniform_noise(100, 1)\n",
    "#shapebench.apply_gaussian_noise(100, 1)\n",
    "\n",
    "rect = pv.PolyData(shapebench.points.numpy().T)\n",
    "#rect.plot()"
   ]
  },
  {
   "cell_type": "code",
   "execution_count": 15,
   "metadata": {},
   "outputs": [],
   "source": [
    "from random import random\n",
    "\n",
    "class RotateAroundZero():\n",
    "    def __init__(self, p=0.5, rot=None):\n",
    "        self.p = p\n",
    "        self.rot = rot\n",
    "\n",
    "    def __call__(self, points):\n",
    "        if random() < self.p:\n",
    "            if self.rot == None:\n",
    "                rot = torch.from_numpy(random_rotation_matrix())\n",
    "            else:\n",
    "                rot = self.rot\n",
    "        \n",
    "            rot = rot.to(torch.device(points.device))\n",
    "\n",
    "            ones = torch.ones((1,points.shape[0]), device=points.device)\n",
    "            coords = torch.concatenate((torch.transpose(points, 0, 1), ones))\n",
    "            \n",
    "            coords = rot@coords\n",
    "            \n",
    "            points = torch.transpose(coords[:3,:], 0, 1)\n",
    "\n",
    "        return points\n",
    "    \n",
    "    def __repr__(self):\n",
    "        return f'RotateAroundZero(p={repr(self.p)}, rot={repr(self.rot)})'\n",
    "    \n",
    "class Translate():\n",
    "    def __init__(self, p=0.5, shift=None, scale=1):\n",
    "        self.p = p\n",
    "        self.shift = shift\n",
    "        self.scale = scale\n",
    "\n",
    "    def __call__(self, points):        \n",
    "        if random() < self.p:\n",
    "            if self.shift == None:\n",
    "                shift = (torch.rand(1, device=points.device) * self.scale,\n",
    "                         torch.rand(1, device=points.device) * self.scale,\n",
    "                         torch.rand(1, device=points.device) * self.scale)\n",
    "            else:\n",
    "                shift = self.shift\n",
    "            \n",
    "            for i in range(len(shift)):\n",
    "                points[:,i] += shift[i]\n",
    "                   \n",
    "        return points\n",
    "    \n",
    "    def __repr__(self):\n",
    "        return f'Translate(p={repr(self.p)}, shift={repr(self.shift)}, scale={repr(self.scale)})'\n",
    "    \n",
    "class UniformNoise():\n",
    "    def __init__(self, n, T, p=0.5):\n",
    "        self.p = p\n",
    "        self.n, self.T = n, T\n",
    "    \n",
    "    def __call__(self, points):\n",
    "        if random() < self.p:\n",
    "            num_points = points.shape[0]\n",
    "\n",
    "            indices = torch.randperm(num_points, device=points.device)[:self.T]\n",
    "\n",
    "            points[indices,:] = points[indices,:] + (2*torch.rand(self.T, 3, device=points.device)-1)/self.n\n",
    "        \n",
    "        return points\n",
    "    \n",
    "    def __repr__(self):\n",
    "        return f'UniformNoise(n={repr(self.n)}, T={repr(self.T)}, p={repr(self.p)})'\n",
    "    \n",
    "class GaussianNoise():\n",
    "    def __init__(self, n, T, p=0.5):\n",
    "        self.p = p\n",
    "        self.n, self.T = n, T\n",
    "    \n",
    "    def __call__(self, points):\n",
    "        if random() < self.p:\n",
    "            num_points = points.shape[0]\n",
    "\n",
    "            indices = torch.randperm(num_points, device=points.device)[:self.T]\n",
    "    \n",
    "            points[indices,:] = points[indices,:] + torch.rand(self.T, 3, device=points.device)/self.n\n",
    "\n",
    "        return points\n",
    "    \n",
    "    def __repr__(self):\n",
    "        return f'GaussianNoise(n={repr(self.n)}, T={repr(self.T)}, p={repr(self.p)})'"
   ]
  },
  {
   "cell_type": "code",
   "execution_count": 16,
   "metadata": {},
   "outputs": [
    {
     "name": "stdout",
     "output_type": "stream",
     "text": [
      "Translate(p=1, shift=None, scale=1)\n",
      "Translate(p=1, shift=None, scale=1)\n"
     ]
    }
   ],
   "source": [
    "points_rectangle = np.array([[0, 2, 0, 0, 2, 2, 0, 2],\n",
    "                             [0, 0, 1, 0, 1, 0, 1, 1],\n",
    "                             [0, 0, 0, 1, 0, 1, 1, 1]]).astype(np.float32).T\n",
    "\n",
    "points_rectangle_t = torch.from_numpy(points_rectangle).to(torch.device('cuda:0'))\n",
    "\n",
    "translate = Translate(p=1)\n",
    "print(translate)\n",
    "points_rectangle_t = translate(points_rectangle_t)\n",
    "print(translate)\n",
    "rect = pv.PolyData(points_rectangle)\n",
    "#rect.plot()\n",
    "\n",
    "rect_tfm = pv.PolyData(points_rectangle_t.cpu().numpy())\n",
    "#rect_tfm.plot()"
   ]
  },
  {
   "cell_type": "markdown",
   "metadata": {},
   "source": [
    "#### DataSet and DataLoader"
   ]
  },
  {
   "cell_type": "code",
   "execution_count": 17,
   "metadata": {},
   "outputs": [
    {
     "data": {
      "text/plain": [
       "'\\ndef generate_train_valid_set_boring(df, val_pct, seed=42):\\n    train_size = int(len(df) * val_pct)    \\n    df_train = df.sample(train_size, random_state=seed)\\n    df_valid = df.drop(df_train.index)\\n\\n    return df_train, df_valid\\n'"
      ]
     },
     "execution_count": 17,
     "metadata": {},
     "output_type": "execute_result"
    }
   ],
   "source": [
    "import numpy as np\n",
    "import lzma\n",
    "from torch.utils.data import Dataset, DataLoader\n",
    "from symmetria.transforms.RandomSampler import RandomSampler\n",
    "from symmetria.transforms.UnitSphereNormalization import UnitSphereNormalization\n",
    "from tqdm import tqdm\n",
    "\n",
    "class ProteinDataset(Dataset):\n",
    "    def __init__(self, data_df, tfms, root=root, extention='xz', train=True):\n",
    "        super().__init__()\n",
    "        self.df = data_df\n",
    "        self.tfms = tfms\n",
    "        self.extention = extention\n",
    "        \n",
    "        self.train = train\n",
    "        if self.train:\n",
    "            if self.extention == 'vtk':\n",
    "                self.root = os.path.join(root, 'train')\n",
    "\n",
    "            elif self.extention == 'xz':\n",
    "                #self.root = os.path.join(root, 'train-symmetria-xz') # TODO roll back\n",
    "                self.root = os.path.join(root, 'train-xz')\n",
    "            else:\n",
    "                raise UserWarning('Extention not supported')\n",
    "            \n",
    "        else:\n",
    "            raise UserWarning('Not yet implemented for the test dataset')\n",
    "        \n",
    "        self.encode_label()\n",
    "        self.loader()\n",
    "    \n",
    "    def loader(self):\n",
    "        self.data = []\n",
    "        \n",
    "        for index in tqdm(self.df.index):\n",
    "            protein, cls, nop = self.df['protein_id'].loc[index], self.df['class_id'].loc[index], self.df['number_of_points'].loc[index]\n",
    "\n",
    "            cls_t = torch.tensor(self.encoded_cls[cls]).to(torch.device('cuda:0'))\n",
    "\n",
    "            if self.extention == 'vtk':\n",
    "                point_cloud = self.get_vtk_points(protein)\n",
    "\n",
    "            elif self.extention == 'xz':\n",
    "                point_cloud = self.get_xz_points(protein, cls, nop)\n",
    "\n",
    "            point_cloud_t = torch.from_numpy(point_cloud).to(torch.device('cuda:0'))     \n",
    "\n",
    "            point_cloud_t, cls_t = point_cloud_t.type(torch.float32), cls_t.type(torch.float32)\n",
    "            self.data.append((point_cloud_t, cls_t))\n",
    "\n",
    "    def get_vtk_points(self, name):\n",
    "        prot_file = name + '.' + self.extention\n",
    "        prot_file = os.path.join(self.root, prot_file)\n",
    "        \n",
    "        prot_mesh = pv.read(prot_file)\n",
    "\n",
    "        return prot_mesh.points\n",
    "\n",
    "    def get_xz_points(self, name, cls, nop=None, debug=False):\n",
    "        cls = str(cls)\n",
    "        nop = str(nop) if nop and nop != 'nan' else None\n",
    "\n",
    "        while len(cls) < 2:\n",
    "            cls = '0' + cls\n",
    "        \n",
    "        if nop and nop != 'nan':\n",
    "            while len(nop) < 6:\n",
    "                nop = '0' + nop\n",
    "\n",
    "        if nop and nop != 'nan':\n",
    "            prot_file = cls + '-' + nop +  '-' + name.replace(':', '+') + '.' + self.extention\n",
    "        else:\n",
    "            prot_file = cls + '-' + name.replace(':', '+') + '.' + self.extention\n",
    "        if debug:\n",
    "            print(f'ProteinDataset is loading files from {self.root}')\n",
    "        prot_file = os.path.join(self.root, prot_file)        \n",
    "        \n",
    "        with lzma.open(prot_file, 'rt') as f:\n",
    "            point_cloud = np.loadtxt(f)\n",
    "\n",
    "        return point_cloud\n",
    "\n",
    "    def __len__(self):\n",
    "        return len(self.data)\n",
    "    \n",
    "    def __getitem__(self, index, do_transform=True):\n",
    "        prot, cls = self.data[index]\n",
    "        \n",
    "        if do_transform:\n",
    "            for tfm in self.tfms:\n",
    "                prot = tfm(prot)\n",
    "\n",
    "        # NOTE: here we transpose the points (from Nx3 to 3xN) to then pass them to the PoinNet encoder\n",
    "        prot = torch.transpose(prot, 0, 1)\n",
    "        return (prot, cls)\n",
    "    \n",
    "    def encode_label(self):\n",
    "        self.encoded_cls = {}\n",
    "        \n",
    "        prot_clss = np.sort(self.df['class_id'].unique())\n",
    "        \n",
    "        #One hot encoding\n",
    "        '''\n",
    "        for idx, cls in enumerate(prot_clss):\n",
    "            self.encoded_cls[cls] = np.eye(len(prot_clss))[idx]\n",
    "        '''\n",
    "\n",
    "        for idx, cls in enumerate(prot_clss):\n",
    "            self.encoded_cls[cls] = int(idx)\n",
    "\n",
    "    def render_pointcloud(self, index):\n",
    "        prot, _ = self.data[index]\n",
    "        prot = torch.transpose(prot, 0, 1).numpy()\n",
    "        cloud = pv.PolyData(prot)\n",
    "        print(cloud)\n",
    "        cloud.plot()\n",
    "    \n",
    "\n",
    "transforms = [UnitSphereNormalization(),\n",
    "              Translate(p=0.8, scale=1),\n",
    "              RotateAroundZero(p=0.8),\n",
    "              GaussianNoise(n=100, T=2500, p=0.8),\n",
    "              RandomSampler(sample_size=5000)]\n",
    "\n",
    "\n",
    "def generate_train_valid_set(df, tfms, val_pct, root=root, seed=42, **kwargs):\n",
    "    '''\n",
    "    Can also take some other arguments to be passed to the dataset initializer\n",
    "\n",
    "            -> path (str): path to the parent directory containing the train files \n",
    "    '''\n",
    "\n",
    "    train_size = int(len(df) * (1 - val_pct))    \n",
    "    df_train = df.sample(train_size, random_state=seed)\n",
    "    df_valid = df.drop(df_train.index)\n",
    "\n",
    "    return ProteinDataset(df_train, tfms, root=root, **kwargs), ProteinDataset(df_valid, tfms, root=root, **kwargs)\n",
    "\n",
    "'''\n",
    "def generate_train_valid_set_boring(df, val_pct, seed=42):\n",
    "    train_size = int(len(df) * val_pct)    \n",
    "    df_train = df.sample(train_size, random_state=seed)\n",
    "    df_valid = df.drop(df_train.index)\n",
    "\n",
    "    return df_train, df_valid\n",
    "'''"
   ]
  },
  {
   "cell_type": "code",
   "execution_count": 18,
   "metadata": {},
   "outputs": [
    {
     "name": "stdout",
     "output_type": "stream",
     "text": [
      "Warning: Class 2 has only 17 proteins, but 100000 were requested. Using all available proteins.\n",
      "Warning: Class 30 has only 3 proteins, but 100000 were requested. Using all available proteins.\n",
      "Warning: Class 10 has only 14 proteins, but 100000 were requested. Using all available proteins.\n"
     ]
    },
    {
     "name": "stderr",
     "output_type": "stream",
     "text": [
      "100%|█████████████████████████████████████████████████████████████████████████████████████████████████████████████████████████████████████████████████████████| 27/27 [00:00<00:00, 45.36it/s]\n",
      "100%|███████████████████████████████████████████████████████████████████████████████████████████████████████████████████████████████████████████████████████████| 7/7 [00:00<00:00, 49.81it/s]\n"
     ]
    }
   ],
   "source": [
    "example_dataframe = create_dataframe(raw_train_dataframe_f1, class_ids=[2, 30, 10], number_of_proteins=100000)\n",
    "example_set_train, example_set_valid = generate_train_valid_set(example_dataframe, transforms, 0.2)"
   ]
  },
  {
   "cell_type": "code",
   "execution_count": 19,
   "metadata": {},
   "outputs": [
    {
     "data": {
      "text/plain": [
       "(tensor([[ -4.1000,  -1.0680,  -4.7660,  ...,   7.4030,   8.5880,   8.4030],\n",
       "         [-11.1130, -11.1070, -10.9770,  ...,  43.4090,  41.3760,  43.0970],\n",
       "         [-22.7970, -22.9360, -21.8270,  ...,  41.0850,  41.0110,  41.0830]],\n",
       "        device='cuda:0'),\n",
       " tensor(0., device='cuda:0'))"
      ]
     },
     "execution_count": 19,
     "metadata": {},
     "output_type": "execute_result"
    }
   ],
   "source": [
    "example_set_train.__getitem__(0, do_transform=False)"
   ]
  },
  {
   "cell_type": "code",
   "execution_count": 20,
   "metadata": {},
   "outputs": [],
   "source": [
    "prot = example_set_train.__getitem__(0, do_transform=False)"
   ]
  },
  {
   "cell_type": "code",
   "execution_count": 21,
   "metadata": {},
   "outputs": [
    {
     "name": "stdout",
     "output_type": "stream",
     "text": [
      "prot type = <class 'tuple'>\n",
      "prot len = 2\n",
      "prot = (tensor([[ -4.1000,  -1.0680,  -4.7660,  ...,   7.4030,   8.5880,   8.4030],\n",
      "        [-11.1130, -11.1070, -10.9770,  ...,  43.4090,  41.3760,  43.0970],\n",
      "        [-22.7970, -22.9360, -21.8270,  ...,  41.0850,  41.0110,  41.0830]],\n",
      "       device='cuda:0'), tensor(0., device='cuda:0'))\n",
      "\n"
     ]
    }
   ],
   "source": [
    "print(f'{Text(prot, 'prot'):content}')"
   ]
  },
  {
   "cell_type": "code",
   "execution_count": 22,
   "metadata": {},
   "outputs": [
    {
     "name": "stdout",
     "output_type": "stream",
     "text": [
      "prot[0] type = <class 'torch.Tensor'>\n",
      "prot[0] device = cuda:0\n",
      "prot[0] dtype = torch.float32\n",
      "prot[0] shape = torch.Size([3, 15840])\n",
      "prot[0] = tensor([[ -4.1000,  -1.0680,  -4.7660,  ...,   7.4030,   8.5880,   8.4030],\n",
      "        [-11.1130, -11.1070, -10.9770,  ...,  43.4090,  41.3760,  43.0970],\n",
      "        [-22.7970, -22.9360, -21.8270,  ...,  41.0850,  41.0110,  41.0830]],\n",
      "       device='cuda:0')\n",
      "\n"
     ]
    }
   ],
   "source": [
    "print(f'{Text(prot[0], 'prot[0]'):content}')"
   ]
  },
  {
   "cell_type": "code",
   "execution_count": 23,
   "metadata": {},
   "outputs": [
    {
     "name": "stdout",
     "output_type": "stream",
     "text": [
      "prot[0].min() = tensor(-26.1780, device='cuda:0') - prot[0].max() = tensor(54.5450, device='cuda:0')\n"
     ]
    }
   ],
   "source": [
    "print(f'{prot[0].min() = } - {prot[0].max() = }')"
   ]
  },
  {
   "cell_type": "code",
   "execution_count": 24,
   "metadata": {},
   "outputs": [],
   "source": [
    "unit_normalizer = UnitSphereNormalization()\n",
    "prot, _ = example_set_train.__getitem__(0, do_transform=False)\n",
    "prot = torch.transpose(prot, 0, 1)\n",
    "norm_prot = unit_normalizer(prot)"
   ]
  },
  {
   "cell_type": "code",
   "execution_count": 25,
   "metadata": {},
   "outputs": [
    {
     "name": "stdout",
     "output_type": "stream",
     "text": [
      "norm_prot type = <class 'torch.Tensor'>\n",
      "norm_prot device = cuda:0\n",
      "norm_prot dtype = torch.float32\n",
      "norm_prot shape = torch.Size([15840, 3])\n",
      "norm_prot = tensor([[-0.0644, -0.2370, -0.4418],\n",
      "        [-0.0144, -0.2369, -0.4441],\n",
      "        [-0.0754, -0.2348, -0.4258],\n",
      "        ...,\n",
      "        [ 0.1253,  0.6620,  0.6116],\n",
      "        [ 0.1448,  0.6285,  0.6104],\n",
      "        [ 0.1417,  0.6569,  0.6116]], device='cuda:0')\n",
      "\n"
     ]
    }
   ],
   "source": [
    "print(f'{Text(norm_prot, 'norm_prot'):content}')"
   ]
  },
  {
   "cell_type": "code",
   "execution_count": 26,
   "metadata": {},
   "outputs": [
    {
     "name": "stdout",
     "output_type": "stream",
     "text": [
      "norm_prot.min() = tensor(-0.4854, device='cuda:0') - norm_prot.max() = tensor(0.8336, device='cuda:0')\n"
     ]
    }
   ],
   "source": [
    "print(f'{norm_prot.min() = } - {norm_prot.max() = }')"
   ]
  },
  {
   "cell_type": "code",
   "execution_count": 27,
   "metadata": {},
   "outputs": [
    {
     "name": "stdout",
     "output_type": "stream",
     "text": [
      "unit_normalizer.centroid.min() = tensor(-0.1927, device='cuda:0') - unit_normalizer.centroid.max() = tensor(3.9948, device='cuda:0')\n"
     ]
    }
   ],
   "source": [
    "print(f'{unit_normalizer.centroid.min() = } - {unit_normalizer.centroid.max() = }')"
   ]
  },
  {
   "cell_type": "code",
   "execution_count": 28,
   "metadata": {},
   "outputs": [
    {
     "data": {
      "text/plain": [
       "torch.Size([3])"
      ]
     },
     "execution_count": 28,
     "metadata": {},
     "output_type": "execute_result"
    }
   ],
   "source": [
    "unit_normalizer.centroid.shape"
   ]
  },
  {
   "cell_type": "code",
   "execution_count": 29,
   "metadata": {},
   "outputs": [],
   "source": [
    "points = prot[0]"
   ]
  },
  {
   "cell_type": "code",
   "execution_count": 30,
   "metadata": {},
   "outputs": [
    {
     "data": {
      "text/plain": [
       "tensor([ -4.1000, -11.1130, -22.7970], device='cuda:0')"
      ]
     },
     "execution_count": 30,
     "metadata": {},
     "output_type": "execute_result"
    }
   ],
   "source": [
    "points"
   ]
  },
  {
   "cell_type": "markdown",
   "metadata": {},
   "source": [
    "### PointNet class"
   ]
  },
  {
   "cell_type": "code",
   "execution_count": 97,
   "metadata": {},
   "outputs": [
    {
     "data": {
      "text/plain": [
       "<module 'symmetria.decoders.prediction_head' from '/mnt/raid1/repos/shrec2025/Protein_Classification/symmetria/decoders/prediction_head.py'>"
      ]
     },
     "execution_count": 97,
     "metadata": {},
     "output_type": "execute_result"
    }
   ],
   "source": [
    "import importlib\n",
    "import symmetria\n",
    "importlib.reload(symmetria)\n",
    "importlib.reload(symmetria.decoders)\n",
    "importlib.reload(symmetria.decoders.prediction_head)"
   ]
  },
  {
   "cell_type": "code",
   "execution_count": 31,
   "metadata": {},
   "outputs": [],
   "source": [
    "import torch.nn as nn\n",
    "import torch.nn.functional as F\n",
    "from symmetria.encoders.pointnet_encoder import PointNetEncoder\n",
    "\n",
    "from symmetria.encoders.pointnext.pointnext_encoder_parameters import *\n",
    "from symmetria.encoders.pointnext.pointnext_encoder import PointNeXt\n",
    "\n",
    "from symmetria.decoders.prediction_head import PredictionHead\n",
    "\n",
    "if debug_pointnet:\n",
    "    bs, sz = 1, 2048\n",
    "    encoder = PointNetEncoder(use_bn=False)\n",
    "    mock_x = torch.randn(bs, 3, sz)\n",
    "    output = encoder.forward(mock_x)\n",
    "    print(f'{Text(output, 'output'):inspect}')\n",
    "\n",
    "    decoder = PredictionHead(1024, 96)\n",
    "    output_decoder = decoder.forward(output)\n",
    "    print(f'{Text(output_decoder, 'output_decoder'):inspect}')\n",
    "\n",
    "class PointNet(nn.Module):\n",
    "    def __init__(self, output_size, max_points, use_bn=False, encoder='pointnet'): # make it prettier like in segmenter\n",
    "        super().__init__()\n",
    "        \n",
    "        if encoder in POINTNEXT_MODEL_CONFIG:\n",
    "            model_cfg = POINTNEXT_MODEL_CONFIG[encoder]     # 'PointNeXt_B' (21.5 M), 'PointNeXt_L2' (32.0 M), 'PointNeXt_XXL' (73.8 M)\n",
    "            self.encoder = PointNeXt(model_cfg)\n",
    "            self.encoder_output_size = output_size          # because of the adapter head (e.g. 2048 -> 1024) within the encoder\n",
    "            print(f\"Using PointNeXt {model_cfg} - encoder: {self.encoder}\")\n",
    "        else:\n",
    "            self.encoder = PointNetEncoder(use_bn)\n",
    "            print(f\"Using PointNet as encoder - encoder: {self.encoder}\")\n",
    "        \n",
    "        self.max_points = max_points\n",
    "\n",
    "        self.input_size = self.get_input_size()        \n",
    "        self.output_size = output_size\n",
    "\n",
    "        print(f'Creating a PredictionHead with {self.input_size} as input and {self.output_size} as output')\n",
    "        self.decoder = PredictionHead(self.input_size, self.output_size, use_bn, use_relu=True)\n",
    "        \n",
    "        #self.softmax = nn.Softmax(dim=1)\n",
    "\n",
    "    def get_input_size(self):\n",
    "        mock_x = torch.randn(1, 3, self.max_points)\n",
    "        return self.encoder(mock_x).shape[-1]\n",
    "\n",
    "    def forward(self, x):\n",
    "        x = self.encoder(x)\n",
    "        x = self.decoder(x)\n",
    "        #x = self.softmax(x)\n",
    "\n",
    "        return x #SoftMax already inside the CrossEntropyLoss"
   ]
  },
  {
   "cell_type": "markdown",
   "metadata": {},
   "source": [
    "### Config Definition"
   ]
  },
  {
   "cell_type": "code",
   "execution_count": 32,
   "metadata": {},
   "outputs": [
    {
     "name": "stdout",
     "output_type": "stream",
     "text": [
      "Creating a test dataset from datasets/train_set-all-cls_except-cls-larger-than-450.csv\n",
      "Test dataset has 5259 rows\n"
     ]
    }
   ],
   "source": [
    "from datetime import datetime\n",
    "from torch import optim\n",
    "\n",
    "time_now = datetime.now()\n",
    "time_now = time_now.strftime('%d%m%Y_%H%M%S')\n",
    "_folder = !pwd\n",
    "\n",
    "env = {}\n",
    "\n",
    "### Debug\n",
    "env['debug_loss'] = True\n",
    "\n",
    "env['project_folder'] = _folder[0]\n",
    "env['project'] = 'shrec-2025'\n",
    "env['run'] = env['project'] + '_' + time_now\n",
    "#env['output_dir'] = os.path.join(env['project_folder'], 'wandb', 'run_' + env['run'])\n",
    "if 'output' not in os.listdir(env['project_folder']):\n",
    "    os.mkdir('output')\n",
    "env['output_dir'] = Path(env['project_folder']) / 'output'\n",
    "\n",
    "env['max_points'] = 10000\n",
    "\n",
    "#env['dataset'] = 'train_set-2_cls-1000_images.csv' \n",
    "#env['dataset'] = 'train_set-all.csv'\n",
    "env['dataset'] = 'train_set-all-cls_except-cls-larger-than-450.csv'\n",
    "#env['dataset'] = 'train_set-symmetria-100k-easy-astroid-citrus-10k-samples.csv'\n",
    "#env['dataset_path'] = '/mnt/dataset/shrec-2025-protein-classification/v2-20250331'\n",
    "env['dataset_path'] = root\n",
    "\n",
    "ds_path = Path('./datasets') / env['dataset']\n",
    "print(f'Creating a test dataset from {ds_path}')\n",
    "\n",
    "test = pd.read_csv(ds_path, index_col=0)\n",
    "print(f'Test dataset has {len(test)} rows')"
   ]
  },
  {
   "cell_type": "markdown",
   "metadata": {},
   "source": [
    "### Model Definition"
   ]
  },
  {
   "cell_type": "code",
   "execution_count": 47,
   "metadata": {
    "scrolled": false
   },
   "outputs": [
    {
     "name": "stdout",
     "output_type": "stream",
     "text": [
      "Using PointNet as encoder - encoder: PointNetEncoder(\n",
      "  (input_transform): TNet(\n",
      "    (shared_mlps): Sequential(\n",
      "      (0): Conv1d(3, 64, kernel_size=(1,), stride=(1,))\n",
      "      (1): ReLU()\n",
      "      (2): Conv1d(64, 128, kernel_size=(1,), stride=(1,))\n",
      "      (3): ReLU()\n",
      "      (4): Conv1d(128, 1024, kernel_size=(1,), stride=(1,))\n",
      "      (5): ReLU()\n",
      "    )\n",
      "    (linear): Sequential(\n",
      "      (0): Linear(in_features=1024, out_features=512, bias=True)\n",
      "      (1): ReLU()\n",
      "      (2): Linear(in_features=512, out_features=256, bias=True)\n",
      "      (3): ReLU()\n",
      "      (4): Linear(in_features=256, out_features=9, bias=True)\n",
      "    )\n",
      "  )\n",
      "  (feature_transform): TNet(\n",
      "    (shared_mlps): Sequential(\n",
      "      (0): Conv1d(64, 64, kernel_size=(1,), stride=(1,))\n",
      "      (1): ReLU()\n",
      "      (2): Conv1d(64, 128, kernel_size=(1,), stride=(1,))\n",
      "      (3): ReLU()\n",
      "      (4): Conv1d(128, 1024, kernel_size=(1,), stride=(1,))\n",
      "      (5): ReLU()\n",
      "    )\n",
      "    (linear): Sequential(\n",
      "      (0): Linear(in_features=1024, out_features=512, bias=True)\n",
      "      (1): ReLU()\n",
      "      (2): Linear(in_features=512, out_features=256, bias=True)\n",
      "      (3): ReLU()\n",
      "      (4): Linear(in_features=256, out_features=4096, bias=True)\n",
      "    )\n",
      "  )\n",
      "  (shared_mlps): Sequential(\n",
      "    (0): Conv1d(3, 64, kernel_size=(1,), stride=(1,))\n",
      "    (1): LeakyReLU(negative_slope=0.01)\n",
      "  )\n",
      "  (shared_mlps_2): Sequential(\n",
      "    (0): Conv1d(64, 128, kernel_size=(1,), stride=(1,))\n",
      "    (1): LeakyReLU(negative_slope=0.01)\n",
      "    (2): Conv1d(128, 256, kernel_size=(1,), stride=(1,))\n",
      "    (3): LeakyReLU(negative_slope=0.01)\n",
      "    (4): Conv1d(256, 1024, kernel_size=(1,), stride=(1,))\n",
      "  )\n",
      ")\n",
      "Creating a PredictionHead with 1024 as input and 93 as output\n"
     ]
    }
   ],
   "source": [
    "env['device'] = 'cuda:0'\n",
    "env['val_pct'] = 0.2\n",
    "env['augmentations_on'] = True\n",
    "env['aug'] = [Translate(p=0.8),\n",
    "              UnitSphereNormalization(),\n",
    "              RotateAroundZero(p=0.8),\n",
    "              GaussianNoise(n=10, T=(env['max_points']//2),  p=0.8),\n",
    "              RandomSampler(sample_size=env['max_points'])]\n",
    "\n",
    "env['aug'] = [Translate(p=0.5),\n",
    "              UnitSphereNormalization(),\n",
    "              RandomSampler(sample_size=env['max_points']),\n",
    "              GaussianNoise(n=10, T=(env['max_points']//2),  p=0.5),\n",
    "              ]\n",
    "\n",
    "#env['aug'] = [UnitSphereNormalization()]\n",
    "#env['aug'] = []\n",
    "\n",
    "env['bs'] = 1\n",
    "env['epochs'] = 200\n",
    "env['lr'] = 1e-4\n",
    "env['wd'] = 0.05 # because \"PointNeXt is trained with a weight decay of 0.05 for 250 epochs\" - nope, too large, doesn't learn!\n",
    "env['wd'] = 1e-4 # because of this: https://github.com/yanx27/Pointnet_Pointnet2_pytorch/blob/master/train_classification.py\n",
    "\n",
    "env['encoder']   = 'pointnet'\n",
    "#env['encoder']  = 'PointNeXt_XXL'\n",
    "env['model']     = PointNet(output_size=len(test['class_id'].unique()), max_points=env['max_points'], encoder=env['encoder']).to(torch.device(env['device']))\n",
    "\n",
    "env['model_pth'] = '/tmp/pointnet.pth'\n",
    "env['pretrain']  = False\n",
    "\n",
    "if env['pretrain']:\n",
    "    if not Path(model_pth).exists():\n",
    "        !wget 'https://github.com/meder411/PointNet-PyTorch/raw/refs/heads/master/classifier_model_state.pth' --output-document \"{env['model_pth']}\"\n",
    "    else:\n",
    "        print(f'{env['model_pth']} already exists, skipping download...')\n",
    "    torch.load(env['model_pth'], map_location=torch.device(env['device']))\n",
    "\n",
    "env['loss_func'] = nn.CrossEntropyLoss()\n",
    "env['optimizer'] = optim.Adam(env['model'].parameters(), lr=env['lr'], weight_decay=env['wd'])"
   ]
  },
  {
   "cell_type": "code",
   "execution_count": 48,
   "metadata": {
    "scrolled": false
   },
   "outputs": [
    {
     "data": {
      "text/plain": [
       "{'debug_loss': True,\n",
       " 'project_folder': '/mnt/raid1/repos/shrec2025/Protein_Classification',\n",
       " 'project': 'shrec-2025',\n",
       " 'run': 'shrec-2025_02042025_193008',\n",
       " 'output_dir': PosixPath('/mnt/raid1/repos/shrec2025/Protein_Classification/output'),\n",
       " 'max_points': 10000,\n",
       " 'dataset': 'train_set-all-cls_except-cls-larger-than-450.csv',\n",
       " 'dataset_path': PosixPath('/mnt/raid1/dataset/shrec-2025-protein-classification/v2-20250331'),\n",
       " 'device': 'cuda:0',\n",
       " 'val_pct': 0.2,\n",
       " 'augmentations_on': True,\n",
       " 'aug': [Translate(p=0.5, shift=None, scale=1),\n",
       "  <symmetria.transforms.UnitSphereNormalization.UnitSphereNormalization at 0x7b2903cad070>,\n",
       "  <symmetria.transforms.RandomSampler.RandomSampler at 0x7b2903cae5d0>,\n",
       "  GaussianNoise(n=10, T=5000, p=0.5)],\n",
       " 'bs': 1,\n",
       " 'epochs': 200,\n",
       " 'lr': 0.0001,\n",
       " 'encoder': 'pointnet',\n",
       " 'model': PointNet(\n",
       "   (encoder): PointNetEncoder(\n",
       "     (input_transform): TNet(\n",
       "       (shared_mlps): Sequential(\n",
       "         (0): Conv1d(3, 64, kernel_size=(1,), stride=(1,))\n",
       "         (1): ReLU()\n",
       "         (2): Conv1d(64, 128, kernel_size=(1,), stride=(1,))\n",
       "         (3): ReLU()\n",
       "         (4): Conv1d(128, 1024, kernel_size=(1,), stride=(1,))\n",
       "         (5): ReLU()\n",
       "       )\n",
       "       (linear): Sequential(\n",
       "         (0): Linear(in_features=1024, out_features=512, bias=True)\n",
       "         (1): ReLU()\n",
       "         (2): Linear(in_features=512, out_features=256, bias=True)\n",
       "         (3): ReLU()\n",
       "         (4): Linear(in_features=256, out_features=9, bias=True)\n",
       "       )\n",
       "     )\n",
       "     (feature_transform): TNet(\n",
       "       (shared_mlps): Sequential(\n",
       "         (0): Conv1d(64, 64, kernel_size=(1,), stride=(1,))\n",
       "         (1): ReLU()\n",
       "         (2): Conv1d(64, 128, kernel_size=(1,), stride=(1,))\n",
       "         (3): ReLU()\n",
       "         (4): Conv1d(128, 1024, kernel_size=(1,), stride=(1,))\n",
       "         (5): ReLU()\n",
       "       )\n",
       "       (linear): Sequential(\n",
       "         (0): Linear(in_features=1024, out_features=512, bias=True)\n",
       "         (1): ReLU()\n",
       "         (2): Linear(in_features=512, out_features=256, bias=True)\n",
       "         (3): ReLU()\n",
       "         (4): Linear(in_features=256, out_features=4096, bias=True)\n",
       "       )\n",
       "     )\n",
       "     (shared_mlps): Sequential(\n",
       "       (0): Conv1d(3, 64, kernel_size=(1,), stride=(1,))\n",
       "       (1): LeakyReLU(negative_slope=0.01)\n",
       "     )\n",
       "     (shared_mlps_2): Sequential(\n",
       "       (0): Conv1d(64, 128, kernel_size=(1,), stride=(1,))\n",
       "       (1): LeakyReLU(negative_slope=0.01)\n",
       "       (2): Conv1d(128, 256, kernel_size=(1,), stride=(1,))\n",
       "       (3): LeakyReLU(negative_slope=0.01)\n",
       "       (4): Conv1d(256, 1024, kernel_size=(1,), stride=(1,))\n",
       "     )\n",
       "   )\n",
       "   (decoder): PredictionHead(\n",
       "     (decoder_head): Sequential(\n",
       "       (0): Linear(in_features=1024, out_features=512, bias=True)\n",
       "       (1): ReLU()\n",
       "       (2): Linear(in_features=512, out_features=256, bias=True)\n",
       "       (3): ReLU()\n",
       "       (4): Linear(in_features=256, out_features=93, bias=True)\n",
       "     )\n",
       "   )\n",
       " ),\n",
       " 'model_pth': '/tmp/pointnet.pth',\n",
       " 'pretrain': False,\n",
       " 'loss_func': CrossEntropyLoss(),\n",
       " 'optimizer': Adam (\n",
       " Parameter Group 0\n",
       "     amsgrad: False\n",
       "     betas: (0.9, 0.999)\n",
       "     capturable: False\n",
       "     differentiable: False\n",
       "     eps: 1e-08\n",
       "     foreach: None\n",
       "     fused: None\n",
       "     lr: 0.0001\n",
       "     maximize: False\n",
       "     weight_decay: 0.0001\n",
       " ),\n",
       " 'wd': 0.0001}"
      ]
     },
     "execution_count": 48,
     "metadata": {},
     "output_type": "execute_result"
    }
   ],
   "source": [
    "env"
   ]
  },
  {
   "cell_type": "markdown",
   "metadata": {},
   "source": [
    "#### Training Loop"
   ]
  },
  {
   "cell_type": "code",
   "execution_count": 49,
   "metadata": {},
   "outputs": [],
   "source": [
    "import wandb\n",
    "\n",
    "def calculate_loss(logits, target, loss_func):\n",
    "    output    = torch.argmax(logits, dim=1)\n",
    "    target    = target.to(torch.int64)\n",
    "    #softmaxed = torch.softmax(logits, dim=1)\n",
    "    loss      = loss_func(logits, target)\n",
    "    return loss, output, target\n",
    "\n",
    "def train(train_dl, valid_dl, env):\n",
    "    net = env['model']\n",
    "    loss_func = env['loss_func']\n",
    "    optimizer = env['optimizer']\n",
    "\n",
    "    wandb.init(project=env['project'], name=env['run'], dir=env['output_dir'], config=env)\n",
    "\n",
    "    for epoch in range(env['epochs']):\n",
    "        print('/' * 20 + f' Epoch: {epoch + 1} ' + '/' * 20)\n",
    "        for step, batch in enumerate(tqdm(train_dl)):\n",
    "            input_p, target = batch\n",
    "\n",
    "            net.zero_grad()\n",
    "\n",
    "            logits = net(input_p)\n",
    "            #print(f'{Text(output, 'output'):content}')\n",
    "            #print(f'{Text(target, 'target'):content}')\n",
    "            \n",
    "            '''\n",
    "            output = torch.argmax(logits, dim=1)\n",
    "            target = target.to(torch.int64)\n",
    "            loss = loss_func(output, target)\n",
    "            '''\n",
    "            loss, output, target = calculate_loss(logits, target, loss_func)\n",
    "            if env['debug_loss'] and step % 1000 == 0:\n",
    "                print(f'pred: {int(output)} - target: {int(target)} - loss: {loss:.3f} - raw pred: {logits}')\n",
    "            wandb.log({'epoch': epoch,\n",
    "                    'loss': loss})\n",
    "            #print(f'Training loss: {loss}')\n",
    "            loss.backward()\n",
    "            optimizer.step()\n",
    "\n",
    "        print('/' * 20 + ' Validation ' + '/' * 20)\n",
    "        with torch.no_grad():\n",
    "            val_loss = []\n",
    "            acc = []\n",
    "            for step, batch in enumerate(tqdm(valid_dl)):\n",
    "                input_p, target = batch\n",
    "                \n",
    "                logits = net(input_p)\n",
    "\n",
    "                '''\n",
    "                output = torch.argmax(logits, dim=1)\n",
    "                target = target.to(torch.int64)\n",
    "                loss = loss_func(output, target).cpu()\n",
    "                '''\n",
    "                loss, output, target = calculate_loss(logits, target, loss_func)\n",
    "                if env['debug_loss'] and step % 1000 == 0:\n",
    "                    print(f'pred: {int(output)} - target: {int(target)} - loss: {loss:.3f} - raw pred: {logits}')\n",
    "                \n",
    "                val_loss.append(loss.cpu())\n",
    "\n",
    "                #matching = [torch.argmax(i) == torch.argmax(j) for i, j in zip(output, target)]\n",
    "                matching = [int(i) == int(j) for i, j in zip(output, target)]\n",
    "                accuracy = matching.count(True)/len(matching)\n",
    "                \n",
    "                if env['debug_loss'] and step % 10 == 0:\n",
    "                    print(f'{matching = } - {accuracy = }')\n",
    "                acc.append(accuracy)\n",
    "            wandb.log({'epoch': epoch,\n",
    "                    'step': step,\n",
    "                    'val_loss': np.mean(val_loss),\n",
    "                    'accuracy': np.mean(acc)})\n",
    "\n",
    "    wandb.finish()"
   ]
  },
  {
   "cell_type": "code",
   "execution_count": 41,
   "metadata": {
    "scrolled": true
   },
   "outputs": [
    {
     "name": "stderr",
     "output_type": "stream",
     "text": [
      "100%|█████████████████████████████████████████████████████████████████████████████████████████████████████████████████████████████████████████████████████| 4207/4207 [00:47<00:00, 87.80it/s]\n",
      "100%|█████████████████████████████████████████████████████████████████████████████████████████████████████████████████████████████████████████████████████| 1052/1052 [00:11<00:00, 90.27it/s]\n"
     ]
    }
   ],
   "source": [
    "test_train_ds, test_valid_ds = generate_train_valid_set(df=test, tfms=env['aug'], val_pct=env['val_pct'], root=mountpoint)\n",
    "test_train_dl, test_valid_dl = DataLoader(test_train_ds, batch_size=env['bs'], shuffle=True), DataLoader(test_valid_ds, batch_size=env['bs'], shuffle=True)"
   ]
  },
  {
   "cell_type": "code",
   "execution_count": null,
   "metadata": {
    "scrolled": false
   },
   "outputs": [
    {
     "data": {
      "text/html": [],
      "text/plain": [
       "<IPython.core.display.HTML object>"
      ]
     },
     "metadata": {},
     "output_type": "display_data"
    },
    {
     "data": {
      "text/html": [
       "<br>    <style><br>        .wandb-row {<br>            display: flex;<br>            flex-direction: row;<br>            flex-wrap: wrap;<br>            justify-content: flex-start;<br>            width: 100%;<br>        }<br>        .wandb-col {<br>            display: flex;<br>            flex-direction: column;<br>            flex-basis: 100%;<br>            flex: 1;<br>            padding: 10px;<br>        }<br>    </style><br><div class=\"wandb-row\"><div class=\"wandb-col\"><h3>Run history:</h3><br/><table class=\"wandb\"><tr><td>accuracy</td><td>▁█▂██▂█▂▂██▂▂█▂█████▁▂▂██</td></tr><tr><td>epoch</td><td>▁▁▂▂▂▃▃▃▃▄▄▄▄▄▄▅▅▅▅▅▅▆▆▆▆▆▆▆▆▇▇▇▇▇▇█████</td></tr><tr><td>loss</td><td>▄▃▄▂▆▄▅▅▅▄▅▆▄▆▇▃▃█▄▁▄▂▄▃▂▁▃▅▂▂▃▆▃▂▃▂▅▃▄▃</td></tr><tr><td>step</td><td>▁▁▁▁▁▁▁▁▁▁▁▁▁▁▁▁▁▁▁▁▁▁▁▁▁</td></tr><tr><td>val_loss</td><td>▂▅▂▁▂▃▄▂▇▆▅▄▂▄▃▄█▆▂▁▃▄▂▃▄</td></tr></table><br/></div><div class=\"wandb-col\"><h3>Run summary:</h3><br/><table class=\"wandb\"><tr><td>accuracy</td><td>0.01426</td></tr><tr><td>epoch</td><td>25</td></tr><tr><td>loss</td><td>4.53503</td></tr><tr><td>step</td><td>1051</td></tr><tr><td>val_loss</td><td>4.85029</td></tr></table><br/></div></div>"
      ],
      "text/plain": [
       "<IPython.core.display.HTML object>"
      ]
     },
     "metadata": {},
     "output_type": "display_data"
    },
    {
     "data": {
      "text/html": [
       " View run <strong style=\"color:#cdcd00\">shrec-2025_02042025_193008</strong> at: <a href='https://wandb.ai/sburzi/shrec-2025/runs/jwm3tnl9' target=\"_blank\">https://wandb.ai/sburzi/shrec-2025/runs/jwm3tnl9</a><br> View project at: <a href='https://wandb.ai/sburzi/shrec-2025' target=\"_blank\">https://wandb.ai/sburzi/shrec-2025</a><br>Synced 5 W&B file(s), 0 media file(s), 0 artifact file(s) and 0 other file(s)"
      ],
      "text/plain": [
       "<IPython.core.display.HTML object>"
      ]
     },
     "metadata": {},
     "output_type": "display_data"
    },
    {
     "data": {
      "text/html": [
       "Find logs at: <code>./output/wandb/run-20250402_194329-jwm3tnl9/logs</code>"
      ],
      "text/plain": [
       "<IPython.core.display.HTML object>"
      ]
     },
     "metadata": {},
     "output_type": "display_data"
    },
    {
     "data": {
      "text/html": [
       "Tracking run with wandb version 0.19.9"
      ],
      "text/plain": [
       "<IPython.core.display.HTML object>"
      ]
     },
     "metadata": {},
     "output_type": "display_data"
    },
    {
     "data": {
      "text/html": [
       "Run data is saved locally in <code>/mnt/raid1/repos/shrec2025/Protein_Classification/output/wandb/run-20250402_195415-f3lm9yx5</code>"
      ],
      "text/plain": [
       "<IPython.core.display.HTML object>"
      ]
     },
     "metadata": {},
     "output_type": "display_data"
    },
    {
     "data": {
      "text/html": [
       "Syncing run <strong><a href='https://wandb.ai/sburzi/shrec-2025/runs/f3lm9yx5' target=\"_blank\">shrec-2025_02042025_193008</a></strong> to <a href='https://wandb.ai/sburzi/shrec-2025' target=\"_blank\">Weights & Biases</a> (<a href='https://wandb.me/developer-guide' target=\"_blank\">docs</a>)<br>"
      ],
      "text/plain": [
       "<IPython.core.display.HTML object>"
      ]
     },
     "metadata": {},
     "output_type": "display_data"
    },
    {
     "data": {
      "text/html": [
       " View project at <a href='https://wandb.ai/sburzi/shrec-2025' target=\"_blank\">https://wandb.ai/sburzi/shrec-2025</a>"
      ],
      "text/plain": [
       "<IPython.core.display.HTML object>"
      ]
     },
     "metadata": {},
     "output_type": "display_data"
    },
    {
     "data": {
      "text/html": [
       " View run at <a href='https://wandb.ai/sburzi/shrec-2025/runs/f3lm9yx5' target=\"_blank\">https://wandb.ai/sburzi/shrec-2025/runs/f3lm9yx5</a>"
      ],
      "text/plain": [
       "<IPython.core.display.HTML object>"
      ]
     },
     "metadata": {},
     "output_type": "display_data"
    },
    {
     "name": "stdout",
     "output_type": "stream",
     "text": [
      "//////////////////// Epoch: 1 ////////////////////\n"
     ]
    },
    {
     "name": "stderr",
     "output_type": "stream",
     "text": [
      "  0%|▋                                                                                                                                                     | 18/4207 [00:00<00:23, 179.72it/s]"
     ]
    },
    {
     "name": "stdout",
     "output_type": "stream",
     "text": [
      "pred: 11 - target: 71 - loss: 4.540 - raw pred: tensor([[-0.0550, -0.0111,  0.0373,  0.0120,  0.0629,  0.0161, -0.0187,  0.0238,\n",
      "         -0.0172, -0.0335, -0.0429,  0.0653, -0.0347,  0.0507, -0.0437,  0.0462,\n",
      "          0.0519, -0.0108,  0.0199,  0.0121,  0.0048, -0.0214,  0.0084,  0.0074,\n",
      "         -0.0376, -0.0200, -0.0047,  0.0455, -0.0161,  0.0332,  0.0297,  0.0533,\n",
      "         -0.0039,  0.0407,  0.0249,  0.0005,  0.0326,  0.0264, -0.0121,  0.0268,\n",
      "          0.0292, -0.0197,  0.0165, -0.0391,  0.0094,  0.0030, -0.0193, -0.0278,\n",
      "         -0.0582,  0.0603, -0.0154, -0.0318,  0.0043,  0.0398,  0.0490, -0.0302,\n",
      "          0.0440,  0.0280,  0.0480, -0.0433, -0.0341, -0.0169,  0.0473,  0.0355,\n",
      "         -0.0445, -0.0195,  0.0179,  0.0235, -0.0426, -0.0856,  0.0186, -0.0041,\n",
      "          0.0608, -0.0432, -0.0434,  0.0534, -0.0434,  0.0479, -0.0139, -0.0341,\n",
      "         -0.0383, -0.0247,  0.0410,  0.0215, -0.0320, -0.0341,  0.0289,  0.0208,\n",
      "          0.0604,  0.0345, -0.0747, -0.0159,  0.0210]], device='cuda:0',\n",
      "       grad_fn=<AddmmBackward0>)\n"
     ]
    },
    {
     "name": "stderr",
     "output_type": "stream",
     "text": [
      " 24%|████████████████████████████████████                                                                                                                | 1025/4207 [00:05<00:17, 186.37it/s]"
     ]
    },
    {
     "name": "stdout",
     "output_type": "stream",
     "text": [
      "pred: 58 - target: 14 - loss: 3.671 - raw pred: tensor([[-1.3443e-01, -2.8897e+00, -1.3443e+00, -1.3320e+00, -8.4291e-01,\n",
      "         -5.2888e-02, -1.9542e+00, -2.8226e-01, -1.1030e+00, -1.1505e+00,\n",
      "         -7.6745e-01, -1.3875e+00, -1.0975e+00, -2.7984e-01,  1.8082e-01,\n",
      "         -2.3870e-01, -5.0583e-01, -1.0117e+00, -1.8012e+00, -4.3292e-01,\n",
      "         -5.1946e-01, -2.3985e+00, -1.2763e+00, -2.2280e-02, -2.5547e+00,\n",
      "         -2.8537e+00, -2.5291e+00, -1.1640e+00, -2.4887e+00, -7.3045e-01,\n",
      "          2.4772e-02,  1.0042e-01, -6.4806e-01, -9.3644e-01, -2.0293e+00,\n",
      "          3.4889e-02, -1.0639e+00, -1.1665e+00, -4.5365e-01, -6.3781e-01,\n",
      "         -2.6217e+00, -4.5213e-01, -2.7589e+00,  1.7026e-01, -1.1099e+00,\n",
      "         -1.2596e+00, -1.2781e+00, -5.7805e-01, -2.9535e+00, -4.6599e-01,\n",
      "         -4.5956e-01, -1.1146e+00, -2.8752e-03, -9.4548e-01, -1.6008e+00,\n",
      "         -2.4114e+00, -3.8728e-01, -2.1416e-01,  4.6418e-01, -2.1378e-01,\n",
      "         -2.7773e+00, -7.4974e-01, -2.1437e+00, -1.2598e+00, -1.6105e+00,\n",
      "         -1.4148e+00, -1.0551e-01,  3.9196e-01, -1.7508e-01, -2.7586e+00,\n",
      "         -1.9670e+00,  1.3282e-01, -4.1197e-01, -1.4727e+00, -2.6699e+00,\n",
      "         -2.5880e+00, -3.4439e-01, -3.5470e-01, -7.2046e-01, -1.7678e+00,\n",
      "         -8.1090e-02, -1.9538e+00, -4.1929e-01,  4.4910e-01, -3.5585e-01,\n",
      "         -2.7723e-01, -2.6383e+00, -1.3254e-01,  4.7102e-02, -4.7072e-01,\n",
      "         -7.4807e-01, -1.5882e+00, -1.0673e+00]], device='cuda:0',\n",
      "       grad_fn=<AddmmBackward0>)\n"
     ]
    },
    {
     "name": "stderr",
     "output_type": "stream",
     "text": [
      " 48%|███████████████████████████████████████████████████████████████████████▍                                                                            | 2032/4207 [00:10<00:11, 186.50it/s]"
     ]
    },
    {
     "name": "stdout",
     "output_type": "stream",
     "text": [
      "pred: 58 - target: 58 - loss: 3.282 - raw pred: tensor([[-0.2532, -4.0345, -1.4621, -1.6182, -1.5960, -0.1207, -1.8608, -0.4587,\n",
      "         -0.7576, -1.2213, -0.7871, -2.0216, -1.4717, -0.1085,  0.0587, -0.0258,\n",
      "         -0.5273, -0.8817, -1.9012, -0.6211, -0.4191, -2.4379, -1.7740,  0.1126,\n",
      "         -3.9880, -4.3222, -2.3260, -1.3380, -2.8426, -1.1535, -0.1878,  0.0653,\n",
      "         -0.5320, -1.3344, -2.1605, -0.0854, -1.0438, -1.4937, -0.7460, -0.2841,\n",
      "         -4.0749, -0.3418, -2.9781,  0.0048, -1.1646, -1.3620, -1.5902, -0.9262,\n",
      "         -4.4324, -0.5073, -0.3336, -0.9162,  0.0216, -1.2266, -1.9550, -3.4566,\n",
      "         -0.7170, -0.5361,  0.4856, -0.0403, -3.4416, -0.8928, -2.4665, -0.9701,\n",
      "         -1.7609, -1.9058, -0.2199,  0.3204, -0.3377, -3.8310, -2.4420,  0.1496,\n",
      "         -0.5315, -1.6743, -3.7681, -2.6666, -0.4048, -0.6287, -0.7837, -2.4729,\n",
      "         -0.1248, -2.1434, -0.8068,  0.3098, -0.1893, -0.2111, -3.1988, -0.0877,\n",
      "          0.0386, -0.6176, -0.9279, -2.5124, -1.2584]], device='cuda:0',\n",
      "       grad_fn=<AddmmBackward0>)\n"
     ]
    },
    {
     "name": "stderr",
     "output_type": "stream",
     "text": [
      " 72%|██████████████████████████████████████████████████████████████████████████████████████████████████████████▌                                         | 3030/4207 [00:16<00:06, 191.00it/s]"
     ]
    },
    {
     "name": "stdout",
     "output_type": "stream",
     "text": [
      "pred: 58 - target: 66 - loss: 4.276 - raw pred: tensor([[-0.3585, -6.4354, -2.6969, -2.5951, -2.9934,  0.2572, -2.9116, -0.7883,\n",
      "         -1.1012, -2.3096, -1.7662, -3.4043, -2.0889, -0.6012, -0.0174, -0.3301,\n",
      "         -0.7039, -1.4658, -3.2919, -0.7084, -0.8936, -3.9921, -3.0971,  0.0492,\n",
      "         -6.3859, -7.2046, -3.6922, -2.7632, -4.6621, -1.7190, -0.4996,  0.3596,\n",
      "         -0.8776, -2.4627, -3.6965, -0.3803, -1.7825, -2.8021, -0.7054, -0.2382,\n",
      "         -6.7776, -0.7608, -5.2776, -0.1115, -1.6267, -2.0264, -2.0610, -1.6154,\n",
      "         -7.0476, -0.8818, -0.5747, -1.6280, -0.0258, -2.0969, -3.8150, -5.6704,\n",
      "         -1.1548, -0.9370,  0.8377, -0.1217, -5.5507, -1.5463, -3.9560, -1.4391,\n",
      "         -2.3239, -3.4462, -0.7356,  0.5447, -0.2565, -6.1161, -3.9234,  0.0935,\n",
      "         -0.6607, -3.0886, -5.7912, -4.5471, -0.8230, -1.1049, -1.0632, -4.1619,\n",
      "         -0.6001, -3.5796, -1.5028,  0.4464, -0.3382, -0.3748, -5.0222, -0.0982,\n",
      "         -0.1838, -0.8023, -1.4942, -4.2132, -2.1312]], device='cuda:0',\n",
      "       grad_fn=<AddmmBackward0>)\n"
     ]
    },
    {
     "name": "stderr",
     "output_type": "stream",
     "text": [
      " 96%|█████████████████████████████████████████████████████████████████████████████████████████████████████████████████████████████████████████████▍      | 4021/4207 [00:21<00:00, 186.48it/s]"
     ]
    },
    {
     "name": "stdout",
     "output_type": "stream",
     "text": [
      "pred: 67 - target: 49 - loss: 4.294 - raw pred: tensor([[-0.2803, -3.1170, -1.3665, -1.3401, -1.6737,  0.0364, -1.4333, -0.5187,\n",
      "         -0.5069, -1.5709, -0.8811, -1.9123, -1.0655, -0.3037,  0.0280, -0.1028,\n",
      "         -0.3446, -0.7405, -1.9012, -0.3364, -0.6378, -1.9587, -1.7852, -0.0774,\n",
      "         -3.2824, -3.5082, -1.6997, -1.4617, -2.6626, -1.0714, -0.3038,  0.0974,\n",
      "         -0.4614, -1.3442, -2.0503, -0.1514, -0.9358, -1.4182, -0.3107, -0.2333,\n",
      "         -3.3534, -0.5583, -2.9782, -0.2170, -0.8213, -0.9099, -0.9824, -0.8647,\n",
      "         -3.5948, -0.4741, -0.4768, -0.7582,  0.0874, -1.1236, -1.7701, -2.8538,\n",
      "         -0.7436, -0.3136,  0.3597,  0.1071, -3.0271, -0.6458, -1.8549, -0.7944,\n",
      "         -1.4563, -2.1091, -0.2836,  0.4068, -0.0925, -3.2106, -1.9322,  0.0200,\n",
      "         -0.5684, -1.6375, -2.9787, -2.1722, -0.2211, -0.4931, -0.5605, -2.4920,\n",
      "         -0.1123, -1.5745, -0.6042,  0.3758, -0.2034, -0.3442, -2.5906, -0.1436,\n",
      "         -0.0655, -0.6206, -0.6865, -2.3256, -0.7911]], device='cuda:0',\n",
      "       grad_fn=<AddmmBackward0>)\n"
     ]
    },
    {
     "name": "stderr",
     "output_type": "stream",
     "text": [
      "100%|████████████████████████████████████████████████████████████████████████████████████████████████████████████████████████████████████████████████████| 4207/4207 [00:22<00:00, 188.86it/s]\n"
     ]
    },
    {
     "name": "stdout",
     "output_type": "stream",
     "text": [
      "//////////////////// Validation ////////////////////\n"
     ]
    },
    {
     "name": "stderr",
     "output_type": "stream",
     "text": [
      "  5%|███████▏                                                                                                                                              | 50/1052 [00:00<00:02, 490.43it/s]"
     ]
    },
    {
     "name": "stdout",
     "output_type": "stream",
     "text": [
      "pred: 67 - target: 2 - loss: 5.723 - raw pred: tensor([[-0.5491, -4.4468, -2.0808, -1.8682, -2.3858, -0.0830, -2.0313, -0.7624,\n",
      "         -0.6666, -2.2850, -1.2742, -2.8042, -1.7002, -0.3890,  0.0136, -0.1519,\n",
      "         -0.5398, -1.1588, -2.7861, -0.5023, -0.9244, -2.9185, -2.6461, -0.0558,\n",
      "         -4.7503, -5.0450, -2.4844, -2.0676, -3.7080, -1.6088, -0.4411,  0.0669,\n",
      "         -0.8274, -1.9159, -2.8510, -0.2406, -1.3800, -2.1273, -0.3496, -0.3765,\n",
      "         -4.8838, -0.7358, -4.3905, -0.3288, -1.1433, -1.3211, -1.4822, -1.1378,\n",
      "         -5.1669, -0.6775, -0.5651, -1.2220,  0.1221, -1.6609, -2.6767, -4.0823,\n",
      "         -1.0843, -0.4614,  0.4873, -0.0819, -4.1061, -0.9402, -2.6889, -0.9772,\n",
      "         -2.1386, -3.1310, -0.4082,  0.6817, -0.2256, -4.6897, -2.8218,  0.0240,\n",
      "         -0.9515, -2.3669, -4.2570, -3.2504, -0.4157, -0.7653, -0.8017, -3.6427,\n",
      "         -0.2788, -2.3244, -0.9105,  0.4006, -0.1609, -0.3598, -3.7749, -0.0135,\n",
      "         -0.1012, -0.9078, -1.0807, -3.4610, -1.1474]], device='cuda:0')\n",
      "matching = [False] - accuracy = 0.0\n",
      "matching = [False] - accuracy = 0.0\n",
      "matching = [False] - accuracy = 0.0\n",
      "matching = [False] - accuracy = 0.0\n",
      "matching = [False] - accuracy = 0.0\n",
      "matching = [False] - accuracy = 0.0\n",
      "matching = [False] - accuracy = 0.0\n",
      "matching = [False] - accuracy = 0.0\n",
      "matching = [False] - accuracy = 0.0\n",
      "matching = [False] - accuracy = 0.0\n"
     ]
    },
    {
     "name": "stderr",
     "output_type": "stream",
     "text": [
      " 14%|█████████████████████▏                                                                                                                               | 150/1052 [00:00<00:01, 490.93it/s]"
     ]
    },
    {
     "name": "stdout",
     "output_type": "stream",
     "text": [
      "matching = [False] - accuracy = 0.0\n",
      "matching = [False] - accuracy = 0.0\n",
      "matching = [False] - accuracy = 0.0\n",
      "matching = [False] - accuracy = 0.0\n",
      "matching = [False] - accuracy = 0.0\n",
      "matching = [False] - accuracy = 0.0\n",
      "matching = [False] - accuracy = 0.0\n",
      "matching = [False] - accuracy = 0.0\n",
      "matching = [False] - accuracy = 0.0\n",
      "matching = [False] - accuracy = 0.0\n"
     ]
    },
    {
     "name": "stderr",
     "output_type": "stream",
     "text": [
      " 24%|███████████████████████████████████▍                                                                                                                 | 250/1052 [00:00<00:01, 492.42it/s]"
     ]
    },
    {
     "name": "stdout",
     "output_type": "stream",
     "text": [
      "matching = [False] - accuracy = 0.0\n",
      "matching = [False] - accuracy = 0.0\n",
      "matching = [False] - accuracy = 0.0\n",
      "matching = [False] - accuracy = 0.0\n",
      "matching = [False] - accuracy = 0.0\n",
      "matching = [False] - accuracy = 0.0\n",
      "matching = [False] - accuracy = 0.0\n",
      "matching = [False] - accuracy = 0.0\n",
      "matching = [False] - accuracy = 0.0\n",
      "matching = [False] - accuracy = 0.0\n"
     ]
    },
    {
     "name": "stderr",
     "output_type": "stream",
     "text": [
      " 33%|█████████████████████████████████████████████████▌                                                                                                   | 350/1052 [00:00<00:01, 491.18it/s]"
     ]
    },
    {
     "name": "stdout",
     "output_type": "stream",
     "text": [
      "matching = [False] - accuracy = 0.0\n",
      "matching = [False] - accuracy = 0.0\n",
      "matching = [False] - accuracy = 0.0\n",
      "matching = [False] - accuracy = 0.0\n",
      "matching = [False] - accuracy = 0.0\n",
      "matching = [False] - accuracy = 0.0\n",
      "matching = [False] - accuracy = 0.0\n",
      "matching = [False] - accuracy = 0.0\n",
      "matching = [False] - accuracy = 0.0\n",
      "matching = [False] - accuracy = 0.0\n"
     ]
    },
    {
     "name": "stderr",
     "output_type": "stream",
     "text": [
      " 43%|███████████████████████████████████████████████████████████████▋                                                                                     | 450/1052 [00:00<00:01, 490.87it/s]"
     ]
    },
    {
     "name": "stdout",
     "output_type": "stream",
     "text": [
      "matching = [False] - accuracy = 0.0\n",
      "matching = [False] - accuracy = 0.0\n",
      "matching = [False] - accuracy = 0.0\n",
      "matching = [False] - accuracy = 0.0\n",
      "matching = [False] - accuracy = 0.0\n",
      "matching = [False] - accuracy = 0.0\n",
      "matching = [False] - accuracy = 0.0\n",
      "matching = [False] - accuracy = 0.0\n",
      "matching = [False] - accuracy = 0.0\n",
      "matching = [False] - accuracy = 0.0\n"
     ]
    },
    {
     "name": "stderr",
     "output_type": "stream",
     "text": [
      " 57%|████████████████████████████████████████████████████████████████████████████████████▉                                                                | 600/1052 [00:01<00:00, 493.57it/s]"
     ]
    },
    {
     "name": "stdout",
     "output_type": "stream",
     "text": [
      "matching = [False] - accuracy = 0.0\n",
      "matching = [False] - accuracy = 0.0\n",
      "matching = [False] - accuracy = 0.0\n",
      "matching = [False] - accuracy = 0.0\n",
      "matching = [False] - accuracy = 0.0\n",
      "matching = [False] - accuracy = 0.0\n",
      "matching = [False] - accuracy = 0.0\n",
      "matching = [False] - accuracy = 0.0\n",
      "matching = [False] - accuracy = 0.0\n",
      "matching = [False] - accuracy = 0.0\n"
     ]
    },
    {
     "name": "stderr",
     "output_type": "stream",
     "text": [
      "\r",
      " 62%|████████████████████████████████████████████████████████████████████████████████████████████                                                         | 650/1052 [00:01<00:00, 493.41it/s]"
     ]
    },
    {
     "name": "stdout",
     "output_type": "stream",
     "text": [
      "matching = [False] - accuracy = 0.0\n",
      "matching = [False] - accuracy = 0.0\n",
      "matching = [False] - accuracy = 0.0\n",
      "matching = [False] - accuracy = 0.0\n",
      "matching = [False] - accuracy = 0.0\n",
      "matching = [False] - accuracy = 0.0\n",
      "matching = [False] - accuracy = 0.0\n",
      "matching = [False] - accuracy = 0.0\n",
      "matching = [False] - accuracy = 0.0\n",
      "matching = [False] - accuracy = 0.0\n"
     ]
    },
    {
     "name": "stderr",
     "output_type": "stream",
     "text": [
      " 71%|██████████████████████████████████████████████████████████████████████████████████████████████████████████▏                                          | 750/1052 [00:01<00:00, 491.56it/s]"
     ]
    },
    {
     "name": "stdout",
     "output_type": "stream",
     "text": [
      "matching = [False] - accuracy = 0.0\n",
      "matching = [False] - accuracy = 0.0\n",
      "matching = [False] - accuracy = 0.0\n",
      "matching = [True] - accuracy = 1.0\n",
      "matching = [False] - accuracy = 0.0\n",
      "matching = [False] - accuracy = 0.0\n",
      "matching = [False] - accuracy = 0.0\n",
      "matching = [False] - accuracy = 0.0\n",
      "matching = [False] - accuracy = 0.0\n",
      "matching = [False] - accuracy = 0.0\n"
     ]
    },
    {
     "name": "stderr",
     "output_type": "stream",
     "text": [
      " 81%|████████████████████████████████████████████████████████████████████████████████████████████████████████████████████████▍                            | 850/1052 [00:01<00:00, 492.11it/s]"
     ]
    },
    {
     "name": "stdout",
     "output_type": "stream",
     "text": [
      "matching = [False] - accuracy = 0.0\n",
      "matching = [False] - accuracy = 0.0\n",
      "matching = [False] - accuracy = 0.0\n",
      "matching = [False] - accuracy = 0.0\n",
      "matching = [False] - accuracy = 0.0\n",
      "matching = [False] - accuracy = 0.0\n",
      "matching = [False] - accuracy = 0.0\n",
      "matching = [False] - accuracy = 0.0\n",
      "matching = [False] - accuracy = 0.0\n",
      "matching = [False] - accuracy = 0.0\n"
     ]
    },
    {
     "name": "stderr",
     "output_type": "stream",
     "text": [
      " 90%|██████████████████████████████████████████████████████████████████████████████████████████████████████████████████████████████████████▌              | 950/1052 [00:01<00:00, 492.22it/s]"
     ]
    },
    {
     "name": "stdout",
     "output_type": "stream",
     "text": [
      "matching = [False] - accuracy = 0.0\n",
      "matching = [False] - accuracy = 0.0\n",
      "matching = [False] - accuracy = 0.0\n",
      "matching = [False] - accuracy = 0.0\n",
      "matching = [False] - accuracy = 0.0\n",
      "matching = [False] - accuracy = 0.0\n",
      "matching = [False] - accuracy = 0.0\n",
      "matching = [False] - accuracy = 0.0\n",
      "matching = [False] - accuracy = 0.0\n",
      "matching = [False] - accuracy = 0.0\n"
     ]
    },
    {
     "name": "stderr",
     "output_type": "stream",
     "text": [
      "100%|████████████████████████████████████████████████████████████████████████████████████████████████████████████████████████████████████████████████████| 1052/1052 [00:02<00:00, 491.33it/s]\n"
     ]
    },
    {
     "name": "stdout",
     "output_type": "stream",
     "text": [
      "pred: 67 - target: 62 - loss: 6.494 - raw pred: tensor([[-0.6034, -4.7511, -2.2302, -1.9917, -2.5296, -0.1200, -2.1646, -0.8127,\n",
      "         -0.6892, -2.4214, -1.3508, -2.9786, -1.8152, -0.3955, -0.0110, -0.1383,\n",
      "         -0.5874, -1.2369, -2.9759, -0.5484, -0.9959, -3.1188, -2.8270, -0.0559,\n",
      "         -5.0887, -5.3859, -2.6513, -2.2081, -3.9575, -1.7081, -0.4746,  0.0637,\n",
      "         -0.8812, -2.0418, -3.0502, -0.2554, -1.4720, -2.2632, -0.3925, -0.4029,\n",
      "         -5.2377, -0.7776, -4.6884, -0.3632, -1.2273, -1.4174, -1.5772, -1.2122,\n",
      "         -5.5302, -0.7375, -0.6139, -1.3037,  0.1416, -1.7622, -2.8673, -4.3435,\n",
      "         -1.1825, -0.4807,  0.5479, -0.1372, -4.3476, -0.9950, -2.8811, -1.0584,\n",
      "         -2.2925, -3.3542, -0.4186,  0.7456, -0.2451, -5.0079, -3.0183,  0.0290,\n",
      "         -1.0283, -2.5131, -4.5398, -3.4979, -0.4631, -0.8302, -0.8520, -3.8845,\n",
      "         -0.3276, -2.5087, -0.9604,  0.3942, -0.1800, -0.3644, -4.0371, -0.0161,\n",
      "         -0.0745, -0.9537, -1.1492, -3.7085, -1.2282]], device='cuda:0')\n",
      "matching = [False] - accuracy = 0.0\n",
      "matching = [False] - accuracy = 0.0\n",
      "matching = [False] - accuracy = 0.0\n",
      "matching = [False] - accuracy = 0.0\n",
      "matching = [False] - accuracy = 0.0\n",
      "matching = [False] - accuracy = 0.0\n",
      "//////////////////// Epoch: 2 ////////////////////\n"
     ]
    },
    {
     "name": "stderr",
     "output_type": "stream",
     "text": [
      "\r",
      "  0%|                                                                                                                                                                | 0/4207 [00:00<?, ?it/s]"
     ]
    },
    {
     "name": "stdout",
     "output_type": "stream",
     "text": [
      "pred: 67 - target: 49 - loss: 4.326 - raw pred: tensor([[-0.5609, -4.4819, -2.0984, -1.8785, -2.3976, -0.0951, -2.0462, -0.7677,\n",
      "         -0.6631, -2.2958, -1.2824, -2.8189, -1.7164, -0.3832,  0.0063, -0.1463,\n",
      "         -0.5470, -1.1685, -2.8079, -0.5112, -0.9366, -2.9404, -2.6647, -0.0555,\n",
      "         -4.7981, -5.0856, -2.5040, -2.0848, -3.7388, -1.6170, -0.4437,  0.0646,\n",
      "         -0.8289, -1.9278, -2.8748, -0.2421, -1.3893, -2.1407, -0.3585, -0.3786,\n",
      "         -4.9310, -0.7380, -4.4243, -0.3369, -1.1547, -1.3363, -1.4887, -1.1459,\n",
      "         -5.2144, -0.6876, -0.5721, -1.2297,  0.1261, -1.6680, -2.7031, -4.1113,\n",
      "         -1.1019, -0.4604,  0.5045, -0.1042, -4.1255, -0.9440, -2.7139, -0.9881,\n",
      "         -2.1574, -3.1596, -0.4052,  0.6940, -0.2281, -4.7278, -2.8479,  0.0216,\n",
      "         -0.9598, -2.3798, -4.2894, -3.2851, -0.4267, -0.7747, -0.8062, -3.6680,\n",
      "         -0.2937, -2.3545, -0.9147,  0.3929, -0.1680, -0.3537, -3.8067, -0.0144,\n",
      "         -0.0892, -0.9077, -1.0873, -3.4978, -1.1539]], device='cuda:0',\n",
      "       grad_fn=<AddmmBackward0>)\n"
     ]
    },
    {
     "name": "stderr",
     "output_type": "stream",
     "text": [
      " 25%|████████████████████████████████████▎                                                                                                               | 1032/4207 [00:05<00:16, 188.22it/s]"
     ]
    },
    {
     "name": "stdout",
     "output_type": "stream",
     "text": [
      "pred: 58 - target: 77 - loss: 4.324 - raw pred: tensor([[-0.4681, -4.6877, -2.3532, -2.1877, -2.5462, -0.2245, -2.2782, -0.7302,\n",
      "         -0.8931, -2.3862, -1.1477, -2.7362, -1.8694, -0.4584, -0.0495, -0.3164,\n",
      "         -0.4855, -0.9428, -3.3355, -0.5094, -0.8274, -2.9903, -2.8792,  0.1979,\n",
      "         -4.9867, -4.9372, -2.6826, -2.2356, -3.6898, -1.5238, -0.6439, -0.1307,\n",
      "         -0.7053, -2.2867, -2.9826, -0.2860, -1.5816, -2.3774, -0.3964, -0.4328,\n",
      "         -5.0756, -1.1077, -4.4643, -0.4884, -1.0190, -1.7276, -1.7938, -1.2749,\n",
      "         -5.1823, -0.7605, -0.6658, -1.2112, -0.0150, -1.6675, -3.0133, -4.4492,\n",
      "         -1.3050, -0.7428,  0.5846, -0.3313, -4.2375, -1.1619, -2.7456, -1.1455,\n",
      "         -2.1727, -3.3573, -0.2782,  0.5075, -0.1809, -4.7835, -2.9404,  0.0359,\n",
      "         -1.0521, -2.3408, -4.3748, -3.4852, -0.5542, -0.7419, -0.9236, -4.2010,\n",
      "         -0.3281, -2.2586, -0.9500,  0.5713, -0.1683, -0.2136, -4.0288, -0.2932,\n",
      "         -0.2850, -0.7826, -1.1890, -3.9782, -1.5003]], device='cuda:0',\n",
      "       grad_fn=<AddmmBackward0>)\n"
     ]
    },
    {
     "name": "stderr",
     "output_type": "stream",
     "text": [
      " 48%|███████████████████████████████████████████████████████████████████████▏                                                                            | 2024/4207 [00:10<00:11, 188.84it/s]"
     ]
    },
    {
     "name": "stdout",
     "output_type": "stream",
     "text": [
      "pred: 67 - target: 58 - loss: 2.840 - raw pred: tensor([[-0.7052, -4.1823, -2.6357, -1.7904, -2.5659, -1.0127, -2.1988, -1.0525,\n",
      "         -0.3681, -2.3388, -1.0222, -3.0531, -1.5948, -0.1969, -0.1317,  0.1219,\n",
      "         -1.1431, -0.9770, -3.1720, -0.9512, -0.9947, -3.1199, -3.1626, -0.3162,\n",
      "         -5.0801, -4.5882, -2.1948, -2.1133, -3.3558, -2.0782, -0.4778, -0.2752,\n",
      "         -0.7262, -2.1002, -2.6558, -0.3445, -1.7523, -1.9414, -0.8757, -0.4847,\n",
      "         -5.0214, -0.7437, -4.3005, -0.3081, -1.4224, -2.1698, -1.4514, -1.4953,\n",
      "         -4.9364, -1.3130, -0.8738, -1.0757,  0.1931, -1.6609, -2.4737, -4.5891,\n",
      "         -1.9259, -0.3115,  0.7153, -1.0736, -4.0784, -1.0699, -3.0243, -1.8279,\n",
      "         -2.2874, -3.2291, -0.1908,  0.8483, -0.6292, -4.8338, -3.5848,  0.0784,\n",
      "         -1.1824, -2.5394, -4.3933, -3.3085, -0.6169, -0.7171, -0.7726, -4.4791,\n",
      "         -0.6219, -2.1193, -0.5114, -0.3034, -0.6633, -0.2006, -4.1499, -0.3598,\n",
      "          0.5064, -0.4509, -1.2965, -3.4907, -1.0716]], device='cuda:0',\n",
      "       grad_fn=<AddmmBackward0>)\n"
     ]
    },
    {
     "name": "stderr",
     "output_type": "stream",
     "text": [
      " 72%|██████████████████████████████████████████████████████████████████████████████████████████████████████████▎                                         | 3023/4207 [00:16<00:06, 189.56it/s]"
     ]
    },
    {
     "name": "stdout",
     "output_type": "stream",
     "text": [
      "pred: 59 - target: 39 - loss: 4.316 - raw pred: tensor([[ 0.0439, -4.9811, -2.1823, -2.2072, -2.7111,  0.4177, -3.0182, -0.8294,\n",
      "         -3.1269, -2.6223, -2.4683, -3.1496, -1.8982, -2.2651,  0.1397, -1.0323,\n",
      "         -0.3897, -2.4915, -4.1511, -0.3509, -0.8614, -3.5621, -3.5036, -0.6087,\n",
      "         -5.1232, -4.7867, -4.2599, -2.4200, -4.4879, -1.4681, -0.2536, -0.8782,\n",
      "         -1.1218, -2.0155, -2.7032, -0.0273, -0.9425, -3.0132, -0.2569, -0.9700,\n",
      "         -3.9103, -1.0364, -4.9714, -1.3502, -1.0665, -0.7464, -2.0987, -1.0124,\n",
      "         -5.3171, -0.3597, -0.4102, -1.3656, -1.8606, -3.1589, -4.3063, -5.0979,\n",
      "         -0.3145, -1.7056, -0.9193,  0.4318, -4.4379, -0.7913, -3.7529, -1.1297,\n",
      "         -3.5445, -3.9489, -1.9938, -0.7978, -0.4139, -4.9431, -4.2758, -0.5300,\n",
      "         -0.4682, -3.0138, -4.6061, -3.7683, -1.1164, -1.4671, -1.4723, -4.7655,\n",
      "         -0.2043, -3.2373, -1.7153,  0.4049, -0.1512, -1.1531, -3.8555, -0.5467,\n",
      "         -1.6742, -2.0986, -1.2703, -3.4209, -2.1301]], device='cuda:0',\n",
      "       grad_fn=<AddmmBackward0>)\n"
     ]
    },
    {
     "name": "stderr",
     "output_type": "stream",
     "text": [
      " 96%|█████████████████████████████████████████████████████████████████████████████████████████████████████████████████████████████████████████████▉      | 4033/4207 [00:21<00:00, 198.49it/s]"
     ]
    },
    {
     "name": "stdout",
     "output_type": "stream",
     "text": [
      "pred: 58 - target: 59 - loss: 4.023 - raw pred: tensor([[-0.7130, -3.7956, -2.0311, -1.6493, -2.0588, -0.4810, -1.9015, -0.7461,\n",
      "         -1.4663, -2.0698, -1.3522, -2.5093, -1.5215, -1.0501, -0.3578, -0.4036,\n",
      "         -0.8643, -1.5853, -2.6598, -0.8915, -0.7809, -3.0162, -2.5511, -0.3153,\n",
      "         -4.3618, -4.1800, -2.5514, -1.8511, -3.4655, -1.4554, -0.4802, -0.1900,\n",
      "         -0.7868, -1.6741, -2.2137, -0.2842, -1.3219, -1.8971, -0.7932, -0.5578,\n",
      "         -3.5615, -0.6179, -4.1490, -0.4088, -1.0506, -1.4044, -1.4176, -1.2762,\n",
      "         -4.5187, -0.8830, -0.7183, -1.0441, -0.7358, -1.7733, -2.7450, -4.1192,\n",
      "         -1.0857, -0.8609,  0.0056, -0.6197, -4.0297, -1.0233, -2.8450, -0.9858,\n",
      "         -2.4224, -3.1135, -0.8608, -0.0891, -0.4203, -4.4996, -3.2155, -0.1712,\n",
      "         -0.8332, -2.7659, -3.7214, -2.8191, -0.6700, -1.0488, -0.8319, -3.8987,\n",
      "         -0.6083, -2.1647, -1.0487, -0.1563, -0.3799, -0.5541, -3.2176, -0.3120,\n",
      "         -0.5502, -1.0430, -1.0657, -3.1015, -1.3030]], device='cuda:0',\n",
      "       grad_fn=<AddmmBackward0>)\n"
     ]
    },
    {
     "name": "stderr",
     "output_type": "stream",
     "text": [
      "100%|████████████████████████████████████████████████████████████████████████████████████████████████████████████████████████████████████████████████████| 4207/4207 [00:22<00:00, 190.29it/s]\n"
     ]
    },
    {
     "name": "stdout",
     "output_type": "stream",
     "text": [
      "//////////////////// Validation ////////////////////\n"
     ]
    },
    {
     "name": "stderr",
     "output_type": "stream",
     "text": [
      "  5%|██████▉                                                                                                                                               | 49/1052 [00:00<00:02, 489.44it/s]"
     ]
    },
    {
     "name": "stdout",
     "output_type": "stream",
     "text": [
      "pred: 67 - target: 50 - loss: 4.402 - raw pred: tensor([[-1.5993e+00, -3.8371e+00, -3.3509e+00, -1.7803e+00, -2.1825e+00,\n",
      "         -1.5075e+00, -1.8656e+00, -8.3380e-01, -2.5190e-01, -2.1895e+00,\n",
      "         -1.0457e+00, -3.6265e+00, -2.0988e+00, -9.5374e-04, -7.9035e-01,\n",
      "         -9.5696e-03, -1.7436e+00, -9.3944e-01, -2.6806e+00, -1.7678e+00,\n",
      "         -8.5660e-01, -4.1097e+00, -2.8714e+00, -1.4105e-01, -5.0414e+00,\n",
      "         -4.8875e+00, -2.1880e+00, -2.4384e+00, -3.7103e+00, -2.2765e+00,\n",
      "         -7.7542e-01,  1.7303e-01, -8.1596e-01, -2.2072e+00, -2.7139e+00,\n",
      "         -8.6973e-01, -2.0917e+00, -1.9594e+00, -1.7510e+00, -4.3777e-01,\n",
      "         -4.6153e+00, -5.3243e-01, -4.9499e+00, -6.7571e-02, -1.2807e+00,\n",
      "         -2.4676e+00, -1.3927e+00, -2.1375e+00, -5.3607e+00, -2.0987e+00,\n",
      "         -9.5639e-01, -1.4709e+00,  1.6894e-01, -1.1414e+00, -2.4626e+00,\n",
      "         -4.7145e+00, -2.2118e+00, -1.1611e-01,  5.8571e-01, -1.6986e+00,\n",
      "         -4.8124e+00, -2.1359e+00, -3.4377e+00, -1.9421e+00, -2.0436e+00,\n",
      "         -3.0289e+00, -4.2209e-02,  6.0158e-01, -5.5383e-01, -5.5084e+00,\n",
      "         -3.8909e+00,  1.8766e-02, -1.4822e+00, -3.7826e+00, -4.3153e+00,\n",
      "         -3.0243e+00, -6.2442e-01, -8.5855e-01, -1.0624e+00, -4.9561e+00,\n",
      "         -1.1526e+00, -1.8733e+00, -8.7654e-01, -7.3054e-01, -8.9535e-01,\n",
      "         -2.1921e-02, -4.0890e+00, -3.2741e-01,  1.1659e-01, -6.4144e-01,\n",
      "         -1.0986e+00, -3.8412e+00, -1.2041e+00]], device='cuda:0')\n",
      "matching = [False] - accuracy = 0.0\n",
      "matching = [False] - accuracy = 0.0\n",
      "matching = [False] - accuracy = 0.0\n",
      "matching = [False] - accuracy = 0.0\n",
      "matching = [False] - accuracy = 0.0\n",
      "matching = [False] - accuracy = 0.0\n",
      "matching = [False] - accuracy = 0.0\n",
      "matching = [False] - accuracy = 0.0\n",
      "matching = [False] - accuracy = 0.0\n",
      "matching = [False] - accuracy = 0.0\n"
     ]
    },
    {
     "name": "stderr",
     "output_type": "stream",
     "text": [
      " 19%|████████████████████████████▏                                                                                                                        | 199/1052 [00:00<00:01, 493.73it/s]"
     ]
    },
    {
     "name": "stdout",
     "output_type": "stream",
     "text": [
      "matching = [False] - accuracy = 0.0\n",
      "matching = [False] - accuracy = 0.0\n",
      "matching = [False] - accuracy = 0.0\n",
      "matching = [False] - accuracy = 0.0\n",
      "matching = [False] - accuracy = 0.0\n",
      "matching = [False] - accuracy = 0.0\n",
      "matching = [False] - accuracy = 0.0\n",
      "matching = [False] - accuracy = 0.0\n",
      "matching = [False] - accuracy = 0.0\n",
      "matching = [False] - accuracy = 0.0\n"
     ]
    },
    {
     "name": "stderr",
     "output_type": "stream",
     "text": [
      " 28%|██████████████████████████████████████████▎                                                                                                          | 299/1052 [00:00<00:01, 493.97it/s]"
     ]
    },
    {
     "name": "stdout",
     "output_type": "stream",
     "text": [
      "matching = [False] - accuracy = 0.0\n",
      "matching = [False] - accuracy = 0.0\n",
      "matching = [False] - accuracy = 0.0\n",
      "matching = [False] - accuracy = 0.0\n",
      "matching = [False] - accuracy = 0.0\n",
      "matching = [False] - accuracy = 0.0\n",
      "matching = [False] - accuracy = 0.0\n",
      "matching = [False] - accuracy = 0.0\n",
      "matching = [False] - accuracy = 0.0\n",
      "matching = [False] - accuracy = 0.0\n"
     ]
    },
    {
     "name": "stderr",
     "output_type": "stream",
     "text": [
      " 38%|████████████████████████████████████████████████████████▌                                                                                            | 399/1052 [00:00<00:01, 493.05it/s]"
     ]
    },
    {
     "name": "stdout",
     "output_type": "stream",
     "text": [
      "matching = [False] - accuracy = 0.0\n",
      "matching = [False] - accuracy = 0.0\n",
      "matching = [False] - accuracy = 0.0\n",
      "matching = [False] - accuracy = 0.0\n",
      "matching = [False] - accuracy = 0.0\n",
      "matching = [False] - accuracy = 0.0\n",
      "matching = [False] - accuracy = 0.0\n",
      "matching = [False] - accuracy = 0.0\n",
      "matching = [False] - accuracy = 0.0\n",
      "matching = [False] - accuracy = 0.0\n"
     ]
    },
    {
     "name": "stderr",
     "output_type": "stream",
     "text": [
      " 47%|██████████████████████████████████████████████████████████████████████▋                                                                              | 499/1052 [00:01<00:01, 494.18it/s]"
     ]
    },
    {
     "name": "stdout",
     "output_type": "stream",
     "text": [
      "matching = [False] - accuracy = 0.0\n",
      "matching = [False] - accuracy = 0.0\n",
      "matching = [False] - accuracy = 0.0\n",
      "matching = [False] - accuracy = 0.0\n",
      "matching = [False] - accuracy = 0.0\n",
      "matching = [False] - accuracy = 0.0\n",
      "matching = [False] - accuracy = 0.0\n",
      "matching = [False] - accuracy = 0.0\n",
      "matching = [False] - accuracy = 0.0\n",
      "matching = [False] - accuracy = 0.0\n"
     ]
    },
    {
     "name": "stderr",
     "output_type": "stream",
     "text": [
      " 57%|████████████████████████████████████████████████████████████████████████████████████▊                                                                | 599/1052 [00:01<00:00, 493.24it/s]"
     ]
    },
    {
     "name": "stdout",
     "output_type": "stream",
     "text": [
      "matching = [False] - accuracy = 0.0\n",
      "matching = [False] - accuracy = 0.0\n",
      "matching = [False] - accuracy = 0.0\n",
      "matching = [False] - accuracy = 0.0\n",
      "matching = [False] - accuracy = 0.0\n",
      "matching = [False] - accuracy = 0.0\n",
      "matching = [False] - accuracy = 0.0\n",
      "matching = [False] - accuracy = 0.0\n",
      "matching = [False] - accuracy = 0.0\n",
      "matching = [False] - accuracy = 0.0\n"
     ]
    },
    {
     "name": "stderr",
     "output_type": "stream",
     "text": [
      " 66%|███████████████████████████████████████████████████████████████████████████████████████████████████                                                  | 699/1052 [00:01<00:00, 492.45it/s]"
     ]
    },
    {
     "name": "stdout",
     "output_type": "stream",
     "text": [
      "matching = [False] - accuracy = 0.0\n",
      "matching = [False] - accuracy = 0.0\n",
      "matching = [False] - accuracy = 0.0\n",
      "matching = [False] - accuracy = 0.0\n",
      "matching = [False] - accuracy = 0.0\n",
      "matching = [False] - accuracy = 0.0\n",
      "matching = [False] - accuracy = 0.0\n",
      "matching = [False] - accuracy = 0.0\n",
      "matching = [False] - accuracy = 0.0\n",
      "matching = [False] - accuracy = 0.0\n"
     ]
    },
    {
     "name": "stderr",
     "output_type": "stream",
     "text": [
      " 76%|█████████████████████████████████████████████████████████████████████████████████████████████████████████████████▏                                   | 799/1052 [00:01<00:00, 494.16it/s]"
     ]
    },
    {
     "name": "stdout",
     "output_type": "stream",
     "text": [
      "matching = [False] - accuracy = 0.0\n",
      "matching = [False] - accuracy = 0.0\n",
      "matching = [False] - accuracy = 0.0\n",
      "matching = [False] - accuracy = 0.0\n",
      "matching = [False] - accuracy = 0.0\n",
      "matching = [False] - accuracy = 0.0\n",
      "matching = [False] - accuracy = 0.0\n",
      "matching = [False] - accuracy = 0.0\n",
      "matching = [False] - accuracy = 0.0\n",
      "matching = [False] - accuracy = 0.0\n"
     ]
    },
    {
     "name": "stderr",
     "output_type": "stream",
     "text": [
      " 85%|███████████████████████████████████████████████████████████████████████████████████████████████████████████████████████████████▎                     | 899/1052 [00:01<00:00, 495.35it/s]"
     ]
    },
    {
     "name": "stdout",
     "output_type": "stream",
     "text": [
      "matching = [False] - accuracy = 0.0\n",
      "matching = [False] - accuracy = 0.0\n",
      "matching = [False] - accuracy = 0.0\n",
      "matching = [False] - accuracy = 0.0\n",
      "matching = [True] - accuracy = 1.0\n",
      "matching = [False] - accuracy = 0.0\n",
      "matching = [False] - accuracy = 0.0\n",
      "matching = [False] - accuracy = 0.0\n",
      "matching = [False] - accuracy = 0.0\n",
      "matching = [False] - accuracy = 0.0\n"
     ]
    },
    {
     "name": "stderr",
     "output_type": "stream",
     "text": [
      " 95%|█████████████████████████████████████████████████████████████████████████████████████████████████████████████████████████████████████████████▍       | 999/1052 [00:02<00:00, 493.42it/s]"
     ]
    },
    {
     "name": "stdout",
     "output_type": "stream",
     "text": [
      "matching = [False] - accuracy = 0.0\n",
      "matching = [False] - accuracy = 0.0\n",
      "matching = [False] - accuracy = 0.0\n",
      "matching = [False] - accuracy = 0.0\n",
      "matching = [False] - accuracy = 0.0\n",
      "matching = [False] - accuracy = 0.0\n",
      "matching = [False] - accuracy = 0.0\n",
      "matching = [False] - accuracy = 0.0\n",
      "matching = [False] - accuracy = 0.0\n",
      "matching = [False] - accuracy = 0.0\n"
     ]
    },
    {
     "name": "stderr",
     "output_type": "stream",
     "text": [
      "100%|████████████████████████████████████████████████████████████████████████████████████████████████████████████████████████████████████████████████████| 1052/1052 [00:02<00:00, 492.99it/s]\n"
     ]
    },
    {
     "name": "stdout",
     "output_type": "stream",
     "text": [
      "pred: 58 - target: 7 - loss: 4.211 - raw pred: tensor([[-1.1327e+00, -3.1221e+00, -2.4355e+00, -1.4018e+00, -1.7550e+00,\n",
      "         -1.0372e+00, -1.5457e+00, -6.6309e-01, -3.1160e-01, -1.7418e+00,\n",
      "         -9.3062e-01, -2.7221e+00, -1.6159e+00, -1.9282e-01, -5.3831e-01,\n",
      "         -8.9178e-02, -1.2053e+00, -9.0187e-01, -2.1580e+00, -1.2454e+00,\n",
      "         -6.9190e-01, -3.1673e+00, -2.2996e+00, -1.4140e-01, -4.0286e+00,\n",
      "         -3.8866e+00, -1.8407e+00, -1.8925e+00, -3.0100e+00, -1.6973e+00,\n",
      "         -6.0666e-01,  6.7332e-02, -6.7789e-01, -1.7116e+00, -2.1394e+00,\n",
      "         -5.5948e-01, -1.5480e+00, -1.6313e+00, -1.2171e+00, -3.4489e-01,\n",
      "         -3.6113e+00, -4.4600e-01, -3.9006e+00, -1.0789e-01, -9.9970e-01,\n",
      "         -1.8102e+00, -1.1591e+00, -1.6040e+00, -4.2750e+00, -1.4161e+00,\n",
      "         -7.3829e-01, -1.1058e+00, -3.8486e-02, -1.0291e+00, -2.0232e+00,\n",
      "         -3.7235e+00, -1.5417e+00, -2.8705e-01,  4.2169e-01, -1.1287e+00,\n",
      "         -3.8070e+00, -1.5088e+00, -2.6877e+00, -1.3454e+00, -1.6895e+00,\n",
      "         -2.5054e+00, -1.6292e-01,  3.6324e-01, -4.3357e-01, -4.3451e+00,\n",
      "         -3.0032e+00, -4.1502e-03, -1.0669e+00, -2.8923e+00, -3.4827e+00,\n",
      "         -2.4445e+00, -5.2114e-01, -7.5503e-01, -7.3415e-01, -3.8554e+00,\n",
      "         -8.3982e-01, -1.5736e+00, -7.4586e-01, -4.7715e-01, -5.8737e-01,\n",
      "         -1.1030e-01, -3.1865e+00, -2.1835e-01,  1.0300e-02, -6.5022e-01,\n",
      "         -8.8227e-01, -3.0582e+00, -9.6693e-01]], device='cuda:0')\n",
      "matching = [False] - accuracy = 0.0\n",
      "matching = [False] - accuracy = 0.0\n",
      "matching = [False] - accuracy = 0.0\n",
      "matching = [False] - accuracy = 0.0\n",
      "matching = [False] - accuracy = 0.0\n",
      "matching = [False] - accuracy = 0.0\n",
      "//////////////////// Epoch: 3 ////////////////////\n"
     ]
    },
    {
     "name": "stderr",
     "output_type": "stream",
     "text": [
      "\r",
      "  0%|                                                                                                                                                                | 0/4207 [00:00<?, ?it/s]"
     ]
    },
    {
     "name": "stdout",
     "output_type": "stream",
     "text": [
      "pred: 83 - target: 36 - loss: 4.599 - raw pred: tensor([[-0.0610, -7.4565, -2.2640, -3.0570, -4.4930,  0.4292, -4.0631, -1.4568,\n",
      "         -5.1688, -3.9429, -3.4054, -3.7327, -2.3441, -3.9312, -0.1798, -1.8062,\n",
      "         -0.3637, -4.4130, -5.5533, -0.4739, -1.5246, -4.6214, -4.6644, -1.0186,\n",
      "         -7.5287, -7.0426, -6.1581, -3.1879, -6.8583, -1.7755, -0.4720, -1.2249,\n",
      "         -1.5659, -2.7089, -3.7019,  0.0193, -1.5432, -4.0542, -0.1704, -1.4880,\n",
      "         -5.1852, -1.9192, -7.5960, -2.0307, -1.7346, -1.0041, -3.0034, -1.2089,\n",
      "         -7.7623, -0.2650, -1.0644, -1.6153, -3.6791, -5.0268, -6.8238, -7.5079,\n",
      "         -0.5514, -2.8441, -1.3724,  0.3794, -6.3483, -0.8053, -5.0594, -0.8316,\n",
      "         -5.9974, -6.5641, -3.4338, -1.8851, -1.0096, -7.3053, -5.3169, -1.2940,\n",
      "         -0.5437, -4.3169, -6.5166, -5.6744, -1.8818, -2.4525, -1.6724, -6.0283,\n",
      "         -0.5852, -4.9233, -2.4310,  0.5789, -0.3974, -2.1062, -5.2018, -1.1679,\n",
      "         -2.8215, -2.8012, -2.0621, -5.1995, -3.1110]], device='cuda:0',\n",
      "       grad_fn=<AddmmBackward0>)\n"
     ]
    },
    {
     "name": "stderr",
     "output_type": "stream",
     "text": [
      " 24%|███████████████████████████████████▉                                                                                                                | 1023/4207 [00:05<00:16, 187.95it/s]"
     ]
    },
    {
     "name": "stdout",
     "output_type": "stream",
     "text": [
      "pred: 83 - target: 51 - loss: 4.079 - raw pred: tensor([[-0.5649, -5.8704, -1.9783, -2.4138, -3.6593, -0.1319, -2.8292, -1.0337,\n",
      "         -3.0240, -2.8888, -2.3879, -3.2896, -1.8397, -2.9249, -0.0469, -1.5082,\n",
      "         -0.6089, -3.2020, -4.0804, -0.6746, -1.2107, -3.5486, -3.6633, -0.8318,\n",
      "         -5.9552, -5.8342, -4.4086, -2.6263, -5.4916, -1.5725, -0.7661, -0.8322,\n",
      "         -1.3771, -2.0459, -2.7351, -0.0449, -1.3409, -3.2041, -0.4823, -1.0075,\n",
      "         -4.1877, -1.3026, -6.0329, -1.2227, -1.1580, -1.2914, -2.3484, -1.3662,\n",
      "         -5.9297, -0.6751, -0.8880, -1.0107, -2.7376, -3.6890, -5.1975, -6.0721,\n",
      "         -1.0395, -2.2802, -0.8593, -0.1102, -5.1632, -0.7916, -3.9999, -1.0290,\n",
      "         -4.8180, -5.4212, -2.3178, -1.2681, -0.8668, -6.0840, -4.0540, -0.6393,\n",
      "         -0.7118, -3.4992, -5.4199, -4.3362, -1.4682, -1.7871, -0.9762, -4.9049,\n",
      "         -0.6283, -3.6264, -1.6844,  0.0220, -0.2803, -1.6974, -4.2608, -0.8155,\n",
      "         -1.7641, -2.2687, -1.5239, -4.5155, -2.1076]], device='cuda:0',\n",
      "       grad_fn=<AddmmBackward0>)\n"
     ]
    },
    {
     "name": "stderr",
     "output_type": "stream",
     "text": [
      " 48%|███████████████████████████████████████████████████████████████████████▍                                                                            | 2030/4207 [00:10<00:11, 189.20it/s]"
     ]
    },
    {
     "name": "stdout",
     "output_type": "stream",
     "text": [
      "pred: 67 - target: 50 - loss: 4.816 - raw pred: tensor([[-3.3313e+00, -5.4315e+00, -5.3758e+00, -2.5097e+00, -2.7955e+00,\n",
      "         -3.2140e+00, -2.0578e+00, -1.3444e+00, -6.6498e-01, -2.8745e+00,\n",
      "         -1.1332e+00, -6.2930e+00, -2.9455e+00,  2.3675e-01, -1.5658e+00,\n",
      "          2.4118e-01, -3.8583e+00, -7.9129e-01, -3.7701e+00, -3.5573e+00,\n",
      "         -1.4160e+00, -6.6375e+00, -3.6196e+00, -2.1452e-01, -6.7259e+00,\n",
      "         -6.6859e+00, -2.5958e+00, -3.8931e+00, -5.2107e+00, -3.2028e+00,\n",
      "         -9.4114e-01, -3.1657e-01, -1.0280e+00, -3.0321e+00, -3.8911e+00,\n",
      "         -2.0379e+00, -3.6493e+00, -2.5228e+00, -3.0446e+00, -7.3605e-01,\n",
      "         -6.5338e+00, -8.9570e-01, -7.8541e+00,  1.0939e-01, -2.4173e+00,\n",
      "         -3.8604e+00, -1.6408e+00, -4.5805e+00, -7.6056e+00, -4.7035e+00,\n",
      "         -1.5342e+00, -2.9453e+00,  6.6852e-01, -1.3803e+00, -3.5115e+00,\n",
      "         -6.5985e+00, -4.0451e+00,  2.3648e-01,  7.1457e-01, -3.4784e+00,\n",
      "         -6.6751e+00, -4.9961e+00, -5.2511e+00, -3.3134e+00, -2.6639e+00,\n",
      "         -4.4833e+00,  5.0437e-03,  9.4814e-01, -1.0645e+00, -8.6658e+00,\n",
      "         -5.9402e+00, -1.5240e-01, -2.7170e+00, -6.8906e+00, -6.5196e+00,\n",
      "         -4.0212e+00, -6.2954e-01, -8.9375e-01, -2.4393e+00, -7.1946e+00,\n",
      "         -1.6541e+00, -2.2986e+00, -1.1792e+00, -1.7630e+00, -1.4306e+00,\n",
      "         -1.1505e-01, -6.5759e+00, -4.7489e-01, -7.5051e-02, -5.5906e-01,\n",
      "         -1.4855e+00, -6.0700e+00, -1.3843e+00]], device='cuda:0',\n",
      "       grad_fn=<AddmmBackward0>)\n"
     ]
    },
    {
     "name": "stderr",
     "output_type": "stream",
     "text": [
      " 72%|██████████████████████████████████████████████████████████████████████████████████████████████████████████▉                                         | 3038/4207 [00:16<00:06, 189.22it/s]"
     ]
    },
    {
     "name": "stdout",
     "output_type": "stream",
     "text": [
      "pred: 83 - target: 80 - loss: 3.553 - raw pred: tensor([[-0.3555, -6.6649, -2.1694, -2.6000, -5.0268, -0.2468, -3.1782, -1.1961,\n",
      "         -3.8978, -3.1901, -3.4960, -3.1327, -1.9895, -5.0508, -0.4554, -2.2780,\n",
      "         -0.6143, -4.4913, -4.8712, -0.5686, -1.7751, -3.6016, -4.0250, -1.0022,\n",
      "         -6.3359, -6.4634, -5.0759, -2.6009, -6.5553, -1.4979, -0.8111, -1.1298,\n",
      "         -2.0945, -2.3639, -2.9789, -0.6058, -1.4764, -4.1410, -0.7132, -1.0931,\n",
      "         -4.2363, -1.8266, -6.9227, -2.0207, -1.1468, -1.3213, -2.7377, -1.2546,\n",
      "         -6.2996, -0.6816, -0.9182, -1.2774, -4.4954, -5.3104, -6.9182, -7.0039,\n",
      "         -1.1084, -3.1821, -1.5061, -0.4618, -5.1331, -1.0772, -4.0343, -1.1180,\n",
      "         -6.3832, -6.9194, -3.2688, -1.9303, -1.1416, -6.2914, -4.1814, -1.2226,\n",
      "         -0.8972, -3.4941, -5.6791, -5.1155, -1.8499, -2.3941, -1.4360, -5.0476,\n",
      "         -0.7497, -4.0818, -2.2640, -0.0516, -0.9861, -2.2526, -4.6561, -1.4142,\n",
      "         -2.4332, -2.6543, -1.9642, -5.2019, -2.4021]], device='cuda:0',\n",
      "       grad_fn=<AddmmBackward0>)\n"
     ]
    },
    {
     "name": "stderr",
     "output_type": "stream",
     "text": [
      " 96%|█████████████████████████████████████████████████████████████████████████████████████████████████████████████████████████████████████████████▋      | 4029/4207 [00:21<00:00, 188.63it/s]"
     ]
    },
    {
     "name": "stdout",
     "output_type": "stream",
     "text": [
      "pred: 58 - target: 57 - loss: 2.996 - raw pred: tensor([[ -7.2046, -10.4900, -12.5519,  -5.6611,  -5.5985,  -9.3761,  -3.8196,\n",
      "          -3.8058,  -1.7999,  -5.5703,  -1.6546, -13.3252,  -5.9478,   0.9560,\n",
      "          -4.3271,   0.5471,  -9.6787,  -0.7504,  -6.8945,  -8.3729,  -2.7094,\n",
      "         -13.4233,  -7.0743,  -1.1185, -13.1989, -12.9471,  -5.0407,  -7.3250,\n",
      "         -10.4097,  -6.8276,  -1.5380,  -1.1482,  -1.6503,  -7.2516,  -7.6203,\n",
      "          -5.8988, -10.2038,  -4.2553,  -6.6473,  -2.3545, -13.7984,  -2.7414,\n",
      "         -15.5096,  -0.5024,  -5.8939,  -6.5889,  -2.9064,  -9.5532, -14.9471,\n",
      "         -12.0461,  -4.2663,  -8.9175,   1.3185,  -2.4583,  -6.4712, -13.0610,\n",
      "         -10.3273,   0.2408,   1.5979, -10.5520, -13.6655, -13.1575, -10.3377,\n",
      "          -7.1820,  -5.0197,  -8.2481,   0.1775,   0.7599,  -1.5958, -16.0787,\n",
      "         -11.8273,  -1.6898,  -6.0212, -14.4912, -13.6844,  -7.6753,  -1.0741,\n",
      "          -1.9560,  -6.6190, -14.3332,  -3.8263,  -4.0126,  -2.2778,  -4.2263,\n",
      "          -3.8531,   0.4610, -13.9411,  -1.1185,   0.3944,  -1.1652,  -2.7476,\n",
      "         -12.1599,  -3.9331]], device='cuda:0', grad_fn=<AddmmBackward0>)\n"
     ]
    },
    {
     "name": "stderr",
     "output_type": "stream",
     "text": [
      "100%|████████████████████████████████████████████████████████████████████████████████████████████████████████████████████████████████████████████████████| 4207/4207 [00:22<00:00, 189.64it/s]\n"
     ]
    },
    {
     "name": "stdout",
     "output_type": "stream",
     "text": [
      "//////////////////// Validation ////////////////////\n"
     ]
    },
    {
     "name": "stderr",
     "output_type": "stream",
     "text": [
      "  5%|██████▉                                                                                                                                               | 49/1052 [00:00<00:02, 487.57it/s]"
     ]
    },
    {
     "name": "stdout",
     "output_type": "stream",
     "text": [
      "pred: 67 - target: 81 - loss: 6.074 - raw pred: tensor([[ -3.3951,  -8.4837,  -6.0315,  -3.6382,  -5.8585,  -4.1930,  -4.0599,\n",
      "          -2.0607,  -2.6985,  -4.5524,  -3.4930,  -7.0942,  -3.7735,  -3.9614,\n",
      "          -1.7552,  -2.0700,  -5.0113,  -3.8792,  -5.8940,  -4.0405,  -1.6031,\n",
      "          -7.1614,  -5.3837,  -1.0629,  -9.4536,  -9.4140,  -5.5763,  -4.6861,\n",
      "          -8.1686,  -3.4412,  -1.7970,  -0.5908,  -2.0304,  -3.9552,  -5.2644,\n",
      "          -2.4477,  -4.6224,  -5.0569,  -3.1556,  -2.0002,  -8.8198,  -1.9471,\n",
      "         -10.2195,  -1.4769,  -2.8998,  -3.9367,  -3.6050,  -4.3516,  -9.8624,\n",
      "          -5.2049,  -2.4000,  -4.5588,  -3.2882,  -4.7972,  -6.7785,  -9.6913,\n",
      "          -4.6669,  -2.5297,  -1.4968,  -4.2643,  -9.0361,  -5.7336,  -5.7587,\n",
      "          -3.7435,  -6.0100,  -7.8311,  -2.4471,  -0.5647,  -1.6843, -10.6119,\n",
      "          -7.2855,  -0.6340,  -3.1263,  -7.8323,  -9.3376,  -6.6593,  -1.5805,\n",
      "          -2.2672,  -3.3810,  -8.9506,  -1.9124,  -4.1315,  -2.4327,  -1.8298,\n",
      "          -1.1702,  -2.0139,  -8.6301,  -1.1816,  -1.2258,  -2.3055,  -2.2629,\n",
      "          -8.2199,  -2.5605]], device='cuda:0')\n",
      "matching = [False] - accuracy = 0.0\n",
      "matching = [False] - accuracy = 0.0\n",
      "matching = [False] - accuracy = 0.0\n",
      "matching = [False] - accuracy = 0.0\n",
      "matching = [False] - accuracy = 0.0\n",
      "matching = [False] - accuracy = 0.0\n",
      "matching = [False] - accuracy = 0.0\n",
      "matching = [False] - accuracy = 0.0\n",
      "matching = [False] - accuracy = 0.0\n",
      "matching = [False] - accuracy = 0.0\n"
     ]
    },
    {
     "name": "stderr",
     "output_type": "stream",
     "text": [
      " 19%|████████████████████████████▏                                                                                                                        | 199/1052 [00:00<00:01, 493.02it/s]"
     ]
    },
    {
     "name": "stdout",
     "output_type": "stream",
     "text": [
      "matching = [False] - accuracy = 0.0\n",
      "matching = [False] - accuracy = 0.0\n",
      "matching = [False] - accuracy = 0.0\n",
      "matching = [False] - accuracy = 0.0\n",
      "matching = [False] - accuracy = 0.0\n",
      "matching = [False] - accuracy = 0.0\n",
      "matching = [False] - accuracy = 0.0\n",
      "matching = [False] - accuracy = 0.0\n",
      "matching = [False] - accuracy = 0.0\n",
      "matching = [False] - accuracy = 0.0\n"
     ]
    },
    {
     "name": "stderr",
     "output_type": "stream",
     "text": [
      " 28%|██████████████████████████████████████████▎                                                                                                          | 299/1052 [00:00<00:01, 492.75it/s]"
     ]
    },
    {
     "name": "stdout",
     "output_type": "stream",
     "text": [
      "matching = [False] - accuracy = 0.0\n",
      "matching = [False] - accuracy = 0.0\n",
      "matching = [True] - accuracy = 1.0\n",
      "matching = [False] - accuracy = 0.0\n",
      "matching = [False] - accuracy = 0.0\n",
      "matching = [False] - accuracy = 0.0\n",
      "matching = [False] - accuracy = 0.0\n",
      "matching = [False] - accuracy = 0.0\n",
      "matching = [False] - accuracy = 0.0\n",
      "matching = [False] - accuracy = 0.0\n"
     ]
    },
    {
     "name": "stderr",
     "output_type": "stream",
     "text": [
      " 38%|████████████████████████████████████████████████████████▌                                                                                            | 399/1052 [00:00<00:01, 493.01it/s]"
     ]
    },
    {
     "name": "stdout",
     "output_type": "stream",
     "text": [
      "matching = [False] - accuracy = 0.0\n",
      "matching = [False] - accuracy = 0.0\n",
      "matching = [False] - accuracy = 0.0\n",
      "matching = [False] - accuracy = 0.0\n",
      "matching = [False] - accuracy = 0.0\n",
      "matching = [False] - accuracy = 0.0\n",
      "matching = [False] - accuracy = 0.0\n",
      "matching = [False] - accuracy = 0.0\n",
      "matching = [False] - accuracy = 0.0\n",
      "matching = [False] - accuracy = 0.0\n"
     ]
    },
    {
     "name": "stderr",
     "output_type": "stream",
     "text": [
      " 47%|██████████████████████████████████████████████████████████████████████▋                                                                              | 499/1052 [00:01<00:01, 493.37it/s]"
     ]
    },
    {
     "name": "stdout",
     "output_type": "stream",
     "text": [
      "matching = [False] - accuracy = 0.0\n",
      "matching = [False] - accuracy = 0.0\n",
      "matching = [False] - accuracy = 0.0\n",
      "matching = [False] - accuracy = 0.0\n",
      "matching = [False] - accuracy = 0.0\n",
      "matching = [False] - accuracy = 0.0\n",
      "matching = [False] - accuracy = 0.0\n",
      "matching = [False] - accuracy = 0.0\n",
      "matching = [False] - accuracy = 0.0\n",
      "matching = [False] - accuracy = 0.0\n"
     ]
    },
    {
     "name": "stderr",
     "output_type": "stream",
     "text": [
      " 57%|████████████████████████████████████████████████████████████████████████████████████▊                                                                | 599/1052 [00:01<00:00, 494.81it/s]"
     ]
    },
    {
     "name": "stdout",
     "output_type": "stream",
     "text": [
      "matching = [False] - accuracy = 0.0\n",
      "matching = [False] - accuracy = 0.0\n",
      "matching = [False] - accuracy = 0.0\n",
      "matching = [False] - accuracy = 0.0\n",
      "matching = [False] - accuracy = 0.0\n",
      "matching = [False] - accuracy = 0.0\n",
      "matching = [False] - accuracy = 0.0\n",
      "matching = [False] - accuracy = 0.0\n",
      "matching = [False] - accuracy = 0.0\n",
      "matching = [False] - accuracy = 0.0\n"
     ]
    },
    {
     "name": "stderr",
     "output_type": "stream",
     "text": [
      " 66%|███████████████████████████████████████████████████████████████████████████████████████████████████                                                  | 699/1052 [00:01<00:00, 493.35it/s]"
     ]
    },
    {
     "name": "stdout",
     "output_type": "stream",
     "text": [
      "matching = [False] - accuracy = 0.0\n",
      "matching = [False] - accuracy = 0.0\n",
      "matching = [False] - accuracy = 0.0\n",
      "matching = [False] - accuracy = 0.0\n",
      "matching = [False] - accuracy = 0.0\n",
      "matching = [False] - accuracy = 0.0\n",
      "matching = [False] - accuracy = 0.0\n",
      "matching = [False] - accuracy = 0.0\n",
      "matching = [False] - accuracy = 0.0\n",
      "matching = [False] - accuracy = 0.0\n"
     ]
    },
    {
     "name": "stderr",
     "output_type": "stream",
     "text": [
      " 76%|█████████████████████████████████████████████████████████████████████████████████████████████████████████████████▏                                   | 799/1052 [00:01<00:00, 494.16it/s]"
     ]
    },
    {
     "name": "stdout",
     "output_type": "stream",
     "text": [
      "matching = [False] - accuracy = 0.0\n",
      "matching = [False] - accuracy = 0.0\n",
      "matching = [False] - accuracy = 0.0\n",
      "matching = [False] - accuracy = 0.0\n",
      "matching = [True] - accuracy = 1.0\n",
      "matching = [False] - accuracy = 0.0\n",
      "matching = [False] - accuracy = 0.0\n",
      "matching = [False] - accuracy = 0.0\n",
      "matching = [True] - accuracy = 1.0\n",
      "matching = [False] - accuracy = 0.0\n"
     ]
    },
    {
     "name": "stderr",
     "output_type": "stream",
     "text": [
      " 85%|███████████████████████████████████████████████████████████████████████████████████████████████████████████████████████████████▎                     | 899/1052 [00:01<00:00, 494.47it/s]"
     ]
    },
    {
     "name": "stdout",
     "output_type": "stream",
     "text": [
      "matching = [True] - accuracy = 1.0\n",
      "matching = [False] - accuracy = 0.0\n",
      "matching = [False] - accuracy = 0.0\n",
      "matching = [False] - accuracy = 0.0\n",
      "matching = [False] - accuracy = 0.0\n",
      "matching = [False] - accuracy = 0.0\n",
      "matching = [False] - accuracy = 0.0\n",
      "matching = [False] - accuracy = 0.0\n",
      "matching = [False] - accuracy = 0.0\n",
      "matching = [False] - accuracy = 0.0\n"
     ]
    },
    {
     "name": "stderr",
     "output_type": "stream",
     "text": [
      " 95%|█████████████████████████████████████████████████████████████████████████████████████████████████████████████████████████████████████████████▍       | 999/1052 [00:02<00:00, 494.76it/s]"
     ]
    },
    {
     "name": "stdout",
     "output_type": "stream",
     "text": [
      "matching = [False] - accuracy = 0.0\n",
      "matching = [False] - accuracy = 0.0\n",
      "matching = [False] - accuracy = 0.0\n",
      "matching = [False] - accuracy = 0.0\n",
      "matching = [False] - accuracy = 0.0\n",
      "matching = [False] - accuracy = 0.0\n",
      "matching = [False] - accuracy = 0.0\n",
      "matching = [False] - accuracy = 0.0\n",
      "matching = [False] - accuracy = 0.0\n",
      "matching = [False] - accuracy = 0.0\n"
     ]
    },
    {
     "name": "stderr",
     "output_type": "stream",
     "text": [
      "100%|████████████████████████████████████████████████████████████████████████████████████████████████████████████████████████████████████████████████████| 1052/1052 [00:02<00:00, 493.06it/s]\n"
     ]
    },
    {
     "name": "stdout",
     "output_type": "stream",
     "text": [
      "pred: 71 - target: 13 - loss: 7.472 - raw pred: tensor([[ -2.6839,  -8.6150,  -4.8330,  -3.5052,  -6.6391,  -3.0254,  -4.6339,\n",
      "          -2.2398,  -2.2318,  -4.8078,  -4.0038,  -6.6450,  -3.4069,  -5.7279,\n",
      "          -1.2154,  -3.0039,  -3.6860,  -5.5593,  -6.0683,  -2.9183,  -2.0023,\n",
      "          -6.9291,  -5.6109,  -1.7624,  -9.4468,  -9.7628,  -6.0881,  -4.7190,\n",
      "          -8.4785,  -3.3367,  -2.0031,  -1.0910,  -2.4022,  -3.8632,  -5.1177,\n",
      "          -1.9465,  -3.6592,  -5.7261,  -2.5654,  -1.8593,  -7.6949,  -2.1440,\n",
      "         -10.0989,  -1.4620,  -2.5157,  -3.9494,  -3.9104,  -3.3642,  -9.5168,\n",
      "          -3.8605,  -2.2983,  -3.1692,  -5.1097,  -5.6067,  -7.7886,  -9.2850,\n",
      "          -3.3311,  -3.5552,  -2.0413,  -2.9685,  -8.8347,  -4.0974,  -6.3158,\n",
      "          -3.1322,  -6.9397,  -8.4339,  -3.4734,  -1.2827,  -1.9283,  -9.9592,\n",
      "          -6.8030,  -0.9735,  -2.5445,  -7.4147,  -9.1343,  -7.1433,  -2.1637,\n",
      "          -2.9158,  -1.7100,  -7.9731,  -1.8659,  -4.8296,  -2.9382,  -1.5533,\n",
      "          -1.5735,  -2.6439,  -8.3137,  -1.6942,  -1.7550,  -3.0331,  -2.6820,\n",
      "          -8.0771,  -2.7475]], device='cuda:0')\n",
      "matching = [False] - accuracy = 0.0\n",
      "matching = [False] - accuracy = 0.0\n",
      "matching = [False] - accuracy = 0.0\n",
      "matching = [False] - accuracy = 0.0\n",
      "matching = [False] - accuracy = 0.0\n",
      "matching = [False] - accuracy = 0.0\n",
      "//////////////////// Epoch: 4 ////////////////////\n"
     ]
    },
    {
     "name": "stderr",
     "output_type": "stream",
     "text": [
      "\r",
      "  0%|                                                                                                                                                                | 0/4207 [00:00<?, ?it/s]"
     ]
    },
    {
     "name": "stdout",
     "output_type": "stream",
     "text": [
      "pred: 58 - target: 53 - loss: 4.929 - raw pred: tensor([[ -5.5220,  -7.5261,  -9.3185,  -4.0232,  -4.2242,  -7.2904,  -3.0247,\n",
      "          -3.0437,  -1.2853,  -4.2747,  -1.2607, -10.0571,  -4.4507,   0.7340,\n",
      "          -3.1645,   0.2369,  -7.4174,  -0.6610,  -4.9013,  -6.4301,  -1.8835,\n",
      "          -9.9277,  -5.3435,  -0.9045,  -9.8453,  -9.5597,  -3.8084,  -5.5139,\n",
      "          -7.8347,  -5.0632,  -1.3819,  -0.7450,  -1.2305,  -5.4161,  -5.6801,\n",
      "          -4.4927,  -7.7124,  -3.0860,  -5.1007,  -1.9827, -10.2749,  -2.1319,\n",
      "         -11.6057,  -0.3523,  -4.2608,  -5.0469,  -2.0933,  -7.0852, -11.1244,\n",
      "          -9.2271,  -3.3512,  -6.8215,   0.9275,  -1.7833,  -4.5804,  -9.7524,\n",
      "          -7.8516,   0.3444,   1.1340,  -7.6835, -10.2643, -10.1224,  -7.6002,\n",
      "          -5.5403,  -3.7852,  -6.1227,   0.3561,   0.7557,  -1.5131, -11.7167,\n",
      "          -8.8939,  -1.3243,  -4.3548, -10.8704, -10.2095,  -5.7664,  -0.8126,\n",
      "          -1.2719,  -5.2187, -10.6754,  -2.8797,  -2.7158,  -1.5912,  -3.2793,\n",
      "          -2.7194,   0.2490, -10.3731,  -0.9321,   0.0289,  -0.8746,  -2.1552,\n",
      "          -8.8292,  -2.9530]], device='cuda:0', grad_fn=<AddmmBackward0>)\n"
     ]
    },
    {
     "name": "stderr",
     "output_type": "stream",
     "text": [
      " 24%|███████████████████████████████████▌                                                                                                                | 1011/4207 [00:05<00:16, 188.09it/s]"
     ]
    }
   ],
   "source": [
    "train(test_train_dl, test_valid_dl, env)"
   ]
  },
  {
   "cell_type": "code",
   "execution_count": 76,
   "metadata": {},
   "outputs": [],
   "source": [
    "unmount_ramdrive(mountpoint)"
   ]
  },
  {
   "cell_type": "code",
   "execution_count": null,
   "metadata": {},
   "outputs": [],
   "source": []
  }
 ],
 "metadata": {
  "kernelspec": {
   "display_name": "Python 3 (ipykernel)",
   "language": "python",
   "name": "python3"
  },
  "language_info": {
   "codemirror_mode": {
    "name": "ipython",
    "version": 3
   },
   "file_extension": ".py",
   "mimetype": "text/x-python",
   "name": "python",
   "nbconvert_exporter": "python",
   "pygments_lexer": "ipython3",
   "version": "3.12.3"
  }
 },
 "nbformat": 4,
 "nbformat_minor": 2
}
