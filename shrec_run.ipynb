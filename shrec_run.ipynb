{
 "cells": [
  {
   "cell_type": "markdown",
   "metadata": {},
   "source": [
    "### PointNet to Classify Proteins"
   ]
  },
  {
   "cell_type": "markdown",
   "metadata": {},
   "source": [
    "#### Dataset study"
   ]
  },
  {
   "cell_type": "code",
   "execution_count": 1,
   "metadata": {},
   "outputs": [
    {
     "name": "stdout",
     "output_type": "stream",
     "text": [
      "['8ugd_8:R:3U_model1.vtk', '8h0v_18:R:c_model1.vtk', '3j3q_1:DX:4F_model1.vtk', '4u4u_23:XC:d1_model1.vtk', '6rny_4:H:H_model1.vtk']\n",
      "\n",
      "<class 'pandas.core.frame.DataFrame'>\n",
      "Index: 9244 entries, 0 to 9243\n",
      "Data columns (total 3 columns):\n",
      " #   Column            Non-Null Count  Dtype \n",
      "---  ------            --------------  ----- \n",
      " 0   protein_id        9244 non-null   object\n",
      " 1   class_id          9244 non-null   int64 \n",
      " 2   number_of_points  9244 non-null   int64 \n",
      "dtypes: int64(2), object(1)\n",
      "memory usage: 288.9+ KB\n",
      "None\n"
     ]
    },
    {
     "data": {
      "text/html": [
       "<div>\n",
       "<style scoped>\n",
       "    .dataframe tbody tr th:only-of-type {\n",
       "        vertical-align: middle;\n",
       "    }\n",
       "\n",
       "    .dataframe tbody tr th {\n",
       "        vertical-align: top;\n",
       "    }\n",
       "\n",
       "    .dataframe thead th {\n",
       "        text-align: right;\n",
       "    }\n",
       "</style>\n",
       "<table border=\"1\" class=\"dataframe\">\n",
       "  <thead>\n",
       "    <tr style=\"text-align: right;\">\n",
       "      <th></th>\n",
       "      <th>protein_id</th>\n",
       "      <th>class_id</th>\n",
       "      <th>number_of_points</th>\n",
       "    </tr>\n",
       "  </thead>\n",
       "  <tbody>\n",
       "    <tr>\n",
       "      <th>0</th>\n",
       "      <td>8ugd_8:R:3U_model1</td>\n",
       "      <td>96</td>\n",
       "      <td>5916</td>\n",
       "    </tr>\n",
       "    <tr>\n",
       "      <th>1</th>\n",
       "      <td>8h0v_18:R:c_model1</td>\n",
       "      <td>86</td>\n",
       "      <td>10078</td>\n",
       "    </tr>\n",
       "    <tr>\n",
       "      <th>2</th>\n",
       "      <td>3j3q_1:DX:4F_model1</td>\n",
       "      <td>8</td>\n",
       "      <td>18432</td>\n",
       "    </tr>\n",
       "    <tr>\n",
       "      <th>3</th>\n",
       "      <td>4u4u_23:XC:d1_model1</td>\n",
       "      <td>83</td>\n",
       "      <td>8242</td>\n",
       "    </tr>\n",
       "    <tr>\n",
       "      <th>4</th>\n",
       "      <td>6rny_4:H:H_model1</td>\n",
       "      <td>34</td>\n",
       "      <td>9204</td>\n",
       "    </tr>\n",
       "    <tr>\n",
       "      <th>...</th>\n",
       "      <td>...</td>\n",
       "      <td>...</td>\n",
       "      <td>...</td>\n",
       "    </tr>\n",
       "    <tr>\n",
       "      <th>9239</th>\n",
       "      <td>3j3y_1:HL:6R_model1</td>\n",
       "      <td>8</td>\n",
       "      <td>18342</td>\n",
       "    </tr>\n",
       "    <tr>\n",
       "      <th>9240</th>\n",
       "      <td>4u4y_15:O:C3_model1</td>\n",
       "      <td>91</td>\n",
       "      <td>12976</td>\n",
       "    </tr>\n",
       "    <tr>\n",
       "      <th>9241</th>\n",
       "      <td>7w31_26:AA:c_model1</td>\n",
       "      <td>18</td>\n",
       "      <td>16454</td>\n",
       "    </tr>\n",
       "    <tr>\n",
       "      <th>9242</th>\n",
       "      <td>3j4k_1:E:E_model1</td>\n",
       "      <td>90</td>\n",
       "      <td>23188</td>\n",
       "    </tr>\n",
       "    <tr>\n",
       "      <th>9243</th>\n",
       "      <td>3j3y_1:UIA:fE_model1</td>\n",
       "      <td>8</td>\n",
       "      <td>17888</td>\n",
       "    </tr>\n",
       "  </tbody>\n",
       "</table>\n",
       "<p>9244 rows × 3 columns</p>\n",
       "</div>"
      ],
      "text/plain": [
       "                protein_id  class_id  number_of_points\n",
       "0       8ugd_8:R:3U_model1        96              5916\n",
       "1       8h0v_18:R:c_model1        86             10078\n",
       "2      3j3q_1:DX:4F_model1         8             18432\n",
       "3     4u4u_23:XC:d1_model1        83              8242\n",
       "4        6rny_4:H:H_model1        34              9204\n",
       "...                    ...       ...               ...\n",
       "9239   3j3y_1:HL:6R_model1         8             18342\n",
       "9240   4u4y_15:O:C3_model1        91             12976\n",
       "9241   7w31_26:AA:c_model1        18             16454\n",
       "9242     3j4k_1:E:E_model1        90             23188\n",
       "9243  3j3y_1:UIA:fE_model1         8             17888\n",
       "\n",
       "[9244 rows x 3 columns]"
      ]
     },
     "execution_count": 1,
     "metadata": {},
     "output_type": "execute_result"
    }
   ],
   "source": [
    "# Getting the data\n",
    "import os\n",
    "from pandas import DataFrame\n",
    "import pandas as pd\n",
    "\n",
    "from datasetStudy import *\n",
    "\n",
    "from pathlib import Path\n",
    "\n",
    "debug_pointnet = False\n",
    "\n",
    "# Multiple function here depends on thi variable\n",
    "#root = '/mnt/dataset/shrec-2025-protein-classification/v2-20250331' \n",
    "#base_path = Path('/mnt/')\n",
    "base_path = Path('/mnt/raid1')\n",
    "root = base_path / 'dataset/shrec-2025-protein-classification/v2-20250331'\n",
    "\n",
    "#train_data = os.listdir(os.path.join(root, 'train'))\n",
    "#train_data_cls = pd.read_csv('datasets/train_set-all.csv', sep=',', index_col=0)\n",
    "\n",
    "train_data = os.listdir(root / 'train')\n",
    "train_data_cls = pd.read_csv('./datasets/train_set-all.csv', sep=',', index_col=0)\n",
    "\n",
    "print(train_data[:5])\n",
    "print()\n",
    "print(train_data_cls.info())\n",
    "train_data_cls"
   ]
  },
  {
   "cell_type": "code",
   "execution_count": 260,
   "metadata": {},
   "outputs": [],
   "source": [
    "src = root / 'train-xz'\n",
    "mountpoint = '/tmp/ramdrive'\n",
    "size_in_gb = 3\n",
    "\n",
    "def create_ramdrive(src, mountpoint, size_in_gb):\n",
    "    if Path(mountpoint).exists() or Path(mountpoint).is_dir():\n",
    "        print(f'Ramdrive already created, exiting...')\n",
    "        return\n",
    "    \n",
    "    !sudo mkdir -p \"{mountpoint}\"\n",
    "    !sudo mount -o size=\"{size_in_gb}\"G -t tmpfs none \"{mountpoint}\"\n",
    "    !rsync -a --progress \"{src}\" \"{mountpoint}\"\n",
    "    \n",
    "def unmount_ramdrive(mountpoint):\n",
    "    !sudo umount \"{mountpoint}\"\n",
    "    !sudo rmdir \"{mountpoint}\""
   ]
  },
  {
   "cell_type": "code",
   "execution_count": 3,
   "metadata": {},
   "outputs": [
    {
     "name": "stdout",
     "output_type": "stream",
     "text": [
      "Ramdrive already created, exiting...\n"
     ]
    }
   ],
   "source": [
    "create_ramdrive(src, mountpoint, size_in_gb)"
   ]
  },
  {
   "cell_type": "code",
   "execution_count": 4,
   "metadata": {},
   "outputs": [
    {
     "data": {
      "text/html": [
       "<div>\n",
       "<style scoped>\n",
       "    .dataframe tbody tr th:only-of-type {\n",
       "        vertical-align: middle;\n",
       "    }\n",
       "\n",
       "    .dataframe tbody tr th {\n",
       "        vertical-align: top;\n",
       "    }\n",
       "\n",
       "    .dataframe thead th {\n",
       "        text-align: right;\n",
       "    }\n",
       "</style>\n",
       "<table border=\"1\" class=\"dataframe\">\n",
       "  <thead>\n",
       "    <tr style=\"text-align: right;\">\n",
       "      <th></th>\n",
       "      <th>protein_id</th>\n",
       "      <th>class_id</th>\n",
       "      <th>number_of_points</th>\n",
       "    </tr>\n",
       "  </thead>\n",
       "  <tbody>\n",
       "  </tbody>\n",
       "</table>\n",
       "</div>"
      ],
      "text/plain": [
       "Empty DataFrame\n",
       "Columns: [protein_id, class_id, number_of_points]\n",
       "Index: []"
      ]
     },
     "execution_count": 4,
     "metadata": {},
     "output_type": "execute_result"
    }
   ],
   "source": [
    "possible_disconnected_mesh(train_data_cls, 96, False)\n",
    "\n",
    "disconnected_dict = {}\n",
    "for idx in range(97):\n",
    "    disconnected_dict[idx] = possible_disconnected_mesh(train_data_cls, idx)\n",
    "\n",
    "#print(disconnected_dict)\n",
    "\n",
    "_, damaged = possible_disconnected_mesh(train_data_cls, 8, True); damaged"
   ]
  },
  {
   "cell_type": "code",
   "execution_count": 5,
   "metadata": {},
   "outputs": [
    {
     "name": "stdout",
     "output_type": "stream",
     "text": [
      "Classes which have between 0 and 5 element: 16/97\n"
     ]
    }
   ],
   "source": [
    "dist = cls_distribution(train_data_cls)\n",
    "inspect_distribution(dist, l_lim=0, u_lim=5)"
   ]
  },
  {
   "cell_type": "code",
   "execution_count": 122,
   "metadata": {},
   "outputs": [
    {
     "name": "stdout",
     "output_type": "stream",
     "text": [
      "cls 0: 101\t101\t101\t0\t0\t101\t101\t\n",
      "cls 1: 3\t3\t0\t0\t0\t0\t3\t\n",
      "cls 2: 17\t17\t17\t17\t17\t0\t17\t\n",
      "cls 3: 21\t21\t21\t21\t21\t0\t21\t\n",
      "cls 4: 15\t15\t15\t15\t15\t0\t15\t\n",
      "cls 5: 127\t127\t127\t0\t0\t127\t127\t\n",
      "cls 6: 25\t25\t25\t25\t25\t0\t25\t\n",
      "cls 7: 75\t75\t75\t75\t0\t0\t75\t\n",
      "cls 8: 2054\t2054\t2054\t0\t0\t2054\t0\t\n",
      "cls 9: 66\t66\t66\t66\t0\t0\t66\t\n",
      "cls 10: 14\t14\t14\t14\t14\t0\t14\t\n",
      "cls 11: 43\t43\t43\t43\t43\t0\t43\t\n",
      "cls 12: 10\t10\t10\t10\t10\t0\t10\t\n",
      "cls 13: 22\t22\t22\t22\t22\t0\t22\t\n",
      "cls 14: 489\t489\t489\t0\t0\t489\t0\t\n",
      "cls 15: 89\t89\t89\t89\t0\t0\t89\t\n",
      "cls 16: 154\t154\t154\t0\t0\t154\t154\t\n",
      "cls 17: 116\t116\t116\t0\t0\t116\t116\t\n",
      "cls 18: 76\t76\t76\t76\t0\t0\t76\t\n",
      "cls 19: 42\t42\t42\t42\t42\t0\t42\t\n",
      "cls 20: 7\t7\t0\t0\t0\t0\t7\t\n",
      "cls 21: 74\t74\t74\t74\t0\t0\t74\t\n",
      "cls 22: 58\t58\t58\t58\t0\t0\t58\t\n",
      "cls 23: 10\t10\t10\t10\t10\t0\t10\t\n",
      "cls 24: 10\t10\t10\t10\t10\t0\t10\t\n",
      "cls 25: 143\t143\t143\t0\t0\t143\t143\t\n",
      "cls 26: 2\t2\t0\t0\t0\t0\t2\t\n",
      "cls 27: 3\t3\t0\t0\t0\t0\t3\t\n",
      "cls 28: 18\t18\t18\t18\t18\t0\t18\t\n",
      "cls 29: 14\t14\t14\t14\t14\t0\t14\t\n",
      "cls 30: 3\t3\t0\t0\t0\t0\t3\t\n",
      "cls 31: 33\t33\t33\t33\t33\t0\t33\t\n",
      "cls 32: 93\t93\t93\t93\t0\t0\t93\t\n",
      "cls 33: 126\t126\t126\t0\t0\t126\t126\t\n",
      "cls 34: 73\t73\t73\t73\t0\t0\t73\t\n",
      "cls 35: 23\t23\t23\t23\t23\t0\t23\t\n",
      "cls 36: 8\t8\t0\t0\t0\t0\t8\t\n",
      "cls 37: 119\t119\t119\t0\t0\t119\t119\t\n",
      "cls 38: 34\t34\t34\t34\t34\t0\t34\t\n",
      "cls 39: 19\t19\t19\t19\t19\t0\t19\t\n",
      "cls 40: 95\t95\t95\t95\t0\t0\t95\t\n",
      "cls 41: 95\t95\t95\t95\t0\t0\t95\t\n",
      "cls 42: 2\t2\t0\t0\t0\t0\t2\t\n",
      "cls 43: 70\t70\t70\t70\t0\t0\t70\t\n",
      "cls 44: 2\t2\t0\t0\t0\t0\t2\t\n",
      "cls 45: 109\t109\t109\t0\t0\t109\t109\t\n",
      "cls 46: 44\t44\t44\t44\t44\t0\t44\t\n",
      "cls 47: 37\t37\t37\t37\t37\t0\t37\t\n",
      "cls 48: 27\t27\t27\t27\t27\t0\t27\t\n",
      "cls 49: 49\t49\t49\t49\t49\t0\t49\t\n",
      "cls 50: 2\t2\t0\t0\t0\t0\t2\t\n",
      "cls 51: 71\t71\t71\t71\t0\t0\t71\t\n",
      "cls 52: 76\t76\t76\t76\t0\t0\t76\t\n",
      "cls 53: 53\t53\t53\t53\t0\t0\t53\t\n",
      "cls 54: 128\t128\t128\t0\t0\t128\t128\t\n",
      "cls 55: 26\t26\t26\t26\t26\t0\t26\t\n",
      "cls 56: 654\t654\t654\t0\t0\t654\t0\t\n",
      "cls 57: 9\t9\t0\t0\t0\t0\t9\t\n",
      "cls 58: 2\t2\t0\t0\t0\t0\t2\t\n",
      "cls 59: 54\t54\t54\t54\t0\t0\t54\t\n",
      "cls 60: 73\t73\t73\t73\t0\t0\t73\t\n",
      "cls 61: 240\t240\t240\t0\t0\t240\t240\t\n",
      "cls 62: 135\t135\t135\t0\t0\t135\t135\t\n",
      "cls 63: 2\t2\t0\t0\t0\t0\t2\t\n",
      "cls 64: 57\t57\t57\t57\t0\t0\t57\t\n",
      "cls 65: 10\t10\t10\t10\t10\t0\t10\t\n",
      "cls 66: 54\t54\t54\t54\t0\t0\t54\t\n",
      "cls 67: 17\t17\t17\t17\t17\t0\t17\t\n",
      "cls 68: 5\t5\t0\t0\t0\t0\t5\t\n",
      "cls 69: 80\t80\t80\t80\t0\t0\t80\t\n",
      "cls 70: 223\t223\t223\t0\t0\t223\t223\t\n",
      "cls 71: 102\t102\t102\t0\t0\t102\t102\t\n",
      "cls 72: 2\t2\t0\t0\t0\t0\t2\t\n",
      "cls 73: 6\t6\t0\t0\t0\t0\t6\t\n",
      "cls 74: 150\t150\t150\t0\t0\t150\t150\t\n",
      "cls 75: 69\t69\t69\t69\t0\t0\t69\t\n",
      "cls 76: 10\t10\t10\t10\t10\t0\t10\t\n",
      "cls 77: 2\t2\t0\t0\t0\t0\t2\t\n",
      "cls 78: 5\t5\t0\t0\t0\t0\t5\t\n",
      "cls 79: 78\t78\t78\t78\t0\t0\t78\t\n",
      "cls 80: 57\t57\t57\t57\t0\t0\t57\t\n",
      "cls 81: 58\t58\t58\t58\t0\t0\t58\t\n",
      "cls 82: 2\t2\t0\t0\t0\t0\t2\t\n",
      "cls 83: 115\t115\t115\t0\t0\t115\t115\t\n",
      "cls 84: 18\t18\t18\t18\t18\t0\t18\t\n",
      "cls 85: 49\t49\t49\t49\t49\t0\t49\t\n",
      "cls 86: 203\t203\t203\t0\t0\t203\t203\t\n",
      "cls 87: 103\t103\t103\t0\t0\t103\t103\t\n",
      "cls 88: 97\t97\t97\t97\t0\t0\t97\t\n",
      "cls 89: 3\t3\t0\t0\t0\t0\t3\t\n",
      "cls 90: 788\t788\t788\t0\t0\t788\t0\t\n",
      "cls 91: 118\t118\t118\t0\t0\t118\t118\t\n",
      "cls 92: 129\t129\t129\t0\t0\t129\t129\t\n",
      "cls 93: 61\t61\t61\t61\t0\t0\t61\t\n",
      "cls 94: 52\t52\t52\t52\t0\t0\t52\t\n",
      "cls 95: 2\t2\t0\t0\t0\t0\t2\t\n",
      "cls 96: 35\t35\t35\t35\t35\t0\t35\t\n",
      "len(train_data_cls) = 9244\n",
      "len(raw_train_dataframe_f1) = 9244\n",
      "len(raw_train_dataframe_f2) = 9172\n",
      "len(raw_train_dataframe_f3) = 2546\n",
      "len(raw_train_dataframe_f4) = 692\n",
      "len(raw_train_dataframe_f5) = 6626\n"
     ]
    }
   ],
   "source": [
    "dist_all = cls_distribution(train_data_cls)\n",
    "\n",
    "# Filter the number of points\n",
    "raw_train_dataframe_f1 = number_of_point_filter(train_data_cls, 1000)\n",
    "dist_f1 = cls_distribution(raw_train_dataframe_f1)\n",
    "\n",
    "\n",
    "# Filter according to the number of samples in classes\n",
    "raw_train_dataframe_f2 = number_of_class_filter(raw_train_dataframe_f1, l_cut_off=10)\n",
    "dist_f2 = cls_distribution(raw_train_dataframe_f2)\n",
    "\n",
    "raw_train_dataframe_f3 = number_of_class_filter(raw_train_dataframe_f1, l_cut_off=10, u_cut_off=100)\n",
    "dist_f3 = cls_distribution(raw_train_dataframe_f3)\n",
    "\n",
    "raw_train_dataframe_f4 = number_of_class_filter(raw_train_dataframe_f1, l_cut_off=10, u_cut_off=50)\n",
    "dist_f4 = cls_distribution(raw_train_dataframe_f4)\n",
    "\n",
    "raw_train_dataframe_f5 = number_of_class_filter(raw_train_dataframe_f1, l_cut_off=100)\n",
    "dist_f5 = cls_distribution(raw_train_dataframe_f5)\n",
    "\n",
    "raw_train_dataframe_f6 = number_of_class_filter(raw_train_dataframe_f1, l_cut_off=0, u_cut_off=450)\n",
    "dist_f6 = cls_distribution(raw_train_dataframe_f6)\n",
    "\n",
    "distributions = [dist_all, dist_f1, dist_f2, dist_f3, dist_f4, dist_f5, dist_f6]\n",
    "for idx in range(len(dist_all)):\n",
    "    output = f'cls {idx}: '\n",
    "    for dist in distributions:\n",
    "        output += f'{print_dist(dist, idx)}\\t'\n",
    "    print(output)\n",
    "\n",
    "print(f'{len(train_data_cls) = }')\n",
    "print(f'{len(raw_train_dataframe_f1) = }')\n",
    "print(f'{len(raw_train_dataframe_f2) = }')\n",
    "print(f'{len(raw_train_dataframe_f3) = }')\n",
    "print(f'{len(raw_train_dataframe_f4) = }')\n",
    "print(f'{len(raw_train_dataframe_f5) = }')"
   ]
  },
  {
   "cell_type": "code",
   "execution_count": 123,
   "metadata": {},
   "outputs": [
    {
     "name": "stdout",
     "output_type": "stream",
     "text": [
      "93 [0, 1, 2, 3, 4, 5, 6, 7, 9, 10, 11, 12, 13, 15, 16, 17, 18, 19, 20, 21, 22, 23, 24, 25, 26, 27, 28, 29, 30, 31, 32, 33, 34, 35, 36, 37, 38, 39, 40, 41, 42, 43, 44, 45, 46, 47, 48, 49, 50, 51, 52, 53, 54, 55, 57, 58, 59, 60, 61, 62, 63, 64, 65, 66, 67, 68, 69, 70, 71, 72, 73, 74, 75, 76, 77, 78, 79, 80, 81, 82, 83, 84, 85, 86, 87, 88, 89, 91, 92, 93, 94, 95, 96]\n"
     ]
    }
   ],
   "source": [
    "dist_f6_available_classes = []\n",
    "for key,value in dist_f6.items():\n",
    "    if value:\n",
    "        dist_f6_available_classes.append(key)\n",
    "print(len(dist_f6_available_classes), dist_f6_available_classes)"
   ]
  },
  {
   "cell_type": "code",
   "execution_count": 176,
   "metadata": {},
   "outputs": [],
   "source": [
    "symmetria_flist = list((root / 'train-symmetria-xz').glob('*.xz'))\n",
    "symmetria_flist = [(fpath.name[3:-3], fpath.name[0:2], None) for fpath in symmetria_flist]"
   ]
  },
  {
   "cell_type": "code",
   "execution_count": 177,
   "metadata": {},
   "outputs": [
    {
     "data": {
      "text/plain": [
       "[('000002-astroid-clean', '00', None),\n",
       " ('000011-astroid-gaussian', '00', None),\n",
       " ('000012-astroid-gaussian', '00', None),\n",
       " ('000021-astroid-undersampling+gaussian', '00', None),\n",
       " ('000032-astroid-gaussian', '00', None),\n",
       " ('000037-astroid-uniform', '00', None),\n",
       " ('000044-astroid-gaussian', '00', None),\n",
       " ('000047-astroid-clean', '00', None),\n",
       " ('000086-astroid-gaussian', '00', None),\n",
       " ('000101-astroid-undersampling+gaussian', '00', None),\n",
       " ('000102-astroid-undersampling+uniform', '00', None),\n",
       " ('000105-astroid-uniform', '00', None),\n",
       " ('000118-astroid-undersampling', '00', None),\n",
       " ('000148-astroid-clean', '00', None),\n",
       " ('000151-astroid-undersampling', '00', None),\n",
       " ('000155-astroid-clean', '00', None),\n",
       " ('000177-astroid-undersampling+gaussian', '00', None),\n",
       " ('000191-astroid-undersampling+uniform', '00', None),\n",
       " ('000211-astroid-uniform', '00', None),\n",
       " ('000229-astroid-gaussian', '00', None),\n",
       " ('000238-astroid-clean', '00', None),\n",
       " ('000243-astroid-gaussian', '00', None),\n",
       " ('000248-astroid-clean', '00', None),\n",
       " ('000252-astroid-clean', '00', None),\n",
       " ('000260-astroid-clean', '00', None),\n",
       " ('000279-astroid-clean', '00', None),\n",
       " ('000290-astroid-clean', '00', None),\n",
       " ('000292-astroid-undersampling+gaussian', '00', None),\n",
       " ('000295-astroid-undersampling+uniform', '00', None),\n",
       " ('000308-astroid-uniform', '00', None),\n",
       " ('000316-astroid-undersampling+gaussian', '00', None),\n",
       " ('000347-astroid-undersampling+uniform', '00', None),\n",
       " ('000357-astroid-undersampling', '00', None),\n",
       " ('000373-astroid-undersampling', '00', None),\n",
       " ('000375-astroid-undersampling+gaussian', '00', None),\n",
       " ('000380-astroid-undersampling', '00', None),\n",
       " ('000393-astroid-undersampling+uniform', '00', None),\n",
       " ('000401-astroid-uniform', '00', None),\n",
       " ('000406-astroid-undersampling+uniform', '00', None),\n",
       " ('000432-astroid-undersampling+gaussian', '00', None),\n",
       " ('000488-astroid-undersampling+gaussian', '00', None),\n",
       " ('000497-astroid-clean', '00', None),\n",
       " ('000499-astroid-undersampling', '00', None),\n",
       " ('000514-astroid-undersampling+gaussian', '00', None),\n",
       " ('000516-astroid-undersampling', '00', None),\n",
       " ('000518-astroid-undersampling', '00', None),\n",
       " ('000519-astroid-undersampling', '00', None),\n",
       " ('000523-astroid-gaussian', '00', None),\n",
       " ('000525-astroid-uniform', '00', None),\n",
       " ('000532-astroid-undersampling+gaussian', '00', None),\n",
       " ('000541-astroid-clean', '00', None),\n",
       " ('000547-astroid-uniform', '00', None),\n",
       " ('000555-astroid-undersampling', '00', None),\n",
       " ('000556-astroid-undersampling+gaussian', '00', None),\n",
       " ('000565-astroid-uniform', '00', None),\n",
       " ('000568-astroid-gaussian', '00', None),\n",
       " ('000576-astroid-undersampling+gaussian', '00', None),\n",
       " ('000577-astroid-undersampling+gaussian', '00', None),\n",
       " ('000578-astroid-gaussian', '00', None),\n",
       " ('000587-astroid-undersampling', '00', None),\n",
       " ('000593-astroid-undersampling+gaussian', '00', None),\n",
       " ('000609-astroid-undersampling+gaussian', '00', None),\n",
       " ('000626-astroid-undersampling+gaussian', '00', None),\n",
       " ('000655-astroid-undersampling', '00', None),\n",
       " ('000662-astroid-undersampling+gaussian', '00', None),\n",
       " ('000675-astroid-clean', '00', None),\n",
       " ('000689-astroid-undersampling+gaussian', '00', None),\n",
       " ('000691-astroid-gaussian', '00', None),\n",
       " ('000695-astroid-undersampling', '00', None),\n",
       " ('000702-astroid-undersampling+uniform', '00', None),\n",
       " ('000725-astroid-gaussian', '00', None),\n",
       " ('000735-astroid-gaussian', '00', None),\n",
       " ('000752-astroid-gaussian', '00', None),\n",
       " ('000755-astroid-undersampling', '00', None),\n",
       " ('000758-astroid-gaussian', '00', None),\n",
       " ('000760-astroid-undersampling', '00', None),\n",
       " ('000769-astroid-undersampling+gaussian', '00', None),\n",
       " ('000771-astroid-undersampling', '00', None),\n",
       " ('000773-astroid-clean', '00', None),\n",
       " ('000783-astroid-uniform', '00', None),\n",
       " ('000788-astroid-undersampling+gaussian', '00', None),\n",
       " ('000793-astroid-uniform', '00', None),\n",
       " ('000806-astroid-uniform', '00', None),\n",
       " ('000810-astroid-gaussian', '00', None),\n",
       " ('000812-astroid-gaussian', '00', None),\n",
       " ('000817-astroid-gaussian', '00', None),\n",
       " ('000830-astroid-gaussian', '00', None),\n",
       " ('000832-astroid-undersampling+uniform', '00', None),\n",
       " ('000835-astroid-undersampling+uniform', '00', None),\n",
       " ('000838-astroid-gaussian', '00', None),\n",
       " ('000850-astroid-gaussian', '00', None),\n",
       " ('000855-astroid-clean', '00', None),\n",
       " ('000862-astroid-gaussian', '00', None),\n",
       " ('000881-astroid-uniform', '00', None),\n",
       " ('000899-astroid-undersampling', '00', None),\n",
       " ('000904-astroid-undersampling+gaussian', '00', None),\n",
       " ('000907-astroid-gaussian', '00', None),\n",
       " ('000935-astroid-uniform', '00', None),\n",
       " ('000941-astroid-undersampling+gaussian', '00', None),\n",
       " ('000943-astroid-gaussian', '00', None),\n",
       " ('000961-astroid-clean', '00', None),\n",
       " ('000968-astroid-undersampling', '00', None),\n",
       " ('000979-astroid-clean', '00', None),\n",
       " ('000981-astroid-undersampling+uniform', '00', None),\n",
       " ('000982-astroid-uniform', '00', None),\n",
       " ('001006-astroid-gaussian', '00', None),\n",
       " ('001020-astroid-gaussian', '00', None),\n",
       " ('001029-astroid-gaussian', '00', None),\n",
       " ('001036-astroid-undersampling+uniform', '00', None),\n",
       " ('001051-astroid-clean', '00', None),\n",
       " ('001052-astroid-undersampling+uniform', '00', None),\n",
       " ('001087-astroid-undersampling', '00', None),\n",
       " ('001092-astroid-undersampling', '00', None),\n",
       " ('001093-astroid-clean', '00', None),\n",
       " ('001094-astroid-undersampling+gaussian', '00', None),\n",
       " ('001125-astroid-undersampling+gaussian', '00', None),\n",
       " ('001138-astroid-undersampling+gaussian', '00', None),\n",
       " ('001156-astroid-undersampling', '00', None),\n",
       " ('001169-astroid-undersampling', '00', None),\n",
       " ('001183-astroid-clean', '00', None),\n",
       " ('001185-astroid-undersampling+gaussian', '00', None),\n",
       " ('001188-astroid-gaussian', '00', None),\n",
       " ('001195-astroid-undersampling', '00', None),\n",
       " ('001232-astroid-clean', '00', None),\n",
       " ('001234-astroid-undersampling+gaussian', '00', None),\n",
       " ('001236-astroid-clean', '00', None),\n",
       " ('001250-astroid-gaussian', '00', None),\n",
       " ('001275-astroid-clean', '00', None),\n",
       " ('001291-astroid-clean', '00', None),\n",
       " ('001294-astroid-undersampling+uniform', '00', None),\n",
       " ('001313-astroid-clean', '00', None),\n",
       " ('001341-astroid-uniform', '00', None),\n",
       " ('001344-astroid-undersampling+gaussian', '00', None),\n",
       " ('001372-astroid-undersampling+uniform', '00', None),\n",
       " ('001380-astroid-undersampling+uniform', '00', None),\n",
       " ('001385-astroid-undersampling+gaussian', '00', None),\n",
       " ('001413-astroid-undersampling+gaussian', '00', None),\n",
       " ('001427-astroid-clean', '00', None),\n",
       " ('001429-astroid-undersampling+gaussian', '00', None),\n",
       " ('001430-astroid-uniform', '00', None),\n",
       " ('001431-astroid-gaussian', '00', None),\n",
       " ('001438-astroid-gaussian', '00', None),\n",
       " ('001439-astroid-clean', '00', None),\n",
       " ('001442-astroid-undersampling+uniform', '00', None),\n",
       " ('001445-astroid-gaussian', '00', None),\n",
       " ('001448-astroid-gaussian', '00', None),\n",
       " ('001468-astroid-undersampling+uniform', '00', None),\n",
       " ('001479-astroid-undersampling', '00', None),\n",
       " ('001484-astroid-undersampling', '00', None),\n",
       " ('001497-astroid-clean', '00', None),\n",
       " ('001518-astroid-gaussian', '00', None),\n",
       " ('001521-astroid-undersampling', '00', None),\n",
       " ('001523-astroid-gaussian', '00', None),\n",
       " ('001527-astroid-undersampling', '00', None),\n",
       " ('001535-astroid-undersampling+uniform', '00', None),\n",
       " ('001538-astroid-undersampling+gaussian', '00', None),\n",
       " ('001547-astroid-uniform', '00', None),\n",
       " ('001553-astroid-gaussian', '00', None),\n",
       " ('001554-astroid-undersampling+gaussian', '00', None),\n",
       " ('001560-astroid-undersampling+uniform', '00', None),\n",
       " ('001592-astroid-clean', '00', None),\n",
       " ('001611-astroid-uniform', '00', None),\n",
       " ('001612-astroid-undersampling+gaussian', '00', None),\n",
       " ('001613-astroid-clean', '00', None),\n",
       " ('001617-astroid-undersampling', '00', None),\n",
       " ('001623-astroid-clean', '00', None),\n",
       " ('001633-astroid-gaussian', '00', None),\n",
       " ('001639-astroid-gaussian', '00', None),\n",
       " ('001652-astroid-undersampling', '00', None),\n",
       " ('001655-astroid-clean', '00', None),\n",
       " ('001657-astroid-clean', '00', None),\n",
       " ('001671-astroid-uniform', '00', None),\n",
       " ('001674-astroid-uniform', '00', None),\n",
       " ('001676-astroid-undersampling+gaussian', '00', None),\n",
       " ('001684-astroid-undersampling+gaussian', '00', None),\n",
       " ('001702-astroid-clean', '00', None),\n",
       " ('001704-astroid-undersampling+uniform', '00', None),\n",
       " ('001705-astroid-undersampling', '00', None),\n",
       " ('001716-astroid-undersampling', '00', None),\n",
       " ('001721-astroid-gaussian', '00', None),\n",
       " ('001723-astroid-undersampling+uniform', '00', None),\n",
       " ('001734-astroid-undersampling+uniform', '00', None),\n",
       " ('001738-astroid-undersampling+gaussian', '00', None),\n",
       " ('001776-astroid-undersampling', '00', None),\n",
       " ('001778-astroid-gaussian', '00', None),\n",
       " ('001787-astroid-clean', '00', None),\n",
       " ('001791-astroid-gaussian', '00', None),\n",
       " ('001796-astroid-undersampling+uniform', '00', None),\n",
       " ('001801-astroid-gaussian', '00', None),\n",
       " ('001815-astroid-uniform', '00', None),\n",
       " ('001821-astroid-gaussian', '00', None),\n",
       " ('001829-astroid-uniform', '00', None),\n",
       " ('001830-astroid-uniform', '00', None),\n",
       " ('001847-astroid-gaussian', '00', None),\n",
       " ('001867-astroid-undersampling+uniform', '00', None),\n",
       " ('001875-astroid-undersampling+gaussian', '00', None),\n",
       " ('001878-astroid-uniform', '00', None),\n",
       " ('001879-astroid-uniform', '00', None),\n",
       " ('001917-astroid-undersampling+uniform', '00', None),\n",
       " ('001931-astroid-undersampling+gaussian', '00', None),\n",
       " ('001936-astroid-clean', '00', None),\n",
       " ('001943-astroid-clean', '00', None),\n",
       " ('001952-astroid-gaussian', '00', None),\n",
       " ('001967-astroid-undersampling+gaussian', '00', None),\n",
       " ('001974-astroid-undersampling+uniform', '00', None),\n",
       " ('001989-astroid-clean', '00', None),\n",
       " ('001990-astroid-gaussian', '00', None),\n",
       " ('002000-astroid-uniform', '00', None),\n",
       " ('002018-astroid-uniform', '00', None),\n",
       " ('002042-astroid-uniform', '00', None),\n",
       " ('002066-astroid-clean', '00', None),\n",
       " ('002077-astroid-gaussian', '00', None),\n",
       " ('002079-astroid-undersampling+uniform', '00', None),\n",
       " ('002081-astroid-gaussian', '00', None),\n",
       " ('002082-astroid-undersampling+gaussian', '00', None),\n",
       " ('002087-astroid-undersampling+gaussian', '00', None),\n",
       " ('002090-astroid-undersampling+gaussian', '00', None),\n",
       " ('002101-astroid-undersampling+uniform', '00', None),\n",
       " ('002119-astroid-gaussian', '00', None),\n",
       " ('002121-astroid-undersampling+gaussian', '00', None),\n",
       " ('002133-astroid-undersampling+gaussian', '00', None),\n",
       " ('002148-astroid-undersampling+gaussian', '00', None),\n",
       " ('002158-astroid-uniform', '00', None),\n",
       " ('002168-astroid-undersampling+gaussian', '00', None),\n",
       " ('002176-astroid-uniform', '00', None),\n",
       " ('002200-astroid-undersampling+gaussian', '00', None),\n",
       " ('002203-astroid-undersampling', '00', None),\n",
       " ('002204-astroid-gaussian', '00', None),\n",
       " ('002224-astroid-undersampling', '00', None),\n",
       " ('002231-astroid-uniform', '00', None),\n",
       " ('002234-astroid-undersampling+uniform', '00', None),\n",
       " ('002236-astroid-gaussian', '00', None),\n",
       " ('002238-astroid-undersampling+gaussian', '00', None),\n",
       " ('002253-astroid-clean', '00', None),\n",
       " ('002270-astroid-gaussian', '00', None),\n",
       " ('002273-astroid-uniform', '00', None),\n",
       " ('002275-astroid-undersampling+uniform', '00', None),\n",
       " ('002289-astroid-clean', '00', None),\n",
       " ('002292-astroid-gaussian', '00', None),\n",
       " ('002295-astroid-undersampling', '00', None),\n",
       " ('002301-astroid-undersampling', '00', None),\n",
       " ('002310-astroid-clean', '00', None),\n",
       " ('002337-astroid-gaussian', '00', None),\n",
       " ('002361-astroid-undersampling', '00', None),\n",
       " ('002370-astroid-clean', '00', None),\n",
       " ('002375-astroid-undersampling+uniform', '00', None),\n",
       " ('002377-astroid-uniform', '00', None),\n",
       " ('002380-astroid-undersampling', '00', None),\n",
       " ('002388-astroid-uniform', '00', None),\n",
       " ('002391-astroid-uniform', '00', None),\n",
       " ('002394-astroid-clean', '00', None),\n",
       " ('002417-astroid-undersampling+gaussian', '00', None),\n",
       " ('002445-astroid-clean', '00', None),\n",
       " ('002449-astroid-undersampling+gaussian', '00', None),\n",
       " ('002465-astroid-uniform', '00', None),\n",
       " ('002469-astroid-gaussian', '00', None),\n",
       " ('002492-astroid-clean', '00', None),\n",
       " ('002500-astroid-undersampling+gaussian', '00', None),\n",
       " ('002506-astroid-uniform', '00', None),\n",
       " ('002511-astroid-undersampling', '00', None),\n",
       " ('002542-astroid-undersampling+gaussian', '00', None),\n",
       " ('002544-astroid-uniform', '00', None),\n",
       " ('002549-astroid-clean', '00', None),\n",
       " ('002577-astroid-uniform', '00', None),\n",
       " ('002592-astroid-clean', '00', None),\n",
       " ('002621-astroid-uniform', '00', None),\n",
       " ('002622-astroid-undersampling+uniform', '00', None),\n",
       " ('002645-astroid-clean', '00', None),\n",
       " ('002654-astroid-uniform', '00', None),\n",
       " ('002659-astroid-clean', '00', None),\n",
       " ('002661-astroid-gaussian', '00', None),\n",
       " ('002679-astroid-clean', '00', None),\n",
       " ('002693-astroid-undersampling', '00', None),\n",
       " ('002705-astroid-undersampling+uniform', '00', None),\n",
       " ('002710-astroid-undersampling+gaussian', '00', None),\n",
       " ('002742-astroid-gaussian', '00', None),\n",
       " ('002745-astroid-undersampling+gaussian', '00', None),\n",
       " ('002750-astroid-undersampling+uniform', '00', None),\n",
       " ('002752-astroid-undersampling', '00', None),\n",
       " ('002760-astroid-undersampling+gaussian', '00', None),\n",
       " ('002762-astroid-undersampling+uniform', '00', None),\n",
       " ('002763-astroid-undersampling+gaussian', '00', None),\n",
       " ('002780-astroid-undersampling+uniform', '00', None),\n",
       " ('002785-astroid-undersampling+uniform', '00', None),\n",
       " ('002789-astroid-undersampling', '00', None),\n",
       " ('002790-astroid-clean', '00', None),\n",
       " ('002799-astroid-undersampling+uniform', '00', None),\n",
       " ('002828-astroid-undersampling', '00', None),\n",
       " ('002835-astroid-uniform', '00', None),\n",
       " ('002842-astroid-uniform', '00', None),\n",
       " ('002846-astroid-undersampling+uniform', '00', None),\n",
       " ('002847-astroid-undersampling+gaussian', '00', None),\n",
       " ('002863-astroid-gaussian', '00', None),\n",
       " ('002893-astroid-clean', '00', None),\n",
       " ('002917-astroid-undersampling+uniform', '00', None),\n",
       " ('002924-astroid-uniform', '00', None),\n",
       " ('002936-astroid-undersampling', '00', None),\n",
       " ('002941-astroid-undersampling', '00', None),\n",
       " ('002942-astroid-uniform', '00', None),\n",
       " ('002949-astroid-uniform', '00', None),\n",
       " ('002962-astroid-gaussian', '00', None),\n",
       " ('002997-astroid-undersampling', '00', None),\n",
       " ('003003-astroid-undersampling+uniform', '00', None),\n",
       " ('003011-astroid-clean', '00', None),\n",
       " ('003021-astroid-undersampling', '00', None),\n",
       " ('003023-astroid-uniform', '00', None),\n",
       " ('003026-astroid-undersampling', '00', None),\n",
       " ('003038-astroid-clean', '00', None),\n",
       " ('003039-astroid-uniform', '00', None),\n",
       " ('003045-astroid-uniform', '00', None),\n",
       " ('003046-astroid-gaussian', '00', None),\n",
       " ('003073-astroid-undersampling', '00', None),\n",
       " ('003078-astroid-undersampling+uniform', '00', None),\n",
       " ('003088-astroid-undersampling+uniform', '00', None),\n",
       " ('003092-astroid-undersampling+gaussian', '00', None),\n",
       " ('003095-astroid-undersampling+uniform', '00', None),\n",
       " ('003106-astroid-uniform', '00', None),\n",
       " ('003113-astroid-undersampling', '00', None),\n",
       " ('003114-astroid-undersampling+gaussian', '00', None),\n",
       " ('003123-astroid-uniform', '00', None),\n",
       " ('003127-astroid-undersampling', '00', None),\n",
       " ('003136-astroid-undersampling', '00', None),\n",
       " ('003138-astroid-undersampling+gaussian', '00', None),\n",
       " ('003147-astroid-undersampling', '00', None),\n",
       " ('003165-astroid-clean', '00', None),\n",
       " ('003175-astroid-undersampling+gaussian', '00', None),\n",
       " ('003177-astroid-clean', '00', None),\n",
       " ('003179-astroid-uniform', '00', None),\n",
       " ('003192-astroid-undersampling+uniform', '00', None),\n",
       " ('003208-astroid-undersampling+gaussian', '00', None),\n",
       " ('003222-astroid-clean', '00', None),\n",
       " ('003229-astroid-gaussian', '00', None),\n",
       " ('003238-astroid-uniform', '00', None),\n",
       " ('003250-astroid-clean', '00', None),\n",
       " ('003288-astroid-clean', '00', None),\n",
       " ('003302-astroid-undersampling+gaussian', '00', None),\n",
       " ('003319-astroid-undersampling+gaussian', '00', None),\n",
       " ('003335-astroid-undersampling+uniform', '00', None),\n",
       " ('003347-astroid-undersampling+uniform', '00', None),\n",
       " ('003357-astroid-undersampling+gaussian', '00', None),\n",
       " ('003369-astroid-clean', '00', None),\n",
       " ('003386-astroid-clean', '00', None),\n",
       " ('003389-astroid-undersampling+uniform', '00', None),\n",
       " ('003410-astroid-undersampling+gaussian', '00', None),\n",
       " ('003437-astroid-undersampling+gaussian', '00', None),\n",
       " ('003447-astroid-clean', '00', None),\n",
       " ('003453-astroid-uniform', '00', None),\n",
       " ('003462-astroid-undersampling+gaussian', '00', None),\n",
       " ('003478-astroid-undersampling', '00', None),\n",
       " ('003495-astroid-undersampling', '00', None),\n",
       " ('003499-astroid-undersampling+gaussian', '00', None),\n",
       " ('003522-astroid-undersampling', '00', None),\n",
       " ('003539-astroid-clean', '00', None),\n",
       " ('003541-astroid-gaussian', '00', None),\n",
       " ('003542-astroid-clean', '00', None),\n",
       " ('003547-astroid-clean', '00', None),\n",
       " ('003560-astroid-undersampling+uniform', '00', None),\n",
       " ('003570-astroid-undersampling', '00', None),\n",
       " ('003586-astroid-undersampling+gaussian', '00', None),\n",
       " ('003594-astroid-gaussian', '00', None),\n",
       " ('003596-astroid-gaussian', '00', None),\n",
       " ('003605-astroid-undersampling+uniform', '00', None),\n",
       " ('003649-astroid-gaussian', '00', None),\n",
       " ('003653-astroid-undersampling+uniform', '00', None),\n",
       " ('003667-astroid-undersampling', '00', None),\n",
       " ('003674-astroid-uniform', '00', None),\n",
       " ('003689-astroid-uniform', '00', None),\n",
       " ('003698-astroid-gaussian', '00', None),\n",
       " ('003702-astroid-undersampling', '00', None),\n",
       " ('003705-astroid-undersampling+gaussian', '00', None),\n",
       " ('003709-astroid-undersampling', '00', None),\n",
       " ('003713-astroid-undersampling+uniform', '00', None),\n",
       " ('003720-astroid-gaussian', '00', None),\n",
       " ('003728-astroid-uniform', '00', None),\n",
       " ('003736-astroid-undersampling', '00', None),\n",
       " ('003737-astroid-undersampling+uniform', '00', None),\n",
       " ('003746-astroid-uniform', '00', None),\n",
       " ('003757-astroid-uniform', '00', None),\n",
       " ('003758-astroid-clean', '00', None),\n",
       " ('003759-astroid-clean', '00', None),\n",
       " ('003769-astroid-uniform', '00', None),\n",
       " ('003773-astroid-uniform', '00', None),\n",
       " ('003787-astroid-gaussian', '00', None),\n",
       " ('003808-astroid-undersampling', '00', None),\n",
       " ('003829-astroid-undersampling', '00', None),\n",
       " ('003830-astroid-undersampling+gaussian', '00', None),\n",
       " ('003838-astroid-gaussian', '00', None),\n",
       " ('003847-astroid-gaussian', '00', None),\n",
       " ('003851-astroid-undersampling', '00', None),\n",
       " ('003882-astroid-clean', '00', None),\n",
       " ('003897-astroid-undersampling+uniform', '00', None),\n",
       " ('003906-astroid-clean', '00', None),\n",
       " ('003913-astroid-uniform', '00', None),\n",
       " ('003914-astroid-uniform', '00', None),\n",
       " ('003924-astroid-clean', '00', None),\n",
       " ('003928-astroid-undersampling+uniform', '00', None),\n",
       " ('003999-astroid-undersampling+uniform', '00', None),\n",
       " ('004002-astroid-undersampling+uniform', '00', None),\n",
       " ('004003-astroid-undersampling+uniform', '00', None),\n",
       " ('004004-astroid-clean', '00', None),\n",
       " ('004006-astroid-undersampling', '00', None),\n",
       " ('004012-astroid-undersampling+gaussian', '00', None),\n",
       " ('004024-astroid-undersampling+uniform', '00', None),\n",
       " ('004036-astroid-gaussian', '00', None),\n",
       " ('004046-astroid-undersampling+uniform', '00', None),\n",
       " ('004056-astroid-undersampling', '00', None),\n",
       " ('004057-astroid-undersampling+gaussian', '00', None),\n",
       " ('004079-astroid-gaussian', '00', None),\n",
       " ('004083-astroid-gaussian', '00', None),\n",
       " ('004099-astroid-undersampling', '00', None),\n",
       " ('004107-astroid-undersampling+uniform', '00', None),\n",
       " ('004109-astroid-undersampling', '00', None),\n",
       " ('004110-astroid-undersampling+gaussian', '00', None),\n",
       " ('004115-astroid-clean', '00', None),\n",
       " ('004118-astroid-uniform', '00', None),\n",
       " ('004122-astroid-uniform', '00', None),\n",
       " ('004123-astroid-uniform', '00', None),\n",
       " ('004135-astroid-undersampling+gaussian', '00', None),\n",
       " ('004147-astroid-undersampling+gaussian', '00', None),\n",
       " ('004151-astroid-clean', '00', None),\n",
       " ('004157-astroid-gaussian', '00', None),\n",
       " ('004160-astroid-clean', '00', None),\n",
       " ('004170-astroid-gaussian', '00', None),\n",
       " ('004177-astroid-clean', '00', None),\n",
       " ('004183-astroid-gaussian', '00', None),\n",
       " ('004199-astroid-undersampling+gaussian', '00', None),\n",
       " ('004201-astroid-undersampling', '00', None),\n",
       " ('004209-astroid-clean', '00', None),\n",
       " ('004210-astroid-gaussian', '00', None),\n",
       " ('004221-astroid-undersampling+gaussian', '00', None),\n",
       " ('004234-astroid-clean', '00', None),\n",
       " ('004235-astroid-uniform', '00', None),\n",
       " ('004249-astroid-undersampling', '00', None),\n",
       " ('004295-astroid-undersampling', '00', None),\n",
       " ('004302-astroid-undersampling+gaussian', '00', None),\n",
       " ('004306-astroid-undersampling+uniform', '00', None),\n",
       " ('004309-astroid-undersampling+uniform', '00', None),\n",
       " ('004344-astroid-undersampling+gaussian', '00', None),\n",
       " ('004351-astroid-undersampling', '00', None),\n",
       " ('004354-astroid-gaussian', '00', None),\n",
       " ('004357-astroid-uniform', '00', None),\n",
       " ('004365-astroid-clean', '00', None),\n",
       " ('004391-astroid-clean', '00', None),\n",
       " ('004396-astroid-gaussian', '00', None),\n",
       " ('004404-astroid-uniform', '00', None),\n",
       " ('004413-astroid-undersampling+uniform', '00', None),\n",
       " ('004415-astroid-gaussian', '00', None),\n",
       " ('004416-astroid-undersampling+gaussian', '00', None),\n",
       " ('004421-astroid-clean', '00', None),\n",
       " ('004426-astroid-gaussian', '00', None),\n",
       " ('004437-astroid-uniform', '00', None),\n",
       " ('004447-astroid-undersampling', '00', None),\n",
       " ('004466-astroid-undersampling+gaussian', '00', None),\n",
       " ('004471-astroid-undersampling', '00', None),\n",
       " ('004475-astroid-undersampling+uniform', '00', None),\n",
       " ('004497-astroid-undersampling', '00', None),\n",
       " ('004499-astroid-uniform', '00', None),\n",
       " ('004507-astroid-uniform', '00', None),\n",
       " ('004508-astroid-gaussian', '00', None),\n",
       " ('004509-astroid-undersampling', '00', None),\n",
       " ('004525-astroid-undersampling+gaussian', '00', None),\n",
       " ('004529-astroid-uniform', '00', None),\n",
       " ('004530-astroid-uniform', '00', None),\n",
       " ('004534-astroid-uniform', '00', None),\n",
       " ('004540-astroid-undersampling', '00', None),\n",
       " ('004555-astroid-undersampling+gaussian', '00', None),\n",
       " ('004556-astroid-undersampling+uniform', '00', None),\n",
       " ('004557-astroid-undersampling+uniform', '00', None),\n",
       " ('004564-astroid-clean', '00', None),\n",
       " ('004569-astroid-undersampling+gaussian', '00', None),\n",
       " ('004573-astroid-undersampling', '00', None),\n",
       " ('004574-astroid-undersampling+uniform', '00', None),\n",
       " ('004580-astroid-undersampling+gaussian', '00', None),\n",
       " ('004582-astroid-gaussian', '00', None),\n",
       " ('004585-astroid-gaussian', '00', None),\n",
       " ('004603-astroid-undersampling+gaussian', '00', None),\n",
       " ('004611-astroid-clean', '00', None),\n",
       " ('004612-astroid-gaussian', '00', None),\n",
       " ('004637-astroid-clean', '00', None),\n",
       " ('004692-astroid-uniform', '00', None),\n",
       " ('004693-astroid-uniform', '00', None),\n",
       " ('004702-astroid-gaussian', '00', None),\n",
       " ('004715-astroid-clean', '00', None),\n",
       " ('004718-astroid-undersampling+gaussian', '00', None),\n",
       " ('004737-astroid-undersampling+uniform', '00', None),\n",
       " ('004741-astroid-undersampling+gaussian', '00', None),\n",
       " ('004745-astroid-clean', '00', None),\n",
       " ('004750-astroid-uniform', '00', None),\n",
       " ('004756-astroid-gaussian', '00', None),\n",
       " ('004759-astroid-clean', '00', None),\n",
       " ('004766-astroid-undersampling', '00', None),\n",
       " ('004767-astroid-undersampling+uniform', '00', None),\n",
       " ('004784-astroid-clean', '00', None),\n",
       " ('004787-astroid-undersampling+gaussian', '00', None),\n",
       " ('004799-astroid-undersampling+gaussian', '00', None),\n",
       " ('004801-astroid-gaussian', '00', None),\n",
       " ('004805-astroid-clean', '00', None),\n",
       " ('004811-astroid-undersampling+gaussian', '00', None),\n",
       " ('004816-astroid-undersampling+gaussian', '00', None),\n",
       " ('004821-astroid-clean', '00', None),\n",
       " ('004833-astroid-undersampling+gaussian', '00', None),\n",
       " ('004859-astroid-undersampling', '00', None),\n",
       " ('004860-astroid-undersampling+uniform', '00', None),\n",
       " ('004869-astroid-undersampling+uniform', '00', None),\n",
       " ('004895-astroid-undersampling+uniform', '00', None),\n",
       " ('004908-astroid-clean', '00', None),\n",
       " ('004929-astroid-clean', '00', None),\n",
       " ('004943-astroid-uniform', '00', None),\n",
       " ('004951-astroid-undersampling', '00', None),\n",
       " ('004955-astroid-undersampling', '00', None),\n",
       " ('005006-astroid-clean', '00', None),\n",
       " ('005009-astroid-gaussian', '00', None),\n",
       " ('005020-astroid-uniform', '00', None),\n",
       " ('005022-astroid-undersampling+uniform', '00', None),\n",
       " ('005038-astroid-undersampling+uniform', '00', None),\n",
       " ('005057-astroid-undersampling', '00', None),\n",
       " ('005071-astroid-clean', '00', None),\n",
       " ('005115-astroid-undersampling', '00', None),\n",
       " ('005118-astroid-undersampling+uniform', '00', None),\n",
       " ('005123-astroid-undersampling', '00', None),\n",
       " ('005128-astroid-undersampling+gaussian', '00', None),\n",
       " ('005140-astroid-uniform', '00', None),\n",
       " ('005142-astroid-clean', '00', None),\n",
       " ('005152-astroid-undersampling', '00', None),\n",
       " ('005165-astroid-clean', '00', None),\n",
       " ('005168-astroid-clean', '00', None),\n",
       " ('005173-astroid-undersampling+uniform', '00', None),\n",
       " ('005180-astroid-undersampling+uniform', '00', None),\n",
       " ('005191-astroid-undersampling+uniform', '00', None),\n",
       " ('005199-astroid-undersampling+gaussian', '00', None),\n",
       " ('005203-astroid-gaussian', '00', None),\n",
       " ('005221-astroid-uniform', '00', None),\n",
       " ('005229-astroid-clean', '00', None),\n",
       " ('005231-astroid-uniform', '00', None),\n",
       " ('005235-astroid-undersampling+uniform', '00', None),\n",
       " ('005246-astroid-undersampling', '00', None),\n",
       " ('005271-astroid-uniform', '00', None),\n",
       " ('005278-astroid-undersampling+gaussian', '00', None),\n",
       " ('005287-astroid-undersampling', '00', None),\n",
       " ('005307-astroid-undersampling+gaussian', '00', None),\n",
       " ('005315-astroid-undersampling+gaussian', '00', None),\n",
       " ('005321-astroid-undersampling+uniform', '00', None),\n",
       " ('005326-astroid-undersampling+gaussian', '00', None),\n",
       " ('005348-astroid-gaussian', '00', None),\n",
       " ('005356-astroid-undersampling+uniform', '00', None),\n",
       " ('005358-astroid-undersampling', '00', None),\n",
       " ('005366-astroid-gaussian', '00', None),\n",
       " ('005374-astroid-undersampling+gaussian', '00', None),\n",
       " ('005391-astroid-undersampling+uniform', '00', None),\n",
       " ('005398-astroid-undersampling+gaussian', '00', None),\n",
       " ('005399-astroid-clean', '00', None),\n",
       " ('005401-astroid-undersampling+gaussian', '00', None),\n",
       " ('005404-astroid-undersampling', '00', None),\n",
       " ('005410-astroid-undersampling+uniform', '00', None),\n",
       " ('005413-astroid-undersampling+uniform', '00', None),\n",
       " ('005432-astroid-undersampling+gaussian', '00', None),\n",
       " ('005435-astroid-undersampling+gaussian', '00', None),\n",
       " ('005440-astroid-undersampling+uniform', '00', None),\n",
       " ('005446-astroid-undersampling', '00', None),\n",
       " ('005448-astroid-undersampling+gaussian', '00', None),\n",
       " ('005450-astroid-undersampling+uniform', '00', None),\n",
       " ('005459-astroid-clean', '00', None),\n",
       " ('005466-astroid-undersampling+gaussian', '00', None),\n",
       " ('005474-astroid-uniform', '00', None),\n",
       " ('005503-astroid-clean', '00', None),\n",
       " ('005506-astroid-undersampling+uniform', '00', None),\n",
       " ('005514-astroid-undersampling', '00', None),\n",
       " ('005519-astroid-uniform', '00', None),\n",
       " ('005553-astroid-clean', '00', None),\n",
       " ('005560-astroid-gaussian', '00', None),\n",
       " ('005572-astroid-undersampling+uniform', '00', None),\n",
       " ('005577-astroid-undersampling', '00', None),\n",
       " ('005602-astroid-undersampling', '00', None),\n",
       " ('005629-astroid-undersampling+uniform', '00', None),\n",
       " ('005630-astroid-undersampling+gaussian', '00', None),\n",
       " ('005639-astroid-gaussian', '00', None),\n",
       " ('005647-astroid-undersampling+uniform', '00', None),\n",
       " ('005652-astroid-gaussian', '00', None),\n",
       " ('005668-astroid-clean', '00', None),\n",
       " ('005670-astroid-clean', '00', None),\n",
       " ('005673-astroid-undersampling+gaussian', '00', None),\n",
       " ('005690-astroid-gaussian', '00', None),\n",
       " ('005701-astroid-gaussian', '00', None),\n",
       " ('005706-astroid-uniform', '00', None),\n",
       " ('005710-astroid-undersampling', '00', None),\n",
       " ('005713-astroid-undersampling+gaussian', '00', None),\n",
       " ('005722-astroid-clean', '00', None),\n",
       " ('005723-astroid-undersampling+uniform', '00', None),\n",
       " ('005735-astroid-undersampling+uniform', '00', None),\n",
       " ('005754-astroid-undersampling+gaussian', '00', None),\n",
       " ('005773-astroid-clean', '00', None),\n",
       " ('005796-astroid-undersampling', '00', None),\n",
       " ('005798-astroid-undersampling', '00', None),\n",
       " ('005800-astroid-gaussian', '00', None),\n",
       " ('005837-astroid-clean', '00', None),\n",
       " ('005846-astroid-undersampling', '00', None),\n",
       " ('005862-astroid-undersampling+gaussian', '00', None),\n",
       " ('005867-astroid-clean', '00', None),\n",
       " ('005868-astroid-clean', '00', None),\n",
       " ('005875-astroid-undersampling+gaussian', '00', None),\n",
       " ('005885-astroid-undersampling+uniform', '00', None),\n",
       " ('005905-astroid-clean', '00', None),\n",
       " ('005909-astroid-undersampling', '00', None),\n",
       " ('005917-astroid-undersampling+gaussian', '00', None),\n",
       " ('005937-astroid-undersampling+gaussian', '00', None),\n",
       " ('005951-astroid-clean', '00', None),\n",
       " ('005960-astroid-clean', '00', None),\n",
       " ('005961-astroid-undersampling+uniform', '00', None),\n",
       " ('005969-astroid-gaussian', '00', None),\n",
       " ('005982-astroid-gaussian', '00', None),\n",
       " ('005987-astroid-uniform', '00', None),\n",
       " ('005991-astroid-undersampling+gaussian', '00', None),\n",
       " ('006006-astroid-clean', '00', None),\n",
       " ('006016-astroid-undersampling', '00', None),\n",
       " ('006025-astroid-undersampling+gaussian', '00', None),\n",
       " ('006039-astroid-gaussian', '00', None),\n",
       " ('006054-astroid-undersampling+uniform', '00', None),\n",
       " ('006056-astroid-undersampling+gaussian', '00', None),\n",
       " ('006059-astroid-gaussian', '00', None),\n",
       " ('006070-astroid-undersampling+gaussian', '00', None),\n",
       " ('006079-astroid-gaussian', '00', None),\n",
       " ('006080-astroid-undersampling+uniform', '00', None),\n",
       " ('006090-astroid-undersampling+uniform', '00', None),\n",
       " ('006093-astroid-undersampling+uniform', '00', None),\n",
       " ('006096-astroid-undersampling+gaussian', '00', None),\n",
       " ('006106-astroid-clean', '00', None),\n",
       " ('006108-astroid-clean', '00', None),\n",
       " ('006113-astroid-gaussian', '00', None),\n",
       " ('006152-astroid-uniform', '00', None),\n",
       " ('006157-astroid-gaussian', '00', None),\n",
       " ('006160-astroid-uniform', '00', None),\n",
       " ('006178-astroid-undersampling', '00', None),\n",
       " ('006183-astroid-uniform', '00', None),\n",
       " ('006198-astroid-gaussian', '00', None),\n",
       " ('006200-astroid-clean', '00', None),\n",
       " ('006205-astroid-uniform', '00', None),\n",
       " ('006211-astroid-undersampling+uniform', '00', None),\n",
       " ('006216-astroid-uniform', '00', None),\n",
       " ('006219-astroid-clean', '00', None),\n",
       " ('006226-astroid-undersampling+gaussian', '00', None),\n",
       " ('006231-astroid-clean', '00', None),\n",
       " ('006250-astroid-gaussian', '00', None),\n",
       " ('006259-astroid-undersampling+uniform', '00', None),\n",
       " ('006272-astroid-uniform', '00', None),\n",
       " ('006312-astroid-undersampling', '00', None),\n",
       " ('006318-astroid-undersampling+gaussian', '00', None),\n",
       " ('006330-astroid-undersampling+gaussian', '00', None),\n",
       " ('006333-astroid-undersampling+gaussian', '00', None),\n",
       " ('006348-astroid-undersampling+gaussian', '00', None),\n",
       " ('006350-astroid-clean', '00', None),\n",
       " ('006357-astroid-clean', '00', None),\n",
       " ('006359-astroid-uniform', '00', None),\n",
       " ('006374-astroid-undersampling+uniform', '00', None),\n",
       " ('006378-astroid-undersampling', '00', None),\n",
       " ('006379-astroid-undersampling+gaussian', '00', None),\n",
       " ('006395-astroid-uniform', '00', None),\n",
       " ('006411-astroid-clean', '00', None),\n",
       " ('006420-astroid-clean', '00', None),\n",
       " ('006422-astroid-undersampling', '00', None),\n",
       " ('006423-astroid-undersampling+uniform', '00', None),\n",
       " ('006428-astroid-undersampling', '00', None),\n",
       " ('006431-astroid-undersampling+uniform', '00', None),\n",
       " ('006441-astroid-clean', '00', None),\n",
       " ('006459-astroid-undersampling+gaussian', '00', None),\n",
       " ('006472-astroid-gaussian', '00', None),\n",
       " ('006475-astroid-clean', '00', None),\n",
       " ('006487-astroid-gaussian', '00', None),\n",
       " ('006491-astroid-undersampling', '00', None),\n",
       " ('006496-astroid-undersampling+uniform', '00', None),\n",
       " ('006497-astroid-clean', '00', None),\n",
       " ('006499-astroid-gaussian', '00', None),\n",
       " ('006514-astroid-undersampling+uniform', '00', None),\n",
       " ('006545-astroid-undersampling', '00', None),\n",
       " ('006595-astroid-undersampling+gaussian', '00', None),\n",
       " ('006617-astroid-clean', '00', None),\n",
       " ('006620-astroid-uniform', '00', None),\n",
       " ('006635-astroid-gaussian', '00', None),\n",
       " ('006640-astroid-gaussian', '00', None),\n",
       " ('006659-astroid-gaussian', '00', None),\n",
       " ('006660-astroid-clean', '00', None),\n",
       " ('006670-astroid-gaussian', '00', None),\n",
       " ('006676-astroid-undersampling', '00', None),\n",
       " ('006682-astroid-undersampling+uniform', '00', None),\n",
       " ('006705-astroid-uniform', '00', None),\n",
       " ('006742-astroid-uniform', '00', None),\n",
       " ('006743-astroid-gaussian', '00', None),\n",
       " ('006750-astroid-gaussian', '00', None),\n",
       " ('006751-astroid-uniform', '00', None),\n",
       " ('006776-astroid-gaussian', '00', None),\n",
       " ('006782-astroid-clean', '00', None),\n",
       " ('006794-astroid-undersampling', '00', None),\n",
       " ('006799-astroid-clean', '00', None),\n",
       " ('006813-astroid-undersampling+uniform', '00', None),\n",
       " ('006827-astroid-uniform', '00', None),\n",
       " ('006836-astroid-undersampling', '00', None),\n",
       " ('006840-astroid-undersampling+uniform', '00', None),\n",
       " ('006843-astroid-undersampling+gaussian', '00', None),\n",
       " ('006848-astroid-clean', '00', None),\n",
       " ('006866-astroid-undersampling+uniform', '00', None),\n",
       " ('006874-astroid-undersampling+gaussian', '00', None),\n",
       " ('006888-astroid-undersampling', '00', None),\n",
       " ('006896-astroid-gaussian', '00', None),\n",
       " ('006907-astroid-gaussian', '00', None),\n",
       " ('006913-astroid-undersampling+uniform', '00', None),\n",
       " ('006914-astroid-undersampling', '00', None),\n",
       " ('006926-astroid-gaussian', '00', None),\n",
       " ('006927-astroid-uniform', '00', None),\n",
       " ('006928-astroid-clean', '00', None),\n",
       " ('006948-astroid-uniform', '00', None),\n",
       " ('006959-astroid-clean', '00', None),\n",
       " ('006974-astroid-undersampling', '00', None),\n",
       " ('006989-astroid-clean', '00', None),\n",
       " ('006996-astroid-uniform', '00', None),\n",
       " ('007018-astroid-undersampling+uniform', '00', None),\n",
       " ('007040-astroid-uniform', '00', None),\n",
       " ('007045-astroid-uniform', '00', None),\n",
       " ('007065-astroid-gaussian', '00', None),\n",
       " ('007070-astroid-undersampling', '00', None),\n",
       " ('007082-astroid-clean', '00', None),\n",
       " ('007102-astroid-undersampling+uniform', '00', None),\n",
       " ('007117-astroid-clean', '00', None),\n",
       " ('007123-astroid-undersampling+gaussian', '00', None),\n",
       " ('007124-astroid-undersampling+gaussian', '00', None),\n",
       " ('007125-astroid-uniform', '00', None),\n",
       " ('007126-astroid-undersampling+uniform', '00', None),\n",
       " ('007142-astroid-undersampling+gaussian', '00', None),\n",
       " ('007151-astroid-undersampling+uniform', '00', None),\n",
       " ('007165-astroid-uniform', '00', None),\n",
       " ('007173-astroid-undersampling', '00', None),\n",
       " ('007181-astroid-undersampling+gaussian', '00', None),\n",
       " ('007193-astroid-clean', '00', None),\n",
       " ('007199-astroid-clean', '00', None),\n",
       " ('007201-astroid-undersampling+uniform', '00', None),\n",
       " ('007221-astroid-undersampling', '00', None),\n",
       " ('007225-astroid-uniform', '00', None),\n",
       " ('007229-astroid-gaussian', '00', None),\n",
       " ('007232-astroid-undersampling+uniform', '00', None),\n",
       " ('007234-astroid-undersampling+gaussian', '00', None),\n",
       " ('007235-astroid-undersampling+uniform', '00', None),\n",
       " ('007243-astroid-gaussian', '00', None),\n",
       " ('007277-astroid-uniform', '00', None),\n",
       " ('007284-astroid-uniform', '00', None),\n",
       " ('007314-astroid-clean', '00', None),\n",
       " ('007345-astroid-undersampling+gaussian', '00', None),\n",
       " ('007349-astroid-uniform', '00', None),\n",
       " ('007354-astroid-undersampling+gaussian', '00', None),\n",
       " ('007375-astroid-clean', '00', None),\n",
       " ('007380-astroid-undersampling+gaussian', '00', None),\n",
       " ('007382-astroid-uniform', '00', None),\n",
       " ('007415-astroid-undersampling+uniform', '00', None),\n",
       " ('007421-astroid-clean', '00', None),\n",
       " ('007427-astroid-clean', '00', None),\n",
       " ('007442-astroid-undersampling+uniform', '00', None),\n",
       " ('007454-astroid-undersampling+gaussian', '00', None),\n",
       " ('007470-astroid-undersampling+uniform', '00', None),\n",
       " ('007488-astroid-uniform', '00', None),\n",
       " ('007504-astroid-clean', '00', None),\n",
       " ('007511-astroid-undersampling+gaussian', '00', None),\n",
       " ('007524-astroid-undersampling+uniform', '00', None),\n",
       " ('007534-astroid-uniform', '00', None),\n",
       " ('007536-astroid-uniform', '00', None),\n",
       " ('007537-astroid-uniform', '00', None),\n",
       " ('007540-astroid-undersampling+uniform', '00', None),\n",
       " ('007541-astroid-uniform', '00', None),\n",
       " ('007564-astroid-uniform', '00', None),\n",
       " ('007575-astroid-undersampling+gaussian', '00', None),\n",
       " ('007577-astroid-uniform', '00', None),\n",
       " ('007579-astroid-uniform', '00', None),\n",
       " ('007587-astroid-undersampling+uniform', '00', None),\n",
       " ('007595-astroid-undersampling', '00', None),\n",
       " ('007606-astroid-clean', '00', None),\n",
       " ('007613-astroid-clean', '00', None),\n",
       " ('007621-astroid-gaussian', '00', None),\n",
       " ('007631-astroid-undersampling+gaussian', '00', None),\n",
       " ('007635-astroid-undersampling+uniform', '00', None),\n",
       " ('007645-astroid-gaussian', '00', None),\n",
       " ('007649-astroid-clean', '00', None),\n",
       " ('007651-astroid-undersampling+gaussian', '00', None),\n",
       " ('007698-astroid-undersampling', '00', None),\n",
       " ('007703-astroid-gaussian', '00', None),\n",
       " ('007707-astroid-clean', '00', None),\n",
       " ('007755-astroid-clean', '00', None),\n",
       " ('007760-astroid-clean', '00', None),\n",
       " ('007763-astroid-uniform', '00', None),\n",
       " ('007783-astroid-undersampling+gaussian', '00', None),\n",
       " ('007786-astroid-undersampling+uniform', '00', None),\n",
       " ('007805-astroid-undersampling+gaussian', '00', None),\n",
       " ('007807-astroid-undersampling+uniform', '00', None),\n",
       " ('007812-astroid-undersampling', '00', None),\n",
       " ('007819-astroid-clean', '00', None),\n",
       " ('007822-astroid-undersampling+gaussian', '00', None),\n",
       " ('007842-astroid-undersampling', '00', None),\n",
       " ('007844-astroid-undersampling+uniform', '00', None),\n",
       " ('007847-astroid-undersampling', '00', None),\n",
       " ('007859-astroid-undersampling+gaussian', '00', None),\n",
       " ('007882-astroid-undersampling+gaussian', '00', None),\n",
       " ('007889-astroid-undersampling', '00', None),\n",
       " ('007904-astroid-undersampling', '00', None),\n",
       " ('007919-astroid-gaussian', '00', None),\n",
       " ('007920-astroid-undersampling', '00', None),\n",
       " ('007945-astroid-clean', '00', None),\n",
       " ('007947-astroid-clean', '00', None),\n",
       " ('007948-astroid-undersampling+gaussian', '00', None),\n",
       " ('007952-astroid-uniform', '00', None),\n",
       " ('007979-astroid-clean', '00', None),\n",
       " ('007988-astroid-undersampling+uniform', '00', None),\n",
       " ('007989-astroid-uniform', '00', None),\n",
       " ('007993-astroid-uniform', '00', None),\n",
       " ('007995-astroid-undersampling+gaussian', '00', None),\n",
       " ('007996-astroid-undersampling+gaussian', '00', None),\n",
       " ('008011-astroid-undersampling+gaussian', '00', None),\n",
       " ('008014-astroid-undersampling+gaussian', '00', None),\n",
       " ('008066-astroid-undersampling+uniform', '00', None),\n",
       " ('008078-astroid-clean', '00', None),\n",
       " ('008081-astroid-gaussian', '00', None),\n",
       " ('008084-astroid-undersampling', '00', None),\n",
       " ('008086-astroid-clean', '00', None),\n",
       " ('008112-astroid-undersampling+uniform', '00', None),\n",
       " ('008130-astroid-gaussian', '00', None),\n",
       " ('008141-astroid-undersampling+uniform', '00', None),\n",
       " ('008146-astroid-undersampling', '00', None),\n",
       " ('008157-astroid-uniform', '00', None),\n",
       " ('008159-astroid-gaussian', '00', None),\n",
       " ('008186-astroid-undersampling+gaussian', '00', None),\n",
       " ('008193-astroid-gaussian', '00', None),\n",
       " ('008209-astroid-clean', '00', None),\n",
       " ('008220-astroid-undersampling+uniform', '00', None),\n",
       " ('008227-astroid-undersampling', '00', None),\n",
       " ('008244-astroid-uniform', '00', None),\n",
       " ('008260-astroid-undersampling+uniform', '00', None),\n",
       " ('008264-astroid-undersampling', '00', None),\n",
       " ('008282-astroid-undersampling+gaussian', '00', None),\n",
       " ('008291-astroid-undersampling+gaussian', '00', None),\n",
       " ('008293-astroid-uniform', '00', None),\n",
       " ('008300-astroid-gaussian', '00', None),\n",
       " ('008307-astroid-undersampling', '00', None),\n",
       " ('008323-astroid-undersampling', '00', None),\n",
       " ('008330-astroid-undersampling+gaussian', '00', None),\n",
       " ('008334-astroid-undersampling+uniform', '00', None),\n",
       " ('008340-astroid-clean', '00', None),\n",
       " ('008343-astroid-undersampling+uniform', '00', None),\n",
       " ('008349-astroid-undersampling+uniform', '00', None),\n",
       " ('008368-astroid-undersampling', '00', None),\n",
       " ('008382-astroid-undersampling+uniform', '00', None),\n",
       " ('008391-astroid-undersampling+gaussian', '00', None),\n",
       " ('008395-astroid-undersampling+uniform', '00', None),\n",
       " ('008406-astroid-uniform', '00', None),\n",
       " ('008410-astroid-undersampling+gaussian', '00', None),\n",
       " ('008421-astroid-gaussian', '00', None),\n",
       " ('008428-astroid-undersampling+uniform', '00', None),\n",
       " ('008455-astroid-undersampling+uniform', '00', None),\n",
       " ('008456-astroid-clean', '00', None),\n",
       " ('008475-astroid-undersampling+uniform', '00', None),\n",
       " ('008490-astroid-gaussian', '00', None),\n",
       " ('008493-astroid-uniform', '00', None),\n",
       " ('008500-astroid-clean', '00', None),\n",
       " ('008522-astroid-undersampling+gaussian', '00', None),\n",
       " ('008537-astroid-undersampling', '00', None),\n",
       " ('008545-astroid-undersampling+gaussian', '00', None),\n",
       " ('008551-astroid-undersampling+gaussian', '00', None),\n",
       " ('008555-astroid-undersampling+gaussian', '00', None),\n",
       " ('008576-astroid-undersampling', '00', None),\n",
       " ('008601-astroid-clean', '00', None),\n",
       " ('008604-astroid-gaussian', '00', None),\n",
       " ('008609-astroid-undersampling+uniform', '00', None),\n",
       " ('008611-astroid-clean', '00', None),\n",
       " ('008612-astroid-gaussian', '00', None),\n",
       " ('008637-astroid-undersampling', '00', None),\n",
       " ('008656-astroid-uniform', '00', None),\n",
       " ('008662-astroid-gaussian', '00', None),\n",
       " ('008675-astroid-undersampling', '00', None),\n",
       " ('008677-astroid-clean', '00', None),\n",
       " ('008678-astroid-undersampling+uniform', '00', None),\n",
       " ('008689-astroid-undersampling', '00', None),\n",
       " ('008691-astroid-undersampling+gaussian', '00', None),\n",
       " ('008701-astroid-uniform', '00', None),\n",
       " ('008703-astroid-undersampling+gaussian', '00', None),\n",
       " ('008708-astroid-undersampling+gaussian', '00', None),\n",
       " ('008717-astroid-clean', '00', None),\n",
       " ('008721-astroid-clean', '00', None),\n",
       " ('008726-astroid-undersampling+gaussian', '00', None),\n",
       " ('008741-astroid-undersampling+uniform', '00', None),\n",
       " ('008743-astroid-uniform', '00', None),\n",
       " ('008754-astroid-undersampling+gaussian', '00', None),\n",
       " ('008759-astroid-undersampling', '00', None),\n",
       " ('008761-astroid-clean', '00', None),\n",
       " ('008769-astroid-clean', '00', None),\n",
       " ('008792-astroid-undersampling+gaussian', '00', None),\n",
       " ('008798-astroid-undersampling+uniform', '00', None),\n",
       " ('008815-astroid-undersampling+gaussian', '00', None),\n",
       " ('008818-astroid-gaussian', '00', None),\n",
       " ('008823-astroid-undersampling+uniform', '00', None),\n",
       " ('008839-astroid-undersampling', '00', None),\n",
       " ('008840-astroid-undersampling+uniform', '00', None),\n",
       " ('008847-astroid-uniform', '00', None),\n",
       " ('008852-astroid-undersampling+uniform', '00', None),\n",
       " ('008866-astroid-uniform', '00', None),\n",
       " ('008875-astroid-gaussian', '00', None),\n",
       " ('008882-astroid-undersampling+gaussian', '00', None),\n",
       " ('008885-astroid-gaussian', '00', None),\n",
       " ('008893-astroid-undersampling', '00', None),\n",
       " ('008905-astroid-uniform', '00', None),\n",
       " ('008915-astroid-clean', '00', None),\n",
       " ('008925-astroid-undersampling+uniform', '00', None),\n",
       " ('008928-astroid-undersampling+uniform', '00', None),\n",
       " ('008932-astroid-gaussian', '00', None),\n",
       " ('008945-astroid-undersampling+gaussian', '00', None),\n",
       " ('008951-astroid-gaussian', '00', None),\n",
       " ('008981-astroid-undersampling+uniform', '00', None),\n",
       " ('009021-astroid-gaussian', '00', None),\n",
       " ('009023-astroid-undersampling', '00', None),\n",
       " ('009038-astroid-undersampling+gaussian', '00', None),\n",
       " ('009043-astroid-gaussian', '00', None),\n",
       " ('009049-astroid-gaussian', '00', None),\n",
       " ('009051-astroid-undersampling+gaussian', '00', None),\n",
       " ('009055-astroid-undersampling+uniform', '00', None),\n",
       " ('009065-astroid-gaussian', '00', None),\n",
       " ('009068-astroid-uniform', '00', None),\n",
       " ('009072-astroid-undersampling+gaussian', '00', None),\n",
       " ('009086-astroid-clean', '00', None),\n",
       " ('009090-astroid-undersampling+uniform', '00', None),\n",
       " ('009106-astroid-undersampling+uniform', '00', None),\n",
       " ('009113-astroid-uniform', '00', None),\n",
       " ('009115-astroid-gaussian', '00', None),\n",
       " ('009117-astroid-undersampling', '00', None),\n",
       " ('009141-astroid-undersampling+uniform', '00', None),\n",
       " ('009142-astroid-clean', '00', None),\n",
       " ('009176-astroid-uniform', '00', None),\n",
       " ('009177-astroid-undersampling+uniform', '00', None),\n",
       " ('009178-astroid-undersampling+gaussian', '00', None),\n",
       " ('009187-astroid-undersampling+gaussian', '00', None),\n",
       " ('009202-astroid-undersampling', '00', None),\n",
       " ('009242-astroid-undersampling+gaussian', '00', None),\n",
       " ('009244-astroid-undersampling+uniform', '00', None),\n",
       " ('009288-astroid-clean', '00', None),\n",
       " ('009291-astroid-uniform', '00', None),\n",
       " ('009294-astroid-undersampling+uniform', '00', None),\n",
       " ('009310-astroid-clean', '00', None),\n",
       " ('009311-astroid-gaussian', '00', None),\n",
       " ('009313-astroid-gaussian', '00', None),\n",
       " ('009324-astroid-uniform', '00', None),\n",
       " ('009331-astroid-clean', '00', None),\n",
       " ('009350-astroid-clean', '00', None),\n",
       " ('009352-astroid-clean', '00', None),\n",
       " ('009362-astroid-clean', '00', None),\n",
       " ('009386-astroid-undersampling+gaussian', '00', None),\n",
       " ('009389-astroid-undersampling+gaussian', '00', None),\n",
       " ('009395-astroid-gaussian', '00', None),\n",
       " ('009397-astroid-uniform', '00', None),\n",
       " ('009415-astroid-gaussian', '00', None),\n",
       " ('009416-astroid-gaussian', '00', None),\n",
       " ('009428-astroid-undersampling+gaussian', '00', None),\n",
       " ('009447-astroid-clean', '00', None),\n",
       " ('009451-astroid-undersampling+gaussian', '00', None),\n",
       " ('009455-astroid-uniform', '00', None),\n",
       " ('009462-astroid-undersampling', '00', None),\n",
       " ('009473-astroid-undersampling+gaussian', '00', None),\n",
       " ('009481-astroid-clean', '00', None),\n",
       " ('009496-astroid-undersampling+gaussian', '00', None),\n",
       " ('009518-astroid-clean', '00', None),\n",
       " ('009554-astroid-uniform', '00', None),\n",
       " ('009587-astroid-uniform', '00', None),\n",
       " ('009607-astroid-undersampling+gaussian', '00', None),\n",
       " ('009612-astroid-uniform', '00', None),\n",
       " ('009616-astroid-clean', '00', None),\n",
       " ('009620-astroid-undersampling', '00', None),\n",
       " ('009623-astroid-undersampling+uniform', '00', None),\n",
       " ('009629-astroid-uniform', '00', None),\n",
       " ('009644-astroid-gaussian', '00', None),\n",
       " ('009700-astroid-uniform', '00', None),\n",
       " ('009711-astroid-clean', '00', None),\n",
       " ('009713-astroid-undersampling', '00', None),\n",
       " ('009718-astroid-undersampling', '00', None),\n",
       " ('009729-astroid-uniform', '00', None),\n",
       " ('009732-astroid-uniform', '00', None),\n",
       " ('009740-astroid-undersampling', '00', None),\n",
       " ('009746-astroid-gaussian', '00', None),\n",
       " ('009764-astroid-undersampling', '00', None),\n",
       " ('009779-astroid-uniform', '00', None),\n",
       " ('009787-astroid-gaussian', '00', None),\n",
       " ('009795-astroid-undersampling+uniform', '00', None),\n",
       " ('009813-astroid-undersampling+gaussian', '00', None),\n",
       " ('009814-astroid-uniform', '00', None),\n",
       " ('009833-astroid-gaussian', '00', None),\n",
       " ('009840-astroid-undersampling', '00', None),\n",
       " ('009842-astroid-undersampling+uniform', '00', None),\n",
       " ('009848-astroid-undersampling+uniform', '00', None),\n",
       " ('009853-astroid-gaussian', '00', None),\n",
       " ('009857-astroid-undersampling', '00', None),\n",
       " ('009861-astroid-clean', '00', None),\n",
       " ('009875-astroid-clean', '00', None),\n",
       " ('009879-astroid-uniform', '00', None),\n",
       " ('009884-astroid-undersampling', '00', None),\n",
       " ('009889-astroid-clean', '00', None),\n",
       " ('009895-astroid-uniform', '00', None),\n",
       " ('009912-astroid-gaussian', '00', None),\n",
       " ('009914-astroid-clean', '00', None),\n",
       " ('009918-astroid-undersampling+uniform', '00', None),\n",
       " ('009924-astroid-gaussian', '00', None),\n",
       " ('009929-astroid-uniform', '00', None),\n",
       " ...]"
      ]
     },
     "execution_count": 177,
     "metadata": {},
     "output_type": "execute_result"
    }
   ],
   "source": [
    "symmetria_flist"
   ]
  },
  {
   "cell_type": "code",
   "execution_count": 178,
   "metadata": {},
   "outputs": [],
   "source": [
    "symmetria_df = pd.DataFrame(symmetria_flist, columns=['protein_id', 'class_id', 'number_of_points'])"
   ]
  },
  {
   "cell_type": "code",
   "execution_count": 179,
   "metadata": {},
   "outputs": [
    {
     "data": {
      "text/html": [
       "<div>\n",
       "<style scoped>\n",
       "    .dataframe tbody tr th:only-of-type {\n",
       "        vertical-align: middle;\n",
       "    }\n",
       "\n",
       "    .dataframe tbody tr th {\n",
       "        vertical-align: top;\n",
       "    }\n",
       "\n",
       "    .dataframe thead th {\n",
       "        text-align: right;\n",
       "    }\n",
       "</style>\n",
       "<table border=\"1\" class=\"dataframe\">\n",
       "  <thead>\n",
       "    <tr style=\"text-align: right;\">\n",
       "      <th></th>\n",
       "      <th>protein_id</th>\n",
       "      <th>class_id</th>\n",
       "      <th>number_of_points</th>\n",
       "    </tr>\n",
       "  </thead>\n",
       "  <tbody>\n",
       "    <tr>\n",
       "      <th>0</th>\n",
       "      <td>000002-astroid-clean</td>\n",
       "      <td>00</td>\n",
       "      <td>None</td>\n",
       "    </tr>\n",
       "    <tr>\n",
       "      <th>1</th>\n",
       "      <td>000011-astroid-gaussian</td>\n",
       "      <td>00</td>\n",
       "      <td>None</td>\n",
       "    </tr>\n",
       "    <tr>\n",
       "      <th>2</th>\n",
       "      <td>000012-astroid-gaussian</td>\n",
       "      <td>00</td>\n",
       "      <td>None</td>\n",
       "    </tr>\n",
       "    <tr>\n",
       "      <th>3</th>\n",
       "      <td>000021-astroid-undersampling+gaussian</td>\n",
       "      <td>00</td>\n",
       "      <td>None</td>\n",
       "    </tr>\n",
       "    <tr>\n",
       "      <th>4</th>\n",
       "      <td>000032-astroid-gaussian</td>\n",
       "      <td>00</td>\n",
       "      <td>None</td>\n",
       "    </tr>\n",
       "    <tr>\n",
       "      <th>...</th>\n",
       "      <td>...</td>\n",
       "      <td>...</td>\n",
       "      <td>...</td>\n",
       "    </tr>\n",
       "    <tr>\n",
       "      <th>20100</th>\n",
       "      <td>099907-citrus-undersampling+gaussian</td>\n",
       "      <td>01</td>\n",
       "      <td>None</td>\n",
       "    </tr>\n",
       "    <tr>\n",
       "      <th>20101</th>\n",
       "      <td>099922-citrus-gaussian</td>\n",
       "      <td>01</td>\n",
       "      <td>None</td>\n",
       "    </tr>\n",
       "    <tr>\n",
       "      <th>20102</th>\n",
       "      <td>099957-citrus-undersampling</td>\n",
       "      <td>01</td>\n",
       "      <td>None</td>\n",
       "    </tr>\n",
       "    <tr>\n",
       "      <th>20103</th>\n",
       "      <td>099976-citrus-gaussian</td>\n",
       "      <td>01</td>\n",
       "      <td>None</td>\n",
       "    </tr>\n",
       "    <tr>\n",
       "      <th>20104</th>\n",
       "      <td>099991-citrus-undersampling</td>\n",
       "      <td>01</td>\n",
       "      <td>None</td>\n",
       "    </tr>\n",
       "  </tbody>\n",
       "</table>\n",
       "<p>20105 rows × 3 columns</p>\n",
       "</div>"
      ],
      "text/plain": [
       "                                  protein_id class_id number_of_points\n",
       "0                       000002-astroid-clean       00             None\n",
       "1                    000011-astroid-gaussian       00             None\n",
       "2                    000012-astroid-gaussian       00             None\n",
       "3      000021-astroid-undersampling+gaussian       00             None\n",
       "4                    000032-astroid-gaussian       00             None\n",
       "...                                      ...      ...              ...\n",
       "20100   099907-citrus-undersampling+gaussian       01             None\n",
       "20101                 099922-citrus-gaussian       01             None\n",
       "20102            099957-citrus-undersampling       01             None\n",
       "20103                 099976-citrus-gaussian       01             None\n",
       "20104            099991-citrus-undersampling       01             None\n",
       "\n",
       "[20105 rows x 3 columns]"
      ]
     },
     "execution_count": 179,
     "metadata": {},
     "output_type": "execute_result"
    }
   ],
   "source": [
    "symmetria_df"
   ]
  },
  {
   "cell_type": "code",
   "execution_count": 180,
   "metadata": {},
   "outputs": [
    {
     "name": "stdout",
     "output_type": "stream",
     "text": [
      "Warning: Class 0 has only 101 proteins, but 100000 were requested. Using all available proteins.\n",
      "Warning: Class 1 has only 3 proteins, but 100000 were requested. Using all available proteins.\n",
      "Warning: Class 2 has only 17 proteins, but 100000 were requested. Using all available proteins.\n",
      "Warning: Class 3 has only 21 proteins, but 100000 were requested. Using all available proteins.\n",
      "Warning: Class 4 has only 15 proteins, but 100000 were requested. Using all available proteins.\n",
      "Warning: Class 5 has only 127 proteins, but 100000 were requested. Using all available proteins.\n",
      "Warning: Class 6 has only 25 proteins, but 100000 were requested. Using all available proteins.\n",
      "Warning: Class 7 has only 75 proteins, but 100000 were requested. Using all available proteins.\n",
      "Warning: Class 9 has only 66 proteins, but 100000 were requested. Using all available proteins.\n",
      "Warning: Class 10 has only 14 proteins, but 100000 were requested. Using all available proteins.\n",
      "Warning: Class 11 has only 43 proteins, but 100000 were requested. Using all available proteins.\n",
      "Warning: Class 12 has only 10 proteins, but 100000 were requested. Using all available proteins.\n",
      "Warning: Class 13 has only 22 proteins, but 100000 were requested. Using all available proteins.\n",
      "Warning: Class 15 has only 89 proteins, but 100000 were requested. Using all available proteins.\n",
      "Warning: Class 16 has only 154 proteins, but 100000 were requested. Using all available proteins.\n",
      "Warning: Class 17 has only 116 proteins, but 100000 were requested. Using all available proteins.\n",
      "Warning: Class 18 has only 76 proteins, but 100000 were requested. Using all available proteins.\n",
      "Warning: Class 19 has only 42 proteins, but 100000 were requested. Using all available proteins.\n",
      "Warning: Class 20 has only 7 proteins, but 100000 were requested. Using all available proteins.\n",
      "Warning: Class 21 has only 74 proteins, but 100000 were requested. Using all available proteins.\n",
      "Warning: Class 22 has only 58 proteins, but 100000 were requested. Using all available proteins.\n",
      "Warning: Class 23 has only 10 proteins, but 100000 were requested. Using all available proteins.\n",
      "Warning: Class 24 has only 10 proteins, but 100000 were requested. Using all available proteins.\n",
      "Warning: Class 25 has only 143 proteins, but 100000 were requested. Using all available proteins.\n",
      "Warning: Class 26 has only 2 proteins, but 100000 were requested. Using all available proteins.\n",
      "Warning: Class 27 has only 3 proteins, but 100000 were requested. Using all available proteins.\n",
      "Warning: Class 28 has only 18 proteins, but 100000 were requested. Using all available proteins.\n",
      "Warning: Class 29 has only 14 proteins, but 100000 were requested. Using all available proteins.\n",
      "Warning: Class 30 has only 3 proteins, but 100000 were requested. Using all available proteins.\n",
      "Warning: Class 31 has only 33 proteins, but 100000 were requested. Using all available proteins.\n",
      "Warning: Class 32 has only 93 proteins, but 100000 were requested. Using all available proteins.\n",
      "Warning: Class 33 has only 126 proteins, but 100000 were requested. Using all available proteins.\n",
      "Warning: Class 34 has only 73 proteins, but 100000 were requested. Using all available proteins.\n",
      "Warning: Class 35 has only 23 proteins, but 100000 were requested. Using all available proteins.\n",
      "Warning: Class 36 has only 8 proteins, but 100000 were requested. Using all available proteins.\n",
      "Warning: Class 37 has only 119 proteins, but 100000 were requested. Using all available proteins.\n",
      "Warning: Class 38 has only 34 proteins, but 100000 were requested. Using all available proteins.\n",
      "Warning: Class 39 has only 19 proteins, but 100000 were requested. Using all available proteins.\n",
      "Warning: Class 40 has only 95 proteins, but 100000 were requested. Using all available proteins.\n",
      "Warning: Class 41 has only 95 proteins, but 100000 were requested. Using all available proteins.\n",
      "Warning: Class 42 has only 2 proteins, but 100000 were requested. Using all available proteins.\n",
      "Warning: Class 43 has only 70 proteins, but 100000 were requested. Using all available proteins.\n",
      "Warning: Class 44 has only 2 proteins, but 100000 were requested. Using all available proteins.\n",
      "Warning: Class 45 has only 109 proteins, but 100000 were requested. Using all available proteins.\n",
      "Warning: Class 46 has only 44 proteins, but 100000 were requested. Using all available proteins.\n",
      "Warning: Class 47 has only 37 proteins, but 100000 were requested. Using all available proteins.\n",
      "Warning: Class 48 has only 27 proteins, but 100000 were requested. Using all available proteins.\n",
      "Warning: Class 49 has only 49 proteins, but 100000 were requested. Using all available proteins.\n",
      "Warning: Class 50 has only 2 proteins, but 100000 were requested. Using all available proteins.\n",
      "Warning: Class 51 has only 71 proteins, but 100000 were requested. Using all available proteins.\n",
      "Warning: Class 52 has only 76 proteins, but 100000 were requested. Using all available proteins.\n",
      "Warning: Class 53 has only 53 proteins, but 100000 were requested. Using all available proteins.\n",
      "Warning: Class 54 has only 128 proteins, but 100000 were requested. Using all available proteins.\n",
      "Warning: Class 55 has only 26 proteins, but 100000 were requested. Using all available proteins.\n",
      "Warning: Class 57 has only 9 proteins, but 100000 were requested. Using all available proteins.\n",
      "Warning: Class 58 has only 2 proteins, but 100000 were requested. Using all available proteins.\n",
      "Warning: Class 59 has only 54 proteins, but 100000 were requested. Using all available proteins.\n",
      "Warning: Class 60 has only 73 proteins, but 100000 were requested. Using all available proteins.\n",
      "Warning: Class 61 has only 240 proteins, but 100000 were requested. Using all available proteins.\n",
      "Warning: Class 62 has only 135 proteins, but 100000 were requested. Using all available proteins.\n",
      "Warning: Class 63 has only 2 proteins, but 100000 were requested. Using all available proteins.\n",
      "Warning: Class 64 has only 57 proteins, but 100000 were requested. Using all available proteins.\n",
      "Warning: Class 65 has only 10 proteins, but 100000 were requested. Using all available proteins.\n",
      "Warning: Class 66 has only 54 proteins, but 100000 were requested. Using all available proteins.\n",
      "Warning: Class 67 has only 17 proteins, but 100000 were requested. Using all available proteins.\n",
      "Warning: Class 68 has only 5 proteins, but 100000 were requested. Using all available proteins.\n",
      "Warning: Class 69 has only 80 proteins, but 100000 were requested. Using all available proteins.\n",
      "Warning: Class 70 has only 223 proteins, but 100000 were requested. Using all available proteins.\n",
      "Warning: Class 71 has only 102 proteins, but 100000 were requested. Using all available proteins.\n",
      "Warning: Class 72 has only 2 proteins, but 100000 were requested. Using all available proteins.\n",
      "Warning: Class 73 has only 6 proteins, but 100000 were requested. Using all available proteins.\n",
      "Warning: Class 74 has only 150 proteins, but 100000 were requested. Using all available proteins.\n",
      "Warning: Class 75 has only 69 proteins, but 100000 were requested. Using all available proteins.\n",
      "Warning: Class 76 has only 10 proteins, but 100000 were requested. Using all available proteins.\n",
      "Warning: Class 77 has only 2 proteins, but 100000 were requested. Using all available proteins.\n",
      "Warning: Class 78 has only 5 proteins, but 100000 were requested. Using all available proteins.\n",
      "Warning: Class 79 has only 78 proteins, but 100000 were requested. Using all available proteins.\n",
      "Warning: Class 80 has only 57 proteins, but 100000 were requested. Using all available proteins.\n",
      "Warning: Class 81 has only 58 proteins, but 100000 were requested. Using all available proteins.\n",
      "Warning: Class 82 has only 2 proteins, but 100000 were requested. Using all available proteins.\n",
      "Warning: Class 83 has only 115 proteins, but 100000 were requested. Using all available proteins.\n",
      "Warning: Class 84 has only 18 proteins, but 100000 were requested. Using all available proteins.\n",
      "Warning: Class 85 has only 49 proteins, but 100000 were requested. Using all available proteins.\n",
      "Warning: Class 86 has only 203 proteins, but 100000 were requested. Using all available proteins.\n",
      "Warning: Class 87 has only 103 proteins, but 100000 were requested. Using all available proteins.\n",
      "Warning: Class 88 has only 97 proteins, but 100000 were requested. Using all available proteins.\n",
      "Warning: Class 89 has only 3 proteins, but 100000 were requested. Using all available proteins.\n",
      "Warning: Class 91 has only 118 proteins, but 100000 were requested. Using all available proteins.\n",
      "Warning: Class 92 has only 129 proteins, but 100000 were requested. Using all available proteins.\n",
      "Warning: Class 93 has only 61 proteins, but 100000 were requested. Using all available proteins.\n",
      "Warning: Class 94 has only 52 proteins, but 100000 were requested. Using all available proteins.\n",
      "Warning: Class 95 has only 2 proteins, but 100000 were requested. Using all available proteins.\n",
      "Warning: Class 96 has only 35 proteins, but 100000 were requested. Using all available proteins.\n"
     ]
    }
   ],
   "source": [
    "cls_selected = [8, 90, 56, 14, 61, 70, 86, 5, 16, 25, 54, 62, 74, 83, 91, 92, 17, 45, 87, 71]\n",
    "\n",
    "df_3 = create_dataframe(raw_train_dataframe_f1, cls_selected[:2],  number_of_proteins=500)\n",
    "df_4 = create_dataframe(raw_train_dataframe_f1, cls_selected[:10], number_of_proteins=100)\n",
    "df_5 = create_dataframe(raw_train_dataframe_f1, cls_selected[:20], number_of_proteins=50)\n",
    "df_6 = create_dataframe(raw_train_dataframe_f1, cls_selected[:20], number_of_proteins=100)\n",
    "df_7 = create_dataframe(raw_train_dataframe_f6, dist_f6_available_classes, number_of_proteins=100000)\n",
    "\n",
    "'''\n",
    "df_3.to_csv('datasets/train_set-2_cls-1000_images.csv')\n",
    "df_4.to_csv('datasets/train_set-10_cls-1000_images.csv')\n",
    "df_5.to_csv('datasets/train_set-20_cls-1000_images.csv')\n",
    "df_6.to_csv('datasets/train_set-20_cls-2000_images.csv')\n",
    "df_7.to_csv('datasets/train_set-all-cls_except-cls-larger-than-450.csv')\n",
    "symmetria_df.to_csv('datasets/train_set-symmetria-100k-easy-astroid-citrus-10k-samples.csv')\n",
    "'''"
   ]
  },
  {
   "cell_type": "markdown",
   "metadata": {},
   "source": [
    "#### Augmentations"
   ]
  },
  {
   "cell_type": "code",
   "execution_count": 8,
   "metadata": {},
   "outputs": [],
   "source": [
    "from format import Text\n",
    "import torch\n",
    "from symmetria.transformations import *\n",
    "from symmetria.shapes import BenchmarkShape"
   ]
  },
  {
   "cell_type": "code",
   "execution_count": 9,
   "metadata": {},
   "outputs": [],
   "source": [
    "points_rectangle = np.array([[0, 2, 0, 0, 2, 2, 0, 2],\n",
    "                             [0, 0, 1, 0, 1, 0, 1, 1],\n",
    "                             [0, 0, 0, 1, 0, 1, 1, 1]]).astype(np.float32)\n",
    "\n",
    "points_rectangle_t = torch.from_numpy(points_rectangle)\n",
    "\n",
    "rot = random_rotation_matrix(rotate_x=False, rotate_z=False)\n",
    "\n",
    "shapebench = BenchmarkShape(points_rectangle_t)\n",
    "#shapebench.apply_rotation(torch.from_numpy(rot))\n",
    "#shapebench.apply_traslation(1,1,0)\n",
    "#shapebench.apply_uniform_noise(100, 1)\n",
    "#shapebench.apply_gaussian_noise(100, 1)\n",
    "\n",
    "rect = pv.PolyData(shapebench.points.numpy().T)\n",
    "#rect.plot()"
   ]
  },
  {
   "cell_type": "code",
   "execution_count": 10,
   "metadata": {},
   "outputs": [],
   "source": [
    "from random import random\n",
    "\n",
    "class RotateAroundZero():\n",
    "    def __init__(self, p=0.5, rot=None):\n",
    "        self.p = p\n",
    "        self.rot = rot\n",
    "\n",
    "    def __call__(self, points):\n",
    "        if random() < self.p:\n",
    "            if self.rot == None:\n",
    "                rot = torch.from_numpy(random_rotation_matrix())\n",
    "            else:\n",
    "                rot = self.rot\n",
    "        \n",
    "            rot = rot.to(torch.device(points.device))\n",
    "\n",
    "            ones = torch.ones((1,points.shape[0]), device=points.device)\n",
    "            coords = torch.concatenate((torch.transpose(points, 0, 1), ones))\n",
    "            \n",
    "            coords = rot@coords\n",
    "            \n",
    "            points = torch.transpose(coords[:3,:], 0, 1)\n",
    "\n",
    "        return points\n",
    "    \n",
    "    def __repr__(self):\n",
    "        return f'RotateAroundZero(p={repr(self.p)}, rot={repr(self.rot)})'\n",
    "    \n",
    "class Translate():\n",
    "    def __init__(self, p=0.5, shift=None, scale=1):\n",
    "        self.p = p\n",
    "        self.shift = shift\n",
    "        self.scale = scale\n",
    "\n",
    "    def __call__(self, points):        \n",
    "        if random() < self.p:\n",
    "            if self.shift == None:\n",
    "                shift = (torch.rand(1, device=points.device) * self.scale,\n",
    "                         torch.rand(1, device=points.device) * self.scale,\n",
    "                         torch.rand(1, device=points.device) * self.scale)\n",
    "            else:\n",
    "                shift = self.shift\n",
    "            \n",
    "            for i in range(len(shift)):\n",
    "                points[:,i] += shift[i]\n",
    "                   \n",
    "        return points\n",
    "    \n",
    "    def __repr__(self):\n",
    "        return f'Translate(p={repr(self.p)}, shift={repr(self.shift)}, scale={repr(self.scale)})'\n",
    "    \n",
    "class UniformNoise():\n",
    "    def __init__(self, n, T, p=0.5):\n",
    "        self.p = p\n",
    "        self.n, self.T = n, T\n",
    "    \n",
    "    def __call__(self, points):\n",
    "        if random() < self.p:\n",
    "            num_points = points.shape[0]\n",
    "\n",
    "            indices = torch.randperm(num_points, device=points.device)[:self.T]\n",
    "\n",
    "            points[indices,:] = points[indices,:] + (2*torch.rand(self.T, 3, device=points.device)-1)/self.n\n",
    "        \n",
    "        return points\n",
    "    \n",
    "    def __repr__(self):\n",
    "        return f'UniformNoise(n={repr(self.n)}, T={repr(self.T)}, p={repr(self.p)})'\n",
    "    \n",
    "class GaussianNoise():\n",
    "    def __init__(self, n, T, p=0.5):\n",
    "        self.p = p\n",
    "        self.n, self.T = n, T\n",
    "    \n",
    "    def __call__(self, points):\n",
    "        if random() < self.p:\n",
    "            num_points = points.shape[0]\n",
    "\n",
    "            indices = torch.randperm(num_points, device=points.device)[:self.T]\n",
    "    \n",
    "            points[indices,:] = points[indices,:] + torch.rand(self.T, 3, device=points.device)/self.n\n",
    "\n",
    "        return points\n",
    "    \n",
    "    def __repr__(self):\n",
    "        return f'GaussianNoise(n={repr(self.n)}, T={repr(self.T)}, p={repr(self.p)})'"
   ]
  },
  {
   "cell_type": "code",
   "execution_count": 11,
   "metadata": {},
   "outputs": [
    {
     "name": "stdout",
     "output_type": "stream",
     "text": [
      "Translate(p=1, shift=None, scale=1)\n",
      "Translate(p=1, shift=None, scale=1)\n"
     ]
    }
   ],
   "source": [
    "points_rectangle = np.array([[0, 2, 0, 0, 2, 2, 0, 2],\n",
    "                             [0, 0, 1, 0, 1, 0, 1, 1],\n",
    "                             [0, 0, 0, 1, 0, 1, 1, 1]]).astype(np.float32).T\n",
    "\n",
    "points_rectangle_t = torch.from_numpy(points_rectangle).to(torch.device('cuda:0'))\n",
    "\n",
    "translate = Translate(p=1)\n",
    "print(translate)\n",
    "points_rectangle_t = translate(points_rectangle_t)\n",
    "print(translate)\n",
    "rect = pv.PolyData(points_rectangle)\n",
    "#rect.plot()\n",
    "\n",
    "rect_tfm = pv.PolyData(points_rectangle_t.cpu().numpy())\n",
    "#rect_tfm.plot()"
   ]
  },
  {
   "cell_type": "markdown",
   "metadata": {},
   "source": [
    "#### DataSet and DataLoader"
   ]
  },
  {
   "cell_type": "code",
   "execution_count": 263,
   "metadata": {},
   "outputs": [
    {
     "data": {
      "text/plain": [
       "'\\ndef generate_train_valid_set_boring(df, val_pct, seed=42):\\n    train_size = int(len(df) * val_pct)    \\n    df_train = df.sample(train_size, random_state=seed)\\n    df_valid = df.drop(df_train.index)\\n\\n    return df_train, df_valid\\n'"
      ]
     },
     "execution_count": 263,
     "metadata": {},
     "output_type": "execute_result"
    }
   ],
   "source": [
    "import numpy as np\n",
    "import lzma\n",
    "from torch.utils.data import Dataset, DataLoader\n",
    "from symmetria.transforms.RandomSampler import RandomSampler\n",
    "from symmetria.transforms.UnitSphereNormalization import UnitSphereNormalization\n",
    "from tqdm import tqdm\n",
    "\n",
    "class ProteinDataset(Dataset):\n",
    "    def __init__(self, data_df, tfms, root=root, extention='xz', train=True):\n",
    "        super().__init__()\n",
    "        self.df = data_df\n",
    "        self.tfms = tfms\n",
    "        self.extention = extention\n",
    "        \n",
    "        self.train = train\n",
    "        if self.train:\n",
    "            if self.extention == 'vtk':\n",
    "                self.root = os.path.join(root, 'train')\n",
    "\n",
    "            elif self.extention == 'xz':\n",
    "                #self.root = os.path.join(root, 'train-symmetria-xz') # TODO roll back\n",
    "                self.root = os.path.join(root, 'train-xz')\n",
    "            else:\n",
    "                raise UserWarning('Extention not supported')\n",
    "            \n",
    "        else:\n",
    "            raise UserWarning('Not yet implemented for the test dataset')\n",
    "        \n",
    "        self.encode_label()\n",
    "        self.loader()\n",
    "    \n",
    "    def loader(self):\n",
    "        self.data = []\n",
    "        \n",
    "        for index in tqdm(self.df.index):\n",
    "            protein, cls, nop = self.df['protein_id'].loc[index], self.df['class_id'].loc[index], self.df['number_of_points'].loc[index]\n",
    "\n",
    "            cls_t = torch.tensor(self.encoded_cls[cls]).to(torch.device('cuda:0'))\n",
    "\n",
    "            if self.extention == 'vtk':\n",
    "                point_cloud = self.get_vtk_points(protein)\n",
    "\n",
    "            elif self.extention == 'xz':\n",
    "                point_cloud = self.get_xz_points(protein, cls, nop)\n",
    "\n",
    "            point_cloud_t = torch.from_numpy(point_cloud).to(torch.device('cuda:0'))     \n",
    "\n",
    "            point_cloud_t, cls_t = point_cloud_t.type(torch.float32), cls_t.type(torch.float32)\n",
    "            self.data.append((point_cloud_t, cls_t))\n",
    "\n",
    "    def get_vtk_points(self, name):\n",
    "        prot_file = name + '.' + self.extention\n",
    "        prot_file = os.path.join(self.root, prot_file)\n",
    "        \n",
    "        prot_mesh = pv.read(prot_file)\n",
    "\n",
    "        return prot_mesh.points\n",
    "\n",
    "    def get_xz_points(self, name, cls, nop=None, debug=False):\n",
    "        cls = str(cls)\n",
    "        nop = str(nop) if nop and nop != 'nan' else None\n",
    "\n",
    "        while len(cls) < 2:\n",
    "            cls = '0' + cls\n",
    "        \n",
    "        if nop and nop != 'nan':\n",
    "            while len(nop) < 6:\n",
    "                nop = '0' + nop\n",
    "\n",
    "        if nop and nop != 'nan':\n",
    "            prot_file = cls + '-' + nop +  '-' + name.replace(':', '+') + '.' + self.extention\n",
    "        else:\n",
    "            prot_file = cls + '-' + name.replace(':', '+') + '.' + self.extention\n",
    "        if debug:\n",
    "            print(f'ProteinDataset is loading files from {self.root}')\n",
    "        prot_file = os.path.join(self.root, prot_file)        \n",
    "        \n",
    "        with lzma.open(prot_file, 'rt') as f:\n",
    "            point_cloud = np.loadtxt(f)\n",
    "\n",
    "        return point_cloud\n",
    "\n",
    "    def __len__(self):\n",
    "        return len(self.data)\n",
    "    \n",
    "    def __getitem__(self, index, do_transform=True):\n",
    "        prot, cls = self.data[index]\n",
    "        \n",
    "        if do_transform:\n",
    "            for tfm in self.tfms:\n",
    "                prot = tfm(prot)\n",
    "\n",
    "        # NOTE: here we transpose the points (from Nx3 to 3xN) to then pass them to the PoinNet encoder\n",
    "        prot = torch.transpose(prot, 0, 1)\n",
    "        return (prot, cls)\n",
    "    \n",
    "    def encode_label(self):\n",
    "        self.encoded_cls = {}\n",
    "        \n",
    "        prot_clss = np.sort(self.df['class_id'].unique())\n",
    "        \n",
    "        #One hot encoding\n",
    "        '''\n",
    "        for idx, cls in enumerate(prot_clss):\n",
    "            self.encoded_cls[cls] = np.eye(len(prot_clss))[idx]\n",
    "        '''\n",
    "\n",
    "        for idx, cls in enumerate(prot_clss):\n",
    "            self.encoded_cls[cls] = int(idx)\n",
    "\n",
    "    def render_pointcloud(self, index):\n",
    "        prot, _ = self.data[index]\n",
    "        prot = torch.transpose(prot, 0, 1).numpy()\n",
    "        cloud = pv.PolyData(prot)\n",
    "        print(cloud)\n",
    "        cloud.plot()\n",
    "    \n",
    "\n",
    "transforms = [UnitSphereNormalization(),\n",
    "              Translate(p=0.8, scale=1),\n",
    "              RotateAroundZero(p=0.8),\n",
    "              GaussianNoise(n=100, T=2500, p=0.8),\n",
    "              RandomSampler(sample_size=5000)]\n",
    "\n",
    "\n",
    "def generate_train_valid_set(df, tfms, val_pct, root=root, seed=42, **kwargs):\n",
    "    '''\n",
    "    Can also take some other arguments to be passed to the dataset initializer\n",
    "\n",
    "            -> path (str): path to the parent directory containing the train files \n",
    "    '''\n",
    "\n",
    "    train_size = int(len(df) * (1 - val_pct))    \n",
    "    df_train = df.sample(train_size, random_state=seed)\n",
    "    df_valid = df.drop(df_train.index)\n",
    "\n",
    "    return ProteinDataset(df_train, tfms, root=root, **kwargs), ProteinDataset(df_valid, tfms, root=root, **kwargs)\n",
    "\n",
    "'''\n",
    "def generate_train_valid_set_boring(df, val_pct, seed=42):\n",
    "    train_size = int(len(df) * val_pct)    \n",
    "    df_train = df.sample(train_size, random_state=seed)\n",
    "    df_valid = df.drop(df_train.index)\n",
    "\n",
    "    return df_train, df_valid\n",
    "'''"
   ]
  },
  {
   "cell_type": "code",
   "execution_count": 264,
   "metadata": {},
   "outputs": [
    {
     "name": "stdout",
     "output_type": "stream",
     "text": [
      "Warning: Class 2 has only 17 proteins, but 100000 were requested. Using all available proteins.\n",
      "Warning: Class 30 has only 3 proteins, but 100000 were requested. Using all available proteins.\n",
      "Warning: Class 10 has only 14 proteins, but 100000 were requested. Using all available proteins.\n"
     ]
    },
    {
     "name": "stderr",
     "output_type": "stream",
     "text": [
      "100%|█████████████████████████████████████████████████████████████████████████████████████████████████████████████████████████████████████████████████████████| 27/27 [00:00<00:00, 40.05it/s]\n",
      "100%|███████████████████████████████████████████████████████████████████████████████████████████████████████████████████████████████████████████████████████████| 7/7 [00:00<00:00, 66.69it/s]\n"
     ]
    }
   ],
   "source": [
    "example_dataframe = create_dataframe(raw_train_dataframe_f1, class_ids=[2, 30, 10], number_of_proteins=100000)\n",
    "example_set_train, example_set_valid = generate_train_valid_set(example_dataframe, transforms, 0.2)"
   ]
  },
  {
   "cell_type": "code",
   "execution_count": 14,
   "metadata": {},
   "outputs": [
    {
     "data": {
      "text/plain": [
       "(tensor([[-13.2790, -10.7780, -13.8340,  ...,  16.3990,  17.5370,  17.2040],\n",
       "         [ -5.5590,  -5.8420,  -5.6100,  ...,   0.7470,  -2.9950,  -2.2290],\n",
       "         [-63.1120, -63.1070, -62.0990,  ...,  24.6410,  24.6490,  24.8250]],\n",
       "        device='cuda:0'),\n",
       " tensor(0., device='cuda:0'))"
      ]
     },
     "execution_count": 14,
     "metadata": {},
     "output_type": "execute_result"
    }
   ],
   "source": [
    "example_set_train.__getitem__(0, do_transform=False)"
   ]
  },
  {
   "cell_type": "code",
   "execution_count": 15,
   "metadata": {},
   "outputs": [],
   "source": [
    "prot = example_set_train.__getitem__(0, do_transform=False)"
   ]
  },
  {
   "cell_type": "code",
   "execution_count": 16,
   "metadata": {},
   "outputs": [
    {
     "name": "stdout",
     "output_type": "stream",
     "text": [
      "prot type = <class 'tuple'>\n",
      "prot len = 2\n",
      "prot = (tensor([[-13.2790, -10.7780, -13.8340,  ...,  16.3990,  17.5370,  17.2040],\n",
      "        [ -5.5590,  -5.8420,  -5.6100,  ...,   0.7470,  -2.9950,  -2.2290],\n",
      "        [-63.1120, -63.1070, -62.0990,  ...,  24.6410,  24.6490,  24.8250]],\n",
      "       device='cuda:0'), tensor(0., device='cuda:0'))\n",
      "\n"
     ]
    }
   ],
   "source": [
    "print(f'{Text(prot, 'prot'):content}')"
   ]
  },
  {
   "cell_type": "code",
   "execution_count": 17,
   "metadata": {},
   "outputs": [
    {
     "name": "stdout",
     "output_type": "stream",
     "text": [
      "prot[0] type = <class 'torch.Tensor'>\n",
      "prot[0] device = cuda:0\n",
      "prot[0] dtype = torch.float32\n",
      "prot[0] shape = torch.Size([3, 15666])\n",
      "prot[0] = tensor([[-13.2790, -10.7780, -13.8340,  ...,  16.3990,  17.5370,  17.2040],\n",
      "        [ -5.5590,  -5.8420,  -5.6100,  ...,   0.7470,  -2.9950,  -2.2290],\n",
      "        [-63.1120, -63.1070, -62.0990,  ...,  24.6410,  24.6490,  24.8250]],\n",
      "       device='cuda:0')\n",
      "\n"
     ]
    }
   ],
   "source": [
    "print(f'{Text(prot[0], 'prot[0]'):content}')"
   ]
  },
  {
   "cell_type": "code",
   "execution_count": 18,
   "metadata": {},
   "outputs": [
    {
     "name": "stdout",
     "output_type": "stream",
     "text": [
      "prot[0].min() = tensor(-65.2220, device='cuda:0') - prot[0].max() = tensor(29.8920, device='cuda:0')\n"
     ]
    }
   ],
   "source": [
    "print(f'{prot[0].min() = } - {prot[0].max() = }')"
   ]
  },
  {
   "cell_type": "code",
   "execution_count": 19,
   "metadata": {},
   "outputs": [],
   "source": [
    "unit_normalizer = UnitSphereNormalization()\n",
    "prot, _ = example_set_train.__getitem__(0, do_transform=False)\n",
    "prot = torch.transpose(prot, 0, 1)\n",
    "norm_prot = unit_normalizer(prot)"
   ]
  },
  {
   "cell_type": "code",
   "execution_count": 20,
   "metadata": {},
   "outputs": [
    {
     "name": "stdout",
     "output_type": "stream",
     "text": [
      "norm_prot type = <class 'torch.Tensor'>\n",
      "norm_prot device = cuda:0\n",
      "norm_prot dtype = torch.float32\n",
      "norm_prot shape = torch.Size([15666, 3])\n",
      "norm_prot = tensor([[-0.2012, -0.0929, -0.9577],\n",
      "        [-0.1598, -0.0976, -0.9577],\n",
      "        [-0.2104, -0.0938, -0.9410],\n",
      "        ...,\n",
      "        [ 0.2899,  0.0114,  0.4944],\n",
      "        [ 0.3088, -0.0505,  0.4945],\n",
      "        [ 0.3032, -0.0378,  0.4975]], device='cuda:0')\n",
      "\n"
     ]
    }
   ],
   "source": [
    "print(f'{Text(norm_prot, 'norm_prot'):content}')"
   ]
  },
  {
   "cell_type": "code",
   "execution_count": 22,
   "metadata": {},
   "outputs": [
    {
     "name": "stdout",
     "output_type": "stream",
     "text": [
      "norm_prot.min() = tensor(-0.9927, device='cuda:0') - norm_prot.max() = tensor(0.5813, device='cuda:0')\n"
     ]
    }
   ],
   "source": [
    "print(f'{norm_prot.min() = } - {norm_prot.max() = }')"
   ]
  },
  {
   "cell_type": "code",
   "execution_count": 23,
   "metadata": {},
   "outputs": [
    {
     "name": "stdout",
     "output_type": "stream",
     "text": [
      "unit_normalizer.centroid.min() = tensor(-5.2362, device='cuda:0') - unit_normalizer.centroid.max() = tensor(0.0559, device='cuda:0')\n"
     ]
    }
   ],
   "source": [
    "print(f'{unit_normalizer.centroid.min() = } - {unit_normalizer.centroid.max() = }')"
   ]
  },
  {
   "cell_type": "code",
   "execution_count": 24,
   "metadata": {},
   "outputs": [
    {
     "data": {
      "text/plain": [
       "torch.Size([3])"
      ]
     },
     "execution_count": 24,
     "metadata": {},
     "output_type": "execute_result"
    }
   ],
   "source": [
    "unit_normalizer.centroid.shape"
   ]
  },
  {
   "cell_type": "code",
   "execution_count": 25,
   "metadata": {},
   "outputs": [],
   "source": [
    "points = prot[0]"
   ]
  },
  {
   "cell_type": "code",
   "execution_count": 26,
   "metadata": {},
   "outputs": [
    {
     "data": {
      "text/plain": [
       "tensor([-13.2790,  -5.5590, -63.1120], device='cuda:0')"
      ]
     },
     "execution_count": 26,
     "metadata": {},
     "output_type": "execute_result"
    }
   ],
   "source": [
    "points"
   ]
  },
  {
   "cell_type": "markdown",
   "metadata": {},
   "source": [
    "### PointNet class"
   ]
  },
  {
   "cell_type": "code",
   "execution_count": 97,
   "metadata": {},
   "outputs": [
    {
     "data": {
      "text/plain": [
       "<module 'symmetria.decoders.prediction_head' from '/mnt/raid1/repos/shrec2025/Protein_Classification/symmetria/decoders/prediction_head.py'>"
      ]
     },
     "execution_count": 97,
     "metadata": {},
     "output_type": "execute_result"
    }
   ],
   "source": [
    "import importlib\n",
    "import symmetria\n",
    "importlib.reload(symmetria)\n",
    "importlib.reload(symmetria.decoders)\n",
    "importlib.reload(symmetria.decoders.prediction_head)"
   ]
  },
  {
   "cell_type": "code",
   "execution_count": 245,
   "metadata": {},
   "outputs": [],
   "source": [
    "import torch.nn as nn\n",
    "import torch.nn.functional as F\n",
    "from symmetria.encoders.pointnet_encoder import PointNetEncoder\n",
    "\n",
    "from symmetria.encoders.pointnext.pointnext_encoder_parameters import *\n",
    "from symmetria.encoders.pointnext.pointnext_encoder import PointNeXt\n",
    "\n",
    "from symmetria.decoders.prediction_head import PredictionHead\n",
    "\n",
    "if debug_pointnet:\n",
    "    bs, sz = 1, 2048\n",
    "    encoder = PointNetEncoder(use_bn=False)\n",
    "    mock_x = torch.randn(bs, 3, sz)\n",
    "    output = encoder.forward(mock_x)\n",
    "    print(f'{Text(output, 'output'):inspect}')\n",
    "\n",
    "    decoder = PredictionHead(1024, 96)\n",
    "    output_decoder = decoder.forward(output)\n",
    "    print(f'{Text(output_decoder, 'output_decoder'):inspect}')\n",
    "\n",
    "class PointNet(nn.Module):\n",
    "    def __init__(self, output_size, max_points, use_bn=False, encoder='pointnet'): # make it prettier like in segmenter\n",
    "        super().__init__()\n",
    "        \n",
    "        if encoder in POINTNEXT_MODEL_CONFIG:\n",
    "            model_cfg = POINTNEXT_MODEL_CONFIG[encoder]     # 'PointNeXt_B' (21.5 M), 'PointNeXt_L2' (32.0 M), 'PointNeXt_XXL' (73.8 M)\n",
    "            self.encoder = PointNeXt(model_cfg)\n",
    "            self.encoder_output_size = output_size          # because of the adapter head (e.g. 2048 -> 1024) within the encoder\n",
    "            print(f\"Using PointNeXt {model_cfg} - encoder: {self.encoder}\")\n",
    "        else:\n",
    "            self.encoder = PointNetEncoder(use_bn)\n",
    "            print(f\"Using PointNet as encoder - encoder: {self.encoder}\")\n",
    "        \n",
    "        self.max_points = max_points\n",
    "\n",
    "        self.input_size = self.get_input_size()        \n",
    "        self.output_size = output_size\n",
    "\n",
    "        print(f'Creating a PredictionHead with {self.input_size} as input and {self.output_size} as output')\n",
    "        self.decoder = PredictionHead(self.input_size, self.output_size, use_bn, use_relu=True)\n",
    "        \n",
    "        #self.softmax = nn.Softmax(dim=1)\n",
    "\n",
    "    def get_input_size(self):\n",
    "        mock_x = torch.randn(1, 3, self.max_points)\n",
    "        return self.encoder(mock_x).shape[-1]\n",
    "\n",
    "    def forward(self, x):\n",
    "        x = self.encoder(x)\n",
    "        x = self.decoder(x)\n",
    "        #x = self.softmax(x)\n",
    "\n",
    "        return x #SoftMax already inside the CrossEntropyLoss"
   ]
  },
  {
   "cell_type": "markdown",
   "metadata": {},
   "source": [
    "### Config Definition"
   ]
  },
  {
   "cell_type": "code",
   "execution_count": 246,
   "metadata": {},
   "outputs": [
    {
     "name": "stdout",
     "output_type": "stream",
     "text": [
      "Creating a test dataset from datasets/train_set-all-cls_except-cls-larger-than-450.csv\n",
      "Test dataset has 5259 rows\n"
     ]
    }
   ],
   "source": [
    "from datetime import datetime\n",
    "from torch import optim\n",
    "\n",
    "time_now = datetime.now()\n",
    "time_now = time_now.strftime('%d%m%Y_%H%M%S')\n",
    "_folder = !pwd\n",
    "\n",
    "env = {}\n",
    "\n",
    "### Debug\n",
    "env['debug_loss'] = True\n",
    "\n",
    "env['project_folder'] = _folder[0]\n",
    "env['project'] = 'shrec-2025'\n",
    "env['run'] = env['project'] + '_' + time_now\n",
    "#env['output_dir'] = os.path.join(env['project_folder'], 'wandb', 'run_' + env['run'])\n",
    "if 'output' not in os.listdir(env['project_folder']):\n",
    "    os.mkdir('output')\n",
    "env['output_dir'] = Path(env['project_folder']) / 'output'\n",
    "\n",
    "env['max_points'] = 4000\n",
    "\n",
    "#env['dataset'] = 'train_set-2_cls-1000_images.csv' \n",
    "#env['dataset'] = 'train_set-all.csv'\n",
    "env['dataset'] = 'train_set-all-cls_except-cls-larger-than-450.csv'\n",
    "#env['dataset'] = 'train_set-symmetria-100k-easy-astroid-citrus-10k-samples.csv'\n",
    "#env['dataset_path'] = '/mnt/dataset/shrec-2025-protein-classification/v2-20250331'\n",
    "env['dataset_path'] = root\n",
    "\n",
    "ds_path = Path('./datasets') / env['dataset']\n",
    "print(f'Creating a test dataset from {ds_path}')\n",
    "\n",
    "test = pd.read_csv(ds_path, index_col=0)\n",
    "print(f'Test dataset has {len(test)} rows')"
   ]
  },
  {
   "cell_type": "markdown",
   "metadata": {},
   "source": [
    "### Model Definition"
   ]
  },
  {
   "cell_type": "code",
   "execution_count": 267,
   "metadata": {
    "scrolled": false
   },
   "outputs": [
    {
     "name": "stdout",
     "output_type": "stream",
     "text": [
      "Using PointNet as encoder - encoder: PointNetEncoder(\n",
      "  (input_transform): TNet(\n",
      "    (shared_mlps): Sequential(\n",
      "      (0): Conv1d(3, 64, kernel_size=(1,), stride=(1,))\n",
      "      (1): ReLU()\n",
      "      (2): Conv1d(64, 128, kernel_size=(1,), stride=(1,))\n",
      "      (3): ReLU()\n",
      "      (4): Conv1d(128, 1024, kernel_size=(1,), stride=(1,))\n",
      "      (5): ReLU()\n",
      "    )\n",
      "    (linear): Sequential(\n",
      "      (0): Linear(in_features=1024, out_features=512, bias=True)\n",
      "      (1): ReLU()\n",
      "      (2): Linear(in_features=512, out_features=256, bias=True)\n",
      "      (3): ReLU()\n",
      "      (4): Linear(in_features=256, out_features=9, bias=True)\n",
      "    )\n",
      "  )\n",
      "  (feature_transform): TNet(\n",
      "    (shared_mlps): Sequential(\n",
      "      (0): Conv1d(64, 64, kernel_size=(1,), stride=(1,))\n",
      "      (1): ReLU()\n",
      "      (2): Conv1d(64, 128, kernel_size=(1,), stride=(1,))\n",
      "      (3): ReLU()\n",
      "      (4): Conv1d(128, 1024, kernel_size=(1,), stride=(1,))\n",
      "      (5): ReLU()\n",
      "    )\n",
      "    (linear): Sequential(\n",
      "      (0): Linear(in_features=1024, out_features=512, bias=True)\n",
      "      (1): ReLU()\n",
      "      (2): Linear(in_features=512, out_features=256, bias=True)\n",
      "      (3): ReLU()\n",
      "      (4): Linear(in_features=256, out_features=4096, bias=True)\n",
      "    )\n",
      "  )\n",
      "  (shared_mlps): Sequential(\n",
      "    (0): Conv1d(3, 64, kernel_size=(1,), stride=(1,))\n",
      "    (1): LeakyReLU(negative_slope=0.01)\n",
      "  )\n",
      "  (shared_mlps_2): Sequential(\n",
      "    (0): Conv1d(64, 128, kernel_size=(1,), stride=(1,))\n",
      "    (1): LeakyReLU(negative_slope=0.01)\n",
      "    (2): Conv1d(128, 256, kernel_size=(1,), stride=(1,))\n",
      "    (3): LeakyReLU(negative_slope=0.01)\n",
      "    (4): Conv1d(256, 1024, kernel_size=(1,), stride=(1,))\n",
      "  )\n",
      ")\n",
      "Creating a PredictionHead with 1024 as input and 93 as output\n"
     ]
    }
   ],
   "source": [
    "env['device'] = 'cuda:0'\n",
    "env['val_pct'] = 0.2\n",
    "env['augmentations_on'] = True\n",
    "env['aug'] = [Translate(p=0.8),\n",
    "              UnitSphereNormalization(),\n",
    "              RotateAroundZero(p=0.8),\n",
    "              GaussianNoise(n=10, T=(env['max_points']//2),  p=0.8),\n",
    "              RandomSampler(sample_size=env['max_points'])]\n",
    "\n",
    "#env['aug'] = [UnitSphereNormalization()]\n",
    "env['aug'] = []\n",
    "\n",
    "env['bs'] = 1\n",
    "env['epochs'] = 200\n",
    "env['lr'] = 1e-4\n",
    "\n",
    "env['encoder']   = 'pointnet'\n",
    "#env['encoder']  = 'PointNeXt_XXL'\n",
    "env['model']     = PointNet(output_size=len(test['class_id'].unique()), max_points=env['max_points'], encoder=env['encoder']).to(torch.device(env['device']))\n",
    "\n",
    "env['model_pth'] = '/tmp/pointnet.pth'\n",
    "env['pretrain']  = False\n",
    "\n",
    "if env['pretrain']:\n",
    "    if not Path(model_pth).exists():\n",
    "        !wget 'https://github.com/meder411/PointNet-PyTorch/raw/refs/heads/master/classifier_model_state.pth' --output-document \"{env['model_pth']}\"\n",
    "    else:\n",
    "        print(f'{env['model_pth']} already exists, skipping download...')\n",
    "    torch.load(env['model_pth'], map_location=torch.device(env['device']))\n",
    "\n",
    "env['loss_func'] = nn.CrossEntropyLoss()\n",
    "env['optimizer'] = optim.Adam(env['model'].parameters(), lr=env['lr'])"
   ]
  },
  {
   "cell_type": "code",
   "execution_count": 268,
   "metadata": {
    "scrolled": false
   },
   "outputs": [
    {
     "data": {
      "text/plain": [
       "{'debug_loss': True,\n",
       " 'project_folder': '/mnt/raid1/repos/shrec2025/Protein_Classification',\n",
       " 'project': 'shrec-2025',\n",
       " 'run': 'shrec-2025_02042025_184904',\n",
       " 'output_dir': PosixPath('/mnt/raid1/repos/shrec2025/Protein_Classification/output'),\n",
       " 'max_points': 4000,\n",
       " 'dataset': 'train_set-all-cls_except-cls-larger-than-450.csv',\n",
       " 'dataset_path': PosixPath('/mnt/raid1/dataset/shrec-2025-protein-classification/v2-20250331'),\n",
       " 'device': 'cuda:0',\n",
       " 'val_pct': 0.2,\n",
       " 'augmentations_on': True,\n",
       " 'aug': [],\n",
       " 'bs': 1,\n",
       " 'epochs': 200,\n",
       " 'lr': 0.0001,\n",
       " 'encoder': 'pointnet',\n",
       " 'model': PointNet(\n",
       "   (encoder): PointNetEncoder(\n",
       "     (input_transform): TNet(\n",
       "       (shared_mlps): Sequential(\n",
       "         (0): Conv1d(3, 64, kernel_size=(1,), stride=(1,))\n",
       "         (1): ReLU()\n",
       "         (2): Conv1d(64, 128, kernel_size=(1,), stride=(1,))\n",
       "         (3): ReLU()\n",
       "         (4): Conv1d(128, 1024, kernel_size=(1,), stride=(1,))\n",
       "         (5): ReLU()\n",
       "       )\n",
       "       (linear): Sequential(\n",
       "         (0): Linear(in_features=1024, out_features=512, bias=True)\n",
       "         (1): ReLU()\n",
       "         (2): Linear(in_features=512, out_features=256, bias=True)\n",
       "         (3): ReLU()\n",
       "         (4): Linear(in_features=256, out_features=9, bias=True)\n",
       "       )\n",
       "     )\n",
       "     (feature_transform): TNet(\n",
       "       (shared_mlps): Sequential(\n",
       "         (0): Conv1d(64, 64, kernel_size=(1,), stride=(1,))\n",
       "         (1): ReLU()\n",
       "         (2): Conv1d(64, 128, kernel_size=(1,), stride=(1,))\n",
       "         (3): ReLU()\n",
       "         (4): Conv1d(128, 1024, kernel_size=(1,), stride=(1,))\n",
       "         (5): ReLU()\n",
       "       )\n",
       "       (linear): Sequential(\n",
       "         (0): Linear(in_features=1024, out_features=512, bias=True)\n",
       "         (1): ReLU()\n",
       "         (2): Linear(in_features=512, out_features=256, bias=True)\n",
       "         (3): ReLU()\n",
       "         (4): Linear(in_features=256, out_features=4096, bias=True)\n",
       "       )\n",
       "     )\n",
       "     (shared_mlps): Sequential(\n",
       "       (0): Conv1d(3, 64, kernel_size=(1,), stride=(1,))\n",
       "       (1): LeakyReLU(negative_slope=0.01)\n",
       "     )\n",
       "     (shared_mlps_2): Sequential(\n",
       "       (0): Conv1d(64, 128, kernel_size=(1,), stride=(1,))\n",
       "       (1): LeakyReLU(negative_slope=0.01)\n",
       "       (2): Conv1d(128, 256, kernel_size=(1,), stride=(1,))\n",
       "       (3): LeakyReLU(negative_slope=0.01)\n",
       "       (4): Conv1d(256, 1024, kernel_size=(1,), stride=(1,))\n",
       "     )\n",
       "   )\n",
       "   (decoder): PredictionHead(\n",
       "     (decoder_head): Sequential(\n",
       "       (0): Linear(in_features=1024, out_features=512, bias=True)\n",
       "       (1): ReLU()\n",
       "       (2): Linear(in_features=512, out_features=256, bias=True)\n",
       "       (3): ReLU()\n",
       "       (4): Linear(in_features=256, out_features=93, bias=True)\n",
       "     )\n",
       "   )\n",
       " ),\n",
       " 'model_pth': '/tmp/pointnet.pth',\n",
       " 'pretrain': False,\n",
       " 'loss_func': CrossEntropyLoss(),\n",
       " 'optimizer': Adam (\n",
       " Parameter Group 0\n",
       "     amsgrad: False\n",
       "     betas: (0.9, 0.999)\n",
       "     capturable: False\n",
       "     differentiable: False\n",
       "     eps: 1e-08\n",
       "     foreach: None\n",
       "     fused: None\n",
       "     lr: 0.0001\n",
       "     maximize: False\n",
       "     weight_decay: 0\n",
       " )}"
      ]
     },
     "execution_count": 268,
     "metadata": {},
     "output_type": "execute_result"
    }
   ],
   "source": [
    "env"
   ]
  },
  {
   "cell_type": "markdown",
   "metadata": {},
   "source": [
    "#### Training Loop"
   ]
  },
  {
   "cell_type": "code",
   "execution_count": 269,
   "metadata": {},
   "outputs": [],
   "source": [
    "import wandb\n",
    "\n",
    "def calculate_loss(logits, target, loss_func):\n",
    "    output    = torch.argmax(logits, dim=1)\n",
    "    target    = target.to(torch.int64)\n",
    "    #softmaxed = torch.softmax(logits, dim=1)\n",
    "    loss      = loss_func(logits, target)\n",
    "    return loss, output, target\n",
    "\n",
    "def train(train_dl, valid_dl, env):\n",
    "    net = env['model']\n",
    "    loss_func = env['loss_func']\n",
    "    optimizer = env['optimizer']\n",
    "\n",
    "    wandb.init(project=env['project'], name=env['run'], dir=env['output_dir'], config=env)\n",
    "\n",
    "    for epoch in range(env['epochs']):\n",
    "        print('/' * 20 + f' Epoch: {epoch + 1} ' + '/' * 20)\n",
    "        for step, batch in enumerate(tqdm(train_dl)):\n",
    "            input_p, target = batch\n",
    "\n",
    "            net.zero_grad()\n",
    "\n",
    "            logits = net(input_p)\n",
    "            #print(f'{Text(output, 'output'):content}')\n",
    "            #print(f'{Text(target, 'target'):content}')\n",
    "            \n",
    "            '''\n",
    "            output = torch.argmax(logits, dim=1)\n",
    "            target = target.to(torch.int64)\n",
    "            loss = loss_func(output, target)\n",
    "            '''\n",
    "            loss, output, target = calculate_loss(logits, target, loss_func)\n",
    "            if env['debug_loss'] and step % 1000 == 0:\n",
    "                print(f'pred: {int(output)} - target: {int(target)} - loss: {loss:.3f} - raw pred: {logits}')\n",
    "            wandb.log({'epoch': epoch,\n",
    "                    'loss': loss})\n",
    "            #print(f'Training loss: {loss}')\n",
    "            loss.backward()\n",
    "            optimizer.step()\n",
    "\n",
    "        print('/' * 20 + ' Validation ' + '/' * 20)\n",
    "        with torch.no_grad():\n",
    "            val_loss = []\n",
    "            acc = []\n",
    "            for step, batch in enumerate(tqdm(valid_dl)):\n",
    "                input_p, target = batch\n",
    "                \n",
    "                logits = net(input_p)\n",
    "\n",
    "                '''\n",
    "                output = torch.argmax(logits, dim=1)\n",
    "                target = target.to(torch.int64)\n",
    "                loss = loss_func(output, target).cpu()\n",
    "                '''\n",
    "                loss, output, target = calculate_loss(logits, target, loss_func)\n",
    "                if env['debug_loss'] and step % 1000 == 0:\n",
    "                    print(f'pred: {int(output)} - target: {int(target)} - loss: {loss:.3f} - raw pred: {logits}')\n",
    "                \n",
    "                val_loss.append(loss.cpu())\n",
    "\n",
    "                #matching = [torch.argmax(i) == torch.argmax(j) for i, j in zip(output, target)]\n",
    "                matching = [int(i) == int(j) for i, j in zip(output, target)]\n",
    "                accuracy = matching.count(True)/len(matching)\n",
    "                \n",
    "                if env['debug_loss'] and step % 10 == 0:\n",
    "                    print(f'{matching = } - {accuracy = }')\n",
    "                acc.append(accuracy)\n",
    "            wandb.log({'epoch': epoch,\n",
    "                    'step': step,\n",
    "                    'val_loss': np.mean(val_loss),\n",
    "                    'accuracy': np.mean(acc)})\n",
    "\n",
    "    wandb.finish()"
   ]
  },
  {
   "cell_type": "code",
   "execution_count": 270,
   "metadata": {
    "scrolled": true
   },
   "outputs": [
    {
     "name": "stderr",
     "output_type": "stream",
     "text": [
      "100%|█████████████████████████████████████████████████████████████████████████████████████████████████████████████████████████████████████████████████████| 4207/4207 [00:48<00:00, 86.61it/s]\n",
      "100%|█████████████████████████████████████████████████████████████████████████████████████████████████████████████████████████████████████████████████████| 1052/1052 [00:11<00:00, 88.02it/s]\n"
     ]
    }
   ],
   "source": [
    "test_train_ds, test_valid_ds = generate_train_valid_set(df=test, tfms=env['aug'], val_pct=env['val_pct'], root=mountpoint)\n",
    "test_train_dl, test_valid_dl = DataLoader(test_train_ds, batch_size=env['bs'], shuffle=True), DataLoader(test_valid_ds, batch_size=env['bs'], shuffle=True)"
   ]
  },
  {
   "cell_type": "code",
   "execution_count": null,
   "metadata": {
    "scrolled": false
   },
   "outputs": [
    {
     "data": {
      "text/html": [],
      "text/plain": [
       "<IPython.core.display.HTML object>"
      ]
     },
     "metadata": {},
     "output_type": "display_data"
    },
    {
     "data": {
      "text/html": [
       "<br>    <style><br>        .wandb-row {<br>            display: flex;<br>            flex-direction: row;<br>            flex-wrap: wrap;<br>            justify-content: flex-start;<br>            width: 100%;<br>        }<br>        .wandb-col {<br>            display: flex;<br>            flex-direction: column;<br>            flex-basis: 100%;<br>            flex: 1;<br>            padding: 10px;<br>        }<br>    </style><br><div class=\"wandb-row\"><div class=\"wandb-col\"><h3>Run history:</h3><br/><table class=\"wandb\"><tr><td>accuracy</td><td>▁▃▆▁▄▂▆█▄▃▅▃▄▄▅▅▅▅▅▅▅▄▅▅▆▅▅▅▆▅▅▅▅▅</td></tr><tr><td>epoch</td><td>▁▁▁▁▁▂▂▂▂▂▃▃▃▃▃▃▃▄▄▄▅▅▅▅▅▆▆▆▆▇▇▇▇▇▇▇████</td></tr><tr><td>loss</td><td>▆▆▇▅▆▄▄▄▇▄▅▅▅▃▄▂▆▇▁█▃▅▂▃▄▁▁▃▃▂▅█▃▂▅▂▂▃▁▂</td></tr><tr><td>step</td><td>▁▁▁▁▁▁▁▁▁▁▁▁▁▁▁▁▁▁▁▁▁▁▁▁▁▁▁▁▁▁▁▁▁▁</td></tr><tr><td>val_loss</td><td>▁▂▃▃▃▃▃▄▄▄▅▅▅▆▆▆▆▇▇▇▇▇▆▇▇▇▇█▇▇█▇██</td></tr></table><br/></div><div class=\"wandb-col\"><h3>Run summary:</h3><br/><table class=\"wandb\"><tr><td>accuracy</td><td>0.01996</td></tr><tr><td>epoch</td><td>34</td></tr><tr><td>loss</td><td>2.68837</td></tr><tr><td>step</td><td>1051</td></tr><tr><td>val_loss</td><td>23.5176</td></tr></table><br/></div></div>"
      ],
      "text/plain": [
       "<IPython.core.display.HTML object>"
      ]
     },
     "metadata": {},
     "output_type": "display_data"
    },
    {
     "data": {
      "text/html": [
       " View run <strong style=\"color:#cdcd00\">shrec-2025_02042025_184904</strong> at: <a href='https://wandb.ai/sburzi/shrec-2025/runs/74bu547p' target=\"_blank\">https://wandb.ai/sburzi/shrec-2025/runs/74bu547p</a><br> View project at: <a href='https://wandb.ai/sburzi/shrec-2025' target=\"_blank\">https://wandb.ai/sburzi/shrec-2025</a><br>Synced 5 W&B file(s), 0 media file(s), 0 artifact file(s) and 0 other file(s)"
      ],
      "text/plain": [
       "<IPython.core.display.HTML object>"
      ]
     },
     "metadata": {},
     "output_type": "display_data"
    },
    {
     "data": {
      "text/html": [
       "Find logs at: <code>./output/wandb/run-20250402_185854-74bu547p/logs</code>"
      ],
      "text/plain": [
       "<IPython.core.display.HTML object>"
      ]
     },
     "metadata": {},
     "output_type": "display_data"
    },
    {
     "data": {
      "text/html": [
       "Tracking run with wandb version 0.19.9"
      ],
      "text/plain": [
       "<IPython.core.display.HTML object>"
      ]
     },
     "metadata": {},
     "output_type": "display_data"
    },
    {
     "data": {
      "text/html": [
       "Run data is saved locally in <code>/mnt/raid1/repos/shrec2025/Protein_Classification/output/wandb/run-20250402_191031-aibu7jdz</code>"
      ],
      "text/plain": [
       "<IPython.core.display.HTML object>"
      ]
     },
     "metadata": {},
     "output_type": "display_data"
    },
    {
     "data": {
      "text/html": [
       "Syncing run <strong><a href='https://wandb.ai/sburzi/shrec-2025/runs/aibu7jdz' target=\"_blank\">shrec-2025_02042025_184904</a></strong> to <a href='https://wandb.ai/sburzi/shrec-2025' target=\"_blank\">Weights & Biases</a> (<a href='https://wandb.me/developer-guide' target=\"_blank\">docs</a>)<br>"
      ],
      "text/plain": [
       "<IPython.core.display.HTML object>"
      ]
     },
     "metadata": {},
     "output_type": "display_data"
    },
    {
     "data": {
      "text/html": [
       " View project at <a href='https://wandb.ai/sburzi/shrec-2025' target=\"_blank\">https://wandb.ai/sburzi/shrec-2025</a>"
      ],
      "text/plain": [
       "<IPython.core.display.HTML object>"
      ]
     },
     "metadata": {},
     "output_type": "display_data"
    },
    {
     "data": {
      "text/html": [
       " View run at <a href='https://wandb.ai/sburzi/shrec-2025/runs/aibu7jdz' target=\"_blank\">https://wandb.ai/sburzi/shrec-2025/runs/aibu7jdz</a>"
      ],
      "text/plain": [
       "<IPython.core.display.HTML object>"
      ]
     },
     "metadata": {},
     "output_type": "display_data"
    },
    {
     "name": "stdout",
     "output_type": "stream",
     "text": [
      "//////////////////// Epoch: 1 ////////////////////\n"
     ]
    },
    {
     "name": "stderr",
     "output_type": "stream",
     "text": [
      "  0%|▎                                                                                                                                                       | 8/4207 [00:00<00:53, 77.88it/s]"
     ]
    },
    {
     "name": "stdout",
     "output_type": "stream",
     "text": [
      "pred: 71 - target: 87 - loss: 4.535 - raw pred: tensor([[ 0.0769, -0.0077, -0.1699, -0.0208,  0.1213,  0.1137, -0.0529,  0.1909,\n",
      "         -0.0033, -0.0480,  0.1762, -0.1518, -0.2138, -0.0459,  0.1387,  0.0398,\n",
      "          0.0932, -0.0214, -0.0814,  0.1626,  0.0420, -0.1555,  0.0725,  0.0403,\n",
      "         -0.0247,  0.0485,  0.0138,  0.0192, -0.1327, -0.2610, -0.1145,  0.0974,\n",
      "         -0.0845, -0.0108, -0.0744, -0.0172, -0.2093,  0.1422, -0.0713, -0.0502,\n",
      "         -0.0979,  0.0408,  0.1444, -0.1951, -0.1516,  0.1646, -0.0378,  0.0514,\n",
      "         -0.0827, -0.0127,  0.0298, -0.1219,  0.0403,  0.0903,  0.1129,  0.1183,\n",
      "         -0.0329,  0.0194,  0.1170,  0.0375, -0.1017, -0.3801, -0.0644,  0.0010,\n",
      "         -0.2330,  0.1291, -0.0614, -0.1348,  0.0104,  0.0483, -0.0171,  0.2203,\n",
      "         -0.0111, -0.0923,  0.1228, -0.2401, -0.0149, -0.0049, -0.0749,  0.0383,\n",
      "          0.0229,  0.1169, -0.0736,  0.1599,  0.1943,  0.1786, -0.0644, -0.0035,\n",
      "         -0.0400, -0.0604, -0.0345, -0.0019, -0.0537]], device='cuda:0',\n",
      "       grad_fn=<AddmmBackward0>)\n"
     ]
    },
    {
     "name": "stderr",
     "output_type": "stream",
     "text": [
      " 24%|███████████████████████████████████▉                                                                                                                 | 1015/4207 [00:11<00:35, 89.79it/s]"
     ]
    },
    {
     "name": "stdout",
     "output_type": "stream",
     "text": [
      "pred: 58 - target: 50 - loss: 3.730 - raw pred: tensor([[ 0.1489, -2.5458, -1.3955, -1.3152, -2.0566,  0.5900, -1.1283,  0.3160,\n",
      "         -0.6321, -1.1530, -0.3999, -2.5245, -1.4749, -0.2966,  0.1856, -0.4056,\n",
      "          0.2847, -1.1705, -2.2342,  0.1843, -0.5451, -2.1317, -1.7355,  0.2643,\n",
      "         -2.3855, -2.3301, -1.7214, -1.7084, -1.9084, -1.1846,  0.3890,  0.3027,\n",
      "         -0.4964, -1.9293, -2.3206, -0.2026, -0.1938, -1.7526, -0.1273, -0.6819,\n",
      "         -3.2204, -0.4976, -2.9929, -0.3487, -0.7444, -0.5340, -1.8857, -0.8720,\n",
      "         -3.3395,  0.3287,  0.2128, -1.2692, -0.0618, -1.8378, -1.3259, -2.1940,\n",
      "         -0.1176, -0.4278,  0.6202, -0.0223, -3.4452, -0.5328, -1.5775, -0.3110,\n",
      "         -2.6394, -2.5330, -0.4416,  0.0123,  0.0489, -3.3867, -3.2630,  0.2545,\n",
      "         -0.1640, -1.8926, -1.9646, -3.0334, -0.1764, -0.3605, -0.4370, -3.1270,\n",
      "         -0.6051, -1.4627, -1.2390,  0.4092, -0.2880, -0.1374, -1.7886, -0.0226,\n",
      "          0.0712, -1.1427, -0.6372, -2.8248, -0.9944]], device='cuda:0',\n",
      "       grad_fn=<AddmmBackward0>)\n"
     ]
    },
    {
     "name": "stderr",
     "output_type": "stream",
     "text": [
      " 48%|███████████████████████████████████████████████████████████████████████▍                                                                             | 2018/4207 [00:23<00:23, 91.53it/s]"
     ]
    },
    {
     "name": "stdout",
     "output_type": "stream",
     "text": [
      "pred: 58 - target: 88 - loss: 3.729 - raw pred: tensor([[-0.2135, -2.5459, -1.1280, -1.2865, -2.3262, -0.0353, -1.1306, -0.2971,\n",
      "         -0.5767, -1.4611, -0.7637, -2.3338, -1.4667, -0.3917,  0.4918,  0.1039,\n",
      "         -0.0690, -1.0166, -2.5234, -0.4232, -0.5493, -2.3955, -1.9480,  0.1536,\n",
      "         -2.9014, -2.5871, -1.4186, -1.8341, -2.3844, -0.9881, -0.1604,  0.1009,\n",
      "         -0.5987, -1.6899, -2.0484,  0.0107, -0.9532, -2.0912, -0.2024, -0.1980,\n",
      "         -4.4059, -0.7910, -4.1421, -0.0113, -0.9757, -0.6256, -1.3355, -0.7041,\n",
      "         -4.3687, -0.2730, -0.0796, -0.6187,  0.1793, -1.6679, -1.6667, -2.6727,\n",
      "         -0.3042, -0.3805,  0.6304,  0.1345, -3.9059, -0.7124, -2.0264, -0.5621,\n",
      "         -2.4672, -2.7001, -0.1787,  0.3550, -0.0667, -4.1977, -3.3693,  0.2621,\n",
      "         -0.4173, -1.5400, -2.7581, -3.1010, -0.3255, -0.5124, -0.5510, -3.6743,\n",
      "         -0.0559, -1.5363, -0.8978,  0.5324, -0.0918, -0.1920, -1.8117, -0.1626,\n",
      "          0.1568, -0.7137, -0.4515, -2.7167, -0.8243]], device='cuda:0',\n",
      "       grad_fn=<AddmmBackward0>)\n"
     ]
    },
    {
     "name": "stderr",
     "output_type": "stream",
     "text": [
      " 72%|██████████████████████████████████████████████████████████████████████████████████████████████████████████▋                                          | 3014/4207 [00:34<00:13, 90.76it/s]"
     ]
    },
    {
     "name": "stdout",
     "output_type": "stream",
     "text": [
      "pred: 67 - target: 53 - loss: 5.500 - raw pred: tensor([[-0.5666, -5.5980, -3.1333, -3.1145, -3.1918, -0.8606, -2.5123, -1.4490,\n",
      "         -2.3043, -3.0894, -1.9054, -4.6916, -2.7341, -0.4345, -0.4119, -0.1702,\n",
      "         -0.9938, -1.8019, -4.3898, -1.0846, -1.4574, -4.4469, -3.8410, -0.4138,\n",
      "         -6.7875, -5.4394, -3.5737, -3.4631, -5.2024, -1.2279, -1.0354, -0.2927,\n",
      "         -1.1591, -2.8526, -3.8647, -0.4005, -2.1313, -3.4331, -0.9132, -0.9389,\n",
      "         -7.4402, -0.8828, -8.1229,  0.2087, -1.7413, -2.0606, -2.5574, -1.4474,\n",
      "         -7.1227, -1.1314, -1.0770, -1.5502,  0.4016, -1.9545, -4.1112, -5.1487,\n",
      "         -1.6075, -0.5327,  0.8830,  0.1315, -6.6674, -1.5379, -3.2514, -2.0177,\n",
      "         -3.5244, -4.7840,  0.2360,  1.5499, -1.0993, -8.3950, -5.2945, -0.2437,\n",
      "         -1.3548, -4.3022, -5.9072, -4.6498, -0.9002, -1.1977, -1.7900, -7.0806,\n",
      "         -0.0670, -3.5589, -1.5351,  0.4433,  0.3691, -0.6211, -4.9874,  0.2537,\n",
      "         -0.2745, -0.8269, -1.3057, -5.1944, -2.2659]], device='cuda:0',\n",
      "       grad_fn=<AddmmBackward0>)\n"
     ]
    },
    {
     "name": "stderr",
     "output_type": "stream",
     "text": [
      " 95%|██████████████████████████████████████████████████████████████████████████████████████████████████████████████████████████████████████████████▏      | 4015/4207 [00:45<00:02, 90.80it/s]"
     ]
    },
    {
     "name": "stdout",
     "output_type": "stream",
     "text": [
      "pred: 58 - target: 58 - loss: 2.880 - raw pred: tensor([[-0.2906, -3.8081, -1.7963, -1.9624, -2.4093, -0.1631, -1.4924, -0.3777,\n",
      "         -0.8494, -1.9834, -0.8693, -3.2214, -1.3874, -0.6093,  0.2593, -0.2130,\n",
      "         -0.8081, -0.7972, -2.8479, -0.5299, -0.8280, -3.0068, -2.6701,  0.0147,\n",
      "         -4.9478, -3.7689, -2.0061, -2.1658, -3.7023, -1.5892, -0.3624,  0.0231,\n",
      "         -0.8258, -2.0998, -2.7899,  0.1050, -1.2754, -2.1166, -0.6773, -0.5693,\n",
      "         -4.8544, -0.9003, -5.9364,  0.0535, -0.9896, -1.5770, -1.8184, -1.1515,\n",
      "         -5.1401, -0.6955, -0.4341, -1.0320,  0.0771, -1.5769, -2.7341, -3.4256,\n",
      "         -0.9660, -0.6943,  0.7871, -0.1346, -4.4120, -1.1396, -2.4942, -0.9720,\n",
      "         -2.4611, -3.1349, -0.5714,  0.5825, -0.2819, -5.9450, -3.3960,  0.0061,\n",
      "         -0.9145, -2.5173, -3.9853, -3.1691, -0.6114, -0.7952, -0.6517, -4.8736,\n",
      "         -0.4076, -1.9419, -1.1052,  0.4815,  0.0161, -0.4599, -2.7661, -0.2283,\n",
      "         -0.0140, -1.1070, -1.1496, -3.7796, -1.1931]], device='cuda:0',\n",
      "       grad_fn=<AddmmBackward0>)\n"
     ]
    },
    {
     "name": "stderr",
     "output_type": "stream",
     "text": [
      "100%|█████████████████████████████████████████████████████████████████████████████████████████████████████████████████████████████████████████████████████| 4207/4207 [00:47<00:00, 88.80it/s]\n"
     ]
    },
    {
     "name": "stdout",
     "output_type": "stream",
     "text": [
      "//////////////////// Validation ////////////////////\n"
     ]
    },
    {
     "name": "stderr",
     "output_type": "stream",
     "text": [
      "  2%|███▏                                                                                                                                                  | 22/1052 [00:00<00:05, 202.78it/s]"
     ]
    },
    {
     "name": "stdout",
     "output_type": "stream",
     "text": [
      "pred: 58 - target: 74 - loss: 8.192 - raw pred: tensor([[-0.3012, -4.7405, -2.0767, -3.4232, -3.7326,  0.4291, -1.7661,  0.2395,\n",
      "          0.2579, -2.1628, -1.8698, -3.0779, -1.6359, -1.4255, -0.0598, -1.3775,\n",
      "         -0.3330, -2.1799, -4.0923, -0.2557, -0.4309, -3.2890, -3.4759, -0.5891,\n",
      "         -6.3107, -5.5438, -4.4236, -2.9611, -4.3199, -1.8147, -0.1534, -0.8361,\n",
      "         -1.8189, -2.0650, -3.0179, -0.2925, -1.5736, -3.4136, -0.5530, -1.2502,\n",
      "         -5.0180, -1.8665, -5.9936, -1.1629, -2.2194, -0.9924, -2.7553, -1.4410,\n",
      "         -5.5783, -0.3343, -0.2968, -1.2177, -1.2279, -2.7443, -3.1338, -4.2427,\n",
      "         -1.4747, -1.1168,  0.6415, -0.0441, -5.1987, -0.5297, -3.3971, -0.1402,\n",
      "         -3.4273, -3.8955, -1.5208, -0.5219, -0.1565, -5.5633, -4.1831,  0.2425,\n",
      "         -0.0789, -3.0607, -4.7449, -4.1166, -1.3317, -1.4756, -0.1639, -4.8558,\n",
      "         -1.2742, -2.1224, -2.3415,  0.1112, -1.3292, -0.7365, -3.3572, -0.4998,\n",
      "         -0.7719, -2.0402, -1.5164, -4.1478, -2.0823]], device='cuda:0')\n",
      "matching = [False] - accuracy = 0.0\n",
      "matching = [False] - accuracy = 0.0\n",
      "matching = [False] - accuracy = 0.0\n",
      "matching = [False] - accuracy = 0.0\n"
     ]
    },
    {
     "name": "stderr",
     "output_type": "stream",
     "text": [
      "  6%|████████▉                                                                                                                                             | 63/1052 [00:00<00:04, 197.99it/s]"
     ]
    },
    {
     "name": "stdout",
     "output_type": "stream",
     "text": [
      "matching = [False] - accuracy = 0.0\n",
      "matching = [False] - accuracy = 0.0\n",
      "matching = [False] - accuracy = 0.0\n",
      "matching = [False] - accuracy = 0.0\n"
     ]
    },
    {
     "name": "stderr",
     "output_type": "stream",
     "text": [
      " 10%|██████████████▋                                                                                                                                      | 104/1052 [00:00<00:04, 196.88it/s]"
     ]
    },
    {
     "name": "stdout",
     "output_type": "stream",
     "text": [
      "matching = [False] - accuracy = 0.0\n",
      "matching = [False] - accuracy = 0.0\n",
      "matching = [False] - accuracy = 0.0\n",
      "matching = [False] - accuracy = 0.0\n"
     ]
    },
    {
     "name": "stderr",
     "output_type": "stream",
     "text": [
      " 14%|████████████████████▍                                                                                                                                | 144/1052 [00:00<00:04, 185.55it/s]"
     ]
    },
    {
     "name": "stdout",
     "output_type": "stream",
     "text": [
      "matching = [False] - accuracy = 0.0\n",
      "matching = [False] - accuracy = 0.0\n",
      "matching = [False] - accuracy = 0.0\n",
      "matching = [False] - accuracy = 0.0\n"
     ]
    },
    {
     "name": "stderr",
     "output_type": "stream",
     "text": [
      " 17%|█████████████████████████▉                                                                                                                           | 183/1052 [00:00<00:04, 183.40it/s]"
     ]
    },
    {
     "name": "stdout",
     "output_type": "stream",
     "text": [
      "matching = [False] - accuracy = 0.0\n",
      "matching = [False] - accuracy = 0.0\n",
      "matching = [False] - accuracy = 0.0\n",
      "matching = [False] - accuracy = 0.0\n"
     ]
    },
    {
     "name": "stderr",
     "output_type": "stream",
     "text": [
      " 21%|███████████████████████████████▊                                                                                                                     | 225/1052 [00:01<00:04, 194.63it/s]"
     ]
    },
    {
     "name": "stdout",
     "output_type": "stream",
     "text": [
      "matching = [False] - accuracy = 0.0\n",
      "matching = [False] - accuracy = 0.0\n",
      "matching = [False] - accuracy = 0.0\n",
      "matching = [False] - accuracy = 0.0\n"
     ]
    },
    {
     "name": "stderr",
     "output_type": "stream",
     "text": [
      " 25%|█████████████████████████████████████▌                                                                                                               | 265/1052 [00:01<00:04, 191.06it/s]"
     ]
    },
    {
     "name": "stdout",
     "output_type": "stream",
     "text": [
      "matching = [False] - accuracy = 0.0\n",
      "matching = [False] - accuracy = 0.0\n",
      "matching = [False] - accuracy = 0.0\n",
      "matching = [False] - accuracy = 0.0\n"
     ]
    },
    {
     "name": "stderr",
     "output_type": "stream",
     "text": [
      " 29%|███████████████████████████████████████████▌                                                                                                         | 308/1052 [00:01<00:03, 201.58it/s]"
     ]
    },
    {
     "name": "stdout",
     "output_type": "stream",
     "text": [
      "matching = [False] - accuracy = 0.0\n",
      "matching = [False] - accuracy = 0.0\n",
      "matching = [False] - accuracy = 0.0\n",
      "matching = [False] - accuracy = 0.0\n",
      "matching = [False] - accuracy = 0.0\n"
     ]
    },
    {
     "name": "stderr",
     "output_type": "stream",
     "text": [
      " 36%|█████████████████████████████████████████████████████▍                                                                                               | 377/1052 [00:01<00:03, 212.71it/s]"
     ]
    },
    {
     "name": "stdout",
     "output_type": "stream",
     "text": [
      "matching = [False] - accuracy = 0.0\n",
      "matching = [False] - accuracy = 0.0\n",
      "matching = [False] - accuracy = 0.0\n",
      "matching = [False] - accuracy = 0.0\n",
      "matching = [False] - accuracy = 0.0\n"
     ]
    },
    {
     "name": "stderr",
     "output_type": "stream",
     "text": [
      "\r",
      " 38%|████████████████████████████████████████████████████████▌                                                                                            | 399/1052 [00:02<00:03, 207.61it/s]"
     ]
    },
    {
     "name": "stdout",
     "output_type": "stream",
     "text": [
      "matching = [False] - accuracy = 0.0\n",
      "matching = [False] - accuracy = 0.0\n",
      "matching = [False] - accuracy = 0.0\n",
      "matching = [False] - accuracy = 0.0\n"
     ]
    },
    {
     "name": "stderr",
     "output_type": "stream",
     "text": [
      " 42%|██████████████████████████████████████████████████████████████▍                                                                                      | 441/1052 [00:02<00:03, 201.01it/s]"
     ]
    },
    {
     "name": "stdout",
     "output_type": "stream",
     "text": [
      "matching = [False] - accuracy = 0.0\n",
      "matching = [False] - accuracy = 0.0\n",
      "matching = [False] - accuracy = 0.0\n",
      "matching = [False] - accuracy = 0.0\n"
     ]
    },
    {
     "name": "stderr",
     "output_type": "stream",
     "text": [
      " 46%|████████████████████████████████████████████████████████████████████▎                                                                                | 482/1052 [00:02<00:02, 191.53it/s]"
     ]
    },
    {
     "name": "stdout",
     "output_type": "stream",
     "text": [
      "matching = [False] - accuracy = 0.0\n",
      "matching = [False] - accuracy = 0.0\n",
      "matching = [False] - accuracy = 0.0\n",
      "matching = [False] - accuracy = 0.0\n"
     ]
    },
    {
     "name": "stderr",
     "output_type": "stream",
     "text": [
      " 50%|██████████████████████████████████████████████████████████████████████████▌                                                                          | 526/1052 [00:02<00:02, 201.66it/s]"
     ]
    },
    {
     "name": "stdout",
     "output_type": "stream",
     "text": [
      "matching = [False] - accuracy = 0.0\n",
      "matching = [False] - accuracy = 0.0\n",
      "matching = [False] - accuracy = 0.0\n",
      "matching = [False] - accuracy = 0.0\n",
      "matching = [False] - accuracy = 0.0\n"
     ]
    },
    {
     "name": "stderr",
     "output_type": "stream",
     "text": [
      " 56%|██████████████████████████████████████████████████████████████████████████████████▉                                                                  | 586/1052 [00:03<00:02, 187.17it/s]"
     ]
    },
    {
     "name": "stdout",
     "output_type": "stream",
     "text": [
      "matching = [False] - accuracy = 0.0\n",
      "matching = [False] - accuracy = 0.0\n",
      "matching = [False] - accuracy = 0.0\n",
      "matching = [False] - accuracy = 0.0\n"
     ]
    },
    {
     "name": "stderr",
     "output_type": "stream",
     "text": [
      " 59%|████████████████████████████████████████████████████████████████████████████████████████▌                                                            | 625/1052 [00:03<00:02, 187.88it/s]"
     ]
    },
    {
     "name": "stdout",
     "output_type": "stream",
     "text": [
      "matching = [False] - accuracy = 0.0\n",
      "matching = [False] - accuracy = 0.0\n",
      "matching = [False] - accuracy = 0.0\n",
      "matching = [False] - accuracy = 0.0\n"
     ]
    },
    {
     "name": "stderr",
     "output_type": "stream",
     "text": [
      " 63%|██████████████████████████████████████████████████████████████████████████████████████████████▎                                                      | 666/1052 [00:03<00:02, 188.96it/s]"
     ]
    },
    {
     "name": "stdout",
     "output_type": "stream",
     "text": [
      "matching = [False] - accuracy = 0.0\n",
      "matching = [False] - accuracy = 0.0\n",
      "matching = [False] - accuracy = 0.0\n",
      "matching = [False] - accuracy = 0.0\n"
     ]
    },
    {
     "name": "stderr",
     "output_type": "stream",
     "text": [
      " 67%|████████████████████████████████████████████████████████████████████████████████████████████████████▏                                                | 707/1052 [00:03<00:01, 195.43it/s]"
     ]
    },
    {
     "name": "stdout",
     "output_type": "stream",
     "text": [
      "matching = [False] - accuracy = 0.0\n",
      "matching = [False] - accuracy = 0.0\n",
      "matching = [False] - accuracy = 0.0\n",
      "matching = [False] - accuracy = 0.0\n"
     ]
    },
    {
     "name": "stderr",
     "output_type": "stream",
     "text": [
      " 71%|█████████████████████████████████████████████████████████████████████████████████████████████████████████▋                                           | 746/1052 [00:03<00:01, 184.85it/s]"
     ]
    },
    {
     "name": "stdout",
     "output_type": "stream",
     "text": [
      "matching = [False] - accuracy = 0.0\n",
      "matching = [False] - accuracy = 0.0\n",
      "matching = [False] - accuracy = 0.0\n",
      "matching = [False] - accuracy = 0.0\n"
     ]
    },
    {
     "name": "stderr",
     "output_type": "stream",
     "text": [
      " 75%|███████████████████████████████████████████████████████████████████████████████████████████████████████████████▌                                     | 788/1052 [00:04<00:01, 193.91it/s]"
     ]
    },
    {
     "name": "stdout",
     "output_type": "stream",
     "text": [
      "matching = [False] - accuracy = 0.0\n",
      "matching = [False] - accuracy = 0.0\n",
      "matching = [False] - accuracy = 0.0\n",
      "matching = [False] - accuracy = 0.0\n",
      "matching = [False] - accuracy = 0.0\n"
     ]
    },
    {
     "name": "stderr",
     "output_type": "stream",
     "text": [
      " 79%|█████████████████████████████████████████████████████████████████████████████████████████████████████████████████████▊                               | 832/1052 [00:04<00:01, 198.70it/s]"
     ]
    },
    {
     "name": "stdout",
     "output_type": "stream",
     "text": [
      "matching = [False] - accuracy = 0.0\n",
      "matching = [False] - accuracy = 0.0\n",
      "matching = [False] - accuracy = 0.0\n",
      "matching = [False] - accuracy = 0.0\n",
      "matching = [False] - accuracy = 0.0\n"
     ]
    },
    {
     "name": "stderr",
     "output_type": "stream",
     "text": [
      " 83%|████████████████████████████████████████████████████████████████████████████████████████████████████████████████████████████▏                        | 877/1052 [00:04<00:00, 194.88it/s]"
     ]
    },
    {
     "name": "stdout",
     "output_type": "stream",
     "text": [
      "matching = [False] - accuracy = 0.0\n",
      "matching = [False] - accuracy = 0.0\n",
      "matching = [False] - accuracy = 0.0\n",
      "matching = [False] - accuracy = 0.0\n"
     ]
    },
    {
     "name": "stderr",
     "output_type": "stream",
     "text": [
      " 87%|██████████████████████████████████████████████████████████████████████████████████████████████████████████████████████████████████                   | 918/1052 [00:04<00:00, 197.21it/s]"
     ]
    },
    {
     "name": "stdout",
     "output_type": "stream",
     "text": [
      "matching = [False] - accuracy = 0.0\n",
      "matching = [False] - accuracy = 0.0\n",
      "matching = [False] - accuracy = 0.0\n",
      "matching = [False] - accuracy = 0.0\n"
     ]
    },
    {
     "name": "stderr",
     "output_type": "stream",
     "text": [
      " 91%|███████████████████████████████████████████████████████████████████████████████████████████████████████████████████████████████████████▊             | 959/1052 [00:04<00:00, 194.55it/s]"
     ]
    },
    {
     "name": "stdout",
     "output_type": "stream",
     "text": [
      "matching = [False] - accuracy = 0.0\n",
      "matching = [False] - accuracy = 0.0\n",
      "matching = [False] - accuracy = 0.0\n",
      "matching = [False] - accuracy = 0.0\n",
      "matching = [False] - accuracy = 0.0\n"
     ]
    },
    {
     "name": "stderr",
     "output_type": "stream",
     "text": [
      " 95%|█████████████████████████████████████████████████████████████████████████████████████████████████████████████████████████████████████████████       | 1003/1052 [00:05<00:00, 192.82it/s]"
     ]
    },
    {
     "name": "stdout",
     "output_type": "stream",
     "text": [
      "matching = [False] - accuracy = 0.0\n",
      "matching = [False] - accuracy = 0.0\n",
      "pred: 58 - target: 54 - loss: 6.799 - raw pred: tensor([[-0.2708, -5.0211, -2.2312, -3.3999, -3.8298,  0.3498, -1.9335,  0.1048,\n",
      "          0.0390, -2.4755, -1.7599, -3.3823, -1.7467, -1.3072, -0.0156, -1.1633,\n",
      "         -0.4858, -2.1027, -4.3292, -0.3419, -0.5787, -3.3321, -3.7145, -0.5571,\n",
      "         -6.9033, -5.7406, -4.3138, -3.0343, -4.6207, -1.9228, -0.2442, -0.6626,\n",
      "         -1.7809, -2.2167, -3.2909, -0.2286, -1.7485, -3.5178, -0.6560, -1.1432,\n",
      "         -5.6065, -1.6844, -6.7028, -1.0014, -2.1291, -1.2542, -2.8422, -1.4705,\n",
      "         -6.0444, -0.5140, -0.3534, -1.3444, -0.9947, -2.7849, -3.3531, -4.5749,\n",
      "         -1.4638, -0.9957,  0.7950,  0.1007, -5.6620, -0.6781, -3.5260, -0.2176,\n",
      "         -3.5871, -4.1009, -1.3213, -0.2112, -0.1985, -6.4302, -4.5125,  0.2914,\n",
      "         -0.1575, -3.2248, -5.2072, -4.3701, -1.2443, -1.4540, -0.3454, -5.4936,\n",
      "         -1.1734, -2.2578, -2.2596,  0.2524, -1.1452, -0.6525, -3.6468, -0.3824,\n",
      "         -0.6745, -1.9496, -1.4897, -4.4316, -2.0377]], device='cuda:0')\n",
      "matching = [False] - accuracy = 0.0\n",
      "matching = [False] - accuracy = 0.0\n"
     ]
    },
    {
     "name": "stderr",
     "output_type": "stream",
     "text": [
      "100%|████████████████████████████████████████████████████████████████████████████████████████████████████████████████████████████████████████████████████| 1052/1052 [00:05<00:00, 194.76it/s]\n"
     ]
    },
    {
     "name": "stdout",
     "output_type": "stream",
     "text": [
      "matching = [False] - accuracy = 0.0\n",
      "matching = [False] - accuracy = 0.0\n",
      "matching = [False] - accuracy = 0.0\n",
      "matching = [False] - accuracy = 0.0\n",
      "//////////////////// Epoch: 2 ////////////////////\n"
     ]
    },
    {
     "name": "stderr",
     "output_type": "stream",
     "text": [
      "\r",
      "  0%|                                                                                                                                                                | 0/4207 [00:00<?, ?it/s]"
     ]
    },
    {
     "name": "stdout",
     "output_type": "stream",
     "text": [
      "pred: 67 - target: 31 - loss: 3.433 - raw pred: tensor([[-3.4565e-01, -5.4430e+00, -2.6614e+00, -2.6774e+00, -3.2196e+00,\n",
      "         -5.4419e-01, -2.2503e+00, -1.1864e+00, -1.7391e+00, -3.3622e+00,\n",
      "         -1.2014e+00, -4.5676e+00, -2.3233e+00, -5.2517e-01, -1.4655e-01,\n",
      "          1.2543e-01, -1.0747e+00, -1.4914e+00, -3.9329e+00, -8.2115e-01,\n",
      "         -1.2958e+00, -3.5516e+00, -3.6696e+00, -4.2682e-01, -7.1325e+00,\n",
      "         -5.0081e+00, -2.8276e+00, -2.7634e+00, -5.4403e+00, -1.9513e+00,\n",
      "         -1.0788e+00,  1.3348e-01, -1.0331e+00, -2.7023e+00, -3.5914e+00,\n",
      "          6.4714e-03, -2.1962e+00, -3.1485e+00, -8.2658e-01, -3.8482e-01,\n",
      "         -6.6895e+00, -6.8782e-01, -8.3046e+00, -4.7553e-02, -1.4521e+00,\n",
      "         -2.6849e+00, -2.4927e+00, -1.4412e+00, -6.6477e+00, -1.4356e+00,\n",
      "         -1.0327e+00, -1.6436e+00,  1.3629e-01, -2.0106e+00, -4.1455e+00,\n",
      "         -5.1189e+00, -1.5915e+00, -5.7684e-01,  5.3943e-01,  4.8098e-01,\n",
      "         -6.1907e+00, -1.3760e+00, -3.4428e+00, -1.0954e+00, -3.3956e+00,\n",
      "         -4.4886e+00, -2.0917e-01,  1.2799e+00, -7.0829e-01, -8.7211e+00,\n",
      "         -4.6521e+00, -1.0043e-01, -1.2956e+00, -3.8508e+00, -6.3181e+00,\n",
      "         -4.3086e+00, -8.6173e-01, -1.2155e+00, -1.7838e+00, -7.1187e+00,\n",
      "         -3.5009e-01, -2.7854e+00, -1.3474e+00,  6.5017e-01,  9.0766e-02,\n",
      "         -1.9206e-01, -4.4209e+00,  6.8861e-02,  3.6988e-02, -1.1034e+00,\n",
      "         -1.0974e+00, -5.6079e+00, -1.5426e+00]], device='cuda:0',\n",
      "       grad_fn=<AddmmBackward0>)\n"
     ]
    },
    {
     "name": "stderr",
     "output_type": "stream",
     "text": [
      " 24%|███████████████████████████████████▊                                                                                                                 | 1012/4207 [00:10<00:36, 87.55it/s]"
     ]
    },
    {
     "name": "stdout",
     "output_type": "stream",
     "text": [
      "pred: 67 - target: 67 - loss: 2.461 - raw pred: tensor([[-6.5470e-01, -5.5569e+00, -2.9372e+00, -2.4411e+00, -2.4623e+00,\n",
      "         -1.1672e+00, -1.9374e+00, -2.2985e+00, -3.0843e+00, -3.2460e+00,\n",
      "         -1.7644e+00, -4.5512e+00, -2.5691e+00, -4.5337e-01, -2.9039e-01,\n",
      "         -6.3550e-02, -2.0199e+00, -1.1755e+00, -3.6237e+00, -1.0362e+00,\n",
      "         -2.0480e+00, -3.6037e+00, -3.5774e+00, -4.3417e-01, -6.3283e+00,\n",
      "         -4.0011e+00, -2.5094e+00, -2.7536e+00, -5.3071e+00, -1.7260e+00,\n",
      "         -1.9899e+00,  4.6274e-01, -7.4881e-01, -3.1043e+00, -3.9138e+00,\n",
      "         -4.9960e-01, -2.6735e+00, -2.6445e+00, -8.2077e-01,  3.1430e-01,\n",
      "         -6.2102e+00, -4.1586e-01, -8.3516e+00,  2.1558e-01, -9.0597e-01,\n",
      "         -3.6254e+00, -1.7610e+00, -1.2041e+00, -6.1903e+00, -2.0300e+00,\n",
      "         -1.6106e+00, -2.2919e+00,  2.9482e-02, -1.6982e+00, -4.1009e+00,\n",
      "         -4.7852e+00, -1.9689e+00, -3.7147e-02, -5.1374e-02, -3.3216e-03,\n",
      "         -6.2463e+00, -1.4817e+00, -3.3945e+00, -2.1509e+00, -2.6185e+00,\n",
      "         -4.3518e+00, -2.3712e-01,  1.0470e+00, -7.2455e-01, -8.9943e+00,\n",
      "         -3.4193e+00, -4.9368e-01, -2.1596e+00, -4.3598e+00, -7.1373e+00,\n",
      "         -3.9258e+00, -3.9898e-01, -6.2906e-01, -3.0856e+00, -8.1440e+00,\n",
      "          8.5101e-02, -3.2437e+00, -7.8745e-01,  1.7779e-01,  2.8948e-01,\n",
      "         -1.6630e-01, -5.2227e+00, -2.9214e-01,  2.5498e-01, -4.0981e-01,\n",
      "         -8.4729e-01, -6.1367e+00, -1.0829e+00]], device='cuda:0',\n",
      "       grad_fn=<AddmmBackward0>)\n"
     ]
    },
    {
     "name": "stderr",
     "output_type": "stream",
     "text": [
      " 48%|███████████████████████████████████████████████████████████████████████▎                                                                             | 2015/4207 [00:21<00:23, 91.54it/s]"
     ]
    },
    {
     "name": "stdout",
     "output_type": "stream",
     "text": [
      "pred: 58 - target: 47 - loss: 5.163 - raw pred: tensor([[-0.1529, -6.8442, -2.6077, -2.9752, -4.7065, -0.0609, -2.4641, -1.3955,\n",
      "         -2.2093, -3.0748, -2.3555, -3.9638, -2.4313, -2.7053,  0.5417, -2.6877,\n",
      "         -2.4844, -3.3482, -4.9221, -0.6770, -1.4621, -4.0699, -3.9607, -0.2274,\n",
      "         -7.6515, -5.2434, -4.3008, -4.2797, -6.2101, -2.5199, -1.1343, -0.5702,\n",
      "         -2.7742, -2.6970, -4.6235, -1.0859, -1.7683, -4.1017, -1.4639, -3.4194,\n",
      "         -7.7839, -4.1553, -9.3516, -1.9965, -2.7422, -2.3657, -4.3850, -2.0508,\n",
      "         -6.6821, -1.4220, -1.4555, -1.9682,  0.3384, -2.5849, -3.6974, -7.3268,\n",
      "         -0.5557, -2.1094,  1.2192,  0.2778, -8.3132, -0.5097, -4.9200, -1.4279,\n",
      "         -4.7082, -5.9923, -1.4401, -2.2209,  0.0776, -8.5456, -6.2490, -0.3348,\n",
      "         -1.3485, -4.1396, -7.9453, -5.9074, -2.0532, -2.3923, -2.8678, -8.2752,\n",
      "         -1.8248, -2.4160, -4.0517,  0.2333, -1.0701, -2.2146, -6.2677, -1.3320,\n",
      "         -1.3280, -4.1872, -1.2955, -5.6077, -3.5118]], device='cuda:0',\n",
      "       grad_fn=<AddmmBackward0>)\n"
     ]
    },
    {
     "name": "stderr",
     "output_type": "stream",
     "text": [
      " 72%|██████████████████████████████████████████████████████████████████████████████████████████████████████████▌                                          | 3009/4207 [00:32<00:14, 85.52it/s]"
     ]
    },
    {
     "name": "stdout",
     "output_type": "stream",
     "text": [
      "pred: 67 - target: 67 - loss: 2.397 - raw pred: tensor([[-2.4701, -6.1632, -5.0422, -3.7430, -2.6313, -2.2915, -2.8811, -2.8153,\n",
      "         -5.2202, -5.2427, -1.3208, -6.2032, -3.6829, -0.1093, -2.0146,  0.2584,\n",
      "         -3.6927, -0.8471, -3.7682, -2.9950, -4.3591, -3.7445, -4.4276, -1.1773,\n",
      "         -6.7399, -5.5963, -2.3479, -3.0601, -5.6798, -2.5613, -4.4718, -0.5698,\n",
      "         -0.2792, -5.5757, -4.2288, -1.0571, -3.6449, -2.3034, -0.9387, -0.1763,\n",
      "         -6.5433, -0.1890, -8.5332,  0.0187, -1.3013, -5.3342, -1.6469, -2.2535,\n",
      "         -7.4394, -3.7690, -3.1824, -3.7523, -1.2566, -1.7661, -5.3729, -5.5512,\n",
      "         -3.5619, -0.6633, -1.9937, -2.3050, -7.2305, -3.4125, -3.8025, -4.4430,\n",
      "         -3.1926, -5.4991, -0.1237,  0.6675, -2.2443, -9.5798, -3.7508, -1.4242,\n",
      "         -4.3447, -5.4819, -8.1740, -4.3686, -0.3758, -0.9371, -4.3665, -9.0536,\n",
      "         -0.0661, -4.3521, -0.6312, -0.0225, -0.8506, -0.3550, -6.1777, -0.1267,\n",
      "         -0.3786, -0.6393, -2.1748, -6.6409, -1.4924]], device='cuda:0',\n",
      "       grad_fn=<AddmmBackward0>)\n"
     ]
    },
    {
     "name": "stderr",
     "output_type": "stream",
     "text": [
      " 96%|██████████████████████████████████████████████████████████████████████████████████████████████████████████████████████████████████████████████▎      | 4018/4207 [00:44<00:02, 91.99it/s]"
     ]
    },
    {
     "name": "stdout",
     "output_type": "stream",
     "text": [
      "pred: 52 - target: 31 - loss: 2.205 - raw pred: tensor([[-2.0295e+00, -8.9057e+00, -3.6986e+00, -2.7425e+00, -6.1915e+00,\n",
      "         -1.1778e+00, -3.1307e+00, -2.9686e+00, -4.7790e+00, -4.4472e+00,\n",
      "         -2.2316e+00, -5.4206e+00, -3.7102e+00, -4.5218e+00,  2.2337e-02,\n",
      "         -4.5776e+00, -4.2876e+00, -5.0584e+00, -5.1848e+00, -1.4019e+00,\n",
      "         -3.6044e+00, -5.6535e+00, -4.6067e+00,  2.2176e-03, -9.9498e+00,\n",
      "         -6.7218e+00, -3.9533e+00, -4.2194e+00, -6.7333e+00, -2.7542e+00,\n",
      "         -3.7310e+00,  4.9215e-01, -4.0034e+00, -4.2913e+00, -6.2983e+00,\n",
      "         -7.7234e-01, -2.8466e+00, -5.7719e+00, -2.0488e+00, -5.7408e+00,\n",
      "         -1.0410e+01, -6.2653e+00, -1.2851e+01, -2.3313e+00, -4.5526e+00,\n",
      "         -5.4481e+00, -6.7051e+00, -2.1165e+00, -1.0193e+01, -1.9438e+00,\n",
      "         -2.4042e+00, -3.4736e+00,  6.4098e-01, -2.8150e+00, -5.4564e+00,\n",
      "         -8.9878e+00, -2.0038e+00, -1.7562e+00,  5.2815e-01, -1.0729e+00,\n",
      "         -1.0477e+01, -1.6055e+00, -4.7484e+00, -3.9777e+00, -3.8392e+00,\n",
      "         -8.1427e+00, -1.7921e+00, -2.9894e+00, -5.2764e-01, -1.3713e+01,\n",
      "         -8.3724e+00, -5.8035e-01, -3.8412e+00, -5.0517e+00, -9.2983e+00,\n",
      "         -6.8642e+00, -3.2340e+00, -3.1220e+00, -4.9085e+00, -1.2255e+01,\n",
      "         -2.5930e+00, -2.3863e+00, -5.4699e+00, -9.9531e-01,  3.4791e-02,\n",
      "         -2.5446e+00, -8.3982e+00, -1.2948e+00, -5.3936e-01, -5.0532e+00,\n",
      "         -1.6752e+00, -8.1662e+00, -5.7050e+00]], device='cuda:0',\n",
      "       grad_fn=<AddmmBackward0>)\n"
     ]
    },
    {
     "name": "stderr",
     "output_type": "stream",
     "text": [
      "100%|█████████████████████████████████████████████████████████████████████████████████████████████████████████████████████████████████████████████████████| 4207/4207 [00:46<00:00, 91.13it/s]\n"
     ]
    },
    {
     "name": "stdout",
     "output_type": "stream",
     "text": [
      "//////////////////// Validation ////////////////////\n"
     ]
    },
    {
     "name": "stderr",
     "output_type": "stream",
     "text": [
      "  2%|██▊                                                                                                                                                   | 20/1052 [00:00<00:05, 196.11it/s]"
     ]
    },
    {
     "name": "stdout",
     "output_type": "stream",
     "text": [
      "pred: 84 - target: 75 - loss: 8.781 - raw pred: tensor([[ -1.5682,  -8.1815,  -4.1747,  -2.7074,  -5.8137,  -2.6543,  -3.0262,\n",
      "          -3.3564,  -5.3738,  -5.3155,  -2.3944,  -5.7852,  -3.5769,  -4.0716,\n",
      "          -1.7960,  -3.8843,  -4.2829,  -5.1406,  -4.9020,  -2.6541,  -4.4008,\n",
      "          -5.4595,  -4.1518,  -0.9037,  -8.8902,  -6.6299,  -3.6313,  -3.8987,\n",
      "          -6.4328,  -2.3099,  -4.7299,  -0.4563,  -2.8218,  -5.2528,  -4.6771,\n",
      "          -1.0575,  -3.4582,  -5.5474,  -1.3304,  -4.3858,  -8.7631,  -5.4485,\n",
      "         -12.1724,  -1.7272,  -3.6724,  -5.6602,  -5.6313,  -2.0004,  -9.9841,\n",
      "          -3.4251,  -2.4849,  -3.3308,  -0.9977,  -2.6936,  -6.3827,  -8.4654,\n",
      "          -2.4650,  -2.0949,  -1.6409,  -1.2462,  -9.8418,  -2.7221,  -4.6463,\n",
      "          -4.9696,  -4.2448,  -7.7639,  -1.3212,  -1.9410,  -2.2693, -13.2022,\n",
      "          -7.3876,  -0.8288,  -4.6681,  -5.4050,  -9.0729,  -6.6055,  -2.5168,\n",
      "          -2.9821,  -5.0984, -11.2780,  -1.8898,  -4.1271,  -4.7272,  -0.3939,\n",
      "          -0.1181,  -1.5068,  -8.5159,  -1.2233,  -0.3781,  -3.6907,  -1.8422,\n",
      "          -8.4344,  -4.8239]], device='cuda:0')\n",
      "matching = [False] - accuracy = 0.0\n",
      "matching = [False] - accuracy = 0.0\n",
      "matching = [False] - accuracy = 0.0\n",
      "matching = [False] - accuracy = 0.0\n"
     ]
    },
    {
     "name": "stderr",
     "output_type": "stream",
     "text": [
      "\r",
      "  4%|█████▊                                                                                                                                                | 41/1052 [00:00<00:04, 202.93it/s]"
     ]
    },
    {
     "name": "stdout",
     "output_type": "stream",
     "text": [
      "matching = [False] - accuracy = 0.0\n"
     ]
    },
    {
     "name": "stderr",
     "output_type": "stream",
     "text": [
      "\r",
      "  6%|█████████▏                                                                                                                                            | 64/1052 [00:00<00:04, 212.36it/s]"
     ]
    },
    {
     "name": "stdout",
     "output_type": "stream",
     "text": [
      "matching = [False] - accuracy = 0.0\n",
      "matching = [False] - accuracy = 0.0\n",
      "matching = [False] - accuracy = 0.0\n",
      "matching = [False] - accuracy = 0.0\n"
     ]
    },
    {
     "name": "stderr",
     "output_type": "stream",
     "text": [
      "\r",
      "  8%|████████████▋                                                                                                                                         | 89/1052 [00:00<00:04, 224.32it/s]"
     ]
    },
    {
     "name": "stdout",
     "output_type": "stream",
     "text": [
      "matching = [False] - accuracy = 0.0\n"
     ]
    },
    {
     "name": "stderr",
     "output_type": "stream",
     "text": [
      "\r",
      " 11%|███████████████▊                                                                                                                                     | 112/1052 [00:00<00:04, 210.11it/s]"
     ]
    },
    {
     "name": "stdout",
     "output_type": "stream",
     "text": [
      "matching = [False] - accuracy = 0.0\n",
      "matching = [False] - accuracy = 0.0\n",
      "matching = [False] - accuracy = 0.0\n"
     ]
    },
    {
     "name": "stderr",
     "output_type": "stream",
     "text": [
      "\r",
      " 13%|██████████████████▉                                                                                                                                  | 134/1052 [00:00<00:04, 198.88it/s]"
     ]
    },
    {
     "name": "stdout",
     "output_type": "stream",
     "text": [
      "matching = [False] - accuracy = 0.0\n"
     ]
    },
    {
     "name": "stderr",
     "output_type": "stream",
     "text": [
      "\r",
      " 15%|█████████████████████▉                                                                                                                               | 155/1052 [00:00<00:04, 199.07it/s]"
     ]
    },
    {
     "name": "stdout",
     "output_type": "stream",
     "text": [
      "matching = [True] - accuracy = 1.0\n",
      "matching = [False] - accuracy = 0.0\n",
      "matching = [False] - accuracy = 0.0\n",
      "matching = [False] - accuracy = 0.0\n"
     ]
    },
    {
     "name": "stderr",
     "output_type": "stream",
     "text": [
      " 21%|██████████████████████████████▉                                                                                                                      | 218/1052 [00:01<00:04, 201.65it/s]"
     ]
    },
    {
     "name": "stdout",
     "output_type": "stream",
     "text": [
      "matching = [False] - accuracy = 0.0\n",
      "matching = [True] - accuracy = 1.0\n",
      "matching = [False] - accuracy = 0.0\n",
      "matching = [False] - accuracy = 0.0\n",
      "matching = [False] - accuracy = 0.0\n"
     ]
    },
    {
     "name": "stderr",
     "output_type": "stream",
     "text": [
      " 25%|████████████████████████████████████▊                                                                                                                | 260/1052 [00:01<00:04, 197.55it/s]"
     ]
    },
    {
     "name": "stdout",
     "output_type": "stream",
     "text": [
      "matching = [False] - accuracy = 0.0\n",
      "matching = [False] - accuracy = 0.0\n",
      "matching = [False] - accuracy = 0.0\n",
      "matching = [False] - accuracy = 0.0\n"
     ]
    },
    {
     "name": "stderr",
     "output_type": "stream",
     "text": [
      " 29%|██████████████████████████████████████████▋                                                                                                          | 301/1052 [00:01<00:03, 198.22it/s]"
     ]
    },
    {
     "name": "stdout",
     "output_type": "stream",
     "text": [
      "matching = [False] - accuracy = 0.0\n",
      "matching = [False] - accuracy = 0.0\n",
      "matching = [False] - accuracy = 0.0\n",
      "matching = [False] - accuracy = 0.0\n"
     ]
    },
    {
     "name": "stderr",
     "output_type": "stream",
     "text": [
      " 32%|████████████████████████████████████████████████▏                                                                                                    | 340/1052 [00:01<00:03, 184.25it/s]"
     ]
    },
    {
     "name": "stdout",
     "output_type": "stream",
     "text": [
      "matching = [False] - accuracy = 0.0\n",
      "matching = [False] - accuracy = 0.0\n",
      "matching = [False] - accuracy = 0.0\n",
      "matching = [False] - accuracy = 0.0\n"
     ]
    },
    {
     "name": "stderr",
     "output_type": "stream",
     "text": [
      " 36%|██████████████████████████████████████████████████████                                                                                               | 382/1052 [00:01<00:03, 195.46it/s]"
     ]
    },
    {
     "name": "stdout",
     "output_type": "stream",
     "text": [
      "matching = [False] - accuracy = 0.0\n",
      "matching = [False] - accuracy = 0.0\n",
      "matching = [False] - accuracy = 0.0\n",
      "matching = [False] - accuracy = 0.0\n",
      "matching = [False] - accuracy = 0.0\n"
     ]
    },
    {
     "name": "stderr",
     "output_type": "stream",
     "text": [
      " 40%|████████████████████████████████████████████████████████████▎                                                                                        | 426/1052 [00:02<00:03, 202.41it/s]"
     ]
    },
    {
     "name": "stdout",
     "output_type": "stream",
     "text": [
      "matching = [False] - accuracy = 0.0\n",
      "matching = [False] - accuracy = 0.0\n",
      "matching = [False] - accuracy = 0.0\n",
      "matching = [False] - accuracy = 0.0\n"
     ]
    },
    {
     "name": "stderr",
     "output_type": "stream",
     "text": [
      " 44%|██████████████████████████████████████████████████████████████████▎                                                                                  | 468/1052 [00:02<00:02, 202.96it/s]"
     ]
    },
    {
     "name": "stdout",
     "output_type": "stream",
     "text": [
      "matching = [False] - accuracy = 0.0\n",
      "matching = [False] - accuracy = 0.0\n",
      "matching = [False] - accuracy = 0.0\n",
      "matching = [False] - accuracy = 0.0\n",
      "matching = [False] - accuracy = 0.0\n"
     ]
    },
    {
     "name": "stderr",
     "output_type": "stream",
     "text": [
      " 48%|████████████████████████████████████████████████████████████████████████▏                                                                            | 510/1052 [00:02<00:02, 202.62it/s]"
     ]
    },
    {
     "name": "stdout",
     "output_type": "stream",
     "text": [
      "matching = [False] - accuracy = 0.0\n",
      "matching = [False] - accuracy = 0.0\n",
      "matching = [False] - accuracy = 0.0\n",
      "matching = [False] - accuracy = 0.0\n"
     ]
    },
    {
     "name": "stderr",
     "output_type": "stream",
     "text": [
      " 52%|██████████████████████████████████████████████████████████████████████████████                                                                       | 551/1052 [00:02<00:02, 192.12it/s]"
     ]
    },
    {
     "name": "stdout",
     "output_type": "stream",
     "text": [
      "matching = [False] - accuracy = 0.0\n",
      "matching = [False] - accuracy = 0.0\n",
      "matching = [False] - accuracy = 0.0\n",
      "matching = [False] - accuracy = 0.0\n"
     ]
    },
    {
     "name": "stderr",
     "output_type": "stream",
     "text": [
      " 56%|███████████████████████████████████████████████████████████████████████████████████▌                                                                 | 590/1052 [00:02<00:02, 186.16it/s]"
     ]
    },
    {
     "name": "stdout",
     "output_type": "stream",
     "text": [
      "matching = [False] - accuracy = 0.0\n",
      "matching = [False] - accuracy = 0.0\n",
      "matching = [False] - accuracy = 0.0\n",
      "matching = [False] - accuracy = 0.0\n"
     ]
    },
    {
     "name": "stderr",
     "output_type": "stream",
     "text": [
      " 62%|████████████████████████████████████████████████████████████████████████████████████████████▏                                                        | 651/1052 [00:03<00:02, 195.89it/s]"
     ]
    },
    {
     "name": "stdout",
     "output_type": "stream",
     "text": [
      "matching = [False] - accuracy = 0.0\n",
      "matching = [False] - accuracy = 0.0\n",
      "matching = [False] - accuracy = 0.0\n",
      "matching = [False] - accuracy = 0.0\n",
      "matching = [False] - accuracy = 0.0\n"
     ]
    },
    {
     "name": "stderr",
     "output_type": "stream",
     "text": [
      " 66%|██████████████████████████████████████████████████████████████████████████████████████████████████▌                                                  | 696/1052 [00:03<00:01, 204.62it/s]"
     ]
    },
    {
     "name": "stdout",
     "output_type": "stream",
     "text": [
      "matching = [False] - accuracy = 0.0\n",
      "matching = [False] - accuracy = 0.0\n",
      "matching = [False] - accuracy = 0.0\n",
      "matching = [False] - accuracy = 0.0\n",
      "matching = [False] - accuracy = 0.0\n"
     ]
    },
    {
     "name": "stderr",
     "output_type": "stream",
     "text": [
      " 70%|████████████████████████████████████████████████████████████████████████████████████████████████████████▋                                            | 739/1052 [00:03<00:01, 200.23it/s]"
     ]
    },
    {
     "name": "stdout",
     "output_type": "stream",
     "text": [
      "matching = [False] - accuracy = 0.0\n",
      "matching = [False] - accuracy = 0.0\n",
      "matching = [False] - accuracy = 0.0\n",
      "matching = [False] - accuracy = 0.0\n",
      "matching = [False] - accuracy = 0.0\n"
     ]
    },
    {
     "name": "stderr",
     "output_type": "stream",
     "text": [
      " 74%|██████████████████████████████████████████████████████████████████████████████████████████████████████████████▌                                      | 781/1052 [00:03<00:01, 199.35it/s]"
     ]
    },
    {
     "name": "stdout",
     "output_type": "stream",
     "text": [
      "matching = [False] - accuracy = 0.0\n",
      "matching = [False] - accuracy = 0.0\n",
      "matching = [False] - accuracy = 0.0\n",
      "matching = [False] - accuracy = 0.0\n",
      "matching = [False] - accuracy = 0.0\n"
     ]
    },
    {
     "name": "stderr",
     "output_type": "stream",
     "text": [
      " 80%|███████████████████████████████████████████████████████████████████████████████████████████████████████████████████████▍                             | 843/1052 [00:04<00:01, 195.21it/s]"
     ]
    },
    {
     "name": "stdout",
     "output_type": "stream",
     "text": [
      "matching = [False] - accuracy = 0.0\n",
      "matching = [False] - accuracy = 0.0\n",
      "matching = [False] - accuracy = 0.0\n",
      "matching = [False] - accuracy = 0.0\n"
     ]
    },
    {
     "name": "stderr",
     "output_type": "stream",
     "text": [
      " 84%|█████████████████████████████████████████████████████████████████████████████████████████████████████████████████████████████                        | 883/1052 [00:04<00:00, 192.90it/s]"
     ]
    },
    {
     "name": "stdout",
     "output_type": "stream",
     "text": [
      "matching = [False] - accuracy = 0.0\n",
      "matching = [False] - accuracy = 0.0\n",
      "matching = [False] - accuracy = 0.0\n",
      "matching = [False] - accuracy = 0.0\n"
     ]
    },
    {
     "name": "stderr",
     "output_type": "stream",
     "text": [
      " 88%|███████████████████████████████████████████████████████████████████████████████████████████████████████████████████████████████████                  | 925/1052 [00:04<00:00, 199.31it/s]"
     ]
    },
    {
     "name": "stdout",
     "output_type": "stream",
     "text": [
      "matching = [False] - accuracy = 0.0\n",
      "matching = [False] - accuracy = 0.0\n",
      "matching = [False] - accuracy = 0.0\n",
      "matching = [False] - accuracy = 0.0\n",
      "matching = [False] - accuracy = 0.0\n"
     ]
    },
    {
     "name": "stderr",
     "output_type": "stream",
     "text": [
      " 92%|████████████████████████████████████████████████████████████████████████████████████████████████████████████████████████████████████████▋            | 965/1052 [00:04<00:00, 196.57it/s]"
     ]
    },
    {
     "name": "stdout",
     "output_type": "stream",
     "text": [
      "matching = [False] - accuracy = 0.0\n",
      "matching = [False] - accuracy = 0.0\n",
      "matching = [False] - accuracy = 0.0\n",
      "matching = [True] - accuracy = 1.0\n"
     ]
    },
    {
     "name": "stderr",
     "output_type": "stream",
     "text": [
      " 96%|█████████████████████████████████████████████████████████████████████████████████████████████████████████████████████████████████████████████▍      | 1005/1052 [00:05<00:00, 191.35it/s]"
     ]
    },
    {
     "name": "stdout",
     "output_type": "stream",
     "text": [
      "matching = [False] - accuracy = 0.0\n",
      "matching = [False] - accuracy = 0.0\n",
      "pred: 84 - target: 22 - loss: 6.512 - raw pred: tensor([[ -1.4349,  -9.1811,  -3.7287,  -2.3931,  -7.1850,  -1.5567,  -3.1875,\n",
      "          -2.8412,  -4.6674,  -4.8377,  -2.5447,  -5.3643,  -3.6214,  -5.5994,\n",
      "          -0.8381,  -5.4495,  -4.4576,  -6.2772,  -5.2713,  -1.8984,  -3.8870,\n",
      "          -5.8072,  -4.2421,  -0.5071,  -9.9503,  -7.0888,  -4.2419,  -4.4438,\n",
      "          -6.6672,  -2.9106,  -4.0986,  -0.4611,  -4.2982,  -4.4267,  -5.5685,\n",
      "          -1.0893,  -3.0200,  -6.6467,  -1.8460,  -6.6219, -10.0202,  -7.4568,\n",
      "         -12.8124,  -2.7214,  -4.9742,  -5.3070,  -7.5632,  -2.2712, -10.2016,\n",
      "          -2.6723,  -2.4376,  -2.9008,  -0.2245,  -3.0581,  -6.0045,  -9.8213,\n",
      "          -1.7597,  -2.7575,  -0.1916,  -0.9099, -10.5102,  -2.0733,  -5.0373,\n",
      "          -4.2606,  -4.6954,  -8.6402,  -2.0536,  -3.5263,  -1.2762, -13.3901,\n",
      "          -9.0827,  -0.4476,  -3.9099,  -5.1599,  -9.0285,  -7.4914,  -3.7088,\n",
      "          -3.8492,  -4.8377, -11.4306,  -2.9842,  -3.0580,  -6.4519,  -0.6994,\n",
      "          -0.1754,  -2.4758,  -8.6433,  -1.8579,  -0.8030,  -5.3992,  -1.6840,\n",
      "          -8.4438,  -6.2965]], device='cuda:0')\n",
      "matching = [False] - accuracy = 0.0\n",
      "matching = [False] - accuracy = 0.0\n"
     ]
    },
    {
     "name": "stderr",
     "output_type": "stream",
     "text": [
      "100%|████████████████████████████████████████████████████████████████████████████████████████████████████████████████████████████████████████████████████| 1052/1052 [00:05<00:00, 196.97it/s]\n"
     ]
    },
    {
     "name": "stdout",
     "output_type": "stream",
     "text": [
      "matching = [False] - accuracy = 0.0\n",
      "matching = [False] - accuracy = 0.0\n",
      "matching = [False] - accuracy = 0.0\n",
      "matching = [False] - accuracy = 0.0\n",
      "//////////////////// Epoch: 3 ////////////////////\n"
     ]
    },
    {
     "name": "stderr",
     "output_type": "stream",
     "text": [
      "\r",
      "  0%|                                                                                                                                                                | 0/4207 [00:00<?, ?it/s]"
     ]
    },
    {
     "name": "stdout",
     "output_type": "stream",
     "text": [
      "pred: 88 - target: 35 - loss: 3.483 - raw pred: tensor([[ -2.1162,  -7.1157,  -4.8190,  -3.0045,  -4.1621,  -2.8663,  -2.5729,\n",
      "          -3.3217,  -5.5918,  -5.4443,  -1.9961,  -6.0610,  -3.7034,  -2.4802,\n",
      "          -2.1422,  -2.3401,  -4.3053,  -3.6670,  -4.0431,  -3.2103,  -4.7159,\n",
      "          -4.6744,  -3.8742,  -1.4530,  -7.7901,  -6.1555,  -3.0153,  -3.2672,\n",
      "          -5.9443,  -1.8722,  -4.9600,  -0.3781,  -1.7254,  -5.6219,  -3.9136,\n",
      "          -1.1806,  -3.9124,  -4.1560,  -1.2155,  -2.9229,  -7.4153,  -3.6468,\n",
      "         -10.4412,  -0.8752,  -2.4382,  -5.7881,  -4.0086,  -2.2910,  -8.9989,\n",
      "          -3.8750,  -2.9194,  -3.8601,  -1.3741,  -2.3931,  -6.2955,  -6.9696,\n",
      "          -3.1454,  -1.2503,  -2.2039,  -2.1375,  -8.8144,  -3.4831,  -4.2433,\n",
      "          -5.3593,  -3.3421,  -6.9699,  -0.9150,  -0.7443,  -2.6327, -11.4923,\n",
      "          -5.5739,  -1.1798,  -4.7706,  -5.5009,  -8.5199,  -5.4289,  -1.5596,\n",
      "          -1.9592,  -5.1798, -10.3278,  -1.1636,  -4.4777,  -3.2779,  -0.4315,\n",
      "          -0.5215,  -1.0836,  -7.5777,  -0.6497,  -0.1637,  -2.2137,  -1.9712,\n",
      "          -7.8596,  -3.4887]], device='cuda:0', grad_fn=<AddmmBackward0>)\n"
     ]
    },
    {
     "name": "stderr",
     "output_type": "stream",
     "text": [
      " 24%|███████████████████████████████████▉                                                                                                                 | 1014/4207 [00:10<00:37, 85.24it/s]"
     ]
    },
    {
     "name": "stdout",
     "output_type": "stream",
     "text": [
      "pred: 58 - target: 58 - loss: 1.381 - raw pred: tensor([[ -2.0686, -12.2216,  -4.0554,  -2.5849, -10.4608,  -0.3951,  -4.2432,\n",
      "          -3.9953,  -6.8265,  -6.0845,  -3.7673,  -6.6995,  -4.5049,  -8.5284,\n",
      "           0.8460,  -8.5996,  -5.7194,  -8.4932,  -7.7773,  -1.2289,  -4.7523,\n",
      "          -8.3770,  -5.5922,   0.2096, -14.9501,  -9.9951,  -6.7908,  -5.6509,\n",
      "          -8.9137,  -5.5393,  -5.6856,  -1.4202,  -7.5956,  -4.4720,  -9.4239,\n",
      "          -1.1347,  -3.6352,  -9.8391,  -3.2679, -11.2693, -15.1389, -11.4551,\n",
      "         -17.1805,  -5.6009,  -8.9186,  -6.6676, -12.2210,  -3.2745, -13.1012,\n",
      "          -3.1485,  -3.1511,  -3.8436,   0.9579,  -4.5067,  -6.3549, -13.1114,\n",
      "          -1.5103,  -4.0891,   1.4633,  -0.9165, -14.0940,  -1.6543,  -6.2623,\n",
      "          -3.6826,  -5.6445, -11.8338,  -3.7857,  -6.7948,   0.5483, -18.2516,\n",
      "         -14.2430,   0.0723,  -4.8828,  -4.7283, -12.3230, -10.9452,  -6.2460,\n",
      "          -5.9606,  -6.3349, -16.0480,  -5.8808,  -2.7644, -10.1196,  -2.2029,\n",
      "          -0.7239,  -4.7467, -10.8707,  -3.2818,  -2.2731,  -9.2768,  -2.4556,\n",
      "         -11.4234,  -9.3845]], device='cuda:0', grad_fn=<AddmmBackward0>)\n"
     ]
    },
    {
     "name": "stderr",
     "output_type": "stream",
     "text": [
      " 48%|███████████████████████████████████████████████████████████████████████▏                                                                             | 2009/4207 [00:21<00:24, 88.03it/s]"
     ]
    },
    {
     "name": "stdout",
     "output_type": "stream",
     "text": [
      "pred: 83 - target: 23 - loss: 2.192 - raw pred: tensor([[ -1.8166, -11.4960,  -5.4734,  -3.9413,  -8.2497,  -3.5887,  -3.9719,\n",
      "          -4.4902,  -7.5024,  -5.9359,  -4.1727,  -7.1006,  -4.7989,  -7.0570,\n",
      "          -1.3406,  -7.5754,  -4.7099,  -7.4976,  -7.6326,  -3.3245,  -6.2555,\n",
      "          -7.3919,  -5.7092,  -1.2822, -10.9727,  -9.5230,  -7.0255,  -5.5094,\n",
      "          -7.4766,  -3.3962,  -5.6384,  -3.2104,  -5.6005,  -6.7717,  -6.8777,\n",
      "          -2.6212,  -2.8307,  -8.6842,  -1.9480, -10.1164, -10.3016,  -9.6640,\n",
      "         -13.2739,  -4.9735,  -7.6079,  -7.1712, -10.5074,  -2.6638, -11.6170,\n",
      "          -2.7577,  -4.6213,  -3.8789,  -4.1828,  -4.7668,  -6.8180, -11.6686,\n",
      "          -3.7404,  -5.0019,  -3.2153,  -2.7061, -14.2760,  -3.6196,  -7.4663,\n",
      "          -5.7998,  -5.8471, -11.5523,  -3.5171,  -5.1373,  -3.2875, -13.6208,\n",
      "         -13.4870,  -3.6667,  -6.0474,  -6.2832, -11.9202,  -9.6228,  -5.0291,\n",
      "          -6.0418,  -5.8316, -13.6931,  -4.5788,  -4.8236,  -9.0599,  -0.4979,\n",
      "          -2.8594,  -3.8830, -10.8785,  -3.4793,  -4.0522,  -7.2818,  -3.8666,\n",
      "         -11.3146,  -9.2495]], device='cuda:0', grad_fn=<AddmmBackward0>)\n"
     ]
    },
    {
     "name": "stderr",
     "output_type": "stream",
     "text": [
      " 72%|██████████████████████████████████████████████████████████████████████████████████████████████████████████▋                                          | 3011/4207 [00:32<00:12, 94.33it/s]"
     ]
    },
    {
     "name": "stdout",
     "output_type": "stream",
     "text": [
      "pred: 80 - target: 83 - loss: 2.049 - raw pred: tensor([[ -7.1695,  -9.4262, -13.4854,  -8.7901,  -6.2766,  -8.2571,  -6.6891,\n",
      "          -7.0767, -11.1912, -13.1429,  -5.1730, -12.6906,  -9.5357,  -3.3567,\n",
      "          -6.5789,  -5.0414,  -7.7400,  -4.9966,  -8.9616,  -9.3641, -11.2092,\n",
      "          -7.9562, -10.2938,  -7.7928, -14.9552, -13.4784,  -9.1179,  -9.6526,\n",
      "         -13.4747,  -3.7872, -10.5178,  -8.2308,  -3.2587, -13.3921,  -7.0978,\n",
      "          -4.0807,  -8.9674,  -6.5920,  -3.9296,  -5.6602, -12.1490,  -5.3688,\n",
      "         -14.4676,  -5.9303,  -4.5629, -10.7864,  -6.5340,  -5.9872, -12.9039,\n",
      "          -9.2119,  -8.3860,  -8.9100, -11.1640,  -7.2639, -13.5207, -12.9425,\n",
      "          -8.6414,  -7.2366,  -8.2199,  -6.9422, -15.9801, -11.6482, -12.7203,\n",
      "         -10.8452, -10.8129, -14.1561,  -6.7934,  -2.6149,  -8.9906, -11.9660,\n",
      "         -10.2949,  -5.4217, -10.2201, -11.5491, -14.9239,  -8.7746,  -3.8533,\n",
      "          -3.4090,  -8.8310, -12.9284,  -2.2622, -11.2623,  -5.7024,  -2.5877,\n",
      "          -8.6215,  -3.2559, -12.8604,  -3.8486,  -8.1300,  -4.2207, -10.6277,\n",
      "         -13.2922,  -6.4443]], device='cuda:0', grad_fn=<AddmmBackward0>)\n"
     ]
    },
    {
     "name": "stderr",
     "output_type": "stream",
     "text": [
      " 95%|██████████████████████████████████████████████████████████████████████████████████████████████████████████████████████████████████████████████       | 4010/4207 [00:43<00:02, 85.47it/s]"
     ]
    },
    {
     "name": "stdout",
     "output_type": "stream",
     "text": [
      "pred: 71 - target: 61 - loss: 2.228 - raw pred: tensor([[ -5.3248, -13.0811,  -4.7493,  -2.0498, -12.1250,  -1.9027,  -3.8323,\n",
      "          -4.0890,  -7.5165,  -6.7220,  -3.1564,  -6.3529,  -3.6674,  -9.5720,\n",
      "          -1.2879,  -9.1598,  -6.8992,  -9.3777,  -8.4215,   0.1032,  -5.3604,\n",
      "          -8.8663,  -5.2945,  -1.2793, -15.8502,  -9.7130,  -5.9375,  -4.3538,\n",
      "          -8.1910,  -7.5955,  -6.3237,  -2.4008,  -9.2074,  -4.4952,  -6.7188,\n",
      "          -1.8303,  -3.6625, -10.7833,  -4.9927, -11.7403, -14.9029, -11.7018,\n",
      "         -16.5237,  -7.4020, -11.2878,  -8.6888, -13.0936,  -4.7979, -12.6399,\n",
      "          -4.1562,  -2.7497,  -4.7969,  -0.1167,  -3.4755,  -6.0058, -11.3127,\n",
      "          -3.1311,  -4.4324,  -0.1959,  -3.1458, -12.8774,  -0.1849,  -4.5978,\n",
      "          -5.4725,  -4.6750,  -9.0182,  -4.8553,  -7.5938,  -0.6006, -21.6914,\n",
      "         -13.9275,   0.2247,  -5.0368,  -5.7885, -12.1113, -10.7585,  -8.1360,\n",
      "          -7.9180,  -8.4672, -16.5704,  -8.2438,  -2.6064,  -9.9164,  -5.3504,\n",
      "          -1.2184,  -4.6898, -11.0187,  -5.7024,  -2.6637,  -8.1610,  -1.3657,\n",
      "         -10.8327, -10.6238]], device='cuda:0', grad_fn=<AddmmBackward0>)\n"
     ]
    },
    {
     "name": "stderr",
     "output_type": "stream",
     "text": [
      "100%|█████████████████████████████████████████████████████████████████████████████████████████████████████████████████████████████████████████████████████| 4207/4207 [00:46<00:00, 91.32it/s]\n"
     ]
    },
    {
     "name": "stdout",
     "output_type": "stream",
     "text": [
      "//////////////////// Validation ////////////////////\n"
     ]
    },
    {
     "name": "stderr",
     "output_type": "stream",
     "text": [
      "  2%|███▏                                                                                                                                                  | 22/1052 [00:00<00:04, 215.43it/s]"
     ]
    },
    {
     "name": "stdout",
     "output_type": "stream",
     "text": [
      "pred: 58 - target: 80 - loss: 11.837 - raw pred: tensor([[ -4.3478, -14.8313,  -4.1872,  -3.3208, -13.6140,  -2.0566,  -4.8327,\n",
      "          -3.5772,  -7.4314,  -6.4349,  -3.5241,  -6.9688,  -3.5246, -10.0616,\n",
      "          -0.6409, -11.1170,  -7.0171, -10.4881, -10.0409,  -1.4545,  -6.2165,\n",
      "          -9.4452,  -6.5189,  -0.9875, -17.3018, -11.6965,  -8.1880,  -6.5194,\n",
      "          -9.4448,  -8.0192,  -6.0153,  -4.6402, -10.0503,  -4.4849,  -7.0865,\n",
      "          -2.2667,  -4.9504, -11.4192,  -6.3256, -14.9326, -16.3367, -14.2372,\n",
      "         -16.7226, -10.6374, -12.6992,  -7.1307, -16.0425,  -5.4201, -13.8458,\n",
      "          -3.3689,  -2.8290,  -4.7717,  -2.3368,  -4.1192,  -6.3665, -15.0393,\n",
      "          -3.6269,  -6.6856,   1.6979,  -2.8817, -15.3228,  -1.2713,  -6.9606,\n",
      "          -4.9729,  -5.9665, -12.5217,  -6.7151,  -9.3602,  -0.1583, -18.5561,\n",
      "         -16.5975,  -3.3250,  -4.5759,  -4.4889, -12.7881, -12.6341,  -9.2755,\n",
      "          -9.3733,  -8.3050, -15.2074,  -9.6349,  -1.9622, -13.2535,  -4.8510,\n",
      "          -3.3846,  -5.7837, -11.1438,  -4.6070,  -4.5417, -10.3505,  -1.2125,\n",
      "         -11.1399, -12.9398]], device='cuda:0')\n",
      "matching = [False] - accuracy = 0.0\n",
      "matching = [False] - accuracy = 0.0\n",
      "matching = [False] - accuracy = 0.0\n",
      "matching = [False] - accuracy = 0.0\n",
      "matching = [False] - accuracy = 0.0\n"
     ]
    },
    {
     "name": "stderr",
     "output_type": "stream",
     "text": [
      "  8%|████████████▎                                                                                                                                         | 86/1052 [00:00<00:05, 191.10it/s]"
     ]
    },
    {
     "name": "stdout",
     "output_type": "stream",
     "text": [
      "matching = [False] - accuracy = 0.0\n",
      "matching = [False] - accuracy = 0.0\n",
      "matching = [False] - accuracy = 0.0\n",
      "matching = [False] - accuracy = 0.0\n"
     ]
    },
    {
     "name": "stderr",
     "output_type": "stream",
     "text": [
      " 12%|█████████████████▊                                                                                                                                   | 126/1052 [00:00<00:04, 186.71it/s]"
     ]
    },
    {
     "name": "stdout",
     "output_type": "stream",
     "text": [
      "matching = [False] - accuracy = 0.0\n",
      "matching = [False] - accuracy = 0.0\n",
      "matching = [False] - accuracy = 0.0\n",
      "matching = [False] - accuracy = 0.0\n"
     ]
    },
    {
     "name": "stderr",
     "output_type": "stream",
     "text": [
      " 16%|███████████████████████▋                                                                                                                             | 167/1052 [00:00<00:04, 194.77it/s]"
     ]
    },
    {
     "name": "stdout",
     "output_type": "stream",
     "text": [
      "matching = [False] - accuracy = 0.0\n",
      "matching = [False] - accuracy = 0.0\n",
      "matching = [False] - accuracy = 0.0\n",
      "matching = [False] - accuracy = 0.0\n",
      "matching = [False] - accuracy = 0.0\n"
     ]
    },
    {
     "name": "stderr",
     "output_type": "stream",
     "text": [
      " 20%|█████████████████████████████▍                                                                                                                       | 208/1052 [00:01<00:04, 197.07it/s]"
     ]
    },
    {
     "name": "stdout",
     "output_type": "stream",
     "text": [
      "matching = [False] - accuracy = 0.0\n",
      "matching = [False] - accuracy = 0.0\n",
      "matching = [False] - accuracy = 0.0\n",
      "matching = [False] - accuracy = 0.0\n",
      "matching = [False] - accuracy = 0.0\n"
     ]
    },
    {
     "name": "stderr",
     "output_type": "stream",
     "text": [
      " 24%|████████████████████████████████████                                                                                                                 | 255/1052 [00:01<00:03, 216.37it/s]"
     ]
    },
    {
     "name": "stdout",
     "output_type": "stream",
     "text": [
      "matching = [False] - accuracy = 0.0\n",
      "matching = [False] - accuracy = 0.0\n",
      "matching = [False] - accuracy = 0.0\n",
      "matching = [False] - accuracy = 0.0\n",
      "matching = [False] - accuracy = 0.0\n"
     ]
    },
    {
     "name": "stderr",
     "output_type": "stream",
     "text": [
      " 30%|█████████████████████████████████████████████▎                                                                                                       | 320/1052 [00:01<00:03, 205.41it/s]"
     ]
    },
    {
     "name": "stdout",
     "output_type": "stream",
     "text": [
      "matching = [False] - accuracy = 0.0\n",
      "matching = [True] - accuracy = 1.0\n",
      "matching = [False] - accuracy = 0.0\n",
      "matching = [False] - accuracy = 0.0\n",
      "matching = [False] - accuracy = 0.0\n"
     ]
    },
    {
     "name": "stderr",
     "output_type": "stream",
     "text": [
      " 35%|███████████████████████████████████████████████████▍                                                                                                 | 363/1052 [00:01<00:03, 198.44it/s]"
     ]
    },
    {
     "name": "stdout",
     "output_type": "stream",
     "text": [
      "matching = [False] - accuracy = 0.0\n",
      "matching = [False] - accuracy = 0.0\n",
      "matching = [False] - accuracy = 0.0\n",
      "matching = [False] - accuracy = 0.0\n"
     ]
    },
    {
     "name": "stderr",
     "output_type": "stream",
     "text": [
      " 39%|█████████████████████████████████████████████████████████▋                                                                                           | 407/1052 [00:02<00:03, 203.16it/s]"
     ]
    },
    {
     "name": "stdout",
     "output_type": "stream",
     "text": [
      "matching = [False] - accuracy = 0.0\n",
      "matching = [False] - accuracy = 0.0\n",
      "matching = [False] - accuracy = 0.0\n",
      "matching = [False] - accuracy = 0.0\n",
      "matching = [False] - accuracy = 0.0\n"
     ]
    },
    {
     "name": "stderr",
     "output_type": "stream",
     "text": [
      " 43%|███████████████████████████████████████████████████████████████▍                                                                                     | 448/1052 [00:02<00:03, 196.33it/s]"
     ]
    },
    {
     "name": "stdout",
     "output_type": "stream",
     "text": [
      "matching = [False] - accuracy = 0.0\n",
      "matching = [False] - accuracy = 0.0\n",
      "matching = [False] - accuracy = 0.0\n",
      "matching = [False] - accuracy = 0.0\n"
     ]
    },
    {
     "name": "stderr",
     "output_type": "stream",
     "text": [
      " 46%|█████████████████████████████████████████████████████████████████████                                                                                | 488/1052 [00:02<00:02, 191.94it/s]"
     ]
    },
    {
     "name": "stdout",
     "output_type": "stream",
     "text": [
      "matching = [False] - accuracy = 0.0\n",
      "matching = [False] - accuracy = 0.0\n",
      "matching = [False] - accuracy = 0.0\n",
      "matching = [False] - accuracy = 0.0\n"
     ]
    },
    {
     "name": "stderr",
     "output_type": "stream",
     "text": [
      " 50%|███████████████████████████████████████████████████████████████████████████                                                                          | 530/1052 [00:02<00:02, 194.81it/s]"
     ]
    },
    {
     "name": "stdout",
     "output_type": "stream",
     "text": [
      "matching = [False] - accuracy = 0.0\n",
      "matching = [False] - accuracy = 0.0\n",
      "matching = [False] - accuracy = 0.0\n",
      "matching = [False] - accuracy = 0.0\n",
      "matching = [False] - accuracy = 0.0\n"
     ]
    },
    {
     "name": "stderr",
     "output_type": "stream",
     "text": [
      " 54%|████████████████████████████████████████████████████████████████████████████████▊                                                                    | 571/1052 [00:02<00:02, 197.52it/s]"
     ]
    },
    {
     "name": "stdout",
     "output_type": "stream",
     "text": [
      "matching = [False] - accuracy = 0.0\n",
      "matching = [False] - accuracy = 0.0\n",
      "matching = [False] - accuracy = 0.0\n",
      "matching = [False] - accuracy = 0.0\n"
     ]
    },
    {
     "name": "stderr",
     "output_type": "stream",
     "text": [
      " 58%|██████████████████████████████████████████████████████████████████████████████████████▉                                                              | 614/1052 [00:03<00:02, 205.82it/s]"
     ]
    },
    {
     "name": "stdout",
     "output_type": "stream",
     "text": [
      "matching = [False] - accuracy = 0.0\n",
      "matching = [False] - accuracy = 0.0\n",
      "matching = [False] - accuracy = 0.0\n",
      "matching = [False] - accuracy = 0.0\n",
      "matching = [False] - accuracy = 0.0\n"
     ]
    },
    {
     "name": "stderr",
     "output_type": "stream",
     "text": [
      " 64%|███████████████████████████████████████████████████████████████████████████████████████████████▉                                                     | 677/1052 [00:03<00:01, 199.01it/s]"
     ]
    },
    {
     "name": "stdout",
     "output_type": "stream",
     "text": [
      "matching = [False] - accuracy = 0.0\n",
      "matching = [False] - accuracy = 0.0\n",
      "matching = [False] - accuracy = 0.0\n",
      "matching = [False] - accuracy = 0.0\n"
     ]
    },
    {
     "name": "stderr",
     "output_type": "stream",
     "text": [
      " 68%|█████████████████████████████████████████████████████████████████████████████████████████████████████▌                                               | 717/1052 [00:03<00:01, 190.38it/s]"
     ]
    },
    {
     "name": "stdout",
     "output_type": "stream",
     "text": [
      "matching = [False] - accuracy = 0.0\n",
      "matching = [False] - accuracy = 0.0\n",
      "matching = [False] - accuracy = 0.0\n",
      "matching = [False] - accuracy = 0.0\n"
     ]
    },
    {
     "name": "stderr",
     "output_type": "stream",
     "text": [
      " 72%|███████████████████████████████████████████████████████████████████████████████████████████████████████████▏                                         | 757/1052 [00:03<00:01, 192.84it/s]"
     ]
    },
    {
     "name": "stdout",
     "output_type": "stream",
     "text": [
      "matching = [False] - accuracy = 0.0\n",
      "matching = [False] - accuracy = 0.0\n",
      "matching = [False] - accuracy = 0.0\n",
      "matching = [False] - accuracy = 0.0\n"
     ]
    },
    {
     "name": "stderr",
     "output_type": "stream",
     "text": [
      " 76%|████████████████████████████████████████████████████████████████████████████████████████████████████████████████▉                                    | 797/1052 [00:04<00:01, 193.51it/s]"
     ]
    },
    {
     "name": "stdout",
     "output_type": "stream",
     "text": [
      "matching = [False] - accuracy = 0.0\n",
      "matching = [False] - accuracy = 0.0\n",
      "matching = [False] - accuracy = 0.0\n",
      "matching = [False] - accuracy = 0.0\n"
     ]
    },
    {
     "name": "stderr",
     "output_type": "stream",
     "text": [
      " 80%|██████████████████████████████████████████████████████████████████████████████████████████████████████████████████████▊                              | 839/1052 [00:04<00:01, 199.61it/s]"
     ]
    },
    {
     "name": "stdout",
     "output_type": "stream",
     "text": [
      "matching = [False] - accuracy = 0.0\n",
      "matching = [False] - accuracy = 0.0\n",
      "matching = [False] - accuracy = 0.0\n",
      "matching = [False] - accuracy = 0.0\n",
      "matching = [False] - accuracy = 0.0\n"
     ]
    },
    {
     "name": "stderr",
     "output_type": "stream",
     "text": [
      " 84%|████████████████████████████████████████████████████████████████████████████████████████████████████████████████████████████▉                        | 882/1052 [00:04<00:00, 201.13it/s]"
     ]
    },
    {
     "name": "stdout",
     "output_type": "stream",
     "text": [
      "matching = [False] - accuracy = 0.0\n",
      "matching = [False] - accuracy = 0.0\n",
      "matching = [False] - accuracy = 0.0\n",
      "matching = [False] - accuracy = 0.0\n"
     ]
    },
    {
     "name": "stderr",
     "output_type": "stream",
     "text": [
      " 88%|██████████████████████████████████████████████████████████████████████████████████████████████████████████████████████████████████▋                  | 923/1052 [00:04<00:00, 199.43it/s]"
     ]
    },
    {
     "name": "stdout",
     "output_type": "stream",
     "text": [
      "matching = [False] - accuracy = 0.0\n",
      "matching = [False] - accuracy = 0.0\n",
      "matching = [False] - accuracy = 0.0\n",
      "matching = [False] - accuracy = 0.0\n",
      "matching = [False] - accuracy = 0.0\n"
     ]
    },
    {
     "name": "stderr",
     "output_type": "stream",
     "text": [
      " 92%|████████████████████████████████████████████████████████████████████████████████████████████████████████████████████████████████████████▋            | 965/1052 [00:04<00:00, 194.91it/s]"
     ]
    },
    {
     "name": "stdout",
     "output_type": "stream",
     "text": [
      "matching = [False] - accuracy = 0.0\n",
      "matching = [False] - accuracy = 0.0\n",
      "matching = [False] - accuracy = 0.0\n",
      "matching = [False] - accuracy = 0.0\n"
     ]
    },
    {
     "name": "stderr",
     "output_type": "stream",
     "text": [
      " 96%|█████████████████████████████████████████████████████████████████████████████████████████████████████████████████████████████████████████████▌      | 1006/1052 [00:05<00:00, 187.57it/s]"
     ]
    },
    {
     "name": "stdout",
     "output_type": "stream",
     "text": [
      "matching = [False] - accuracy = 0.0\n",
      "matching = [False] - accuracy = 0.0\n",
      "pred: 87 - target: 68 - loss: 9.963 - raw pred: tensor([[ -9.0305, -13.3256, -15.9996,  -8.9834,  -6.0828,  -8.9987,  -4.5644,\n",
      "         -10.3410, -16.7794, -16.1781,  -3.4210, -16.0797, -10.1829,  -5.0458,\n",
      "          -6.9058,  -4.1273, -12.1009,  -5.5302,  -7.1508, -11.0018, -15.5354,\n",
      "          -8.2721, -10.3037,  -5.6010, -18.4441, -14.7282,  -6.0463,  -6.5677,\n",
      "         -14.4635,  -4.4041, -15.8946,  -4.7993,  -3.5649, -18.0419,  -7.4382,\n",
      "          -4.1734, -11.0418,  -6.4297,  -4.8909,  -9.4481, -16.2778,  -9.3422,\n",
      "         -21.1060,  -4.6969,  -6.7367, -16.0830,  -9.8871,  -5.4818, -18.2521,\n",
      "         -12.3896, -10.0008, -11.3236,  -9.2327,  -4.8978, -14.6157, -15.0431,\n",
      "         -10.8287,  -2.6881,  -8.7254,  -9.4438, -21.5622, -11.6562, -10.8876,\n",
      "         -16.8668,  -8.0807, -15.0866,  -3.1318,  -2.2961, -10.1382, -22.7077,\n",
      "         -11.5703,  -6.4007, -14.4478, -14.0386, -20.7508, -10.0669,  -3.0669,\n",
      "          -3.9717, -15.5916, -21.5139,  -3.2620, -13.9787,  -6.6685,  -3.8377,\n",
      "          -5.8943,  -3.9256, -18.1186,  -1.3450,  -3.7595,  -4.3184,  -9.8311,\n",
      "         -16.7614,  -7.3898]], device='cuda:0')\n",
      "matching = [False] - accuracy = 0.0\n",
      "matching = [False] - accuracy = 0.0\n"
     ]
    },
    {
     "name": "stderr",
     "output_type": "stream",
     "text": [
      "100%|████████████████████████████████████████████████████████████████████████████████████████████████████████████████████████████████████████████████████| 1052/1052 [00:05<00:00, 196.57it/s]\n"
     ]
    },
    {
     "name": "stdout",
     "output_type": "stream",
     "text": [
      "matching = [False] - accuracy = 0.0\n",
      "matching = [False] - accuracy = 0.0\n",
      "matching = [False] - accuracy = 0.0\n",
      "matching = [False] - accuracy = 0.0\n",
      "//////////////////// Epoch: 4 ////////////////////\n"
     ]
    },
    {
     "name": "stderr",
     "output_type": "stream",
     "text": [
      "\r",
      "  0%|                                                                                                                                                                | 0/4207 [00:00<?, ?it/s]"
     ]
    },
    {
     "name": "stdout",
     "output_type": "stream",
     "text": [
      "pred: 16 - target: 78 - loss: 1.185 - raw pred: tensor([[ -7.5305, -29.9128, -14.2195, -17.5078, -36.1079,  -6.4883, -19.4450,\n",
      "          -6.6663,  -7.8320, -10.8094, -25.9678, -15.3232,  -7.9182, -30.2745,\n",
      "         -11.8185, -28.8915,   1.5655, -26.2695, -35.0495, -14.0863,  -6.1916,\n",
      "         -27.1591, -13.1988, -15.8642, -28.7524, -20.5182, -38.5134, -30.1567,\n",
      "         -21.9832, -18.5116,  -3.4490, -29.1093, -24.6902, -11.0357, -11.5155,\n",
      "          -3.6715,  -5.0941, -31.3178,  -5.1443, -25.2285, -15.8377, -26.8173,\n",
      "         -25.7357, -24.0998, -25.2765,  -4.1736, -28.8899, -11.0240, -22.9858,\n",
      "          -5.1157,  -4.2642,  -2.1840, -28.6350, -24.5448, -27.8293, -29.3113,\n",
      "          -8.5472, -29.1179, -16.7516,  -5.8392, -28.5728, -13.1304, -28.1400,\n",
      "          -6.2180, -36.7915, -29.5261, -26.5434, -20.4945, -14.7003, -20.9478,\n",
      "         -33.1412, -10.1551,  -4.7863, -14.1706, -19.8907, -31.0543, -20.7980,\n",
      "         -26.0889,   0.7942, -14.6892, -17.8743, -14.9650, -29.7817, -10.8733,\n",
      "         -20.4094, -16.3525, -19.1435, -23.3255, -24.8765, -28.9004, -16.7726,\n",
      "         -28.3787, -23.9020]], device='cuda:0', grad_fn=<AddmmBackward0>)\n"
     ]
    },
    {
     "name": "stderr",
     "output_type": "stream",
     "text": [
      " 24%|████████████████████████████████████                                                                                                                 | 1018/4207 [00:10<00:34, 91.74it/s]"
     ]
    },
    {
     "name": "stdout",
     "output_type": "stream",
     "text": [
      "pred: 31 - target: 35 - loss: 3.089 - raw pred: tensor([[ -5.6829, -12.9155,  -7.5471,  -2.9260,  -8.5987,  -4.0523,  -2.9950,\n",
      "          -6.1348,  -9.8103,  -8.7340,  -3.4521,  -8.4685,  -4.8634,  -7.8128,\n",
      "          -3.7316,  -6.7760,  -8.7448,  -8.0464,  -5.8054,  -3.3942,  -8.0394,\n",
      "          -7.2511,  -5.1555,  -2.7337, -14.5848,  -8.5621,  -4.3331,  -2.9042,\n",
      "          -7.1635,  -5.4094,  -9.0678,  -0.8625,  -5.3236,  -8.2592,  -4.3364,\n",
      "          -2.1772,  -5.0761,  -9.0444,  -4.4352, -10.7989, -12.8162, -11.1579,\n",
      "         -16.6333,  -4.0003,  -9.8464, -10.9352, -12.2867,  -4.6070, -12.5872,\n",
      "          -7.0429,  -4.1018,  -6.8657,  -2.4261,  -2.5107,  -7.2489, -10.4369,\n",
      "          -5.6476,  -2.7851,  -5.1892,  -5.5616, -13.9632,  -3.5712,  -3.8850,\n",
      "          -9.3948,  -3.0135,  -9.3073,  -1.6757,  -4.7244,  -4.0575, -22.2599,\n",
      "         -11.4492,  -2.7332,  -7.6796,  -6.8519, -13.2753,  -9.8343,  -5.1688,\n",
      "          -6.1605, -10.8564, -17.6960,  -5.9690,  -5.9170,  -7.2670,  -5.5336,\n",
      "          -0.8942,  -5.1380, -12.4400,  -4.0634,  -0.9726,  -5.2617,  -3.2762,\n",
      "         -11.0940,  -9.2635]], device='cuda:0', grad_fn=<AddmmBackward0>)\n"
     ]
    },
    {
     "name": "stderr",
     "output_type": "stream",
     "text": [
      " 48%|███████████████████████████████████████████████████████████████████████▎                                                                             | 2013/4207 [00:22<00:24, 89.51it/s]"
     ]
    },
    {
     "name": "stdout",
     "output_type": "stream",
     "text": [
      "pred: 88 - target: 31 - loss: 1.233 - raw pred: tensor([[-13.0803, -19.3355, -16.7642,  -7.5225,  -8.3731,  -8.1325,  -5.0171,\n",
      "         -13.0078, -19.5558, -16.4060,  -3.7668, -16.6956, -11.0580, -11.2196,\n",
      "          -8.2205,  -6.4705, -16.3664, -11.4895,  -6.7614,  -9.2914, -15.7407,\n",
      "         -11.1962, -10.1952,  -6.2581, -21.9274, -14.7030,  -3.3674,  -3.7898,\n",
      "         -14.4477,  -8.8909, -19.0596,  -0.8126,  -6.3915, -18.2955,  -8.1617,\n",
      "          -3.1019, -11.6387, -13.2159,  -9.0734, -15.9689, -23.4242, -16.1687,\n",
      "         -27.7223,  -3.6579, -14.0063, -21.5672, -16.5488,  -9.4502, -21.9172,\n",
      "         -15.6238,  -9.4414, -15.2943,  -4.9319,  -5.9012, -13.0017, -14.7123,\n",
      "         -12.0972,  -1.3036, -10.8876, -12.2787, -24.5534,  -9.0218,  -7.3930,\n",
      "         -20.1229,  -4.7199, -14.7456,  -2.0483,  -6.0346,  -9.2104, -37.4459,\n",
      "         -16.2494,  -5.7776, -15.4380, -14.3720, -24.2504, -14.5324,  -6.2202,\n",
      "          -7.3511, -21.1480, -31.6312,  -9.3136, -15.0531,  -8.7593,  -9.6988,\n",
      "          -4.3980,  -7.6229, -20.6743,  -6.8928,  -0.7560,  -7.0727,  -9.7404,\n",
      "         -19.0882, -11.1524]], device='cuda:0', grad_fn=<AddmmBackward0>)\n"
     ]
    },
    {
     "name": "stderr",
     "output_type": "stream",
     "text": [
      " 72%|██████████████████████████████████████████████████████████████████████████████████████████████████████████▌                                          | 3010/4207 [00:33<00:13, 91.20it/s]"
     ]
    },
    {
     "name": "stdout",
     "output_type": "stream",
     "text": [
      "pred: 23 - target: 84 - loss: 1.711 - raw pred: tensor([[ -6.9751, -17.1312,  -8.8064,  -4.9359, -11.7142,  -6.2777,  -4.6033,\n",
      "          -7.1200, -13.3385, -11.2114,  -3.1378,  -8.8618,  -6.1212, -10.7758,\n",
      "          -3.3993, -11.5818, -12.8578, -11.6002,  -7.5615,  -6.7850, -12.4542,\n",
      "          -9.5697,  -5.3690,  -1.7095, -17.4534, -11.5562,  -5.0748,  -5.3375,\n",
      "         -10.2225,  -7.2321, -13.2698,  -4.4312,  -8.6557, -10.4013,  -5.9677,\n",
      "          -4.1190,  -7.7705, -10.7352,  -6.5766, -17.0121, -18.8937, -17.5770,\n",
      "         -20.6238,  -9.2491, -14.1496, -14.5150, -19.2932,  -5.6733, -15.2412,\n",
      "          -8.2650,  -5.6754,  -9.6779,  -5.6356,  -3.4192,  -8.6317, -14.8135,\n",
      "          -6.8852,  -5.4264,  -4.2349,  -7.1540, -18.0704,  -5.9340,  -5.8563,\n",
      "         -12.6218,  -4.4611, -12.6211,  -4.0084,  -8.2246,  -5.8258, -24.7223,\n",
      "         -17.6343,  -6.8862,  -9.5336,  -6.5023, -17.4377, -13.8250,  -7.3551,\n",
      "          -9.9065, -14.4419, -21.4508,  -8.8957,  -6.5721, -12.2661,  -6.0742,\n",
      "          -2.1773,  -5.4504, -15.9266,  -4.1145,  -3.4345,  -9.1687,  -3.9650,\n",
      "         -12.6984, -13.9638]], device='cuda:0', grad_fn=<AddmmBackward0>)\n"
     ]
    },
    {
     "name": "stderr",
     "output_type": "stream",
     "text": [
      " 96%|██████████████████████████████████████████████████████████████████████████████████████████████████████████████████████████████████████████████▍      | 4021/4207 [00:44<00:01, 96.99it/s]"
     ]
    },
    {
     "name": "stdout",
     "output_type": "stream",
     "text": [
      "pred: 90 - target: 23 - loss: 2.015 - raw pred: tensor([[ -4.2195, -16.6142,  -4.6068,  -3.8166, -16.4255,  -3.1915,  -6.2610,\n",
      "          -6.1265, -11.3258,  -8.5579,  -4.4521,  -5.9076,  -4.1641, -13.3176,\n",
      "          -2.0324, -14.0993,  -9.3276, -13.0885, -10.4560,  -4.8773, -10.7686,\n",
      "         -10.6930,  -5.2800,  -2.2462, -16.8716, -12.1308,  -9.1214,  -8.6940,\n",
      "          -9.4917,  -8.9708, -10.0891,  -7.9498, -11.2362,  -7.0227,  -6.3485,\n",
      "          -4.1577,  -5.0580, -13.1858,  -6.5767, -17.0417, -17.4058, -17.5603,\n",
      "         -17.9869, -11.6405, -15.3755, -11.3386, -19.8533,  -6.0419, -13.7915,\n",
      "          -5.2351,  -4.8941,  -6.5068,  -7.2840,  -5.4310,  -7.5448, -15.3680,\n",
      "          -4.3764,  -8.7148,  -3.0617,  -3.4889, -15.9127,  -4.7405,  -7.0260,\n",
      "          -8.4586,  -8.6565, -12.5421,  -7.8256, -11.2523,  -3.5794, -21.4229,\n",
      "         -19.1976,  -6.2871,  -6.9340,  -3.4529, -13.1559, -15.2154, -10.2914,\n",
      "         -12.3362, -10.8767, -18.9885, -10.7714,  -4.4414, -14.9010,  -6.0257,\n",
      "          -3.7971,  -5.9314, -14.2552,  -6.7938,  -7.2892, -12.3832,  -1.7804,\n",
      "         -12.1467, -14.8097]], device='cuda:0', grad_fn=<AddmmBackward0>)\n"
     ]
    },
    {
     "name": "stderr",
     "output_type": "stream",
     "text": [
      "100%|█████████████████████████████████████████████████████████████████████████████████████████████████████████████████████████████████████████████████████| 4207/4207 [00:46<00:00, 90.36it/s]\n"
     ]
    },
    {
     "name": "stdout",
     "output_type": "stream",
     "text": [
      "//////////////////// Validation ////////////////////\n"
     ]
    },
    {
     "name": "stderr",
     "output_type": "stream",
     "text": [
      "  2%|██▉                                                                                                                                                   | 21/1052 [00:00<00:05, 204.91it/s]"
     ]
    },
    {
     "name": "stdout",
     "output_type": "stream",
     "text": [
      "pred: 88 - target: 4 - loss: 9.633 - raw pred: tensor([[-11.6585, -18.8981, -15.1129,  -6.8091, -10.5267,  -7.1872,  -6.3473,\n",
      "         -11.0461, -18.0212, -14.6586,  -5.3577, -15.1305,  -8.4677, -15.4810,\n",
      "          -6.3270, -10.4005, -16.6114, -14.4748,  -6.2731,  -7.7223, -14.8345,\n",
      "         -10.9834,  -7.6624,  -5.2921, -20.4993, -13.8820,  -3.7556,  -4.5252,\n",
      "         -11.8253,  -9.9749, -17.7301,  -2.9088,  -8.5708, -16.7017,  -7.4994,\n",
      "          -2.8562,  -8.9572, -15.7891,  -9.7991, -19.5487, -22.9219, -20.4956,\n",
      "         -25.9886,  -7.2896, -16.4707, -19.6530, -20.5647,  -9.3925, -19.4014,\n",
      "         -11.9265,  -7.2121, -12.8176,  -6.6541,  -5.7695, -10.3192, -15.4196,\n",
      "         -10.4312,  -3.3621, -11.5180,  -9.9766, -23.7860,  -6.8789,  -7.1304,\n",
      "         -17.9173,  -5.9233, -12.3831,  -3.0286,  -8.3074,  -8.2179, -35.3682,\n",
      "         -19.4661,  -6.9752, -14.3000, -11.2201, -22.5873, -15.1364,  -6.9554,\n",
      "         -10.3963, -18.9315, -30.4341, -10.7335, -13.3527, -12.3628, -10.2326,\n",
      "          -3.0357,  -7.7080, -21.5844,  -7.7781,  -2.3199, -10.2777,  -8.2369,\n",
      "         -18.1486, -14.4936]], device='cuda:0')\n",
      "matching = [False] - accuracy = 0.0\n",
      "matching = [False] - accuracy = 0.0\n",
      "matching = [False] - accuracy = 0.0\n",
      "matching = [False] - accuracy = 0.0\n",
      "matching = [False] - accuracy = 0.0\n"
     ]
    },
    {
     "name": "stderr",
     "output_type": "stream",
     "text": [
      "  6%|████████▊                                                                                                                                             | 62/1052 [00:00<00:05, 192.97it/s]"
     ]
    },
    {
     "name": "stdout",
     "output_type": "stream",
     "text": [
      "matching = [False] - accuracy = 0.0\n",
      "matching = [False] - accuracy = 0.0\n",
      "matching = [False] - accuracy = 0.0\n"
     ]
    },
    {
     "name": "stderr",
     "output_type": "stream",
     "text": [
      "\r",
      "  8%|███████████▊                                                                                                                                          | 83/1052 [00:00<00:04, 198.42it/s]"
     ]
    },
    {
     "name": "stdout",
     "output_type": "stream",
     "text": [
      "matching = [False] - accuracy = 0.0\n"
     ]
    },
    {
     "name": "stderr",
     "output_type": "stream",
     "text": [
      "\r",
      " 10%|██████████████▊                                                                                                                                      | 105/1052 [00:00<00:04, 201.80it/s]"
     ]
    },
    {
     "name": "stdout",
     "output_type": "stream",
     "text": [
      "matching = [False] - accuracy = 0.0\n",
      "matching = [False] - accuracy = 0.0\n",
      "matching = [False] - accuracy = 0.0\n"
     ]
    },
    {
     "name": "stderr",
     "output_type": "stream",
     "text": [
      "\r",
      " 12%|█████████████████▊                                                                                                                                   | 126/1052 [00:00<00:04, 191.87it/s]"
     ]
    },
    {
     "name": "stdout",
     "output_type": "stream",
     "text": [
      "matching = [False] - accuracy = 0.0\n"
     ]
    },
    {
     "name": "stderr",
     "output_type": "stream",
     "text": [
      "\r",
      " 14%|████████████████████▋                                                                                                                                | 146/1052 [00:00<00:04, 189.31it/s]"
     ]
    },
    {
     "name": "stdout",
     "output_type": "stream",
     "text": [
      "matching = [False] - accuracy = 0.0\n",
      "matching = [False] - accuracy = 0.0\n",
      "matching = [False] - accuracy = 0.0\n"
     ]
    },
    {
     "name": "stderr",
     "output_type": "stream",
     "text": [
      "\r",
      " 16%|███████████████████████▎                                                                                                                             | 165/1052 [00:00<00:04, 188.00it/s]"
     ]
    },
    {
     "name": "stdout",
     "output_type": "stream",
     "text": [
      "matching = [False] - accuracy = 0.0\n"
     ]
    },
    {
     "name": "stderr",
     "output_type": "stream",
     "text": [
      "\r",
      " 18%|██████████████████████████▎                                                                                                                          | 186/1052 [00:00<00:04, 193.57it/s]"
     ]
    },
    {
     "name": "stdout",
     "output_type": "stream",
     "text": [
      "matching = [False] - accuracy = 0.0\n",
      "matching = [False] - accuracy = 0.0\n",
      "matching = [False] - accuracy = 0.0\n",
      "matching = [False] - accuracy = 0.0\n"
     ]
    },
    {
     "name": "stderr",
     "output_type": "stream",
     "text": [
      "\r",
      " 20%|█████████████████████████████▌                                                                                                                       | 209/1052 [00:01<00:04, 203.51it/s]"
     ]
    },
    {
     "name": "stdout",
     "output_type": "stream",
     "text": [
      "matching = [False] - accuracy = 0.0\n"
     ]
    },
    {
     "name": "stderr",
     "output_type": "stream",
     "text": [
      " 24%|███████████████████████████████████▌                                                                                                                 | 251/1052 [00:01<00:03, 203.68it/s]"
     ]
    },
    {
     "name": "stdout",
     "output_type": "stream",
     "text": [
      "matching = [True] - accuracy = 1.0\n",
      "matching = [False] - accuracy = 0.0\n",
      "matching = [False] - accuracy = 0.0\n",
      "matching = [False] - accuracy = 0.0\n"
     ]
    },
    {
     "name": "stderr",
     "output_type": "stream",
     "text": [
      " 28%|█████████████████████████████████████████▎                                                                                                           | 292/1052 [00:01<00:03, 191.95it/s]"
     ]
    },
    {
     "name": "stdout",
     "output_type": "stream",
     "text": [
      "matching = [False] - accuracy = 0.0\n",
      "matching = [False] - accuracy = 0.0\n",
      "matching = [False] - accuracy = 0.0\n",
      "matching = [False] - accuracy = 0.0\n"
     ]
    },
    {
     "name": "stderr",
     "output_type": "stream",
     "text": [
      " 32%|███████████████████████████████████████████████                                                                                                      | 332/1052 [00:01<00:03, 187.90it/s]"
     ]
    },
    {
     "name": "stdout",
     "output_type": "stream",
     "text": [
      "matching = [False] - accuracy = 0.0\n",
      "matching = [False] - accuracy = 0.0\n",
      "matching = [False] - accuracy = 0.0\n",
      "matching = [False] - accuracy = 0.0\n"
     ]
    },
    {
     "name": "stderr",
     "output_type": "stream",
     "text": [
      " 36%|█████████████████████████████████████████████████████▍                                                                                               | 377/1052 [00:01<00:03, 206.55it/s]"
     ]
    },
    {
     "name": "stdout",
     "output_type": "stream",
     "text": [
      "matching = [False] - accuracy = 0.0\n",
      "matching = [False] - accuracy = 0.0\n",
      "matching = [False] - accuracy = 0.0\n",
      "matching = [False] - accuracy = 0.0\n",
      "matching = [False] - accuracy = 0.0\n"
     ]
    },
    {
     "name": "stderr",
     "output_type": "stream",
     "text": [
      " 40%|███████████████████████████████████████████████████████████▎                                                                                         | 419/1052 [00:02<00:03, 200.12it/s]"
     ]
    },
    {
     "name": "stdout",
     "output_type": "stream",
     "text": [
      "matching = [False] - accuracy = 0.0\n",
      "matching = [False] - accuracy = 0.0\n",
      "matching = [False] - accuracy = 0.0\n",
      "matching = [False] - accuracy = 0.0\n"
     ]
    },
    {
     "name": "stderr",
     "output_type": "stream",
     "text": [
      " 44%|█████████████████████████████████████████████████████████████████▏                                                                                   | 460/1052 [00:02<00:03, 186.05it/s]"
     ]
    },
    {
     "name": "stdout",
     "output_type": "stream",
     "text": [
      "matching = [False] - accuracy = 0.0\n",
      "matching = [False] - accuracy = 0.0\n",
      "matching = [False] - accuracy = 0.0\n",
      "matching = [False] - accuracy = 0.0\n"
     ]
    },
    {
     "name": "stderr",
     "output_type": "stream",
     "text": [
      " 48%|███████████████████████████████████████████████████████████████████████▌                                                                             | 505/1052 [00:02<00:02, 204.42it/s]"
     ]
    },
    {
     "name": "stdout",
     "output_type": "stream",
     "text": [
      "matching = [False] - accuracy = 0.0\n",
      "matching = [False] - accuracy = 0.0\n",
      "matching = [False] - accuracy = 0.0\n",
      "matching = [False] - accuracy = 0.0\n",
      "matching = [False] - accuracy = 0.0\n"
     ]
    },
    {
     "name": "stderr",
     "output_type": "stream",
     "text": [
      " 52%|█████████████████████████████████████████████████████████████████████████████▍                                                                       | 547/1052 [00:02<00:02, 201.98it/s]"
     ]
    },
    {
     "name": "stdout",
     "output_type": "stream",
     "text": [
      "matching = [False] - accuracy = 0.0\n",
      "matching = [False] - accuracy = 0.0\n",
      "matching = [False] - accuracy = 0.0\n",
      "matching = [False] - accuracy = 0.0\n",
      "matching = [False] - accuracy = 0.0\n"
     ]
    },
    {
     "name": "stderr",
     "output_type": "stream",
     "text": [
      " 58%|██████████████████████████████████████████████████████████████████████████████████████▌                                                              | 611/1052 [00:03<00:02, 205.19it/s]"
     ]
    },
    {
     "name": "stdout",
     "output_type": "stream",
     "text": [
      "matching = [False] - accuracy = 0.0\n",
      "matching = [False] - accuracy = 0.0\n",
      "matching = [False] - accuracy = 0.0\n",
      "matching = [False] - accuracy = 0.0\n",
      "matching = [False] - accuracy = 0.0\n"
     ]
    },
    {
     "name": "stderr",
     "output_type": "stream",
     "text": [
      " 62%|████████████████████████████████████████████████████████████████████████████████████████████▉                                                        | 656/1052 [00:03<00:01, 212.03it/s]"
     ]
    },
    {
     "name": "stdout",
     "output_type": "stream",
     "text": [
      "matching = [False] - accuracy = 0.0\n",
      "matching = [False] - accuracy = 0.0\n",
      "matching = [False] - accuracy = 0.0\n",
      "matching = [False] - accuracy = 0.0\n",
      "matching = [False] - accuracy = 0.0\n"
     ]
    },
    {
     "name": "stderr",
     "output_type": "stream",
     "text": [
      " 66%|███████████████████████████████████████████████████████████████████████████████████████████████████                                                  | 699/1052 [00:03<00:01, 198.21it/s]"
     ]
    },
    {
     "name": "stdout",
     "output_type": "stream",
     "text": [
      "matching = [False] - accuracy = 0.0\n",
      "matching = [False] - accuracy = 0.0\n",
      "matching = [False] - accuracy = 0.0\n",
      "matching = [False] - accuracy = 0.0\n"
     ]
    },
    {
     "name": "stderr",
     "output_type": "stream",
     "text": [
      " 70%|████████████████████████████████████████████████████████████████████████████████████████████████████████▉                                            | 741/1052 [00:03<00:01, 197.88it/s]"
     ]
    },
    {
     "name": "stdout",
     "output_type": "stream",
     "text": [
      "matching = [False] - accuracy = 0.0\n",
      "matching = [True] - accuracy = 1.0\n",
      "matching = [False] - accuracy = 0.0\n",
      "matching = [False] - accuracy = 0.0\n",
      "matching = [False] - accuracy = 0.0\n"
     ]
    },
    {
     "name": "stderr",
     "output_type": "stream",
     "text": [
      " 74%|██████████████████████████████████████████████████████████████████████████████████████████████████████████████▉                                      | 783/1052 [00:03<00:01, 187.65it/s]"
     ]
    },
    {
     "name": "stdout",
     "output_type": "stream",
     "text": [
      "matching = [False] - accuracy = 0.0\n",
      "matching = [False] - accuracy = 0.0\n",
      "matching = [False] - accuracy = 0.0\n",
      "matching = [False] - accuracy = 0.0\n"
     ]
    },
    {
     "name": "stderr",
     "output_type": "stream",
     "text": [
      " 78%|████████████████████████████████████████████████████████████████████████████████████████████████████████████████████▍                                | 822/1052 [00:04<00:01, 186.51it/s]"
     ]
    },
    {
     "name": "stdout",
     "output_type": "stream",
     "text": [
      "matching = [False] - accuracy = 0.0\n",
      "matching = [False] - accuracy = 0.0\n",
      "matching = [False] - accuracy = 0.0\n",
      "matching = [False] - accuracy = 0.0\n"
     ]
    },
    {
     "name": "stderr",
     "output_type": "stream",
     "text": [
      " 82%|█████████████████████████████████████████████████████████████████████████████████████████████████████████████████████████▊                           | 860/1052 [00:04<00:01, 182.87it/s]"
     ]
    },
    {
     "name": "stdout",
     "output_type": "stream",
     "text": [
      "matching = [False] - accuracy = 0.0\n",
      "matching = [False] - accuracy = 0.0\n",
      "matching = [False] - accuracy = 0.0\n",
      "matching = [False] - accuracy = 0.0\n"
     ]
    },
    {
     "name": "stderr",
     "output_type": "stream",
     "text": [
      " 86%|███████████████████████████████████████████████████████████████████████████████████████████████████████████████████████████████▊                     | 902/1052 [00:04<00:00, 191.94it/s]"
     ]
    },
    {
     "name": "stdout",
     "output_type": "stream",
     "text": [
      "matching = [False] - accuracy = 0.0\n",
      "matching = [False] - accuracy = 0.0\n",
      "matching = [True] - accuracy = 1.0\n",
      "matching = [False] - accuracy = 0.0\n"
     ]
    },
    {
     "name": "stderr",
     "output_type": "stream",
     "text": [
      " 90%|█████████████████████████████████████████████████████████████████████████████████████████████████████████████████████████████████████▋               | 944/1052 [00:04<00:00, 193.74it/s]"
     ]
    },
    {
     "name": "stdout",
     "output_type": "stream",
     "text": [
      "matching = [False] - accuracy = 0.0\n",
      "matching = [False] - accuracy = 0.0\n",
      "matching = [False] - accuracy = 0.0\n",
      "matching = [False] - accuracy = 0.0\n"
     ]
    },
    {
     "name": "stderr",
     "output_type": "stream",
     "text": [
      " 94%|███████████████████████████████████████████████████████████████████████████████████████████████████████████████████████████████████████████▎         | 984/1052 [00:05<00:00, 186.62it/s]"
     ]
    },
    {
     "name": "stdout",
     "output_type": "stream",
     "text": [
      "matching = [False] - accuracy = 0.0\n",
      "matching = [False] - accuracy = 0.0\n",
      "matching = [False] - accuracy = 0.0\n",
      "matching = [False] - accuracy = 0.0\n"
     ]
    },
    {
     "name": "stderr",
     "output_type": "stream",
     "text": [
      " 97%|████████████████████████████████████████████████████████████████████████████████████████████████████████████████████████████████████████████████    | 1024/1052 [00:05<00:00, 191.44it/s]"
     ]
    },
    {
     "name": "stdout",
     "output_type": "stream",
     "text": [
      "pred: 59 - target: 55 - loss: 21.748 - raw pred: tensor([[ -4.5229, -24.3954,  -9.1612, -10.1633, -27.5452,  -6.8496, -12.3579,\n",
      "         -11.4863, -17.4864, -14.3407, -13.3105,  -7.8369, -10.2165, -24.9380,\n",
      "          -5.7423, -24.0103,  -7.9759, -23.4043, -20.3268,  -9.0550, -15.9673,\n",
      "         -14.9465, -11.5534,  -6.1310, -23.7307, -19.6178, -19.7972, -19.9343,\n",
      "         -15.8408,  -9.7211, -14.7593, -17.6457, -15.8105, -15.0108, -10.0524,\n",
      "          -4.1616,  -4.0745, -24.2850,  -5.7206, -22.8255, -22.8823, -24.6223,\n",
      "         -26.7767, -17.4436, -21.0987, -16.6241, -27.9125,  -5.2123, -21.1235,\n",
      "          -4.9037,  -9.0084,  -5.2372, -22.1371, -12.1446, -19.1681, -22.2334,\n",
      "          -3.2817, -18.4787, -14.8987,  -0.6932, -25.9045,  -9.6676, -14.3278,\n",
      "         -13.5223, -23.5588, -19.6876, -16.5835, -15.6382, -10.2779, -33.6134,\n",
      "         -30.1626,  -8.2904, -12.1295, -10.7478, -18.0322, -23.9361, -13.5029,\n",
      "         -19.0082,  -9.1116, -27.5686, -11.4642, -13.6833, -21.7405,  -6.0323,\n",
      "          -6.8811,  -6.5608, -23.3953, -12.8478, -16.0533, -19.5162, -10.5323,\n",
      "         -22.0958, -21.4598]], device='cuda:0')\n",
      "matching = [False] - accuracy = 0.0\n",
      "matching = [False] - accuracy = 0.0\n",
      "matching = [False] - accuracy = 0.0\n",
      "matching = [False] - accuracy = 0.0\n"
     ]
    },
    {
     "name": "stderr",
     "output_type": "stream",
     "text": [
      "100%|████████████████████████████████████████████████████████████████████████████████████████████████████████████████████████████████████████████████████| 1052/1052 [00:05<00:00, 195.67it/s]\n"
     ]
    },
    {
     "name": "stdout",
     "output_type": "stream",
     "text": [
      "matching = [False] - accuracy = 0.0\n",
      "matching = [False] - accuracy = 0.0\n",
      "//////////////////// Epoch: 5 ////////////////////\n"
     ]
    },
    {
     "name": "stderr",
     "output_type": "stream",
     "text": [
      "  0%|▎                                                                                                                                                      | 10/4207 [00:00<00:42, 97.71it/s]"
     ]
    },
    {
     "name": "stdout",
     "output_type": "stream",
     "text": [
      "pred: 13 - target: 85 - loss: 2.108 - raw pred: tensor([[-13.9884, -17.3708, -24.8905, -17.7512, -12.8312, -16.9365,  -9.5766,\n",
      "         -16.3843, -23.4685, -23.6780,  -6.9001, -22.0230, -17.7535,  -2.7594,\n",
      "         -11.3082,  -9.2869, -19.4089,  -4.7966, -13.0278, -18.9834, -25.6218,\n",
      "         -11.1803, -20.2321, -12.7187, -28.8593, -21.4255, -15.3249, -16.1008,\n",
      "         -26.5309,  -8.2319, -23.3114, -14.6547,  -7.3733, -26.3759, -15.3885,\n",
      "          -9.9674, -17.7941,  -5.9032,  -9.2584, -12.0510, -25.7518, -11.2047,\n",
      "         -28.0331, -13.7666,  -9.8603, -23.8243, -14.3508, -10.1989, -24.3925,\n",
      "         -19.5130, -17.2381, -18.9864, -19.3654, -10.9850, -22.8376, -21.9380,\n",
      "         -17.8895,  -9.1223, -14.0400, -14.8608, -28.9509, -22.0379, -18.5109,\n",
      "         -22.2309, -17.8690, -24.4063, -12.4725,  -5.4867, -18.0245, -26.2020,\n",
      "         -15.2216, -12.8222, -21.1265, -19.2359, -28.4945, -14.2279,  -5.8395,\n",
      "          -7.5036, -22.2079, -24.8733,  -5.7840, -19.7174, -10.8070,  -6.8067,\n",
      "         -14.7948,  -4.2938, -24.6292,  -4.7047, -13.3290,  -6.8119, -17.2319,\n",
      "         -21.1906, -11.5735]], device='cuda:0', grad_fn=<AddmmBackward0>)\n"
     ]
    },
    {
     "name": "stderr",
     "output_type": "stream",
     "text": [
      " 24%|████████████████████████████████████                                                                                                                 | 1017/4207 [00:10<00:36, 88.41it/s]"
     ]
    },
    {
     "name": "stdout",
     "output_type": "stream",
     "text": [
      "pred: 67 - target: 76 - loss: 4.730 - raw pred: tensor([[-17.1694, -14.4316, -30.4014, -21.6482, -12.7169, -20.0497, -14.1357,\n",
      "         -20.7829, -22.3463, -26.9866, -10.9997, -27.8065, -26.0387,  -6.3279,\n",
      "         -17.9697,  -7.3928, -19.3245,  -7.2805, -18.0558, -22.1344, -24.5066,\n",
      "         -12.0061, -25.4570, -20.8868, -28.6310, -22.3971, -21.5477, -24.5507,\n",
      "         -30.3839, -13.1277, -22.3883, -21.4406,  -6.9803, -29.1660, -19.2664,\n",
      "         -11.6989, -21.5000,  -8.7607, -10.3745,  -6.2070, -27.5571,  -5.6306,\n",
      "         -28.2084, -13.9469,  -5.7146, -24.6881,  -7.7441, -16.6246, -27.5065,\n",
      "         -23.6911, -20.5042, -21.6295, -23.7496, -19.9601, -27.8195, -20.3584,\n",
      "         -22.8383, -15.5499, -22.8247, -16.2311, -28.7504, -27.2046, -23.9558,\n",
      "         -23.2301, -26.7045, -27.2276, -18.8922,  -5.5440, -24.3004, -25.7815,\n",
      "         -10.7351, -11.4363, -23.6957, -27.4017, -26.7388, -12.1498,  -8.3600,\n",
      "          -7.3679, -21.7319, -25.3314,  -6.5348, -26.4291,  -7.4030,  -9.6931,\n",
      "         -22.9511,  -6.5769, -23.5871, -15.8095, -19.5049,  -5.6506, -26.0551,\n",
      "         -25.9761,  -6.8108]], device='cuda:0', grad_fn=<AddmmBackward0>)\n"
     ]
    },
    {
     "name": "stderr",
     "output_type": "stream",
     "text": [
      " 48%|███████████████████████████████████████████████████████████████████████▎                                                                             | 2015/4207 [00:22<00:24, 91.02it/s]"
     ]
    },
    {
     "name": "stdout",
     "output_type": "stream",
     "text": [
      "pred: 84 - target: 84 - loss: 0.373 - raw pred: tensor([[ -7.7413, -18.6124,  -8.0816,  -5.1010, -14.5841,  -5.6694,  -7.0747,\n",
      "          -8.6688, -14.6382, -11.2751,  -6.3029,  -7.8207,  -6.5372, -17.0348,\n",
      "          -3.8268, -14.0383, -12.1143, -15.9646,  -9.0864,  -5.5293, -12.4290,\n",
      "         -10.9387,  -5.2481,  -2.8209, -16.8606, -11.4390,  -8.1773,  -7.8032,\n",
      "          -9.1275,  -8.7231, -13.2383,  -5.5867,  -9.9022, -11.5617,  -6.5271,\n",
      "          -3.8669,  -6.3142, -17.4219,  -6.9809, -18.1741, -19.3353, -20.3983,\n",
      "         -20.8513,  -9.2272, -17.8086, -16.1792, -20.3935,  -6.6090, -15.9994,\n",
      "          -6.6986,  -6.6549,  -8.9413,  -8.5997,  -6.5982,  -9.0285, -12.6312,\n",
      "          -5.6914,  -8.3280,  -9.4895,  -5.4646, -17.2963,  -5.1985,  -4.6160,\n",
      "         -13.5404,  -8.5348, -10.1563,  -6.7647, -10.6149,  -5.3165, -29.8429,\n",
      "         -19.9400,  -5.9142,  -9.9710,  -7.7123, -15.6516, -16.4465,  -9.5389,\n",
      "         -11.6829, -12.7048, -25.9141, -11.2828,  -9.8680, -13.3808,  -8.4916,\n",
      "          -0.8737,  -6.3311, -17.8834,  -7.7766,  -4.6935, -10.8751,  -5.8169,\n",
      "         -13.8650, -15.3630]], device='cuda:0', grad_fn=<AddmmBackward0>)\n"
     ]
    },
    {
     "name": "stderr",
     "output_type": "stream",
     "text": [
      " 72%|██████████████████████████████████████████████████████████████████████████████████████████████████████████▋                                          | 3014/4207 [00:33<00:13, 91.71it/s]"
     ]
    },
    {
     "name": "stdout",
     "output_type": "stream",
     "text": [
      "pred: 67 - target: 67 - loss: 0.263 - raw pred: tensor([[-20.0915, -17.9119, -33.6387, -20.3765, -11.1193, -19.3564, -10.2669,\n",
      "         -21.6709, -24.7617, -27.6362,  -9.5978, -29.6908, -25.1744,  -8.8405,\n",
      "         -16.1077,  -7.4680, -24.5994,  -7.2847, -14.4877, -23.2866, -26.8407,\n",
      "         -11.1022, -25.8367, -19.8423, -31.2465, -22.3943, -18.5995, -22.8025,\n",
      "         -32.0077, -12.3517, -24.2936, -18.8412,  -5.8428, -32.1212, -16.3470,\n",
      "         -12.1364, -22.7628, -10.4678, -11.8518, -12.9581, -28.9570, -11.7986,\n",
      "         -30.6721, -12.4620, -10.0003, -26.4651, -13.6565, -17.3674, -29.2321,\n",
      "         -26.3748, -19.8978, -24.1791, -24.8112, -18.1994, -29.3589, -19.1500,\n",
      "         -24.6770, -12.4850, -24.7057, -18.0758, -31.4748, -28.5109, -24.3294,\n",
      "         -25.8927, -25.4212, -28.0168, -16.6279,  -2.9428, -25.7844, -31.0001,\n",
      "         -16.1422, -12.1020, -25.1658, -27.8654, -30.8562, -15.1148,  -6.0271,\n",
      "          -5.1873, -25.9524, -30.7469,  -7.0327, -28.6277,  -9.7306, -11.9291,\n",
      "         -22.7620,  -8.1784, -25.7841, -13.8298, -17.0242,  -6.2046, -26.3576,\n",
      "         -26.5849,  -9.6950]], device='cuda:0', grad_fn=<AddmmBackward0>)\n"
     ]
    },
    {
     "name": "stderr",
     "output_type": "stream",
     "text": [
      " 95%|██████████████████████████████████████████████████████████████████████████████████████████████████████████████████████████████████████████████       | 4010/4207 [00:44<00:02, 88.03it/s]"
     ]
    },
    {
     "name": "stdout",
     "output_type": "stream",
     "text": [
      "pred: 43 - target: 43 - loss: 0.344 - raw pred: tensor([[-25.3254, -20.7865, -35.7226, -17.5767, -11.2282, -13.9974, -16.7346,\n",
      "         -23.9763, -25.3281, -27.5266, -12.6560, -32.4407, -24.3962, -28.0613,\n",
      "         -20.9263,  -7.6818, -20.5063, -25.2142, -11.9081, -16.5668, -22.8641,\n",
      "         -25.6233, -22.7213, -24.6070, -30.5446, -26.7070, -18.1278, -18.6621,\n",
      "         -22.6855, -25.5953, -24.7933, -13.5217, -14.3984, -34.2881, -15.6763,\n",
      "          -8.9157, -17.1207, -29.7757, -14.6886, -23.7390, -30.7509, -23.6624,\n",
      "         -33.0857,  -5.9679, -18.8490, -27.8099, -20.6659, -26.0682, -31.3813,\n",
      "         -24.7000, -19.0948, -23.4528, -20.6266, -24.5007, -27.4055, -19.2354,\n",
      "         -23.5975, -10.0464, -30.6237, -15.7318, -34.2532, -20.6599, -21.9995,\n",
      "         -30.7079, -24.5661, -24.1108, -11.7240, -14.0662, -21.5441, -45.9796,\n",
      "         -19.2494,  -7.9705, -24.3971, -30.7801, -29.4075, -15.7906, -11.9727,\n",
      "         -13.2283, -26.0286, -40.4035, -20.9964, -34.5959, -10.8997, -24.1108,\n",
      "         -21.8373, -13.5066, -29.7406, -26.1077, -13.9707, -15.2139, -22.7622,\n",
      "         -34.6052, -16.6751]], device='cuda:0', grad_fn=<AddmmBackward0>)\n"
     ]
    },
    {
     "name": "stderr",
     "output_type": "stream",
     "text": [
      "100%|█████████████████████████████████████████████████████████████████████████████████████████████████████████████████████████████████████████████████████| 4207/4207 [00:46<00:00, 90.25it/s]\n"
     ]
    },
    {
     "name": "stdout",
     "output_type": "stream",
     "text": [
      "//////////////////// Validation ////////////////////\n"
     ]
    },
    {
     "name": "stderr",
     "output_type": "stream",
     "text": [
      "  2%|██▉                                                                                                                                                   | 21/1052 [00:00<00:04, 209.16it/s]"
     ]
    },
    {
     "name": "stdout",
     "output_type": "stream",
     "text": [
      "pred: 87 - target: 22 - loss: 12.051 - raw pred: tensor([[-12.9794, -31.1791, -23.1425, -16.8397, -23.0979, -14.1012,  -8.9390,\n",
      "         -17.6938, -29.5662, -24.4486,  -8.8012, -17.4690, -14.9581, -16.2393,\n",
      "          -8.9144, -19.9275, -23.8789, -14.2141, -14.3028, -19.4291, -32.2312,\n",
      "         -15.5256, -17.0356,  -7.9841, -32.3380, -20.8618, -16.7522, -18.2695,\n",
      "         -27.0811,  -8.8901, -27.9303, -16.2250, -13.4676, -27.9108, -12.4273,\n",
      "         -11.8475, -14.3726, -16.2085,  -9.8024, -27.4103, -30.8501, -27.8051,\n",
      "         -35.7666, -19.2003, -23.1853, -28.6978, -31.8820,  -9.4717, -27.0586,\n",
      "         -18.0145, -16.8440, -19.1094, -23.9186,  -7.5277, -25.3779, -26.6969,\n",
      "         -17.0401, -11.1965, -15.7042, -14.8400, -35.8657, -21.3179, -16.3523,\n",
      "         -27.7353, -20.9253, -23.8655, -12.5075, -13.5012, -19.6801, -38.6674,\n",
      "         -30.6930, -17.8668, -22.6453, -14.9439, -32.1360, -25.2967, -12.9634,\n",
      "         -15.8293, -28.9297, -39.3664, -13.3664, -19.9691, -22.0212,  -9.8067,\n",
      "         -12.0197,  -8.3536, -31.5232,  -5.3113, -12.9731, -15.4427, -13.9569,\n",
      "         -25.8373, -25.4430]], device='cuda:0')\n",
      "matching = [False] - accuracy = 0.0\n",
      "matching = [False] - accuracy = 0.0\n",
      "matching = [False] - accuracy = 0.0\n",
      "matching = [False] - accuracy = 0.0\n",
      "matching = [False] - accuracy = 0.0\n"
     ]
    },
    {
     "name": "stderr",
     "output_type": "stream",
     "text": [
      "  6%|████████▉                                                                                                                                             | 63/1052 [00:00<00:04, 202.09it/s]"
     ]
    },
    {
     "name": "stdout",
     "output_type": "stream",
     "text": [
      "matching = [True] - accuracy = 1.0\n",
      "matching = [False] - accuracy = 0.0\n",
      "matching = [False] - accuracy = 0.0\n",
      "matching = [False] - accuracy = 0.0\n"
     ]
    },
    {
     "name": "stderr",
     "output_type": "stream",
     "text": [
      " 12%|█████████████████▊                                                                                                                                   | 126/1052 [00:00<00:04, 197.47it/s]"
     ]
    },
    {
     "name": "stdout",
     "output_type": "stream",
     "text": [
      "matching = [False] - accuracy = 0.0\n",
      "matching = [False] - accuracy = 0.0\n",
      "matching = [True] - accuracy = 1.0\n",
      "matching = [False] - accuracy = 0.0\n"
     ]
    },
    {
     "name": "stderr",
     "output_type": "stream",
     "text": [
      " 16%|███████████████████████▋                                                                                                                             | 167/1052 [00:00<00:04, 196.44it/s]"
     ]
    },
    {
     "name": "stdout",
     "output_type": "stream",
     "text": [
      "matching = [False] - accuracy = 0.0\n",
      "matching = [False] - accuracy = 0.0\n",
      "matching = [False] - accuracy = 0.0\n",
      "matching = [False] - accuracy = 0.0\n"
     ]
    },
    {
     "name": "stderr",
     "output_type": "stream",
     "text": [
      " 20%|█████████████████████████████▍                                                                                                                       | 208/1052 [00:01<00:04, 197.11it/s]"
     ]
    },
    {
     "name": "stdout",
     "output_type": "stream",
     "text": [
      "matching = [False] - accuracy = 0.0\n",
      "matching = [False] - accuracy = 0.0\n",
      "matching = [False] - accuracy = 0.0\n",
      "matching = [False] - accuracy = 0.0\n",
      "matching = [False] - accuracy = 0.0\n"
     ]
    },
    {
     "name": "stderr",
     "output_type": "stream",
     "text": [
      " 24%|████████████████████████████████████                                                                                                                 | 255/1052 [00:01<00:03, 215.42it/s]"
     ]
    },
    {
     "name": "stdout",
     "output_type": "stream",
     "text": [
      "matching = [False] - accuracy = 0.0\n",
      "matching = [False] - accuracy = 0.0\n",
      "matching = [False] - accuracy = 0.0\n",
      "matching = [False] - accuracy = 0.0\n",
      "matching = [False] - accuracy = 0.0\n"
     ]
    },
    {
     "name": "stderr",
     "output_type": "stream",
     "text": [
      " 28%|██████████████████████████████████████████▎                                                                                                          | 299/1052 [00:01<00:03, 203.27it/s]"
     ]
    },
    {
     "name": "stdout",
     "output_type": "stream",
     "text": [
      "matching = [False] - accuracy = 0.0\n",
      "matching = [False] - accuracy = 0.0\n",
      "matching = [False] - accuracy = 0.0\n",
      "matching = [False] - accuracy = 0.0\n"
     ]
    },
    {
     "name": "stderr",
     "output_type": "stream",
     "text": [
      " 32%|████████████████████████████████████████████████▏                                                                                                    | 340/1052 [00:01<00:03, 194.31it/s]"
     ]
    },
    {
     "name": "stdout",
     "output_type": "stream",
     "text": [
      "matching = [False] - accuracy = 0.0\n",
      "matching = [False] - accuracy = 0.0\n",
      "matching = [False] - accuracy = 0.0\n",
      "matching = [False] - accuracy = 0.0\n"
     ]
    },
    {
     "name": "stderr",
     "output_type": "stream",
     "text": [
      " 36%|█████████████████████████████████████████████████████▉                                                                                               | 381/1052 [00:01<00:03, 194.46it/s]"
     ]
    },
    {
     "name": "stdout",
     "output_type": "stream",
     "text": [
      "matching = [False] - accuracy = 0.0\n",
      "matching = [False] - accuracy = 0.0\n",
      "matching = [False] - accuracy = 0.0\n",
      "matching = [False] - accuracy = 0.0\n"
     ]
    },
    {
     "name": "stderr",
     "output_type": "stream",
     "text": [
      " 40%|███████████████████████████████████████████████████████████▋                                                                                         | 421/1052 [00:02<00:03, 195.33it/s]"
     ]
    },
    {
     "name": "stdout",
     "output_type": "stream",
     "text": [
      "matching = [False] - accuracy = 0.0\n",
      "matching = [False] - accuracy = 0.0\n",
      "matching = [False] - accuracy = 0.0\n",
      "matching = [False] - accuracy = 0.0\n"
     ]
    },
    {
     "name": "stderr",
     "output_type": "stream",
     "text": [
      " 44%|█████████████████████████████████████████████████████████████████▍                                                                                   | 462/1052 [00:02<00:03, 189.98it/s]"
     ]
    },
    {
     "name": "stdout",
     "output_type": "stream",
     "text": [
      "matching = [False] - accuracy = 0.0\n",
      "matching = [False] - accuracy = 0.0\n",
      "matching = [False] - accuracy = 0.0\n",
      "matching = [False] - accuracy = 0.0\n"
     ]
    },
    {
     "name": "stderr",
     "output_type": "stream",
     "text": [
      " 48%|███████████████████████████████████████████████████████████████████████▍                                                                             | 504/1052 [00:02<00:02, 195.31it/s]"
     ]
    },
    {
     "name": "stdout",
     "output_type": "stream",
     "text": [
      "matching = [False] - accuracy = 0.0\n",
      "matching = [False] - accuracy = 0.0\n",
      "matching = [False] - accuracy = 0.0\n",
      "matching = [False] - accuracy = 0.0\n"
     ]
    },
    {
     "name": "stderr",
     "output_type": "stream",
     "text": [
      " 52%|█████████████████████████████████████████████████████████████████████████████                                                                        | 544/1052 [00:02<00:02, 191.59it/s]"
     ]
    },
    {
     "name": "stdout",
     "output_type": "stream",
     "text": [
      "matching = [False] - accuracy = 0.0\n",
      "matching = [True] - accuracy = 1.0\n",
      "matching = [False] - accuracy = 0.0\n",
      "matching = [False] - accuracy = 0.0\n"
     ]
    },
    {
     "name": "stderr",
     "output_type": "stream",
     "text": [
      " 56%|██████████████████████████████████████████████████████████████████████████████████▋                                                                  | 584/1052 [00:02<00:02, 190.08it/s]"
     ]
    },
    {
     "name": "stdout",
     "output_type": "stream",
     "text": [
      "matching = [False] - accuracy = 0.0\n",
      "matching = [False] - accuracy = 0.0\n",
      "matching = [False] - accuracy = 0.0\n",
      "matching = [False] - accuracy = 0.0\n"
     ]
    },
    {
     "name": "stderr",
     "output_type": "stream",
     "text": [
      " 60%|████████████████████████████████████████████████████████████████████████████████████████▋                                                            | 626/1052 [00:03<00:02, 197.17it/s]"
     ]
    },
    {
     "name": "stdout",
     "output_type": "stream",
     "text": [
      "matching = [False] - accuracy = 0.0\n",
      "matching = [False] - accuracy = 0.0\n",
      "matching = [False] - accuracy = 0.0\n",
      "matching = [False] - accuracy = 0.0\n",
      "matching = [False] - accuracy = 0.0\n"
     ]
    },
    {
     "name": "stderr",
     "output_type": "stream",
     "text": [
      " 63%|██████████████████████████████████████████████████████████████████████████████████████████████▎                                                      | 666/1052 [00:03<00:02, 186.88it/s]"
     ]
    },
    {
     "name": "stdout",
     "output_type": "stream",
     "text": [
      "matching = [False] - accuracy = 0.0\n",
      "matching = [False] - accuracy = 0.0\n",
      "matching = [False] - accuracy = 0.0\n",
      "matching = [False] - accuracy = 0.0\n"
     ]
    },
    {
     "name": "stderr",
     "output_type": "stream",
     "text": [
      " 67%|████████████████████████████████████████████████████████████████████████████████████████████████████▍                                                | 709/1052 [00:03<00:01, 200.19it/s]"
     ]
    },
    {
     "name": "stdout",
     "output_type": "stream",
     "text": [
      "matching = [False] - accuracy = 0.0\n",
      "matching = [False] - accuracy = 0.0\n",
      "matching = [False] - accuracy = 0.0\n",
      "matching = [False] - accuracy = 0.0\n",
      "matching = [False] - accuracy = 0.0\n"
     ]
    },
    {
     "name": "stderr",
     "output_type": "stream",
     "text": [
      " 73%|█████████████████████████████████████████████████████████████████████████████████████████████████████████████▏                                       | 771/1052 [00:03<00:01, 199.84it/s]"
     ]
    },
    {
     "name": "stdout",
     "output_type": "stream",
     "text": [
      "matching = [False] - accuracy = 0.0\n",
      "matching = [False] - accuracy = 0.0\n",
      "matching = [False] - accuracy = 0.0\n",
      "matching = [False] - accuracy = 0.0\n",
      "matching = [False] - accuracy = 0.0\n"
     ]
    },
    {
     "name": "stderr",
     "output_type": "stream",
     "text": [
      " 77%|███████████████████████████████████████████████████████████████████████████████████████████████████████████████████                                  | 812/1052 [00:04<00:01, 186.44it/s]"
     ]
    },
    {
     "name": "stdout",
     "output_type": "stream",
     "text": [
      "matching = [False] - accuracy = 0.0\n",
      "matching = [False] - accuracy = 0.0\n",
      "matching = [False] - accuracy = 0.0\n",
      "matching = [False] - accuracy = 0.0\n"
     ]
    },
    {
     "name": "stderr",
     "output_type": "stream",
     "text": [
      " 81%|████████████████████████████████████████████████████████████████████████████████████████████████████████████████████████▋                            | 852/1052 [00:04<00:01, 188.51it/s]"
     ]
    },
    {
     "name": "stdout",
     "output_type": "stream",
     "text": [
      "matching = [False] - accuracy = 0.0\n",
      "matching = [False] - accuracy = 0.0\n",
      "matching = [False] - accuracy = 0.0\n",
      "matching = [False] - accuracy = 0.0\n"
     ]
    },
    {
     "name": "stderr",
     "output_type": "stream",
     "text": [
      " 85%|██████████████████████████████████████████████████████████████████████████████████████████████████████████████████████████████                       | 890/1052 [00:04<00:00, 186.07it/s]"
     ]
    },
    {
     "name": "stdout",
     "output_type": "stream",
     "text": [
      "matching = [False] - accuracy = 0.0\n",
      "matching = [False] - accuracy = 0.0\n",
      "matching = [False] - accuracy = 0.0\n",
      "matching = [False] - accuracy = 0.0\n"
     ]
    },
    {
     "name": "stderr",
     "output_type": "stream",
     "text": [
      " 88%|███████████████████████████████████████████████████████████████████████████████████████████████████████████████████████████████████▋                 | 930/1052 [00:04<00:00, 191.51it/s]"
     ]
    },
    {
     "name": "stdout",
     "output_type": "stream",
     "text": [
      "matching = [False] - accuracy = 0.0\n",
      "matching = [False] - accuracy = 0.0\n",
      "matching = [False] - accuracy = 0.0\n",
      "matching = [False] - accuracy = 0.0\n",
      "matching = [False] - accuracy = 0.0\n"
     ]
    },
    {
     "name": "stderr",
     "output_type": "stream",
     "text": [
      " 92%|█████████████████████████████████████████████████████████████████████████████████████████████████████████████████████████████████████████▊           | 973/1052 [00:04<00:00, 202.75it/s]"
     ]
    },
    {
     "name": "stdout",
     "output_type": "stream",
     "text": [
      "matching = [False] - accuracy = 0.0\n",
      "matching = [False] - accuracy = 0.0\n",
      "matching = [False] - accuracy = 0.0\n",
      "matching = [False] - accuracy = 0.0\n",
      "matching = [False] - accuracy = 0.0\n"
     ]
    },
    {
     "name": "stderr",
     "output_type": "stream",
     "text": [
      " 98%|█████████████████████████████████████████████████████████████████████████████████████████████████████████████████████████████████████████████████▍  | 1034/1052 [00:05<00:00, 189.10it/s]"
     ]
    },
    {
     "name": "stdout",
     "output_type": "stream",
     "text": [
      "pred: 33 - target: 58 - loss: 3.265 - raw pred: tensor([[-16.9659, -27.3381,  -5.9509,  -9.6217, -25.3947,  -3.4652, -21.6907,\n",
      "          -3.8146, -10.6291,  -9.6270, -18.5625, -21.1010,  -3.9112, -21.6821,\n",
      "          -7.8921, -21.3939, -12.4968, -18.6212, -23.9605,  -7.5303,  -9.5404,\n",
      "         -26.8210,  -8.2947, -14.7098, -26.9633, -21.7225, -27.8734, -21.5568,\n",
      "         -17.8166, -23.9097,  -6.6076, -21.1841, -22.6361,  -2.8565,  -9.9506,\n",
      "          -6.0818,  -9.3495, -22.0331, -19.3591, -23.1320, -18.0872, -23.0735,\n",
      "         -21.3362, -22.3293, -23.8534,  -9.7596, -24.5857, -19.3722, -19.3161,\n",
      "         -11.7116,  -4.2397, -10.8080, -13.6242, -20.9278, -15.6904, -26.1502,\n",
      "         -12.6108, -21.6912,  -4.6659, -14.6127, -15.9142,  -7.7291, -23.3729,\n",
      "          -2.9860, -22.9762, -21.9527, -21.8826, -22.2213,  -4.4486, -23.8297,\n",
      "         -24.8848, -10.9449,  -4.1164, -11.0085, -14.4162, -24.7581, -23.1382,\n",
      "         -23.2623, -13.3788, -21.9446, -25.2755,  -5.5314, -23.0046, -16.6447,\n",
      "         -17.7713, -19.6122, -17.7245, -21.1846, -19.8226, -23.0500,  -6.9603,\n",
      "         -12.6736, -20.8905]], device='cuda:0')\n",
      "matching = [False] - accuracy = 0.0\n",
      "matching = [False] - accuracy = 0.0\n",
      "matching = [False] - accuracy = 0.0\n",
      "matching = [False] - accuracy = 0.0\n"
     ]
    },
    {
     "name": "stderr",
     "output_type": "stream",
     "text": [
      "100%|████████████████████████████████████████████████████████████████████████████████████████████████████████████████████████████████████████████████████| 1052/1052 [00:05<00:00, 194.91it/s]\n"
     ]
    },
    {
     "name": "stdout",
     "output_type": "stream",
     "text": [
      "matching = [False] - accuracy = 0.0\n",
      "matching = [False] - accuracy = 0.0\n",
      "//////////////////// Epoch: 6 ////////////////////\n"
     ]
    },
    {
     "name": "stderr",
     "output_type": "stream",
     "text": [
      "  0%|▍                                                                                                                                                      | 11/4207 [00:00<00:42, 98.45it/s]"
     ]
    },
    {
     "name": "stdout",
     "output_type": "stream",
     "text": [
      "pred: 67 - target: 67 - loss: 1.258 - raw pred: tensor([[-17.5931, -14.3900, -29.4964, -17.4746,  -9.1512, -17.3084, -11.4120,\n",
      "         -18.9276, -21.1376, -24.0855,  -9.4839, -26.3128, -22.7600, -11.3021,\n",
      "         -16.6628,  -6.6215, -19.7060, -10.1025, -12.9168, -19.6612, -22.3513,\n",
      "         -11.0329, -21.2449, -19.5043, -26.7550, -19.0247, -17.3358, -20.7087,\n",
      "         -25.3012, -13.1684, -21.1701, -17.3179,  -5.8449, -27.6886, -14.0378,\n",
      "          -8.9662, -18.3715, -11.3903, -10.8904, -11.4657, -24.2941, -11.0402,\n",
      "         -26.4442, -10.6402,  -8.1739, -21.9811, -12.3044, -16.3167, -24.8060,\n",
      "         -22.6604, -16.6669, -19.9154, -21.3545, -17.5879, -25.7020, -16.2657,\n",
      "         -21.1261, -12.7304, -23.0232, -15.0825, -27.3751, -24.1636, -21.3359,\n",
      "         -23.1560, -24.2776, -23.2919, -15.0738,  -5.2402, -22.8329, -27.8888,\n",
      "         -12.9220,  -9.4829, -21.7690, -25.2872, -25.4470, -11.7220,  -6.2798,\n",
      "          -6.2016, -21.8301, -27.1159,  -8.3483, -26.1291,  -7.3668, -12.7887,\n",
      "         -20.2913,  -9.0588, -22.5818, -15.6793, -15.6152,  -5.7506, -23.1409,\n",
      "         -23.8583,  -8.5520]], device='cuda:0', grad_fn=<AddmmBackward0>)\n"
     ]
    },
    {
     "name": "stderr",
     "output_type": "stream",
     "text": [
      " 24%|████████████████████████████████████                                                                                                                 | 1018/4207 [00:10<00:34, 91.58it/s]"
     ]
    },
    {
     "name": "stdout",
     "output_type": "stream",
     "text": [
      "pred: 83 - target: 83 - loss: 0.470 - raw pred: tensor([[ -7.4505, -31.0251, -19.5152, -20.4612, -31.4193, -13.8908, -15.7908,\n",
      "         -16.4607, -23.2157, -21.9842, -17.5009, -14.2980, -18.0199, -19.8044,\n",
      "          -9.6577, -26.0964, -14.2726, -18.0079, -24.6771, -21.4365, -26.6600,\n",
      "         -12.4260, -22.2857, -12.2742, -27.5847, -21.5685, -28.6618, -32.1415,\n",
      "         -29.2496,  -8.4755, -21.7621, -25.8158, -15.3675, -25.1892, -15.5175,\n",
      "         -13.9914, -11.1005, -19.3257,  -6.5641, -23.5397, -27.9008, -23.5023,\n",
      "         -31.6530, -23.3030, -18.5545, -21.5892, -29.3141,  -6.5603, -24.9635,\n",
      "         -11.2846, -17.6005, -10.2484, -33.9173, -17.7998, -32.9815, -27.9207,\n",
      "         -14.1851, -21.7739, -18.7208, -10.9820, -32.8327, -23.9866, -26.2855,\n",
      "         -20.6743, -37.3713, -28.7776, -22.6791, -16.3339, -21.4797, -29.4599,\n",
      "         -33.5554, -15.9394, -19.3052, -16.7479, -25.3971, -26.0788, -15.4278,\n",
      "         -18.1523, -16.5667, -29.6571,  -8.8209, -20.5737, -25.7100,  -5.0143,\n",
      "         -19.4547,  -9.9390, -27.8280, -11.1270, -23.1510, -18.8422, -20.3052,\n",
      "         -26.3172, -23.2271]], device='cuda:0', grad_fn=<AddmmBackward0>)\n"
     ]
    },
    {
     "name": "stderr",
     "output_type": "stream",
     "text": [
      " 48%|███████████████████████████████████████████████████████████████████████▎                                                                             | 2013/4207 [00:21<00:24, 89.90it/s]"
     ]
    },
    {
     "name": "stdout",
     "output_type": "stream",
     "text": [
      "pred: 76 - target: 67 - loss: 1.415 - raw pred: tensor([[-21.4505, -18.0212, -33.4382, -21.1597,  -9.9029, -19.8098, -13.9356,\n",
      "         -21.2717, -25.9950, -28.3169, -10.6247, -28.6989, -25.7786, -14.1226,\n",
      "         -16.8623,  -7.4320, -24.2817, -11.4035, -14.6716, -23.9610, -27.9174,\n",
      "          -9.0432, -25.5901, -20.6049, -29.0026, -21.6538, -19.8608, -24.4171,\n",
      "         -29.3787, -14.4857, -25.9579, -19.6465,  -7.3718, -34.3281, -15.9146,\n",
      "         -11.7090, -19.0448, -13.4645, -11.5992, -15.6019, -28.5948, -14.7106,\n",
      "         -31.4454, -13.0064, -10.2442, -27.4706, -15.3279, -17.8194, -27.3639,\n",
      "         -24.5120, -19.7443, -22.4582, -26.1092, -21.0016, -30.0940, -19.2852,\n",
      "         -25.3395, -13.4117, -26.6030, -17.9431, -33.7326, -27.8823, -26.1700,\n",
      "         -27.6705, -30.8280, -26.3999, -16.5776,  -6.2605, -26.1801, -32.4625,\n",
      "         -17.4529, -12.5567, -27.0185, -28.4135, -31.0077, -13.9023,  -6.1903,\n",
      "          -7.5850, -26.2216, -32.7647,  -8.0116, -31.1281, -10.4093, -12.4229,\n",
      "         -23.1925, -10.3648, -26.3997, -16.6364, -19.1940,  -6.5282, -26.9940,\n",
      "         -28.6984,  -9.9579]], device='cuda:0', grad_fn=<AddmmBackward0>)\n"
     ]
    },
    {
     "name": "stderr",
     "output_type": "stream",
     "text": [
      " 72%|██████████████████████████████████████████████████████████████████████████████████████████████████████████▋                                          | 3012/4207 [00:32<00:13, 88.02it/s]"
     ]
    },
    {
     "name": "stdout",
     "output_type": "stream",
     "text": [
      "pred: 71 - target: 71 - loss: 0.001 - raw pred: tensor([[-26.2426, -37.1474, -27.1515, -18.7358, -38.7841, -13.1177, -36.8488,\n",
      "         -22.4072, -21.7274, -30.9667, -34.3073, -28.9451, -25.2608, -47.0108,\n",
      "         -18.8648, -31.7690, -14.5862, -47.0721, -39.7380, -12.0593, -18.3319,\n",
      "         -42.2908, -27.6274, -26.3139, -36.2637, -43.8595, -42.4930, -34.0074,\n",
      "         -24.8666, -34.1197, -19.7505, -25.4867, -34.6565, -28.7201, -25.1591,\n",
      "         -15.4412, -11.1274, -54.5279, -16.2563, -34.2765, -44.8929, -35.8561,\n",
      "         -39.0844, -20.9870, -32.2159, -24.2161, -35.6919, -30.7850, -35.6658,\n",
      "         -16.6099, -20.3532, -14.2908, -35.3487, -44.8755, -41.3987, -35.5657,\n",
      "         -16.8328, -30.4056, -33.5268, -13.6987, -36.2134, -14.6587, -32.9735,\n",
      "         -24.9268, -50.1132, -35.8354, -29.8314, -34.9769, -16.6765, -57.5794,\n",
      "         -40.0602,  -2.9818, -21.7603, -27.7592, -33.7491, -33.5318, -31.6768,\n",
      "         -34.9991, -13.8316, -47.8369, -33.3136, -36.8082, -29.6759, -26.0068,\n",
      "         -25.5879, -15.4513, -38.9743, -39.3380, -29.8383, -37.5424, -18.4770,\n",
      "         -38.0048, -26.2339]], device='cuda:0', grad_fn=<AddmmBackward0>)\n"
     ]
    },
    {
     "name": "stderr",
     "output_type": "stream",
     "text": [
      " 95%|██████████████████████████████████████████████████████████████████████████████████████████████████████████████████████████████████████████████       | 4012/4207 [00:44<00:02, 93.89it/s]"
     ]
    },
    {
     "name": "stdout",
     "output_type": "stream",
     "text": [
      "pred: 52 - target: 52 - loss: 0.103 - raw pred: tensor([[-17.4106, -20.2437, -15.4975,  -5.7850, -18.4037,  -9.5150, -11.9858,\n",
      "          -7.8786, -12.0049, -10.0592, -11.6398, -18.6210,  -7.3928, -14.4918,\n",
      "          -9.0732, -13.2008, -17.5318, -15.5179, -10.6681,  -3.7759,  -7.3023,\n",
      "         -23.0567,  -7.2137, -10.9755, -20.1171, -16.7442, -10.2633,  -7.9370,\n",
      "         -11.4426, -16.9694,  -9.2223,  -6.2544, -17.0222, -10.3944, -12.4248,\n",
      "         -11.3036, -12.5901, -17.9613, -15.8249, -18.4188, -22.3479, -19.3447,\n",
      "         -19.2166, -13.0818, -19.5317, -15.8835, -19.0217, -14.7629, -16.7905,\n",
      "         -14.0942,  -6.2759, -16.2725,  -0.2362, -12.0963,  -4.6057, -16.4082,\n",
      "         -12.2295,  -9.0320,  -6.8841, -15.1239, -16.5397,  -4.1741, -10.7016,\n",
      "         -10.9067,  -5.4795,  -9.2534,  -7.9237, -15.5914,  -4.3973, -27.3681,\n",
      "         -17.9847,  -8.8639,  -9.1896, -14.0571, -20.3586, -18.9336, -16.8060,\n",
      "         -16.7480, -17.5532, -23.6761, -20.0698,  -9.4269, -15.0734, -15.4396,\n",
      "          -7.1714, -13.3876, -17.3388, -14.0887,  -7.4463, -16.8597,  -4.8708,\n",
      "         -11.5164, -16.4841]], device='cuda:0', grad_fn=<AddmmBackward0>)\n"
     ]
    },
    {
     "name": "stderr",
     "output_type": "stream",
     "text": [
      "100%|█████████████████████████████████████████████████████████████████████████████████████████████████████████████████████████████████████████████████████| 4207/4207 [00:46<00:00, 91.04it/s]\n"
     ]
    },
    {
     "name": "stdout",
     "output_type": "stream",
     "text": [
      "//////////////////// Validation ////////////////////\n"
     ]
    },
    {
     "name": "stderr",
     "output_type": "stream",
     "text": [
      "  2%|██▋                                                                                                                                                   | 19/1052 [00:00<00:05, 184.86it/s]"
     ]
    },
    {
     "name": "stdout",
     "output_type": "stream",
     "text": [
      "pred: 19 - target: 56 - loss: 10.089 - raw pred: tensor([[-29.3764, -37.6907, -30.4569,  -9.3532, -31.7188, -15.2057, -21.2849,\n",
      "         -18.0278, -28.1990, -24.3575, -21.2259, -31.5364, -17.2863, -37.6643,\n",
      "         -16.2252, -26.7431, -32.1524, -39.3680, -20.1928,  -6.1659, -19.3690,\n",
      "         -37.7123, -14.6718, -17.1476, -36.8081, -30.8591, -16.3624, -13.4129,\n",
      "         -16.0599, -31.4521, -24.5613,  -7.7008, -28.8063, -26.7873, -20.1865,\n",
      "         -14.9922, -18.4478, -45.1991, -25.9564, -37.1651, -45.4570, -40.8361,\n",
      "         -38.9902, -18.5219, -39.0339, -34.2571, -38.1131, -27.0779, -31.9045,\n",
      "         -20.8381, -13.8870, -27.1610, -10.0725, -23.6493, -14.5063, -27.0027,\n",
      "         -15.8318, -17.2938, -22.9480, -22.0236, -35.2929,  -8.1262, -12.4960,\n",
      "         -28.2712, -15.8704, -16.2975, -14.0881, -28.3958, -10.4028, -62.1725,\n",
      "         -37.1602, -13.7515, -21.6479, -27.6553, -39.1808, -34.4884, -27.9107,\n",
      "         -30.5628, -30.7698, -56.2662, -36.2210, -24.0805, -27.7887, -28.9543,\n",
      "          -8.7535, -20.6368, -40.3129, -28.7692, -10.8559, -30.8147, -11.3188,\n",
      "         -26.1048, -31.1143]], device='cuda:0')\n",
      "matching = [False] - accuracy = 0.0\n",
      "matching = [False] - accuracy = 0.0\n",
      "matching = [False] - accuracy = 0.0\n",
      "matching = [False] - accuracy = 0.0\n"
     ]
    },
    {
     "name": "stderr",
     "output_type": "stream",
     "text": [
      "  6%|████████▌                                                                                                                                             | 60/1052 [00:00<00:05, 183.48it/s]"
     ]
    },
    {
     "name": "stdout",
     "output_type": "stream",
     "text": [
      "matching = [False] - accuracy = 0.0\n",
      "matching = [False] - accuracy = 0.0\n",
      "matching = [False] - accuracy = 0.0\n",
      "matching = [False] - accuracy = 0.0\n"
     ]
    },
    {
     "name": "stderr",
     "output_type": "stream",
     "text": [
      " 11%|████████████████▋                                                                                                                                    | 118/1052 [00:00<00:05, 184.29it/s]"
     ]
    },
    {
     "name": "stdout",
     "output_type": "stream",
     "text": [
      "matching = [False] - accuracy = 0.0\n",
      "matching = [False] - accuracy = 0.0\n",
      "matching = [False] - accuracy = 0.0\n",
      "matching = [False] - accuracy = 0.0\n"
     ]
    },
    {
     "name": "stderr",
     "output_type": "stream",
     "text": [
      " 15%|██████████████████████▍                                                                                                                              | 158/1052 [00:00<00:04, 188.36it/s]"
     ]
    },
    {
     "name": "stdout",
     "output_type": "stream",
     "text": [
      "matching = [False] - accuracy = 0.0\n",
      "matching = [False] - accuracy = 0.0\n",
      "matching = [False] - accuracy = 0.0\n",
      "matching = [False] - accuracy = 0.0\n"
     ]
    },
    {
     "name": "stderr",
     "output_type": "stream",
     "text": [
      " 19%|████████████████████████████▎                                                                                                                        | 200/1052 [00:01<00:04, 199.09it/s]"
     ]
    },
    {
     "name": "stdout",
     "output_type": "stream",
     "text": [
      "matching = [False] - accuracy = 0.0\n",
      "matching = [False] - accuracy = 0.0\n",
      "matching = [False] - accuracy = 0.0\n",
      "matching = [False] - accuracy = 0.0\n",
      "matching = [False] - accuracy = 0.0\n"
     ]
    },
    {
     "name": "stderr",
     "output_type": "stream",
     "text": [
      " 23%|█████████████████████████████████▉                                                                                                                   | 240/1052 [00:01<00:04, 197.51it/s]"
     ]
    },
    {
     "name": "stdout",
     "output_type": "stream",
     "text": [
      "matching = [False] - accuracy = 0.0\n",
      "matching = [False] - accuracy = 0.0\n",
      "matching = [False] - accuracy = 0.0\n",
      "matching = [False] - accuracy = 0.0\n",
      "matching = [False] - accuracy = 0.0\n"
     ]
    },
    {
     "name": "stderr",
     "output_type": "stream",
     "text": [
      " 27%|███████████████████████████████████████▉                                                                                                             | 282/1052 [00:01<00:04, 192.49it/s]"
     ]
    },
    {
     "name": "stdout",
     "output_type": "stream",
     "text": [
      "matching = [False] - accuracy = 0.0\n",
      "matching = [False] - accuracy = 0.0\n",
      "matching = [False] - accuracy = 0.0\n",
      "matching = [False] - accuracy = 0.0\n"
     ]
    },
    {
     "name": "stderr",
     "output_type": "stream",
     "text": [
      " 31%|██████████████████████████████████████████████▏                                                                                                      | 326/1052 [00:01<00:03, 203.74it/s]"
     ]
    },
    {
     "name": "stdout",
     "output_type": "stream",
     "text": [
      "matching = [False] - accuracy = 0.0\n",
      "matching = [False] - accuracy = 0.0\n",
      "matching = [True] - accuracy = 1.0\n",
      "matching = [False] - accuracy = 0.0\n",
      "matching = [False] - accuracy = 0.0\n"
     ]
    },
    {
     "name": "stderr",
     "output_type": "stream",
     "text": [
      " 35%|████████████████████████████████████████████████████                                                                                                 | 368/1052 [00:01<00:03, 190.40it/s]"
     ]
    },
    {
     "name": "stdout",
     "output_type": "stream",
     "text": [
      "matching = [False] - accuracy = 0.0\n",
      "matching = [False] - accuracy = 0.0\n",
      "matching = [False] - accuracy = 0.0\n",
      "matching = [False] - accuracy = 0.0\n"
     ]
    },
    {
     "name": "stderr",
     "output_type": "stream",
     "text": [
      " 41%|████████████████████████████████████████████████████████████▉                                                                                        | 430/1052 [00:02<00:03, 197.73it/s]"
     ]
    },
    {
     "name": "stdout",
     "output_type": "stream",
     "text": [
      "matching = [False] - accuracy = 0.0\n",
      "matching = [False] - accuracy = 0.0\n",
      "matching = [False] - accuracy = 0.0\n",
      "matching = [False] - accuracy = 0.0\n",
      "matching = [False] - accuracy = 0.0\n"
     ]
    },
    {
     "name": "stderr",
     "output_type": "stream",
     "text": [
      " 45%|██████████████████████████████████████████████████████████████████▋                                                                                  | 471/1052 [00:02<00:02, 198.51it/s]"
     ]
    },
    {
     "name": "stdout",
     "output_type": "stream",
     "text": [
      "matching = [False] - accuracy = 0.0\n",
      "matching = [False] - accuracy = 0.0\n",
      "matching = [False] - accuracy = 0.0\n",
      "matching = [False] - accuracy = 0.0\n"
     ]
    },
    {
     "name": "stderr",
     "output_type": "stream",
     "text": [
      " 49%|████████████████████████████████████████████████████████████████████████▌                                                                            | 512/1052 [00:02<00:02, 195.90it/s]"
     ]
    },
    {
     "name": "stdout",
     "output_type": "stream",
     "text": [
      "matching = [False] - accuracy = 0.0\n",
      "matching = [False] - accuracy = 0.0\n",
      "matching = [False] - accuracy = 0.0\n",
      "matching = [False] - accuracy = 0.0\n",
      "matching = [False] - accuracy = 0.0\n"
     ]
    },
    {
     "name": "stderr",
     "output_type": "stream",
     "text": [
      " 53%|██████████████████████████████████████████████████████████████████████████████▋                                                                      | 556/1052 [00:02<00:02, 206.83it/s]"
     ]
    },
    {
     "name": "stdout",
     "output_type": "stream",
     "text": [
      "matching = [False] - accuracy = 0.0\n",
      "matching = [True] - accuracy = 1.0\n",
      "matching = [False] - accuracy = 0.0\n",
      "matching = [False] - accuracy = 0.0\n",
      "matching = [False] - accuracy = 0.0\n"
     ]
    },
    {
     "name": "stderr",
     "output_type": "stream",
     "text": [
      " 59%|███████████████████████████████████████████████████████████████████████████████████████▉                                                             | 621/1052 [00:03<00:02, 207.33it/s]"
     ]
    },
    {
     "name": "stdout",
     "output_type": "stream",
     "text": [
      "matching = [False] - accuracy = 0.0\n",
      "matching = [False] - accuracy = 0.0\n",
      "matching = [False] - accuracy = 0.0\n",
      "matching = [False] - accuracy = 0.0\n",
      "matching = [False] - accuracy = 0.0\n"
     ]
    },
    {
     "name": "stderr",
     "output_type": "stream",
     "text": [
      " 63%|█████████████████████████████████████████████████████████████████████████████████████████████▉                                                       | 663/1052 [00:03<00:01, 200.54it/s]"
     ]
    },
    {
     "name": "stdout",
     "output_type": "stream",
     "text": [
      "matching = [False] - accuracy = 0.0\n",
      "matching = [True] - accuracy = 1.0\n",
      "matching = [False] - accuracy = 0.0\n",
      "matching = [False] - accuracy = 0.0\n"
     ]
    },
    {
     "name": "stderr",
     "output_type": "stream",
     "text": [
      " 67%|███████████████████████████████████████████████████████████████████████████████████████████████████▊                                                 | 705/1052 [00:03<00:01, 193.90it/s]"
     ]
    },
    {
     "name": "stdout",
     "output_type": "stream",
     "text": [
      "matching = [False] - accuracy = 0.0\n",
      "matching = [False] - accuracy = 0.0\n",
      "matching = [False] - accuracy = 0.0\n",
      "matching = [False] - accuracy = 0.0\n"
     ]
    },
    {
     "name": "stderr",
     "output_type": "stream",
     "text": [
      " 71%|█████████████████████████████████████████████████████████████████████████████████████████████████████████▌                                           | 745/1052 [00:03<00:01, 190.10it/s]"
     ]
    },
    {
     "name": "stdout",
     "output_type": "stream",
     "text": [
      "matching = [False] - accuracy = 0.0\n",
      "matching = [False] - accuracy = 0.0\n",
      "matching = [False] - accuracy = 0.0\n",
      "matching = [False] - accuracy = 0.0\n"
     ]
    },
    {
     "name": "stderr",
     "output_type": "stream",
     "text": [
      " 75%|███████████████████████████████████████████████████████████████████████████████████████████████████████████████▍                                     | 787/1052 [00:04<00:01, 191.68it/s]"
     ]
    },
    {
     "name": "stdout",
     "output_type": "stream",
     "text": [
      "matching = [False] - accuracy = 0.0\n",
      "matching = [False] - accuracy = 0.0\n",
      "matching = [False] - accuracy = 0.0\n",
      "matching = [False] - accuracy = 0.0\n"
     ]
    },
    {
     "name": "stderr",
     "output_type": "stream",
     "text": [
      " 79%|█████████████████████████████████████████████████████████████████████████████████████████████████████████████████████▊                               | 832/1052 [00:04<00:01, 203.30it/s]"
     ]
    },
    {
     "name": "stdout",
     "output_type": "stream",
     "text": [
      "matching = [False] - accuracy = 0.0\n",
      "matching = [False] - accuracy = 0.0\n",
      "matching = [False] - accuracy = 0.0\n",
      "matching = [False] - accuracy = 0.0\n",
      "matching = [False] - accuracy = 0.0\n"
     ]
    },
    {
     "name": "stderr",
     "output_type": "stream",
     "text": [
      " 83%|████████████████████████████████████████████████████████████████████████████████████████████████████████████████████████████▏                        | 877/1052 [00:04<00:00, 201.72it/s]"
     ]
    },
    {
     "name": "stdout",
     "output_type": "stream",
     "text": [
      "matching = [False] - accuracy = 0.0\n",
      "matching = [False] - accuracy = 0.0\n",
      "matching = [False] - accuracy = 0.0\n",
      "matching = [True] - accuracy = 1.0\n"
     ]
    },
    {
     "name": "stderr",
     "output_type": "stream",
     "text": [
      "\r",
      " 85%|███████████████████████████████████████████████████████████████████████████████████████████████████████████████████████████████▏                     | 898/1052 [00:04<00:00, 195.15it/s]"
     ]
    },
    {
     "name": "stdout",
     "output_type": "stream",
     "text": [
      "matching = [False] - accuracy = 0.0\n",
      "matching = [False] - accuracy = 0.0\n",
      "matching = [False] - accuracy = 0.0\n",
      "matching = [False] - accuracy = 0.0\n"
     ]
    },
    {
     "name": "stderr",
     "output_type": "stream",
     "text": [
      " 91%|████████████████████████████████████████████████████████████████████████████████████████████████████████████████████████████████████████             | 961/1052 [00:04<00:00, 196.72it/s]"
     ]
    },
    {
     "name": "stdout",
     "output_type": "stream",
     "text": [
      "matching = [False] - accuracy = 0.0\n",
      "matching = [False] - accuracy = 0.0\n",
      "matching = [False] - accuracy = 0.0\n",
      "matching = [False] - accuracy = 0.0\n",
      "matching = [False] - accuracy = 0.0\n"
     ]
    },
    {
     "name": "stderr",
     "output_type": "stream",
     "text": [
      " 95%|████████████████████████████████████████████████████████████████████████████████████████████████████████████████████████████████████████████▊       | 1001/1052 [00:05<00:00, 195.41it/s]"
     ]
    },
    {
     "name": "stdout",
     "output_type": "stream",
     "text": [
      "matching = [False] - accuracy = 0.0\n",
      "matching = [False] - accuracy = 0.0\n",
      "matching = [False] - accuracy = 0.0\n",
      "pred: 88 - target: 78 - loss: 35.983 - raw pred: tensor([[-25.1209, -31.6258, -32.4204, -10.2872, -18.5705, -13.5583,  -9.1320,\n",
      "         -15.2845, -29.6700, -26.1139,  -9.6423, -27.7991, -13.4428, -23.7948,\n",
      "         -12.5317, -14.6512, -36.2003, -23.9471,  -9.5153, -12.3103, -26.2654,\n",
      "         -25.7714, -10.8635, -11.4385, -32.1453, -18.8736,  -6.1130,  -6.9416,\n",
      "         -19.4844, -21.5099, -29.2532,  -3.8676, -16.2361, -27.3996, -10.0659,\n",
      "          -9.6086, -20.3678, -28.1100, -20.0515, -29.9174, -38.6329, -32.8436,\n",
      "         -38.0226, -12.4020, -31.3169, -34.7994, -31.9073, -20.1058, -28.6574,\n",
      "         -24.2817, -10.8923, -29.6010,  -8.4008,  -9.9293, -11.6915, -20.2539,\n",
      "         -19.2541,  -6.6613, -18.4703, -21.2234, -34.5583, -14.0824,  -8.0525,\n",
      "         -30.4644,  -5.8068, -11.3711,  -5.0845, -14.1163, -12.5421, -54.6553,\n",
      "         -26.3027, -16.6068, -22.5207, -23.0864, -39.0946, -26.5816, -14.2219,\n",
      "         -17.7153, -37.2086, -49.6888, -25.2431, -23.8420, -19.9738, -21.8091,\n",
      "          -5.6123, -15.2620, -34.2831, -15.8142,  -1.3692, -17.7520, -12.1975,\n",
      "         -25.0276, -24.0675]], device='cuda:0')\n",
      "matching = [False] - accuracy = 0.0\n"
     ]
    },
    {
     "name": "stderr",
     "output_type": "stream",
     "text": [
      " 99%|██████████████████████████████████████████████████████████████████████████████████████████████████████████████████████████████████████████████████▍ | 1041/1052 [00:05<00:00, 195.27it/s]"
     ]
    },
    {
     "name": "stdout",
     "output_type": "stream",
     "text": [
      "matching = [False] - accuracy = 0.0\n",
      "matching = [False] - accuracy = 0.0\n",
      "matching = [False] - accuracy = 0.0\n",
      "matching = [False] - accuracy = 0.0\n",
      "matching = [False] - accuracy = 0.0\n"
     ]
    },
    {
     "name": "stderr",
     "output_type": "stream",
     "text": [
      "100%|████████████████████████████████████████████████████████████████████████████████████████████████████████████████████████████████████████████████████| 1052/1052 [00:05<00:00, 196.35it/s]\n"
     ]
    },
    {
     "name": "stdout",
     "output_type": "stream",
     "text": [
      "//////////////////// Epoch: 7 ////////////////////\n"
     ]
    },
    {
     "name": "stderr",
     "output_type": "stream",
     "text": [
      "  0%|▎                                                                                                                                                      | 10/4207 [00:00<00:45, 92.46it/s]"
     ]
    },
    {
     "name": "stdout",
     "output_type": "stream",
     "text": [
      "pred: 87 - target: 87 - loss: 0.262 - raw pred: tensor([[-17.0720, -36.0576, -28.7911, -20.2673, -25.2720, -17.5607,  -7.5581,\n",
      "         -19.0644, -33.2066, -27.7890,  -7.1190, -20.6181, -17.4584, -13.0019,\n",
      "          -8.9254, -18.4463, -31.6223, -12.1310, -14.7580, -22.2729, -36.7927,\n",
      "         -16.8251, -20.4932,  -9.1950, -33.5457, -19.1883, -18.2597, -22.0734,\n",
      "         -34.7899, -10.1497, -32.6359, -16.9646, -14.6588, -31.5292, -17.5304,\n",
      "         -16.3524, -20.6641, -13.0595, -10.6626, -26.6085, -33.9522, -26.3741,\n",
      "         -35.3245, -18.3058, -24.6093, -33.4059, -31.4352, -11.2394, -30.2700,\n",
      "         -23.9706, -19.0804, -24.7117, -24.2674,  -9.4968, -26.5671, -28.4992,\n",
      "         -21.7679,  -8.2392, -15.4191, -20.2470, -38.1837, -27.6168, -18.6513,\n",
      "         -30.6150, -21.6410, -25.3756, -11.3122, -13.7428, -21.7244, -38.5995,\n",
      "         -30.7014, -21.1996, -24.6268, -19.0917, -36.2385, -29.4110, -13.9283,\n",
      "         -16.7006, -36.3303, -40.0151, -15.5351, -21.0123, -22.5488,  -9.9321,\n",
      "         -14.3176,  -9.1772, -32.7060,  -4.9304, -13.2224, -16.0562, -16.2443,\n",
      "         -26.4852, -25.6091]], device='cuda:0', grad_fn=<AddmmBackward0>)\n"
     ]
    },
    {
     "name": "stderr",
     "output_type": "stream",
     "text": [
      " 24%|███████████████████████████████████▉                                                                                                                 | 1014/4207 [00:10<00:35, 90.10it/s]"
     ]
    },
    {
     "name": "stdout",
     "output_type": "stream",
     "text": [
      "pred: 30 - target: 30 - loss: 0.380 - raw pred: tensor([[-18.8707, -19.4793, -16.8238, -15.9860, -18.8735, -11.3867, -23.0410,\n",
      "          -6.4158,  -4.8648,  -7.2039, -21.1416, -24.2306,  -7.7788, -16.9034,\n",
      "         -17.4739, -16.4909,  -8.6537, -19.1670, -21.9689, -10.8329,  -3.4198,\n",
      "         -23.5408, -11.0293, -20.0324, -19.1472, -21.5493, -22.6455, -22.1080,\n",
      "         -14.7684, -19.8131,  -0.4952, -20.9875, -19.3555,  -9.8091, -13.4197,\n",
      "         -12.1339, -10.3024, -19.8659, -11.1674, -16.2792,  -9.7328, -15.7644,\n",
      "         -17.8499, -14.8864, -15.9311,  -1.5033, -17.2288, -18.9361, -18.1409,\n",
      "         -16.8160,  -5.4677, -13.8406, -13.7770, -23.2226, -19.7652, -19.4525,\n",
      "         -14.4210, -19.2556, -14.8619, -16.0519, -13.9319, -12.7931, -24.5030,\n",
      "          -5.1473, -23.8167, -23.3439, -20.2898, -18.9258, -12.8703, -11.6057,\n",
      "         -16.1666, -11.2365,  -5.3148, -21.0518, -15.4449, -19.7016, -19.9360,\n",
      "         -19.9579,  -8.2165,  -8.8931, -18.4015, -11.8443, -15.5010, -18.2465,\n",
      "         -19.4683, -17.8081,  -9.0498, -20.9135, -18.3091, -18.5811, -13.5532,\n",
      "         -13.3279, -15.8816]], device='cuda:0', grad_fn=<AddmmBackward0>)\n"
     ]
    },
    {
     "name": "stderr",
     "output_type": "stream",
     "text": [
      " 48%|███████████████████████████████████████████████████████████████████████▌                                                                             | 2019/4207 [00:22<00:22, 95.65it/s]"
     ]
    },
    {
     "name": "stdout",
     "output_type": "stream",
     "text": [
      "pred: 77 - target: 89 - loss: 3.242 - raw pred: tensor([[-17.8728, -16.4472, -29.0375, -16.0717, -11.3761, -16.1616,  -8.7902,\n",
      "         -17.9206, -22.5150, -24.0312,  -8.1279, -24.8419, -22.0982, -15.5209,\n",
      "         -14.1243,  -8.4212, -20.2853, -13.3980, -10.7299, -19.0393, -23.9805,\n",
      "         -10.7223, -21.2091, -16.1501, -24.5623, -17.2917, -13.4799, -19.5336,\n",
      "         -22.6101, -13.3223, -22.5661, -14.9420,  -6.0123, -28.8896, -12.6871,\n",
      "          -8.3280, -16.8833, -16.1743, -10.4063, -15.6976, -25.4193, -15.6457,\n",
      "         -26.4697,  -8.9928, -12.7421, -22.7628, -17.2282, -15.8656, -24.1340,\n",
      "         -21.7089, -16.1957, -19.9328, -22.1272, -15.3948, -25.9068, -12.6482,\n",
      "         -19.0523, -10.5606, -23.5882, -14.1627, -28.4821, -22.7536, -18.3668,\n",
      "         -24.3415, -23.7159, -21.9723, -13.4753,  -5.3455, -20.6518, -31.3055,\n",
      "         -15.1754,  -9.1943, -22.7977, -24.3249, -26.5157, -14.0711,  -5.4601,\n",
      "          -5.0872, -23.0160, -30.2862,  -9.0923, -27.1883,  -9.5862, -13.7264,\n",
      "         -16.6918,  -7.9768, -23.4561, -14.7389, -13.0039,  -7.1413, -21.5912,\n",
      "         -24.6369, -10.6156]], device='cuda:0', grad_fn=<AddmmBackward0>)\n"
     ]
    },
    {
     "name": "stderr",
     "output_type": "stream",
     "text": [
      " 72%|██████████████████████████████████████████████████████████████████████████████████████████████████████████▊                                          | 3016/4207 [00:33<00:12, 93.15it/s]"
     ]
    },
    {
     "name": "stdout",
     "output_type": "stream",
     "text": [
      "pred: 57 - target: 18 - loss: 7.187 - raw pred: tensor([[-16.9097, -29.2946, -26.6070, -16.6690, -20.2487, -15.8369,  -5.3804,\n",
      "         -15.4156, -26.1397, -23.7435,  -6.0462, -20.9887, -14.6966,  -8.5415,\n",
      "          -8.5410, -12.1021, -28.5488,  -7.6854, -10.9996, -19.7721, -29.8853,\n",
      "         -17.2186, -17.1015,  -9.5448, -28.1702, -15.0040, -14.1990, -17.2712,\n",
      "         -31.1730, -10.3785, -26.6333, -12.7349, -10.7161, -25.5756, -14.9760,\n",
      "         -13.8509, -19.1666,  -8.8521, -10.5148, -17.9931, -27.6844, -19.2183,\n",
      "         -28.7390, -12.9894, -20.2314, -27.4922, -23.1590, -12.3973, -26.3570,\n",
      "         -24.5059, -14.7130, -23.4727, -17.2320,  -7.1361, -20.8055, -21.7174,\n",
      "         -20.3400,  -4.9057, -13.9276, -19.4588, -29.5376, -23.7472, -16.5851,\n",
      "         -24.9206, -14.3657, -19.8269,  -7.8824,  -9.8558, -18.7463, -32.1604,\n",
      "         -20.7253, -17.1595, -21.2021, -17.2821, -30.9626, -25.0537, -12.3504,\n",
      "         -13.5862, -32.4212, -32.2356, -13.6208, -18.7047, -16.3997, -10.7974,\n",
      "         -13.2376,  -7.2267, -26.2155,  -5.4060,  -9.8392, -12.1031, -13.5031,\n",
      "         -22.2320, -20.6200]], device='cuda:0', grad_fn=<AddmmBackward0>)\n"
     ]
    },
    {
     "name": "stderr",
     "output_type": "stream",
     "text": [
      " 95%|█████████████████████████████████████████████████████████████████████████████████████████████████████████████████████████████████████████████▉       | 4007/4207 [00:44<00:02, 84.40it/s]"
     ]
    },
    {
     "name": "stdout",
     "output_type": "stream",
     "text": [
      "pred: 31 - target: 31 - loss: 0.130 - raw pred: tensor([[-25.9555, -30.4739, -27.6594,  -7.1426, -21.4637, -11.7498, -14.3954,\n",
      "         -15.1677, -25.4922, -24.5901, -14.4970, -27.9632, -13.9698, -30.4400,\n",
      "         -12.4065, -18.5180, -28.1343, -30.2190, -11.2289,  -8.1652, -19.4907,\n",
      "         -33.1566,  -9.6451, -13.1285, -28.1061, -23.5045,  -8.9706,  -6.9055,\n",
      "         -16.1261, -25.8869, -23.9150,  -2.7362, -20.9514, -24.9909, -11.6702,\n",
      "         -10.6564, -15.7072, -35.7493, -21.0638, -31.0484, -38.7133, -34.2269,\n",
      "         -32.6543, -12.8136, -33.2546, -31.6737, -31.4677, -23.8900, -25.0064,\n",
      "         -19.9266, -12.2207, -24.3080,  -8.0290, -18.6075,  -9.8643, -20.0686,\n",
      "         -17.4304,  -7.9627, -19.5069, -18.3840, -32.5724,  -7.7461, -10.0050,\n",
      "         -25.9888,  -9.9456, -10.2247,  -7.2253, -20.4637, -10.0939, -51.6154,\n",
      "         -27.6281, -12.2614, -20.9841, -20.3933, -33.2253, -27.6586, -20.1670,\n",
      "         -22.2957, -29.5236, -49.5779, -30.0910, -24.6744, -21.9922, -23.9992,\n",
      "          -8.3893, -15.6974, -35.8897, -21.2411,  -5.5071, -23.1073,  -7.9638,\n",
      "         -23.9658, -25.1422]], device='cuda:0', grad_fn=<AddmmBackward0>)\n"
     ]
    },
    {
     "name": "stderr",
     "output_type": "stream",
     "text": [
      "100%|█████████████████████████████████████████████████████████████████████████████████████████████████████████████████████████████████████████████████████| 4207/4207 [00:46<00:00, 90.58it/s]\n"
     ]
    },
    {
     "name": "stdout",
     "output_type": "stream",
     "text": [
      "//////////////////// Validation ////////////////////\n"
     ]
    },
    {
     "name": "stderr",
     "output_type": "stream",
     "text": [
      "  2%|██▋                                                                                                                                                   | 19/1052 [00:00<00:05, 180.00it/s]"
     ]
    },
    {
     "name": "stdout",
     "output_type": "stream",
     "text": [
      "pred: 56 - target: 46 - loss: 28.081 - raw pred: tensor([[ -8.9604, -31.9898, -10.6577, -12.3038, -33.3748,  -7.7741, -16.3521,\n",
      "         -16.9812, -25.6831, -20.9508, -17.5940,  -8.8200, -16.5616, -33.8459,\n",
      "          -5.2754, -28.7265, -14.0910, -33.0233, -25.4269,  -9.9617, -22.2250,\n",
      "         -20.9340, -20.8432,  -6.1474, -23.1136, -23.0311, -25.0822, -27.9773,\n",
      "         -15.7208, -15.9556, -20.1536, -19.0948, -20.5162, -18.4993, -16.4567,\n",
      "          -7.4183,  -6.2896, -34.1159, -12.5165, -23.8121, -32.9820, -27.9312,\n",
      "         -27.3074, -18.4150, -24.2188, -24.3002, -30.0129, -10.0281, -21.1474,\n",
      "          -4.8505, -14.1507,  -8.1867, -29.5461, -18.4423, -28.8272, -24.8988,\n",
      "          -2.5261, -20.9339, -20.5511,  -3.0902, -23.5675, -11.9758, -11.6109,\n",
      "         -20.2164, -31.0253, -21.3903, -21.2052, -20.5046, -12.7969, -41.7712,\n",
      "         -33.5588,  -9.2478, -16.3641, -16.0681, -18.8059, -27.8297, -19.6772,\n",
      "         -24.3714, -15.7072, -40.7102, -20.9288, -18.6110, -25.7227, -11.0923,\n",
      "          -8.2256,  -8.0300, -31.9397, -18.8105, -20.0124, -25.4233, -11.6517,\n",
      "         -21.4768, -21.2548]], device='cuda:0')\n",
      "matching = [False] - accuracy = 0.0\n",
      "matching = [False] - accuracy = 0.0\n",
      "matching = [False] - accuracy = 0.0\n",
      "matching = [False] - accuracy = 0.0\n",
      "matching = [False] - accuracy = 0.0\n"
     ]
    },
    {
     "name": "stderr",
     "output_type": "stream",
     "text": [
      "  8%|████████████▍                                                                                                                                         | 87/1052 [00:00<00:04, 206.37it/s]"
     ]
    },
    {
     "name": "stdout",
     "output_type": "stream",
     "text": [
      "matching = [False] - accuracy = 0.0\n",
      "matching = [False] - accuracy = 0.0\n",
      "matching = [False] - accuracy = 0.0\n",
      "matching = [False] - accuracy = 0.0\n"
     ]
    },
    {
     "name": "stderr",
     "output_type": "stream",
     "text": [
      " 12%|██████████████████▌                                                                                                                                  | 131/1052 [00:00<00:04, 207.03it/s]"
     ]
    },
    {
     "name": "stdout",
     "output_type": "stream",
     "text": [
      "matching = [False] - accuracy = 0.0\n",
      "matching = [False] - accuracy = 0.0\n",
      "matching = [False] - accuracy = 0.0\n",
      "matching = [False] - accuracy = 0.0\n",
      "matching = [False] - accuracy = 0.0\n"
     ]
    },
    {
     "name": "stderr",
     "output_type": "stream",
     "text": [
      " 16%|████████████████████████▌                                                                                                                            | 173/1052 [00:00<00:04, 200.06it/s]"
     ]
    },
    {
     "name": "stdout",
     "output_type": "stream",
     "text": [
      "matching = [False] - accuracy = 0.0\n",
      "matching = [False] - accuracy = 0.0\n",
      "matching = [False] - accuracy = 0.0\n",
      "matching = [False] - accuracy = 0.0\n"
     ]
    },
    {
     "name": "stderr",
     "output_type": "stream",
     "text": [
      " 20%|██████████████████████████████▎                                                                                                                      | 214/1052 [00:01<00:04, 192.70it/s]"
     ]
    },
    {
     "name": "stdout",
     "output_type": "stream",
     "text": [
      "matching = [False] - accuracy = 0.0\n",
      "matching = [False] - accuracy = 0.0\n",
      "matching = [False] - accuracy = 0.0\n",
      "matching = [False] - accuracy = 0.0\n"
     ]
    },
    {
     "name": "stderr",
     "output_type": "stream",
     "text": [
      " 25%|████████████████████████████████████▌                                                                                                                | 258/1052 [00:01<00:04, 198.07it/s]"
     ]
    },
    {
     "name": "stdout",
     "output_type": "stream",
     "text": [
      "matching = [False] - accuracy = 0.0\n",
      "matching = [False] - accuracy = 0.0\n",
      "matching = [False] - accuracy = 0.0\n",
      "matching = [False] - accuracy = 0.0\n"
     ]
    },
    {
     "name": "stderr",
     "output_type": "stream",
     "text": [
      " 28%|██████████████████████████████████████████▏                                                                                                          | 298/1052 [00:01<00:03, 192.63it/s]"
     ]
    },
    {
     "name": "stdout",
     "output_type": "stream",
     "text": [
      "matching = [False] - accuracy = 0.0\n",
      "matching = [False] - accuracy = 0.0\n",
      "matching = [False] - accuracy = 0.0\n",
      "matching = [False] - accuracy = 0.0\n"
     ]
    },
    {
     "name": "stderr",
     "output_type": "stream",
     "text": [
      " 32%|████████████████████████████████████████████████▏                                                                                                    | 340/1052 [00:01<00:03, 197.89it/s]"
     ]
    },
    {
     "name": "stdout",
     "output_type": "stream",
     "text": [
      "matching = [False] - accuracy = 0.0\n",
      "matching = [False] - accuracy = 0.0\n",
      "matching = [False] - accuracy = 0.0\n",
      "matching = [True] - accuracy = 1.0\n",
      "matching = [False] - accuracy = 0.0\n"
     ]
    },
    {
     "name": "stderr",
     "output_type": "stream",
     "text": [
      " 36%|██████████████████████████████████████████████████████                                                                                               | 382/1052 [00:01<00:03, 199.17it/s]"
     ]
    },
    {
     "name": "stdout",
     "output_type": "stream",
     "text": [
      "matching = [False] - accuracy = 0.0\n",
      "matching = [False] - accuracy = 0.0\n",
      "matching = [False] - accuracy = 0.0\n",
      "matching = [False] - accuracy = 0.0\n",
      "matching = [False] - accuracy = 0.0\n"
     ]
    },
    {
     "name": "stderr",
     "output_type": "stream",
     "text": [
      " 40%|████████████████████████████████████████████████████████████▏                                                                                        | 425/1052 [00:02<00:03, 196.14it/s]"
     ]
    },
    {
     "name": "stdout",
     "output_type": "stream",
     "text": [
      "matching = [False] - accuracy = 0.0\n",
      "matching = [False] - accuracy = 0.0\n",
      "matching = [False] - accuracy = 0.0\n",
      "matching = [False] - accuracy = 0.0\n"
     ]
    },
    {
     "name": "stderr",
     "output_type": "stream",
     "text": [
      " 44%|█████████████████████████████████████████████████████████████████▋                                                                                   | 464/1052 [00:02<00:03, 179.18it/s]"
     ]
    },
    {
     "name": "stdout",
     "output_type": "stream",
     "text": [
      "matching = [False] - accuracy = 0.0\n",
      "matching = [False] - accuracy = 0.0\n",
      "matching = [False] - accuracy = 0.0\n",
      "matching = [False] - accuracy = 0.0\n"
     ]
    },
    {
     "name": "stderr",
     "output_type": "stream",
     "text": [
      " 48%|███████████████████████████████████████████████████████████████████████▋                                                                             | 506/1052 [00:02<00:02, 184.94it/s]"
     ]
    },
    {
     "name": "stdout",
     "output_type": "stream",
     "text": [
      "matching = [False] - accuracy = 0.0\n",
      "matching = [False] - accuracy = 0.0\n",
      "matching = [False] - accuracy = 0.0\n",
      "matching = [False] - accuracy = 0.0\n"
     ]
    },
    {
     "name": "stderr",
     "output_type": "stream",
     "text": [
      " 52%|█████████████████████████████████████████████████████████████████████████████▏                                                                       | 545/1052 [00:02<00:02, 188.22it/s]"
     ]
    },
    {
     "name": "stdout",
     "output_type": "stream",
     "text": [
      "matching = [False] - accuracy = 0.0\n",
      "matching = [False] - accuracy = 0.0\n",
      "matching = [False] - accuracy = 0.0\n",
      "matching = [False] - accuracy = 0.0\n"
     ]
    },
    {
     "name": "stderr",
     "output_type": "stream",
     "text": [
      " 56%|███████████████████████████████████████████████████████████████████████████████████▎                                                                 | 588/1052 [00:03<00:02, 197.20it/s]"
     ]
    },
    {
     "name": "stdout",
     "output_type": "stream",
     "text": [
      "matching = [False] - accuracy = 0.0\n",
      "matching = [False] - accuracy = 0.0\n",
      "matching = [False] - accuracy = 0.0\n",
      "matching = [False] - accuracy = 0.0\n"
     ]
    },
    {
     "name": "stderr",
     "output_type": "stream",
     "text": [
      " 60%|█████████████████████████████████████████████████████████████████████████████████████████▎                                                           | 631/1052 [00:03<00:02, 202.96it/s]"
     ]
    },
    {
     "name": "stdout",
     "output_type": "stream",
     "text": [
      "matching = [False] - accuracy = 0.0\n",
      "matching = [False] - accuracy = 0.0\n",
      "matching = [False] - accuracy = 0.0\n",
      "matching = [False] - accuracy = 0.0\n",
      "matching = [False] - accuracy = 0.0\n"
     ]
    },
    {
     "name": "stderr",
     "output_type": "stream",
     "text": [
      " 64%|███████████████████████████████████████████████████████████████████████████████████████████████▏                                                     | 672/1052 [00:03<00:01, 196.89it/s]"
     ]
    },
    {
     "name": "stdout",
     "output_type": "stream",
     "text": [
      "matching = [False] - accuracy = 0.0\n",
      "matching = [False] - accuracy = 0.0\n",
      "matching = [False] - accuracy = 0.0\n",
      "matching = [False] - accuracy = 0.0\n",
      "matching = [False] - accuracy = 0.0\n"
     ]
    },
    {
     "name": "stderr",
     "output_type": "stream",
     "text": [
      " 70%|████████████████████████████████████████████████████████████████████████████████████████████████████████▌                                            | 738/1052 [00:03<00:01, 209.25it/s]"
     ]
    },
    {
     "name": "stdout",
     "output_type": "stream",
     "text": [
      "matching = [False] - accuracy = 0.0\n",
      "matching = [False] - accuracy = 0.0\n",
      "matching = [False] - accuracy = 0.0\n",
      "matching = [False] - accuracy = 0.0\n",
      "matching = [False] - accuracy = 0.0\n"
     ]
    },
    {
     "name": "stderr",
     "output_type": "stream",
     "text": [
      " 74%|██████████████████████████████████████████████████████████████████████████████████████████████████████████████▍                                      | 780/1052 [00:03<00:01, 197.92it/s]"
     ]
    },
    {
     "name": "stdout",
     "output_type": "stream",
     "text": [
      "matching = [False] - accuracy = 0.0\n",
      "matching = [False] - accuracy = 0.0\n",
      "matching = [False] - accuracy = 0.0\n",
      "matching = [False] - accuracy = 0.0\n"
     ]
    },
    {
     "name": "stderr",
     "output_type": "stream",
     "text": [
      " 78%|████████████████████████████████████████████████████████████████████████████████████████████████████████████████████▌                                | 823/1052 [00:04<00:01, 201.39it/s]"
     ]
    },
    {
     "name": "stdout",
     "output_type": "stream",
     "text": [
      "matching = [True] - accuracy = 1.0\n",
      "matching = [False] - accuracy = 0.0\n",
      "matching = [False] - accuracy = 0.0\n",
      "matching = [False] - accuracy = 0.0\n"
     ]
    },
    {
     "name": "stderr",
     "output_type": "stream",
     "text": [
      " 82%|██████████████████████████████████████████████████████████████████████████████████████████████████████████████████████████▌                          | 865/1052 [00:04<00:00, 192.51it/s]"
     ]
    },
    {
     "name": "stdout",
     "output_type": "stream",
     "text": [
      "matching = [False] - accuracy = 0.0\n",
      "matching = [False] - accuracy = 0.0\n",
      "matching = [False] - accuracy = 0.0\n",
      "matching = [False] - accuracy = 0.0\n"
     ]
    },
    {
     "name": "stderr",
     "output_type": "stream",
     "text": [
      " 86%|████████████████████████████████████████████████████████████████████████████████████████████████████████████████████████████████▏                    | 905/1052 [00:04<00:00, 187.18it/s]"
     ]
    },
    {
     "name": "stdout",
     "output_type": "stream",
     "text": [
      "matching = [False] - accuracy = 0.0\n",
      "matching = [False] - accuracy = 0.0\n",
      "matching = [True] - accuracy = 1.0\n",
      "matching = [False] - accuracy = 0.0\n"
     ]
    },
    {
     "name": "stderr",
     "output_type": "stream",
     "text": [
      " 90%|██████████████████████████████████████████████████████████████████████████████████████████████████████████████████████████████████████▎              | 948/1052 [00:04<00:00, 196.99it/s]"
     ]
    },
    {
     "name": "stdout",
     "output_type": "stream",
     "text": [
      "matching = [False] - accuracy = 0.0\n",
      "matching = [False] - accuracy = 0.0\n",
      "matching = [False] - accuracy = 0.0\n",
      "matching = [False] - accuracy = 0.0\n",
      "matching = [False] - accuracy = 0.0\n"
     ]
    },
    {
     "name": "stderr",
     "output_type": "stream",
     "text": [
      " 94%|███████████████████████████████████████████████████████████████████████████████████████████████████████████████████████████████████████████▉         | 988/1052 [00:05<00:00, 189.27it/s]"
     ]
    },
    {
     "name": "stdout",
     "output_type": "stream",
     "text": [
      "matching = [False] - accuracy = 0.0\n",
      "matching = [False] - accuracy = 0.0\n",
      "matching = [False] - accuracy = 0.0\n",
      "matching = [False] - accuracy = 0.0\n"
     ]
    },
    {
     "name": "stderr",
     "output_type": "stream",
     "text": [
      " 98%|████████████████████████████████████████████████████████████████████████████████████████████████████████████████████████████████████████████████▌   | 1028/1052 [00:05<00:00, 190.39it/s]"
     ]
    },
    {
     "name": "stdout",
     "output_type": "stream",
     "text": [
      "pred: 63 - target: 66 - loss: 17.635 - raw pred: tensor([[-15.9495, -20.0485,  -9.8719, -10.8181, -19.2102,  -6.6252, -19.4010,\n",
      "          -3.5993,  -7.7756,  -6.5512, -16.9267, -21.5389,  -3.9825, -16.0079,\n",
      "         -11.3798, -16.6940, -10.8345, -17.3597, -19.2010,  -7.3782,  -6.4671,\n",
      "         -23.8424,  -6.6003, -14.9428, -16.8017, -19.6845, -21.1935, -20.6684,\n",
      "         -15.3536, -20.4860,  -4.1683, -18.9704, -18.4454,  -5.4583,  -9.7666,\n",
      "          -8.7658,  -9.6361, -16.8513, -14.7568, -17.1060,  -9.7919, -15.3357,\n",
      "         -13.6135, -17.0147, -17.0654,  -7.2502, -17.4619, -17.2401, -16.2428,\n",
      "         -13.4727,  -3.7561, -11.6800, -13.0768, -20.2304, -14.9188, -20.1995,\n",
      "         -12.5408, -18.1165,  -7.9357, -14.2733, -10.0793, -10.6955, -22.4431,\n",
      "          -2.6932, -19.9558, -20.3874, -19.3260, -18.8391,  -8.8405, -14.8805,\n",
      "         -17.8391, -11.3922,  -4.0252, -15.1146, -10.3145, -20.9056, -20.0141,\n",
      "         -19.1177, -11.6270, -13.5036, -19.2874,  -7.7011, -18.0046, -16.2419,\n",
      "         -15.8597, -16.3175, -11.4406, -19.3180, -17.0152, -18.2667,  -7.4252,\n",
      "          -8.9749, -16.6107]], device='cuda:0')\n",
      "matching = [False] - accuracy = 0.0\n",
      "matching = [False] - accuracy = 0.0\n",
      "matching = [False] - accuracy = 0.0\n",
      "matching = [False] - accuracy = 0.0\n",
      "matching = [False] - accuracy = 0.0\n"
     ]
    },
    {
     "name": "stderr",
     "output_type": "stream",
     "text": [
      "100%|████████████████████████████████████████████████████████████████████████████████████████████████████████████████████████████████████████████████████| 1052/1052 [00:05<00:00, 195.83it/s]\n"
     ]
    },
    {
     "name": "stdout",
     "output_type": "stream",
     "text": [
      "matching = [False] - accuracy = 0.0\n",
      "//////////////////// Epoch: 8 ////////////////////\n"
     ]
    },
    {
     "name": "stderr",
     "output_type": "stream",
     "text": [
      "  0%|▍                                                                                                                                                     | 11/4207 [00:00<00:41, 101.26it/s]"
     ]
    },
    {
     "name": "stdout",
     "output_type": "stream",
     "text": [
      "pred: 19 - target: 3 - loss: 1.824 - raw pred: tensor([[-14.9768, -24.2642, -11.4571,  -3.0954, -22.5330,  -4.6928, -12.1127,\n",
      "          -8.5288, -14.6265, -13.8565, -11.9570, -14.7651,  -7.2984, -23.7976,\n",
      "          -5.1694, -19.0898, -16.4897, -23.3338, -13.5968,  -2.7630, -10.4112,\n",
      "         -22.5812,  -6.4500,  -6.3926, -19.6779, -17.2751, -11.0192,  -9.7064,\n",
      "          -9.4986, -18.6149, -12.3636,  -6.1210, -18.1173, -10.9599,  -9.3603,\n",
      "          -7.3607,  -8.5407, -25.8618, -15.1985, -22.3029, -25.6155, -24.4437,\n",
      "         -19.2833, -14.2674, -23.7741, -18.6231, -23.7448, -14.2827, -15.2679,\n",
      "          -8.5432,  -8.4047, -11.5599,  -8.7814, -12.8578,  -8.0894, -17.7524,\n",
      "          -6.3776, -11.7415, -10.6912,  -9.8008, -17.0010,  -3.7571,  -5.7676,\n",
      "         -12.3734, -10.3025,  -8.6041, -10.6063, -18.3107,  -3.1193, -33.5838,\n",
      "         -22.0082,  -7.5968,  -9.7990, -10.8984, -16.9473, -21.7409, -18.1193,\n",
      "         -19.7728, -15.4425, -31.9267, -21.9619, -11.7999, -19.6536, -15.2540,\n",
      "          -2.8593, -11.4316, -24.1425, -16.3737,  -7.9635, -20.2997,  -4.0165,\n",
      "         -12.7698, -19.5855]], device='cuda:0', grad_fn=<AddmmBackward0>)\n"
     ]
    },
    {
     "name": "stderr",
     "output_type": "stream",
     "text": [
      " 24%|███████████████████████████████████▊                                                                                                                 | 1012/4207 [00:10<00:34, 91.88it/s]"
     ]
    },
    {
     "name": "stdout",
     "output_type": "stream",
     "text": [
      "pred: 45 - target: 45 - loss: 1.096 - raw pred: tensor([[-13.8101, -18.8395, -11.3554, -13.7484, -19.2006,  -8.2271, -21.3253,\n",
      "          -6.2299,  -5.8482,  -8.4700, -20.0104, -19.4608,  -6.6074, -16.5967,\n",
      "         -14.0720, -16.7300,  -5.7439, -18.6072, -21.3789,  -9.8616,  -7.6568,\n",
      "         -20.4983,  -9.8159, -16.4763, -16.0958, -20.2590, -22.9859, -21.8441,\n",
      "         -13.4881, -18.1642,  -3.3141, -20.2891, -18.4651,  -8.1452,  -9.9289,\n",
      "          -8.4083,  -8.2291, -18.3022, -10.7249, -16.5072,  -6.6496, -15.6105,\n",
      "         -14.9774, -14.2973, -15.0486,  -3.2535, -16.8466, -17.6213, -14.8836,\n",
      "         -11.2655,  -5.0338, -11.0371, -15.2667, -21.6739, -18.2618, -19.5797,\n",
      "         -12.9916, -18.8300, -11.6550, -13.3850, -11.8793, -11.8568, -24.0624,\n",
      "          -4.5242, -22.3492, -22.6129, -19.7194, -17.5592, -10.6742, -11.8131,\n",
      "         -16.8863,  -8.9865,  -5.0334, -16.2288, -11.0654, -18.0372, -18.7221,\n",
      "         -18.0213,  -5.6057,  -9.7893, -16.7481, -11.0437, -16.1337, -16.1124,\n",
      "         -16.9391, -14.8421, -10.1224, -19.4146, -18.8517, -17.7311, -11.2233,\n",
      "         -10.4941, -15.8805]], device='cuda:0', grad_fn=<AddmmBackward0>)\n"
     ]
    },
    {
     "name": "stderr",
     "output_type": "stream",
     "text": [
      " 48%|███████████████████████████████████████████████████████████████████████▏                                                                             | 2011/4207 [00:21<00:26, 82.80it/s]"
     ]
    },
    {
     "name": "stdout",
     "output_type": "stream",
     "text": [
      "pred: 13 - target: 37 - loss: 3.881 - raw pred: tensor([[-21.5774, -28.7126, -37.2597, -31.6267, -28.2815, -30.1040, -15.8036,\n",
      "         -26.2109, -30.5175, -30.6249, -15.0784, -30.9409, -32.1192,  -5.4089,\n",
      "         -19.5561, -14.2045, -33.5578,  -5.6727, -24.7361, -33.5050, -37.5989,\n",
      "         -18.0806, -35.3344, -24.2562, -37.9124, -24.2137, -29.8934, -33.9143,\n",
      "         -44.7644, -13.6070, -30.6657, -28.5753, -12.6971, -34.7878, -30.3974,\n",
      "         -19.9493, -27.8968,  -8.4930, -13.6506, -11.0078, -35.2016, -11.5053,\n",
      "         -33.3779, -20.1601, -16.5556, -32.0806, -18.8417, -19.6649, -36.8550,\n",
      "         -33.1982, -26.0884, -30.7802, -31.1603, -22.4294, -35.8672, -29.0495,\n",
      "         -31.6015, -19.7844, -25.1670, -23.8649, -36.3165, -37.7564, -32.7272,\n",
      "         -28.6737, -32.2475, -36.1405, -23.7657, -12.5673, -32.1338, -31.2034,\n",
      "         -20.2064, -20.4641, -30.2415, -31.1761, -36.0873, -29.1558, -17.3258,\n",
      "         -13.7673, -35.1666, -31.3792, -12.4853, -26.5767, -15.1901, -12.7377,\n",
      "         -30.0652,  -6.3414, -29.3828, -14.0966, -25.8533, -12.0393, -29.6992,\n",
      "         -30.2758, -18.1334]], device='cuda:0', grad_fn=<AddmmBackward0>)\n"
     ]
    },
    {
     "name": "stderr",
     "output_type": "stream",
     "text": [
      " 72%|██████████████████████████████████████████████████████████████████████████████████████████████████████████▊                                          | 3015/4207 [00:32<00:12, 92.18it/s]"
     ]
    },
    {
     "name": "stdout",
     "output_type": "stream",
     "text": [
      "pred: 67 - target: 67 - loss: 0.582 - raw pred: tensor([[-23.5714, -18.8678, -40.7090, -26.9937, -14.0693, -27.2144, -18.2168,\n",
      "         -27.9908, -28.3743, -33.1150, -14.3134, -34.0318, -35.0481, -15.6999,\n",
      "         -24.5808, -10.1179, -28.5281, -15.8944, -23.5460, -30.8134, -31.2222,\n",
      "         -15.7854, -36.1535, -28.6487, -33.7173, -25.5493, -27.9382, -33.7572,\n",
      "         -34.7758, -20.0035, -28.7851, -27.1047,  -7.9487, -36.5703, -24.6528,\n",
      "         -12.9401, -24.6792, -17.8070, -15.0043, -12.9778, -33.5808, -11.8083,\n",
      "         -34.2233, -16.2403, -10.0160, -30.3109, -14.7646, -24.7207, -32.0518,\n",
      "         -31.4226, -25.1554, -28.2564, -32.1440, -29.1333, -37.0943, -19.7054,\n",
      "         -30.4106, -22.1559, -34.3494, -18.0859, -36.3340, -34.2260, -32.9157,\n",
      "         -30.8299, -38.1594, -34.8155, -25.2175,  -6.4821, -33.0150, -34.2215,\n",
      "         -16.2868, -13.9207, -31.5766, -37.9316, -33.9986, -15.8419,  -9.4081,\n",
      "          -9.5930, -28.9199, -33.1182, -12.6776, -35.6751, -10.1916, -17.2604,\n",
      "         -29.7983, -12.3844, -29.3888, -26.2694, -25.2868,  -7.5924, -34.2522,\n",
      "         -32.8519,  -9.7961]], device='cuda:0', grad_fn=<AddmmBackward0>)\n"
     ]
    },
    {
     "name": "stderr",
     "output_type": "stream",
     "text": [
      " 95%|██████████████████████████████████████████████████████████████████████████████████████████████████████████████████████████████████████████████▏      | 4014/4207 [00:44<00:02, 82.08it/s]"
     ]
    },
    {
     "name": "stdout",
     "output_type": "stream",
     "text": [
      "pred: 16 - target: 78 - loss: 0.735 - raw pred: tensor([[-19.9800, -32.0386, -25.0774, -28.3727, -35.7209, -15.6244, -37.1565,\n",
      "         -19.3458, -14.9213, -26.6109, -37.3095, -29.6963, -21.8857, -37.3558,\n",
      "         -25.4264, -31.0105,  -3.9328, -38.4219, -42.0527, -20.3581, -19.5130,\n",
      "         -32.7363, -30.5867, -29.7117, -26.8437, -35.1530, -44.9640, -44.7913,\n",
      "         -25.6639, -27.2089, -10.8949, -35.3635, -30.9793, -25.1235, -19.8806,\n",
      "         -15.1493, -11.1980, -42.1644, -14.8360, -26.2305, -25.4898, -27.3630,\n",
      "         -34.8804, -23.8205, -24.2250,  -9.1731, -29.0092, -27.5860, -27.1088,\n",
      "         -14.3368, -14.4312, -14.0720, -38.6677, -41.0664, -44.6897, -34.0385,\n",
      "         -17.2730, -34.3119, -34.5604, -16.5356, -28.1777, -23.6496, -38.1598,\n",
      "         -18.5592, -53.9510, -43.5640, -36.8874, -27.5157, -24.6150, -30.7799,\n",
      "         -31.2583, -12.2099, -16.6424, -31.7990, -24.0844, -30.2009, -27.7633,\n",
      "         -32.2506,  -4.0080, -25.5064, -27.1622, -31.5077, -28.1741, -23.8856,\n",
      "         -30.9585, -18.9951, -25.7089, -34.9947, -34.7101, -32.0638, -26.9587,\n",
      "         -34.3214, -23.8690]], device='cuda:0', grad_fn=<AddmmBackward0>)\n"
     ]
    },
    {
     "name": "stderr",
     "output_type": "stream",
     "text": [
      "100%|█████████████████████████████████████████████████████████████████████████████████████████████████████████████████████████████████████████████████████| 4207/4207 [00:46<00:00, 90.91it/s]\n"
     ]
    },
    {
     "name": "stdout",
     "output_type": "stream",
     "text": [
      "//////////////////// Validation ////////////////////\n"
     ]
    },
    {
     "name": "stderr",
     "output_type": "stream",
     "text": [
      "  2%|██▎                                                                                                                                                   | 16/1052 [00:00<00:06, 151.92it/s]"
     ]
    },
    {
     "name": "stdout",
     "output_type": "stream",
     "text": [
      "pred: 52 - target: 49 - loss: 24.766 - raw pred: tensor([[-31.6698, -36.1299, -31.4674, -10.6693, -27.2768, -18.4413, -19.6783,\n",
      "         -11.6322, -22.6082, -20.5914, -17.9770, -36.2704, -12.0632, -28.9306,\n",
      "         -19.3388, -20.7082, -31.3109, -30.0907, -12.9831,  -8.9079, -14.9433,\n",
      "         -44.5170, -10.9301, -21.3447, -34.2131, -27.9783, -14.2569, -12.4768,\n",
      "         -20.5732, -33.1037, -18.5579,  -8.1975, -30.1768, -21.7954, -19.1224,\n",
      "         -18.5623, -21.8383, -32.9576, -27.9818, -34.6982, -37.5903, -36.0633,\n",
      "         -30.1936, -20.0805, -37.3085, -29.3004, -34.8226, -28.8779, -26.0902,\n",
      "         -24.9690, -11.4938, -30.3065,  -0.2085, -19.8802,  -5.6960, -26.7592,\n",
      "         -24.8011, -11.7833, -13.3584, -27.2651, -31.4045,  -9.1127, -19.6352,\n",
      "         -21.6456,  -9.0444, -12.0297, -10.2813, -26.2412, -10.2946, -46.2617,\n",
      "         -28.9776, -17.5066, -17.8729, -26.1918, -37.6041, -33.0132, -28.5660,\n",
      "         -28.9438, -33.0176, -42.8758, -37.1911, -20.7672, -25.6221, -31.9101,\n",
      "         -13.6494, -23.6005, -35.6754, -26.1718, -11.6675, -30.9909,  -7.5722,\n",
      "         -20.6212, -33.0153]], device='cuda:0')\n",
      "matching = [False] - accuracy = 0.0\n",
      "matching = [False] - accuracy = 0.0\n",
      "matching = [False] - accuracy = 0.0\n",
      "matching = [False] - accuracy = 0.0\n"
     ]
    },
    {
     "name": "stderr",
     "output_type": "stream",
     "text": [
      "  7%|██████████▉                                                                                                                                           | 77/1052 [00:00<00:05, 190.38it/s]"
     ]
    },
    {
     "name": "stdout",
     "output_type": "stream",
     "text": [
      "matching = [False] - accuracy = 0.0\n",
      "matching = [False] - accuracy = 0.0\n",
      "matching = [False] - accuracy = 0.0\n",
      "matching = [False] - accuracy = 0.0\n"
     ]
    },
    {
     "name": "stderr",
     "output_type": "stream",
     "text": [
      " 11%|████████████████▊                                                                                                                                    | 119/1052 [00:00<00:04, 194.66it/s]"
     ]
    },
    {
     "name": "stdout",
     "output_type": "stream",
     "text": [
      "matching = [False] - accuracy = 0.0\n",
      "matching = [False] - accuracy = 0.0\n",
      "matching = [False] - accuracy = 0.0\n",
      "matching = [False] - accuracy = 0.0\n"
     ]
    },
    {
     "name": "stderr",
     "output_type": "stream",
     "text": [
      " 15%|██████████████████████▊                                                                                                                              | 161/1052 [00:00<00:04, 200.29it/s]"
     ]
    },
    {
     "name": "stdout",
     "output_type": "stream",
     "text": [
      "matching = [False] - accuracy = 0.0\n",
      "matching = [False] - accuracy = 0.0\n",
      "matching = [True] - accuracy = 1.0\n",
      "matching = [False] - accuracy = 0.0\n",
      "matching = [False] - accuracy = 0.0\n"
     ]
    },
    {
     "name": "stderr",
     "output_type": "stream",
     "text": [
      " 19%|████████████████████████████▊                                                                                                                        | 203/1052 [00:01<00:04, 199.44it/s]"
     ]
    },
    {
     "name": "stdout",
     "output_type": "stream",
     "text": [
      "matching = [False] - accuracy = 0.0\n",
      "matching = [False] - accuracy = 0.0\n",
      "matching = [False] - accuracy = 0.0\n",
      "matching = [False] - accuracy = 0.0\n"
     ]
    },
    {
     "name": "stderr",
     "output_type": "stream",
     "text": [
      " 23%|██████████████████████████████████▊                                                                                                                  | 246/1052 [00:01<00:04, 200.35it/s]"
     ]
    },
    {
     "name": "stdout",
     "output_type": "stream",
     "text": [
      "matching = [False] - accuracy = 0.0\n",
      "matching = [False] - accuracy = 0.0\n",
      "matching = [False] - accuracy = 0.0\n",
      "matching = [False] - accuracy = 0.0\n",
      "matching = [False] - accuracy = 0.0\n"
     ]
    },
    {
     "name": "stderr",
     "output_type": "stream",
     "text": [
      " 27%|████████████████████████████████████████▉                                                                                                            | 289/1052 [00:01<00:03, 194.66it/s]"
     ]
    },
    {
     "name": "stdout",
     "output_type": "stream",
     "text": [
      "matching = [False] - accuracy = 0.0\n",
      "matching = [False] - accuracy = 0.0\n",
      "matching = [False] - accuracy = 0.0\n",
      "matching = [False] - accuracy = 0.0\n"
     ]
    },
    {
     "name": "stderr",
     "output_type": "stream",
     "text": [
      " 31%|██████████████████████████████████████████████▋                                                                                                      | 330/1052 [00:01<00:03, 194.99it/s]"
     ]
    },
    {
     "name": "stdout",
     "output_type": "stream",
     "text": [
      "matching = [False] - accuracy = 0.0\n",
      "matching = [False] - accuracy = 0.0\n",
      "matching = [False] - accuracy = 0.0\n",
      "matching = [False] - accuracy = 0.0\n",
      "matching = [False] - accuracy = 0.0\n"
     ]
    },
    {
     "name": "stderr",
     "output_type": "stream",
     "text": [
      " 36%|█████████████████████████████████████████████████████▎                                                                                               | 376/1052 [00:01<00:03, 209.56it/s]"
     ]
    },
    {
     "name": "stdout",
     "output_type": "stream",
     "text": [
      "matching = [False] - accuracy = 0.0\n",
      "matching = [False] - accuracy = 0.0\n",
      "matching = [False] - accuracy = 0.0\n",
      "matching = [False] - accuracy = 0.0\n",
      "matching = [False] - accuracy = 0.0\n"
     ]
    },
    {
     "name": "stderr",
     "output_type": "stream",
     "text": [
      " 40%|███████████████████████████████████████████████████████████▏                                                                                         | 418/1052 [00:02<00:03, 200.50it/s]"
     ]
    },
    {
     "name": "stdout",
     "output_type": "stream",
     "text": [
      "matching = [False] - accuracy = 0.0\n",
      "matching = [False] - accuracy = 0.0\n",
      "matching = [False] - accuracy = 0.0\n",
      "matching = [False] - accuracy = 0.0\n"
     ]
    },
    {
     "name": "stderr",
     "output_type": "stream",
     "text": [
      " 46%|███████████████████████████████████████████████████████████████████▉                                                                                 | 480/1052 [00:02<00:02, 197.49it/s]"
     ]
    },
    {
     "name": "stdout",
     "output_type": "stream",
     "text": [
      "matching = [False] - accuracy = 0.0\n",
      "matching = [False] - accuracy = 0.0\n",
      "matching = [False] - accuracy = 0.0\n",
      "matching = [False] - accuracy = 0.0\n",
      "matching = [False] - accuracy = 0.0\n"
     ]
    },
    {
     "name": "stderr",
     "output_type": "stream",
     "text": [
      " 50%|█████████████████████████████████████████████████████████████████████████▉                                                                           | 522/1052 [00:02<00:02, 197.81it/s]"
     ]
    },
    {
     "name": "stdout",
     "output_type": "stream",
     "text": [
      "matching = [False] - accuracy = 0.0\n",
      "matching = [False] - accuracy = 0.0\n",
      "matching = [False] - accuracy = 0.0\n",
      "matching = [False] - accuracy = 0.0\n",
      "matching = [False] - accuracy = 0.0\n"
     ]
    },
    {
     "name": "stderr",
     "output_type": "stream",
     "text": [
      " 54%|████████████████████████████████████████████████████████████████████████████████                                                                     | 565/1052 [00:02<00:02, 195.22it/s]"
     ]
    },
    {
     "name": "stdout",
     "output_type": "stream",
     "text": [
      "matching = [False] - accuracy = 0.0\n",
      "matching = [False] - accuracy = 0.0\n",
      "matching = [False] - accuracy = 0.0\n",
      "matching = [False] - accuracy = 0.0\n"
     ]
    },
    {
     "name": "stderr",
     "output_type": "stream",
     "text": [
      " 58%|██████████████████████████████████████████████████████████████████████████████████████▎                                                              | 609/1052 [00:03<00:02, 203.19it/s]"
     ]
    },
    {
     "name": "stdout",
     "output_type": "stream",
     "text": [
      "matching = [False] - accuracy = 0.0\n",
      "matching = [False] - accuracy = 0.0\n",
      "matching = [False] - accuracy = 0.0\n",
      "matching = [False] - accuracy = 0.0\n"
     ]
    },
    {
     "name": "stderr",
     "output_type": "stream",
     "text": [
      " 62%|████████████████████████████████████████████████████████████████████████████████████████████▎                                                        | 652/1052 [00:03<00:02, 194.97it/s]"
     ]
    },
    {
     "name": "stdout",
     "output_type": "stream",
     "text": [
      "matching = [False] - accuracy = 0.0\n",
      "matching = [False] - accuracy = 0.0\n",
      "matching = [False] - accuracy = 0.0\n",
      "matching = [False] - accuracy = 0.0\n"
     ]
    },
    {
     "name": "stderr",
     "output_type": "stream",
     "text": [
      " 66%|██████████████████████████████████████████████████████████████████████████████████████████████████▏                                                  | 693/1052 [00:03<00:01, 198.33it/s]"
     ]
    },
    {
     "name": "stdout",
     "output_type": "stream",
     "text": [
      "matching = [False] - accuracy = 0.0\n",
      "matching = [False] - accuracy = 0.0\n",
      "matching = [False] - accuracy = 0.0\n",
      "matching = [False] - accuracy = 0.0\n",
      "matching = [False] - accuracy = 0.0\n"
     ]
    },
    {
     "name": "stderr",
     "output_type": "stream",
     "text": [
      " 70%|████████████████████████████████████████████████████████████████████████████████████████████████████████                                             | 735/1052 [00:03<00:01, 202.71it/s]"
     ]
    },
    {
     "name": "stdout",
     "output_type": "stream",
     "text": [
      "matching = [False] - accuracy = 0.0\n",
      "matching = [False] - accuracy = 0.0\n",
      "matching = [False] - accuracy = 0.0\n",
      "matching = [False] - accuracy = 0.0\n",
      "matching = [False] - accuracy = 0.0\n"
     ]
    },
    {
     "name": "stderr",
     "output_type": "stream",
     "text": [
      " 74%|██████████████████████████████████████████████████████████████████████████████████████████████████████████████                                       | 777/1052 [00:03<00:01, 203.80it/s]"
     ]
    },
    {
     "name": "stdout",
     "output_type": "stream",
     "text": [
      "matching = [False] - accuracy = 0.0\n",
      "matching = [False] - accuracy = 0.0\n",
      "matching = [False] - accuracy = 0.0\n",
      "matching = [False] - accuracy = 0.0\n"
     ]
    },
    {
     "name": "stderr",
     "output_type": "stream",
     "text": [
      " 80%|██████████████████████████████████████████████████████████████████████████████████████████████████████████████████████▉                              | 840/1052 [00:04<00:01, 201.06it/s]"
     ]
    },
    {
     "name": "stdout",
     "output_type": "stream",
     "text": [
      "matching = [False] - accuracy = 0.0\n",
      "matching = [False] - accuracy = 0.0\n",
      "matching = [False] - accuracy = 0.0\n",
      "matching = [False] - accuracy = 0.0\n",
      "matching = [False] - accuracy = 0.0\n"
     ]
    },
    {
     "name": "stderr",
     "output_type": "stream",
     "text": [
      " 84%|████████████████████████████████████████████████████████████████████████████████████████████████████████████████████████████▉                        | 882/1052 [00:04<00:00, 204.16it/s]"
     ]
    },
    {
     "name": "stdout",
     "output_type": "stream",
     "text": [
      "matching = [False] - accuracy = 0.0\n",
      "matching = [False] - accuracy = 0.0\n",
      "matching = [False] - accuracy = 0.0\n",
      "matching = [False] - accuracy = 0.0\n",
      "matching = [False] - accuracy = 0.0\n"
     ]
    },
    {
     "name": "stderr",
     "output_type": "stream",
     "text": [
      " 88%|██████████████████████████████████████████████████████████████████████████████████████████████████████████████████████████████████▋                  | 923/1052 [00:04<00:00, 195.96it/s]"
     ]
    },
    {
     "name": "stdout",
     "output_type": "stream",
     "text": [
      "matching = [False] - accuracy = 0.0\n",
      "matching = [False] - accuracy = 0.0\n",
      "matching = [False] - accuracy = 0.0\n",
      "matching = [False] - accuracy = 0.0\n",
      "matching = [False] - accuracy = 0.0\n"
     ]
    },
    {
     "name": "stderr",
     "output_type": "stream",
     "text": [
      " 94%|████████████████████████████████████████████████████████████████████████████████████████████████████████████████████████████████████████████▎        | 991/1052 [00:04<00:00, 202.70it/s]"
     ]
    },
    {
     "name": "stdout",
     "output_type": "stream",
     "text": [
      "matching = [False] - accuracy = 0.0\n",
      "matching = [False] - accuracy = 0.0\n",
      "matching = [False] - accuracy = 0.0\n",
      "matching = [False] - accuracy = 0.0\n",
      "matching = [False] - accuracy = 0.0\n"
     ]
    },
    {
     "name": "stderr",
     "output_type": "stream",
     "text": [
      " 98%|█████████████████████████████████████████████████████████████████████████████████████████████████████████████████████████████████████████████████▍  | 1034/1052 [00:05<00:00, 207.72it/s]"
     ]
    },
    {
     "name": "stdout",
     "output_type": "stream",
     "text": [
      "pred: 19 - target: 56 - loss: 11.007 - raw pred: tensor([[-30.4694, -37.9157, -27.3084,  -9.8144, -33.9909, -14.7056, -27.6714,\n",
      "         -14.9800, -24.8508, -24.2788, -25.6129, -34.9890, -16.5167, -45.8803,\n",
      "         -19.7572, -30.9140, -24.7149, -48.7163, -22.6540,  -6.0038, -14.0283,\n",
      "         -44.5773, -14.7454, -22.6624, -33.5988, -38.9966, -20.7608, -16.7465,\n",
      "         -12.4184, -38.4750, -18.4428, -10.8755, -35.5360, -24.7729, -20.0575,\n",
      "         -16.1924, -16.2707, -52.1130, -27.8346, -39.8767, -43.3032, -42.9120,\n",
      "         -30.5245, -20.4445, -40.4093, -27.5847, -40.0495, -32.2579, -24.6771,\n",
      "         -18.0175, -14.9386, -22.6838, -13.3910, -31.0292, -17.6558, -29.4091,\n",
      "         -16.2529, -20.4393, -23.7329, -20.9772, -31.5420,  -6.0099, -17.1440,\n",
      "         -24.6777, -23.3852, -17.8249, -18.1069, -33.7492, -10.8365, -54.1064,\n",
      "         -38.0029, -11.7266, -19.0699, -28.6770, -33.3010, -34.9262, -33.8201,\n",
      "         -34.8648, -24.0643, -51.3615, -41.0746, -25.7567, -30.6632, -34.8933,\n",
      "         -13.7900, -23.2333, -42.6704, -36.4019, -18.2403, -38.3667,  -8.3633,\n",
      "         -23.2044, -35.2022]], device='cuda:0')\n",
      "matching = [False] - accuracy = 0.0\n",
      "matching = [False] - accuracy = 0.0\n",
      "matching = [False] - accuracy = 0.0\n",
      "matching = [False] - accuracy = 0.0\n",
      "matching = [True] - accuracy = 1.0\n"
     ]
    },
    {
     "name": "stderr",
     "output_type": "stream",
     "text": [
      "100%|████████████████████████████████████████████████████████████████████████████████████████████████████████████████████████████████████████████████████| 1052/1052 [00:05<00:00, 198.71it/s]\n"
     ]
    },
    {
     "name": "stdout",
     "output_type": "stream",
     "text": [
      "matching = [False] - accuracy = 0.0\n",
      "//////////////////// Epoch: 9 ////////////////////\n"
     ]
    },
    {
     "name": "stderr",
     "output_type": "stream",
     "text": [
      "  0%|▎                                                                                                                                                       | 8/4207 [00:00<00:55, 75.65it/s]"
     ]
    },
    {
     "name": "stdout",
     "output_type": "stream",
     "text": [
      "pred: 52 - target: 52 - loss: 0.005 - raw pred: tensor([[-31.6619, -36.0329, -31.5212, -10.7455, -27.2130, -18.5538, -19.7518,\n",
      "         -11.6606, -22.5346, -20.5760, -18.0412, -36.3214, -12.1288, -28.8114,\n",
      "         -19.4395, -20.6340, -31.2131, -30.0121, -12.9967,  -8.9434, -14.8762,\n",
      "         -44.4747, -11.0025, -21.4711, -34.2044, -28.0020, -14.3109, -12.5664,\n",
      "         -20.5392, -33.0701, -18.4715,  -8.2477, -30.1545, -21.8315, -19.2120,\n",
      "         -18.6237, -21.8469, -32.8769, -27.9198, -34.5569, -37.4755, -35.9022,\n",
      "         -30.1664, -20.0080, -37.1494, -29.2426, -34.6988, -28.8805, -26.0708,\n",
      "         -25.0317, -11.5363, -30.3688,  -0.1776, -19.9716,  -5.7475, -26.7145,\n",
      "         -24.9040, -11.7714, -13.4050, -27.3033, -31.3888,  -9.1575, -19.7790,\n",
      "         -21.6604,  -9.1081, -12.1136, -10.3103, -26.1795, -10.3442, -46.1251,\n",
      "         -28.8438, -17.5013, -17.8888, -26.2936, -37.6136, -32.9257, -28.5196,\n",
      "         -28.8763, -32.9578, -42.7138, -37.0543, -20.8002, -25.5006, -31.9120,\n",
      "         -13.7285, -23.6098, -35.5779, -26.1553, -11.7556, -30.8994,  -7.6028,\n",
      "         -20.6528, -32.9189]], device='cuda:0', grad_fn=<AddmmBackward0>)\n"
     ]
    },
    {
     "name": "stderr",
     "output_type": "stream",
     "text": [
      " 24%|███████████████████████████████████▉                                                                                                                 | 1015/4207 [00:11<00:37, 86.07it/s]"
     ]
    },
    {
     "name": "stdout",
     "output_type": "stream",
     "text": [
      "pred: 30 - target: 20 - loss: 0.906 - raw pred: tensor([[-25.3120, -24.8360, -26.5808, -18.7752, -24.0295, -17.1593, -31.3882,\n",
      "          -9.2828,  -6.7703,  -9.7629, -25.0765, -33.8524, -10.6663, -20.1940,\n",
      "         -24.1122, -19.9782, -14.8051, -26.5463, -25.5332, -12.5622,  -2.4038,\n",
      "         -30.4125, -15.9243, -27.7943, -23.7337, -31.1511, -24.4897, -25.3147,\n",
      "         -16.6824, -27.1220,  -2.0956, -22.7834, -25.2907, -15.7354, -21.4098,\n",
      "         -20.3648, -16.0022, -23.9567, -16.3397, -21.8496, -17.7573, -19.7753,\n",
      "         -23.0928, -18.7845, -20.2881,  -4.7269, -21.7860, -27.3317, -21.0036,\n",
      "         -22.3891,  -9.6489, -21.7794, -12.1744, -30.3077, -20.2294, -24.4422,\n",
      "         -20.0418, -23.0280, -19.3824, -24.9796, -15.9155, -15.2148, -28.1453,\n",
      "         -10.4690, -25.1048, -24.2318, -23.6698, -25.9607, -15.0389, -17.6223,\n",
      "         -20.3542, -13.6169, -10.0340, -29.7044, -24.6956, -24.8663, -27.3747,\n",
      "         -24.7140, -14.2057, -12.8315, -23.8858, -16.1544, -19.4388, -26.6152,\n",
      "         -22.2037, -21.7754, -13.4848, -28.0258, -23.1171, -23.7305, -14.5172,\n",
      "         -17.2188, -21.0684]], device='cuda:0', grad_fn=<AddmmBackward0>)\n"
     ]
    },
    {
     "name": "stderr",
     "output_type": "stream",
     "text": [
      " 48%|███████████████████████████████████████████████████████████████████████▏                                                                             | 2009/4207 [00:21<00:22, 96.32it/s]"
     ]
    },
    {
     "name": "stdout",
     "output_type": "stream",
     "text": [
      "pred: 39 - target: 41 - loss: 1.547 - raw pred: tensor([[-18.8056, -14.1482, -33.1224, -30.6145, -26.1272, -28.0172, -26.3872,\n",
      "         -27.4806, -22.2674, -24.7532, -21.1835, -27.2521, -33.9357, -12.4156,\n",
      "         -29.1428, -16.1038, -23.7116, -14.4519, -34.7444, -30.7769, -26.1401,\n",
      "         -19.5683, -36.5428, -31.7135, -29.4247, -27.5852, -36.9040, -37.2723,\n",
      "         -32.7607, -20.8458, -22.1005, -33.6609, -14.0266, -27.2761, -35.3093,\n",
      "         -15.0756, -20.5456, -16.3731, -12.6640,  -3.3586, -29.1258,  -4.6378,\n",
      "         -30.0421, -21.3444,  -9.4502, -25.4562,  -7.0868, -24.7914, -30.7922,\n",
      "         -28.4967, -25.2003, -25.8775, -30.9772, -33.9510, -33.1501, -28.1334,\n",
      "         -27.8336, -32.8582, -29.9455, -14.7586, -29.7009, -32.3012, -33.2667,\n",
      "         -23.7506, -37.2215, -35.1380, -33.8856, -14.7305, -32.2233, -24.2751,\n",
      "         -11.3405, -13.8594, -25.0220, -34.2558, -26.2460, -16.6543, -20.6830,\n",
      "         -17.0287, -25.2431, -23.0318, -15.8455, -26.2505, -10.0490, -13.5097,\n",
      "         -33.0618, -11.7877, -22.6990, -30.6683, -33.7444, -12.4805, -32.7951,\n",
      "         -31.9200, -11.2995]], device='cuda:0', grad_fn=<AddmmBackward0>)\n"
     ]
    },
    {
     "name": "stderr",
     "output_type": "stream",
     "text": [
      " 72%|██████████████████████████████████████████████████████████████████████████████████████████████████████████▊                                          | 3016/4207 [00:32<00:12, 92.71it/s]"
     ]
    },
    {
     "name": "stdout",
     "output_type": "stream",
     "text": [
      "pred: 66 - target: 31 - loss: 1.732 - raw pred: tensor([[-30.8148, -35.3099, -36.0423, -10.6482, -18.0121, -12.2485, -14.2740,\n",
      "         -14.0145, -30.3460, -29.7162, -14.4908, -35.5543, -15.8890, -34.5553,\n",
      "         -16.2333, -17.6926, -32.0293, -34.8611, -10.7353, -13.4864, -26.8377,\n",
      "         -34.8261, -11.9495, -17.5700, -29.5462, -24.3505,  -8.6134,  -7.0476,\n",
      "         -20.4318, -30.4434, -28.4610,  -6.3991, -20.6250, -32.2463,  -9.3909,\n",
      "         -10.4244, -18.5629, -38.6873, -23.8554, -37.9486, -39.1574, -40.9556,\n",
      "         -32.4633, -12.7443, -37.4657, -31.7735, -38.3465, -29.9123, -24.9127,\n",
      "         -24.6706, -11.3424, -28.0035, -16.7836, -21.2784, -17.1486, -16.7703,\n",
      "         -22.8644,  -8.4615, -25.5730, -21.5103, -39.6817, -13.4061, -13.7783,\n",
      "         -31.4397, -15.9554, -12.8064,  -5.2815, -19.7013, -16.2926, -49.1422,\n",
      "         -30.0909, -16.6426, -26.5541, -25.4282, -37.2960, -30.0626, -16.5529,\n",
      "         -20.6305, -34.0395, -50.5224, -32.7947, -32.8899, -23.3244, -28.6454,\n",
      "         -13.4628, -16.9060, -38.7304, -23.6508,  -6.7315, -24.3767, -14.5895,\n",
      "         -28.6357, -32.1690]], device='cuda:0', grad_fn=<AddmmBackward0>)\n"
     ]
    },
    {
     "name": "stderr",
     "output_type": "stream",
     "text": [
      " 95%|██████████████████████████████████████████████████████████████████████████████████████████████████████████████████████████████████████████████       | 4010/4207 [00:43<00:02, 95.60it/s]"
     ]
    },
    {
     "name": "stdout",
     "output_type": "stream",
     "text": [
      "pred: 85 - target: 13 - loss: 1.730 - raw pred: tensor([[-19.1057, -38.0908, -29.1557, -27.4189, -33.0972, -24.8009, -12.7159,\n",
      "         -22.0685, -30.1707, -26.2332, -12.4949, -22.4360, -24.1649,  -7.7042,\n",
      "         -10.9457, -17.0650, -31.9550,  -8.8305, -18.3678, -27.7711, -36.0084,\n",
      "         -17.9011, -29.1501, -15.2926, -32.8388, -16.2783, -27.5821, -30.0977,\n",
      "         -42.1303, -10.5432, -30.0186, -24.9588, -15.0387, -29.1569, -24.3292,\n",
      "         -21.6793, -22.9570,  -8.2539, -11.8265, -19.0081, -32.5794, -18.8065,\n",
      "         -30.5031, -17.9985, -22.3794, -31.3820, -25.4066, -12.9173, -34.1496,\n",
      "         -26.0551, -22.8208, -25.1916, -28.4346, -15.0189, -32.2537, -32.8595,\n",
      "         -26.3600, -13.1844, -17.2988, -25.4031, -34.4299, -33.1990, -28.0760,\n",
      "         -26.0233, -28.7466, -30.6838, -16.7303, -14.7128, -26.0176, -30.8729,\n",
      "         -28.4208, -21.3627, -26.5655, -21.2640, -31.8867, -34.5344, -17.6563,\n",
      "         -16.5744, -35.8475, -31.3780, -13.4713, -21.3696, -19.6731,  -9.8254,\n",
      "         -24.0202,  -7.1134, -29.3421,  -7.1928, -21.8444, -14.2168, -21.3814,\n",
      "         -26.1487, -25.4103]], device='cuda:0', grad_fn=<AddmmBackward0>)\n"
     ]
    },
    {
     "name": "stderr",
     "output_type": "stream",
     "text": [
      "100%|█████████████████████████████████████████████████████████████████████████████████████████████████████████████████████████████████████████████████████| 4207/4207 [00:45<00:00, 92.91it/s]\n"
     ]
    },
    {
     "name": "stdout",
     "output_type": "stream",
     "text": [
      "//////////////////// Validation ////////////////////\n"
     ]
    },
    {
     "name": "stderr",
     "output_type": "stream",
     "text": [
      "  2%|██▉                                                                                                                                                   | 21/1052 [00:00<00:04, 207.98it/s]"
     ]
    },
    {
     "name": "stdout",
     "output_type": "stream",
     "text": [
      "pred: 83 - target: 74 - loss: 21.834 - raw pred: tensor([[ -8.8504, -40.7945, -26.5787, -32.9858, -44.9454, -24.5485, -21.0468,\n",
      "         -27.8156, -34.5383, -31.8116, -22.1215, -14.3958, -31.5419, -24.9167,\n",
      "         -13.2372, -30.6468, -17.7732, -24.3695, -33.1852, -29.9512, -39.1756,\n",
      "         -15.2137, -40.1842, -14.3423, -25.8027, -23.0508, -39.1251, -44.4810,\n",
      "         -38.8422,  -7.7050, -29.7202, -34.4961, -18.1253, -33.6578, -23.6671,\n",
      "         -18.1746, -12.6870, -23.3203,  -6.2210, -19.7502, -37.4154, -21.5791,\n",
      "         -37.0030, -19.6268, -16.8386, -31.9681, -31.1174,  -7.0734, -32.6644,\n",
      "         -16.9744, -24.7143, -12.8484, -47.4270, -25.3120, -48.8056, -37.8066,\n",
      "         -17.2775, -26.5620, -28.9639, -13.5964, -37.3399, -35.2461, -31.9912,\n",
      "         -32.6332, -50.1145, -41.4345, -30.3502, -18.6465, -34.8701, -36.6077,\n",
      "         -39.4303, -18.0464, -29.3292, -26.1033, -26.4938, -34.0812, -20.7300,\n",
      "         -22.2623, -25.5908, -37.7511, -11.8503, -28.5021, -27.4306,  -5.1411,\n",
      "         -28.3363,  -8.6814, -34.4172, -14.8048, -32.1433, -21.6309, -27.4519,\n",
      "         -35.0621, -20.2541]], device='cuda:0')\n",
      "matching = [False] - accuracy = 0.0\n",
      "matching = [False] - accuracy = 0.0\n",
      "matching = [False] - accuracy = 0.0\n",
      "matching = [False] - accuracy = 0.0\n",
      "matching = [False] - accuracy = 0.0\n"
     ]
    },
    {
     "name": "stderr",
     "output_type": "stream",
     "text": [
      "  9%|████████████▉                                                                                                                                         | 91/1052 [00:00<00:04, 210.72it/s]"
     ]
    },
    {
     "name": "stdout",
     "output_type": "stream",
     "text": [
      "matching = [False] - accuracy = 0.0\n",
      "matching = [False] - accuracy = 0.0\n",
      "matching = [False] - accuracy = 0.0\n",
      "matching = [False] - accuracy = 0.0\n",
      "matching = [False] - accuracy = 0.0\n"
     ]
    },
    {
     "name": "stderr",
     "output_type": "stream",
     "text": [
      " 13%|███████████████████▎                                                                                                                                 | 136/1052 [00:00<00:04, 205.84it/s]"
     ]
    },
    {
     "name": "stdout",
     "output_type": "stream",
     "text": [
      "matching = [False] - accuracy = 0.0\n",
      "matching = [True] - accuracy = 1.0\n",
      "matching = [False] - accuracy = 0.0\n",
      "matching = [False] - accuracy = 0.0\n",
      "matching = [False] - accuracy = 0.0\n"
     ]
    },
    {
     "name": "stderr",
     "output_type": "stream",
     "text": [
      " 17%|█████████████████████████▏                                                                                                                           | 178/1052 [00:00<00:04, 197.38it/s]"
     ]
    },
    {
     "name": "stdout",
     "output_type": "stream",
     "text": [
      "matching = [False] - accuracy = 0.0\n",
      "matching = [False] - accuracy = 0.0\n",
      "matching = [False] - accuracy = 0.0\n",
      "matching = [False] - accuracy = 0.0\n"
     ]
    },
    {
     "name": "stderr",
     "output_type": "stream",
     "text": [
      " 21%|███████████████████████████████▊                                                                                                                     | 225/1052 [00:01<00:03, 211.20it/s]"
     ]
    },
    {
     "name": "stdout",
     "output_type": "stream",
     "text": [
      "matching = [False] - accuracy = 0.0\n",
      "matching = [False] - accuracy = 0.0\n",
      "matching = [False] - accuracy = 0.0\n",
      "matching = [False] - accuracy = 0.0\n",
      "matching = [False] - accuracy = 0.0\n"
     ]
    },
    {
     "name": "stderr",
     "output_type": "stream",
     "text": [
      " 25%|█████████████████████████████████████▉                                                                                                               | 268/1052 [00:01<00:03, 196.43it/s]"
     ]
    },
    {
     "name": "stdout",
     "output_type": "stream",
     "text": [
      "matching = [False] - accuracy = 0.0\n",
      "matching = [False] - accuracy = 0.0\n",
      "matching = [False] - accuracy = 0.0\n",
      "matching = [False] - accuracy = 0.0\n"
     ]
    },
    {
     "name": "stderr",
     "output_type": "stream",
     "text": [
      " 29%|███████████████████████████████████████████▌                                                                                                         | 308/1052 [00:01<00:04, 182.82it/s]"
     ]
    },
    {
     "name": "stdout",
     "output_type": "stream",
     "text": [
      "matching = [False] - accuracy = 0.0\n",
      "matching = [False] - accuracy = 0.0\n",
      "matching = [False] - accuracy = 0.0\n",
      "matching = [False] - accuracy = 0.0\n"
     ]
    },
    {
     "name": "stderr",
     "output_type": "stream",
     "text": [
      " 33%|█████████████████████████████████████████████████▎                                                                                                   | 348/1052 [00:01<00:03, 190.92it/s]"
     ]
    },
    {
     "name": "stdout",
     "output_type": "stream",
     "text": [
      "matching = [False] - accuracy = 0.0\n",
      "matching = [False] - accuracy = 0.0\n",
      "matching = [False] - accuracy = 0.0\n",
      "matching = [False] - accuracy = 0.0\n",
      "matching = [False] - accuracy = 0.0\n"
     ]
    },
    {
     "name": "stderr",
     "output_type": "stream",
     "text": [
      " 37%|███████████████████████████████████████████████████████▏                                                                                             | 390/1052 [00:01<00:03, 196.89it/s]"
     ]
    },
    {
     "name": "stdout",
     "output_type": "stream",
     "text": [
      "matching = [False] - accuracy = 0.0\n",
      "matching = [False] - accuracy = 0.0\n",
      "matching = [False] - accuracy = 0.0\n",
      "matching = [False] - accuracy = 0.0\n"
     ]
    },
    {
     "name": "stderr",
     "output_type": "stream",
     "text": [
      " 43%|████████████████████████████████████████████████████████████████                                                                                     | 452/1052 [00:02<00:02, 203.88it/s]"
     ]
    },
    {
     "name": "stdout",
     "output_type": "stream",
     "text": [
      "matching = [False] - accuracy = 0.0\n",
      "matching = [False] - accuracy = 0.0\n",
      "matching = [False] - accuracy = 0.0\n",
      "matching = [False] - accuracy = 0.0\n",
      "matching = [False] - accuracy = 0.0\n"
     ]
    },
    {
     "name": "stderr",
     "output_type": "stream",
     "text": [
      " 47%|█████████████████████████████████████████████████████████████████████▉                                                                               | 494/1052 [00:02<00:02, 197.69it/s]"
     ]
    },
    {
     "name": "stdout",
     "output_type": "stream",
     "text": [
      "matching = [False] - accuracy = 0.0\n",
      "matching = [False] - accuracy = 0.0\n",
      "matching = [False] - accuracy = 0.0\n",
      "matching = [False] - accuracy = 0.0\n"
     ]
    },
    {
     "name": "stderr",
     "output_type": "stream",
     "text": [
      " 51%|███████████████████████████████████████████████████████████████████████████▊                                                                         | 535/1052 [00:02<00:02, 193.50it/s]"
     ]
    },
    {
     "name": "stdout",
     "output_type": "stream",
     "text": [
      "matching = [False] - accuracy = 0.0\n",
      "matching = [False] - accuracy = 0.0\n",
      "matching = [False] - accuracy = 0.0\n",
      "matching = [False] - accuracy = 0.0\n"
     ]
    },
    {
     "name": "stderr",
     "output_type": "stream",
     "text": [
      " 55%|█████████████████████████████████████████████████████████████████████████████████▌                                                                   | 576/1052 [00:02<00:02, 198.38it/s]"
     ]
    },
    {
     "name": "stdout",
     "output_type": "stream",
     "text": [
      "matching = [False] - accuracy = 0.0\n",
      "matching = [False] - accuracy = 0.0\n",
      "matching = [True] - accuracy = 1.0\n",
      "matching = [False] - accuracy = 0.0\n",
      "matching = [False] - accuracy = 0.0\n"
     ]
    },
    {
     "name": "stderr",
     "output_type": "stream",
     "text": [
      " 59%|███████████████████████████████████████████████████████████████████████████████████████▊                                                             | 620/1052 [00:03<00:02, 207.41it/s]"
     ]
    },
    {
     "name": "stdout",
     "output_type": "stream",
     "text": [
      "matching = [False] - accuracy = 0.0\n",
      "matching = [False] - accuracy = 0.0\n",
      "matching = [False] - accuracy = 0.0\n",
      "matching = [False] - accuracy = 0.0\n",
      "matching = [False] - accuracy = 0.0\n"
     ]
    },
    {
     "name": "stderr",
     "output_type": "stream",
     "text": [
      " 63%|██████████████████████████████████████████████████████████████████████████████████████████████▏                                                      | 665/1052 [00:03<00:01, 203.18it/s]"
     ]
    },
    {
     "name": "stdout",
     "output_type": "stream",
     "text": [
      "matching = [False] - accuracy = 0.0\n",
      "matching = [False] - accuracy = 0.0\n",
      "matching = [False] - accuracy = 0.0\n",
      "matching = [False] - accuracy = 0.0\n"
     ]
    },
    {
     "name": "stderr",
     "output_type": "stream",
     "text": [
      " 67%|████████████████████████████████████████████████████████████████████████████████████████████████████▏                                                | 707/1052 [00:03<00:01, 198.34it/s]"
     ]
    },
    {
     "name": "stdout",
     "output_type": "stream",
     "text": [
      "matching = [False] - accuracy = 0.0\n",
      "matching = [False] - accuracy = 0.0\n",
      "matching = [False] - accuracy = 0.0\n",
      "matching = [False] - accuracy = 0.0\n"
     ]
    },
    {
     "name": "stderr",
     "output_type": "stream",
     "text": [
      " 71%|██████████████████████████████████████████████████████████████████████████████████████████████████████████                                           | 749/1052 [00:03<00:01, 200.76it/s]"
     ]
    },
    {
     "name": "stdout",
     "output_type": "stream",
     "text": [
      "matching = [False] - accuracy = 0.0\n",
      "matching = [True] - accuracy = 1.0\n",
      "matching = [False] - accuracy = 0.0\n",
      "matching = [False] - accuracy = 0.0\n",
      "matching = [False] - accuracy = 0.0\n"
     ]
    },
    {
     "name": "stderr",
     "output_type": "stream",
     "text": [
      " 77%|███████████████████████████████████████████████████████████████████████████████████████████████████████████████████▏                                 | 813/1052 [00:04<00:01, 206.60it/s]"
     ]
    },
    {
     "name": "stdout",
     "output_type": "stream",
     "text": [
      "matching = [False] - accuracy = 0.0\n",
      "matching = [False] - accuracy = 0.0\n",
      "matching = [False] - accuracy = 0.0\n",
      "matching = [False] - accuracy = 0.0\n",
      "matching = [False] - accuracy = 0.0\n"
     ]
    },
    {
     "name": "stderr",
     "output_type": "stream",
     "text": [
      " 81%|█████████████████████████████████████████████████████████████████████████████████████████████████████████████████████████▏                           | 856/1052 [00:04<00:00, 205.69it/s]"
     ]
    },
    {
     "name": "stdout",
     "output_type": "stream",
     "text": [
      "matching = [False] - accuracy = 0.0\n",
      "matching = [False] - accuracy = 0.0\n",
      "matching = [False] - accuracy = 0.0\n",
      "matching = [False] - accuracy = 0.0\n",
      "matching = [False] - accuracy = 0.0\n"
     ]
    },
    {
     "name": "stderr",
     "output_type": "stream",
     "text": [
      " 85%|███████████████████████████████████████████████████████████████████████████████████████████████████████████████████████████████▏                     | 898/1052 [00:04<00:00, 204.48it/s]"
     ]
    },
    {
     "name": "stdout",
     "output_type": "stream",
     "text": [
      "matching = [False] - accuracy = 0.0\n",
      "matching = [False] - accuracy = 0.0\n",
      "matching = [False] - accuracy = 0.0\n",
      "matching = [False] - accuracy = 0.0\n",
      "matching = [False] - accuracy = 0.0\n"
     ]
    },
    {
     "name": "stderr",
     "output_type": "stream",
     "text": [
      " 90%|█████████████████████████████████████████████████████████████████████████████████████████████████████████████████████████████████████▍               | 942/1052 [00:04<00:00, 207.86it/s]"
     ]
    },
    {
     "name": "stdout",
     "output_type": "stream",
     "text": [
      "matching = [False] - accuracy = 0.0\n",
      "matching = [False] - accuracy = 0.0\n",
      "matching = [False] - accuracy = 0.0\n",
      "matching = [False] - accuracy = 0.0\n",
      "matching = [False] - accuracy = 0.0\n"
     ]
    },
    {
     "name": "stderr",
     "output_type": "stream",
     "text": [
      " 96%|█████████████████████████████████████████████████████████████████████████████████████████████████████████████████████████████████████████████▌      | 1006/1052 [00:05<00:00, 201.53it/s]"
     ]
    },
    {
     "name": "stdout",
     "output_type": "stream",
     "text": [
      "matching = [False] - accuracy = 0.0\n",
      "matching = [False] - accuracy = 0.0\n",
      "matching = [False] - accuracy = 0.0\n",
      "pred: 59 - target: 23 - loss: 6.313 - raw pred: tensor([[ -7.6219, -33.5325, -10.9755, -21.4128, -37.3300, -10.1336, -21.8142,\n",
      "         -21.2648, -28.2353, -23.9662, -21.4865,  -7.5352, -22.1527, -32.4269,\n",
      "          -6.7961, -31.5613, -13.2006, -32.8066, -31.9073, -16.7553, -28.5344,\n",
      "         -23.5169, -27.9748,  -9.5708, -17.2172, -24.6461, -33.7348, -36.4169,\n",
      "         -26.2569, -13.9349, -22.6820, -26.0250, -22.9137, -21.2181, -18.0395,\n",
      "          -9.6907,  -6.8826, -32.4903, -10.1042, -22.8916, -33.2104, -24.1502,\n",
      "         -29.5705, -18.3521, -20.4597, -25.6491, -29.6756, -11.1940, -25.3773,\n",
      "          -8.5880, -15.6785,  -7.0902, -38.5647, -24.9566, -39.9410, -32.2972,\n",
      "          -7.3374, -22.4158, -23.3155,  -3.4016, -26.9130, -21.3153, -22.7537,\n",
      "         -23.0762, -41.5173, -33.6604, -26.1240, -21.9086, -20.7365, -36.4075,\n",
      "         -36.6268, -12.5983, -20.0233, -17.0708, -15.1448, -29.5006, -21.7630,\n",
      "         -24.7528, -17.9979, -37.1624, -19.7096, -21.2508, -27.3676,  -9.7536,\n",
      "         -17.6490, -10.7024, -29.0652, -20.9685, -26.5793, -25.9661, -16.2212,\n",
      "         -26.8395, -18.7661]], device='cuda:0')\n",
      "matching = [False] - accuracy = 0.0\n"
     ]
    },
    {
     "name": "stderr",
     "output_type": "stream",
     "text": [
      "100%|████████████████████████████████████████████████████████████████████████████████████████████████████████████████████████████████████████████████████| 1052/1052 [00:05<00:00, 200.98it/s]\n"
     ]
    },
    {
     "name": "stdout",
     "output_type": "stream",
     "text": [
      "matching = [False] - accuracy = 0.0\n",
      "matching = [False] - accuracy = 0.0\n",
      "matching = [True] - accuracy = 1.0\n",
      "matching = [False] - accuracy = 0.0\n",
      "matching = [False] - accuracy = 0.0\n",
      "//////////////////// Epoch: 10 ////////////////////\n"
     ]
    },
    {
     "name": "stderr",
     "output_type": "stream",
     "text": [
      "  0%|▎                                                                                                                                                      | 10/4207 [00:00<00:46, 91.01it/s]"
     ]
    },
    {
     "name": "stdout",
     "output_type": "stream",
     "text": [
      "pred: 78 - target: 78 - loss: 0.365 - raw pred: tensor([[-19.2812, -32.4358, -24.6955, -21.7895, -34.3329, -15.5593, -35.5614,\n",
      "         -19.5399, -15.0451, -26.0920, -33.0138, -27.0074, -20.8702, -39.6345,\n",
      "         -21.7776, -30.2333,  -6.7559, -41.8159, -37.1000, -15.2364, -15.9046,\n",
      "         -33.1857, -28.2973, -28.1149, -25.6647, -37.3691, -38.6631, -35.5769,\n",
      "         -21.0794, -30.2482, -11.0932, -27.1079, -30.6754, -24.8571, -20.8880,\n",
      "         -15.4446, -10.8859, -45.6206, -16.1605, -28.1152, -29.6655, -29.0869,\n",
      "         -32.0319, -20.4685, -24.5782, -14.7822, -30.0837, -28.0478, -23.1385,\n",
      "         -13.0834, -18.1824, -12.8918, -33.7790, -40.8902, -39.2866, -31.7271,\n",
      "         -15.2477, -28.6904, -33.9425, -15.4232, -27.3167, -16.9872, -30.7901,\n",
      "         -22.4375, -48.5702, -39.0104, -31.9760, -28.3191, -20.8538, -35.9133,\n",
      "         -31.5637,  -9.6798, -17.8786, -30.5195, -25.3301, -27.7943, -27.7576,\n",
      "         -31.4537,  -5.8518, -30.8563, -28.2758, -31.4471, -27.9352, -25.0512,\n",
      "         -26.1408, -17.3286, -27.9818, -34.2514, -30.1956, -32.0704, -19.4760,\n",
      "         -33.2945, -22.6404]], device='cuda:0', grad_fn=<AddmmBackward0>)\n"
     ]
    },
    {
     "name": "stderr",
     "output_type": "stream",
     "text": [
      " 24%|████████████████████████████████████                                                                                                                 | 1018/4207 [00:10<00:33, 94.05it/s]"
     ]
    },
    {
     "name": "stdout",
     "output_type": "stream",
     "text": [
      "pred: 67 - target: 76 - loss: 1.900 - raw pred: tensor([[-20.7901, -19.1388, -31.5445, -16.9607, -10.3542, -18.3403,  -9.3270,\n",
      "         -19.5439, -24.1330, -25.6374,  -7.6459, -27.2135, -25.7770, -14.4154,\n",
      "         -16.3265,  -7.4990, -25.0480, -13.7822, -12.5710, -22.3247, -25.8992,\n",
      "         -12.9272, -26.2336, -17.9256, -25.8073, -17.5246, -16.2748, -22.9282,\n",
      "         -25.1809, -15.7415, -23.4081, -17.0974,  -5.5612, -28.8948, -13.4558,\n",
      "         -10.2260, -19.3322, -16.0224, -13.5937, -16.5197, -27.5023, -16.1006,\n",
      "         -25.1153,  -9.5145, -13.4436, -24.5176, -18.1047, -18.6860, -24.2823,\n",
      "         -23.3811, -19.5664, -22.2778, -24.1277, -18.8026, -27.4593, -11.5477,\n",
      "         -22.2658, -11.6179, -25.4787, -17.1023, -29.4653, -25.0057, -23.0949,\n",
      "         -24.4747, -27.8008, -25.4949, -14.3642,  -5.3912, -23.5975, -28.5830,\n",
      "         -15.1171, -12.4285, -25.2260, -27.2131, -27.7822, -15.9032,  -5.8405,\n",
      "          -5.4938, -25.3060, -29.0980, -11.1067, -28.1443,  -8.0546, -14.9999,\n",
      "         -20.2837,  -8.4908, -25.5460, -16.8280, -15.6723,  -6.1289, -24.5508,\n",
      "         -24.6158, -13.0801]], device='cuda:0', grad_fn=<AddmmBackward0>)\n"
     ]
    },
    {
     "name": "stderr",
     "output_type": "stream",
     "text": [
      " 48%|███████████████████████████████████████████████████████████████████████▎                                                                             | 2012/4207 [00:21<00:22, 98.49it/s]"
     ]
    },
    {
     "name": "stdout",
     "output_type": "stream",
     "text": [
      "pred: 35 - target: 35 - loss: 0.014 - raw pred: tensor([[-20.2890, -27.6678, -30.4621, -14.4840, -16.2066, -12.8954, -13.8907,\n",
      "         -16.9997, -27.5700, -30.5012, -13.3803, -26.3300, -19.7245, -32.8209,\n",
      "         -13.1642, -16.4194, -21.7753, -32.6280, -15.4081, -15.9697, -28.5260,\n",
      "         -20.2712, -20.7793, -14.5083, -24.8218, -21.6018, -16.2093, -18.7140,\n",
      "         -18.2882, -22.0138, -26.7718, -12.4310, -12.9658, -32.5582, -10.9137,\n",
      "          -4.6475, -13.1005, -34.7715, -16.4180, -27.5537, -33.1929, -29.8919,\n",
      "         -29.5974, -10.8729, -23.6630, -27.3718, -29.9389, -21.4243, -22.0061,\n",
      "         -17.3796, -15.2769, -21.3075, -27.3375, -19.9631, -27.2737, -14.0937,\n",
      "         -16.1536, -13.7635, -30.7011, -13.4839, -36.4792, -17.6998, -14.9271,\n",
      "         -32.0499, -30.0789, -21.4803, -13.6151, -12.3037, -19.1666, -43.5246,\n",
      "         -25.4184, -12.9224, -25.9191, -23.9512, -29.2319, -21.7595,  -9.8850,\n",
      "         -14.0040, -24.2555, -43.0205, -20.2894, -32.9339, -18.0404, -19.6515,\n",
      "         -13.6333, -10.9041, -33.5599, -21.3223, -13.1599, -17.0531, -18.8099,\n",
      "         -28.6031, -19.2223]], device='cuda:0', grad_fn=<AddmmBackward0>)\n"
     ]
    },
    {
     "name": "stderr",
     "output_type": "stream",
     "text": [
      " 72%|██████████████████████████████████████████████████████████████████████████████████████████████████████████▋                                          | 3013/4207 [00:31<00:13, 88.82it/s]"
     ]
    },
    {
     "name": "stdout",
     "output_type": "stream",
     "text": [
      "pred: 87 - target: 87 - loss: 0.270 - raw pred: tensor([[-18.0695, -41.6534, -33.1894, -27.5032, -30.7595, -22.3335, -12.1898,\n",
      "         -24.6059, -34.0735, -31.6654, -12.9515, -23.4689, -26.1627, -16.3502,\n",
      "          -9.8075, -19.7369, -31.0831, -13.5724, -18.7858, -27.7357, -39.3148,\n",
      "         -13.8841, -31.2907, -12.3851, -30.2286, -13.8904, -25.4686, -32.8458,\n",
      "         -39.6190, -10.1279, -33.7392, -23.8334, -12.0854, -35.3497, -19.7463,\n",
      "         -19.6107, -19.8160, -15.5737, -10.2397, -24.1395, -33.9285, -24.2243,\n",
      "         -34.0809, -16.1084, -20.9650, -33.4811, -31.9406, -10.7639, -33.7377,\n",
      "         -24.8091, -23.7544, -23.2953, -34.5239, -15.2005, -36.6878, -29.9437,\n",
      "         -23.9858, -14.1220, -25.0708, -21.4725, -39.4523, -31.8299, -26.9813,\n",
      "         -32.4459, -33.6139, -33.2415, -16.3259, -10.6092, -29.3412, -37.0304,\n",
      "         -33.8948, -21.3597, -30.6623, -24.9784, -34.1981, -33.2371, -13.8692,\n",
      "         -13.2870, -35.8535, -40.3133, -10.7715, -28.7201, -23.4605,  -9.4885,\n",
      "         -21.9384, -10.5939, -32.2184,  -6.8640, -19.0508, -14.0418, -24.4624,\n",
      "         -32.6389, -25.0094]], device='cuda:0', grad_fn=<AddmmBackward0>)\n"
     ]
    },
    {
     "name": "stderr",
     "output_type": "stream",
     "text": [
      " 96%|██████████████████████████████████████████████████████████████████████████████████████████████████████████████████████████████████████████████▎      | 4019/4207 [00:42<00:02, 93.22it/s]"
     ]
    },
    {
     "name": "stdout",
     "output_type": "stream",
     "text": [
      "pred: 13 - target: 17 - loss: 1.758 - raw pred: tensor([[-20.3732, -30.3138, -30.8898, -26.9205, -28.3406, -25.3481, -11.8008,\n",
      "         -20.3786, -27.4293, -24.2993, -11.3454, -25.5619, -25.0928,  -3.8928,\n",
      "         -14.9065, -12.1588, -32.4368,  -4.8746, -17.3420, -28.7380, -33.9536,\n",
      "         -20.5194, -28.3094, -18.5706, -33.1013, -17.5042, -24.5258, -27.8333,\n",
      "         -39.7947, -13.2544, -28.3280, -24.7295, -13.2563, -26.7857, -26.0320,\n",
      "         -19.5754, -26.4834,  -5.7891, -12.7573, -10.9233, -29.4757, -12.1879,\n",
      "         -26.1210, -16.4971, -19.6762, -29.1970, -19.4070, -17.6295, -34.9820,\n",
      "         -30.6811, -22.2131, -29.1429, -26.9044, -16.5168, -29.0503, -28.2616,\n",
      "         -26.4188, -13.8326, -18.4963, -24.0197, -29.6762, -33.1599, -26.1822,\n",
      "         -24.4313, -23.6567, -29.1376, -17.0520, -13.3155, -25.3937, -25.8571,\n",
      "         -17.8847, -18.6650, -25.1531, -24.7693, -30.8396, -30.7012, -17.9430,\n",
      "         -14.4081, -36.0475, -26.7578, -15.3837, -19.3341, -13.6873, -11.4404,\n",
      "         -24.0251,  -4.3351, -24.1838, -10.3532, -20.8117, -13.1068, -20.9318,\n",
      "         -25.8029, -23.3247]], device='cuda:0', grad_fn=<AddmmBackward0>)\n"
     ]
    },
    {
     "name": "stderr",
     "output_type": "stream",
     "text": [
      "100%|█████████████████████████████████████████████████████████████████████████████████████████████████████████████████████████████████████████████████████| 4207/4207 [00:44<00:00, 94.45it/s]\n"
     ]
    },
    {
     "name": "stdout",
     "output_type": "stream",
     "text": [
      "//////////////////// Validation ////////////////////\n"
     ]
    },
    {
     "name": "stderr",
     "output_type": "stream",
     "text": [
      "  2%|███▏                                                                                                                                                  | 22/1052 [00:00<00:04, 214.16it/s]"
     ]
    },
    {
     "name": "stdout",
     "output_type": "stream",
     "text": [
      "pred: 76 - target: 79 - loss: 23.828 - raw pred: tensor([[-19.4172, -20.2029, -28.4236, -12.6222,  -8.8171, -14.2842,  -7.0019,\n",
      "         -14.4354, -21.6603, -22.3535,  -6.5340, -24.3862, -18.4770, -12.7394,\n",
      "         -11.8095,  -6.6318, -23.8751, -11.7501,  -8.5497, -17.8156, -22.9388,\n",
      "         -13.9671, -18.5540, -13.8090, -22.7763, -13.1656,  -9.9106, -15.5734,\n",
      "         -21.7579, -14.4820, -21.2744, -11.7512,  -5.1459, -25.1721, -10.2293,\n",
      "          -8.8673, -17.7371, -14.0603, -12.7968, -16.3496, -24.2060, -16.6646,\n",
      "         -21.9295,  -7.8384, -14.9421, -21.9015, -18.8670, -16.6926, -21.1508,\n",
      "         -21.1029, -13.6846, -21.3588, -18.1197, -13.3840, -19.8662,  -9.6503,\n",
      "         -18.9559,  -7.8069, -20.6015, -15.4002, -25.7421, -19.5101, -16.1311,\n",
      "         -22.1655, -17.9216, -18.6418,  -9.1174,  -4.9164, -18.0893, -27.1740,\n",
      "         -14.7462, -12.5257, -21.7593, -21.9377, -26.1697, -16.1622,  -4.8783,\n",
      "          -5.0425, -24.4471, -27.1537, -11.0490, -24.4745,  -9.7009, -13.9170,\n",
      "         -14.5913,  -8.3653, -22.6291, -13.0747,  -9.2825,  -5.7913, -19.4706,\n",
      "         -21.4988, -14.4896]], device='cuda:0')\n",
      "matching = [False] - accuracy = 0.0\n",
      "matching = [False] - accuracy = 0.0\n",
      "matching = [False] - accuracy = 0.0\n",
      "matching = [False] - accuracy = 0.0\n",
      "matching = [False] - accuracy = 0.0\n"
     ]
    },
    {
     "name": "stderr",
     "output_type": "stream",
     "text": [
      "  7%|█████████▊                                                                                                                                            | 69/1052 [00:00<00:04, 217.40it/s]"
     ]
    },
    {
     "name": "stdout",
     "output_type": "stream",
     "text": [
      "matching = [False] - accuracy = 0.0\n",
      "matching = [False] - accuracy = 0.0\n",
      "matching = [False] - accuracy = 0.0\n",
      "matching = [False] - accuracy = 0.0\n",
      "matching = [False] - accuracy = 0.0\n"
     ]
    },
    {
     "name": "stderr",
     "output_type": "stream",
     "text": [
      " 13%|██████████████████▉                                                                                                                                  | 134/1052 [00:00<00:04, 207.04it/s]"
     ]
    },
    {
     "name": "stdout",
     "output_type": "stream",
     "text": [
      "matching = [False] - accuracy = 0.0\n",
      "matching = [False] - accuracy = 0.0\n",
      "matching = [False] - accuracy = 0.0\n",
      "matching = [False] - accuracy = 0.0\n",
      "matching = [False] - accuracy = 0.0\n"
     ]
    },
    {
     "name": "stderr",
     "output_type": "stream",
     "text": [
      " 17%|████████████████████████▉                                                                                                                            | 176/1052 [00:00<00:04, 198.05it/s]"
     ]
    },
    {
     "name": "stdout",
     "output_type": "stream",
     "text": [
      "matching = [True] - accuracy = 1.0\n",
      "matching = [False] - accuracy = 0.0\n",
      "matching = [False] - accuracy = 0.0\n",
      "matching = [False] - accuracy = 0.0\n"
     ]
    },
    {
     "name": "stderr",
     "output_type": "stream",
     "text": [
      " 21%|██████████████████████████████▉                                                                                                                      | 218/1052 [00:01<00:04, 203.77it/s]"
     ]
    },
    {
     "name": "stdout",
     "output_type": "stream",
     "text": [
      "matching = [False] - accuracy = 0.0\n",
      "matching = [False] - accuracy = 0.0\n",
      "matching = [False] - accuracy = 0.0\n",
      "matching = [False] - accuracy = 0.0\n",
      "matching = [False] - accuracy = 0.0\n"
     ]
    },
    {
     "name": "stderr",
     "output_type": "stream",
     "text": [
      " 27%|███████████████████████████████████████▊                                                                                                             | 281/1052 [00:01<00:03, 200.47it/s]"
     ]
    },
    {
     "name": "stdout",
     "output_type": "stream",
     "text": [
      "matching = [False] - accuracy = 0.0\n",
      "matching = [False] - accuracy = 0.0\n",
      "matching = [False] - accuracy = 0.0\n",
      "matching = [False] - accuracy = 0.0\n",
      "matching = [False] - accuracy = 0.0\n"
     ]
    },
    {
     "name": "stderr",
     "output_type": "stream",
     "text": [
      " 31%|██████████████████████████████████████████████                                                                                                       | 325/1052 [00:01<00:03, 209.22it/s]"
     ]
    },
    {
     "name": "stdout",
     "output_type": "stream",
     "text": [
      "matching = [False] - accuracy = 0.0\n",
      "matching = [False] - accuracy = 0.0\n",
      "matching = [False] - accuracy = 0.0\n",
      "matching = [False] - accuracy = 0.0\n",
      "matching = [False] - accuracy = 0.0\n"
     ]
    },
    {
     "name": "stderr",
     "output_type": "stream",
     "text": [
      " 35%|███████████████████████████████████████████████████▉                                                                                                 | 367/1052 [00:01<00:03, 205.19it/s]"
     ]
    },
    {
     "name": "stdout",
     "output_type": "stream",
     "text": [
      "matching = [False] - accuracy = 0.0\n",
      "matching = [False] - accuracy = 0.0\n",
      "matching = [False] - accuracy = 0.0\n",
      "matching = [False] - accuracy = 0.0\n",
      "matching = [False] - accuracy = 0.0\n"
     ]
    },
    {
     "name": "stderr",
     "output_type": "stream",
     "text": [
      " 41%|████████████████████████████████████████████████████████████▉                                                                                        | 430/1052 [00:02<00:03, 202.42it/s]"
     ]
    },
    {
     "name": "stdout",
     "output_type": "stream",
     "text": [
      "matching = [False] - accuracy = 0.0\n",
      "matching = [False] - accuracy = 0.0\n",
      "matching = [False] - accuracy = 0.0\n",
      "matching = [False] - accuracy = 0.0\n",
      "matching = [False] - accuracy = 0.0\n"
     ]
    },
    {
     "name": "stderr",
     "output_type": "stream",
     "text": [
      " 45%|██████████████████████████████████████████████████████████████████▋                                                                                  | 471/1052 [00:02<00:02, 197.54it/s]"
     ]
    },
    {
     "name": "stdout",
     "output_type": "stream",
     "text": [
      "matching = [False] - accuracy = 0.0\n",
      "matching = [False] - accuracy = 0.0\n",
      "matching = [False] - accuracy = 0.0\n",
      "matching = [False] - accuracy = 0.0\n"
     ]
    },
    {
     "name": "stderr",
     "output_type": "stream",
     "text": [
      " 49%|████████████████████████████████████████████████████████████████████████▊                                                                            | 514/1052 [00:02<00:02, 203.21it/s]"
     ]
    },
    {
     "name": "stdout",
     "output_type": "stream",
     "text": [
      "matching = [False] - accuracy = 0.0\n",
      "matching = [False] - accuracy = 0.0\n",
      "matching = [False] - accuracy = 0.0\n",
      "matching = [False] - accuracy = 0.0\n",
      "matching = [False] - accuracy = 0.0\n"
     ]
    },
    {
     "name": "stderr",
     "output_type": "stream",
     "text": [
      " 53%|███████████████████████████████████████████████████████████████████████████████▏                                                                     | 559/1052 [00:02<00:02, 207.55it/s]"
     ]
    },
    {
     "name": "stdout",
     "output_type": "stream",
     "text": [
      "matching = [False] - accuracy = 0.0\n",
      "matching = [False] - accuracy = 0.0\n",
      "matching = [False] - accuracy = 0.0\n",
      "matching = [False] - accuracy = 0.0\n",
      "matching = [False] - accuracy = 0.0\n"
     ]
    },
    {
     "name": "stderr",
     "output_type": "stream",
     "text": [
      " 59%|████████████████████████████████████████████████████████████████████████████████████████▍                                                            | 624/1052 [00:03<00:02, 209.79it/s]"
     ]
    },
    {
     "name": "stdout",
     "output_type": "stream",
     "text": [
      "matching = [False] - accuracy = 0.0\n",
      "matching = [False] - accuracy = 0.0\n",
      "matching = [False] - accuracy = 0.0\n",
      "matching = [False] - accuracy = 0.0\n",
      "matching = [False] - accuracy = 0.0\n"
     ]
    },
    {
     "name": "stderr",
     "output_type": "stream",
     "text": [
      " 63%|██████████████████████████████████████████████████████████████████████████████████████████████▍                                                      | 667/1052 [00:03<00:01, 201.35it/s]"
     ]
    },
    {
     "name": "stdout",
     "output_type": "stream",
     "text": [
      "matching = [False] - accuracy = 0.0\n",
      "matching = [False] - accuracy = 0.0\n",
      "matching = [False] - accuracy = 0.0\n",
      "matching = [False] - accuracy = 0.0\n"
     ]
    },
    {
     "name": "stderr",
     "output_type": "stream",
     "text": [
      "\r",
      " 65%|█████████████████████████████████████████████████████████████████████████████████████████████████▍                                                   | 688/1052 [00:03<00:01, 199.89it/s]"
     ]
    },
    {
     "name": "stdout",
     "output_type": "stream",
     "text": [
      "matching = [False] - accuracy = 0.0\n",
      "matching = [False] - accuracy = 0.0\n",
      "matching = [False] - accuracy = 0.0\n",
      "matching = [False] - accuracy = 0.0\n"
     ]
    },
    {
     "name": "stderr",
     "output_type": "stream",
     "text": [
      " 71%|██████████████████████████████████████████████████████████████████████████████████████████████████████████▌                                          | 752/1052 [00:03<00:01, 201.45it/s]"
     ]
    },
    {
     "name": "stdout",
     "output_type": "stream",
     "text": [
      "matching = [False] - accuracy = 0.0\n",
      "matching = [False] - accuracy = 0.0\n",
      "matching = [False] - accuracy = 0.0\n",
      "matching = [True] - accuracy = 1.0\n",
      "matching = [False] - accuracy = 0.0\n"
     ]
    },
    {
     "name": "stderr",
     "output_type": "stream",
     "text": [
      " 75%|████████████████████████████████████████████████████████████████████████████████████████████████████████████████▎                                    | 793/1052 [00:03<00:01, 195.27it/s]"
     ]
    },
    {
     "name": "stdout",
     "output_type": "stream",
     "text": [
      "matching = [False] - accuracy = 0.0\n",
      "matching = [False] - accuracy = 0.0\n",
      "matching = [False] - accuracy = 0.0\n",
      "matching = [False] - accuracy = 0.0\n"
     ]
    },
    {
     "name": "stderr",
     "output_type": "stream",
     "text": [
      " 79%|█████████████████████████████████████████████████████████████████████████████████████████████████████████████████████▉                               | 833/1052 [00:04<00:01, 189.46it/s]"
     ]
    },
    {
     "name": "stdout",
     "output_type": "stream",
     "text": [
      "matching = [False] - accuracy = 0.0\n",
      "matching = [False] - accuracy = 0.0\n",
      "matching = [False] - accuracy = 0.0\n",
      "matching = [False] - accuracy = 0.0\n"
     ]
    },
    {
     "name": "stderr",
     "output_type": "stream",
     "text": [
      " 83%|███████████████████████████████████████████████████████████████████████████████████████████████████████████████████████████▉                         | 875/1052 [00:04<00:00, 196.72it/s]"
     ]
    },
    {
     "name": "stdout",
     "output_type": "stream",
     "text": [
      "matching = [False] - accuracy = 0.0\n",
      "matching = [False] - accuracy = 0.0\n",
      "matching = [False] - accuracy = 0.0\n",
      "matching = [False] - accuracy = 0.0\n",
      "matching = [False] - accuracy = 0.0\n"
     ]
    },
    {
     "name": "stderr",
     "output_type": "stream",
     "text": [
      " 87%|██████████████████████████████████████████████████████████████████████████████████████████████████████████████████████████████████▎                  | 920/1052 [00:04<00:00, 207.71it/s]"
     ]
    },
    {
     "name": "stdout",
     "output_type": "stream",
     "text": [
      "matching = [False] - accuracy = 0.0\n",
      "matching = [False] - accuracy = 0.0\n",
      "matching = [False] - accuracy = 0.0\n",
      "matching = [False] - accuracy = 0.0\n",
      "matching = [False] - accuracy = 0.0\n"
     ]
    },
    {
     "name": "stderr",
     "output_type": "stream",
     "text": [
      " 91%|████████████████████████████████████████████████████████████████████████████████████████████████████████████████████████████████████████▎            | 962/1052 [00:04<00:00, 205.25it/s]"
     ]
    },
    {
     "name": "stdout",
     "output_type": "stream",
     "text": [
      "matching = [False] - accuracy = 0.0\n",
      "matching = [False] - accuracy = 0.0\n",
      "matching = [False] - accuracy = 0.0\n",
      "matching = [False] - accuracy = 0.0\n"
     ]
    },
    {
     "name": "stderr",
     "output_type": "stream",
     "text": [
      " 95%|█████████████████████████████████████████████████████████████████████████████████████████████████████████████████████████████████████████████       | 1003/1052 [00:05<00:00, 184.28it/s]"
     ]
    },
    {
     "name": "stdout",
     "output_type": "stream",
     "text": [
      "matching = [False] - accuracy = 0.0\n",
      "matching = [False] - accuracy = 0.0\n",
      "pred: 58 - target: 21 - loss: 28.623 - raw pred: tensor([[-17.8672, -29.8677, -11.5807, -15.2805, -32.0364, -13.9676, -20.4195,\n",
      "          -6.9602, -18.3996, -10.0618, -17.2526, -25.2389,  -6.3731, -19.8281,\n",
      "         -11.4768, -25.6027, -18.8323, -21.1185, -24.3126, -13.6506, -15.9533,\n",
      "         -32.8367, -10.5437, -15.1342, -24.7185, -26.5658, -29.4559, -28.7406,\n",
      "         -28.0816, -27.8955, -13.2379, -24.9541, -26.2288,  -6.7274, -21.0824,\n",
      "         -11.8671, -18.2681, -19.5177, -21.9839, -21.2350, -18.6825, -19.3548,\n",
      "         -15.8972, -25.3743, -26.3850, -16.2762, -23.7009, -19.9193, -28.1967,\n",
      "         -18.9942,  -6.6443, -19.4524, -15.5722, -21.5426, -18.8986, -30.5036,\n",
      "         -18.0804, -20.5444,  -5.2135, -20.6264, -11.2855, -17.9816, -26.4135,\n",
      "          -6.9089, -23.3832, -24.1367, -23.2544, -27.9235, -11.9653, -23.9737,\n",
      "         -24.4018, -15.3755,  -6.2396, -16.4642, -16.0020, -31.1537, -29.1393,\n",
      "         -26.2994, -23.3310, -25.2293, -29.9351,  -7.1514, -24.0056, -22.1621,\n",
      "         -19.7216, -20.1878, -20.2635, -23.8318, -24.4010, -26.6179,  -8.1387,\n",
      "          -9.9117, -26.4540]], device='cuda:0')\n",
      "matching = [False] - accuracy = 0.0\n",
      "matching = [False] - accuracy = 0.0\n"
     ]
    },
    {
     "name": "stderr",
     "output_type": "stream",
     "text": [
      "100%|████████████████████████████████████████████████████████████████████████████████████████████████████████████████████████████████████████████████████| 1052/1052 [00:05<00:00, 199.11it/s]\n"
     ]
    },
    {
     "name": "stdout",
     "output_type": "stream",
     "text": [
      "matching = [False] - accuracy = 0.0\n",
      "matching = [False] - accuracy = 0.0\n",
      "matching = [False] - accuracy = 0.0\n",
      "matching = [False] - accuracy = 0.0\n",
      "//////////////////// Epoch: 11 ////////////////////\n"
     ]
    },
    {
     "name": "stderr",
     "output_type": "stream",
     "text": [
      "\r",
      "  0%|                                                                                                                                                                | 0/4207 [00:00<?, ?it/s]"
     ]
    },
    {
     "name": "stdout",
     "output_type": "stream",
     "text": [
      "pred: 76 - target: 76 - loss: 0.905 - raw pred: tensor([[-22.0964, -21.3288, -32.1275, -15.2806, -10.2657, -17.8582, -11.0680,\n",
      "         -18.6587, -23.9844, -25.8670,  -8.1004, -27.9037, -23.8739, -19.1906,\n",
      "         -16.5103,  -8.9818, -24.5548, -18.8057, -12.6430, -20.5771, -25.1847,\n",
      "         -17.3189, -24.5927, -18.6038, -25.4930, -19.2446, -16.5720, -21.5017,\n",
      "         -23.5860, -19.9257, -23.0983, -16.4049,  -7.6325, -30.0281, -13.6026,\n",
      "          -9.1651, -17.4177, -19.9631, -14.0994, -18.9772, -29.0254, -19.7781,\n",
      "         -25.5207, -10.3903, -16.1461, -24.4628, -20.9960, -21.6332, -23.0467,\n",
      "         -22.7506, -17.9481, -22.5176, -23.9915, -21.3808, -25.0778, -11.2590,\n",
      "         -21.8425, -12.6391, -26.2100, -16.4017, -30.2606, -22.4898, -21.9836,\n",
      "         -25.8086, -27.5788, -25.3436, -14.3374,  -8.8013, -22.0808, -31.2930,\n",
      "         -17.2147, -13.3584, -26.0231, -25.0851, -28.5687, -16.5633,  -6.5817,\n",
      "          -7.5128, -24.8226, -31.0560, -14.9086, -29.9408, -10.9522, -18.0610,\n",
      "         -19.7951, -10.4956, -26.8484, -21.3707, -15.2490,  -8.6543, -23.6246,\n",
      "         -26.0222, -15.6659]], device='cuda:0', grad_fn=<AddmmBackward0>)\n"
     ]
    },
    {
     "name": "stderr",
     "output_type": "stream",
     "text": [
      " 24%|███████████████████████████████████▋                                                                                                                 | 1008/4207 [00:10<00:35, 90.62it/s]"
     ]
    },
    {
     "name": "stdout",
     "output_type": "stream",
     "text": [
      "pred: 35 - target: 35 - loss: 0.002 - raw pred: tensor([[-14.5271, -34.4954, -10.7503, -23.3845, -35.3483, -12.8146, -30.0622,\n",
      "         -14.9356, -27.3742, -24.8666, -27.8007, -22.7958, -17.5356, -30.7809,\n",
      "         -14.4306, -31.2388, -13.6267, -30.2487, -37.2233, -21.1341, -28.7277,\n",
      "         -33.0503, -18.9824, -17.9751, -22.7319, -31.9364, -41.6874, -38.8110,\n",
      "         -32.5951, -28.2022, -18.9620, -32.5826, -29.9558, -17.4686, -14.8024,\n",
      "          -4.1383, -14.4261, -33.0586, -22.0788, -23.6538, -24.3699, -27.1298,\n",
      "         -26.8287, -26.5144, -26.6496, -19.0851, -29.2648, -24.5276, -29.1965,\n",
      "         -15.9866, -13.1634, -17.9769, -33.5062, -32.7382, -36.7111, -34.7510,\n",
      "         -18.2471, -27.7708, -19.4433, -14.1405, -25.7080, -25.1064, -36.5648,\n",
      "         -16.6336, -40.5855, -40.2174, -31.5512, -30.5295, -17.0827, -31.5495,\n",
      "         -32.3400, -14.4987, -15.0580, -19.1667, -14.3730, -34.5850, -31.1973,\n",
      "         -29.7653, -20.5719, -31.2596, -29.6755, -20.4484, -26.5754, -21.5273,\n",
      "         -24.8176, -23.2662, -26.3854, -28.5436, -33.1028, -31.2265, -17.1974,\n",
      "         -23.2649, -23.8387]], device='cuda:0', grad_fn=<AddmmBackward0>)\n"
     ]
    },
    {
     "name": "stderr",
     "output_type": "stream",
     "text": [
      " 48%|███████████████████████████████████████████████████████████████████████▎                                                                             | 2015/4207 [00:21<00:23, 92.85it/s]"
     ]
    },
    {
     "name": "stdout",
     "output_type": "stream",
     "text": [
      "pred: 78 - target: 78 - loss: 0.042 - raw pred: tensor([[-21.3124, -31.2564, -29.9813, -27.3837, -32.6701, -17.3296, -37.6028,\n",
      "         -20.5451, -10.4581, -25.7978, -34.7111, -30.4558, -22.4053, -35.9062,\n",
      "         -26.9998, -29.8422,  -5.5035, -40.3676, -38.0978, -16.5178, -14.6478,\n",
      "         -30.8300, -29.2521, -33.7933, -26.6502, -39.3093, -40.9445, -37.5169,\n",
      "         -23.9742, -28.7292,  -8.1627, -29.3051, -31.1079, -25.3231, -19.3629,\n",
      "         -19.4330, -10.1350, -41.7758, -12.3002, -28.3725, -29.2692, -28.4778,\n",
      "         -35.6517, -21.9127, -23.7161, -10.4452, -28.3951, -30.4773, -22.3256,\n",
      "         -14.1411, -17.8031, -15.1917, -33.6665, -44.1947, -40.4583, -32.4251,\n",
      "         -19.6786, -30.6218, -36.6195, -19.0071, -31.1085, -18.7160, -34.5337,\n",
      "         -21.1759, -51.1657, -42.9515, -34.3378, -29.1927, -23.3915, -28.5929,\n",
      "         -30.6812,  -9.2632, -18.0434, -31.3251, -29.6033, -26.4475, -28.2319,\n",
      "         -32.0311,  -2.2424, -25.0153, -27.2010, -35.4652, -28.1422, -25.7035,\n",
      "         -32.5919, -18.3983, -25.0096, -35.4937, -32.9694, -31.6846, -22.6557,\n",
      "         -37.1518, -22.8302]], device='cuda:0', grad_fn=<AddmmBackward0>)\n"
     ]
    },
    {
     "name": "stderr",
     "output_type": "stream",
     "text": [
      " 50%|█████████████████████████████████████████████████████████████████████████▉                                                                           | 2086/4207 [00:22<00:23, 92.14it/s]"
     ]
    }
   ],
   "source": [
    "train(test_train_dl, test_valid_dl, env)"
   ]
  },
  {
   "cell_type": "code",
   "execution_count": 76,
   "metadata": {},
   "outputs": [],
   "source": [
    "unmount_ramdrive(mountpoint)"
   ]
  },
  {
   "cell_type": "code",
   "execution_count": null,
   "metadata": {},
   "outputs": [],
   "source": []
  }
 ],
 "metadata": {
  "kernelspec": {
   "display_name": "Python 3 (ipykernel)",
   "language": "python",
   "name": "python3"
  },
  "language_info": {
   "codemirror_mode": {
    "name": "ipython",
    "version": 3
   },
   "file_extension": ".py",
   "mimetype": "text/x-python",
   "name": "python",
   "nbconvert_exporter": "python",
   "pygments_lexer": "ipython3",
   "version": "3.12.3"
  }
 },
 "nbformat": 4,
 "nbformat_minor": 2
}
